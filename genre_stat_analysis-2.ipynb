{
 "cells": [
  {
   "cell_type": "markdown",
   "source": "### Holiday Statistics Analysis\n#### Sharan Sokhi (ss1148)",
   "metadata": {
    "tags": [],
    "deepnote_to_be_reexecuted": false,
    "source_hash": "644549be",
    "execution_start": 1634512206835,
    "cell_id": "00000-8ec2208f-8d54-4202-8120-6600374dc19a",
    "deepnote_cell_type": "markdown"
   }
  },
  {
   "cell_type": "code",
   "metadata": {
    "tags": [],
    "deepnote_to_be_reexecuted": false,
    "source_hash": "ddde4279",
    "execution_start": 1638686159842,
    "execution_millis": 1951,
    "is_code_hidden": false,
    "cell_id": "00001-0a1ed442-dc25-4d90-abfd-b8645fff47da",
    "deepnote_cell_type": "code"
   },
   "source": "# Imports (update throughout as necessary)\nimport numpy as np\nimport pandas as pd\nimport seaborn as sns\nimport math\nimport matplotlib.pyplot as plt\npd.options.mode.chained_assignment = None\n\nfrom sklearn.linear_model import LogisticRegression\nfrom sklearn.metrics import accuracy_score\nfrom sklearn.metrics import plot_confusion_matrix\nfrom sklearn.linear_model import LinearRegression\nfrom sklearn.metrics import mean_squared_error\nfrom sklearn.metrics import r2_score\nimport matplotlib.pyplot as plt # just to format confusion matrix\n\nfrom sklearn.feature_selection import SequentialFeatureSelector\nfrom sklearn.neighbors import KNeighborsClassifier\n\nimport re\nfrom scipy import stats\nfrom statsmodels.stats.proportion import proportions_ztest",
   "outputs": [],
   "execution_count": null
  },
  {
   "cell_type": "markdown",
   "source": "#### Data loading and cleaning\n\nNotes:\n* No null values found\n* No duplicate values found",
   "metadata": {
    "tags": [],
    "cell_id": "00002-cc90712c-9dc9-4145-895c-1d0131d92e41",
    "deepnote_cell_type": "markdown"
   }
  },
  {
   "cell_type": "code",
   "metadata": {
    "tags": [],
    "deepnote_to_be_reexecuted": false,
    "source_hash": "f7f94194",
    "execution_start": 1638686161802,
    "execution_millis": 315,
    "is_code_hidden": false,
    "deepnote_output_heights": [
     228.65625
    ],
    "cell_id": "00003-278cc2d7-98f4-472f-8233-19b2d2782eb7",
    "deepnote_cell_type": "code"
   },
   "source": "# Data loading\ndata10 = pd.read_csv('./datasets/dataset-of-10s.csv')\ndata00 = pd.read_csv('./datasets/dataset-of-00s.csv')\ndata90 = pd.read_csv('./datasets/dataset-of-90s.csv')\ndata80 = pd.read_csv('./datasets/dataset-of-80s.csv')\ndata70 = pd.read_csv('./datasets/dataset-of-70s.csv')\ndata60 = pd.read_csv('./datasets/dataset-of-60s.csv')\n\n# Data cleaning\n\n# Drop all na values\ndata10 = data10.dropna()\ndata00 = data00.dropna()\ndata90 = data90.dropna()\ndata80 = data80.dropna()\ndata70 = data70.dropna()\ndata60 = data60.dropna()\n\n\n# Add a decades column to each dataset (will be helpful when creating cumulative dataset)\ndata10['decade'] = [2010]*len(data10)\ndata00['decade'] = [2000]*len(data00)\ndata90['decade'] = [1990]*len(data90)\ndata80['decade'] = [1980]*len(data80)\ndata70['decade'] = [1970]*len(data70)\ndata60['decade'] = [1960]*len(data60)\n\n# Check for duplicates in dataset\nmerged = data10.merge(data00,on=['track','artist'])\nmerged = merged.merge(data90,on=['track','artist'])\nmerged = merged.merge(data80,on=['track','artist'])\nmerged = merged.merge(data70,on=['track','artist'])\nmerged = merged.merge(data60,on=['track','artist'])\nmerged\n# NOTE: No duplicates found\n\n# Create cumulative dataset (from songs across all decades)\ndata = data10.append(data00,ignore_index=True).append(data90,ignore_index=True).append(data80,ignore_index=True).append(data70,ignore_index=True).append(data60,ignore_index=True)\ndata.head()\n#data.tail()\n\n# Add custom columns that will be useful later\n\n# Duration of song in seconds\ndata[\"duration_sec\"] = np.round(data[\"duration_ms\"]*(1/1000))\ndata[\"duration_sec\"]\n\n# Loudness of sound (rounded)\ndata[\"loudness_rounded\"] = np.round(data[\"loudness\"])\ndata[\"loudness_rounded\"]\n",
   "outputs": [
    {
     "output_type": "execute_result",
     "execution_count": 2,
     "data": {
      "text/plain": "0        -5.0\n1       -15.0\n2        -7.0\n3        -6.0\n4        -4.0\n         ... \n41101   -12.0\n41102    -6.0\n41103   -23.0\n41104    -8.0\n41105    -8.0\nName: loudness_rounded, Length: 41106, dtype: float64"
     },
     "metadata": {}
    }
   ],
   "execution_count": null
  },
  {
   "cell_type": "code",
   "source": "data['artist'] = data['artist'].str.replace(r\"\\(.*\\)\",\"\")\n\nfor i in range(len(data)):\n    data['artist'][i] = re.split(\" [fF][eE][aA][tT]\", data['artist'][i])[0]",
   "metadata": {
    "tags": [],
    "cell_id": "00004-c039aafc-e4c1-4c6f-a968-3e07902bab0f",
    "deepnote_to_be_reexecuted": false,
    "source_hash": "1bcca969",
    "execution_start": 1638686162122,
    "execution_millis": 20642,
    "deepnote_cell_type": "code"
   },
   "outputs": [
    {
     "name": "stderr",
     "text": "/shared-libs/python3.7/py-core/lib/python3.7/site-packages/ipykernel_launcher.py:1: FutureWarning: The default value of regex will change from True to False in a future version.\n  \"\"\"Entry point for launching an IPython kernel.\n",
     "output_type": "stream"
    }
   ],
   "execution_count": null
  },
  {
   "cell_type": "code",
   "metadata": {
    "tags": [],
    "deepnote_to_be_reexecuted": false,
    "source_hash": "841c653",
    "execution_start": 1638686182767,
    "execution_millis": 252,
    "is_code_hidden": false,
    "is_output_hidden": false,
    "cell_id": "00004-331251dc-74c8-4ac6-b387-90f1966a6886",
    "deepnote_cell_type": "code"
   },
   "source": "# Load the Genre Songs from the csv into respective dataframes\nchristmas_songs = pd.read_csv('./datasets/christmas_hits.csv')\ncountry_songs = pd.read_csv('./datasets/country_hits.csv')\n",
   "outputs": [],
   "execution_count": null
  },
  {
   "cell_type": "code",
   "source": "# Add a boolean value column indicating whether the song is in the playlist \"Christmas Hits\" by Spotify (https://open.spotify.com/playlist/37i9dQZF1DX0Yxoavh5qJV?si=96f9678a2982444d)\ndata['christmas'] = data.apply(lambda row: True if (row[\"track\"] in christmas_songs[\"Track name\"].tolist()) and (row[\"artist\"] in christmas_songs[\" Artist name\"].tolist()) else False, axis=1)\ndata['country'] = data.apply(lambda row: True if (row[\"track\"] in country_songs[\"Track name\"].tolist()) and (row[\"artist\"] in country_songs[\" Artist name\"].tolist()) else False, axis=1)\n\nprint(\"Christmas: \", len(data.loc[data['christmas'] == True]))\nprint(\"Country: \", len(data.loc[data['country'] == True]))\n",
   "metadata": {
    "tags": [],
    "cell_id": "00005-1ca9b1d5-6b13-411d-893e-dce5cfdf6042",
    "deepnote_to_be_reexecuted": false,
    "source_hash": "c5c3623",
    "execution_start": 1638686183023,
    "execution_millis": 1249,
    "deepnote_cell_type": "code"
   },
   "outputs": [
    {
     "name": "stdout",
     "text": "Christmas:  22\nCountry:  27\n",
     "output_type": "stream"
    }
   ],
   "execution_count": null
  },
  {
   "cell_type": "code",
   "source": "",
   "metadata": {
    "tags": [],
    "cell_id": "00007-2577a1c4-4d77-48b6-9823-fbf6d218edd0",
    "deepnote_to_be_reexecuted": false,
    "source_hash": "b623e53d",
    "execution_start": 1638686184275,
    "execution_millis": 1,
    "deepnote_cell_type": "code"
   },
   "outputs": [],
   "execution_count": null
  },
  {
   "cell_type": "code",
   "metadata": {
    "tags": [],
    "deepnote_to_be_reexecuted": false,
    "source_hash": "105408b5",
    "execution_start": 1638686364607,
    "execution_millis": 232,
    "cell_id": "00005-061fe6d4-872f-4a2a-a874-d5cda83be7fe",
    "deepnote_cell_type": "code"
   },
   "source": "mask_christmas = data[\"christmas\"] == True\n\nmask_non_christmas = data[\"christmas\"] == False\n\ncommon_christmas_songs = data[mask_christmas]\ncommon_christmas_songs.to_csv(\"./c_christmas.csv\")\ncommon_non_christmas_songs = data[mask_non_christmas]\n\nchristmas_hits = common_christmas_songs[common_christmas_songs[\"target\"] == 1]\nnon_christmas_hits =common_non_christmas_songs[common_non_christmas_songs[\"target\"] == 1]\n\nmask_christmas_mode = christmas_hits[\"mode\"] == 1\nmask_non_christmas_mode = non_christmas_hits[\"mode\"] == 1\n#non_christmas_sample = common_non_christmas_songs.sample(n=len(common_christmas_songs[\"mode\"]))\n\nproportion_happy_christmas = len(christmas_hits[mask_christmas_mode])/len(christmas_hits[\"mode\"])\n#proportion_happy_non_christmas = len(non_christmas_sample[mask_non_christmas_mode])/len(non_christmas_sample[\"mode\"])\n\nnum_bootstrap = 10000\nbootstrap_samples = np.random.choice(non_christmas_hits[\"mode\"], size=(num_bootstrap, len(christmas_hits[\"mode\"])), replace=True)\nsampling_proportions = np.average(bootstrap_samples, axis=1)\nnon_christmas_proportion_avg = np.average(sampling_proportions)\n\n# 51% percent men rank star wars\n\nsd_christmas = np.sqrt(proportion_happy_christmas*(1-proportion_happy_christmas))\nsd_non_christmas = np.sqrt(non_christmas_proportion_avg*(1-non_christmas_proportion_avg))\n\nnewpval = stats.ttest_ind_from_stats(mean1=proportion_happy_christmas, std1=sd_christmas, nobs1=len(christmas_hits[\"mode\"]), mean2=non_christmas_proportion_avg, std2=sd_non_christmas, nobs2=len(christmas_hits[\"mode\"]))\np_value_bootstrapping = newpval[1]/2\nprint(p_value_bootstrapping)\n",
   "outputs": [
    {
     "name": "stdout",
     "text": "0.10876236860567981\n",
     "output_type": "stream"
    }
   ],
   "execution_count": null
  },
  {
   "cell_type": "markdown",
   "source": "<a style='text-decoration:none;line-height:16px;display:flex;color:#5B5B62;padding:10px;justify-content:end;' href='https://deepnote.com?utm_source=created-in-deepnote-cell&projectId=162d76af-48a2-4f75-9aef-34643a48aa39' target=\"_blank\">\n<img alt='Created in deepnote.com' style='display:inline;max-height:16px;margin:0px;margin-right:7.5px;' src='data:image/svg+xml;base64,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' > </img>\nCreated in <span style='font-weight:600;margin-left:4px;'>Deepnote</span></a>",
   "metadata": {
    "tags": [],
    "created_in_deepnote_cell": true,
    "deepnote_cell_type": "markdown"
   }
  }
 ],
 "nbformat": 4,
 "nbformat_minor": 2,
 "metadata": {
  "orig_nbformat": 2,
  "deepnote": {
   "is_reactive": false
  },
  "deepnote_notebook_id": "114cd0f2-5020-402e-9dcd-851829c37020",
  "deepnote_execution_queue": []
 }
}