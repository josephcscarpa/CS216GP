{
 "cells": [
  {
   "cell_type": "markdown",
   "source": "### Holiday Statistics Analysis\n#### Sharan Sokhi (ss1148)",
   "metadata": {
    "tags": [],
    "deepnote_to_be_reexecuted": false,
    "source_hash": "644549be",
    "execution_start": 1634512206835,
    "cell_id": "00000-f69e135f-9800-43a3-a37c-6f184ff791ad",
    "deepnote_cell_type": "markdown"
   }
  },
  {
   "cell_type": "code",
   "metadata": {
    "tags": [],
    "deepnote_to_be_reexecuted": false,
    "source_hash": "ddde4279",
    "execution_start": 1638672408651,
    "execution_millis": 1382,
    "is_code_hidden": false,
    "cell_id": "00001-567ad11b-dbfd-4580-aa71-1536ca89fb6d",
    "deepnote_cell_type": "code"
   },
   "source": "# Imports (update throughout as necessary)\nimport numpy as np\nimport pandas as pd\nimport seaborn as sns\nimport math\nimport matplotlib.pyplot as plt\npd.options.mode.chained_assignment = None\n\nfrom sklearn.linear_model import LogisticRegression\nfrom sklearn.metrics import accuracy_score\nfrom sklearn.metrics import plot_confusion_matrix\nfrom sklearn.linear_model import LinearRegression\nfrom sklearn.metrics import mean_squared_error\nfrom sklearn.metrics import r2_score\nimport matplotlib.pyplot as plt # just to format confusion matrix\n\nfrom sklearn.feature_selection import SequentialFeatureSelector\nfrom sklearn.neighbors import KNeighborsClassifier\n\nimport re\nfrom scipy import stats\nfrom statsmodels.stats.proportion import proportions_ztest",
   "outputs": [],
   "execution_count": null
  },
  {
   "cell_type": "markdown",
   "source": "#### Data loading and cleaning\n\nNotes:\n* No null values found\n* No duplicate values found",
   "metadata": {
    "tags": [],
    "cell_id": "00002-5f19121f-42e9-476e-8372-5466a5a5a9d1",
    "deepnote_cell_type": "markdown"
   }
  },
  {
   "cell_type": "code",
   "metadata": {
    "tags": [],
    "deepnote_to_be_reexecuted": false,
    "source_hash": "f7f94194",
    "execution_start": 1638672410044,
    "execution_millis": 451,
    "is_code_hidden": false,
    "cell_id": "00003-ef20c01c-4e2b-4174-81d7-197716eddaf3",
    "deepnote_output_heights": [
     228.65625
    ],
    "deepnote_cell_type": "code"
   },
   "source": "# Data loading\ndata10 = pd.read_csv('./datasets/dataset-of-10s.csv')\ndata00 = pd.read_csv('./datasets/dataset-of-00s.csv')\ndata90 = pd.read_csv('./datasets/dataset-of-90s.csv')\ndata80 = pd.read_csv('./datasets/dataset-of-80s.csv')\ndata70 = pd.read_csv('./datasets/dataset-of-70s.csv')\ndata60 = pd.read_csv('./datasets/dataset-of-60s.csv')\n\n# Data cleaning\n\n# Drop all na values\ndata10 = data10.dropna()\ndata00 = data00.dropna()\ndata90 = data90.dropna()\ndata80 = data80.dropna()\ndata70 = data70.dropna()\ndata60 = data60.dropna()\n\n\n# Add a decades column to each dataset (will be helpful when creating cumulative dataset)\ndata10['decade'] = [2010]*len(data10)\ndata00['decade'] = [2000]*len(data00)\ndata90['decade'] = [1990]*len(data90)\ndata80['decade'] = [1980]*len(data80)\ndata70['decade'] = [1970]*len(data70)\ndata60['decade'] = [1960]*len(data60)\n\n# Check for duplicates in dataset\nmerged = data10.merge(data00,on=['track','artist'])\nmerged = merged.merge(data90,on=['track','artist'])\nmerged = merged.merge(data80,on=['track','artist'])\nmerged = merged.merge(data70,on=['track','artist'])\nmerged = merged.merge(data60,on=['track','artist'])\nmerged\n# NOTE: No duplicates found\n\n# Create cumulative dataset (from songs across all decades)\ndata = data10.append(data00,ignore_index=True).append(data90,ignore_index=True).append(data80,ignore_index=True).append(data70,ignore_index=True).append(data60,ignore_index=True)\ndata.head()\n#data.tail()\n\n# Add custom columns that will be useful later\n\n# Duration of song in seconds\ndata[\"duration_sec\"] = np.round(data[\"duration_ms\"]*(1/1000))\ndata[\"duration_sec\"]\n\n# Loudness of sound (rounded)\ndata[\"loudness_rounded\"] = np.round(data[\"loudness\"])\ndata[\"loudness_rounded\"]\n",
   "outputs": [
    {
     "output_type": "execute_result",
     "execution_count": 2,
     "data": {
      "text/plain": "0        -5.0\n1       -15.0\n2        -7.0\n3        -6.0\n4        -4.0\n         ... \n41101   -12.0\n41102    -6.0\n41103   -23.0\n41104    -8.0\n41105    -8.0\nName: loudness_rounded, Length: 41106, dtype: float64"
     },
     "metadata": {}
    }
   ],
   "execution_count": null
  },
  {
   "cell_type": "code",
   "metadata": {
    "tags": [],
    "deepnote_to_be_reexecuted": false,
    "source_hash": "aceab1b",
    "execution_start": 1638672410325,
    "execution_millis": 3621,
    "is_code_hidden": false,
    "is_output_hidden": false,
    "cell_id": "00007-c76d405a-b2d9-473a-bf87-57a42134c9d7",
    "deepnote_cell_type": "code"
   },
   "source": "data.to_csv(\"./data.csv\")\n\n#For a clean copy for genre analysis\ncData = data.copy()\nrData = data.copy()\n\n# Load the Genre Songs from the csv into respective dataframes\nchristmas_songs = pd.read_csv('./datasets/christmas_hits.csv')\ncountry_songs = pd.read_csv('./datasets/country_hits.csv')\nrb_songs = pd.read_csv('./datasets/rb_hits.csv')\nmetal_songs = pd.read_csv('./datasets/metal_hits.csv')\nhiphop_songs = pd.read_csv('./datasets/hiphop_hits.csv')\n\n# Add a boolean value column indicating whether the song is in the playlist \"Christmas Hits\" by Spotify (https://open.spotify.com/playlist/37i9dQZF1DX0Yxoavh5qJV?si=96f9678a2982444d)\ndata['christmas'] = data.apply(lambda row: True if (row[\"track\"] in christmas_songs[\"Track name\"].tolist()) and (row[\"artist\"] in christmas_songs[\" Artist name\"].tolist()) else False, axis=1)\ndata['country'] = data.apply(lambda row: True if (row[\"track\"] in country_songs[\"Track name\"].tolist()) and (row[\"artist\"] in country_songs[\" Artist name\"].tolist()) else False, axis=1)\ndata['rb'] = data.apply(lambda row: True if (row[\"track\"] in rb_songs[\"Track name\"].tolist()) and (row[\"artist\"] in rb_songs[\" Artist name\"].tolist()) else False, axis=1)\ndata['metal'] = data.apply(lambda row: True if (row[\"track\"] in metal_songs[\"Track name\"].tolist()) and (row[\"artist\"] in metal_songs[\" Artist name\"].tolist()) else False, axis=1)\ndata['hiphop'] = data.apply(lambda row: True if (row[\"track\"] in hiphop_songs[\"Track name\"].tolist()) and (row[\"artist\"] in hiphop_songs[\" Artist name\"].tolist()) else False, axis=1)\n\nprint(\"Christmas: \", len(data.loc[data['christmas'] == True]))\nprint(\"Country: \", len(data.loc[data['country'] == True]))\nprint(\"RB: \", len(data.loc[data['rb'] == True]))\nprint(\"Metal: \", len(data.loc[data['metal'] == True]))\nprint(\"Hip-Hop: \", len(data.loc[data['hiphop'] == True]))\n",
   "outputs": [
    {
     "name": "stdout",
     "text": "Christmas:  22\nCountry:  27\nRB:  10\nMetal:  9\nHip-Hop:  8\n",
     "output_type": "stream"
    }
   ],
   "execution_count": null
  },
  {
   "cell_type": "code",
   "metadata": {
    "tags": [],
    "cell_id": "00008-25315139-ac1d-441b-b64c-235f817f6081",
    "deepnote_to_be_reexecuted": false,
    "source_hash": "cece60bd",
    "execution_start": 1638672413953,
    "execution_millis": 20,
    "deepnote_cell_type": "code"
   },
   "source": "mask_christmas = data[\"christmas\"] == True\nmask_non_christmas = data[\"christmas\"] == False\n\ncommon_christmas_songs = data[mask_christmas]\ncommon_non_christmas_songs = data[mask_non_christmas]\n\nchristmas_hits = common_christmas_songs[common_christmas_songs[\"target\"] == 1]\nnon_christmas_hits =common_non_christmas_songs[common_non_christmas_songs[\"target\"] == 1]\n\nmask_christmas_mode = christmas_hits[\"mode\"] == 1\nmask_non_christmas_mode = non_christmas_hits[\"mode\"] == 1\n#non_christmas_sample = common_non_christmas_songs.sample(n=len(common_christmas_songs[\"mode\"]))\n\nproportion_happy_christmas = len(christmas_hits[mask_christmas_mode])/len(christmas_hits[\"mode\"])\n#proportion_happy_non_christmas = len(non_christmas_sample[mask_non_christmas_mode])/len(non_christmas_sample[\"mode\"])\n\nnum_bootstrap = 10000\nbootstrap_samples = np.random.choice(non_christmas_hits[\"mode\"], size=(num_bootstrap, len(christmas_hits[\"mode\"])), replace=True)\nsampling_proportions = np.average(bootstrap_samples, axis=1)\nnon_christmas_proportion_avg = np.average(sampling_proportions)\n\n# 51% percent men rank star wars\n\nsd_christmas = np.sqrt(proportion_happy_christmas*(1-proportion_happy_christmas))\nsd_non_christmas = np.sqrt(non_christmas_proportion_avg*(1-non_christmas_proportion_avg))\n\nnewpval = stats.ttest_ind_from_stats(mean1=proportion_happy_christmas, std1=sd_christmas, nobs1=len(christmas_hits[\"mode\"]), mean2=non_christmas_proportion_avg, std2=sd_non_christmas, nobs2=len(christmas_hits[\"mode\"]))\np_value_bootstrapping = newpval[1]/2\nprint(p_value_bootstrapping)\n\n# Null hypothesis: True Proportion of happy in Christmas = True Proportion of happy in non-christmas\n# P(christmas) = P(non-christmas), p = proportions\n# P(christmas) - P(non-christmas) = 0\n# P(non-christmas) = 0.90\n\n# Alternative hypothesis: True Proportion of happy in Christmas > True Proportion of happy in non-christmas\n# P(christmas) > P(non-christmas), p = proportion\n# P(christmas) - P(non-christmas) > 0\n\n# Find the SD using BRV = P(1-P), \n# SD - Christmas: P = #happy/total# = 20/22\n\n#sd_christmas = np.std(common_christmas_songs[mask_christmas_mode][\"mode\"])\n#sd_non_christmas = np.std(non_christmas_sample[mask_non_christmas_mode][\"mode\"])\n#standard_error = np.sqrt((sd_christmas/len(common_christmas_songs[\"mode\"]))+(sd_non_christmas/len(non_christmas_sample[\"mode\"])))\n#p_val = 1-stats.t.cdf((proportion_happy_christmas-proportion_happy_non_christmas)/standard_error, df=len(common_christmas_songs[\"mode\"])+len(non_christmas_sample[\"mode\"])-2)\n#print(p_val)\n\n#newpval = stats.ttest_ind_from_stats(mean1=proportion_happy_christmas, std1=sd_christmas, nobs1=len(common_christmas_songs[\"mode\"]), mean2=proportion_happy_non_christmas, std2=sd_non_christmas, nobs2=len(non_christmas_sample[\"mode\"]))\n\n\n# 1. SDs are 0 cause it's a boolean value. is this ok?\n# 2. P-value is 0? \n# 3. Could I use bootstrapping? \n# 4. what about (christmas) - P(non-christmas) > 0.4(?). Why not (christmas) - P(non-christmas) > 0\n\n# https://stattrek.com/hypothesis-test/difference-in-proportions.aspx\n#p = (proportion_happy_christmas * len(common_christmas_songs[\"mode\"]) + proportion_happy_non_christmas * len(non_christmas_sample[\"mode\"])) / (len(common_christmas_songs[\"mode\"]) + len(non_christmas_sample[\"mode\"]))\n#se = np.sqrt(p*(1-p)*((1/len(common_christmas_songs[\"mode\"]) + (1/len(non_christmas_sample[\"mode\"])))))\n#z = (proportion_happy_christmas-proportion_happy_non_christmas)/se\n#pval = 0.997\n\n#pval < 0.05 alpha level means reject null in favour of alterantive\n#pval > 0.05 alpha level means fail to reject null",
   "outputs": [
    {
     "name": "stdout",
     "text": "0.1123859767639733\n",
     "output_type": "stream"
    }
   ],
   "execution_count": null
  },
  {
   "cell_type": "code",
   "metadata": {
    "tags": [],
    "cell_id": "00009-f3884b29-8013-4e07-81b0-b82315c8900d",
    "deepnote_to_be_reexecuted": false,
    "source_hash": "3a55a402",
    "execution_start": 1638672413977,
    "execution_millis": 167,
    "is_code_hidden": false,
    "deepnote_cell_type": "code"
   },
   "source": "from statsmodels.stats.proportion import proportions_ztest\nimport numpy as np\n\n# Alpha Level\nsignificance = 0.05\n\n# c = christmas\n# nc = non-christmas\nsample_success_c, sample_size_c = (len(common_christmas_songs[mask_christmas_mode]), len(common_christmas_songs[\"mode\"]))\nsample_success_nc, sample_size_nc = (len(non_christmas_sample[mask_non_christmas_mode]), len(non_christmas_sample[\"mode\"]))\n\n# check our sample against Ho for Ha != Ho\nsuccesses = np.array([sample_success_c, sample_success_nc])\nsamples = np.array([sample_size_c, sample_size_nc])\n\n# note, no need for a Ho value here - it's derived from the other parameters\nstat, p_value = proportions_ztest(count=successes, nobs=samples, alternative='two-sided')\n\n# report\nprint('z_stat: %0.3f, p_value: %0.3f' % (stat, p_value))\n\nif p_value > significance:\n   print (\"Fail to reject the null hypothesis - we have nothing else to say\")\nelse:\n   print (\"Reject the null hypothesis - suggest the alternative hypothesis is true\")",
   "outputs": [
    {
     "name": "stderr",
     "text": "/shared-libs/python3.7/py-core/lib/python3.7/site-packages/ipykernel_launcher.py:9: UserWarning: Boolean Series key will be reindexed to match DataFrame index.\n  if __name__ == '__main__':\n",
     "output_type": "stream"
    },
    {
     "output_type": "error",
     "ename": "IndexingError",
     "evalue": "Unalignable boolean Series provided as indexer (index of the boolean Series and of the indexed object do not match).",
     "traceback": [
      "\u001b[0;31m---------------------------------------------------------------------------\u001b[0m",
      "\u001b[0;31mIndexingError\u001b[0m                             Traceback (most recent call last)",
      "\u001b[0;32m<ipython-input-5-d75be0c43c25>\u001b[0m in \u001b[0;36m<module>\u001b[0;34m\u001b[0m\n\u001b[1;32m      7\u001b[0m \u001b[0;31m# c = christmas\u001b[0m\u001b[0;34m\u001b[0m\u001b[0;34m\u001b[0m\u001b[0;34m\u001b[0m\u001b[0m\n\u001b[1;32m      8\u001b[0m \u001b[0;31m# nc = non-christmas\u001b[0m\u001b[0;34m\u001b[0m\u001b[0;34m\u001b[0m\u001b[0;34m\u001b[0m\u001b[0m\n\u001b[0;32m----> 9\u001b[0;31m \u001b[0msample_success_c\u001b[0m\u001b[0;34m,\u001b[0m \u001b[0msample_size_c\u001b[0m \u001b[0;34m=\u001b[0m \u001b[0;34m(\u001b[0m\u001b[0mlen\u001b[0m\u001b[0;34m(\u001b[0m\u001b[0mcommon_christmas_songs\u001b[0m\u001b[0;34m[\u001b[0m\u001b[0mmask_christmas_mode\u001b[0m\u001b[0;34m]\u001b[0m\u001b[0;34m)\u001b[0m\u001b[0;34m,\u001b[0m \u001b[0mlen\u001b[0m\u001b[0;34m(\u001b[0m\u001b[0mcommon_christmas_songs\u001b[0m\u001b[0;34m[\u001b[0m\u001b[0;34m\"mode\"\u001b[0m\u001b[0;34m]\u001b[0m\u001b[0;34m)\u001b[0m\u001b[0;34m)\u001b[0m\u001b[0;34m\u001b[0m\u001b[0;34m\u001b[0m\u001b[0m\n\u001b[0m\u001b[1;32m     10\u001b[0m \u001b[0msample_success_nc\u001b[0m\u001b[0;34m,\u001b[0m \u001b[0msample_size_nc\u001b[0m \u001b[0;34m=\u001b[0m \u001b[0;34m(\u001b[0m\u001b[0mlen\u001b[0m\u001b[0;34m(\u001b[0m\u001b[0mnon_christmas_sample\u001b[0m\u001b[0;34m[\u001b[0m\u001b[0mmask_non_christmas_mode\u001b[0m\u001b[0;34m]\u001b[0m\u001b[0;34m)\u001b[0m\u001b[0;34m,\u001b[0m \u001b[0mlen\u001b[0m\u001b[0;34m(\u001b[0m\u001b[0mnon_christmas_sample\u001b[0m\u001b[0;34m[\u001b[0m\u001b[0;34m\"mode\"\u001b[0m\u001b[0;34m]\u001b[0m\u001b[0;34m)\u001b[0m\u001b[0;34m)\u001b[0m\u001b[0;34m\u001b[0m\u001b[0;34m\u001b[0m\u001b[0m\n\u001b[1;32m     11\u001b[0m \u001b[0;34m\u001b[0m\u001b[0m\n",
      "\u001b[0;32m/shared-libs/python3.7/py/lib/python3.7/site-packages/pandas/core/frame.py\u001b[0m in \u001b[0;36m__getitem__\u001b[0;34m(self, key)\u001b[0m\n\u001b[1;32m   3013\u001b[0m         \u001b[0;31m# Do we have a (boolean) 1d indexer?\u001b[0m\u001b[0;34m\u001b[0m\u001b[0;34m\u001b[0m\u001b[0;34m\u001b[0m\u001b[0m\n\u001b[1;32m   3014\u001b[0m         \u001b[0;32mif\u001b[0m \u001b[0mcom\u001b[0m\u001b[0;34m.\u001b[0m\u001b[0mis_bool_indexer\u001b[0m\u001b[0;34m(\u001b[0m\u001b[0mkey\u001b[0m\u001b[0;34m)\u001b[0m\u001b[0;34m:\u001b[0m\u001b[0;34m\u001b[0m\u001b[0;34m\u001b[0m\u001b[0m\n\u001b[0;32m-> 3015\u001b[0;31m             \u001b[0;32mreturn\u001b[0m \u001b[0mself\u001b[0m\u001b[0;34m.\u001b[0m\u001b[0m_getitem_bool_array\u001b[0m\u001b[0;34m(\u001b[0m\u001b[0mkey\u001b[0m\u001b[0;34m)\u001b[0m\u001b[0;34m\u001b[0m\u001b[0;34m\u001b[0m\u001b[0m\n\u001b[0m\u001b[1;32m   3016\u001b[0m \u001b[0;34m\u001b[0m\u001b[0m\n\u001b[1;32m   3017\u001b[0m         \u001b[0;31m# We are left with two options: a single key, and a collection of keys,\u001b[0m\u001b[0;34m\u001b[0m\u001b[0;34m\u001b[0m\u001b[0;34m\u001b[0m\u001b[0m\n",
      "\u001b[0;32m/shared-libs/python3.7/py/lib/python3.7/site-packages/pandas/core/frame.py\u001b[0m in \u001b[0;36m_getitem_bool_array\u001b[0;34m(self, key)\u001b[0m\n\u001b[1;32m   3066\u001b[0m         \u001b[0;31m# check_bool_indexer will throw exception if Series key cannot\u001b[0m\u001b[0;34m\u001b[0m\u001b[0;34m\u001b[0m\u001b[0;34m\u001b[0m\u001b[0m\n\u001b[1;32m   3067\u001b[0m         \u001b[0;31m# be reindexed to match DataFrame rows\u001b[0m\u001b[0;34m\u001b[0m\u001b[0;34m\u001b[0m\u001b[0;34m\u001b[0m\u001b[0m\n\u001b[0;32m-> 3068\u001b[0;31m         \u001b[0mkey\u001b[0m \u001b[0;34m=\u001b[0m \u001b[0mcheck_bool_indexer\u001b[0m\u001b[0;34m(\u001b[0m\u001b[0mself\u001b[0m\u001b[0;34m.\u001b[0m\u001b[0mindex\u001b[0m\u001b[0;34m,\u001b[0m \u001b[0mkey\u001b[0m\u001b[0;34m)\u001b[0m\u001b[0;34m\u001b[0m\u001b[0;34m\u001b[0m\u001b[0m\n\u001b[0m\u001b[1;32m   3069\u001b[0m         \u001b[0mindexer\u001b[0m \u001b[0;34m=\u001b[0m \u001b[0mkey\u001b[0m\u001b[0;34m.\u001b[0m\u001b[0mnonzero\u001b[0m\u001b[0;34m(\u001b[0m\u001b[0;34m)\u001b[0m\u001b[0;34m[\u001b[0m\u001b[0;36m0\u001b[0m\u001b[0;34m]\u001b[0m\u001b[0;34m\u001b[0m\u001b[0;34m\u001b[0m\u001b[0m\n\u001b[1;32m   3070\u001b[0m         \u001b[0;32mreturn\u001b[0m \u001b[0mself\u001b[0m\u001b[0;34m.\u001b[0m\u001b[0m_take_with_is_copy\u001b[0m\u001b[0;34m(\u001b[0m\u001b[0mindexer\u001b[0m\u001b[0;34m,\u001b[0m \u001b[0maxis\u001b[0m\u001b[0;34m=\u001b[0m\u001b[0;36m0\u001b[0m\u001b[0;34m)\u001b[0m\u001b[0;34m\u001b[0m\u001b[0;34m\u001b[0m\u001b[0m\n",
      "\u001b[0;32m/shared-libs/python3.7/py/lib/python3.7/site-packages/pandas/core/indexing.py\u001b[0m in \u001b[0;36mcheck_bool_indexer\u001b[0;34m(index, key)\u001b[0m\n\u001b[1;32m   2268\u001b[0m         \u001b[0;32mif\u001b[0m \u001b[0mmask\u001b[0m\u001b[0;34m.\u001b[0m\u001b[0many\u001b[0m\u001b[0;34m(\u001b[0m\u001b[0;34m)\u001b[0m\u001b[0;34m:\u001b[0m\u001b[0;34m\u001b[0m\u001b[0;34m\u001b[0m\u001b[0m\n\u001b[1;32m   2269\u001b[0m             raise IndexingError(\n\u001b[0;32m-> 2270\u001b[0;31m                 \u001b[0;34m\"Unalignable boolean Series provided as \"\u001b[0m\u001b[0;34m\u001b[0m\u001b[0;34m\u001b[0m\u001b[0m\n\u001b[0m\u001b[1;32m   2271\u001b[0m                 \u001b[0;34m\"indexer (index of the boolean Series and of \"\u001b[0m\u001b[0;34m\u001b[0m\u001b[0;34m\u001b[0m\u001b[0m\n\u001b[1;32m   2272\u001b[0m                 \u001b[0;34m\"the indexed object do not match).\"\u001b[0m\u001b[0;34m\u001b[0m\u001b[0;34m\u001b[0m\u001b[0m\n",
      "\u001b[0;31mIndexingError\u001b[0m: Unalignable boolean Series provided as indexer (index of the boolean Series and of the indexed object do not match)."
     ]
    }
   ],
   "execution_count": null
  },
  {
   "cell_type": "code",
   "metadata": {
    "tags": [],
    "cell_id": "00007-e69b7af8-eb06-4d1b-8743-b85f3cc4d81d",
    "deepnote_to_be_reexecuted": true,
    "source_hash": "b1a3fc",
    "execution_start": 1636348374848,
    "execution_millis": 4,
    "deepnote_cell_type": "code"
   },
   "source": "# Country Songs Vs. Instrumentalness\n\n# Hypothesis: \n# Null: Difference of means = 0\n# Alternative: Mean instrumentalness of Country > Mean instrumentalness of non-country\n\nmask_country = data[\"country\"] == True\nmask_non_country = data[\"country\"] == False\n\ncommon_country_songs = data[mask_country]\ncommon_non_country_songs = data[mask_non_country]\n\ncountry_hits = common_country_songs[common_country_songs[\"target\"]==1]\nnon_country_hits = common_non_country_songs[common_non_country_songs[\"target\"]==1]\n\nmean_instrumental_country = np.average(country_hits[\"instrumentalness\"])\n\nnum_bootstrap = 10000\nbootstrap_samples_country = np.random.choice(non_country_hits[\"instrumentalness\"], size=(num_bootstrap, len(country_hits[\"instrumentalness\"])), replace=True)\nsampling_proportions_country = np.average(bootstrap_samples_country, axis=1)\nmean_instrumental_non_country = np.average(sampling_proportions_country)\n\ncountry_sd = np.std(country_hits[\"instrumentalness\"])\nnon_country_sd = np.std(non_country_hits[\"instrumentalness\"])\n\nnewpval_country = stats.ttest_ind_from_stats(mean1=mean_instrumental_country, std1=country_sd, nobs1=len(country_hits[\"instrumentalness\"]), mean2=mean_instrumental_non_country, std2=non_country_sd, nobs2=len(country_hits[\"instrumentalness\"]))\np_value_bootstrapping_country = newpval_country[1]/2\nprint(p_value_bootstrapping_country)\n\n#p-val is more than 0.05, so we fail to reject the null",
   "execution_count": null,
   "outputs": [
    {
     "name": "stdout",
     "text": "0.11331717189302797\n",
     "output_type": "stream"
    }
   ]
  },
  {
   "cell_type": "code",
   "metadata": {
    "tags": [],
    "cell_id": "00008-86859786-390f-4b8d-adec-1fc0c838a6e1",
    "deepnote_to_be_reexecuted": true,
    "source_hash": "c93893bf",
    "execution_start": 1636349627351,
    "execution_millis": 540,
    "deepnote_cell_type": "code"
   },
   "source": "# Instrumental Vs. Tempo \ndata['isInstrumental'] = data.apply(lambda row: True if (row[\"instrumentalness\"]>0.5) else False, axis=1)\n\n# Mean tempo of instrumental songs = Mean tempo of non instrumental songs\n# Mean tempo of instrumental songs not equal to mean tempo of non-instrumental songs\n\nmask_instrumental = data[\"isInstrumental\"] == True\nmask_non_instrumental = data[\"isInstrumental\"] == False\n\ncommon_instrumental_songs = data[mask_instrumental]\ncommon_non_instrumental_songs = data[mask_non_instrumental]\n\ninstrumental_hits = common_instrumental_songs[common_instrumental_songs[\"target\"]==1]\nnon_instrumental_hits = common_non_instrumental_songs[common_non_instrumental_songs[\"target\"]==1]\n\nmean_tempo_instrumental = np.average(instrumental_hits[\"tempo\"])\n\nnum_bootstrap = 10000\nbootstrap_samples_instrumental = np.random.choice(non_instrumental_hits[\"tempo\"], size=(num_bootstrap, len(instrumental_hits[\"tempo\"])), replace=True)\nsampling_proportions_instrumental = np.average(bootstrap_samples_instrumental, axis=1)\nmean_tempo_non_instrumental = np.average(sampling_proportions_instrumental)\n\ninstrumental_sd = np.std(instrumental_hits[\"tempo\"])\nnon_instrumental_sd = np.std(non_instrumental_hits[\"tempo\"])\n\nnewpval_instrumental = stats.ttest_ind_from_stats(mean1=mean_tempo_instrumental, std1=instrumental_sd, nobs1=len(instrumental_hits[\"tempo\"]), mean2=mean_tempo_non_instrumental, std2=non_instrumental_sd, nobs2=len(instrumental_hits[\"tempo\"]))\np_value_bootstrapping_instrumental = newpval_instrumental[1] #No need to divide by 2 as it is a 2 tailed-test\nprint(p_value_bootstrapping_instrumental)\n\n# BECAUSE WHEN U HAVE A SINGER (LESS INSTRU) - SINGING, CAN'T GO TO FAST CAUSE OF BREATHING \n\n#p-val is more than 0.05, so we fail to reject the null",
   "execution_count": null,
   "outputs": [
    {
     "name": "stdout",
     "text": "0.5190127994561866\n",
     "output_type": "stream"
    }
   ]
  },
  {
   "cell_type": "markdown",
   "source": "### Country Data Analysis",
   "metadata": {
    "tags": [],
    "cell_id": "00009-eba2ec31-0b65-46a2-b747-924e868769e6",
    "deepnote_cell_type": "markdown"
   }
  },
  {
   "cell_type": "code",
   "metadata": {
    "tags": [],
    "cell_id": "00010-d47534c1-fc1c-4bdd-a757-b64cf9c1922e",
    "deepnote_to_be_reexecuted": true,
    "source_hash": "400487c0",
    "execution_start": 1636345699140,
    "execution_millis": 114,
    "is_code_hidden": false,
    "is_output_hidden": false,
    "deepnote_cell_type": "code"
   },
   "source": "\ncountry = country.rename(columns = {\"Track name\": \"track\"})\n\ncountryData = pd.merge(cData, country, on = \"track\", how = 'inner')\n\ncountryData = countryData.drop([\" Artist name\", \" Album\", \" Playlist name\", \" Type\", \" ISRC\"], axis = 1)\ncountryData['country'] = True\ncountryData",
   "execution_count": null,
   "outputs": [
    {
     "output_type": "error",
     "ename": "NameError",
     "evalue": "name 'country' is not defined",
     "traceback": [
      "\u001b[0;31m---------------------------------------------------------------------------\u001b[0m",
      "\u001b[0;31mNameError\u001b[0m                                 Traceback (most recent call last)",
      "\u001b[0;32m<ipython-input-7-2973a300f94e>\u001b[0m in \u001b[0;36m<module>\u001b[0;34m\u001b[0m\n\u001b[0;32m----> 1\u001b[0;31m \u001b[0mcountry\u001b[0m \u001b[0;34m=\u001b[0m \u001b[0mcountry\u001b[0m\u001b[0;34m.\u001b[0m\u001b[0mrename\u001b[0m\u001b[0;34m(\u001b[0m\u001b[0mcolumns\u001b[0m \u001b[0;34m=\u001b[0m \u001b[0;34m{\u001b[0m\u001b[0;34m\"Track name\"\u001b[0m\u001b[0;34m:\u001b[0m \u001b[0;34m\"track\"\u001b[0m\u001b[0;34m}\u001b[0m\u001b[0;34m)\u001b[0m\u001b[0;34m\u001b[0m\u001b[0;34m\u001b[0m\u001b[0m\n\u001b[0m\u001b[1;32m      2\u001b[0m \u001b[0;34m\u001b[0m\u001b[0m\n\u001b[1;32m      3\u001b[0m \u001b[0mcountryData\u001b[0m \u001b[0;34m=\u001b[0m \u001b[0mpd\u001b[0m\u001b[0;34m.\u001b[0m\u001b[0mmerge\u001b[0m\u001b[0;34m(\u001b[0m\u001b[0mcData\u001b[0m\u001b[0;34m,\u001b[0m \u001b[0mcountry\u001b[0m\u001b[0;34m,\u001b[0m \u001b[0mon\u001b[0m \u001b[0;34m=\u001b[0m \u001b[0;34m\"track\"\u001b[0m\u001b[0;34m,\u001b[0m \u001b[0mhow\u001b[0m \u001b[0;34m=\u001b[0m \u001b[0;34m'inner'\u001b[0m\u001b[0;34m)\u001b[0m\u001b[0;34m\u001b[0m\u001b[0;34m\u001b[0m\u001b[0m\n\u001b[1;32m      4\u001b[0m \u001b[0;34m\u001b[0m\u001b[0m\n\u001b[1;32m      5\u001b[0m \u001b[0mcountryData\u001b[0m \u001b[0;34m=\u001b[0m \u001b[0mcountryData\u001b[0m\u001b[0;34m.\u001b[0m\u001b[0mdrop\u001b[0m\u001b[0;34m(\u001b[0m\u001b[0;34m[\u001b[0m\u001b[0;34m\" Artist name\"\u001b[0m\u001b[0;34m,\u001b[0m \u001b[0;34m\" Album\"\u001b[0m\u001b[0;34m,\u001b[0m \u001b[0;34m\" Playlist name\"\u001b[0m\u001b[0;34m,\u001b[0m \u001b[0;34m\" Type\"\u001b[0m\u001b[0;34m,\u001b[0m \u001b[0;34m\" ISRC\"\u001b[0m\u001b[0;34m]\u001b[0m\u001b[0;34m,\u001b[0m \u001b[0maxis\u001b[0m \u001b[0;34m=\u001b[0m \u001b[0;36m1\u001b[0m\u001b[0;34m)\u001b[0m\u001b[0;34m\u001b[0m\u001b[0;34m\u001b[0m\u001b[0m\n",
      "\u001b[0;31mNameError\u001b[0m: name 'country' is not defined"
     ]
    }
   ]
  },
  {
   "cell_type": "code",
   "metadata": {
    "tags": [],
    "cell_id": "00010-5d4fa5ed-06c3-4b73-bdb6-f42037f5223c",
    "deepnote_to_be_reexecuted": true,
    "source_hash": "be796021",
    "execution_start": 1636234061614,
    "execution_millis": 772,
    "is_output_hidden": false,
    "is_code_hidden": false,
    "deepnote_cell_type": "code"
   },
   "source": "np.random.seed(101)\n\n\ncData['country'] = cData.apply(lambda row: True if (row[\"track\"] in country[\"track\"].tolist()) and (row[\"artist\"] in country[\" Artist name\"].tolist()) else False, axis=1)\ncData = cData.loc[cData['target'] == 1].reset_index(drop=True)\ncData = cData.loc[cData['country'] == False].reset_index(drop=True)\ncData\nnCountryRowIndices = np.random.randint(len(cData), size= 200).tolist()\n\nnCountry = cData.iloc[nCountryRowIndices , :].reset_index(drop = True)\n\nsampleData = pd.concat([nCountry, countryData]).reset_index(drop = True)\nsampleData\n",
   "execution_count": null,
   "outputs": [
    {
     "output_type": "execute_result",
     "execution_count": 162,
     "data": {
      "application/vnd.deepnote.dataframe.v2+json": {
       "row_count": 258,
       "column_count": 24,
       "columns": [
        {
         "name": "track",
         "dtype": "object",
         "stats": {
          "unique_count": 237,
          "nan_count": 0,
          "categories": [
           {
            "name": "Home",
            "count": 8
           },
           {
            "name": "Trouble",
            "count": 5
           },
           {
            "name": "235 others",
            "count": 245
           }
          ]
         }
        },
        {
         "name": "artist",
         "dtype": "object",
         "stats": {
          "unique_count": 240,
          "nan_count": 0,
          "categories": [
           {
            "name": "Kenny Chesney",
            "count": 6
           },
           {
            "name": "Rascal Flatts",
            "count": 3
           },
           {
            "name": "238 others",
            "count": 249
           }
          ]
         }
        },
        {
         "name": "uri",
         "dtype": "object",
         "stats": {
          "unique_count": 257,
          "nan_count": 0,
          "categories": [
           {
            "name": "spotify:track:3MPZOtMvBoxAIRUkgux87d",
            "count": 2
           },
           {
            "name": "spotify:track:7tCim0aGAMujZuMicXAh5d",
            "count": 1
           },
           {
            "name": "255 others",
            "count": 255
           }
          ]
         }
        },
        {
         "name": "danceability",
         "dtype": "float64",
         "stats": {
          "unique_count": 208,
          "nan_count": 0,
          "min": "0.155",
          "max": "0.96",
          "histogram": [
           {
            "bin_start": 0.155,
            "bin_end": 0.2355,
            "count": 3
           },
           {
            "bin_start": 0.2355,
            "bin_end": 0.31599999999999995,
            "count": 5
           },
           {
            "bin_start": 0.31599999999999995,
            "bin_end": 0.39649999999999996,
            "count": 13
           },
           {
            "bin_start": 0.39649999999999996,
            "bin_end": 0.477,
            "count": 23
           },
           {
            "bin_start": 0.477,
            "bin_end": 0.5575,
            "count": 40
           },
           {
            "bin_start": 0.5575,
            "bin_end": 0.6379999999999999,
            "count": 53
           },
           {
            "bin_start": 0.6379999999999999,
            "bin_end": 0.7184999999999999,
            "count": 63
           },
           {
            "bin_start": 0.7184999999999999,
            "bin_end": 0.7989999999999999,
            "count": 36
           },
           {
            "bin_start": 0.7989999999999999,
            "bin_end": 0.8795,
            "count": 17
           },
           {
            "bin_start": 0.8795,
            "bin_end": 0.96,
            "count": 5
           }
          ]
         }
        },
        {
         "name": "energy",
         "dtype": "float64",
         "stats": {
          "unique_count": 221,
          "nan_count": 0,
          "min": "0.152",
          "max": "0.995",
          "histogram": [
           {
            "bin_start": 0.152,
            "bin_end": 0.2363,
            "count": 8
           },
           {
            "bin_start": 0.2363,
            "bin_end": 0.3206,
            "count": 11
           },
           {
            "bin_start": 0.3206,
            "bin_end": 0.40490000000000004,
            "count": 12
           },
           {
            "bin_start": 0.40490000000000004,
            "bin_end": 0.48919999999999997,
            "count": 32
           },
           {
            "bin_start": 0.48919999999999997,
            "bin_end": 0.5735,
            "count": 28
           },
           {
            "bin_start": 0.5735,
            "bin_end": 0.6578,
            "count": 28
           },
           {
            "bin_start": 0.6578,
            "bin_end": 0.7421,
            "count": 49
           },
           {
            "bin_start": 0.7421,
            "bin_end": 0.8264,
            "count": 38
           },
           {
            "bin_start": 0.8264,
            "bin_end": 0.9107000000000001,
            "count": 33
           },
           {
            "bin_start": 0.9107000000000001,
            "bin_end": 0.995,
            "count": 19
           }
          ]
         }
        },
        {
         "name": "key",
         "dtype": "int64",
         "stats": {
          "unique_count": 12,
          "nan_count": 0,
          "min": "0",
          "max": "11",
          "histogram": [
           {
            "bin_start": 0,
            "bin_end": 1.1,
            "count": 44
           },
           {
            "bin_start": 1.1,
            "bin_end": 2.2,
            "count": 24
           },
           {
            "bin_start": 2.2,
            "bin_end": 3.3000000000000003,
            "count": 11
           },
           {
            "bin_start": 3.3000000000000003,
            "bin_end": 4.4,
            "count": 21
           },
           {
            "bin_start": 4.4,
            "bin_end": 5.5,
            "count": 19
           },
           {
            "bin_start": 5.5,
            "bin_end": 6.6000000000000005,
            "count": 17
           },
           {
            "bin_start": 6.6000000000000005,
            "bin_end": 7.700000000000001,
            "count": 40
           },
           {
            "bin_start": 7.700000000000001,
            "bin_end": 8.8,
            "count": 18
           },
           {
            "bin_start": 8.8,
            "bin_end": 9.9,
            "count": 26
           },
           {
            "bin_start": 9.9,
            "bin_end": 11,
            "count": 38
           }
          ]
         }
        },
        {
         "name": "loudness",
         "dtype": "float64",
         "stats": {
          "unique_count": 251,
          "nan_count": 0,
          "min": "-19.104",
          "max": "-1.169",
          "histogram": [
           {
            "bin_start": -19.104,
            "bin_end": -17.310499999999998,
            "count": 2
           },
           {
            "bin_start": -17.310499999999998,
            "bin_end": -15.517,
            "count": 4
           },
           {
            "bin_start": -15.517,
            "bin_end": -13.7235,
            "count": 12
           },
           {
            "bin_start": -13.7235,
            "bin_end": -11.93,
            "count": 23
           },
           {
            "bin_start": -11.93,
            "bin_end": -10.1365,
            "count": 32
           },
           {
            "bin_start": -10.1365,
            "bin_end": -8.343,
            "count": 47
           },
           {
            "bin_start": -8.343,
            "bin_end": -6.5495,
            "count": 49
           },
           {
            "bin_start": -6.5495,
            "bin_end": -4.756,
            "count": 52
           },
           {
            "bin_start": -4.756,
            "bin_end": -2.9624999999999986,
            "count": 30
           },
           {
            "bin_start": -2.9624999999999986,
            "bin_end": -1.169,
            "count": 7
           }
          ]
         }
        },
        {
         "name": "mode",
         "dtype": "int64",
         "stats": {
          "unique_count": 2,
          "nan_count": 0,
          "min": "0",
          "max": "1",
          "histogram": [
           {
            "bin_start": 0,
            "bin_end": 0.1,
            "count": 63
           },
           {
            "bin_start": 0.1,
            "bin_end": 0.2,
            "count": 0
           },
           {
            "bin_start": 0.2,
            "bin_end": 0.30000000000000004,
            "count": 0
           },
           {
            "bin_start": 0.30000000000000004,
            "bin_end": 0.4,
            "count": 0
           },
           {
            "bin_start": 0.4,
            "bin_end": 0.5,
            "count": 0
           },
           {
            "bin_start": 0.5,
            "bin_end": 0.6000000000000001,
            "count": 0
           },
           {
            "bin_start": 0.6000000000000001,
            "bin_end": 0.7000000000000001,
            "count": 0
           },
           {
            "bin_start": 0.7000000000000001,
            "bin_end": 0.8,
            "count": 0
           },
           {
            "bin_start": 0.8,
            "bin_end": 0.9,
            "count": 0
           },
           {
            "bin_start": 0.9,
            "bin_end": 1,
            "count": 195
           }
          ]
         }
        },
        {
         "name": "speechiness",
         "dtype": "float64",
         "stats": {
          "unique_count": 192,
          "nan_count": 0,
          "min": "0.0249",
          "max": "0.45",
          "histogram": [
           {
            "bin_start": 0.0249,
            "bin_end": 0.06741,
            "count": 196
           },
           {
            "bin_start": 0.06741,
            "bin_end": 0.10992000000000002,
            "count": 24
           },
           {
            "bin_start": 0.10992000000000002,
            "bin_end": 0.15243000000000004,
            "count": 12
           },
           {
            "bin_start": 0.15243000000000004,
            "bin_end": 0.19494000000000003,
            "count": 11
           },
           {
            "bin_start": 0.19494000000000003,
            "bin_end": 0.23745000000000002,
            "count": 7
           },
           {
            "bin_start": 0.23745000000000002,
            "bin_end": 0.27996000000000004,
            "count": 2
           },
           {
            "bin_start": 0.27996000000000004,
            "bin_end": 0.32247000000000003,
            "count": 1
           },
           {
            "bin_start": 0.32247000000000003,
            "bin_end": 0.36498,
            "count": 4
           },
           {
            "bin_start": 0.36498,
            "bin_end": 0.40749,
            "count": 0
           },
           {
            "bin_start": 0.40749,
            "bin_end": 0.45,
            "count": 1
           }
          ]
         }
        },
        {
         "name": "acousticness",
         "dtype": "float64",
         "stats": {
          "unique_count": 240,
          "nan_count": 0,
          "min": "2.64e-05",
          "max": "0.966",
          "histogram": [
           {
            "bin_start": 0.0000264,
            "bin_end": 0.09662375999999999,
            "count": 104
           },
           {
            "bin_start": 0.09662375999999999,
            "bin_end": 0.19322112,
            "count": 42
           },
           {
            "bin_start": 0.19322112,
            "bin_end": 0.28981848,
            "count": 27
           },
           {
            "bin_start": 0.28981848,
            "bin_end": 0.38641583999999995,
            "count": 21
           },
           {
            "bin_start": 0.38641583999999995,
            "bin_end": 0.4830131999999999,
            "count": 22
           },
           {
            "bin_start": 0.4830131999999999,
            "bin_end": 0.57961056,
            "count": 7
           },
           {
            "bin_start": 0.57961056,
            "bin_end": 0.67620792,
            "count": 8
           },
           {
            "bin_start": 0.67620792,
            "bin_end": 0.7728052799999999,
            "count": 12
           },
           {
            "bin_start": 0.7728052799999999,
            "bin_end": 0.8694026399999999,
            "count": 8
           },
           {
            "bin_start": 0.8694026399999999,
            "bin_end": 0.966,
            "count": 7
           }
          ]
         }
        },
        {
         "name": "instrumentalness",
         "dtype": "float64",
         "stats": {
          "unique_count": 151,
          "nan_count": 0,
          "min": "0.0",
          "max": "0.982",
          "histogram": [
           {
            "bin_start": 0,
            "bin_end": 0.0982,
            "count": 244
           },
           {
            "bin_start": 0.0982,
            "bin_end": 0.1964,
            "count": 3
           },
           {
            "bin_start": 0.1964,
            "bin_end": 0.2946,
            "count": 2
           },
           {
            "bin_start": 0.2946,
            "bin_end": 0.3928,
            "count": 1
           },
           {
            "bin_start": 0.3928,
            "bin_end": 0.491,
            "count": 0
           },
           {
            "bin_start": 0.491,
            "bin_end": 0.5892,
            "count": 2
           },
           {
            "bin_start": 0.5892,
            "bin_end": 0.6874,
            "count": 0
           },
           {
            "bin_start": 0.6874,
            "bin_end": 0.7856,
            "count": 1
           },
           {
            "bin_start": 0.7856,
            "bin_end": 0.8837999999999999,
            "count": 2
           },
           {
            "bin_start": 0.8837999999999999,
            "bin_end": 0.982,
            "count": 3
           }
          ]
         }
        },
        {
         "name": "liveness",
         "dtype": "float64",
         "stats": {
          "unique_count": 201,
          "nan_count": 0,
          "min": "0.026",
          "max": "0.803",
          "histogram": [
           {
            "bin_start": 0.026,
            "bin_end": 0.1037,
            "count": 88
           },
           {
            "bin_start": 0.1037,
            "bin_end": 0.1814,
            "count": 81
           },
           {
            "bin_start": 0.1814,
            "bin_end": 0.25910000000000005,
            "count": 32
           },
           {
            "bin_start": 0.25910000000000005,
            "bin_end": 0.33680000000000004,
            "count": 30
           },
           {
            "bin_start": 0.33680000000000004,
            "bin_end": 0.41450000000000004,
            "count": 11
           },
           {
            "bin_start": 0.41450000000000004,
            "bin_end": 0.4922000000000001,
            "count": 7
           },
           {
            "bin_start": 0.4922000000000001,
            "bin_end": 0.5699000000000001,
            "count": 5
           },
           {
            "bin_start": 0.5699000000000001,
            "bin_end": 0.6476000000000001,
            "count": 1
           },
           {
            "bin_start": 0.6476000000000001,
            "bin_end": 0.7253000000000001,
            "count": 2
           },
           {
            "bin_start": 0.7253000000000001,
            "bin_end": 0.803,
            "count": 1
           }
          ]
         }
        },
        {
         "name": "valence",
         "dtype": "float64",
         "stats": {
          "unique_count": 227,
          "nan_count": 0,
          "min": "0.0396",
          "max": "0.985",
          "histogram": [
           {
            "bin_start": 0.0396,
            "bin_end": 0.13414,
            "count": 4
           },
           {
            "bin_start": 0.13414,
            "bin_end": 0.22868,
            "count": 12
           },
           {
            "bin_start": 0.22868,
            "bin_end": 0.32322,
            "count": 13
           },
           {
            "bin_start": 0.32322,
            "bin_end": 0.41776,
            "count": 27
           },
           {
            "bin_start": 0.41776,
            "bin_end": 0.5123,
            "count": 30
           },
           {
            "bin_start": 0.5123,
            "bin_end": 0.6068399999999999,
            "count": 32
           },
           {
            "bin_start": 0.6068399999999999,
            "bin_end": 0.70138,
            "count": 33
           },
           {
            "bin_start": 0.70138,
            "bin_end": 0.79592,
            "count": 31
           },
           {
            "bin_start": 0.79592,
            "bin_end": 0.8904599999999999,
            "count": 41
           },
           {
            "bin_start": 0.8904599999999999,
            "bin_end": 0.985,
            "count": 35
           }
          ]
         }
        },
        {
         "name": "tempo",
         "dtype": "float64",
         "stats": {
          "unique_count": 255,
          "nan_count": 0,
          "min": "67.03",
          "max": "206.906",
          "histogram": [
           {
            "bin_start": 67.03,
            "bin_end": 81.0176,
            "count": 18
           },
           {
            "bin_start": 81.0176,
            "bin_end": 95.0052,
            "count": 29
           },
           {
            "bin_start": 95.0052,
            "bin_end": 108.9928,
            "count": 52
           },
           {
            "bin_start": 108.9928,
            "bin_end": 122.9804,
            "count": 55
           },
           {
            "bin_start": 122.9804,
            "bin_end": 136.96800000000002,
            "count": 42
           },
           {
            "bin_start": 136.96800000000002,
            "bin_end": 150.9556,
            "count": 23
           },
           {
            "bin_start": 150.9556,
            "bin_end": 164.9432,
            "count": 12
           },
           {
            "bin_start": 164.9432,
            "bin_end": 178.9308,
            "count": 22
           },
           {
            "bin_start": 178.9308,
            "bin_end": 192.91840000000002,
            "count": 2
           },
           {
            "bin_start": 192.91840000000002,
            "bin_end": 206.906,
            "count": 3
           }
          ]
         }
        },
        {
         "name": "duration_ms",
         "dtype": "int64",
         "stats": {
          "unique_count": 257,
          "nan_count": 0,
          "min": "100933",
          "max": "1561133",
          "histogram": [
           {
            "bin_start": 100933,
            "bin_end": 246953,
            "count": 177
           },
           {
            "bin_start": 246953,
            "bin_end": 392973,
            "count": 77
           },
           {
            "bin_start": 392973,
            "bin_end": 538993,
            "count": 3
           },
           {
            "bin_start": 538993,
            "bin_end": 685013,
            "count": 0
           },
           {
            "bin_start": 685013,
            "bin_end": 831033,
            "count": 0
           },
           {
            "bin_start": 831033,
            "bin_end": 977053,
            "count": 0
           },
           {
            "bin_start": 977053,
            "bin_end": 1123073,
            "count": 0
           },
           {
            "bin_start": 1123073,
            "bin_end": 1269093,
            "count": 0
           },
           {
            "bin_start": 1269093,
            "bin_end": 1415113,
            "count": 0
           },
           {
            "bin_start": 1415113,
            "bin_end": 1561133,
            "count": 1
           }
          ]
         }
        },
        {
         "name": "time_signature",
         "dtype": "int64",
         "stats": {
          "unique_count": 4,
          "nan_count": 0,
          "min": "1",
          "max": "5",
          "histogram": [
           {
            "bin_start": 1,
            "bin_end": 1.4,
            "count": 3
           },
           {
            "bin_start": 1.4,
            "bin_end": 1.8,
            "count": 0
           },
           {
            "bin_start": 1.8,
            "bin_end": 2.2,
            "count": 0
           },
           {
            "bin_start": 2.2,
            "bin_end": 2.6,
            "count": 0
           },
           {
            "bin_start": 2.6,
            "bin_end": 3,
            "count": 0
           },
           {
            "bin_start": 3,
            "bin_end": 3.4000000000000004,
            "count": 15
           },
           {
            "bin_start": 3.4000000000000004,
            "bin_end": 3.8000000000000003,
            "count": 0
           },
           {
            "bin_start": 3.8000000000000003,
            "bin_end": 4.2,
            "count": 239
           },
           {
            "bin_start": 4.2,
            "bin_end": 4.6,
            "count": 0
           },
           {
            "bin_start": 4.6,
            "bin_end": 5,
            "count": 1
           }
          ]
         }
        },
        {
         "name": "chorus_hit",
         "dtype": "float64",
         "stats": {
          "unique_count": 257,
          "nan_count": 0,
          "min": "15.2389",
          "max": "104.41755",
          "histogram": [
           {
            "bin_start": 15.2389,
            "bin_end": 24.156765,
            "count": 45
           },
           {
            "bin_start": 24.156765,
            "bin_end": 33.07463,
            "count": 64
           },
           {
            "bin_start": 33.07463,
            "bin_end": 41.992495000000005,
            "count": 58
           },
           {
            "bin_start": 41.992495000000005,
            "bin_end": 50.910360000000004,
            "count": 36
           },
           {
            "bin_start": 50.910360000000004,
            "bin_end": 59.828225,
            "count": 25
           },
           {
            "bin_start": 59.828225,
            "bin_end": 68.74609000000001,
            "count": 12
           },
           {
            "bin_start": 68.74609000000001,
            "bin_end": 77.663955,
            "count": 7
           },
           {
            "bin_start": 77.663955,
            "bin_end": 86.58182000000001,
            "count": 5
           },
           {
            "bin_start": 86.58182000000001,
            "bin_end": 95.49968500000001,
            "count": 2
           },
           {
            "bin_start": 95.49968500000001,
            "bin_end": 104.41755,
            "count": 4
           }
          ]
         }
        },
        {
         "name": "sections",
         "dtype": "int64",
         "stats": {
          "unique_count": 18,
          "nan_count": 0,
          "min": "5",
          "max": "64",
          "histogram": [
           {
            "bin_start": 5,
            "bin_end": 10.9,
            "count": 139
           },
           {
            "bin_start": 10.9,
            "bin_end": 16.8,
            "count": 113
           },
           {
            "bin_start": 16.8,
            "bin_end": 22.700000000000003,
            "count": 4
           },
           {
            "bin_start": 22.700000000000003,
            "bin_end": 28.6,
            "count": 1
           },
           {
            "bin_start": 28.6,
            "bin_end": 34.5,
            "count": 0
           },
           {
            "bin_start": 34.5,
            "bin_end": 40.400000000000006,
            "count": 0
           },
           {
            "bin_start": 40.400000000000006,
            "bin_end": 46.300000000000004,
            "count": 0
           },
           {
            "bin_start": 46.300000000000004,
            "bin_end": 52.2,
            "count": 0
           },
           {
            "bin_start": 52.2,
            "bin_end": 58.1,
            "count": 0
           },
           {
            "bin_start": 58.1,
            "bin_end": 64,
            "count": 1
           }
          ]
         }
        },
        {
         "name": "target",
         "dtype": "int64",
         "stats": {
          "unique_count": 2,
          "nan_count": 0,
          "min": "0",
          "max": "1",
          "histogram": [
           {
            "bin_start": 0,
            "bin_end": 0.1,
            "count": 2
           },
           {
            "bin_start": 0.1,
            "bin_end": 0.2,
            "count": 0
           },
           {
            "bin_start": 0.2,
            "bin_end": 0.30000000000000004,
            "count": 0
           },
           {
            "bin_start": 0.30000000000000004,
            "bin_end": 0.4,
            "count": 0
           },
           {
            "bin_start": 0.4,
            "bin_end": 0.5,
            "count": 0
           },
           {
            "bin_start": 0.5,
            "bin_end": 0.6000000000000001,
            "count": 0
           },
           {
            "bin_start": 0.6000000000000001,
            "bin_end": 0.7000000000000001,
            "count": 0
           },
           {
            "bin_start": 0.7000000000000001,
            "bin_end": 0.8,
            "count": 0
           },
           {
            "bin_start": 0.8,
            "bin_end": 0.9,
            "count": 0
           },
           {
            "bin_start": 0.9,
            "bin_end": 1,
            "count": 256
           }
          ]
         }
        },
        {
         "name": "decade",
         "dtype": "int64",
         "stats": {
          "unique_count": 6,
          "nan_count": 0,
          "min": "1960",
          "max": "2010",
          "histogram": [
           {
            "bin_start": 1960,
            "bin_end": 1965,
            "count": 43
           },
           {
            "bin_start": 1965,
            "bin_end": 1970,
            "count": 0
           },
           {
            "bin_start": 1970,
            "bin_end": 1975,
            "count": 34
           },
           {
            "bin_start": 1975,
            "bin_end": 1980,
            "count": 0
           },
           {
            "bin_start": 1980,
            "bin_end": 1985,
            "count": 46
           },
           {
            "bin_start": 1985,
            "bin_end": 1990,
            "count": 0
           },
           {
            "bin_start": 1990,
            "bin_end": 1995,
            "count": 32
           },
           {
            "bin_start": 1995,
            "bin_end": 2000,
            "count": 0
           },
           {
            "bin_start": 2000,
            "bin_end": 2005,
            "count": 38
           },
           {
            "bin_start": 2005,
            "bin_end": 2010,
            "count": 65
           }
          ]
         }
        },
        {
         "name": "duration_sec",
         "dtype": "float64",
         "stats": {
          "unique_count": 145,
          "nan_count": 0,
          "min": "101.0",
          "max": "1561.0",
          "histogram": [
           {
            "bin_start": 101,
            "bin_end": 247,
            "count": 176
           },
           {
            "bin_start": 247,
            "bin_end": 393,
            "count": 78
           },
           {
            "bin_start": 393,
            "bin_end": 539,
            "count": 3
           },
           {
            "bin_start": 539,
            "bin_end": 685,
            "count": 0
           },
           {
            "bin_start": 685,
            "bin_end": 831,
            "count": 0
           },
           {
            "bin_start": 831,
            "bin_end": 977,
            "count": 0
           },
           {
            "bin_start": 977,
            "bin_end": 1123,
            "count": 0
           },
           {
            "bin_start": 1123,
            "bin_end": 1269,
            "count": 0
           },
           {
            "bin_start": 1269,
            "bin_end": 1415,
            "count": 0
           },
           {
            "bin_start": 1415,
            "bin_end": 1561,
            "count": 1
           }
          ]
         }
        },
        {
         "name": "loudness_rounded",
         "dtype": "float64",
         "stats": {
          "unique_count": 19,
          "nan_count": 0,
          "min": "-19.0",
          "max": "-1.0",
          "histogram": [
           {
            "bin_start": -19,
            "bin_end": -17.2,
            "count": 2
           },
           {
            "bin_start": -17.2,
            "bin_end": -15.4,
            "count": 4
           },
           {
            "bin_start": -15.4,
            "bin_end": -13.6,
            "count": 13
           },
           {
            "bin_start": -13.6,
            "bin_end": -11.8,
            "count": 26
           },
           {
            "bin_start": -11.8,
            "bin_end": -10,
            "count": 23
           },
           {
            "bin_start": -10,
            "bin_end": -8.2,
            "count": 47
           },
           {
            "bin_start": -8.2,
            "bin_end": -6.4,
            "count": 56
           },
           {
            "bin_start": -6.4,
            "bin_end": -4.6,
            "count": 53
           },
           {
            "bin_start": -4.6,
            "bin_end": -2.8000000000000007,
            "count": 31
           },
           {
            "bin_start": -2.8000000000000007,
            "bin_end": -1,
            "count": 3
           }
          ]
         }
        },
        {
         "name": "christmas",
         "dtype": "bool",
         "stats": {
          "unique_count": 2,
          "nan_count": 0,
          "categories": [
           {
            "name": "False",
            "count": 256
           },
           {
            "name": "True",
            "count": 2
           }
          ]
         }
        },
        {
         "name": "country",
         "dtype": "bool",
         "stats": {
          "unique_count": 2,
          "nan_count": 0,
          "categories": [
           {
            "name": "False",
            "count": 200
           },
           {
            "name": "True",
            "count": 58
           }
          ]
         }
        },
        {
         "name": "_deepnote_index_column",
         "dtype": "int64"
        }
       ],
       "rows_top": [
        {
         "track": "Wonderland",
         "artist": "Commodores",
         "uri": "spotify:track:7tCim0aGAMujZuMicXAh5d",
         "danceability": 0.518,
         "energy": 0.574,
         "key": 6,
         "loudness": -8.352,
         "mode": 1,
         "speechiness": 0.057,
         "acousticness": 0.193,
         "instrumentalness": 0.00000493,
         "liveness": 0.35,
         "valence": 0.627,
         "tempo": 141.369,
         "duration_ms": 229307,
         "time_signature": 4,
         "chorus_hit": 28.17783,
         "sections": 11,
         "target": 1,
         "decade": 1970,
         "duration_sec": 229,
         "loudness_rounded": -8,
         "christmas": "False",
         "country": "False",
         "_deepnote_index_column": 0
        },
        {
         "track": "Frankie And Johnny",
         "artist": "Sam Cooke",
         "uri": "spotify:track:4wJw1D8jb09iHuawQawYda",
         "danceability": 0.501,
         "energy": 0.487,
         "key": 0,
         "loudness": -9.799,
         "mode": 1,
         "speechiness": 0.192,
         "acousticness": 0.399,
         "instrumentalness": 0,
         "liveness": 0.706,
         "valence": 0.575,
         "tempo": 109.134,
         "duration_ms": 180147,
         "time_signature": 4,
         "chorus_hit": 30.05113,
         "sections": 8,
         "target": 1,
         "decade": 1960,
         "duration_sec": 180,
         "loudness_rounded": -10,
         "christmas": "False",
         "country": "False",
         "_deepnote_index_column": 1
        },
        {
         "track": "Don't Say Nothin' Bad (About My Baby)",
         "artist": "The Cookies",
         "uri": "spotify:track:5QV1ERhFeYKZfK1Y99gYG6",
         "danceability": 0.611,
         "energy": 0.591,
         "key": 2,
         "loudness": -7.138,
         "mode": 1,
         "speechiness": 0.0352,
         "acousticness": 0.717,
         "instrumentalness": 0.00888,
         "liveness": 0.478,
         "valence": 0.91,
         "tempo": 124.115,
         "duration_ms": 165840,
         "time_signature": 4,
         "chorus_hit": 31.19564,
         "sections": 9,
         "target": 1,
         "decade": 1960,
         "duration_sec": 166,
         "loudness_rounded": -7,
         "christmas": "False",
         "country": "False",
         "_deepnote_index_column": 2
        },
        {
         "track": "Do You Miss Me",
         "artist": "Jocelyn Enriquez",
         "uri": "spotify:track:6hpkEh9z1tuhOQPlCunMaj",
         "danceability": 0.72,
         "energy": 0.872,
         "key": 11,
         "loudness": -8.705,
         "mode": 0,
         "speechiness": 0.0631,
         "acousticness": 0.00265,
         "instrumentalness": 0.00192,
         "liveness": 0.259,
         "valence": 0.755,
         "tempo": 129.956,
         "duration_ms": 218253,
         "time_signature": 4,
         "chorus_hit": 34.17159,
         "sections": 9,
         "target": 1,
         "decade": 1990,
         "duration_sec": 218,
         "loudness_rounded": -9,
         "christmas": "False",
         "country": "False",
         "_deepnote_index_column": 3
        },
        {
         "track": "Out Last Night",
         "artist": "Kenny Chesney",
         "uri": "spotify:track:4QoZGQ8woaho94v629kVl1",
         "danceability": 0.64,
         "energy": 0.822,
         "key": 9,
         "loudness": -4.954,
         "mode": 1,
         "speechiness": 0.041,
         "acousticness": 0.42,
         "instrumentalness": 0.000435,
         "liveness": 0.144,
         "valence": 0.395,
         "tempo": 141.054,
         "duration_ms": 199773,
         "time_signature": 4,
         "chorus_hit": 28.30111,
         "sections": 10,
         "target": 1,
         "decade": 2000,
         "duration_sec": 200,
         "loudness_rounded": -5,
         "christmas": "False",
         "country": "False",
         "_deepnote_index_column": 4
        },
        {
         "track": "Where Are You",
         "artist": "Frankie Avalon",
         "uri": "spotify:track:4ywxVBCTgQT5oVZlS1q3WP",
         "danceability": 0.155,
         "energy": 0.303,
         "key": 10,
         "loudness": -9.494,
         "mode": 0,
         "speechiness": 0.0319,
         "acousticness": 0.782,
         "instrumentalness": 0.000256,
         "liveness": 0.169,
         "valence": 0.205,
         "tempo": 70.946,
         "duration_ms": 159840,
         "time_signature": 5,
         "chorus_hit": 70.99994,
         "sections": 6,
         "target": 1,
         "decade": 1960,
         "duration_sec": 160,
         "loudness_rounded": -9,
         "christmas": "False",
         "country": "False",
         "_deepnote_index_column": 5
        },
        {
         "track": "One Way Or Another",
         "artist": "Blondie",
         "uri": "spotify:track:59CLe8stbcx4XYBWdsfbwK",
         "danceability": 0.442,
         "energy": 0.922,
         "key": 2,
         "loudness": -5.086,
         "mode": 1,
         "speechiness": 0.0655,
         "acousticness": 0.0532,
         "instrumentalness": 0.00000386,
         "liveness": 0.0768,
         "valence": 0.855,
         "tempo": 162.272,
         "duration_ms": 217364,
         "time_signature": 4,
         "chorus_hit": 23.80629,
         "sections": 10,
         "target": 1,
         "decade": 1970,
         "duration_sec": 217,
         "loudness_rounded": -5,
         "christmas": "False",
         "country": "False",
         "_deepnote_index_column": 6
        },
        {
         "track": "First Taste Of Love",
         "artist": "Ben E. King",
         "uri": "spotify:track:1WwbO6D1l5GCgplARhJrEP",
         "danceability": 0.524,
         "energy": 0.318,
         "key": 5,
         "loudness": -13.321,
         "mode": 1,
         "speechiness": 0.0555,
         "acousticness": 0.517,
         "instrumentalness": 0.00000214,
         "liveness": 0.142,
         "valence": 0.843,
         "tempo": 147.781,
         "duration_ms": 140216,
         "time_signature": 4,
         "chorus_hit": 20.40136,
         "sections": 9,
         "target": 1,
         "decade": 1960,
         "duration_sec": 140,
         "loudness_rounded": -13,
         "christmas": "False",
         "country": "False",
         "_deepnote_index_column": 7
        },
        {
         "track": "Goodnight My Love",
         "artist": "The Happenings",
         "uri": "spotify:track:3rQzv2lYriRlWITedMsECq",
         "danceability": 0.465,
         "energy": 0.406,
         "key": 9,
         "loudness": -11.049,
         "mode": 0,
         "speechiness": 0.0304,
         "acousticness": 0.704,
         "instrumentalness": 0.0000165,
         "liveness": 0.221,
         "valence": 0.599,
         "tempo": 112.117,
         "duration_ms": 152307,
         "time_signature": 4,
         "chorus_hit": 18.60497,
         "sections": 7,
         "target": 1,
         "decade": 1960,
         "duration_sec": 152,
         "loudness_rounded": -11,
         "christmas": "False",
         "country": "False",
         "_deepnote_index_column": 8
        },
        {
         "track": "Country Girl (Shake It For Me)",
         "artist": "Luke Bryan",
         "uri": "spotify:track:0yD66650JxhqKbW76C2qCo",
         "danceability": 0.645,
         "energy": 0.904,
         "key": 2,
         "loudness": -4.532,
         "mode": 1,
         "speechiness": 0.0462,
         "acousticness": 0.0293,
         "instrumentalness": 0,
         "liveness": 0.0834,
         "valence": 0.671,
         "tempo": 105.97,
         "duration_ms": 225560,
         "time_signature": 4,
         "chorus_hit": 30.87258,
         "sections": 9,
         "target": 1,
         "decade": 2010,
         "duration_sec": 226,
         "loudness_rounded": -5,
         "christmas": "False",
         "country": "False",
         "_deepnote_index_column": 9
        },
        {
         "track": "Bizarre Love Triangle",
         "artist": "FRENTE!",
         "uri": "spotify:track:7sgi66biRYpAXuRZJBDuli",
         "danceability": 0.738,
         "energy": 0.198,
         "key": 1,
         "loudness": -10.919,
         "mode": 1,
         "speechiness": 0.0625,
         "acousticness": 0.906,
         "instrumentalness": 0,
         "liveness": 0.105,
         "valence": 0.682,
         "tempo": 123.158,
         "duration_ms": 119813,
         "time_signature": 4,
         "chorus_hit": 53.20653,
         "sections": 5,
         "target": 1,
         "decade": 1990,
         "duration_sec": 120,
         "loudness_rounded": -11,
         "christmas": "False",
         "country": "False",
         "_deepnote_index_column": 10
        },
        {
         "track": "Try (Try To Fall In Love)",
         "artist": "Cooker",
         "uri": "spotify:track:7v5doaD46ftD6rvcvKFLvn",
         "danceability": 0.444,
         "energy": 0.235,
         "key": 7,
         "loudness": -10.646,
         "mode": 1,
         "speechiness": 0.0349,
         "acousticness": 0.837,
         "instrumentalness": 0,
         "liveness": 0.165,
         "valence": 0.375,
         "tempo": 86.135,
         "duration_ms": 176327,
         "time_signature": 4,
         "chorus_hit": 75.91262,
         "sections": 7,
         "target": 1,
         "decade": 1970,
         "duration_sec": 176,
         "loudness_rounded": -11,
         "christmas": "False",
         "country": "False",
         "_deepnote_index_column": 11
        },
        {
         "track": "Worst That Could Happen",
         "artist": "Brooklyn Bridge",
         "uri": "spotify:track:78OJTuCxtTxNP52dDprvDZ",
         "danceability": 0.275,
         "energy": 0.333,
         "key": 0,
         "loudness": -13.8,
         "mode": 1,
         "speechiness": 0.0291,
         "acousticness": 0.58,
         "instrumentalness": 0,
         "liveness": 0.111,
         "valence": 0.293,
         "tempo": 78.766,
         "duration_ms": 187067,
         "time_signature": 4,
         "chorus_hit": 29.16778,
         "sections": 10,
         "target": 1,
         "decade": 1960,
         "duration_sec": 187,
         "loudness_rounded": -14,
         "christmas": "False",
         "country": "False",
         "_deepnote_index_column": 12
        },
        {
         "track": "Red Room",
         "artist": "Offset",
         "uri": "spotify:track:4TWflhgevIGo448fWc6mQq",
         "danceability": 0.936,
         "energy": 0.559,
         "key": 7,
         "loudness": -8.587,
         "mode": 0,
         "speechiness": 0.157,
         "acousticness": 0.479,
         "instrumentalness": 0,
         "liveness": 0.128,
         "valence": 0.527,
         "tempo": 112.347,
         "duration_ms": 241440,
         "time_signature": 4,
         "chorus_hit": 30.46901,
         "sections": 13,
         "target": 1,
         "decade": 2010,
         "duration_sec": 241,
         "loudness_rounded": -9,
         "christmas": "False",
         "country": "False",
         "_deepnote_index_column": 13
        },
        {
         "track": "I Saw The Light",
         "artist": "Todd Rundgren",
         "uri": "spotify:track:0B1zVsLqmV9ibIFdNS5tGs",
         "danceability": 0.583,
         "energy": 0.833,
         "key": 0,
         "loudness": -8.29,
         "mode": 1,
         "speechiness": 0.0343,
         "acousticness": 0.0531,
         "instrumentalness": 0.0000557,
         "liveness": 0.16,
         "valence": 0.81,
         "tempo": 119.884,
         "duration_ms": 182800,
         "time_signature": 4,
         "chorus_hit": 104.41755,
         "sections": 7,
         "target": 1,
         "decade": 1970,
         "duration_sec": 183,
         "loudness_rounded": -8,
         "christmas": "False",
         "country": "False",
         "_deepnote_index_column": 14
        },
        {
         "track": "False Prophets",
         "artist": "J. Cole",
         "uri": "spotify:track:0eneujAc4PxkdjP25Gsue1",
         "danceability": 0.729,
         "energy": 0.739,
         "key": 8,
         "loudness": -9.5,
         "mode": 0,
         "speechiness": 0.338,
         "acousticness": 0.696,
         "instrumentalness": 0.00000937,
         "liveness": 0.164,
         "valence": 0.749,
         "tempo": 90.306,
         "duration_ms": 237427,
         "time_signature": 4,
         "chorus_hit": 44.09457,
         "sections": 11,
         "target": 1,
         "decade": 2010,
         "duration_sec": 237,
         "loudness_rounded": -10,
         "christmas": "False",
         "country": "False",
         "_deepnote_index_column": 15
        },
        {
         "track": "You're Good For Me",
         "artist": "Solomon Burke",
         "uri": "spotify:track:1kVbOR5Ko42OolRrTgqhai",
         "danceability": 0.552,
         "energy": 0.499,
         "key": 8,
         "loudness": -10.801,
         "mode": 1,
         "speechiness": 0.026,
         "acousticness": 0.323,
         "instrumentalness": 0.0000278,
         "liveness": 0.106,
         "valence": 0.799,
         "tempo": 96.885,
         "duration_ms": 184453,
         "time_signature": 3,
         "chorus_hit": 26.40097,
         "sections": 10,
         "target": 1,
         "decade": 1960,
         "duration_sec": 184,
         "loudness_rounded": -11,
         "christmas": "False",
         "country": "False",
         "_deepnote_index_column": 16
        },
        {
         "track": "Peanut Butter",
         "artist": "The Marathons",
         "uri": "spotify:track:5yL4zWTjLh3zJMXpU8hM1b",
         "danceability": 0.593,
         "energy": 0.583,
         "key": 2,
         "loudness": -8.697,
         "mode": 1,
         "speechiness": 0.0312,
         "acousticness": 0.403,
         "instrumentalness": 0,
         "liveness": 0.311,
         "valence": 0.915,
         "tempo": 118.76,
         "duration_ms": 121720,
         "time_signature": 4,
         "chorus_hit": 28.96074,
         "sections": 7,
         "target": 1,
         "decade": 1960,
         "duration_sec": 122,
         "loudness_rounded": -9,
         "christmas": "False",
         "country": "False",
         "_deepnote_index_column": 17
        },
        {
         "track": "The Fanatic",
         "artist": "Felony",
         "uri": "spotify:track:1Iq2pmpj7yRb0sqhM6goA4",
         "danceability": 0.471,
         "energy": 0.602,
         "key": 7,
         "loudness": -12.614,
         "mode": 1,
         "speechiness": 0.0655,
         "acousticness": 0.0218,
         "instrumentalness": 0.00721,
         "liveness": 0.0596,
         "valence": 0.715,
         "tempo": 176.001,
         "duration_ms": 216712,
         "time_signature": 4,
         "chorus_hit": 30.96799,
         "sections": 13,
         "target": 1,
         "decade": 1980,
         "duration_sec": 217,
         "loudness_rounded": -13,
         "christmas": "False",
         "country": "False",
         "_deepnote_index_column": 18
        },
        {
         "track": "I Want To Take You Higher",
         "artist": "Sly & The Family Stone",
         "uri": "spotify:track:4qpIk2rvkmxJEVvt38tepd",
         "danceability": 0.613,
         "energy": 0.844,
         "key": 9,
         "loudness": -10.147,
         "mode": 1,
         "speechiness": 0.0553,
         "acousticness": 0.123,
         "instrumentalness": 0.761,
         "liveness": 0.308,
         "valence": 0.519,
         "tempo": 102.773,
         "duration_ms": 322360,
         "time_signature": 4,
         "chorus_hit": 18.87895,
         "sections": 15,
         "target": 1,
         "decade": 1960,
         "duration_sec": 322,
         "loudness_rounded": -10,
         "christmas": "False",
         "country": "False",
         "_deepnote_index_column": 19
        }
       ],
       "rows_bottom": [
        {
         "track": "Trouble",
         "artist": "Iggy Azalea Featuring Jennifer Hudson",
         "uri": "spotify:track:3MPZOtMvBoxAIRUkgux87d",
         "danceability": 0.96,
         "energy": 0.699,
         "key": 7,
         "loudness": -3.804,
         "mode": 1,
         "speechiness": 0.132,
         "acousticness": 0.0948,
         "instrumentalness": 0,
         "liveness": 0.0812,
         "valence": 0.673,
         "tempo": 106.009,
         "duration_ms": 166317,
         "time_signature": 4,
         "chorus_hit": 53.24259,
         "sections": 8,
         "target": 1,
         "decade": 2010,
         "duration_sec": 166,
         "loudness_rounded": -4,
         "christmas": "False",
         "country": "True",
         "_deepnote_index_column": 237
        },
        {
         "track": "Trouble",
         "artist": "P!nk",
         "uri": "spotify:track:0qrGSKtrEj7PJAGVBFE9vG",
         "danceability": 0.575,
         "energy": 0.933,
         "key": 7,
         "loudness": -2.719,
         "mode": 1,
         "speechiness": 0.051,
         "acousticness": 0.00822,
         "instrumentalness": 0,
         "liveness": 0.244,
         "valence": 0.848,
         "tempo": 135.5,
         "duration_ms": 193600,
         "time_signature": 4,
         "chorus_hit": 15.2389,
         "sections": 12,
         "target": 1,
         "decade": 2000,
         "duration_sec": 194,
         "loudness_rounded": -3,
         "christmas": "False",
         "country": "True",
         "_deepnote_index_column": 238
        },
        {
         "track": "Trouble",
         "artist": "Lindsey Buckingham",
         "uri": "spotify:track:04ijIUVdT4Qy1SBWFUPROY",
         "danceability": 0.695,
         "energy": 0.503,
         "key": 1,
         "loudness": -12.91,
         "mode": 1,
         "speechiness": 0.0361,
         "acousticness": 0.111,
         "instrumentalness": 0.0134,
         "liveness": 0.0996,
         "valence": 0.969,
         "tempo": 124.113,
         "duration_ms": 236533,
         "time_signature": 4,
         "chorus_hit": 31.82112,
         "sections": 9,
         "target": 1,
         "decade": 1980,
         "duration_sec": 237,
         "loudness_rounded": -13,
         "christmas": "False",
         "country": "True",
         "_deepnote_index_column": 239
        },
        {
         "track": "Trouble",
         "artist": "Nia Peeples",
         "uri": "spotify:track:3ef3MGIHAIwXAuAluLjOTJ",
         "danceability": 0.803,
         "energy": 0.566,
         "key": 7,
         "loudness": -11.199,
         "mode": 1,
         "speechiness": 0.0686,
         "acousticness": 0.0438,
         "instrumentalness": 0.263,
         "liveness": 0.0629,
         "valence": 0.808,
         "tempo": 115.929,
         "duration_ms": 388333,
         "time_signature": 4,
         "chorus_hit": 34.36178,
         "sections": 16,
         "target": 1,
         "decade": 1980,
         "duration_sec": 388,
         "loudness_rounded": -11,
         "christmas": "False",
         "country": "True",
         "_deepnote_index_column": 240
        },
        {
         "track": "Perfect Storm",
         "artist": "Brad Paisley",
         "uri": "spotify:track:14UE0L5fL5TL0ohEiAv56X",
         "danceability": 0.53,
         "energy": 0.753,
         "key": 0,
         "loudness": -5.551,
         "mode": 1,
         "speechiness": 0.0346,
         "acousticness": 0.365,
         "instrumentalness": 0.0000419,
         "liveness": 0.269,
         "valence": 0.38,
         "tempo": 123.979,
         "duration_ms": 234840,
         "time_signature": 4,
         "chorus_hit": 30.97986,
         "sections": 9,
         "target": 1,
         "decade": 2010,
         "duration_sec": 235,
         "loudness_rounded": -6,
         "christmas": "False",
         "country": "True",
         "_deepnote_index_column": 241
        },
        {
         "track": "Rewind",
         "artist": "Rascal Flatts",
         "uri": "spotify:track:6eZP01jERQt27Ggq7kpEf9",
         "danceability": 0.549,
         "energy": 0.698,
         "key": 3,
         "loudness": -6.679,
         "mode": 1,
         "speechiness": 0.0347,
         "acousticness": 0.0222,
         "instrumentalness": 0,
         "liveness": 0.202,
         "valence": 0.719,
         "tempo": 164.049,
         "duration_ms": 203507,
         "time_signature": 4,
         "chorus_hit": 34.66473,
         "sections": 9,
         "target": 1,
         "decade": 2010,
         "duration_sec": 204,
         "loudness_rounded": -7,
         "christmas": "False",
         "country": "True",
         "_deepnote_index_column": 242
        },
        {
         "track": "Gonna Wanna Tonight",
         "artist": "Chase Rice",
         "uri": "spotify:track:6C2XDnr9B6obGMVhHS1Nmo",
         "danceability": 0.584,
         "energy": 0.79,
         "key": 2,
         "loudness": -6.544,
         "mode": 1,
         "speechiness": 0.0412,
         "acousticness": 0.0444,
         "instrumentalness": 0.0000422,
         "liveness": 0.0734,
         "valence": 0.691,
         "tempo": 123.961,
         "duration_ms": 214950,
         "time_signature": 4,
         "chorus_hit": 32.06731,
         "sections": 13,
         "target": 1,
         "decade": 2010,
         "duration_sec": 215,
         "loudness_rounded": -7,
         "christmas": "False",
         "country": "True",
         "_deepnote_index_column": 243
        },
        {
         "track": "Ain't Worth The Whiskey",
         "artist": "Cole Swindell",
         "uri": "spotify:track:4B1FxT0hP5dMWL64ubGR6P",
         "danceability": 0.427,
         "energy": 0.745,
         "key": 2,
         "loudness": -3.866,
         "mode": 1,
         "speechiness": 0.0317,
         "acousticness": 0.0329,
         "instrumentalness": 0,
         "liveness": 0.139,
         "valence": 0.507,
         "tempo": 153.606,
         "duration_ms": 190587,
         "time_signature": 4,
         "chorus_hit": 39.00824,
         "sections": 9,
         "target": 1,
         "decade": 2010,
         "duration_sec": 191,
         "loudness_rounded": -4,
         "christmas": "False",
         "country": "True",
         "_deepnote_index_column": 244
        },
        {
         "track": "Drinking Class",
         "artist": "Lee Brice",
         "uri": "spotify:track:4QAXLB2Hkx3n7LbOFxD34h",
         "danceability": 0.663,
         "energy": 0.53,
         "key": 1,
         "loudness": -9.763,
         "mode": 1,
         "speechiness": 0.0301,
         "acousticness": 0.0886,
         "instrumentalness": 0,
         "liveness": 0.154,
         "valence": 0.269,
         "tempo": 109.003,
         "duration_ms": 207347,
         "time_signature": 4,
         "chorus_hit": 38.87379,
         "sections": 11,
         "target": 1,
         "decade": 2010,
         "duration_sec": 207,
         "loudness_rounded": -10,
         "christmas": "False",
         "country": "True",
         "_deepnote_index_column": 245
        },
        {
         "track": "Shotgun Rider",
         "artist": "Tim McGraw",
         "uri": "spotify:track:3LbvNFkqDTrE1liGMmZBDL",
         "danceability": 0.468,
         "energy": 0.904,
         "key": 7,
         "loudness": -4.574,
         "mode": 1,
         "speechiness": 0.0494,
         "acousticness": 0.126,
         "instrumentalness": 0.00000389,
         "liveness": 0.165,
         "valence": 0.7,
         "tempo": 167.998,
         "duration_ms": 235387,
         "time_signature": 4,
         "chorus_hit": 23.4717,
         "sections": 13,
         "target": 1,
         "decade": 2010,
         "duration_sec": 235,
         "loudness_rounded": -5,
         "christmas": "False",
         "country": "True",
         "_deepnote_index_column": 246
        },
        {
         "track": "Don't It",
         "artist": "Billy Currington",
         "uri": "spotify:track:0iA1unTbTbDOWUSlbwJ1pS",
         "danceability": 0.558,
         "energy": 0.818,
         "key": 8,
         "loudness": -4.07,
         "mode": 1,
         "speechiness": 0.0403,
         "acousticness": 0.071,
         "instrumentalness": 0,
         "liveness": 0.21,
         "valence": 0.453,
         "tempo": 81.034,
         "duration_ms": 184507,
         "time_signature": 4,
         "chorus_hit": 20.2542,
         "sections": 7,
         "target": 1,
         "decade": 2010,
         "duration_sec": 185,
         "loudness_rounded": -4,
         "christmas": "False",
         "country": "True",
         "_deepnote_index_column": 247
        },
        {
         "track": "Headlights",
         "artist": "Eminem Featuring Nate Ruess",
         "uri": "spotify:track:222dTwr5XeEgAzEtsrQA0R",
         "danceability": 0.688,
         "energy": 0.782,
         "key": 11,
         "loudness": -3.683,
         "mode": 1,
         "speechiness": 0.158,
         "acousticness": 0.152,
         "instrumentalness": 0,
         "liveness": 0.803,
         "valence": 0.453,
         "tempo": 146.324,
         "duration_ms": 343032,
         "time_signature": 4,
         "chorus_hit": 25.68808,
         "sections": 15,
         "target": 1,
         "decade": 2010,
         "duration_sec": 343,
         "loudness_rounded": -4,
         "christmas": "False",
         "country": "True",
         "_deepnote_index_column": 248
        },
        {
         "track": "Upside Down",
         "artist": "Jack Johnson",
         "uri": "spotify:track:6shRGWCtBUOPFLFTTqXZIC",
         "danceability": 0.787,
         "energy": 0.655,
         "key": 6,
         "loudness": -8.339,
         "mode": 0,
         "speechiness": 0.0431,
         "acousticness": 0.238,
         "instrumentalness": 0.000171,
         "liveness": 0.138,
         "valence": 0.65,
         "tempo": 102.485,
         "duration_ms": 208653,
         "time_signature": 4,
         "chorus_hit": 85.26491,
         "sections": 7,
         "target": 1,
         "decade": 2000,
         "duration_sec": 209,
         "loudness_rounded": -8,
         "christmas": "False",
         "country": "True",
         "_deepnote_index_column": 249
        },
        {
         "track": "Upside Down",
         "artist": "Diana Ross",
         "uri": "spotify:track:3pbtBomO4Zt5gGiqsYeiBH",
         "danceability": 0.873,
         "energy": 0.855,
         "key": 5,
         "loudness": -8.559,
         "mode": 0,
         "speechiness": 0.0615,
         "acousticness": 0.178,
         "instrumentalness": 0.0282,
         "liveness": 0.0377,
         "valence": 0.884,
         "tempo": 107.868,
         "duration_ms": 245600,
         "time_signature": 4,
         "chorus_hit": 41.60987,
         "sections": 11,
         "target": 1,
         "decade": 1980,
         "duration_sec": 246,
         "loudness_rounded": -9,
         "christmas": "False",
         "country": "True",
         "_deepnote_index_column": 250
        },
        {
         "track": "Lay Low",
         "artist": "Snoop Dogg Featuring Master P, Nate Dogg, Butch Cassidy & Tha Eastsidaz",
         "uri": "spotify:track:4QNJd8ma02Oy9PBenHErs1",
         "danceability": 0.723,
         "energy": 0.644,
         "key": 0,
         "loudness": -4.803,
         "mode": 1,
         "speechiness": 0.45,
         "acousticness": 0.151,
         "instrumentalness": 0,
         "liveness": 0.199,
         "valence": 0.743,
         "tempo": 189.537,
         "duration_ms": 222360,
         "time_signature": 4,
         "chorus_hit": 39.44697,
         "sections": 10,
         "target": 1,
         "decade": 2000,
         "duration_sec": 222,
         "loudness_rounded": -5,
         "christmas": "False",
         "country": "True",
         "_deepnote_index_column": 251
        },
        {
         "track": "Where It's At",
         "artist": "Beck",
         "uri": "spotify:track:7mQertZHtd37UQ2uJs0Uct",
         "danceability": 0.672,
         "energy": 0.662,
         "key": 2,
         "loudness": -7.384,
         "mode": 1,
         "speechiness": 0.0731,
         "acousticness": 0.24,
         "instrumentalness": 0.0292,
         "liveness": 0.126,
         "valence": 0.522,
         "tempo": 96.936,
         "duration_ms": 329573,
         "time_signature": 4,
         "chorus_hit": 25.94272,
         "sections": 14,
         "target": 1,
         "decade": 1990,
         "duration_sec": 330,
         "loudness_rounded": -7,
         "christmas": "False",
         "country": "True",
         "_deepnote_index_column": 252
        },
        {
         "track": "All The Way",
         "artist": "Calloway",
         "uri": "spotify:track:2qx8wHW2Npc2wD1ONfR8Al",
         "danceability": 0.751,
         "energy": 0.675,
         "key": 4,
         "loudness": -13.077,
         "mode": 0,
         "speechiness": 0.0686,
         "acousticness": 0.0023,
         "instrumentalness": 0.0809,
         "liveness": 0.212,
         "valence": 0.819,
         "tempo": 120.566,
         "duration_ms": 409667,
         "time_signature": 4,
         "chorus_hit": 25.38221,
         "sections": 16,
         "target": 1,
         "decade": 1990,
         "duration_sec": 410,
         "loudness_rounded": -13,
         "christmas": "False",
         "country": "True",
         "_deepnote_index_column": 253
        },
        {
         "track": "Say You Will",
         "artist": "Foreigner",
         "uri": "spotify:track:5nW7RbN0mBLPts9CURNwdy",
         "danceability": 0.72,
         "energy": 0.72,
         "key": 3,
         "loudness": -7.383,
         "mode": 0,
         "speechiness": 0.0264,
         "acousticness": 0.195,
         "instrumentalness": 0,
         "liveness": 0.0448,
         "valence": 0.636,
         "tempo": 126.041,
         "duration_ms": 255653,
         "time_signature": 4,
         "chorus_hit": 49.18574,
         "sections": 12,
         "target": 1,
         "decade": 1980,
         "duration_sec": 256,
         "loudness_rounded": -7,
         "christmas": "False",
         "country": "True",
         "_deepnote_index_column": 254
        },
        {
         "track": "Gentle On My Mind",
         "artist": "Aretha Franklin",
         "uri": "spotify:track:3r6EzxHkcX3JLzuV4a4waK",
         "danceability": 0.506,
         "energy": 0.501,
         "key": 7,
         "loudness": -12.986,
         "mode": 0,
         "speechiness": 0.0556,
         "acousticness": 0.741,
         "instrumentalness": 0,
         "liveness": 0.108,
         "valence": 0.618,
         "tempo": 85.617,
         "duration_ms": 148907,
         "time_signature": 4,
         "chorus_hit": 93.99515,
         "sections": 6,
         "target": 1,
         "decade": 1960,
         "duration_sec": 149,
         "loudness_rounded": -13,
         "christmas": "False",
         "country": "True",
         "_deepnote_index_column": 255
        },
        {
         "track": "Gentle On My Mind",
         "artist": "Glen Campbell",
         "uri": "spotify:track:0mLoTgCB8oU0sJGojRtvDu",
         "danceability": 0.597,
         "energy": 0.415,
         "key": 3,
         "loudness": -13.799,
         "mode": 1,
         "speechiness": 0.0323,
         "acousticness": 0.189,
         "instrumentalness": 0,
         "liveness": 0.123,
         "valence": 0.826,
         "tempo": 108.987,
         "duration_ms": 178627,
         "time_signature": 4,
         "chorus_hit": 21.93463,
         "sections": 14,
         "target": 1,
         "decade": 1960,
         "duration_sec": 179,
         "loudness_rounded": -14,
         "christmas": "False",
         "country": "True",
         "_deepnote_index_column": 256
        },
        {
         "track": "Gentle On My Mind",
         "artist": "Patti Page",
         "uri": "spotify:track:5n4EBkvyzXz3B7lGrWhXOO",
         "danceability": 0.652,
         "energy": 0.471,
         "key": 7,
         "loudness": -11.221,
         "mode": 1,
         "speechiness": 0.0323,
         "acousticness": 0.83,
         "instrumentalness": 0,
         "liveness": 0.318,
         "valence": 0.828,
         "tempo": 114.542,
         "duration_ms": 177200,
         "time_signature": 4,
         "chorus_hit": 22.94398,
         "sections": 10,
         "target": 1,
         "decade": 1960,
         "duration_sec": 177,
         "loudness_rounded": -11,
         "christmas": "False",
         "country": "True",
         "_deepnote_index_column": 257
        }
       ]
      },
      "text/plain": "                                     track            artist  \\\n0                               Wonderland        Commodores   \n1                       Frankie And Johnny         Sam Cooke   \n2    Don't Say Nothin' Bad (About My Baby)       The Cookies   \n3                           Do You Miss Me  Jocelyn Enriquez   \n4                           Out Last Night     Kenny Chesney   \n..                                     ...               ...   \n253                            All The Way          Calloway   \n254                           Say You Will         Foreigner   \n255                      Gentle On My Mind   Aretha Franklin   \n256                      Gentle On My Mind     Glen Campbell   \n257                      Gentle On My Mind        Patti Page   \n\n                                      uri  danceability  energy  key  \\\n0    spotify:track:7tCim0aGAMujZuMicXAh5d         0.518   0.574    6   \n1    spotify:track:4wJw1D8jb09iHuawQawYda         0.501   0.487    0   \n2    spotify:track:5QV1ERhFeYKZfK1Y99gYG6         0.611   0.591    2   \n3    spotify:track:6hpkEh9z1tuhOQPlCunMaj         0.720   0.872   11   \n4    spotify:track:4QoZGQ8woaho94v629kVl1         0.640   0.822    9   \n..                                    ...           ...     ...  ...   \n253  spotify:track:2qx8wHW2Npc2wD1ONfR8Al         0.751   0.675    4   \n254  spotify:track:5nW7RbN0mBLPts9CURNwdy         0.720   0.720    3   \n255  spotify:track:3r6EzxHkcX3JLzuV4a4waK         0.506   0.501    7   \n256  spotify:track:0mLoTgCB8oU0sJGojRtvDu         0.597   0.415    3   \n257  spotify:track:5n4EBkvyzXz3B7lGrWhXOO         0.652   0.471    7   \n\n     loudness  mode  speechiness  acousticness  ...  duration_ms  \\\n0      -8.352     1       0.0570       0.19300  ...       229307   \n1      -9.799     1       0.1920       0.39900  ...       180147   \n2      -7.138     1       0.0352       0.71700  ...       165840   \n3      -8.705     0       0.0631       0.00265  ...       218253   \n4      -4.954     1       0.0410       0.42000  ...       199773   \n..        ...   ...          ...           ...  ...          ...   \n253   -13.077     0       0.0686       0.00230  ...       409667   \n254    -7.383     0       0.0264       0.19500  ...       255653   \n255   -12.986     0       0.0556       0.74100  ...       148907   \n256   -13.799     1       0.0323       0.18900  ...       178627   \n257   -11.221     1       0.0323       0.83000  ...       177200   \n\n     time_signature  chorus_hit  sections  target  decade  duration_sec  \\\n0                 4    28.17783        11       1    1970         229.0   \n1                 4    30.05113         8       1    1960         180.0   \n2                 4    31.19564         9       1    1960         166.0   \n3                 4    34.17159         9       1    1990         218.0   \n4                 4    28.30111        10       1    2000         200.0   \n..              ...         ...       ...     ...     ...           ...   \n253               4    25.38221        16       1    1990         410.0   \n254               4    49.18574        12       1    1980         256.0   \n255               4    93.99515         6       1    1960         149.0   \n256               4    21.93463        14       1    1960         179.0   \n257               4    22.94398        10       1    1960         177.0   \n\n     loudness_rounded  christmas  country  \n0                -8.0      False    False  \n1               -10.0      False    False  \n2                -7.0      False    False  \n3                -9.0      False    False  \n4                -5.0      False    False  \n..                ...        ...      ...  \n253             -13.0      False     True  \n254              -7.0      False     True  \n255             -13.0      False     True  \n256             -14.0      False     True  \n257             -11.0      False     True  \n\n[258 rows x 24 columns]",
      "text/html": "<div>\n<style scoped>\n    .dataframe tbody tr th:only-of-type {\n        vertical-align: middle;\n    }\n\n    .dataframe tbody tr th {\n        vertical-align: top;\n    }\n\n    .dataframe thead th {\n        text-align: right;\n    }\n</style>\n<table border=\"1\" class=\"dataframe\">\n  <thead>\n    <tr style=\"text-align: right;\">\n      <th></th>\n      <th>track</th>\n      <th>artist</th>\n      <th>uri</th>\n      <th>danceability</th>\n      <th>energy</th>\n      <th>key</th>\n      <th>loudness</th>\n      <th>mode</th>\n      <th>speechiness</th>\n      <th>acousticness</th>\n      <th>...</th>\n      <th>duration_ms</th>\n      <th>time_signature</th>\n      <th>chorus_hit</th>\n      <th>sections</th>\n      <th>target</th>\n      <th>decade</th>\n      <th>duration_sec</th>\n      <th>loudness_rounded</th>\n      <th>christmas</th>\n      <th>country</th>\n    </tr>\n  </thead>\n  <tbody>\n    <tr>\n      <th>0</th>\n      <td>Wonderland</td>\n      <td>Commodores</td>\n      <td>spotify:track:7tCim0aGAMujZuMicXAh5d</td>\n      <td>0.518</td>\n      <td>0.574</td>\n      <td>6</td>\n      <td>-8.352</td>\n      <td>1</td>\n      <td>0.0570</td>\n      <td>0.19300</td>\n      <td>...</td>\n      <td>229307</td>\n      <td>4</td>\n      <td>28.17783</td>\n      <td>11</td>\n      <td>1</td>\n      <td>1970</td>\n      <td>229.0</td>\n      <td>-8.0</td>\n      <td>False</td>\n      <td>False</td>\n    </tr>\n    <tr>\n      <th>1</th>\n      <td>Frankie And Johnny</td>\n      <td>Sam Cooke</td>\n      <td>spotify:track:4wJw1D8jb09iHuawQawYda</td>\n      <td>0.501</td>\n      <td>0.487</td>\n      <td>0</td>\n      <td>-9.799</td>\n      <td>1</td>\n      <td>0.1920</td>\n      <td>0.39900</td>\n      <td>...</td>\n      <td>180147</td>\n      <td>4</td>\n      <td>30.05113</td>\n      <td>8</td>\n      <td>1</td>\n      <td>1960</td>\n      <td>180.0</td>\n      <td>-10.0</td>\n      <td>False</td>\n      <td>False</td>\n    </tr>\n    <tr>\n      <th>2</th>\n      <td>Don't Say Nothin' Bad (About My Baby)</td>\n      <td>The Cookies</td>\n      <td>spotify:track:5QV1ERhFeYKZfK1Y99gYG6</td>\n      <td>0.611</td>\n      <td>0.591</td>\n      <td>2</td>\n      <td>-7.138</td>\n      <td>1</td>\n      <td>0.0352</td>\n      <td>0.71700</td>\n      <td>...</td>\n      <td>165840</td>\n      <td>4</td>\n      <td>31.19564</td>\n      <td>9</td>\n      <td>1</td>\n      <td>1960</td>\n      <td>166.0</td>\n      <td>-7.0</td>\n      <td>False</td>\n      <td>False</td>\n    </tr>\n    <tr>\n      <th>3</th>\n      <td>Do You Miss Me</td>\n      <td>Jocelyn Enriquez</td>\n      <td>spotify:track:6hpkEh9z1tuhOQPlCunMaj</td>\n      <td>0.720</td>\n      <td>0.872</td>\n      <td>11</td>\n      <td>-8.705</td>\n      <td>0</td>\n      <td>0.0631</td>\n      <td>0.00265</td>\n      <td>...</td>\n      <td>218253</td>\n      <td>4</td>\n      <td>34.17159</td>\n      <td>9</td>\n      <td>1</td>\n      <td>1990</td>\n      <td>218.0</td>\n      <td>-9.0</td>\n      <td>False</td>\n      <td>False</td>\n    </tr>\n    <tr>\n      <th>4</th>\n      <td>Out Last Night</td>\n      <td>Kenny Chesney</td>\n      <td>spotify:track:4QoZGQ8woaho94v629kVl1</td>\n      <td>0.640</td>\n      <td>0.822</td>\n      <td>9</td>\n      <td>-4.954</td>\n      <td>1</td>\n      <td>0.0410</td>\n      <td>0.42000</td>\n      <td>...</td>\n      <td>199773</td>\n      <td>4</td>\n      <td>28.30111</td>\n      <td>10</td>\n      <td>1</td>\n      <td>2000</td>\n      <td>200.0</td>\n      <td>-5.0</td>\n      <td>False</td>\n      <td>False</td>\n    </tr>\n    <tr>\n      <th>...</th>\n      <td>...</td>\n      <td>...</td>\n      <td>...</td>\n      <td>...</td>\n      <td>...</td>\n      <td>...</td>\n      <td>...</td>\n      <td>...</td>\n      <td>...</td>\n      <td>...</td>\n      <td>...</td>\n      <td>...</td>\n      <td>...</td>\n      <td>...</td>\n      <td>...</td>\n      <td>...</td>\n      <td>...</td>\n      <td>...</td>\n      <td>...</td>\n      <td>...</td>\n      <td>...</td>\n    </tr>\n    <tr>\n      <th>253</th>\n      <td>All The Way</td>\n      <td>Calloway</td>\n      <td>spotify:track:2qx8wHW2Npc2wD1ONfR8Al</td>\n      <td>0.751</td>\n      <td>0.675</td>\n      <td>4</td>\n      <td>-13.077</td>\n      <td>0</td>\n      <td>0.0686</td>\n      <td>0.00230</td>\n      <td>...</td>\n      <td>409667</td>\n      <td>4</td>\n      <td>25.38221</td>\n      <td>16</td>\n      <td>1</td>\n      <td>1990</td>\n      <td>410.0</td>\n      <td>-13.0</td>\n      <td>False</td>\n      <td>True</td>\n    </tr>\n    <tr>\n      <th>254</th>\n      <td>Say You Will</td>\n      <td>Foreigner</td>\n      <td>spotify:track:5nW7RbN0mBLPts9CURNwdy</td>\n      <td>0.720</td>\n      <td>0.720</td>\n      <td>3</td>\n      <td>-7.383</td>\n      <td>0</td>\n      <td>0.0264</td>\n      <td>0.19500</td>\n      <td>...</td>\n      <td>255653</td>\n      <td>4</td>\n      <td>49.18574</td>\n      <td>12</td>\n      <td>1</td>\n      <td>1980</td>\n      <td>256.0</td>\n      <td>-7.0</td>\n      <td>False</td>\n      <td>True</td>\n    </tr>\n    <tr>\n      <th>255</th>\n      <td>Gentle On My Mind</td>\n      <td>Aretha Franklin</td>\n      <td>spotify:track:3r6EzxHkcX3JLzuV4a4waK</td>\n      <td>0.506</td>\n      <td>0.501</td>\n      <td>7</td>\n      <td>-12.986</td>\n      <td>0</td>\n      <td>0.0556</td>\n      <td>0.74100</td>\n      <td>...</td>\n      <td>148907</td>\n      <td>4</td>\n      <td>93.99515</td>\n      <td>6</td>\n      <td>1</td>\n      <td>1960</td>\n      <td>149.0</td>\n      <td>-13.0</td>\n      <td>False</td>\n      <td>True</td>\n    </tr>\n    <tr>\n      <th>256</th>\n      <td>Gentle On My Mind</td>\n      <td>Glen Campbell</td>\n      <td>spotify:track:0mLoTgCB8oU0sJGojRtvDu</td>\n      <td>0.597</td>\n      <td>0.415</td>\n      <td>3</td>\n      <td>-13.799</td>\n      <td>1</td>\n      <td>0.0323</td>\n      <td>0.18900</td>\n      <td>...</td>\n      <td>178627</td>\n      <td>4</td>\n      <td>21.93463</td>\n      <td>14</td>\n      <td>1</td>\n      <td>1960</td>\n      <td>179.0</td>\n      <td>-14.0</td>\n      <td>False</td>\n      <td>True</td>\n    </tr>\n    <tr>\n      <th>257</th>\n      <td>Gentle On My Mind</td>\n      <td>Patti Page</td>\n      <td>spotify:track:5n4EBkvyzXz3B7lGrWhXOO</td>\n      <td>0.652</td>\n      <td>0.471</td>\n      <td>7</td>\n      <td>-11.221</td>\n      <td>1</td>\n      <td>0.0323</td>\n      <td>0.83000</td>\n      <td>...</td>\n      <td>177200</td>\n      <td>4</td>\n      <td>22.94398</td>\n      <td>10</td>\n      <td>1</td>\n      <td>1960</td>\n      <td>177.0</td>\n      <td>-11.0</td>\n      <td>False</td>\n      <td>True</td>\n    </tr>\n  </tbody>\n</table>\n<p>258 rows × 24 columns</p>\n</div>"
     },
     "metadata": {}
    }
   ]
  },
  {
   "cell_type": "code",
   "metadata": {
    "tags": [],
    "cell_id": "00011-4bd98ab8-136f-4095-b36e-99f93aafff0c",
    "deepnote_to_be_reexecuted": true,
    "source_hash": "c4564f70",
    "execution_start": 1636233558967,
    "execution_millis": 5717,
    "is_code_hidden": false,
    "is_output_hidden": true,
    "deepnote_cell_type": "code"
   },
   "source": "# loudness vs target (Line Plot)\nsns.relplot(x=\"decade\", y=\"loudness\", hue=\"country\", kind=\"line\", data = sampleData)\nwhy are we plotting so many things lol\n# energy vs target (Line Plot)\nsns.relplot(x=\"decade\", y=\"energy\",  hue=\"country\", kind=\"line\", data = sampleData)\n\n# speechiness vs target (Line Plot)\nsns.relplot(x=\"decade\", y=\"speechiness\",  hue=\"country\", kind=\"line\", data = sampleData)\n\n# speechiness vs target (Line Plot)\nsns.relplot(x=\"decade\", y=\"danceability\", hue=\"country\", kind=\"line\", data = sampleData)\n\n# valence vs target (Line Plot)\nsns.relplot(x=\"decade\", y=\"valence\",  hue=\"country\", kind=\"line\", data = sampleData)\n\n# tempo vs target (Line Plot)\nsns.relplot(x=\"decade\", y=\"tempo\",  hue=\"country\", kind=\"line\", data = sampleData)\n\n# instrumental vs target (Line Plot)\nsns.relplot(x=\"decade\", y=\"instrumentalness\",  hue=\"country\", kind=\"line\", data = sampleData)\n\n# duration over time (Line Plot)\nsns.relplot(x=\"decade\", y=\"duration_sec\", hue=\"country\", kind=\"line\", data = sampleData)",
   "execution_count": null,
   "outputs": [
    {
     "output_type": "execute_result",
     "execution_count": 148,
     "data": {
      "text/plain": "<seaborn.axisgrid.FacetGrid at 0x7f6ce73b09d0>"
     },
     "metadata": {}
    },
    {
     "data": {
      "text/plain": "<Figure size 421.25x360 with 1 Axes>",
      "image/png": "[encoded data removed]"
     },
     "metadata": {
      "needs_background": "light",
      "image/png": {
       "width": 410,
       "height": 352
      }
     },
     "output_type": "display_data"
    },
    {
     "data": {
      "text/plain": "<Figure size 421.25x360 with 1 Axes>",
      "image/png": "[encoded data removed]"
     },
     "metadata": {
      "needs_background": "light",
      "image/png": {
       "width": 410,
       "height": 352
      }
     },
     "output_type": "display_data"
    },
    {
     "data": {
      "text/plain": "<Figure size 421.25x360 with 1 Axes>",
      "image/png": "[encoded data removed]"
     },
     "metadata": {
      "needs_background": "light",
      "image/png": {
       "width": 409,
       "height": 352
      }
     },
     "output_type": "display_data"
    },
    {
     "data": {
      "text/plain": "<Figure size 421.25x360 with 1 Axes>",
      "image/png": "[encoded data removed]"
     },
     "metadata": {
      "needs_background": "light",
      "image/png": {
       "width": 410,
       "height": 352
      }
     },
     "output_type": "display_data"
    },
    {
     "data": {
      "text/plain": "<Figure size 421.25x360 with 1 Axes>",
      "image/png": "[encoded data removed]"
     },
     "metadata": {
      "needs_background": "light",
      "image/png": {
       "width": 411,
       "height": 352
      }
     },
     "output_type": "display_data"
    },
    {
     "data": {
      "text/plain": "<Figure size 421.25x360 with 1 Axes>",
      "image/png": "[encoded data removed]"
     },
     "metadata": {
      "needs_background": "light",
      "image/png": {
       "width": 411,
       "height": 352
      }
     },
     "output_type": "display_data"
    },
    {
     "data": {
      "text/plain": "<Figure size 421.25x360 with 1 Axes>",
      "image/png": "[encoded data removed]"
     },
     "metadata": {
      "needs_background": "light",
      "image/png": {
       "width": 411,
       "height": 352
      }
     },
     "output_type": "display_data"
    },
    {
     "data": {
      "text/plain": "<Figure size 421.25x360 with 1 Axes>",
      "image/png": "[encoded data removed]"
     },
     "metadata": {
      "needs_background": "light",
      "image/png": {
       "width": 412,
       "height": 352
      }
     },
     "output_type": "display_data"
    }
   ]
  },
  {
   "cell_type": "markdown",
   "source": "### RB Data Analysis",
   "metadata": {
    "tags": [],
    "cell_id": "00010-6152c0f1-b1dd-49a0-9fce-66e9bca182a7",
    "deepnote_cell_type": "markdown"
   }
  },
  {
   "cell_type": "code",
   "metadata": {
    "tags": [],
    "cell_id": "00011-d437a5cf-2d2f-446d-90cb-817ac57e1dd5",
    "deepnote_to_be_reexecuted": true,
    "source_hash": "adea8911",
    "is_code_hidden": false,
    "is_output_hidden": false,
    "allow_embed": false,
    "execution_start": 1636235337643,
    "execution_millis": 420,
    "deepnote_cell_type": "code"
   },
   "source": "rb = pd.read_csv('./datasets/rb_hits.csv')\nrb = rb.rename(columns = {\"Track name\": \"track\"})\n\nr_bData = pd.merge(rData, rb, on = \"track\", how = 'inner')\n\nr_bData = r_bData.drop([' Artist name', ' Album', ' Playlist name', ' Type', ' ISRC'], axis = 1)\nr_bData['rb'] = True\nr_bData\n",
   "execution_count": null,
   "outputs": [
    {
     "output_type": "execute_result",
     "execution_count": 207,
     "data": {
      "application/vnd.deepnote.dataframe.v2+json": {
       "row_count": 58,
       "column_count": 24,
       "columns": [
        {
         "name": "track",
         "dtype": "object",
         "stats": {
          "unique_count": 29,
          "nan_count": 0,
          "categories": [
           {
            "name": "Promises",
            "count": 5
           },
           {
            "name": "Somebody",
            "count": 4
           },
           {
            "name": "27 others",
            "count": 49
           }
          ]
         }
        },
        {
         "name": "artist",
         "dtype": "object",
         "stats": {
          "unique_count": 56,
          "nan_count": 0,
          "categories": [
           {
            "name": "George Strait",
            "count": 2
           },
           {
            "name": "Collective Soul",
            "count": 2
           },
           {
            "name": "54 others",
            "count": 54
           }
          ]
         }
        },
        {
         "name": "uri",
         "dtype": "object",
         "stats": {
          "unique_count": 56,
          "nan_count": 0,
          "categories": [
           {
            "name": "spotify:track:1EXMjx4nCIvYTaY5CZMUSl",
            "count": 2
           },
           {
            "name": "spotify:track:5C9OFRqE2KHK7bOk2Z2z49",
            "count": 2
           },
           {
            "name": "54 others",
            "count": 54
           }
          ]
         }
        },
        {
         "name": "danceability",
         "dtype": "float64",
         "stats": {
          "unique_count": 51,
          "nan_count": 0,
          "min": "0.206",
          "max": "0.901",
          "histogram": [
           {
            "bin_start": 0.206,
            "bin_end": 0.27549999999999997,
            "count": 1
           },
           {
            "bin_start": 0.27549999999999997,
            "bin_end": 0.345,
            "count": 1
           },
           {
            "bin_start": 0.345,
            "bin_end": 0.4145,
            "count": 1
           },
           {
            "bin_start": 0.4145,
            "bin_end": 0.484,
            "count": 6
           },
           {
            "bin_start": 0.484,
            "bin_end": 0.5535,
            "count": 15
           },
           {
            "bin_start": 0.5535,
            "bin_end": 0.623,
            "count": 8
           },
           {
            "bin_start": 0.623,
            "bin_end": 0.6925,
            "count": 9
           },
           {
            "bin_start": 0.6925,
            "bin_end": 0.762,
            "count": 9
           },
           {
            "bin_start": 0.762,
            "bin_end": 0.8315,
            "count": 6
           },
           {
            "bin_start": 0.8315,
            "bin_end": 0.901,
            "count": 2
           }
          ]
         }
        },
        {
         "name": "energy",
         "dtype": "float64",
         "stats": {
          "unique_count": 52,
          "nan_count": 0,
          "min": "0.0412",
          "max": "0.952",
          "histogram": [
           {
            "bin_start": 0.0412,
            "bin_end": 0.13228,
            "count": 1
           },
           {
            "bin_start": 0.13228,
            "bin_end": 0.22336,
            "count": 2
           },
           {
            "bin_start": 0.22336,
            "bin_end": 0.31444,
            "count": 1
           },
           {
            "bin_start": 0.31444,
            "bin_end": 0.40552,
            "count": 3
           },
           {
            "bin_start": 0.40552,
            "bin_end": 0.4966,
            "count": 9
           },
           {
            "bin_start": 0.4966,
            "bin_end": 0.58768,
            "count": 11
           },
           {
            "bin_start": 0.58768,
            "bin_end": 0.6787599999999999,
            "count": 7
           },
           {
            "bin_start": 0.6787599999999999,
            "bin_end": 0.76984,
            "count": 13
           },
           {
            "bin_start": 0.76984,
            "bin_end": 0.86092,
            "count": 4
           },
           {
            "bin_start": 0.86092,
            "bin_end": 0.952,
            "count": 7
           }
          ]
         }
        },
        {
         "name": "key",
         "dtype": "int64",
         "stats": {
          "unique_count": 12,
          "nan_count": 0,
          "min": "0",
          "max": "11",
          "histogram": [
           {
            "bin_start": 0,
            "bin_end": 1.1,
            "count": 13
           },
           {
            "bin_start": 1.1,
            "bin_end": 2.2,
            "count": 5
           },
           {
            "bin_start": 2.2,
            "bin_end": 3.3000000000000003,
            "count": 3
           },
           {
            "bin_start": 3.3000000000000003,
            "bin_end": 4.4,
            "count": 2
           },
           {
            "bin_start": 4.4,
            "bin_end": 5.5,
            "count": 4
           },
           {
            "bin_start": 5.5,
            "bin_end": 6.6000000000000005,
            "count": 4
           },
           {
            "bin_start": 6.6000000000000005,
            "bin_end": 7.700000000000001,
            "count": 8
           },
           {
            "bin_start": 7.700000000000001,
            "bin_end": 8.8,
            "count": 3
           },
           {
            "bin_start": 8.8,
            "bin_end": 9.9,
            "count": 7
           },
           {
            "bin_start": 9.9,
            "bin_end": 11,
            "count": 9
           }
          ]
         }
        },
        {
         "name": "loudness",
         "dtype": "float64",
         "stats": {
          "unique_count": 56,
          "nan_count": 0,
          "min": "-19.097",
          "max": "-2.234",
          "histogram": [
           {
            "bin_start": -19.097,
            "bin_end": -17.410700000000002,
            "count": 1
           },
           {
            "bin_start": -17.410700000000002,
            "bin_end": -15.724400000000001,
            "count": 2
           },
           {
            "bin_start": -15.724400000000001,
            "bin_end": -14.038100000000002,
            "count": 0
           },
           {
            "bin_start": -14.038100000000002,
            "bin_end": -12.3518,
            "count": 4
           },
           {
            "bin_start": -12.3518,
            "bin_end": -10.665500000000002,
            "count": 4
           },
           {
            "bin_start": -10.665500000000002,
            "bin_end": -8.979200000000002,
            "count": 6
           },
           {
            "bin_start": -8.979200000000002,
            "bin_end": -7.292900000000001,
            "count": 8
           },
           {
            "bin_start": -7.292900000000001,
            "bin_end": -5.606600000000002,
            "count": 18
           },
           {
            "bin_start": -5.606600000000002,
            "bin_end": -3.920300000000003,
            "count": 14
           },
           {
            "bin_start": -3.920300000000003,
            "bin_end": -2.234,
            "count": 1
           }
          ]
         }
        },
        {
         "name": "mode",
         "dtype": "int64",
         "stats": {
          "unique_count": 2,
          "nan_count": 0,
          "min": "0",
          "max": "1",
          "histogram": [
           {
            "bin_start": 0,
            "bin_end": 0.1,
            "count": 22
           },
           {
            "bin_start": 0.1,
            "bin_end": 0.2,
            "count": 0
           },
           {
            "bin_start": 0.2,
            "bin_end": 0.30000000000000004,
            "count": 0
           },
           {
            "bin_start": 0.30000000000000004,
            "bin_end": 0.4,
            "count": 0
           },
           {
            "bin_start": 0.4,
            "bin_end": 0.5,
            "count": 0
           },
           {
            "bin_start": 0.5,
            "bin_end": 0.6000000000000001,
            "count": 0
           },
           {
            "bin_start": 0.6000000000000001,
            "bin_end": 0.7000000000000001,
            "count": 0
           },
           {
            "bin_start": 0.7000000000000001,
            "bin_end": 0.8,
            "count": 0
           },
           {
            "bin_start": 0.8,
            "bin_end": 0.9,
            "count": 0
           },
           {
            "bin_start": 0.9,
            "bin_end": 1,
            "count": 36
           }
          ]
         }
        },
        {
         "name": "speechiness",
         "dtype": "float64",
         "stats": {
          "unique_count": 52,
          "nan_count": 0,
          "min": "0.0242",
          "max": "0.325",
          "histogram": [
           {
            "bin_start": 0.0242,
            "bin_end": 0.05428,
            "count": 35
           },
           {
            "bin_start": 0.05428,
            "bin_end": 0.08436,
            "count": 12
           },
           {
            "bin_start": 0.08436,
            "bin_end": 0.11444000000000001,
            "count": 3
           },
           {
            "bin_start": 0.11444000000000001,
            "bin_end": 0.14452,
            "count": 0
           },
           {
            "bin_start": 0.14452,
            "bin_end": 0.1746,
            "count": 1
           },
           {
            "bin_start": 0.1746,
            "bin_end": 0.20468000000000003,
            "count": 3
           },
           {
            "bin_start": 0.20468000000000003,
            "bin_end": 0.23476000000000002,
            "count": 0
           },
           {
            "bin_start": 0.23476000000000002,
            "bin_end": 0.26484,
            "count": 1
           },
           {
            "bin_start": 0.26484,
            "bin_end": 0.29492,
            "count": 2
           },
           {
            "bin_start": 0.29492,
            "bin_end": 0.325,
            "count": 1
           }
          ]
         }
        },
        {
         "name": "acousticness",
         "dtype": "float64",
         "stats": {
          "unique_count": 55,
          "nan_count": 0,
          "min": "2.37e-05",
          "max": "0.961",
          "histogram": [
           {
            "bin_start": 0.0000237,
            "bin_end": 0.09612133,
            "count": 32
           },
           {
            "bin_start": 0.09612133,
            "bin_end": 0.19221896,
            "count": 4
           },
           {
            "bin_start": 0.19221896,
            "bin_end": 0.28831659000000004,
            "count": 5
           },
           {
            "bin_start": 0.28831659000000004,
            "bin_end": 0.38441422000000003,
            "count": 3
           },
           {
            "bin_start": 0.38441422000000003,
            "bin_end": 0.48051185,
            "count": 3
           },
           {
            "bin_start": 0.48051185,
            "bin_end": 0.57660948,
            "count": 4
           },
           {
            "bin_start": 0.57660948,
            "bin_end": 0.6727071099999999,
            "count": 1
           },
           {
            "bin_start": 0.6727071099999999,
            "bin_end": 0.76880474,
            "count": 3
           },
           {
            "bin_start": 0.76880474,
            "bin_end": 0.86490237,
            "count": 0
           },
           {
            "bin_start": 0.86490237,
            "bin_end": 0.961,
            "count": 3
           }
          ]
         }
        },
        {
         "name": "instrumentalness",
         "dtype": "float64",
         "stats": {
          "unique_count": 29,
          "nan_count": 0,
          "min": "0.0",
          "max": "0.806",
          "histogram": [
           {
            "bin_start": 0,
            "bin_end": 0.0806,
            "count": 52
           },
           {
            "bin_start": 0.0806,
            "bin_end": 0.1612,
            "count": 0
           },
           {
            "bin_start": 0.1612,
            "bin_end": 0.24180000000000001,
            "count": 3
           },
           {
            "bin_start": 0.24180000000000001,
            "bin_end": 0.3224,
            "count": 0
           },
           {
            "bin_start": 0.3224,
            "bin_end": 0.403,
            "count": 0
           },
           {
            "bin_start": 0.403,
            "bin_end": 0.48360000000000003,
            "count": 1
           },
           {
            "bin_start": 0.48360000000000003,
            "bin_end": 0.5642,
            "count": 0
           },
           {
            "bin_start": 0.5642,
            "bin_end": 0.6448,
            "count": 0
           },
           {
            "bin_start": 0.6448,
            "bin_end": 0.7254,
            "count": 0
           },
           {
            "bin_start": 0.7254,
            "bin_end": 0.806,
            "count": 2
           }
          ]
         }
        },
        {
         "name": "liveness",
         "dtype": "float64",
         "stats": {
          "unique_count": 54,
          "nan_count": 0,
          "min": "0.0435",
          "max": "0.651",
          "histogram": [
           {
            "bin_start": 0.0435,
            "bin_end": 0.10425000000000001,
            "count": 22
           },
           {
            "bin_start": 0.10425000000000001,
            "bin_end": 0.165,
            "count": 14
           },
           {
            "bin_start": 0.165,
            "bin_end": 0.22575,
            "count": 7
           },
           {
            "bin_start": 0.22575,
            "bin_end": 0.28650000000000003,
            "count": 5
           },
           {
            "bin_start": 0.28650000000000003,
            "bin_end": 0.34725,
            "count": 4
           },
           {
            "bin_start": 0.34725,
            "bin_end": 0.40800000000000003,
            "count": 2
           },
           {
            "bin_start": 0.40800000000000003,
            "bin_end": 0.46875,
            "count": 1
           },
           {
            "bin_start": 0.46875,
            "bin_end": 0.5295000000000001,
            "count": 1
           },
           {
            "bin_start": 0.5295000000000001,
            "bin_end": 0.59025,
            "count": 1
           },
           {
            "bin_start": 0.59025,
            "bin_end": 0.651,
            "count": 1
           }
          ]
         }
        },
        {
         "name": "valence",
         "dtype": "float64",
         "stats": {
          "unique_count": 52,
          "nan_count": 0,
          "min": "0.128",
          "max": "0.946",
          "histogram": [
           {
            "bin_start": 0.128,
            "bin_end": 0.2098,
            "count": 2
           },
           {
            "bin_start": 0.2098,
            "bin_end": 0.29159999999999997,
            "count": 10
           },
           {
            "bin_start": 0.29159999999999997,
            "bin_end": 0.3734,
            "count": 8
           },
           {
            "bin_start": 0.3734,
            "bin_end": 0.4552,
            "count": 6
           },
           {
            "bin_start": 0.4552,
            "bin_end": 0.5369999999999999,
            "count": 10
           },
           {
            "bin_start": 0.5369999999999999,
            "bin_end": 0.6188,
            "count": 6
           },
           {
            "bin_start": 0.6188,
            "bin_end": 0.7006,
            "count": 5
           },
           {
            "bin_start": 0.7006,
            "bin_end": 0.7824,
            "count": 4
           },
           {
            "bin_start": 0.7824,
            "bin_end": 0.8642,
            "count": 2
           },
           {
            "bin_start": 0.8642,
            "bin_end": 0.946,
            "count": 5
           }
          ]
         }
        },
        {
         "name": "tempo",
         "dtype": "float64",
         "stats": {
          "unique_count": 56,
          "nan_count": 0,
          "min": "75.59",
          "max": "187.797",
          "histogram": [
           {
            "bin_start": 75.59,
            "bin_end": 86.8107,
            "count": 5
           },
           {
            "bin_start": 86.8107,
            "bin_end": 98.0314,
            "count": 12
           },
           {
            "bin_start": 98.0314,
            "bin_end": 109.2521,
            "count": 7
           },
           {
            "bin_start": 109.2521,
            "bin_end": 120.4728,
            "count": 8
           },
           {
            "bin_start": 120.4728,
            "bin_end": 131.6935,
            "count": 10
           },
           {
            "bin_start": 131.6935,
            "bin_end": 142.9142,
            "count": 5
           },
           {
            "bin_start": 142.9142,
            "bin_end": 154.13490000000002,
            "count": 4
           },
           {
            "bin_start": 154.13490000000002,
            "bin_end": 165.35559999999998,
            "count": 1
           },
           {
            "bin_start": 165.35559999999998,
            "bin_end": 176.5763,
            "count": 2
           },
           {
            "bin_start": 176.5763,
            "bin_end": 187.797,
            "count": 4
           }
          ]
         }
        },
        {
         "name": "duration_ms",
         "dtype": "int64",
         "stats": {
          "unique_count": 56,
          "nan_count": 0,
          "min": "110507",
          "max": "520960",
          "histogram": [
           {
            "bin_start": 110507,
            "bin_end": 151552.3,
            "count": 3
           },
           {
            "bin_start": 151552.3,
            "bin_end": 192597.6,
            "count": 7
           },
           {
            "bin_start": 192597.6,
            "bin_end": 233642.90000000002,
            "count": 23
           },
           {
            "bin_start": 233642.90000000002,
            "bin_end": 274688.2,
            "count": 15
           },
           {
            "bin_start": 274688.2,
            "bin_end": 315733.5,
            "count": 4
           },
           {
            "bin_start": 315733.5,
            "bin_end": 356778.80000000005,
            "count": 5
           },
           {
            "bin_start": 356778.80000000005,
            "bin_end": 397824.10000000003,
            "count": 0
           },
           {
            "bin_start": 397824.10000000003,
            "bin_end": 438869.4,
            "count": 0
           },
           {
            "bin_start": 438869.4,
            "bin_end": 479914.7,
            "count": 0
           },
           {
            "bin_start": 479914.7,
            "bin_end": 520960,
            "count": 1
           }
          ]
         }
        },
        {
         "name": "time_signature",
         "dtype": "int64",
         "stats": {
          "unique_count": 3,
          "nan_count": 0,
          "min": "3",
          "max": "5",
          "histogram": [
           {
            "bin_start": 3,
            "bin_end": 3.2,
            "count": 2
           },
           {
            "bin_start": 3.2,
            "bin_end": 3.4,
            "count": 0
           },
           {
            "bin_start": 3.4,
            "bin_end": 3.6,
            "count": 0
           },
           {
            "bin_start": 3.6,
            "bin_end": 3.8,
            "count": 0
           },
           {
            "bin_start": 3.8,
            "bin_end": 4,
            "count": 0
           },
           {
            "bin_start": 4,
            "bin_end": 4.2,
            "count": 55
           },
           {
            "bin_start": 4.2,
            "bin_end": 4.4,
            "count": 0
           },
           {
            "bin_start": 4.4,
            "bin_end": 4.6,
            "count": 0
           },
           {
            "bin_start": 4.6,
            "bin_end": 4.8,
            "count": 0
           },
           {
            "bin_start": 4.8,
            "bin_end": 5,
            "count": 1
           }
          ]
         }
        },
        {
         "name": "chorus_hit",
         "dtype": "float64",
         "stats": {
          "unique_count": 56,
          "nan_count": 0,
          "min": "17.10822",
          "max": "71.22774",
          "histogram": [
           {
            "bin_start": 17.10822,
            "bin_end": 22.520172,
            "count": 7
           },
           {
            "bin_start": 22.520172,
            "bin_end": 27.932123999999998,
            "count": 10
           },
           {
            "bin_start": 27.932123999999998,
            "bin_end": 33.344076,
            "count": 13
           },
           {
            "bin_start": 33.344076,
            "bin_end": 38.756028,
            "count": 10
           },
           {
            "bin_start": 38.756028,
            "bin_end": 44.16798,
            "count": 6
           },
           {
            "bin_start": 44.16798,
            "bin_end": 49.579932,
            "count": 5
           },
           {
            "bin_start": 49.579932,
            "bin_end": 54.991884,
            "count": 2
           },
           {
            "bin_start": 54.991884,
            "bin_end": 60.403836,
            "count": 1
           },
           {
            "bin_start": 60.403836,
            "bin_end": 65.815788,
            "count": 0
           },
           {
            "bin_start": 65.815788,
            "bin_end": 71.22774,
            "count": 4
           }
          ]
         }
        },
        {
         "name": "sections",
         "dtype": "int64",
         "stats": {
          "unique_count": 12,
          "nan_count": 0,
          "min": "5",
          "max": "20",
          "histogram": [
           {
            "bin_start": 5,
            "bin_end": 6.5,
            "count": 4
           },
           {
            "bin_start": 6.5,
            "bin_end": 8,
            "count": 2
           },
           {
            "bin_start": 8,
            "bin_end": 9.5,
            "count": 18
           },
           {
            "bin_start": 9.5,
            "bin_end": 11,
            "count": 7
           },
           {
            "bin_start": 11,
            "bin_end": 12.5,
            "count": 19
           },
           {
            "bin_start": 12.5,
            "bin_end": 14,
            "count": 3
           },
           {
            "bin_start": 14,
            "bin_end": 15.5,
            "count": 4
           },
           {
            "bin_start": 15.5,
            "bin_end": 17,
            "count": 0
           },
           {
            "bin_start": 17,
            "bin_end": 18.5,
            "count": 0
           },
           {
            "bin_start": 18.5,
            "bin_end": 20,
            "count": 1
           }
          ]
         }
        },
        {
         "name": "target",
         "dtype": "int64",
         "stats": {
          "unique_count": 2,
          "nan_count": 0,
          "min": "0",
          "max": "1",
          "histogram": [
           {
            "bin_start": 0,
            "bin_end": 0.1,
            "count": 7
           },
           {
            "bin_start": 0.1,
            "bin_end": 0.2,
            "count": 0
           },
           {
            "bin_start": 0.2,
            "bin_end": 0.30000000000000004,
            "count": 0
           },
           {
            "bin_start": 0.30000000000000004,
            "bin_end": 0.4,
            "count": 0
           },
           {
            "bin_start": 0.4,
            "bin_end": 0.5,
            "count": 0
           },
           {
            "bin_start": 0.5,
            "bin_end": 0.6000000000000001,
            "count": 0
           },
           {
            "bin_start": 0.6000000000000001,
            "bin_end": 0.7000000000000001,
            "count": 0
           },
           {
            "bin_start": 0.7000000000000001,
            "bin_end": 0.8,
            "count": 0
           },
           {
            "bin_start": 0.8,
            "bin_end": 0.9,
            "count": 0
           },
           {
            "bin_start": 0.9,
            "bin_end": 1,
            "count": 51
           }
          ]
         }
        },
        {
         "name": "decade",
         "dtype": "int64",
         "stats": {
          "unique_count": 6,
          "nan_count": 0,
          "min": "1960",
          "max": "2010",
          "histogram": [
           {
            "bin_start": 1960,
            "bin_end": 1965,
            "count": 3
           },
           {
            "bin_start": 1965,
            "bin_end": 1970,
            "count": 0
           },
           {
            "bin_start": 1970,
            "bin_end": 1975,
            "count": 5
           },
           {
            "bin_start": 1975,
            "bin_end": 1980,
            "count": 0
           },
           {
            "bin_start": 1980,
            "bin_end": 1985,
            "count": 8
           },
           {
            "bin_start": 1985,
            "bin_end": 1990,
            "count": 0
           },
           {
            "bin_start": 1990,
            "bin_end": 1995,
            "count": 10
           },
           {
            "bin_start": 1995,
            "bin_end": 2000,
            "count": 0
           },
           {
            "bin_start": 2000,
            "bin_end": 2005,
            "count": 10
           },
           {
            "bin_start": 2005,
            "bin_end": 2010,
            "count": 22
           }
          ]
         }
        },
        {
         "name": "duration_sec",
         "dtype": "float64",
         "stats": {
          "unique_count": 48,
          "nan_count": 0,
          "min": "111.0",
          "max": "521.0",
          "histogram": [
           {
            "bin_start": 111,
            "bin_end": 152,
            "count": 3
           },
           {
            "bin_start": 152,
            "bin_end": 193,
            "count": 7
           },
           {
            "bin_start": 193,
            "bin_end": 234,
            "count": 23
           },
           {
            "bin_start": 234,
            "bin_end": 275,
            "count": 15
           },
           {
            "bin_start": 275,
            "bin_end": 316,
            "count": 4
           },
           {
            "bin_start": 316,
            "bin_end": 357,
            "count": 5
           },
           {
            "bin_start": 357,
            "bin_end": 398,
            "count": 0
           },
           {
            "bin_start": 398,
            "bin_end": 439,
            "count": 0
           },
           {
            "bin_start": 439,
            "bin_end": 480,
            "count": 0
           },
           {
            "bin_start": 480,
            "bin_end": 521,
            "count": 1
           }
          ]
         }
        },
        {
         "name": "loudness_rounded",
         "dtype": "float64",
         "stats": {
          "unique_count": 15,
          "nan_count": 0,
          "min": "-19.0",
          "max": "-2.0",
          "histogram": [
           {
            "bin_start": -19,
            "bin_end": -17.3,
            "count": 1
           },
           {
            "bin_start": -17.3,
            "bin_end": -15.6,
            "count": 2
           },
           {
            "bin_start": -15.6,
            "bin_end": -13.9,
            "count": 2
           },
           {
            "bin_start": -13.9,
            "bin_end": -12.2,
            "count": 1
           },
           {
            "bin_start": -12.2,
            "bin_end": -10.5,
            "count": 5
           },
           {
            "bin_start": -10.5,
            "bin_end": -8.8,
            "count": 8
           },
           {
            "bin_start": -8.8,
            "bin_end": -7.1,
            "count": 5
           },
           {
            "bin_start": -7.1,
            "bin_end": -5.4,
            "count": 19
           },
           {
            "bin_start": -5.4,
            "bin_end": -3.700000000000001,
            "count": 14
           },
           {
            "bin_start": -3.700000000000001,
            "bin_end": -2,
            "count": 1
           }
          ]
         }
        },
        {
         "name": "christmas",
         "dtype": "bool",
         "stats": {
          "unique_count": 1,
          "nan_count": 0,
          "categories": [
           {
            "name": "False",
            "count": 58
           }
          ]
         }
        },
        {
         "name": "rb",
         "dtype": "bool",
         "stats": {
          "unique_count": 1,
          "nan_count": 0,
          "categories": [
           {
            "name": "True",
            "count": 58
           }
          ]
         }
        },
        {
         "name": "_deepnote_index_column",
         "dtype": "int64"
        }
       ],
       "rows_top": [
        {
         "track": "Somebody",
         "artist": "Natalie La Rose Featuring Jeremih",
         "uri": "spotify:track:7ioiB40H9xKs04QtIso2I3",
         "danceability": 0.83,
         "energy": 0.52,
         "key": 0,
         "loudness": -8.714,
         "mode": 1,
         "speechiness": 0.0376,
         "acousticness": 0.000792,
         "instrumentalness": 0.0000125,
         "liveness": 0.0656,
         "valence": 0.735,
         "tempo": 104.99,
         "duration_ms": 189907,
         "time_signature": 4,
         "chorus_hit": 19.54918,
         "sections": 8,
         "target": 1,
         "decade": 2010,
         "duration_sec": 190,
         "loudness_rounded": -9,
         "christmas": "False",
         "rb": "True",
         "_deepnote_index_column": 0
        },
        {
         "track": "Somebody",
         "artist": "Internet Money, Lil Tecca & A Boogie Wit da Hoodie",
         "uri": "spotify:track:735RSTb2xbtWbDtKD9XDYi",
         "danceability": 0.63,
         "energy": 0.671,
         "key": 6,
         "loudness": -6.659,
         "mode": 0,
         "speechiness": 0.256,
         "acousticness": 0.363,
         "instrumentalness": 0,
         "liveness": 0.113,
         "valence": 0.333,
         "tempo": 89.921,
         "duration_ms": 174333,
         "time_signature": 4,
         "chorus_hit": 49.36604,
         "sections": 9,
         "target": 1,
         "decade": 2010,
         "duration_sec": 174,
         "loudness_rounded": -7,
         "christmas": "False",
         "rb": "True",
         "_deepnote_index_column": 1
        },
        {
         "track": "Somebody",
         "artist": "Reba McEntire",
         "uri": "spotify:track:4m3VFxVwSPk8VGoA9qcLRC",
         "danceability": 0.544,
         "energy": 0.169,
         "key": 1,
         "loudness": -17.224,
         "mode": 1,
         "speechiness": 0.0283,
         "acousticness": 0.272,
         "instrumentalness": 0.00000146,
         "liveness": 0.0831,
         "valence": 0.39,
         "tempo": 98.649,
         "duration_ms": 213560,
         "time_signature": 4,
         "chorus_hit": 42.21306,
         "sections": 10,
         "target": 1,
         "decade": 2000,
         "duration_sec": 214,
         "loudness_rounded": -17,
         "christmas": "False",
         "rb": "True",
         "_deepnote_index_column": 2
        },
        {
         "track": "Somebody",
         "artist": "Bryan Adams",
         "uri": "spotify:track:3KTxIOIZIE7UM6vwCX4Ofv",
         "danceability": 0.545,
         "energy": 0.749,
         "key": 9,
         "loudness": -5.485,
         "mode": 0,
         "speechiness": 0.0273,
         "acousticness": 0.00245,
         "instrumentalness": 0.00000517,
         "liveness": 0.0516,
         "valence": 0.457,
         "tempo": 97.605,
         "duration_ms": 283387,
         "time_signature": 4,
         "chorus_hit": 33.37022,
         "sections": 10,
         "target": 1,
         "decade": 1980,
         "duration_sec": 283,
         "loudness_rounded": -5,
         "christmas": "False",
         "rb": "True",
         "_deepnote_index_column": 3
        },
        {
         "track": "The Man",
         "artist": "Aloe Blacc",
         "uri": "spotify:track:2stPxcgjdSImK7Gizl8ZUN",
         "danceability": 0.308,
         "energy": 0.769,
         "key": 11,
         "loudness": -7.256,
         "mode": 0,
         "speechiness": 0.065,
         "acousticness": 0.0331,
         "instrumentalness": 0,
         "liveness": 0.214,
         "valence": 0.488,
         "tempo": 81.853,
         "duration_ms": 254880,
         "time_signature": 4,
         "chorus_hit": 29.07343,
         "sections": 11,
         "target": 1,
         "decade": 2010,
         "duration_sec": 255,
         "loudness_rounded": -7,
         "christmas": "False",
         "rb": "True",
         "_deepnote_index_column": 4
        },
        {
         "track": "She Knows",
         "artist": "J. Cole Featuring Amber Coffman & The Cults",
         "uri": "spotify:track:282L6SR4Y8Rs0VUgtEy1Zw",
         "danceability": 0.766,
         "energy": 0.739,
         "key": 1,
         "loudness": -10.364,
         "mode": 1,
         "speechiness": 0.0805,
         "acousticness": 0.0192,
         "instrumentalness": 0.0794,
         "liveness": 0.229,
         "valence": 0.185,
         "tempo": 118.005,
         "duration_ms": 296520,
         "time_signature": 4,
         "chorus_hit": 33.08374,
         "sections": 10,
         "target": 1,
         "decade": 2010,
         "duration_sec": 297,
         "loudness_rounded": -10,
         "christmas": "False",
         "rb": "True",
         "_deepnote_index_column": 5
        },
        {
         "track": "She Knows",
         "artist": "Ne-Yo Featuring Juicy J",
         "uri": "spotify:track:7seTcUFOhn5caSDbiSfsp0",
         "danceability": 0.706,
         "energy": 0.572,
         "key": 8,
         "loudness": -5.799,
         "mode": 0,
         "speechiness": 0.0326,
         "acousticness": 0.0262,
         "instrumentalness": 0,
         "liveness": 0.585,
         "valence": 0.574,
         "tempo": 139.982,
         "duration_ms": 214726,
         "time_signature": 4,
         "chorus_hit": 34.82205,
         "sections": 9,
         "target": 1,
         "decade": 2010,
         "duration_sec": 215,
         "loudness_rounded": -6,
         "christmas": "False",
         "rb": "True",
         "_deepnote_index_column": 6
        },
        {
         "track": "Right Now",
         "artist": "Rihanna Featuring David Guetta",
         "uri": "spotify:track:28OX5qT45GZBuu8CNKBOj6",
         "danceability": 0.668,
         "energy": 0.64,
         "key": 3,
         "loudness": -5.208,
         "mode": 0,
         "speechiness": 0.0888,
         "acousticness": 0.049,
         "instrumentalness": 0,
         "liveness": 0.0675,
         "valence": 0.259,
         "tempo": 130.004,
         "duration_ms": 181627,
         "time_signature": 4,
         "chorus_hit": 31.07414,
         "sections": 9,
         "target": 1,
         "decade": 2010,
         "duration_sec": 182,
         "loudness_rounded": -5,
         "christmas": "False",
         "rb": "True",
         "_deepnote_index_column": 7
        },
        {
         "track": "Right Now",
         "artist": "Van Halen",
         "uri": "spotify:track:6N1sNzq3CArC1pMSaZTxaT",
         "danceability": 0.529,
         "energy": 0.662,
         "key": 5,
         "loudness": -11.745,
         "mode": 1,
         "speechiness": 0.0273,
         "acousticness": 0.153,
         "instrumentalness": 0.00542,
         "liveness": 0.099,
         "valence": 0.302,
         "tempo": 93.93,
         "duration_ms": 320867,
         "time_signature": 4,
         "chorus_hit": 37.27743,
         "sections": 9,
         "target": 1,
         "decade": 1990,
         "duration_sec": 321,
         "loudness_rounded": -12,
         "christmas": "False",
         "rb": "True",
         "_deepnote_index_column": 8
        },
        {
         "track": "Right Now",
         "artist": "Al B. Sure!",
         "uri": "spotify:track:6oPnKLqVBDI0SoAzxoMlKN",
         "danceability": 0.635,
         "energy": 0.522,
         "key": 2,
         "loudness": -10.498,
         "mode": 1,
         "speechiness": 0.0536,
         "acousticness": 0.306,
         "instrumentalness": 0,
         "liveness": 0.127,
         "valence": 0.47,
         "tempo": 163.881,
         "duration_ms": 354960,
         "time_signature": 4,
         "chorus_hit": 23.054,
         "sections": 15,
         "target": 1,
         "decade": 1990,
         "duration_sec": 355,
         "loudness_rounded": -10,
         "christmas": "False",
         "rb": "True",
         "_deepnote_index_column": 9
        },
        {
         "track": "Adorn",
         "artist": "Miguel",
         "uri": "spotify:track:25cUhiAod71TIQSNicOaW3",
         "danceability": 0.625,
         "energy": 0.576,
         "key": 11,
         "loudness": -5.693,
         "mode": 0,
         "speechiness": 0.175,
         "acousticness": 0.0543,
         "instrumentalness": 0.0000407,
         "liveness": 0.187,
         "valence": 0.235,
         "tempo": 179.063,
         "duration_ms": 193147,
         "time_signature": 4,
         "chorus_hit": 28.8348,
         "sections": 8,
         "target": 1,
         "decade": 2010,
         "duration_sec": 193,
         "loudness_rounded": -6,
         "christmas": "False",
         "rb": "True",
         "_deepnote_index_column": 10
        },
        {
         "track": "Get Her Back",
         "artist": "Robin Thicke",
         "uri": "spotify:track:231O3DltLcwtgIKoNbMkrt",
         "danceability": 0.579,
         "energy": 0.287,
         "key": 4,
         "loudness": -13.642,
         "mode": 0,
         "speechiness": 0.0828,
         "acousticness": 0.915,
         "instrumentalness": 0,
         "liveness": 0.0969,
         "valence": 0.735,
         "tempo": 187.797,
         "duration_ms": 213173,
         "time_signature": 4,
         "chorus_hit": 17.10822,
         "sections": 12,
         "target": 1,
         "decade": 2010,
         "duration_sec": 213,
         "loudness_rounded": -14,
         "christmas": "False",
         "rb": "True",
         "_deepnote_index_column": 11
        },
        {
         "track": "Promises",
         "artist": "NERO",
         "uri": "spotify:track:4A7qcJp2Sg867JST1pSPJz",
         "danceability": 0.489,
         "energy": 0.952,
         "key": 9,
         "loudness": -4.372,
         "mode": 0,
         "speechiness": 0.0616,
         "acousticness": 0.000045,
         "instrumentalness": 0.00639,
         "liveness": 0.469,
         "valence": 0.293,
         "tempo": 143.935,
         "duration_ms": 257360,
         "time_signature": 4,
         "chorus_hit": 52.93212,
         "sections": 8,
         "target": 1,
         "decade": 2010,
         "duration_sec": 257,
         "loudness_rounded": -4,
         "christmas": "False",
         "rb": "True",
         "_deepnote_index_column": 12
        },
        {
         "track": "Promises",
         "artist": "Calvin Harris & Sam Smith",
         "uri": "spotify:track:5N5k9nd479b1xpDZ4usjrg",
         "danceability": 0.781,
         "energy": 0.768,
         "key": 11,
         "loudness": -5.991,
         "mode": 1,
         "speechiness": 0.0394,
         "acousticness": 0.0119,
         "instrumentalness": 0.00000491,
         "liveness": 0.325,
         "valence": 0.486,
         "tempo": 123.07,
         "duration_ms": 213309,
         "time_signature": 4,
         "chorus_hit": 34.16174,
         "sections": 9,
         "target": 1,
         "decade": 2010,
         "duration_sec": 213,
         "loudness_rounded": -6,
         "christmas": "False",
         "rb": "True",
         "_deepnote_index_column": 13
        },
        {
         "track": "Promises",
         "artist": "Barbra Streisand",
         "uri": "spotify:track:2zj2oanLv5B1RwlqIQYrOD",
         "danceability": 0.679,
         "energy": 0.388,
         "key": 11,
         "loudness": -15.87,
         "mode": 1,
         "speechiness": 0.0369,
         "acousticness": 0.0372,
         "instrumentalness": 0.000971,
         "liveness": 0.135,
         "valence": 0.72,
         "tempo": 97.366,
         "duration_ms": 261040,
         "time_signature": 4,
         "chorus_hit": 18.55017,
         "sections": 14,
         "target": 1,
         "decade": 1980,
         "duration_sec": 261,
         "loudness_rounded": -16,
         "christmas": "False",
         "rb": "True",
         "_deepnote_index_column": 14
        },
        {
         "track": "Promises",
         "artist": "Trevor Rabin",
         "uri": "spotify:track:2sZ0WTc3Sq2rzoxrcDlXCB",
         "danceability": 0.496,
         "energy": 0.42,
         "key": 7,
         "loudness": -12.558,
         "mode": 1,
         "speechiness": 0.0279,
         "acousticness": 0.233,
         "instrumentalness": 0.0000883,
         "liveness": 0.0867,
         "valence": 0.216,
         "tempo": 140.188,
         "duration_ms": 355133,
         "time_signature": 4,
         "chorus_hit": 28.05539,
         "sections": 13,
         "target": 0,
         "decade": 1980,
         "duration_sec": 355,
         "loudness_rounded": -13,
         "christmas": "False",
         "rb": "True",
         "_deepnote_index_column": 15
        },
        {
         "track": "Promises",
         "artist": "Fugazi",
         "uri": "spotify:track:4VMMmrVvOlb2FEXJEWktNg",
         "danceability": 0.459,
         "energy": 0.525,
         "key": 11,
         "loudness": -7.254,
         "mode": 0,
         "speechiness": 0.033,
         "acousticness": 0.0049,
         "instrumentalness": 0.483,
         "liveness": 0.339,
         "valence": 0.231,
         "tempo": 123.244,
         "duration_ms": 242120,
         "time_signature": 4,
         "chorus_hit": 26.77761,
         "sections": 8,
         "target": 0,
         "decade": 1980,
         "duration_sec": 242,
         "loudness_rounded": -7,
         "christmas": "False",
         "rb": "True",
         "_deepnote_index_column": 16
        },
        {
         "track": "Slow Motion",
         "artist": "Trey Songz",
         "uri": "spotify:track:4NYwy0R3NdvORX2B6OZXBT",
         "danceability": 0.733,
         "energy": 0.408,
         "key": 7,
         "loudness": -7.834,
         "mode": 0,
         "speechiness": 0.0388,
         "acousticness": 0.679,
         "instrumentalness": 0.0000392,
         "liveness": 0.11,
         "valence": 0.291,
         "tempo": 94.947,
         "duration_ms": 197854,
         "time_signature": 4,
         "chorus_hit": 30.37535,
         "sections": 11,
         "target": 1,
         "decade": 2010,
         "duration_sec": 198,
         "loudness_rounded": -8,
         "christmas": "False",
         "rb": "True",
         "_deepnote_index_column": 17
        },
        {
         "track": "Slow Motion",
         "artist": "Juvenile Featuring Soulja Slim",
         "uri": "spotify:track:6ihObRBTB8xdSH2mlERtOX",
         "danceability": 0.713,
         "energy": 0.734,
         "key": 0,
         "loudness": -4.894,
         "mode": 0,
         "speechiness": 0.325,
         "acousticness": 0.549,
         "instrumentalness": 0,
         "liveness": 0.0687,
         "valence": 0.891,
         "tempo": 172.871,
         "duration_ms": 248200,
         "time_signature": 4,
         "chorus_hit": 34.10403,
         "sections": 14,
         "target": 1,
         "decade": 2000,
         "duration_sec": 248,
         "loudness_rounded": -5,
         "christmas": "False",
         "rb": "True",
         "_deepnote_index_column": 18
        },
        {
         "track": "Slow Motion",
         "artist": "Color Me Badd",
         "uri": "spotify:track:03GzYByXsXHcoEAxjsWv9G",
         "danceability": 0.783,
         "energy": 0.885,
         "key": 6,
         "loudness": -7.747,
         "mode": 0,
         "speechiness": 0.0648,
         "acousticness": 0.00531,
         "instrumentalness": 0.752,
         "liveness": 0.0435,
         "valence": 0.941,
         "tempo": 92.042,
         "duration_ms": 265667,
         "time_signature": 4,
         "chorus_hit": 49.84596,
         "sections": 12,
         "target": 1,
         "decade": 1990,
         "duration_sec": 266,
         "loudness_rounded": -8,
         "christmas": "False",
         "rb": "True",
         "_deepnote_index_column": 19
        }
       ],
       "rows_bottom": [
        {
         "track": "Run",
         "artist": "George Strait",
         "uri": "spotify:track:1EXMjx4nCIvYTaY5CZMUSl",
         "danceability": 0.544,
         "energy": 0.57,
         "key": 2,
         "loudness": -10.192,
         "mode": 1,
         "speechiness": 0.0326,
         "acousticness": 0.462,
         "instrumentalness": 0.00183,
         "liveness": 0.213,
         "valence": 0.295,
         "tempo": 75.59,
         "duration_ms": 245427,
         "time_signature": 4,
         "chorus_hit": 18.93509,
         "sections": 12,
         "target": 1,
         "decade": 2000,
         "duration_sec": 245,
         "loudness_rounded": -10,
         "christmas": "False",
         "rb": "True",
         "_deepnote_index_column": 37
        },
        {
         "track": "Run",
         "artist": "Collective Soul",
         "uri": "spotify:track:5C9OFRqE2KHK7bOk2Z2z49",
         "danceability": 0.552,
         "energy": 0.727,
         "key": 11,
         "loudness": -7.015,
         "mode": 1,
         "speechiness": 0.0242,
         "acousticness": 0.0275,
         "instrumentalness": 0.00121,
         "liveness": 0.0796,
         "valence": 0.653,
         "tempo": 95.989,
         "duration_ms": 273453,
         "time_signature": 4,
         "chorus_hit": 71.02886,
         "sections": 10,
         "target": 1,
         "decade": 1990,
         "duration_sec": 273,
         "loudness_rounded": -7,
         "christmas": "False",
         "rb": "True",
         "_deepnote_index_column": 38
        },
        {
         "track": "Run",
         "artist": "Collective Soul",
         "uri": "spotify:track:5C9OFRqE2KHK7bOk2Z2z49",
         "danceability": 0.552,
         "energy": 0.727,
         "key": 11,
         "loudness": -7.015,
         "mode": 1,
         "speechiness": 0.0242,
         "acousticness": 0.0275,
         "instrumentalness": 0.00121,
         "liveness": 0.0796,
         "valence": 0.653,
         "tempo": 95.989,
         "duration_ms": 273453,
         "time_signature": 4,
         "chorus_hit": 71.02886,
         "sections": 10,
         "target": 1,
         "decade": 1990,
         "duration_sec": 273,
         "loudness_rounded": -7,
         "christmas": "False",
         "rb": "True",
         "_deepnote_index_column": 39
        },
        {
         "track": "Baby Don't Go",
         "artist": "Fabolous Featuring Jermaine Dupri",
         "uri": "spotify:track:2FSQYGTyk8GTIaiRyAWu74",
         "danceability": 0.834,
         "energy": 0.687,
         "key": 1,
         "loudness": -6.473,
         "mode": 1,
         "speechiness": 0.105,
         "acousticness": 0.0885,
         "instrumentalness": 0,
         "liveness": 0.144,
         "valence": 0.491,
         "tempo": 99.752,
         "duration_ms": 216653,
         "time_signature": 4,
         "chorus_hit": 27.79978,
         "sections": 8,
         "target": 1,
         "decade": 2000,
         "duration_sec": 217,
         "loudness_rounded": -6,
         "christmas": "False",
         "rb": "True",
         "_deepnote_index_column": 40
        },
        {
         "track": "Baby Don't Go",
         "artist": "Karla Bonoff",
         "uri": "spotify:track:6WearzOTuR0pEewHf1NR8E",
         "danceability": 0.743,
         "energy": 0.706,
         "key": 0,
         "loudness": -8.495,
         "mode": 1,
         "speechiness": 0.0589,
         "acousticness": 0.24,
         "instrumentalness": 0,
         "liveness": 0.0645,
         "valence": 0.814,
         "tempo": 118.172,
         "duration_ms": 195493,
         "time_signature": 4,
         "chorus_hit": 46.9204,
         "sections": 8,
         "target": 1,
         "decade": 1980,
         "duration_sec": 195,
         "loudness_rounded": -8,
         "christmas": "False",
         "rb": "True",
         "_deepnote_index_column": 41
        },
        {
         "track": "Baby Don't Go",
         "artist": "Sonny & Cher",
         "uri": "spotify:track:1DM97JJjBJShdMuWI0B5L9",
         "danceability": 0.54,
         "energy": 0.492,
         "key": 0,
         "loudness": -9.087,
         "mode": 1,
         "speechiness": 0.0286,
         "acousticness": 0.473,
         "instrumentalness": 0,
         "liveness": 0.046,
         "valence": 0.552,
         "tempo": 121.832,
         "duration_ms": 194400,
         "time_signature": 4,
         "chorus_hit": 49.56247,
         "sections": 9,
         "target": 1,
         "decade": 1960,
         "duration_sec": 194,
         "loudness_rounded": -9,
         "christmas": "False",
         "rb": "True",
         "_deepnote_index_column": 42
        },
        {
         "track": "Nobody",
         "artist": "Wonder Girls",
         "uri": "spotify:track:0TBNg82Zqi0k1VslEe2ooq",
         "danceability": 0.901,
         "energy": 0.74,
         "key": 11,
         "loudness": -5.108,
         "mode": 1,
         "speechiness": 0.0751,
         "acousticness": 0.161,
         "instrumentalness": 0.00000135,
         "liveness": 0.155,
         "valence": 0.946,
         "tempo": 130.971,
         "duration_ms": 214773,
         "time_signature": 4,
         "chorus_hit": 30.78755,
         "sections": 13,
         "target": 1,
         "decade": 2000,
         "duration_sec": 215,
         "loudness_rounded": -5,
         "christmas": "False",
         "rb": "True",
         "_deepnote_index_column": 43
        },
        {
         "track": "Nobody",
         "artist": "Keith Sweat Featuring Athena Cage",
         "uri": "spotify:track:4SF1747p541umnykBp352Q",
         "danceability": 0.699,
         "energy": 0.492,
         "key": 9,
         "loudness": -9.449,
         "mode": 0,
         "speechiness": 0.0318,
         "acousticness": 0.484,
         "instrumentalness": 0,
         "liveness": 0.0482,
         "valence": 0.388,
         "tempo": 117.907,
         "duration_ms": 264773,
         "time_signature": 4,
         "chorus_hit": 32.4779,
         "sections": 12,
         "target": 1,
         "decade": 1990,
         "duration_sec": 265,
         "loudness_rounded": -9,
         "christmas": "False",
         "rb": "True",
         "_deepnote_index_column": 44
        },
        {
         "track": "Nobody",
         "artist": "Sylvia",
         "uri": "spotify:track:1IyktkUQ3ktjlc6eDXG967",
         "danceability": 0.764,
         "energy": 0.448,
         "key": 0,
         "loudness": -12.371,
         "mode": 1,
         "speechiness": 0.0336,
         "acousticness": 0.249,
         "instrumentalness": 0,
         "liveness": 0.107,
         "valence": 0.868,
         "tempo": 124.226,
         "duration_ms": 199200,
         "time_signature": 4,
         "chorus_hit": 24.42111,
         "sections": 9,
         "target": 1,
         "decade": 1980,
         "duration_sec": 199,
         "loudness_rounded": -12,
         "christmas": "False",
         "rb": "True",
         "_deepnote_index_column": 45
        },
        {
         "track": "Nobody",
         "artist": "The Doobie Brothers",
         "uri": "spotify:track:1w6uOq9M9XOqr5ftBZHfcN",
         "danceability": 0.634,
         "energy": 0.892,
         "key": 2,
         "loudness": -5.374,
         "mode": 1,
         "speechiness": 0.0309,
         "acousticness": 0.0134,
         "instrumentalness": 0.00068,
         "liveness": 0.0477,
         "valence": 0.23,
         "tempo": 114.967,
         "duration_ms": 260027,
         "time_signature": 4,
         "chorus_hit": 27.17715,
         "sections": 12,
         "target": 1,
         "decade": 1970,
         "duration_sec": 260,
         "loudness_rounded": -5,
         "christmas": "False",
         "rb": "True",
         "_deepnote_index_column": 46
        },
        {
         "track": "Call My Name",
         "artist": "Prince",
         "uri": "spotify:track:1NtMkOgf5U9YMaXyuEIRn2",
         "danceability": 0.622,
         "energy": 0.574,
         "key": 5,
         "loudness": -5.068,
         "mode": 0,
         "speechiness": 0.155,
         "acousticness": 0.685,
         "instrumentalness": 0,
         "liveness": 0.111,
         "valence": 0.405,
         "tempo": 113.984,
         "duration_ms": 315773,
         "time_signature": 4,
         "chorus_hit": 59.07282,
         "sections": 8,
         "target": 1,
         "decade": 2000,
         "duration_sec": 316,
         "loudness_rounded": -5,
         "christmas": "False",
         "rb": "True",
         "_deepnote_index_column": 47
        },
        {
         "track": "First Time",
         "artist": "Lifehouse",
         "uri": "spotify:track:6zg7srP3ORV0V8sUPk7zjh",
         "danceability": 0.442,
         "energy": 0.952,
         "key": 3,
         "loudness": -2.234,
         "mode": 1,
         "speechiness": 0.0585,
         "acousticness": 0.0000237,
         "instrumentalness": 0,
         "liveness": 0.187,
         "valence": 0.537,
         "tempo": 130.71,
         "duration_ms": 202707,
         "time_signature": 4,
         "chorus_hit": 37.09826,
         "sections": 7,
         "target": 1,
         "decade": 2000,
         "duration_sec": 203,
         "loudness_rounded": -2,
         "christmas": "False",
         "rb": "True",
         "_deepnote_index_column": 48
        },
        {
         "track": "First Time",
         "artist": "Matt Nathanson",
         "uri": "spotify:track:2EZFzm4VZtbxJXBDhHRmwu",
         "danceability": 0.54,
         "energy": 0.456,
         "key": 6,
         "loudness": -6.133,
         "mode": 1,
         "speechiness": 0.0274,
         "acousticness": 0.201,
         "instrumentalness": 0,
         "liveness": 0.12,
         "valence": 0.355,
         "tempo": 92.988,
         "duration_ms": 239947,
         "time_signature": 4,
         "chorus_hit": 38.41405,
         "sections": 12,
         "target": 0,
         "decade": 1990,
         "duration_sec": 240,
         "loudness_rounded": -6,
         "christmas": "False",
         "rb": "True",
         "_deepnote_index_column": 49
        },
        {
         "track": "All I Want",
         "artist": "Susanna Hoffs",
         "uri": "spotify:track:53m1rGnPJVtI0zUryVyL9N",
         "danceability": 0.617,
         "energy": 0.559,
         "key": 4,
         "loudness": -5.738,
         "mode": 1,
         "speechiness": 0.0269,
         "acousticness": 0.0359,
         "instrumentalness": 0,
         "liveness": 0.141,
         "valence": 0.664,
         "tempo": 111.747,
         "duration_ms": 198373,
         "time_signature": 4,
         "chorus_hit": 28.0558,
         "sections": 11,
         "target": 1,
         "decade": 1990,
         "duration_sec": 198,
         "loudness_rounded": -6,
         "christmas": "False",
         "rb": "True",
         "_deepnote_index_column": 50
        },
        {
         "track": "All I Want",
         "artist": "Toad The Wet Sprocket",
         "uri": "spotify:track:2GHYJ0dhVds3PODKnTdiGE",
         "danceability": 0.6,
         "energy": 0.811,
         "key": 5,
         "loudness": -7.693,
         "mode": 1,
         "speechiness": 0.0788,
         "acousticness": 0.0558,
         "instrumentalness": 0.00000682,
         "liveness": 0.109,
         "valence": 0.622,
         "tempo": 124.303,
         "duration_ms": 196116,
         "time_signature": 4,
         "chorus_hit": 23.32175,
         "sections": 11,
         "target": 1,
         "decade": 1990,
         "duration_sec": 196,
         "loudness_rounded": -8,
         "christmas": "False",
         "rb": "True",
         "_deepnote_index_column": 51
        },
        {
         "track": "All I Want",
         "artist": "Howard Jones",
         "uri": "spotify:track:70nB7hTC7FDiYoJp0TVwnp",
         "danceability": 0.611,
         "energy": 0.868,
         "key": 3,
         "loudness": -7.982,
         "mode": 1,
         "speechiness": 0.0294,
         "acousticness": 0.0397,
         "instrumentalness": 0.00523,
         "liveness": 0.28,
         "valence": 0.424,
         "tempo": 113.167,
         "duration_ms": 275733,
         "time_signature": 4,
         "chorus_hit": 35.62317,
         "sections": 12,
         "target": 1,
         "decade": 1980,
         "duration_sec": 276,
         "loudness_rounded": -8,
         "christmas": "False",
         "rb": "True",
         "_deepnote_index_column": 52
        },
        {
         "track": "All I Want",
         "artist": "Tim Maia",
         "uri": "spotify:track:1Fxoj2yydAJV8wDWlglgAo",
         "danceability": 0.527,
         "energy": 0.618,
         "key": 7,
         "loudness": -6.45,
         "mode": 0,
         "speechiness": 0.175,
         "acousticness": 0.359,
         "instrumentalness": 0.00000598,
         "liveness": 0.169,
         "valence": 0.469,
         "tempo": 177.001,
         "duration_ms": 204733,
         "time_signature": 4,
         "chorus_hit": 32.06329,
         "sections": 11,
         "target": 0,
         "decade": 1970,
         "duration_sec": 205,
         "loudness_rounded": -6,
         "christmas": "False",
         "rb": "True",
         "_deepnote_index_column": 53
        },
        {
         "track": "Rumble",
         "artist": "The Swiv-O-Matics",
         "uri": "spotify:track:3tLkw752BPYiYYqartTVju",
         "danceability": 0.206,
         "energy": 0.785,
         "key": 9,
         "loudness": -4.236,
         "mode": 1,
         "speechiness": 0.049,
         "acousticness": 0.000612,
         "instrumentalness": 0.806,
         "liveness": 0.44,
         "valence": 0.808,
         "tempo": 148.524,
         "duration_ms": 110507,
         "time_signature": 4,
         "chorus_hit": 23.47467,
         "sections": 5,
         "target": 0,
         "decade": 1990,
         "duration_sec": 111,
         "loudness_rounded": -4,
         "christmas": "False",
         "rb": "True",
         "_deepnote_index_column": 54
        },
        {
         "track": "Dancing In The Dark",
         "artist": "Bruce Springsteen",
         "uri": "spotify:track:7FwBtcecmlpc1sLySPXeGE",
         "danceability": 0.527,
         "energy": 0.942,
         "key": 1,
         "loudness": -5.64,
         "mode": 0,
         "speechiness": 0.0366,
         "acousticness": 0.0115,
         "instrumentalness": 0,
         "liveness": 0.188,
         "valence": 0.495,
         "tempo": 148.723,
         "duration_ms": 241307,
         "time_signature": 4,
         "chorus_hit": 47.47864,
         "sections": 10,
         "target": 1,
         "decade": 1980,
         "duration_sec": 241,
         "loudness_rounded": -6,
         "christmas": "False",
         "rb": "True",
         "_deepnote_index_column": 55
        },
        {
         "track": "Behind Closed Doors",
         "artist": "Charlie Rich",
         "uri": "spotify:track:6d7Jz2np6jtNaZv1DiWfJs",
         "danceability": 0.492,
         "energy": 0.329,
         "key": 2,
         "loudness": -11.788,
         "mode": 1,
         "speechiness": 0.0274,
         "acousticness": 0.961,
         "instrumentalness": 0.199,
         "liveness": 0.0955,
         "valence": 0.589,
         "tempo": 85.196,
         "duration_ms": 174667,
         "time_signature": 4,
         "chorus_hit": 25.75736,
         "sections": 9,
         "target": 1,
         "decade": 1970,
         "duration_sec": 175,
         "loudness_rounded": -12,
         "christmas": "False",
         "rb": "True",
         "_deepnote_index_column": 56
        },
        {
         "track": "It's Your World",
         "artist": "Marty Robbins",
         "uri": "spotify:track:4YOujaYI7YhWtjHQg7ekDx",
         "danceability": 0.624,
         "energy": 0.323,
         "key": 5,
         "loudness": -11.342,
         "mode": 1,
         "speechiness": 0.0263,
         "acousticness": 0.75,
         "instrumentalness": 0,
         "liveness": 0.134,
         "valence": 0.733,
         "tempo": 108.125,
         "duration_ms": 164267,
         "time_signature": 4,
         "chorus_hit": 36.15282,
         "sections": 8,
         "target": 1,
         "decade": 1960,
         "duration_sec": 164,
         "loudness_rounded": -11,
         "christmas": "False",
         "rb": "True",
         "_deepnote_index_column": 57
        }
       ]
      },
      "text/plain": "                  track                                             artist  \\\n0              Somebody                  Natalie La Rose Featuring Jeremih   \n1              Somebody  Internet Money, Lil Tecca & A Boogie Wit da Ho...   \n2              Somebody                                      Reba McEntire   \n3              Somebody                                        Bryan Adams   \n4               The Man                                         Aloe Blacc   \n5             She Knows        J. Cole Featuring Amber Coffman & The Cults   \n6             She Knows                            Ne-Yo Featuring Juicy J   \n7             Right Now                     Rihanna Featuring David Guetta   \n8             Right Now                                          Van Halen   \n9             Right Now                                        Al B. Sure!   \n10                Adorn                                             Miguel   \n11         Get Her Back                                       Robin Thicke   \n12             Promises                                               NERO   \n13             Promises                          Calvin Harris & Sam Smith   \n14             Promises                                   Barbra Streisand   \n15             Promises                                       Trevor Rabin   \n16             Promises                                             Fugazi   \n17          Slow Motion                                         Trey Songz   \n18          Slow Motion                     Juvenile Featuring Soulja Slim   \n19          Slow Motion                                      Color Me Badd   \n20          Slow Motion                                       David Lindup   \n21            New Flame            Chris Brown Featuring Usher & Rick Ross   \n22       Baby Don't Lie                                       Gwen Stefani   \n23                 Hope                                   Bugge Wesseltoft   \n24                 Hope                                       XXXTENTACION   \n25     L.A.LOVE (la la)                                             Fergie   \n26         Losing Sleep                                        Chris Young   \n27          Hey Porsche                                              Nelly   \n28                Maybe                                       Sick Puppies   \n29                Maybe                                  The Three Degrees   \n30                Maybe                                    The Shangri-Las   \n31          Nobody Love                                         Tori Kelly   \n32                I Bet                                              Ciara   \n33       Ain't My Fault                                       Zara Larsson   \n34            Like This                                               Mims   \n35            Like This                        Kelly Rowland Featuring Eve   \n36                  Run                                      George Strait   \n37                  Run                                      George Strait   \n38                  Run                                    Collective Soul   \n39                  Run                                    Collective Soul   \n40        Baby Don't Go                  Fabolous Featuring Jermaine Dupri   \n41        Baby Don't Go                                       Karla Bonoff   \n42        Baby Don't Go                                       Sonny & Cher   \n43               Nobody                                       Wonder Girls   \n44               Nobody                  Keith Sweat Featuring Athena Cage   \n45               Nobody                                             Sylvia   \n46               Nobody                                The Doobie Brothers   \n47         Call My Name                                             Prince   \n48           First Time                                          Lifehouse   \n49           First Time                                     Matt Nathanson   \n50           All I Want                                      Susanna Hoffs   \n51           All I Want                              Toad The Wet Sprocket   \n52           All I Want                                       Howard Jones   \n53           All I Want                                           Tim Maia   \n54               Rumble                                  The Swiv-O-Matics   \n55  Dancing In The Dark                                  Bruce Springsteen   \n56  Behind Closed Doors                                       Charlie Rich   \n57      It's Your World                                      Marty Robbins   \n\n                                     uri  danceability  energy  key  loudness  \\\n0   spotify:track:7ioiB40H9xKs04QtIso2I3         0.830  0.5200    0    -8.714   \n1   spotify:track:735RSTb2xbtWbDtKD9XDYi         0.630  0.6710    6    -6.659   \n2   spotify:track:4m3VFxVwSPk8VGoA9qcLRC         0.544  0.1690    1   -17.224   \n3   spotify:track:3KTxIOIZIE7UM6vwCX4Ofv         0.545  0.7490    9    -5.485   \n4   spotify:track:2stPxcgjdSImK7Gizl8ZUN         0.308  0.7690   11    -7.256   \n5   spotify:track:282L6SR4Y8Rs0VUgtEy1Zw         0.766  0.7390    1   -10.364   \n6   spotify:track:7seTcUFOhn5caSDbiSfsp0         0.706  0.5720    8    -5.799   \n7   spotify:track:28OX5qT45GZBuu8CNKBOj6         0.668  0.6400    3    -5.208   \n8   spotify:track:6N1sNzq3CArC1pMSaZTxaT         0.529  0.6620    5   -11.745   \n9   spotify:track:6oPnKLqVBDI0SoAzxoMlKN         0.635  0.5220    2   -10.498   \n10  spotify:track:25cUhiAod71TIQSNicOaW3         0.625  0.5760   11    -5.693   \n11  spotify:track:231O3DltLcwtgIKoNbMkrt         0.579  0.2870    4   -13.642   \n12  spotify:track:4A7qcJp2Sg867JST1pSPJz         0.489  0.9520    9    -4.372   \n13  spotify:track:5N5k9nd479b1xpDZ4usjrg         0.781  0.7680   11    -5.991   \n14  spotify:track:2zj2oanLv5B1RwlqIQYrOD         0.679  0.3880   11   -15.870   \n15  spotify:track:2sZ0WTc3Sq2rzoxrcDlXCB         0.496  0.4200    7   -12.558   \n16  spotify:track:4VMMmrVvOlb2FEXJEWktNg         0.459  0.5250   11    -7.254   \n17  spotify:track:4NYwy0R3NdvORX2B6OZXBT         0.733  0.4080    7    -7.834   \n18  spotify:track:6ihObRBTB8xdSH2mlERtOX         0.713  0.7340    0    -4.894   \n19  spotify:track:03GzYByXsXHcoEAxjsWv9G         0.783  0.8850    6    -7.747   \n20  spotify:track:7goghYQcWoCUsj0r5iQ0FZ         0.483  0.4760    7   -11.901   \n21  spotify:track:3fBbfrWZUuWWrMQXFISr7N         0.702  0.6290    1    -4.292   \n22  spotify:track:5t54WbqXtMwT5yF1nQSuKz         0.688  0.5510   10    -5.496   \n23  spotify:track:1P7Dth7R72rUlLEEWPizFg         0.421  0.0412    9   -19.097   \n24  spotify:track:2ZRo7axmMPeSVUvDbGkJah         0.592  0.4570    9    -6.081   \n25  spotify:track:5h2nC1QYVpK0AJra70Ja3p         0.509  0.4820    7    -6.965   \n26  spotify:track:6waqLPcT6ruMhmd36OhmFO         0.584  0.6210    1    -5.703   \n27  spotify:track:6QoxM9xgqazNPGF026CjpS         0.729  0.7930    9    -4.716   \n28  spotify:track:0nbaoA1FPNt1tRnbXB6FFa         0.437  0.9130    7    -4.315   \n29  spotify:track:4PpUJ2gJYbSa6F7EQlSTiM         0.483  0.2090    8   -13.799   \n30  spotify:track:1asba4YipSYUk4WY6A2O1g         0.361  0.5740    7    -8.674   \n31  spotify:track:7fpU0bRJt0SDC8jIgVpbT6         0.753  0.7090    1    -5.132   \n32  spotify:track:20lNo44eUUCnyNNInzwkv9         0.743  0.6180    8    -7.227   \n33  spotify:track:0ADG9OgdVTL7fgREP75BrZ         0.576  0.7820    6    -4.825   \n34  spotify:track:2Z2JnZNB7lbUdKR5GynUlV         0.771  0.6930    7    -7.483   \n35  spotify:track:3sfydNh0QQAdnIAtDVG16H         0.676  0.7300    1    -5.963   \n36  spotify:track:1EXMjx4nCIvYTaY5CZMUSl         0.544  0.5700    2   -10.192   \n37  spotify:track:1EXMjx4nCIvYTaY5CZMUSl         0.544  0.5700    2   -10.192   \n38  spotify:track:5C9OFRqE2KHK7bOk2Z2z49         0.552  0.7270   11    -7.015   \n39  spotify:track:5C9OFRqE2KHK7bOk2Z2z49         0.552  0.7270   11    -7.015   \n40  spotify:track:2FSQYGTyk8GTIaiRyAWu74         0.834  0.6870    1    -6.473   \n41  spotify:track:6WearzOTuR0pEewHf1NR8E         0.743  0.7060    0    -8.495   \n42  spotify:track:1DM97JJjBJShdMuWI0B5L9         0.540  0.4920    0    -9.087   \n43  spotify:track:0TBNg82Zqi0k1VslEe2ooq         0.901  0.7400   11    -5.108   \n44  spotify:track:4SF1747p541umnykBp352Q         0.699  0.4920    9    -9.449   \n45  spotify:track:1IyktkUQ3ktjlc6eDXG967         0.764  0.4480    0   -12.371   \n46  spotify:track:1w6uOq9M9XOqr5ftBZHfcN         0.634  0.8920    2    -5.374   \n47  spotify:track:1NtMkOgf5U9YMaXyuEIRn2         0.622  0.5740    5    -5.068   \n48  spotify:track:6zg7srP3ORV0V8sUPk7zjh         0.442  0.9520    3    -2.234   \n49  spotify:track:2EZFzm4VZtbxJXBDhHRmwu         0.540  0.4560    6    -6.133   \n50  spotify:track:53m1rGnPJVtI0zUryVyL9N         0.617  0.5590    4    -5.738   \n51  spotify:track:2GHYJ0dhVds3PODKnTdiGE         0.600  0.8110    5    -7.693   \n52  spotify:track:70nB7hTC7FDiYoJp0TVwnp         0.611  0.8680    3    -7.982   \n53  spotify:track:1Fxoj2yydAJV8wDWlglgAo         0.527  0.6180    7    -6.450   \n54  spotify:track:3tLkw752BPYiYYqartTVju         0.206  0.7850    9    -4.236   \n55  spotify:track:7FwBtcecmlpc1sLySPXeGE         0.527  0.9420    1    -5.640   \n56  spotify:track:6d7Jz2np6jtNaZv1DiWfJs         0.492  0.3290    2   -11.788   \n57  spotify:track:4YOujaYI7YhWtjHQg7ekDx         0.624  0.3230    5   -11.342   \n\n    mode  speechiness  acousticness  ...  duration_ms  time_signature  \\\n0      1       0.0376      0.000792  ...       189907               4   \n1      0       0.2560      0.363000  ...       174333               4   \n2      1       0.0283      0.272000  ...       213560               4   \n3      0       0.0273      0.002450  ...       283387               4   \n4      0       0.0650      0.033100  ...       254880               4   \n5      1       0.0805      0.019200  ...       296520               4   \n6      0       0.0326      0.026200  ...       214726               4   \n7      0       0.0888      0.049000  ...       181627               4   \n8      1       0.0273      0.153000  ...       320867               4   \n9      1       0.0536      0.306000  ...       354960               4   \n10     0       0.1750      0.054300  ...       193147               4   \n11     0       0.0828      0.915000  ...       213173               4   \n12     0       0.0616      0.000045  ...       257360               4   \n13     1       0.0394      0.011900  ...       213309               4   \n14     1       0.0369      0.037200  ...       261040               4   \n15     1       0.0279      0.233000  ...       355133               4   \n16     0       0.0330      0.004900  ...       242120               4   \n17     0       0.0388      0.679000  ...       197854               4   \n18     0       0.3250      0.549000  ...       248200               4   \n19     0       0.0648      0.005310  ...       265667               4   \n20     0       0.0306      0.515000  ...       181867               4   \n21     1       0.0410      0.050600  ...       244227               4   \n22     0       0.0310      0.012500  ...       202533               4   \n23     0       0.0482      0.961000  ...       520960               5   \n24     0       0.0603      0.661000  ...       110886               4   \n25     1       0.1760      0.018600  ...       211512               4   \n26     1       0.0443      0.071500  ...       178253               4   \n27     1       0.0293      0.151000  ...       209147               4   \n28     1       0.0972      0.017100  ...       206120               4   \n29     1       0.0800      0.154000  ...       339053               3   \n30     1       0.0343      0.552000  ...       151373               3   \n31     0       0.0347      0.006340  ...       203453               4   \n32     1       0.0732      0.076000  ...       287933               4   \n33     0       0.0296      0.007780  ...       224031               4   \n34     1       0.2930      0.031700  ...       203627               4   \n35     1       0.2670      0.001930  ...       215853               4   \n36     1       0.0326      0.462000  ...       245427               4   \n37     1       0.0326      0.462000  ...       245427               4   \n38     1       0.0242      0.027500  ...       273453               4   \n39     1       0.0242      0.027500  ...       273453               4   \n40     1       0.1050      0.088500  ...       216653               4   \n41     1       0.0589      0.240000  ...       195493               4   \n42     1       0.0286      0.473000  ...       194400               4   \n43     1       0.0751      0.161000  ...       214773               4   \n44     0       0.0318      0.484000  ...       264773               4   \n45     1       0.0336      0.249000  ...       199200               4   \n46     1       0.0309      0.013400  ...       260027               4   \n47     0       0.1550      0.685000  ...       315773               4   \n48     1       0.0585      0.000024  ...       202707               4   \n49     1       0.0274      0.201000  ...       239947               4   \n50     1       0.0269      0.035900  ...       198373               4   \n51     1       0.0788      0.055800  ...       196116               4   \n52     1       0.0294      0.039700  ...       275733               4   \n53     0       0.1750      0.359000  ...       204733               4   \n54     1       0.0490      0.000612  ...       110507               4   \n55     0       0.0366      0.011500  ...       241307               4   \n56     1       0.0274      0.961000  ...       174667               4   \n57     1       0.0263      0.750000  ...       164267               4   \n\n    chorus_hit  sections  target  decade  duration_sec  loudness_rounded  \\\n0     19.54918         8       1    2010         190.0              -9.0   \n1     49.36604         9       1    2010         174.0              -7.0   \n2     42.21306        10       1    2000         214.0             -17.0   \n3     33.37022        10       1    1980         283.0              -5.0   \n4     29.07343        11       1    2010         255.0              -7.0   \n5     33.08374        10       1    2010         297.0             -10.0   \n6     34.82205         9       1    2010         215.0              -6.0   \n7     31.07414         9       1    2010         182.0              -5.0   \n8     37.27743         9       1    1990         321.0             -12.0   \n9     23.05400        15       1    1990         355.0             -10.0   \n10    28.83480         8       1    2010         193.0              -6.0   \n11    17.10822        12       1    2010         213.0             -14.0   \n12    52.93212         8       1    2010         257.0              -4.0   \n13    34.16174         9       1    2010         213.0              -6.0   \n14    18.55017        14       1    1980         261.0             -16.0   \n15    28.05539        13       0    1980         355.0             -13.0   \n16    26.77761         8       0    1980         242.0              -7.0   \n17    30.37535        11       1    2010         198.0              -8.0   \n18    34.10403        14       1    2000         248.0              -5.0   \n19    49.84596        12       1    1990         266.0              -8.0   \n20    43.13040         8       0    1970         182.0             -12.0   \n21    40.68701        11       1    2010         244.0              -4.0   \n22    20.10120         6       1    2010         203.0              -5.0   \n23    32.58080        20       0    2010         521.0             -19.0   \n24    30.34884         5       1    2010         111.0              -6.0   \n25    40.50528        11       1    2010         212.0              -7.0   \n26    24.94152        10       1    2010         178.0              -6.0   \n27    21.47027        11       1    2010         209.0              -5.0   \n28    35.41809        11       1    2010         206.0              -4.0   \n29    30.20125        14       1    1970         339.0             -14.0   \n30    41.21433         6       1    1960         151.0              -9.0   \n31    49.10386         8       1    2010         203.0              -5.0   \n32    71.20857        13       1    2010         288.0              -7.0   \n33    42.98133        11       1    2010         224.0              -5.0   \n34    71.22774         7       1    2000         204.0              -7.0   \n35    25.28362        11       1    2000         216.0              -6.0   \n36    18.93509        12       1    2000         245.0             -10.0   \n37    18.93509        12       1    2000         245.0             -10.0   \n38    71.02886        10       1    1990         273.0              -7.0   \n39    71.02886        10       1    1990         273.0              -7.0   \n40    27.79978         8       1    2000         217.0              -6.0   \n41    46.92040         8       1    1980         195.0              -8.0   \n42    49.56247         9       1    1960         194.0              -9.0   \n43    30.78755        13       1    2000         215.0              -5.0   \n44    32.47790        12       1    1990         265.0              -9.0   \n45    24.42111         9       1    1980         199.0             -12.0   \n46    27.17715        12       1    1970         260.0              -5.0   \n47    59.07282         8       1    2000         316.0              -5.0   \n48    37.09826         7       1    2000         203.0              -2.0   \n49    38.41405        12       0    1990         240.0              -6.0   \n50    28.05580        11       1    1990         198.0              -6.0   \n51    23.32175        11       1    1990         196.0              -8.0   \n52    35.62317        12       1    1980         276.0              -8.0   \n53    32.06329        11       0    1970         205.0              -6.0   \n54    23.47467         5       0    1990         111.0              -4.0   \n55    47.47864        10       1    1980         241.0              -6.0   \n56    25.75736         9       1    1970         175.0             -12.0   \n57    36.15282         8       1    1960         164.0             -11.0   \n\n    christmas    rb  \n0       False  True  \n1       False  True  \n2       False  True  \n3       False  True  \n4       False  True  \n5       False  True  \n6       False  True  \n7       False  True  \n8       False  True  \n9       False  True  \n10      False  True  \n11      False  True  \n12      False  True  \n13      False  True  \n14      False  True  \n15      False  True  \n16      False  True  \n17      False  True  \n18      False  True  \n19      False  True  \n20      False  True  \n21      False  True  \n22      False  True  \n23      False  True  \n24      False  True  \n25      False  True  \n26      False  True  \n27      False  True  \n28      False  True  \n29      False  True  \n30      False  True  \n31      False  True  \n32      False  True  \n33      False  True  \n34      False  True  \n35      False  True  \n36      False  True  \n37      False  True  \n38      False  True  \n39      False  True  \n40      False  True  \n41      False  True  \n42      False  True  \n43      False  True  \n44      False  True  \n45      False  True  \n46      False  True  \n47      False  True  \n48      False  True  \n49      False  True  \n50      False  True  \n51      False  True  \n52      False  True  \n53      False  True  \n54      False  True  \n55      False  True  \n56      False  True  \n57      False  True  \n\n[58 rows x 24 columns]",
      "text/html": "<div>\n<style scoped>\n    .dataframe tbody tr th:only-of-type {\n        vertical-align: middle;\n    }\n\n    .dataframe tbody tr th {\n        vertical-align: top;\n    }\n\n    .dataframe thead th {\n        text-align: right;\n    }\n</style>\n<table border=\"1\" class=\"dataframe\">\n  <thead>\n    <tr style=\"text-align: right;\">\n      <th></th>\n      <th>track</th>\n      <th>artist</th>\n      <th>uri</th>\n      <th>danceability</th>\n      <th>energy</th>\n      <th>key</th>\n      <th>loudness</th>\n      <th>mode</th>\n      <th>speechiness</th>\n      <th>acousticness</th>\n      <th>...</th>\n      <th>duration_ms</th>\n      <th>time_signature</th>\n      <th>chorus_hit</th>\n      <th>sections</th>\n      <th>target</th>\n      <th>decade</th>\n      <th>duration_sec</th>\n      <th>loudness_rounded</th>\n      <th>christmas</th>\n      <th>rb</th>\n    </tr>\n  </thead>\n  <tbody>\n    <tr>\n      <th>0</th>\n      <td>Somebody</td>\n      <td>Natalie La Rose Featuring Jeremih</td>\n      <td>spotify:track:7ioiB40H9xKs04QtIso2I3</td>\n      <td>0.830</td>\n      <td>0.5200</td>\n      <td>0</td>\n      <td>-8.714</td>\n      <td>1</td>\n      <td>0.0376</td>\n      <td>0.000792</td>\n      <td>...</td>\n      <td>189907</td>\n      <td>4</td>\n      <td>19.54918</td>\n      <td>8</td>\n      <td>1</td>\n      <td>2010</td>\n      <td>190.0</td>\n      <td>-9.0</td>\n      <td>False</td>\n      <td>True</td>\n    </tr>\n    <tr>\n      <th>1</th>\n      <td>Somebody</td>\n      <td>Internet Money, Lil Tecca &amp; A Boogie Wit da Ho...</td>\n      <td>spotify:track:735RSTb2xbtWbDtKD9XDYi</td>\n      <td>0.630</td>\n      <td>0.6710</td>\n      <td>6</td>\n      <td>-6.659</td>\n      <td>0</td>\n      <td>0.2560</td>\n      <td>0.363000</td>\n      <td>...</td>\n      <td>174333</td>\n      <td>4</td>\n      <td>49.36604</td>\n      <td>9</td>\n      <td>1</td>\n      <td>2010</td>\n      <td>174.0</td>\n      <td>-7.0</td>\n      <td>False</td>\n      <td>True</td>\n    </tr>\n    <tr>\n      <th>2</th>\n      <td>Somebody</td>\n      <td>Reba McEntire</td>\n      <td>spotify:track:4m3VFxVwSPk8VGoA9qcLRC</td>\n      <td>0.544</td>\n      <td>0.1690</td>\n      <td>1</td>\n      <td>-17.224</td>\n      <td>1</td>\n      <td>0.0283</td>\n      <td>0.272000</td>\n      <td>...</td>\n      <td>213560</td>\n      <td>4</td>\n      <td>42.21306</td>\n      <td>10</td>\n      <td>1</td>\n      <td>2000</td>\n      <td>214.0</td>\n      <td>-17.0</td>\n      <td>False</td>\n      <td>True</td>\n    </tr>\n    <tr>\n      <th>3</th>\n      <td>Somebody</td>\n      <td>Bryan Adams</td>\n      <td>spotify:track:3KTxIOIZIE7UM6vwCX4Ofv</td>\n      <td>0.545</td>\n      <td>0.7490</td>\n      <td>9</td>\n      <td>-5.485</td>\n      <td>0</td>\n      <td>0.0273</td>\n      <td>0.002450</td>\n      <td>...</td>\n      <td>283387</td>\n      <td>4</td>\n      <td>33.37022</td>\n      <td>10</td>\n      <td>1</td>\n      <td>1980</td>\n      <td>283.0</td>\n      <td>-5.0</td>\n      <td>False</td>\n      <td>True</td>\n    </tr>\n    <tr>\n      <th>4</th>\n      <td>The Man</td>\n      <td>Aloe Blacc</td>\n      <td>spotify:track:2stPxcgjdSImK7Gizl8ZUN</td>\n      <td>0.308</td>\n      <td>0.7690</td>\n      <td>11</td>\n      <td>-7.256</td>\n      <td>0</td>\n      <td>0.0650</td>\n      <td>0.033100</td>\n      <td>...</td>\n      <td>254880</td>\n      <td>4</td>\n      <td>29.07343</td>\n      <td>11</td>\n      <td>1</td>\n      <td>2010</td>\n      <td>255.0</td>\n      <td>-7.0</td>\n      <td>False</td>\n      <td>True</td>\n    </tr>\n    <tr>\n      <th>5</th>\n      <td>She Knows</td>\n      <td>J. Cole Featuring Amber Coffman &amp; The Cults</td>\n      <td>spotify:track:282L6SR4Y8Rs0VUgtEy1Zw</td>\n      <td>0.766</td>\n      <td>0.7390</td>\n      <td>1</td>\n      <td>-10.364</td>\n      <td>1</td>\n      <td>0.0805</td>\n      <td>0.019200</td>\n      <td>...</td>\n      <td>296520</td>\n      <td>4</td>\n      <td>33.08374</td>\n      <td>10</td>\n      <td>1</td>\n      <td>2010</td>\n      <td>297.0</td>\n      <td>-10.0</td>\n      <td>False</td>\n      <td>True</td>\n    </tr>\n    <tr>\n      <th>6</th>\n      <td>She Knows</td>\n      <td>Ne-Yo Featuring Juicy J</td>\n      <td>spotify:track:7seTcUFOhn5caSDbiSfsp0</td>\n      <td>0.706</td>\n      <td>0.5720</td>\n      <td>8</td>\n      <td>-5.799</td>\n      <td>0</td>\n      <td>0.0326</td>\n      <td>0.026200</td>\n      <td>...</td>\n      <td>214726</td>\n      <td>4</td>\n      <td>34.82205</td>\n      <td>9</td>\n      <td>1</td>\n      <td>2010</td>\n      <td>215.0</td>\n      <td>-6.0</td>\n      <td>False</td>\n      <td>True</td>\n    </tr>\n    <tr>\n      <th>7</th>\n      <td>Right Now</td>\n      <td>Rihanna Featuring David Guetta</td>\n      <td>spotify:track:28OX5qT45GZBuu8CNKBOj6</td>\n      <td>0.668</td>\n      <td>0.6400</td>\n      <td>3</td>\n      <td>-5.208</td>\n      <td>0</td>\n      <td>0.0888</td>\n      <td>0.049000</td>\n      <td>...</td>\n      <td>181627</td>\n      <td>4</td>\n      <td>31.07414</td>\n      <td>9</td>\n      <td>1</td>\n      <td>2010</td>\n      <td>182.0</td>\n      <td>-5.0</td>\n      <td>False</td>\n      <td>True</td>\n    </tr>\n    <tr>\n      <th>8</th>\n      <td>Right Now</td>\n      <td>Van Halen</td>\n      <td>spotify:track:6N1sNzq3CArC1pMSaZTxaT</td>\n      <td>0.529</td>\n      <td>0.6620</td>\n      <td>5</td>\n      <td>-11.745</td>\n      <td>1</td>\n      <td>0.0273</td>\n      <td>0.153000</td>\n      <td>...</td>\n      <td>320867</td>\n      <td>4</td>\n      <td>37.27743</td>\n      <td>9</td>\n      <td>1</td>\n      <td>1990</td>\n      <td>321.0</td>\n      <td>-12.0</td>\n      <td>False</td>\n      <td>True</td>\n    </tr>\n    <tr>\n      <th>9</th>\n      <td>Right Now</td>\n      <td>Al B. Sure!</td>\n      <td>spotify:track:6oPnKLqVBDI0SoAzxoMlKN</td>\n      <td>0.635</td>\n      <td>0.5220</td>\n      <td>2</td>\n      <td>-10.498</td>\n      <td>1</td>\n      <td>0.0536</td>\n      <td>0.306000</td>\n      <td>...</td>\n      <td>354960</td>\n      <td>4</td>\n      <td>23.05400</td>\n      <td>15</td>\n      <td>1</td>\n      <td>1990</td>\n      <td>355.0</td>\n      <td>-10.0</td>\n      <td>False</td>\n      <td>True</td>\n    </tr>\n    <tr>\n      <th>10</th>\n      <td>Adorn</td>\n      <td>Miguel</td>\n      <td>spotify:track:25cUhiAod71TIQSNicOaW3</td>\n      <td>0.625</td>\n      <td>0.5760</td>\n      <td>11</td>\n      <td>-5.693</td>\n      <td>0</td>\n      <td>0.1750</td>\n      <td>0.054300</td>\n      <td>...</td>\n      <td>193147</td>\n      <td>4</td>\n      <td>28.83480</td>\n      <td>8</td>\n      <td>1</td>\n      <td>2010</td>\n      <td>193.0</td>\n      <td>-6.0</td>\n      <td>False</td>\n      <td>True</td>\n    </tr>\n    <tr>\n      <th>11</th>\n      <td>Get Her Back</td>\n      <td>Robin Thicke</td>\n      <td>spotify:track:231O3DltLcwtgIKoNbMkrt</td>\n      <td>0.579</td>\n      <td>0.2870</td>\n      <td>4</td>\n      <td>-13.642</td>\n      <td>0</td>\n      <td>0.0828</td>\n      <td>0.915000</td>\n      <td>...</td>\n      <td>213173</td>\n      <td>4</td>\n      <td>17.10822</td>\n      <td>12</td>\n      <td>1</td>\n      <td>2010</td>\n      <td>213.0</td>\n      <td>-14.0</td>\n      <td>False</td>\n      <td>True</td>\n    </tr>\n    <tr>\n      <th>12</th>\n      <td>Promises</td>\n      <td>NERO</td>\n      <td>spotify:track:4A7qcJp2Sg867JST1pSPJz</td>\n      <td>0.489</td>\n      <td>0.9520</td>\n      <td>9</td>\n      <td>-4.372</td>\n      <td>0</td>\n      <td>0.0616</td>\n      <td>0.000045</td>\n      <td>...</td>\n      <td>257360</td>\n      <td>4</td>\n      <td>52.93212</td>\n      <td>8</td>\n      <td>1</td>\n      <td>2010</td>\n      <td>257.0</td>\n      <td>-4.0</td>\n      <td>False</td>\n      <td>True</td>\n    </tr>\n    <tr>\n      <th>13</th>\n      <td>Promises</td>\n      <td>Calvin Harris &amp; Sam Smith</td>\n      <td>spotify:track:5N5k9nd479b1xpDZ4usjrg</td>\n      <td>0.781</td>\n      <td>0.7680</td>\n      <td>11</td>\n      <td>-5.991</td>\n      <td>1</td>\n      <td>0.0394</td>\n      <td>0.011900</td>\n      <td>...</td>\n      <td>213309</td>\n      <td>4</td>\n      <td>34.16174</td>\n      <td>9</td>\n      <td>1</td>\n      <td>2010</td>\n      <td>213.0</td>\n      <td>-6.0</td>\n      <td>False</td>\n      <td>True</td>\n    </tr>\n    <tr>\n      <th>14</th>\n      <td>Promises</td>\n      <td>Barbra Streisand</td>\n      <td>spotify:track:2zj2oanLv5B1RwlqIQYrOD</td>\n      <td>0.679</td>\n      <td>0.3880</td>\n      <td>11</td>\n      <td>-15.870</td>\n      <td>1</td>\n      <td>0.0369</td>\n      <td>0.037200</td>\n      <td>...</td>\n      <td>261040</td>\n      <td>4</td>\n      <td>18.55017</td>\n      <td>14</td>\n      <td>1</td>\n      <td>1980</td>\n      <td>261.0</td>\n      <td>-16.0</td>\n      <td>False</td>\n      <td>True</td>\n    </tr>\n    <tr>\n      <th>15</th>\n      <td>Promises</td>\n      <td>Trevor Rabin</td>\n      <td>spotify:track:2sZ0WTc3Sq2rzoxrcDlXCB</td>\n      <td>0.496</td>\n      <td>0.4200</td>\n      <td>7</td>\n      <td>-12.558</td>\n      <td>1</td>\n      <td>0.0279</td>\n      <td>0.233000</td>\n      <td>...</td>\n      <td>355133</td>\n      <td>4</td>\n      <td>28.05539</td>\n      <td>13</td>\n      <td>0</td>\n      <td>1980</td>\n      <td>355.0</td>\n      <td>-13.0</td>\n      <td>False</td>\n      <td>True</td>\n    </tr>\n    <tr>\n      <th>16</th>\n      <td>Promises</td>\n      <td>Fugazi</td>\n      <td>spotify:track:4VMMmrVvOlb2FEXJEWktNg</td>\n      <td>0.459</td>\n      <td>0.5250</td>\n      <td>11</td>\n      <td>-7.254</td>\n      <td>0</td>\n      <td>0.0330</td>\n      <td>0.004900</td>\n      <td>...</td>\n      <td>242120</td>\n      <td>4</td>\n      <td>26.77761</td>\n      <td>8</td>\n      <td>0</td>\n      <td>1980</td>\n      <td>242.0</td>\n      <td>-7.0</td>\n      <td>False</td>\n      <td>True</td>\n    </tr>\n    <tr>\n      <th>17</th>\n      <td>Slow Motion</td>\n      <td>Trey Songz</td>\n      <td>spotify:track:4NYwy0R3NdvORX2B6OZXBT</td>\n      <td>0.733</td>\n      <td>0.4080</td>\n      <td>7</td>\n      <td>-7.834</td>\n      <td>0</td>\n      <td>0.0388</td>\n      <td>0.679000</td>\n      <td>...</td>\n      <td>197854</td>\n      <td>4</td>\n      <td>30.37535</td>\n      <td>11</td>\n      <td>1</td>\n      <td>2010</td>\n      <td>198.0</td>\n      <td>-8.0</td>\n      <td>False</td>\n      <td>True</td>\n    </tr>\n    <tr>\n      <th>18</th>\n      <td>Slow Motion</td>\n      <td>Juvenile Featuring Soulja Slim</td>\n      <td>spotify:track:6ihObRBTB8xdSH2mlERtOX</td>\n      <td>0.713</td>\n      <td>0.7340</td>\n      <td>0</td>\n      <td>-4.894</td>\n      <td>0</td>\n      <td>0.3250</td>\n      <td>0.549000</td>\n      <td>...</td>\n      <td>248200</td>\n      <td>4</td>\n      <td>34.10403</td>\n      <td>14</td>\n      <td>1</td>\n      <td>2000</td>\n      <td>248.0</td>\n      <td>-5.0</td>\n      <td>False</td>\n      <td>True</td>\n    </tr>\n    <tr>\n      <th>19</th>\n      <td>Slow Motion</td>\n      <td>Color Me Badd</td>\n      <td>spotify:track:03GzYByXsXHcoEAxjsWv9G</td>\n      <td>0.783</td>\n      <td>0.8850</td>\n      <td>6</td>\n      <td>-7.747</td>\n      <td>0</td>\n      <td>0.0648</td>\n      <td>0.005310</td>\n      <td>...</td>\n      <td>265667</td>\n      <td>4</td>\n      <td>49.84596</td>\n      <td>12</td>\n      <td>1</td>\n      <td>1990</td>\n      <td>266.0</td>\n      <td>-8.0</td>\n      <td>False</td>\n      <td>True</td>\n    </tr>\n    <tr>\n      <th>20</th>\n      <td>Slow Motion</td>\n      <td>David Lindup</td>\n      <td>spotify:track:7goghYQcWoCUsj0r5iQ0FZ</td>\n      <td>0.483</td>\n      <td>0.4760</td>\n      <td>7</td>\n      <td>-11.901</td>\n      <td>0</td>\n      <td>0.0306</td>\n      <td>0.515000</td>\n      <td>...</td>\n      <td>181867</td>\n      <td>4</td>\n      <td>43.13040</td>\n      <td>8</td>\n      <td>0</td>\n      <td>1970</td>\n      <td>182.0</td>\n      <td>-12.0</td>\n      <td>False</td>\n      <td>True</td>\n    </tr>\n    <tr>\n      <th>21</th>\n      <td>New Flame</td>\n      <td>Chris Brown Featuring Usher &amp; Rick Ross</td>\n      <td>spotify:track:3fBbfrWZUuWWrMQXFISr7N</td>\n      <td>0.702</td>\n      <td>0.6290</td>\n      <td>1</td>\n      <td>-4.292</td>\n      <td>1</td>\n      <td>0.0410</td>\n      <td>0.050600</td>\n      <td>...</td>\n      <td>244227</td>\n      <td>4</td>\n      <td>40.68701</td>\n      <td>11</td>\n      <td>1</td>\n      <td>2010</td>\n      <td>244.0</td>\n      <td>-4.0</td>\n      <td>False</td>\n      <td>True</td>\n    </tr>\n    <tr>\n      <th>22</th>\n      <td>Baby Don't Lie</td>\n      <td>Gwen Stefani</td>\n      <td>spotify:track:5t54WbqXtMwT5yF1nQSuKz</td>\n      <td>0.688</td>\n      <td>0.5510</td>\n      <td>10</td>\n      <td>-5.496</td>\n      <td>0</td>\n      <td>0.0310</td>\n      <td>0.012500</td>\n      <td>...</td>\n      <td>202533</td>\n      <td>4</td>\n      <td>20.10120</td>\n      <td>6</td>\n      <td>1</td>\n      <td>2010</td>\n      <td>203.0</td>\n      <td>-5.0</td>\n      <td>False</td>\n      <td>True</td>\n    </tr>\n    <tr>\n      <th>23</th>\n      <td>Hope</td>\n      <td>Bugge Wesseltoft</td>\n      <td>spotify:track:1P7Dth7R72rUlLEEWPizFg</td>\n      <td>0.421</td>\n      <td>0.0412</td>\n      <td>9</td>\n      <td>-19.097</td>\n      <td>0</td>\n      <td>0.0482</td>\n      <td>0.961000</td>\n      <td>...</td>\n      <td>520960</td>\n      <td>5</td>\n      <td>32.58080</td>\n      <td>20</td>\n      <td>0</td>\n      <td>2010</td>\n      <td>521.0</td>\n      <td>-19.0</td>\n      <td>False</td>\n      <td>True</td>\n    </tr>\n    <tr>\n      <th>24</th>\n      <td>Hope</td>\n      <td>XXXTENTACION</td>\n      <td>spotify:track:2ZRo7axmMPeSVUvDbGkJah</td>\n      <td>0.592</td>\n      <td>0.4570</td>\n      <td>9</td>\n      <td>-6.081</td>\n      <td>0</td>\n      <td>0.0603</td>\n      <td>0.661000</td>\n      <td>...</td>\n      <td>110886</td>\n      <td>4</td>\n      <td>30.34884</td>\n      <td>5</td>\n      <td>1</td>\n      <td>2010</td>\n      <td>111.0</td>\n      <td>-6.0</td>\n      <td>False</td>\n      <td>True</td>\n    </tr>\n    <tr>\n      <th>25</th>\n      <td>L.A.LOVE (la la)</td>\n      <td>Fergie</td>\n      <td>spotify:track:5h2nC1QYVpK0AJra70Ja3p</td>\n      <td>0.509</td>\n      <td>0.4820</td>\n      <td>7</td>\n      <td>-6.965</td>\n      <td>1</td>\n      <td>0.1760</td>\n      <td>0.018600</td>\n      <td>...</td>\n      <td>211512</td>\n      <td>4</td>\n      <td>40.50528</td>\n      <td>11</td>\n      <td>1</td>\n      <td>2010</td>\n      <td>212.0</td>\n      <td>-7.0</td>\n      <td>False</td>\n      <td>True</td>\n    </tr>\n    <tr>\n      <th>26</th>\n      <td>Losing Sleep</td>\n      <td>Chris Young</td>\n      <td>spotify:track:6waqLPcT6ruMhmd36OhmFO</td>\n      <td>0.584</td>\n      <td>0.6210</td>\n      <td>1</td>\n      <td>-5.703</td>\n      <td>1</td>\n      <td>0.0443</td>\n      <td>0.071500</td>\n      <td>...</td>\n      <td>178253</td>\n      <td>4</td>\n      <td>24.94152</td>\n      <td>10</td>\n      <td>1</td>\n      <td>2010</td>\n      <td>178.0</td>\n      <td>-6.0</td>\n      <td>False</td>\n      <td>True</td>\n    </tr>\n    <tr>\n      <th>27</th>\n      <td>Hey Porsche</td>\n      <td>Nelly</td>\n      <td>spotify:track:6QoxM9xgqazNPGF026CjpS</td>\n      <td>0.729</td>\n      <td>0.7930</td>\n      <td>9</td>\n      <td>-4.716</td>\n      <td>1</td>\n      <td>0.0293</td>\n      <td>0.151000</td>\n      <td>...</td>\n      <td>209147</td>\n      <td>4</td>\n      <td>21.47027</td>\n      <td>11</td>\n      <td>1</td>\n      <td>2010</td>\n      <td>209.0</td>\n      <td>-5.0</td>\n      <td>False</td>\n      <td>True</td>\n    </tr>\n    <tr>\n      <th>28</th>\n      <td>Maybe</td>\n      <td>Sick Puppies</td>\n      <td>spotify:track:0nbaoA1FPNt1tRnbXB6FFa</td>\n      <td>0.437</td>\n      <td>0.9130</td>\n      <td>7</td>\n      <td>-4.315</td>\n      <td>1</td>\n      <td>0.0972</td>\n      <td>0.017100</td>\n      <td>...</td>\n      <td>206120</td>\n      <td>4</td>\n      <td>35.41809</td>\n      <td>11</td>\n      <td>1</td>\n      <td>2010</td>\n      <td>206.0</td>\n      <td>-4.0</td>\n      <td>False</td>\n      <td>True</td>\n    </tr>\n    <tr>\n      <th>29</th>\n      <td>Maybe</td>\n      <td>The Three Degrees</td>\n      <td>spotify:track:4PpUJ2gJYbSa6F7EQlSTiM</td>\n      <td>0.483</td>\n      <td>0.2090</td>\n      <td>8</td>\n      <td>-13.799</td>\n      <td>1</td>\n      <td>0.0800</td>\n      <td>0.154000</td>\n      <td>...</td>\n      <td>339053</td>\n      <td>3</td>\n      <td>30.20125</td>\n      <td>14</td>\n      <td>1</td>\n      <td>1970</td>\n      <td>339.0</td>\n      <td>-14.0</td>\n      <td>False</td>\n      <td>True</td>\n    </tr>\n    <tr>\n      <th>30</th>\n      <td>Maybe</td>\n      <td>The Shangri-Las</td>\n      <td>spotify:track:1asba4YipSYUk4WY6A2O1g</td>\n      <td>0.361</td>\n      <td>0.5740</td>\n      <td>7</td>\n      <td>-8.674</td>\n      <td>1</td>\n      <td>0.0343</td>\n      <td>0.552000</td>\n      <td>...</td>\n      <td>151373</td>\n      <td>3</td>\n      <td>41.21433</td>\n      <td>6</td>\n      <td>1</td>\n      <td>1960</td>\n      <td>151.0</td>\n      <td>-9.0</td>\n      <td>False</td>\n      <td>True</td>\n    </tr>\n    <tr>\n      <th>31</th>\n      <td>Nobody Love</td>\n      <td>Tori Kelly</td>\n      <td>spotify:track:7fpU0bRJt0SDC8jIgVpbT6</td>\n      <td>0.753</td>\n      <td>0.7090</td>\n      <td>1</td>\n      <td>-5.132</td>\n      <td>0</td>\n      <td>0.0347</td>\n      <td>0.006340</td>\n      <td>...</td>\n      <td>203453</td>\n      <td>4</td>\n      <td>49.10386</td>\n      <td>8</td>\n      <td>1</td>\n      <td>2010</td>\n      <td>203.0</td>\n      <td>-5.0</td>\n      <td>False</td>\n      <td>True</td>\n    </tr>\n    <tr>\n      <th>32</th>\n      <td>I Bet</td>\n      <td>Ciara</td>\n      <td>spotify:track:20lNo44eUUCnyNNInzwkv9</td>\n      <td>0.743</td>\n      <td>0.6180</td>\n      <td>8</td>\n      <td>-7.227</td>\n      <td>1</td>\n      <td>0.0732</td>\n      <td>0.076000</td>\n      <td>...</td>\n      <td>287933</td>\n      <td>4</td>\n      <td>71.20857</td>\n      <td>13</td>\n      <td>1</td>\n      <td>2010</td>\n      <td>288.0</td>\n      <td>-7.0</td>\n      <td>False</td>\n      <td>True</td>\n    </tr>\n    <tr>\n      <th>33</th>\n      <td>Ain't My Fault</td>\n      <td>Zara Larsson</td>\n      <td>spotify:track:0ADG9OgdVTL7fgREP75BrZ</td>\n      <td>0.576</td>\n      <td>0.7820</td>\n      <td>6</td>\n      <td>-4.825</td>\n      <td>0</td>\n      <td>0.0296</td>\n      <td>0.007780</td>\n      <td>...</td>\n      <td>224031</td>\n      <td>4</td>\n      <td>42.98133</td>\n      <td>11</td>\n      <td>1</td>\n      <td>2010</td>\n      <td>224.0</td>\n      <td>-5.0</td>\n      <td>False</td>\n      <td>True</td>\n    </tr>\n    <tr>\n      <th>34</th>\n      <td>Like This</td>\n      <td>Mims</td>\n      <td>spotify:track:2Z2JnZNB7lbUdKR5GynUlV</td>\n      <td>0.771</td>\n      <td>0.6930</td>\n      <td>7</td>\n      <td>-7.483</td>\n      <td>1</td>\n      <td>0.2930</td>\n      <td>0.031700</td>\n      <td>...</td>\n      <td>203627</td>\n      <td>4</td>\n      <td>71.22774</td>\n      <td>7</td>\n      <td>1</td>\n      <td>2000</td>\n      <td>204.0</td>\n      <td>-7.0</td>\n      <td>False</td>\n      <td>True</td>\n    </tr>\n    <tr>\n      <th>35</th>\n      <td>Like This</td>\n      <td>Kelly Rowland Featuring Eve</td>\n      <td>spotify:track:3sfydNh0QQAdnIAtDVG16H</td>\n      <td>0.676</td>\n      <td>0.7300</td>\n      <td>1</td>\n      <td>-5.963</td>\n      <td>1</td>\n      <td>0.2670</td>\n      <td>0.001930</td>\n      <td>...</td>\n      <td>215853</td>\n      <td>4</td>\n      <td>25.28362</td>\n      <td>11</td>\n      <td>1</td>\n      <td>2000</td>\n      <td>216.0</td>\n      <td>-6.0</td>\n      <td>False</td>\n      <td>True</td>\n    </tr>\n    <tr>\n      <th>36</th>\n      <td>Run</td>\n      <td>George Strait</td>\n      <td>spotify:track:1EXMjx4nCIvYTaY5CZMUSl</td>\n      <td>0.544</td>\n      <td>0.5700</td>\n      <td>2</td>\n      <td>-10.192</td>\n      <td>1</td>\n      <td>0.0326</td>\n      <td>0.462000</td>\n      <td>...</td>\n      <td>245427</td>\n      <td>4</td>\n      <td>18.93509</td>\n      <td>12</td>\n      <td>1</td>\n      <td>2000</td>\n      <td>245.0</td>\n      <td>-10.0</td>\n      <td>False</td>\n      <td>True</td>\n    </tr>\n    <tr>\n      <th>37</th>\n      <td>Run</td>\n      <td>George Strait</td>\n      <td>spotify:track:1EXMjx4nCIvYTaY5CZMUSl</td>\n      <td>0.544</td>\n      <td>0.5700</td>\n      <td>2</td>\n      <td>-10.192</td>\n      <td>1</td>\n      <td>0.0326</td>\n      <td>0.462000</td>\n      <td>...</td>\n      <td>245427</td>\n      <td>4</td>\n      <td>18.93509</td>\n      <td>12</td>\n      <td>1</td>\n      <td>2000</td>\n      <td>245.0</td>\n      <td>-10.0</td>\n      <td>False</td>\n      <td>True</td>\n    </tr>\n    <tr>\n      <th>38</th>\n      <td>Run</td>\n      <td>Collective Soul</td>\n      <td>spotify:track:5C9OFRqE2KHK7bOk2Z2z49</td>\n      <td>0.552</td>\n      <td>0.7270</td>\n      <td>11</td>\n      <td>-7.015</td>\n      <td>1</td>\n      <td>0.0242</td>\n      <td>0.027500</td>\n      <td>...</td>\n      <td>273453</td>\n      <td>4</td>\n      <td>71.02886</td>\n      <td>10</td>\n      <td>1</td>\n      <td>1990</td>\n      <td>273.0</td>\n      <td>-7.0</td>\n      <td>False</td>\n      <td>True</td>\n    </tr>\n    <tr>\n      <th>39</th>\n      <td>Run</td>\n      <td>Collective Soul</td>\n      <td>spotify:track:5C9OFRqE2KHK7bOk2Z2z49</td>\n      <td>0.552</td>\n      <td>0.7270</td>\n      <td>11</td>\n      <td>-7.015</td>\n      <td>1</td>\n      <td>0.0242</td>\n      <td>0.027500</td>\n      <td>...</td>\n      <td>273453</td>\n      <td>4</td>\n      <td>71.02886</td>\n      <td>10</td>\n      <td>1</td>\n      <td>1990</td>\n      <td>273.0</td>\n      <td>-7.0</td>\n      <td>False</td>\n      <td>True</td>\n    </tr>\n    <tr>\n      <th>40</th>\n      <td>Baby Don't Go</td>\n      <td>Fabolous Featuring Jermaine Dupri</td>\n      <td>spotify:track:2FSQYGTyk8GTIaiRyAWu74</td>\n      <td>0.834</td>\n      <td>0.6870</td>\n      <td>1</td>\n      <td>-6.473</td>\n      <td>1</td>\n      <td>0.1050</td>\n      <td>0.088500</td>\n      <td>...</td>\n      <td>216653</td>\n      <td>4</td>\n      <td>27.79978</td>\n      <td>8</td>\n      <td>1</td>\n      <td>2000</td>\n      <td>217.0</td>\n      <td>-6.0</td>\n      <td>False</td>\n      <td>True</td>\n    </tr>\n    <tr>\n      <th>41</th>\n      <td>Baby Don't Go</td>\n      <td>Karla Bonoff</td>\n      <td>spotify:track:6WearzOTuR0pEewHf1NR8E</td>\n      <td>0.743</td>\n      <td>0.7060</td>\n      <td>0</td>\n      <td>-8.495</td>\n      <td>1</td>\n      <td>0.0589</td>\n      <td>0.240000</td>\n      <td>...</td>\n      <td>195493</td>\n      <td>4</td>\n      <td>46.92040</td>\n      <td>8</td>\n      <td>1</td>\n      <td>1980</td>\n      <td>195.0</td>\n      <td>-8.0</td>\n      <td>False</td>\n      <td>True</td>\n    </tr>\n    <tr>\n      <th>42</th>\n      <td>Baby Don't Go</td>\n      <td>Sonny &amp; Cher</td>\n      <td>spotify:track:1DM97JJjBJShdMuWI0B5L9</td>\n      <td>0.540</td>\n      <td>0.4920</td>\n      <td>0</td>\n      <td>-9.087</td>\n      <td>1</td>\n      <td>0.0286</td>\n      <td>0.473000</td>\n      <td>...</td>\n      <td>194400</td>\n      <td>4</td>\n      <td>49.56247</td>\n      <td>9</td>\n      <td>1</td>\n      <td>1960</td>\n      <td>194.0</td>\n      <td>-9.0</td>\n      <td>False</td>\n      <td>True</td>\n    </tr>\n    <tr>\n      <th>43</th>\n      <td>Nobody</td>\n      <td>Wonder Girls</td>\n      <td>spotify:track:0TBNg82Zqi0k1VslEe2ooq</td>\n      <td>0.901</td>\n      <td>0.7400</td>\n      <td>11</td>\n      <td>-5.108</td>\n      <td>1</td>\n      <td>0.0751</td>\n      <td>0.161000</td>\n      <td>...</td>\n      <td>214773</td>\n      <td>4</td>\n      <td>30.78755</td>\n      <td>13</td>\n      <td>1</td>\n      <td>2000</td>\n      <td>215.0</td>\n      <td>-5.0</td>\n      <td>False</td>\n      <td>True</td>\n    </tr>\n    <tr>\n      <th>44</th>\n      <td>Nobody</td>\n      <td>Keith Sweat Featuring Athena Cage</td>\n      <td>spotify:track:4SF1747p541umnykBp352Q</td>\n      <td>0.699</td>\n      <td>0.4920</td>\n      <td>9</td>\n      <td>-9.449</td>\n      <td>0</td>\n      <td>0.0318</td>\n      <td>0.484000</td>\n      <td>...</td>\n      <td>264773</td>\n      <td>4</td>\n      <td>32.47790</td>\n      <td>12</td>\n      <td>1</td>\n      <td>1990</td>\n      <td>265.0</td>\n      <td>-9.0</td>\n      <td>False</td>\n      <td>True</td>\n    </tr>\n    <tr>\n      <th>45</th>\n      <td>Nobody</td>\n      <td>Sylvia</td>\n      <td>spotify:track:1IyktkUQ3ktjlc6eDXG967</td>\n      <td>0.764</td>\n      <td>0.4480</td>\n      <td>0</td>\n      <td>-12.371</td>\n      <td>1</td>\n      <td>0.0336</td>\n      <td>0.249000</td>\n      <td>...</td>\n      <td>199200</td>\n      <td>4</td>\n      <td>24.42111</td>\n      <td>9</td>\n      <td>1</td>\n      <td>1980</td>\n      <td>199.0</td>\n      <td>-12.0</td>\n      <td>False</td>\n      <td>True</td>\n    </tr>\n    <tr>\n      <th>46</th>\n      <td>Nobody</td>\n      <td>The Doobie Brothers</td>\n      <td>spotify:track:1w6uOq9M9XOqr5ftBZHfcN</td>\n      <td>0.634</td>\n      <td>0.8920</td>\n      <td>2</td>\n      <td>-5.374</td>\n      <td>1</td>\n      <td>0.0309</td>\n      <td>0.013400</td>\n      <td>...</td>\n      <td>260027</td>\n      <td>4</td>\n      <td>27.17715</td>\n      <td>12</td>\n      <td>1</td>\n      <td>1970</td>\n      <td>260.0</td>\n      <td>-5.0</td>\n      <td>False</td>\n      <td>True</td>\n    </tr>\n    <tr>\n      <th>47</th>\n      <td>Call My Name</td>\n      <td>Prince</td>\n      <td>spotify:track:1NtMkOgf5U9YMaXyuEIRn2</td>\n      <td>0.622</td>\n      <td>0.5740</td>\n      <td>5</td>\n      <td>-5.068</td>\n      <td>0</td>\n      <td>0.1550</td>\n      <td>0.685000</td>\n      <td>...</td>\n      <td>315773</td>\n      <td>4</td>\n      <td>59.07282</td>\n      <td>8</td>\n      <td>1</td>\n      <td>2000</td>\n      <td>316.0</td>\n      <td>-5.0</td>\n      <td>False</td>\n      <td>True</td>\n    </tr>\n    <tr>\n      <th>48</th>\n      <td>First Time</td>\n      <td>Lifehouse</td>\n      <td>spotify:track:6zg7srP3ORV0V8sUPk7zjh</td>\n      <td>0.442</td>\n      <td>0.9520</td>\n      <td>3</td>\n      <td>-2.234</td>\n      <td>1</td>\n      <td>0.0585</td>\n      <td>0.000024</td>\n      <td>...</td>\n      <td>202707</td>\n      <td>4</td>\n      <td>37.09826</td>\n      <td>7</td>\n      <td>1</td>\n      <td>2000</td>\n      <td>203.0</td>\n      <td>-2.0</td>\n      <td>False</td>\n      <td>True</td>\n    </tr>\n    <tr>\n      <th>49</th>\n      <td>First Time</td>\n      <td>Matt Nathanson</td>\n      <td>spotify:track:2EZFzm4VZtbxJXBDhHRmwu</td>\n      <td>0.540</td>\n      <td>0.4560</td>\n      <td>6</td>\n      <td>-6.133</td>\n      <td>1</td>\n      <td>0.0274</td>\n      <td>0.201000</td>\n      <td>...</td>\n      <td>239947</td>\n      <td>4</td>\n      <td>38.41405</td>\n      <td>12</td>\n      <td>0</td>\n      <td>1990</td>\n      <td>240.0</td>\n      <td>-6.0</td>\n      <td>False</td>\n      <td>True</td>\n    </tr>\n    <tr>\n      <th>50</th>\n      <td>All I Want</td>\n      <td>Susanna Hoffs</td>\n      <td>spotify:track:53m1rGnPJVtI0zUryVyL9N</td>\n      <td>0.617</td>\n      <td>0.5590</td>\n      <td>4</td>\n      <td>-5.738</td>\n      <td>1</td>\n      <td>0.0269</td>\n      <td>0.035900</td>\n      <td>...</td>\n      <td>198373</td>\n      <td>4</td>\n      <td>28.05580</td>\n      <td>11</td>\n      <td>1</td>\n      <td>1990</td>\n      <td>198.0</td>\n      <td>-6.0</td>\n      <td>False</td>\n      <td>True</td>\n    </tr>\n    <tr>\n      <th>51</th>\n      <td>All I Want</td>\n      <td>Toad The Wet Sprocket</td>\n      <td>spotify:track:2GHYJ0dhVds3PODKnTdiGE</td>\n      <td>0.600</td>\n      <td>0.8110</td>\n      <td>5</td>\n      <td>-7.693</td>\n      <td>1</td>\n      <td>0.0788</td>\n      <td>0.055800</td>\n      <td>...</td>\n      <td>196116</td>\n      <td>4</td>\n      <td>23.32175</td>\n      <td>11</td>\n      <td>1</td>\n      <td>1990</td>\n      <td>196.0</td>\n      <td>-8.0</td>\n      <td>False</td>\n      <td>True</td>\n    </tr>\n    <tr>\n      <th>52</th>\n      <td>All I Want</td>\n      <td>Howard Jones</td>\n      <td>spotify:track:70nB7hTC7FDiYoJp0TVwnp</td>\n      <td>0.611</td>\n      <td>0.8680</td>\n      <td>3</td>\n      <td>-7.982</td>\n      <td>1</td>\n      <td>0.0294</td>\n      <td>0.039700</td>\n      <td>...</td>\n      <td>275733</td>\n      <td>4</td>\n      <td>35.62317</td>\n      <td>12</td>\n      <td>1</td>\n      <td>1980</td>\n      <td>276.0</td>\n      <td>-8.0</td>\n      <td>False</td>\n      <td>True</td>\n    </tr>\n    <tr>\n      <th>53</th>\n      <td>All I Want</td>\n      <td>Tim Maia</td>\n      <td>spotify:track:1Fxoj2yydAJV8wDWlglgAo</td>\n      <td>0.527</td>\n      <td>0.6180</td>\n      <td>7</td>\n      <td>-6.450</td>\n      <td>0</td>\n      <td>0.1750</td>\n      <td>0.359000</td>\n      <td>...</td>\n      <td>204733</td>\n      <td>4</td>\n      <td>32.06329</td>\n      <td>11</td>\n      <td>0</td>\n      <td>1970</td>\n      <td>205.0</td>\n      <td>-6.0</td>\n      <td>False</td>\n      <td>True</td>\n    </tr>\n    <tr>\n      <th>54</th>\n      <td>Rumble</td>\n      <td>The Swiv-O-Matics</td>\n      <td>spotify:track:3tLkw752BPYiYYqartTVju</td>\n      <td>0.206</td>\n      <td>0.7850</td>\n      <td>9</td>\n      <td>-4.236</td>\n      <td>1</td>\n      <td>0.0490</td>\n      <td>0.000612</td>\n      <td>...</td>\n      <td>110507</td>\n      <td>4</td>\n      <td>23.47467</td>\n      <td>5</td>\n      <td>0</td>\n      <td>1990</td>\n      <td>111.0</td>\n      <td>-4.0</td>\n      <td>False</td>\n      <td>True</td>\n    </tr>\n    <tr>\n      <th>55</th>\n      <td>Dancing In The Dark</td>\n      <td>Bruce Springsteen</td>\n      <td>spotify:track:7FwBtcecmlpc1sLySPXeGE</td>\n      <td>0.527</td>\n      <td>0.9420</td>\n      <td>1</td>\n      <td>-5.640</td>\n      <td>0</td>\n      <td>0.0366</td>\n      <td>0.011500</td>\n      <td>...</td>\n      <td>241307</td>\n      <td>4</td>\n      <td>47.47864</td>\n      <td>10</td>\n      <td>1</td>\n      <td>1980</td>\n      <td>241.0</td>\n      <td>-6.0</td>\n      <td>False</td>\n      <td>True</td>\n    </tr>\n    <tr>\n      <th>56</th>\n      <td>Behind Closed Doors</td>\n      <td>Charlie Rich</td>\n      <td>spotify:track:6d7Jz2np6jtNaZv1DiWfJs</td>\n      <td>0.492</td>\n      <td>0.3290</td>\n      <td>2</td>\n      <td>-11.788</td>\n      <td>1</td>\n      <td>0.0274</td>\n      <td>0.961000</td>\n      <td>...</td>\n      <td>174667</td>\n      <td>4</td>\n      <td>25.75736</td>\n      <td>9</td>\n      <td>1</td>\n      <td>1970</td>\n      <td>175.0</td>\n      <td>-12.0</td>\n      <td>False</td>\n      <td>True</td>\n    </tr>\n    <tr>\n      <th>57</th>\n      <td>It's Your World</td>\n      <td>Marty Robbins</td>\n      <td>spotify:track:4YOujaYI7YhWtjHQg7ekDx</td>\n      <td>0.624</td>\n      <td>0.3230</td>\n      <td>5</td>\n      <td>-11.342</td>\n      <td>1</td>\n      <td>0.0263</td>\n      <td>0.750000</td>\n      <td>...</td>\n      <td>164267</td>\n      <td>4</td>\n      <td>36.15282</td>\n      <td>8</td>\n      <td>1</td>\n      <td>1960</td>\n      <td>164.0</td>\n      <td>-11.0</td>\n      <td>False</td>\n      <td>True</td>\n    </tr>\n  </tbody>\n</table>\n<p>58 rows × 24 columns</p>\n</div>"
     },
     "metadata": {}
    }
   ]
  },
  {
   "cell_type": "code",
   "metadata": {
    "tags": [],
    "cell_id": "00012-727c1322-67cd-48a2-b447-61ace2eb758b",
    "deepnote_to_be_reexecuted": true,
    "source_hash": "7b118be1",
    "is_output_hidden": false,
    "is_code_hidden": false,
    "allow_embed": false,
    "deepnote_cell_type": "code"
   },
   "source": "np.random.seed(101)\n\n\nrData['rb'] = rData.apply(lambda row: True if (row[\"track\"] in rb[\"track\"].tolist()) and (row[\"artist\"] in rb[\" Artist name\"].tolist()) else False, axis=1)\nrData = rData.loc[rData['target'] == 1].reset_index(drop=True)\nrData = cData.loc[rData['country'] == False].reset_index(drop=True)\nrData\nnRBRowIndices = np.random.randint(len(rData), size= 200).tolist()\n\nnCountry = cData.iloc[nCountryRowIndices , :].reset_index(drop = True)\n\nsampleData = pd.concat([nCountry, countryData]).reset_index(drop = True)\nsampleData\n",
   "execution_count": null,
   "outputs": []
  },
  {
   "cell_type": "code",
   "metadata": {
    "tags": [],
    "cell_id": "00013-fd8ae290-84be-447d-9740-8554b19a2479",
    "deepnote_to_be_reexecuted": true,
    "source_hash": "c4564f70",
    "is_code_hidden": false,
    "is_output_hidden": false,
    "allow_embed": false,
    "deepnote_cell_type": "code"
   },
   "source": "# loudness vs target (Line Plot)\nsns.relplot(x=\"decade\", y=\"loudness\", hue=\"country\", kind=\"line\", data = sampleData)\nwhy are we plotting so many things lol\n# energy vs target (Line Plot)\nsns.relplot(x=\"decade\", y=\"energy\",  hue=\"country\", kind=\"line\", data = sampleData)\n\n# speechiness vs target (Line Plot)\nsns.relplot(x=\"decade\", y=\"speechiness\",  hue=\"country\", kind=\"line\", data = sampleData)\n\n# speechiness vs target (Line Plot)\nsns.relplot(x=\"decade\", y=\"danceability\", hue=\"country\", kind=\"line\", data = sampleData)\n\n# valence vs target (Line Plot)\nsns.relplot(x=\"decade\", y=\"valence\",  hue=\"country\", kind=\"line\", data = sampleData)\n\n# tempo vs target (Line Plot)\nsns.relplot(x=\"decade\", y=\"tempo\",  hue=\"country\", kind=\"line\", data = sampleData)\n\n# instrumental vs target (Line Plot)\nsns.relplot(x=\"decade\", y=\"instrumentalness\",  hue=\"country\", kind=\"line\", data = sampleData)\n\n# duration over time (Line Plot)\nsns.relplot(x=\"decade\", y=\"duration_sec\", hue=\"country\", kind=\"line\", data = sampleData)",
   "execution_count": null,
   "outputs": []
  },
  {
   "cell_type": "markdown",
   "source": "<a style='text-decoration:none;line-height:16px;display:flex;color:#5B5B62;padding:10px;justify-content:end;' href='https://deepnote.com?utm_source=created-in-deepnote-cell&projectId=162d76af-48a2-4f75-9aef-34643a48aa39' target=\"_blank\">\n<img alt='Created in deepnote.com' style='display:inline;max-height:16px;margin:0px;margin-right:7.5px;' src='data:image/svg+xml;base64,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' > </img>\nCreated in <span style='font-weight:600;margin-left:4px;'>Deepnote</span></a>",
   "metadata": {
    "tags": [],
    "created_in_deepnote_cell": true,
    "deepnote_cell_type": "markdown"
   }
  }
 ],
 "nbformat": 4,
 "nbformat_minor": 2,
 "metadata": {
  "orig_nbformat": 2,
  "deepnote": {
   "is_reactive": false
  },
  "deepnote_notebook_id": "551b303d-5b6c-44c7-9511-f40a3d6a1b41",
  "deepnote_execution_queue": []
 }
}