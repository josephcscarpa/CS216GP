{
 "cells": [
  {
   "cell_type": "markdown",
   "source": "### CS 216 Project: Overall Statistics Analysis\n##### Joseph Scarpa (jcs140)",
   "metadata": {
    "tags": [],
    "deepnote_to_be_reexecuted": false,
    "source_hash": "644549be",
    "execution_start": 1634512206835,
    "cell_id": "00000-f2fd204e-fff3-42f0-9040-442890437460",
    "deepnote_cell_type": "markdown"
   }
  },
  {
   "cell_type": "code",
   "metadata": {
    "tags": [],
    "deepnote_to_be_reexecuted": false,
    "source_hash": "90e514b2",
    "execution_start": 1636139553496,
    "execution_millis": 1342,
    "cell_id": "00001-2bd9aaa2-93a4-48b1-9dfa-292ddb22a200",
    "deepnote_cell_type": "code"
   },
   "source": "# Imports (update throughout as necessary)\nimport numpy as np\nimport pandas as pd\nimport seaborn as sns\nimport math\nimport matplotlib.pyplot as plt\npd.options.mode.chained_assignment = None\n\nfrom sklearn.linear_model import LogisticRegression\nfrom sklearn.metrics import accuracy_score\nfrom sklearn.metrics import plot_confusion_matrix\nfrom sklearn.linear_model import LinearRegression\nfrom sklearn.metrics import mean_squared_error\nfrom sklearn.metrics import r2_score\nimport matplotlib.pyplot as plt # just to format confusion matrix\n\nfrom sklearn.feature_selection import SequentialFeatureSelector\nfrom sklearn.neighbors import KNeighborsClassifier\n\nimport re",
   "execution_count": 1,
   "outputs": []
  },
  {
   "cell_type": "markdown",
   "source": "#### Data loading and cleaning\n\nNotes:\n* No null values found\n* No duplicate values found",
   "metadata": {
    "tags": [],
    "cell_id": "00002-e38929e5-d99e-49ba-9709-190e005db0a7",
    "deepnote_cell_type": "markdown"
   }
  },
  {
   "cell_type": "code",
   "metadata": {
    "tags": [],
    "deepnote_to_be_reexecuted": false,
    "source_hash": "1796852b",
    "execution_start": 1636139554842,
    "execution_millis": 171,
    "cell_id": "00003-dac9358e-99f3-429e-9b17-9ed1bcd1cedb",
    "deepnote_cell_type": "code"
   },
   "source": "# Data loading\ndata10 = pd.read_csv('./datasets/dataset-of-10s.csv')\ndata00 = pd.read_csv('./datasets/dataset-of-00s.csv')\ndata90 = pd.read_csv('./datasets/dataset-of-90s.csv')\ndata80 = pd.read_csv('./datasets/dataset-of-80s.csv')\ndata70 = pd.read_csv('./datasets/dataset-of-70s.csv')\ndata60 = pd.read_csv('./datasets/dataset-of-60s.csv')",
   "execution_count": 2,
   "outputs": []
  },
  {
   "cell_type": "code",
   "metadata": {
    "tags": [],
    "deepnote_to_be_reexecuted": false,
    "source_hash": "d1ca17dc",
    "execution_start": 1636139555020,
    "execution_millis": 39,
    "cell_id": "00004-c44a9a9a-8c15-458f-87ca-dff00cf3f657",
    "deepnote_cell_type": "code"
   },
   "source": "# Data cleaning\n\n# Drop all na values\ndata10 = data10.dropna()\ndata00 = data00.dropna()\ndata90 = data90.dropna()\ndata80 = data80.dropna()\ndata70 = data70.dropna()\ndata60 = data60.dropna()\n\n\n# Add a decades column to each dataset (will be helpful when creating cumulative dataset)\ndata10['decade'] = [2010]*len(data10)\ndata00['decade'] = [2000]*len(data00)\ndata90['decade'] = [1990]*len(data90)\ndata80['decade'] = [1980]*len(data80)\ndata70['decade'] = [1970]*len(data70)\ndata60['decade'] = [1960]*len(data60)",
   "execution_count": 3,
   "outputs": []
  },
  {
   "cell_type": "code",
   "metadata": {
    "tags": [],
    "deepnote_to_be_reexecuted": false,
    "source_hash": "b755cb78",
    "execution_start": 1636139555065,
    "execution_millis": 231,
    "cell_id": "00005-d0d358b7-e47f-487f-a940-297aae08ab32",
    "deepnote_cell_type": "code"
   },
   "source": "# Check for duplicates in dataset\nmerged = data10.merge(data00,on=['track','artist'])\nmerged = merged.merge(data90,on=['track','artist'])\nmerged = merged.merge(data80,on=['track','artist'])\nmerged = merged.merge(data70,on=['track','artist'])\nmerged = merged.merge(data60,on=['track','artist'])\nmerged\n# NOTE: No duplicates found",
   "execution_count": 4,
   "outputs": [
    {
     "output_type": "execute_result",
     "execution_count": 4,
     "data": {
      "application/vnd.deepnote.dataframe.v2+json": {
       "row_count": 0,
       "column_count": 110,
       "columns": [
        {
         "name": "uri_x",
         "dtype": "object",
         "stats": {
          "unique_count": 0,
          "nan_count": 0,
          "categories": []
         }
        },
        {
         "name": "danceability_x",
         "dtype": "float64",
         "stats": {
          "unique_count": 0,
          "nan_count": 0,
          "min": null,
          "max": null,
          "histogram": [
           {
            "bin_start": 0,
            "bin_end": 0.1,
            "count": 0
           },
           {
            "bin_start": 0.1,
            "bin_end": 0.2,
            "count": 0
           },
           {
            "bin_start": 0.2,
            "bin_end": 0.30000000000000004,
            "count": 0
           },
           {
            "bin_start": 0.30000000000000004,
            "bin_end": 0.4,
            "count": 0
           },
           {
            "bin_start": 0.4,
            "bin_end": 0.5,
            "count": 0
           },
           {
            "bin_start": 0.5,
            "bin_end": 0.6000000000000001,
            "count": 0
           },
           {
            "bin_start": 0.6000000000000001,
            "bin_end": 0.7000000000000001,
            "count": 0
           },
           {
            "bin_start": 0.7000000000000001,
            "bin_end": 0.8,
            "count": 0
           },
           {
            "bin_start": 0.8,
            "bin_end": 0.9,
            "count": 0
           },
           {
            "bin_start": 0.9,
            "bin_end": 1,
            "count": 0
           }
          ]
         }
        },
        {
         "name": "energy_x",
         "dtype": "float64",
         "stats": {
          "unique_count": 0,
          "nan_count": 0,
          "min": null,
          "max": null,
          "histogram": [
           {
            "bin_start": 0,
            "bin_end": 0.1,
            "count": 0
           },
           {
            "bin_start": 0.1,
            "bin_end": 0.2,
            "count": 0
           },
           {
            "bin_start": 0.2,
            "bin_end": 0.30000000000000004,
            "count": 0
           },
           {
            "bin_start": 0.30000000000000004,
            "bin_end": 0.4,
            "count": 0
           },
           {
            "bin_start": 0.4,
            "bin_end": 0.5,
            "count": 0
           },
           {
            "bin_start": 0.5,
            "bin_end": 0.6000000000000001,
            "count": 0
           },
           {
            "bin_start": 0.6000000000000001,
            "bin_end": 0.7000000000000001,
            "count": 0
           },
           {
            "bin_start": 0.7000000000000001,
            "bin_end": 0.8,
            "count": 0
           },
           {
            "bin_start": 0.8,
            "bin_end": 0.9,
            "count": 0
           },
           {
            "bin_start": 0.9,
            "bin_end": 1,
            "count": 0
           }
          ]
         }
        },
        {
         "name": "key_x",
         "dtype": "int64",
         "stats": {
          "unique_count": 0,
          "nan_count": 0,
          "min": null,
          "max": null,
          "histogram": [
           {
            "bin_start": 0,
            "bin_end": 0.1,
            "count": 0
           },
           {
            "bin_start": 0.1,
            "bin_end": 0.2,
            "count": 0
           },
           {
            "bin_start": 0.2,
            "bin_end": 0.30000000000000004,
            "count": 0
           },
           {
            "bin_start": 0.30000000000000004,
            "bin_end": 0.4,
            "count": 0
           },
           {
            "bin_start": 0.4,
            "bin_end": 0.5,
            "count": 0
           },
           {
            "bin_start": 0.5,
            "bin_end": 0.6000000000000001,
            "count": 0
           },
           {
            "bin_start": 0.6000000000000001,
            "bin_end": 0.7000000000000001,
            "count": 0
           },
           {
            "bin_start": 0.7000000000000001,
            "bin_end": 0.8,
            "count": 0
           },
           {
            "bin_start": 0.8,
            "bin_end": 0.9,
            "count": 0
           },
           {
            "bin_start": 0.9,
            "bin_end": 1,
            "count": 0
           }
          ]
         }
        },
        {
         "name": "loudness_x",
         "dtype": "float64",
         "stats": {
          "unique_count": 0,
          "nan_count": 0,
          "min": null,
          "max": null,
          "histogram": [
           {
            "bin_start": 0,
            "bin_end": 0.1,
            "count": 0
           },
           {
            "bin_start": 0.1,
            "bin_end": 0.2,
            "count": 0
           },
           {
            "bin_start": 0.2,
            "bin_end": 0.30000000000000004,
            "count": 0
           },
           {
            "bin_start": 0.30000000000000004,
            "bin_end": 0.4,
            "count": 0
           },
           {
            "bin_start": 0.4,
            "bin_end": 0.5,
            "count": 0
           },
           {
            "bin_start": 0.5,
            "bin_end": 0.6000000000000001,
            "count": 0
           },
           {
            "bin_start": 0.6000000000000001,
            "bin_end": 0.7000000000000001,
            "count": 0
           },
           {
            "bin_start": 0.7000000000000001,
            "bin_end": 0.8,
            "count": 0
           },
           {
            "bin_start": 0.8,
            "bin_end": 0.9,
            "count": 0
           },
           {
            "bin_start": 0.9,
            "bin_end": 1,
            "count": 0
           }
          ]
         }
        },
        {
         "name": "mode_x",
         "dtype": "int64",
         "stats": {
          "unique_count": 0,
          "nan_count": 0,
          "min": null,
          "max": null,
          "histogram": [
           {
            "bin_start": 0,
            "bin_end": 0.1,
            "count": 0
           },
           {
            "bin_start": 0.1,
            "bin_end": 0.2,
            "count": 0
           },
           {
            "bin_start": 0.2,
            "bin_end": 0.30000000000000004,
            "count": 0
           },
           {
            "bin_start": 0.30000000000000004,
            "bin_end": 0.4,
            "count": 0
           },
           {
            "bin_start": 0.4,
            "bin_end": 0.5,
            "count": 0
           },
           {
            "bin_start": 0.5,
            "bin_end": 0.6000000000000001,
            "count": 0
           },
           {
            "bin_start": 0.6000000000000001,
            "bin_end": 0.7000000000000001,
            "count": 0
           },
           {
            "bin_start": 0.7000000000000001,
            "bin_end": 0.8,
            "count": 0
           },
           {
            "bin_start": 0.8,
            "bin_end": 0.9,
            "count": 0
           },
           {
            "bin_start": 0.9,
            "bin_end": 1,
            "count": 0
           }
          ]
         }
        },
        {
         "name": "speechiness_x",
         "dtype": "float64",
         "stats": {
          "unique_count": 0,
          "nan_count": 0,
          "min": null,
          "max": null,
          "histogram": [
           {
            "bin_start": 0,
            "bin_end": 0.1,
            "count": 0
           },
           {
            "bin_start": 0.1,
            "bin_end": 0.2,
            "count": 0
           },
           {
            "bin_start": 0.2,
            "bin_end": 0.30000000000000004,
            "count": 0
           },
           {
            "bin_start": 0.30000000000000004,
            "bin_end": 0.4,
            "count": 0
           },
           {
            "bin_start": 0.4,
            "bin_end": 0.5,
            "count": 0
           },
           {
            "bin_start": 0.5,
            "bin_end": 0.6000000000000001,
            "count": 0
           },
           {
            "bin_start": 0.6000000000000001,
            "bin_end": 0.7000000000000001,
            "count": 0
           },
           {
            "bin_start": 0.7000000000000001,
            "bin_end": 0.8,
            "count": 0
           },
           {
            "bin_start": 0.8,
            "bin_end": 0.9,
            "count": 0
           },
           {
            "bin_start": 0.9,
            "bin_end": 1,
            "count": 0
           }
          ]
         }
        },
        {
         "name": "acousticness_x",
         "dtype": "float64",
         "stats": {
          "unique_count": 0,
          "nan_count": 0,
          "min": null,
          "max": null,
          "histogram": [
           {
            "bin_start": 0,
            "bin_end": 0.1,
            "count": 0
           },
           {
            "bin_start": 0.1,
            "bin_end": 0.2,
            "count": 0
           },
           {
            "bin_start": 0.2,
            "bin_end": 0.30000000000000004,
            "count": 0
           },
           {
            "bin_start": 0.30000000000000004,
            "bin_end": 0.4,
            "count": 0
           },
           {
            "bin_start": 0.4,
            "bin_end": 0.5,
            "count": 0
           },
           {
            "bin_start": 0.5,
            "bin_end": 0.6000000000000001,
            "count": 0
           },
           {
            "bin_start": 0.6000000000000001,
            "bin_end": 0.7000000000000001,
            "count": 0
           },
           {
            "bin_start": 0.7000000000000001,
            "bin_end": 0.8,
            "count": 0
           },
           {
            "bin_start": 0.8,
            "bin_end": 0.9,
            "count": 0
           },
           {
            "bin_start": 0.9,
            "bin_end": 1,
            "count": 0
           }
          ]
         }
        },
        {
         "name": "instrumentalness_x",
         "dtype": "float64",
         "stats": {
          "unique_count": 0,
          "nan_count": 0,
          "min": null,
          "max": null,
          "histogram": [
           {
            "bin_start": 0,
            "bin_end": 0.1,
            "count": 0
           },
           {
            "bin_start": 0.1,
            "bin_end": 0.2,
            "count": 0
           },
           {
            "bin_start": 0.2,
            "bin_end": 0.30000000000000004,
            "count": 0
           },
           {
            "bin_start": 0.30000000000000004,
            "bin_end": 0.4,
            "count": 0
           },
           {
            "bin_start": 0.4,
            "bin_end": 0.5,
            "count": 0
           },
           {
            "bin_start": 0.5,
            "bin_end": 0.6000000000000001,
            "count": 0
           },
           {
            "bin_start": 0.6000000000000001,
            "bin_end": 0.7000000000000001,
            "count": 0
           },
           {
            "bin_start": 0.7000000000000001,
            "bin_end": 0.8,
            "count": 0
           },
           {
            "bin_start": 0.8,
            "bin_end": 0.9,
            "count": 0
           },
           {
            "bin_start": 0.9,
            "bin_end": 1,
            "count": 0
           }
          ]
         }
        },
        {
         "name": "liveness_x",
         "dtype": "float64",
         "stats": {
          "unique_count": 0,
          "nan_count": 0,
          "min": null,
          "max": null,
          "histogram": [
           {
            "bin_start": 0,
            "bin_end": 0.1,
            "count": 0
           },
           {
            "bin_start": 0.1,
            "bin_end": 0.2,
            "count": 0
           },
           {
            "bin_start": 0.2,
            "bin_end": 0.30000000000000004,
            "count": 0
           },
           {
            "bin_start": 0.30000000000000004,
            "bin_end": 0.4,
            "count": 0
           },
           {
            "bin_start": 0.4,
            "bin_end": 0.5,
            "count": 0
           },
           {
            "bin_start": 0.5,
            "bin_end": 0.6000000000000001,
            "count": 0
           },
           {
            "bin_start": 0.6000000000000001,
            "bin_end": 0.7000000000000001,
            "count": 0
           },
           {
            "bin_start": 0.7000000000000001,
            "bin_end": 0.8,
            "count": 0
           },
           {
            "bin_start": 0.8,
            "bin_end": 0.9,
            "count": 0
           },
           {
            "bin_start": 0.9,
            "bin_end": 1,
            "count": 0
           }
          ]
         }
        },
        {
         "name": "valence_x",
         "dtype": "float64",
         "stats": {
          "unique_count": 0,
          "nan_count": 0,
          "min": null,
          "max": null,
          "histogram": [
           {
            "bin_start": 0,
            "bin_end": 0.1,
            "count": 0
           },
           {
            "bin_start": 0.1,
            "bin_end": 0.2,
            "count": 0
           },
           {
            "bin_start": 0.2,
            "bin_end": 0.30000000000000004,
            "count": 0
           },
           {
            "bin_start": 0.30000000000000004,
            "bin_end": 0.4,
            "count": 0
           },
           {
            "bin_start": 0.4,
            "bin_end": 0.5,
            "count": 0
           },
           {
            "bin_start": 0.5,
            "bin_end": 0.6000000000000001,
            "count": 0
           },
           {
            "bin_start": 0.6000000000000001,
            "bin_end": 0.7000000000000001,
            "count": 0
           },
           {
            "bin_start": 0.7000000000000001,
            "bin_end": 0.8,
            "count": 0
           },
           {
            "bin_start": 0.8,
            "bin_end": 0.9,
            "count": 0
           },
           {
            "bin_start": 0.9,
            "bin_end": 1,
            "count": 0
           }
          ]
         }
        },
        {
         "name": "tempo_x",
         "dtype": "float64",
         "stats": {
          "unique_count": 0,
          "nan_count": 0,
          "min": null,
          "max": null,
          "histogram": [
           {
            "bin_start": 0,
            "bin_end": 0.1,
            "count": 0
           },
           {
            "bin_start": 0.1,
            "bin_end": 0.2,
            "count": 0
           },
           {
            "bin_start": 0.2,
            "bin_end": 0.30000000000000004,
            "count": 0
           },
           {
            "bin_start": 0.30000000000000004,
            "bin_end": 0.4,
            "count": 0
           },
           {
            "bin_start": 0.4,
            "bin_end": 0.5,
            "count": 0
           },
           {
            "bin_start": 0.5,
            "bin_end": 0.6000000000000001,
            "count": 0
           },
           {
            "bin_start": 0.6000000000000001,
            "bin_end": 0.7000000000000001,
            "count": 0
           },
           {
            "bin_start": 0.7000000000000001,
            "bin_end": 0.8,
            "count": 0
           },
           {
            "bin_start": 0.8,
            "bin_end": 0.9,
            "count": 0
           },
           {
            "bin_start": 0.9,
            "bin_end": 1,
            "count": 0
           }
          ]
         }
        },
        {
         "name": "duration_ms_x",
         "dtype": "int64",
         "stats": {
          "unique_count": 0,
          "nan_count": 0,
          "min": null,
          "max": null,
          "histogram": [
           {
            "bin_start": 0,
            "bin_end": 0.1,
            "count": 0
           },
           {
            "bin_start": 0.1,
            "bin_end": 0.2,
            "count": 0
           },
           {
            "bin_start": 0.2,
            "bin_end": 0.30000000000000004,
            "count": 0
           },
           {
            "bin_start": 0.30000000000000004,
            "bin_end": 0.4,
            "count": 0
           },
           {
            "bin_start": 0.4,
            "bin_end": 0.5,
            "count": 0
           },
           {
            "bin_start": 0.5,
            "bin_end": 0.6000000000000001,
            "count": 0
           },
           {
            "bin_start": 0.6000000000000001,
            "bin_end": 0.7000000000000001,
            "count": 0
           },
           {
            "bin_start": 0.7000000000000001,
            "bin_end": 0.8,
            "count": 0
           },
           {
            "bin_start": 0.8,
            "bin_end": 0.9,
            "count": 0
           },
           {
            "bin_start": 0.9,
            "bin_end": 1,
            "count": 0
           }
          ]
         }
        },
        {
         "name": "time_signature_x",
         "dtype": "int64",
         "stats": {
          "unique_count": 0,
          "nan_count": 0,
          "min": null,
          "max": null,
          "histogram": [
           {
            "bin_start": 0,
            "bin_end": 0.1,
            "count": 0
           },
           {
            "bin_start": 0.1,
            "bin_end": 0.2,
            "count": 0
           },
           {
            "bin_start": 0.2,
            "bin_end": 0.30000000000000004,
            "count": 0
           },
           {
            "bin_start": 0.30000000000000004,
            "bin_end": 0.4,
            "count": 0
           },
           {
            "bin_start": 0.4,
            "bin_end": 0.5,
            "count": 0
           },
           {
            "bin_start": 0.5,
            "bin_end": 0.6000000000000001,
            "count": 0
           },
           {
            "bin_start": 0.6000000000000001,
            "bin_end": 0.7000000000000001,
            "count": 0
           },
           {
            "bin_start": 0.7000000000000001,
            "bin_end": 0.8,
            "count": 0
           },
           {
            "bin_start": 0.8,
            "bin_end": 0.9,
            "count": 0
           },
           {
            "bin_start": 0.9,
            "bin_end": 1,
            "count": 0
           }
          ]
         }
        },
        {
         "name": "chorus_hit_x",
         "dtype": "float64",
         "stats": {
          "unique_count": 0,
          "nan_count": 0,
          "min": null,
          "max": null,
          "histogram": [
           {
            "bin_start": 0,
            "bin_end": 0.1,
            "count": 0
           },
           {
            "bin_start": 0.1,
            "bin_end": 0.2,
            "count": 0
           },
           {
            "bin_start": 0.2,
            "bin_end": 0.30000000000000004,
            "count": 0
           },
           {
            "bin_start": 0.30000000000000004,
            "bin_end": 0.4,
            "count": 0
           },
           {
            "bin_start": 0.4,
            "bin_end": 0.5,
            "count": 0
           },
           {
            "bin_start": 0.5,
            "bin_end": 0.6000000000000001,
            "count": 0
           },
           {
            "bin_start": 0.6000000000000001,
            "bin_end": 0.7000000000000001,
            "count": 0
           },
           {
            "bin_start": 0.7000000000000001,
            "bin_end": 0.8,
            "count": 0
           },
           {
            "bin_start": 0.8,
            "bin_end": 0.9,
            "count": 0
           },
           {
            "bin_start": 0.9,
            "bin_end": 1,
            "count": 0
           }
          ]
         }
        },
        {
         "name": "sections_x",
         "dtype": "int64",
         "stats": {
          "unique_count": 0,
          "nan_count": 0,
          "min": null,
          "max": null,
          "histogram": [
           {
            "bin_start": 0,
            "bin_end": 0.1,
            "count": 0
           },
           {
            "bin_start": 0.1,
            "bin_end": 0.2,
            "count": 0
           },
           {
            "bin_start": 0.2,
            "bin_end": 0.30000000000000004,
            "count": 0
           },
           {
            "bin_start": 0.30000000000000004,
            "bin_end": 0.4,
            "count": 0
           },
           {
            "bin_start": 0.4,
            "bin_end": 0.5,
            "count": 0
           },
           {
            "bin_start": 0.5,
            "bin_end": 0.6000000000000001,
            "count": 0
           },
           {
            "bin_start": 0.6000000000000001,
            "bin_end": 0.7000000000000001,
            "count": 0
           },
           {
            "bin_start": 0.7000000000000001,
            "bin_end": 0.8,
            "count": 0
           },
           {
            "bin_start": 0.8,
            "bin_end": 0.9,
            "count": 0
           },
           {
            "bin_start": 0.9,
            "bin_end": 1,
            "count": 0
           }
          ]
         }
        },
        {
         "name": "target_x",
         "dtype": "int64",
         "stats": {
          "unique_count": 0,
          "nan_count": 0,
          "min": null,
          "max": null,
          "histogram": [
           {
            "bin_start": 0,
            "bin_end": 0.1,
            "count": 0
           },
           {
            "bin_start": 0.1,
            "bin_end": 0.2,
            "count": 0
           },
           {
            "bin_start": 0.2,
            "bin_end": 0.30000000000000004,
            "count": 0
           },
           {
            "bin_start": 0.30000000000000004,
            "bin_end": 0.4,
            "count": 0
           },
           {
            "bin_start": 0.4,
            "bin_end": 0.5,
            "count": 0
           },
           {
            "bin_start": 0.5,
            "bin_end": 0.6000000000000001,
            "count": 0
           },
           {
            "bin_start": 0.6000000000000001,
            "bin_end": 0.7000000000000001,
            "count": 0
           },
           {
            "bin_start": 0.7000000000000001,
            "bin_end": 0.8,
            "count": 0
           },
           {
            "bin_start": 0.8,
            "bin_end": 0.9,
            "count": 0
           },
           {
            "bin_start": 0.9,
            "bin_end": 1,
            "count": 0
           }
          ]
         }
        },
        {
         "name": "decade_x",
         "dtype": "int64",
         "stats": {
          "unique_count": 0,
          "nan_count": 0,
          "min": null,
          "max": null,
          "histogram": [
           {
            "bin_start": 0,
            "bin_end": 0.1,
            "count": 0
           },
           {
            "bin_start": 0.1,
            "bin_end": 0.2,
            "count": 0
           },
           {
            "bin_start": 0.2,
            "bin_end": 0.30000000000000004,
            "count": 0
           },
           {
            "bin_start": 0.30000000000000004,
            "bin_end": 0.4,
            "count": 0
           },
           {
            "bin_start": 0.4,
            "bin_end": 0.5,
            "count": 0
           },
           {
            "bin_start": 0.5,
            "bin_end": 0.6000000000000001,
            "count": 0
           },
           {
            "bin_start": 0.6000000000000001,
            "bin_end": 0.7000000000000001,
            "count": 0
           },
           {
            "bin_start": 0.7000000000000001,
            "bin_end": 0.8,
            "count": 0
           },
           {
            "bin_start": 0.8,
            "bin_end": 0.9,
            "count": 0
           },
           {
            "bin_start": 0.9,
            "bin_end": 1,
            "count": 0
           }
          ]
         }
        },
        {
         "name": "uri_y",
         "dtype": "object",
         "stats": {
          "unique_count": 0,
          "nan_count": 0,
          "categories": []
         }
        },
        {
         "name": "danceability_y",
         "dtype": "float64",
         "stats": {
          "unique_count": 0,
          "nan_count": 0,
          "min": null,
          "max": null,
          "histogram": [
           {
            "bin_start": 0,
            "bin_end": 0.1,
            "count": 0
           },
           {
            "bin_start": 0.1,
            "bin_end": 0.2,
            "count": 0
           },
           {
            "bin_start": 0.2,
            "bin_end": 0.30000000000000004,
            "count": 0
           },
           {
            "bin_start": 0.30000000000000004,
            "bin_end": 0.4,
            "count": 0
           },
           {
            "bin_start": 0.4,
            "bin_end": 0.5,
            "count": 0
           },
           {
            "bin_start": 0.5,
            "bin_end": 0.6000000000000001,
            "count": 0
           },
           {
            "bin_start": 0.6000000000000001,
            "bin_end": 0.7000000000000001,
            "count": 0
           },
           {
            "bin_start": 0.7000000000000001,
            "bin_end": 0.8,
            "count": 0
           },
           {
            "bin_start": 0.8,
            "bin_end": 0.9,
            "count": 0
           },
           {
            "bin_start": 0.9,
            "bin_end": 1,
            "count": 0
           }
          ]
         }
        },
        {
         "name": "energy_y",
         "dtype": "float64",
         "stats": {
          "unique_count": 0,
          "nan_count": 0,
          "min": null,
          "max": null,
          "histogram": [
           {
            "bin_start": 0,
            "bin_end": 0.1,
            "count": 0
           },
           {
            "bin_start": 0.1,
            "bin_end": 0.2,
            "count": 0
           },
           {
            "bin_start": 0.2,
            "bin_end": 0.30000000000000004,
            "count": 0
           },
           {
            "bin_start": 0.30000000000000004,
            "bin_end": 0.4,
            "count": 0
           },
           {
            "bin_start": 0.4,
            "bin_end": 0.5,
            "count": 0
           },
           {
            "bin_start": 0.5,
            "bin_end": 0.6000000000000001,
            "count": 0
           },
           {
            "bin_start": 0.6000000000000001,
            "bin_end": 0.7000000000000001,
            "count": 0
           },
           {
            "bin_start": 0.7000000000000001,
            "bin_end": 0.8,
            "count": 0
           },
           {
            "bin_start": 0.8,
            "bin_end": 0.9,
            "count": 0
           },
           {
            "bin_start": 0.9,
            "bin_end": 1,
            "count": 0
           }
          ]
         }
        },
        {
         "name": "key_y",
         "dtype": "int64",
         "stats": {
          "unique_count": 0,
          "nan_count": 0,
          "min": null,
          "max": null,
          "histogram": [
           {
            "bin_start": 0,
            "bin_end": 0.1,
            "count": 0
           },
           {
            "bin_start": 0.1,
            "bin_end": 0.2,
            "count": 0
           },
           {
            "bin_start": 0.2,
            "bin_end": 0.30000000000000004,
            "count": 0
           },
           {
            "bin_start": 0.30000000000000004,
            "bin_end": 0.4,
            "count": 0
           },
           {
            "bin_start": 0.4,
            "bin_end": 0.5,
            "count": 0
           },
           {
            "bin_start": 0.5,
            "bin_end": 0.6000000000000001,
            "count": 0
           },
           {
            "bin_start": 0.6000000000000001,
            "bin_end": 0.7000000000000001,
            "count": 0
           },
           {
            "bin_start": 0.7000000000000001,
            "bin_end": 0.8,
            "count": 0
           },
           {
            "bin_start": 0.8,
            "bin_end": 0.9,
            "count": 0
           },
           {
            "bin_start": 0.9,
            "bin_end": 1,
            "count": 0
           }
          ]
         }
        },
        {
         "name": "loudness_y",
         "dtype": "float64",
         "stats": {
          "unique_count": 0,
          "nan_count": 0,
          "min": null,
          "max": null,
          "histogram": [
           {
            "bin_start": 0,
            "bin_end": 0.1,
            "count": 0
           },
           {
            "bin_start": 0.1,
            "bin_end": 0.2,
            "count": 0
           },
           {
            "bin_start": 0.2,
            "bin_end": 0.30000000000000004,
            "count": 0
           },
           {
            "bin_start": 0.30000000000000004,
            "bin_end": 0.4,
            "count": 0
           },
           {
            "bin_start": 0.4,
            "bin_end": 0.5,
            "count": 0
           },
           {
            "bin_start": 0.5,
            "bin_end": 0.6000000000000001,
            "count": 0
           },
           {
            "bin_start": 0.6000000000000001,
            "bin_end": 0.7000000000000001,
            "count": 0
           },
           {
            "bin_start": 0.7000000000000001,
            "bin_end": 0.8,
            "count": 0
           },
           {
            "bin_start": 0.8,
            "bin_end": 0.9,
            "count": 0
           },
           {
            "bin_start": 0.9,
            "bin_end": 1,
            "count": 0
           }
          ]
         }
        },
        {
         "name": "mode_y",
         "dtype": "int64",
         "stats": {
          "unique_count": 0,
          "nan_count": 0,
          "min": null,
          "max": null,
          "histogram": [
           {
            "bin_start": 0,
            "bin_end": 0.1,
            "count": 0
           },
           {
            "bin_start": 0.1,
            "bin_end": 0.2,
            "count": 0
           },
           {
            "bin_start": 0.2,
            "bin_end": 0.30000000000000004,
            "count": 0
           },
           {
            "bin_start": 0.30000000000000004,
            "bin_end": 0.4,
            "count": 0
           },
           {
            "bin_start": 0.4,
            "bin_end": 0.5,
            "count": 0
           },
           {
            "bin_start": 0.5,
            "bin_end": 0.6000000000000001,
            "count": 0
           },
           {
            "bin_start": 0.6000000000000001,
            "bin_end": 0.7000000000000001,
            "count": 0
           },
           {
            "bin_start": 0.7000000000000001,
            "bin_end": 0.8,
            "count": 0
           },
           {
            "bin_start": 0.8,
            "bin_end": 0.9,
            "count": 0
           },
           {
            "bin_start": 0.9,
            "bin_end": 1,
            "count": 0
           }
          ]
         }
        },
        {
         "name": "speechiness_y",
         "dtype": "float64",
         "stats": {
          "unique_count": 0,
          "nan_count": 0,
          "min": null,
          "max": null,
          "histogram": [
           {
            "bin_start": 0,
            "bin_end": 0.1,
            "count": 0
           },
           {
            "bin_start": 0.1,
            "bin_end": 0.2,
            "count": 0
           },
           {
            "bin_start": 0.2,
            "bin_end": 0.30000000000000004,
            "count": 0
           },
           {
            "bin_start": 0.30000000000000004,
            "bin_end": 0.4,
            "count": 0
           },
           {
            "bin_start": 0.4,
            "bin_end": 0.5,
            "count": 0
           },
           {
            "bin_start": 0.5,
            "bin_end": 0.6000000000000001,
            "count": 0
           },
           {
            "bin_start": 0.6000000000000001,
            "bin_end": 0.7000000000000001,
            "count": 0
           },
           {
            "bin_start": 0.7000000000000001,
            "bin_end": 0.8,
            "count": 0
           },
           {
            "bin_start": 0.8,
            "bin_end": 0.9,
            "count": 0
           },
           {
            "bin_start": 0.9,
            "bin_end": 1,
            "count": 0
           }
          ]
         }
        },
        {
         "name": "acousticness_y",
         "dtype": "float64",
         "stats": {
          "unique_count": 0,
          "nan_count": 0,
          "min": null,
          "max": null,
          "histogram": [
           {
            "bin_start": 0,
            "bin_end": 0.1,
            "count": 0
           },
           {
            "bin_start": 0.1,
            "bin_end": 0.2,
            "count": 0
           },
           {
            "bin_start": 0.2,
            "bin_end": 0.30000000000000004,
            "count": 0
           },
           {
            "bin_start": 0.30000000000000004,
            "bin_end": 0.4,
            "count": 0
           },
           {
            "bin_start": 0.4,
            "bin_end": 0.5,
            "count": 0
           },
           {
            "bin_start": 0.5,
            "bin_end": 0.6000000000000001,
            "count": 0
           },
           {
            "bin_start": 0.6000000000000001,
            "bin_end": 0.7000000000000001,
            "count": 0
           },
           {
            "bin_start": 0.7000000000000001,
            "bin_end": 0.8,
            "count": 0
           },
           {
            "bin_start": 0.8,
            "bin_end": 0.9,
            "count": 0
           },
           {
            "bin_start": 0.9,
            "bin_end": 1,
            "count": 0
           }
          ]
         }
        },
        {
         "name": "instrumentalness_y",
         "dtype": "float64",
         "stats": {
          "unique_count": 0,
          "nan_count": 0,
          "min": null,
          "max": null,
          "histogram": [
           {
            "bin_start": 0,
            "bin_end": 0.1,
            "count": 0
           },
           {
            "bin_start": 0.1,
            "bin_end": 0.2,
            "count": 0
           },
           {
            "bin_start": 0.2,
            "bin_end": 0.30000000000000004,
            "count": 0
           },
           {
            "bin_start": 0.30000000000000004,
            "bin_end": 0.4,
            "count": 0
           },
           {
            "bin_start": 0.4,
            "bin_end": 0.5,
            "count": 0
           },
           {
            "bin_start": 0.5,
            "bin_end": 0.6000000000000001,
            "count": 0
           },
           {
            "bin_start": 0.6000000000000001,
            "bin_end": 0.7000000000000001,
            "count": 0
           },
           {
            "bin_start": 0.7000000000000001,
            "bin_end": 0.8,
            "count": 0
           },
           {
            "bin_start": 0.8,
            "bin_end": 0.9,
            "count": 0
           },
           {
            "bin_start": 0.9,
            "bin_end": 1,
            "count": 0
           }
          ]
         }
        },
        {
         "name": "liveness_y",
         "dtype": "float64",
         "stats": {
          "unique_count": 0,
          "nan_count": 0,
          "min": null,
          "max": null,
          "histogram": [
           {
            "bin_start": 0,
            "bin_end": 0.1,
            "count": 0
           },
           {
            "bin_start": 0.1,
            "bin_end": 0.2,
            "count": 0
           },
           {
            "bin_start": 0.2,
            "bin_end": 0.30000000000000004,
            "count": 0
           },
           {
            "bin_start": 0.30000000000000004,
            "bin_end": 0.4,
            "count": 0
           },
           {
            "bin_start": 0.4,
            "bin_end": 0.5,
            "count": 0
           },
           {
            "bin_start": 0.5,
            "bin_end": 0.6000000000000001,
            "count": 0
           },
           {
            "bin_start": 0.6000000000000001,
            "bin_end": 0.7000000000000001,
            "count": 0
           },
           {
            "bin_start": 0.7000000000000001,
            "bin_end": 0.8,
            "count": 0
           },
           {
            "bin_start": 0.8,
            "bin_end": 0.9,
            "count": 0
           },
           {
            "bin_start": 0.9,
            "bin_end": 1,
            "count": 0
           }
          ]
         }
        },
        {
         "name": "valence_y",
         "dtype": "float64",
         "stats": {
          "unique_count": 0,
          "nan_count": 0,
          "min": null,
          "max": null,
          "histogram": [
           {
            "bin_start": 0,
            "bin_end": 0.1,
            "count": 0
           },
           {
            "bin_start": 0.1,
            "bin_end": 0.2,
            "count": 0
           },
           {
            "bin_start": 0.2,
            "bin_end": 0.30000000000000004,
            "count": 0
           },
           {
            "bin_start": 0.30000000000000004,
            "bin_end": 0.4,
            "count": 0
           },
           {
            "bin_start": 0.4,
            "bin_end": 0.5,
            "count": 0
           },
           {
            "bin_start": 0.5,
            "bin_end": 0.6000000000000001,
            "count": 0
           },
           {
            "bin_start": 0.6000000000000001,
            "bin_end": 0.7000000000000001,
            "count": 0
           },
           {
            "bin_start": 0.7000000000000001,
            "bin_end": 0.8,
            "count": 0
           },
           {
            "bin_start": 0.8,
            "bin_end": 0.9,
            "count": 0
           },
           {
            "bin_start": 0.9,
            "bin_end": 1,
            "count": 0
           }
          ]
         }
        },
        {
         "name": "tempo_y",
         "dtype": "float64",
         "stats": {
          "unique_count": 0,
          "nan_count": 0,
          "min": null,
          "max": null,
          "histogram": [
           {
            "bin_start": 0,
            "bin_end": 0.1,
            "count": 0
           },
           {
            "bin_start": 0.1,
            "bin_end": 0.2,
            "count": 0
           },
           {
            "bin_start": 0.2,
            "bin_end": 0.30000000000000004,
            "count": 0
           },
           {
            "bin_start": 0.30000000000000004,
            "bin_end": 0.4,
            "count": 0
           },
           {
            "bin_start": 0.4,
            "bin_end": 0.5,
            "count": 0
           },
           {
            "bin_start": 0.5,
            "bin_end": 0.6000000000000001,
            "count": 0
           },
           {
            "bin_start": 0.6000000000000001,
            "bin_end": 0.7000000000000001,
            "count": 0
           },
           {
            "bin_start": 0.7000000000000001,
            "bin_end": 0.8,
            "count": 0
           },
           {
            "bin_start": 0.8,
            "bin_end": 0.9,
            "count": 0
           },
           {
            "bin_start": 0.9,
            "bin_end": 1,
            "count": 0
           }
          ]
         }
        },
        {
         "name": "duration_ms_y",
         "dtype": "int64",
         "stats": {
          "unique_count": 0,
          "nan_count": 0,
          "min": null,
          "max": null,
          "histogram": [
           {
            "bin_start": 0,
            "bin_end": 0.1,
            "count": 0
           },
           {
            "bin_start": 0.1,
            "bin_end": 0.2,
            "count": 0
           },
           {
            "bin_start": 0.2,
            "bin_end": 0.30000000000000004,
            "count": 0
           },
           {
            "bin_start": 0.30000000000000004,
            "bin_end": 0.4,
            "count": 0
           },
           {
            "bin_start": 0.4,
            "bin_end": 0.5,
            "count": 0
           },
           {
            "bin_start": 0.5,
            "bin_end": 0.6000000000000001,
            "count": 0
           },
           {
            "bin_start": 0.6000000000000001,
            "bin_end": 0.7000000000000001,
            "count": 0
           },
           {
            "bin_start": 0.7000000000000001,
            "bin_end": 0.8,
            "count": 0
           },
           {
            "bin_start": 0.8,
            "bin_end": 0.9,
            "count": 0
           },
           {
            "bin_start": 0.9,
            "bin_end": 1,
            "count": 0
           }
          ]
         }
        },
        {
         "name": "time_signature_y",
         "dtype": "int64",
         "stats": {
          "unique_count": 0,
          "nan_count": 0,
          "min": null,
          "max": null,
          "histogram": [
           {
            "bin_start": 0,
            "bin_end": 0.1,
            "count": 0
           },
           {
            "bin_start": 0.1,
            "bin_end": 0.2,
            "count": 0
           },
           {
            "bin_start": 0.2,
            "bin_end": 0.30000000000000004,
            "count": 0
           },
           {
            "bin_start": 0.30000000000000004,
            "bin_end": 0.4,
            "count": 0
           },
           {
            "bin_start": 0.4,
            "bin_end": 0.5,
            "count": 0
           },
           {
            "bin_start": 0.5,
            "bin_end": 0.6000000000000001,
            "count": 0
           },
           {
            "bin_start": 0.6000000000000001,
            "bin_end": 0.7000000000000001,
            "count": 0
           },
           {
            "bin_start": 0.7000000000000001,
            "bin_end": 0.8,
            "count": 0
           },
           {
            "bin_start": 0.8,
            "bin_end": 0.9,
            "count": 0
           },
           {
            "bin_start": 0.9,
            "bin_end": 1,
            "count": 0
           }
          ]
         }
        },
        {
         "name": "chorus_hit_y",
         "dtype": "float64",
         "stats": {
          "unique_count": 0,
          "nan_count": 0,
          "min": null,
          "max": null,
          "histogram": [
           {
            "bin_start": 0,
            "bin_end": 0.1,
            "count": 0
           },
           {
            "bin_start": 0.1,
            "bin_end": 0.2,
            "count": 0
           },
           {
            "bin_start": 0.2,
            "bin_end": 0.30000000000000004,
            "count": 0
           },
           {
            "bin_start": 0.30000000000000004,
            "bin_end": 0.4,
            "count": 0
           },
           {
            "bin_start": 0.4,
            "bin_end": 0.5,
            "count": 0
           },
           {
            "bin_start": 0.5,
            "bin_end": 0.6000000000000001,
            "count": 0
           },
           {
            "bin_start": 0.6000000000000001,
            "bin_end": 0.7000000000000001,
            "count": 0
           },
           {
            "bin_start": 0.7000000000000001,
            "bin_end": 0.8,
            "count": 0
           },
           {
            "bin_start": 0.8,
            "bin_end": 0.9,
            "count": 0
           },
           {
            "bin_start": 0.9,
            "bin_end": 1,
            "count": 0
           }
          ]
         }
        },
        {
         "name": "sections_y",
         "dtype": "int64",
         "stats": {
          "unique_count": 0,
          "nan_count": 0,
          "min": null,
          "max": null,
          "histogram": [
           {
            "bin_start": 0,
            "bin_end": 0.1,
            "count": 0
           },
           {
            "bin_start": 0.1,
            "bin_end": 0.2,
            "count": 0
           },
           {
            "bin_start": 0.2,
            "bin_end": 0.30000000000000004,
            "count": 0
           },
           {
            "bin_start": 0.30000000000000004,
            "bin_end": 0.4,
            "count": 0
           },
           {
            "bin_start": 0.4,
            "bin_end": 0.5,
            "count": 0
           },
           {
            "bin_start": 0.5,
            "bin_end": 0.6000000000000001,
            "count": 0
           },
           {
            "bin_start": 0.6000000000000001,
            "bin_end": 0.7000000000000001,
            "count": 0
           },
           {
            "bin_start": 0.7000000000000001,
            "bin_end": 0.8,
            "count": 0
           },
           {
            "bin_start": 0.8,
            "bin_end": 0.9,
            "count": 0
           },
           {
            "bin_start": 0.9,
            "bin_end": 1,
            "count": 0
           }
          ]
         }
        },
        {
         "name": "target_y",
         "dtype": "int64",
         "stats": {
          "unique_count": 0,
          "nan_count": 0,
          "min": null,
          "max": null,
          "histogram": [
           {
            "bin_start": 0,
            "bin_end": 0.1,
            "count": 0
           },
           {
            "bin_start": 0.1,
            "bin_end": 0.2,
            "count": 0
           },
           {
            "bin_start": 0.2,
            "bin_end": 0.30000000000000004,
            "count": 0
           },
           {
            "bin_start": 0.30000000000000004,
            "bin_end": 0.4,
            "count": 0
           },
           {
            "bin_start": 0.4,
            "bin_end": 0.5,
            "count": 0
           },
           {
            "bin_start": 0.5,
            "bin_end": 0.6000000000000001,
            "count": 0
           },
           {
            "bin_start": 0.6000000000000001,
            "bin_end": 0.7000000000000001,
            "count": 0
           },
           {
            "bin_start": 0.7000000000000001,
            "bin_end": 0.8,
            "count": 0
           },
           {
            "bin_start": 0.8,
            "bin_end": 0.9,
            "count": 0
           },
           {
            "bin_start": 0.9,
            "bin_end": 1,
            "count": 0
           }
          ]
         }
        },
        {
         "name": "decade_y",
         "dtype": "int64",
         "stats": {
          "unique_count": 0,
          "nan_count": 0,
          "min": null,
          "max": null,
          "histogram": [
           {
            "bin_start": 0,
            "bin_end": 0.1,
            "count": 0
           },
           {
            "bin_start": 0.1,
            "bin_end": 0.2,
            "count": 0
           },
           {
            "bin_start": 0.2,
            "bin_end": 0.30000000000000004,
            "count": 0
           },
           {
            "bin_start": 0.30000000000000004,
            "bin_end": 0.4,
            "count": 0
           },
           {
            "bin_start": 0.4,
            "bin_end": 0.5,
            "count": 0
           },
           {
            "bin_start": 0.5,
            "bin_end": 0.6000000000000001,
            "count": 0
           },
           {
            "bin_start": 0.6000000000000001,
            "bin_end": 0.7000000000000001,
            "count": 0
           },
           {
            "bin_start": 0.7000000000000001,
            "bin_end": 0.8,
            "count": 0
           },
           {
            "bin_start": 0.8,
            "bin_end": 0.9,
            "count": 0
           },
           {
            "bin_start": 0.9,
            "bin_end": 1,
            "count": 0
           }
          ]
         }
        },
        {
         "name": "uri_x.1",
         "dtype": "object",
         "stats": {
          "unique_count": 0,
          "nan_count": 0,
          "categories": []
         }
        },
        {
         "name": "danceability_x.1",
         "dtype": "float64",
         "stats": {
          "unique_count": 0,
          "nan_count": 0,
          "min": null,
          "max": null,
          "histogram": [
           {
            "bin_start": 0,
            "bin_end": 0.1,
            "count": 0
           },
           {
            "bin_start": 0.1,
            "bin_end": 0.2,
            "count": 0
           },
           {
            "bin_start": 0.2,
            "bin_end": 0.30000000000000004,
            "count": 0
           },
           {
            "bin_start": 0.30000000000000004,
            "bin_end": 0.4,
            "count": 0
           },
           {
            "bin_start": 0.4,
            "bin_end": 0.5,
            "count": 0
           },
           {
            "bin_start": 0.5,
            "bin_end": 0.6000000000000001,
            "count": 0
           },
           {
            "bin_start": 0.6000000000000001,
            "bin_end": 0.7000000000000001,
            "count": 0
           },
           {
            "bin_start": 0.7000000000000001,
            "bin_end": 0.8,
            "count": 0
           },
           {
            "bin_start": 0.8,
            "bin_end": 0.9,
            "count": 0
           },
           {
            "bin_start": 0.9,
            "bin_end": 1,
            "count": 0
           }
          ]
         }
        },
        {
         "name": "energy_x.1",
         "dtype": "float64",
         "stats": {
          "unique_count": 0,
          "nan_count": 0,
          "min": null,
          "max": null,
          "histogram": [
           {
            "bin_start": 0,
            "bin_end": 0.1,
            "count": 0
           },
           {
            "bin_start": 0.1,
            "bin_end": 0.2,
            "count": 0
           },
           {
            "bin_start": 0.2,
            "bin_end": 0.30000000000000004,
            "count": 0
           },
           {
            "bin_start": 0.30000000000000004,
            "bin_end": 0.4,
            "count": 0
           },
           {
            "bin_start": 0.4,
            "bin_end": 0.5,
            "count": 0
           },
           {
            "bin_start": 0.5,
            "bin_end": 0.6000000000000001,
            "count": 0
           },
           {
            "bin_start": 0.6000000000000001,
            "bin_end": 0.7000000000000001,
            "count": 0
           },
           {
            "bin_start": 0.7000000000000001,
            "bin_end": 0.8,
            "count": 0
           },
           {
            "bin_start": 0.8,
            "bin_end": 0.9,
            "count": 0
           },
           {
            "bin_start": 0.9,
            "bin_end": 1,
            "count": 0
           }
          ]
         }
        },
        {
         "name": "key_x.1",
         "dtype": "int64",
         "stats": {
          "unique_count": 0,
          "nan_count": 0,
          "min": null,
          "max": null,
          "histogram": [
           {
            "bin_start": 0,
            "bin_end": 0.1,
            "count": 0
           },
           {
            "bin_start": 0.1,
            "bin_end": 0.2,
            "count": 0
           },
           {
            "bin_start": 0.2,
            "bin_end": 0.30000000000000004,
            "count": 0
           },
           {
            "bin_start": 0.30000000000000004,
            "bin_end": 0.4,
            "count": 0
           },
           {
            "bin_start": 0.4,
            "bin_end": 0.5,
            "count": 0
           },
           {
            "bin_start": 0.5,
            "bin_end": 0.6000000000000001,
            "count": 0
           },
           {
            "bin_start": 0.6000000000000001,
            "bin_end": 0.7000000000000001,
            "count": 0
           },
           {
            "bin_start": 0.7000000000000001,
            "bin_end": 0.8,
            "count": 0
           },
           {
            "bin_start": 0.8,
            "bin_end": 0.9,
            "count": 0
           },
           {
            "bin_start": 0.9,
            "bin_end": 1,
            "count": 0
           }
          ]
         }
        },
        {
         "name": "loudness_x.1",
         "dtype": "float64",
         "stats": {
          "unique_count": 0,
          "nan_count": 0,
          "min": null,
          "max": null,
          "histogram": [
           {
            "bin_start": 0,
            "bin_end": 0.1,
            "count": 0
           },
           {
            "bin_start": 0.1,
            "bin_end": 0.2,
            "count": 0
           },
           {
            "bin_start": 0.2,
            "bin_end": 0.30000000000000004,
            "count": 0
           },
           {
            "bin_start": 0.30000000000000004,
            "bin_end": 0.4,
            "count": 0
           },
           {
            "bin_start": 0.4,
            "bin_end": 0.5,
            "count": 0
           },
           {
            "bin_start": 0.5,
            "bin_end": 0.6000000000000001,
            "count": 0
           },
           {
            "bin_start": 0.6000000000000001,
            "bin_end": 0.7000000000000001,
            "count": 0
           },
           {
            "bin_start": 0.7000000000000001,
            "bin_end": 0.8,
            "count": 0
           },
           {
            "bin_start": 0.8,
            "bin_end": 0.9,
            "count": 0
           },
           {
            "bin_start": 0.9,
            "bin_end": 1,
            "count": 0
           }
          ]
         }
        },
        {
         "name": "mode_x.1",
         "dtype": "int64",
         "stats": {
          "unique_count": 0,
          "nan_count": 0,
          "min": null,
          "max": null,
          "histogram": [
           {
            "bin_start": 0,
            "bin_end": 0.1,
            "count": 0
           },
           {
            "bin_start": 0.1,
            "bin_end": 0.2,
            "count": 0
           },
           {
            "bin_start": 0.2,
            "bin_end": 0.30000000000000004,
            "count": 0
           },
           {
            "bin_start": 0.30000000000000004,
            "bin_end": 0.4,
            "count": 0
           },
           {
            "bin_start": 0.4,
            "bin_end": 0.5,
            "count": 0
           },
           {
            "bin_start": 0.5,
            "bin_end": 0.6000000000000001,
            "count": 0
           },
           {
            "bin_start": 0.6000000000000001,
            "bin_end": 0.7000000000000001,
            "count": 0
           },
           {
            "bin_start": 0.7000000000000001,
            "bin_end": 0.8,
            "count": 0
           },
           {
            "bin_start": 0.8,
            "bin_end": 0.9,
            "count": 0
           },
           {
            "bin_start": 0.9,
            "bin_end": 1,
            "count": 0
           }
          ]
         }
        },
        {
         "name": "speechiness_x.1",
         "dtype": "float64",
         "stats": {
          "unique_count": 0,
          "nan_count": 0,
          "min": null,
          "max": null,
          "histogram": [
           {
            "bin_start": 0,
            "bin_end": 0.1,
            "count": 0
           },
           {
            "bin_start": 0.1,
            "bin_end": 0.2,
            "count": 0
           },
           {
            "bin_start": 0.2,
            "bin_end": 0.30000000000000004,
            "count": 0
           },
           {
            "bin_start": 0.30000000000000004,
            "bin_end": 0.4,
            "count": 0
           },
           {
            "bin_start": 0.4,
            "bin_end": 0.5,
            "count": 0
           },
           {
            "bin_start": 0.5,
            "bin_end": 0.6000000000000001,
            "count": 0
           },
           {
            "bin_start": 0.6000000000000001,
            "bin_end": 0.7000000000000001,
            "count": 0
           },
           {
            "bin_start": 0.7000000000000001,
            "bin_end": 0.8,
            "count": 0
           },
           {
            "bin_start": 0.8,
            "bin_end": 0.9,
            "count": 0
           },
           {
            "bin_start": 0.9,
            "bin_end": 1,
            "count": 0
           }
          ]
         }
        },
        {
         "name": "acousticness_x.1",
         "dtype": "float64",
         "stats": {
          "unique_count": 0,
          "nan_count": 0,
          "min": null,
          "max": null,
          "histogram": [
           {
            "bin_start": 0,
            "bin_end": 0.1,
            "count": 0
           },
           {
            "bin_start": 0.1,
            "bin_end": 0.2,
            "count": 0
           },
           {
            "bin_start": 0.2,
            "bin_end": 0.30000000000000004,
            "count": 0
           },
           {
            "bin_start": 0.30000000000000004,
            "bin_end": 0.4,
            "count": 0
           },
           {
            "bin_start": 0.4,
            "bin_end": 0.5,
            "count": 0
           },
           {
            "bin_start": 0.5,
            "bin_end": 0.6000000000000001,
            "count": 0
           },
           {
            "bin_start": 0.6000000000000001,
            "bin_end": 0.7000000000000001,
            "count": 0
           },
           {
            "bin_start": 0.7000000000000001,
            "bin_end": 0.8,
            "count": 0
           },
           {
            "bin_start": 0.8,
            "bin_end": 0.9,
            "count": 0
           },
           {
            "bin_start": 0.9,
            "bin_end": 1,
            "count": 0
           }
          ]
         }
        },
        {
         "name": "instrumentalness_x.1",
         "dtype": "float64",
         "stats": {
          "unique_count": 0,
          "nan_count": 0,
          "min": null,
          "max": null,
          "histogram": [
           {
            "bin_start": 0,
            "bin_end": 0.1,
            "count": 0
           },
           {
            "bin_start": 0.1,
            "bin_end": 0.2,
            "count": 0
           },
           {
            "bin_start": 0.2,
            "bin_end": 0.30000000000000004,
            "count": 0
           },
           {
            "bin_start": 0.30000000000000004,
            "bin_end": 0.4,
            "count": 0
           },
           {
            "bin_start": 0.4,
            "bin_end": 0.5,
            "count": 0
           },
           {
            "bin_start": 0.5,
            "bin_end": 0.6000000000000001,
            "count": 0
           },
           {
            "bin_start": 0.6000000000000001,
            "bin_end": 0.7000000000000001,
            "count": 0
           },
           {
            "bin_start": 0.7000000000000001,
            "bin_end": 0.8,
            "count": 0
           },
           {
            "bin_start": 0.8,
            "bin_end": 0.9,
            "count": 0
           },
           {
            "bin_start": 0.9,
            "bin_end": 1,
            "count": 0
           }
          ]
         }
        },
        {
         "name": "liveness_x.1",
         "dtype": "float64",
         "stats": {
          "unique_count": 0,
          "nan_count": 0,
          "min": null,
          "max": null,
          "histogram": [
           {
            "bin_start": 0,
            "bin_end": 0.1,
            "count": 0
           },
           {
            "bin_start": 0.1,
            "bin_end": 0.2,
            "count": 0
           },
           {
            "bin_start": 0.2,
            "bin_end": 0.30000000000000004,
            "count": 0
           },
           {
            "bin_start": 0.30000000000000004,
            "bin_end": 0.4,
            "count": 0
           },
           {
            "bin_start": 0.4,
            "bin_end": 0.5,
            "count": 0
           },
           {
            "bin_start": 0.5,
            "bin_end": 0.6000000000000001,
            "count": 0
           },
           {
            "bin_start": 0.6000000000000001,
            "bin_end": 0.7000000000000001,
            "count": 0
           },
           {
            "bin_start": 0.7000000000000001,
            "bin_end": 0.8,
            "count": 0
           },
           {
            "bin_start": 0.8,
            "bin_end": 0.9,
            "count": 0
           },
           {
            "bin_start": 0.9,
            "bin_end": 1,
            "count": 0
           }
          ]
         }
        },
        {
         "name": "valence_x.1",
         "dtype": "float64",
         "stats": {
          "unique_count": 0,
          "nan_count": 0,
          "min": null,
          "max": null,
          "histogram": [
           {
            "bin_start": 0,
            "bin_end": 0.1,
            "count": 0
           },
           {
            "bin_start": 0.1,
            "bin_end": 0.2,
            "count": 0
           },
           {
            "bin_start": 0.2,
            "bin_end": 0.30000000000000004,
            "count": 0
           },
           {
            "bin_start": 0.30000000000000004,
            "bin_end": 0.4,
            "count": 0
           },
           {
            "bin_start": 0.4,
            "bin_end": 0.5,
            "count": 0
           },
           {
            "bin_start": 0.5,
            "bin_end": 0.6000000000000001,
            "count": 0
           },
           {
            "bin_start": 0.6000000000000001,
            "bin_end": 0.7000000000000001,
            "count": 0
           },
           {
            "bin_start": 0.7000000000000001,
            "bin_end": 0.8,
            "count": 0
           },
           {
            "bin_start": 0.8,
            "bin_end": 0.9,
            "count": 0
           },
           {
            "bin_start": 0.9,
            "bin_end": 1,
            "count": 0
           }
          ]
         }
        },
        {
         "name": "tempo_x.1",
         "dtype": "float64",
         "stats": {
          "unique_count": 0,
          "nan_count": 0,
          "min": null,
          "max": null,
          "histogram": [
           {
            "bin_start": 0,
            "bin_end": 0.1,
            "count": 0
           },
           {
            "bin_start": 0.1,
            "bin_end": 0.2,
            "count": 0
           },
           {
            "bin_start": 0.2,
            "bin_end": 0.30000000000000004,
            "count": 0
           },
           {
            "bin_start": 0.30000000000000004,
            "bin_end": 0.4,
            "count": 0
           },
           {
            "bin_start": 0.4,
            "bin_end": 0.5,
            "count": 0
           },
           {
            "bin_start": 0.5,
            "bin_end": 0.6000000000000001,
            "count": 0
           },
           {
            "bin_start": 0.6000000000000001,
            "bin_end": 0.7000000000000001,
            "count": 0
           },
           {
            "bin_start": 0.7000000000000001,
            "bin_end": 0.8,
            "count": 0
           },
           {
            "bin_start": 0.8,
            "bin_end": 0.9,
            "count": 0
           },
           {
            "bin_start": 0.9,
            "bin_end": 1,
            "count": 0
           }
          ]
         }
        },
        {
         "name": "duration_ms_x.1",
         "dtype": "int64",
         "stats": {
          "unique_count": 0,
          "nan_count": 0,
          "min": null,
          "max": null,
          "histogram": [
           {
            "bin_start": 0,
            "bin_end": 0.1,
            "count": 0
           },
           {
            "bin_start": 0.1,
            "bin_end": 0.2,
            "count": 0
           },
           {
            "bin_start": 0.2,
            "bin_end": 0.30000000000000004,
            "count": 0
           },
           {
            "bin_start": 0.30000000000000004,
            "bin_end": 0.4,
            "count": 0
           },
           {
            "bin_start": 0.4,
            "bin_end": 0.5,
            "count": 0
           },
           {
            "bin_start": 0.5,
            "bin_end": 0.6000000000000001,
            "count": 0
           },
           {
            "bin_start": 0.6000000000000001,
            "bin_end": 0.7000000000000001,
            "count": 0
           },
           {
            "bin_start": 0.7000000000000001,
            "bin_end": 0.8,
            "count": 0
           },
           {
            "bin_start": 0.8,
            "bin_end": 0.9,
            "count": 0
           },
           {
            "bin_start": 0.9,
            "bin_end": 1,
            "count": 0
           }
          ]
         }
        },
        {
         "name": "time_signature_x.1",
         "dtype": "int64",
         "stats": {
          "unique_count": 0,
          "nan_count": 0,
          "min": null,
          "max": null,
          "histogram": [
           {
            "bin_start": 0,
            "bin_end": 0.1,
            "count": 0
           },
           {
            "bin_start": 0.1,
            "bin_end": 0.2,
            "count": 0
           },
           {
            "bin_start": 0.2,
            "bin_end": 0.30000000000000004,
            "count": 0
           },
           {
            "bin_start": 0.30000000000000004,
            "bin_end": 0.4,
            "count": 0
           },
           {
            "bin_start": 0.4,
            "bin_end": 0.5,
            "count": 0
           },
           {
            "bin_start": 0.5,
            "bin_end": 0.6000000000000001,
            "count": 0
           },
           {
            "bin_start": 0.6000000000000001,
            "bin_end": 0.7000000000000001,
            "count": 0
           },
           {
            "bin_start": 0.7000000000000001,
            "bin_end": 0.8,
            "count": 0
           },
           {
            "bin_start": 0.8,
            "bin_end": 0.9,
            "count": 0
           },
           {
            "bin_start": 0.9,
            "bin_end": 1,
            "count": 0
           }
          ]
         }
        },
        {
         "name": "chorus_hit_x.1",
         "dtype": "float64",
         "stats": {
          "unique_count": 0,
          "nan_count": 0,
          "min": null,
          "max": null,
          "histogram": [
           {
            "bin_start": 0,
            "bin_end": 0.1,
            "count": 0
           },
           {
            "bin_start": 0.1,
            "bin_end": 0.2,
            "count": 0
           },
           {
            "bin_start": 0.2,
            "bin_end": 0.30000000000000004,
            "count": 0
           },
           {
            "bin_start": 0.30000000000000004,
            "bin_end": 0.4,
            "count": 0
           },
           {
            "bin_start": 0.4,
            "bin_end": 0.5,
            "count": 0
           },
           {
            "bin_start": 0.5,
            "bin_end": 0.6000000000000001,
            "count": 0
           },
           {
            "bin_start": 0.6000000000000001,
            "bin_end": 0.7000000000000001,
            "count": 0
           },
           {
            "bin_start": 0.7000000000000001,
            "bin_end": 0.8,
            "count": 0
           },
           {
            "bin_start": 0.8,
            "bin_end": 0.9,
            "count": 0
           },
           {
            "bin_start": 0.9,
            "bin_end": 1,
            "count": 0
           }
          ]
         }
        },
        {
         "name": "sections_x.1",
         "dtype": "int64",
         "stats": {
          "unique_count": 0,
          "nan_count": 0,
          "min": null,
          "max": null,
          "histogram": [
           {
            "bin_start": 0,
            "bin_end": 0.1,
            "count": 0
           },
           {
            "bin_start": 0.1,
            "bin_end": 0.2,
            "count": 0
           },
           {
            "bin_start": 0.2,
            "bin_end": 0.30000000000000004,
            "count": 0
           },
           {
            "bin_start": 0.30000000000000004,
            "bin_end": 0.4,
            "count": 0
           },
           {
            "bin_start": 0.4,
            "bin_end": 0.5,
            "count": 0
           },
           {
            "bin_start": 0.5,
            "bin_end": 0.6000000000000001,
            "count": 0
           },
           {
            "bin_start": 0.6000000000000001,
            "bin_end": 0.7000000000000001,
            "count": 0
           },
           {
            "bin_start": 0.7000000000000001,
            "bin_end": 0.8,
            "count": 0
           },
           {
            "bin_start": 0.8,
            "bin_end": 0.9,
            "count": 0
           },
           {
            "bin_start": 0.9,
            "bin_end": 1,
            "count": 0
           }
          ]
         }
        },
        {
         "name": "target_x.1",
         "dtype": "int64",
         "stats": {
          "unique_count": 0,
          "nan_count": 0,
          "min": null,
          "max": null,
          "histogram": [
           {
            "bin_start": 0,
            "bin_end": 0.1,
            "count": 0
           },
           {
            "bin_start": 0.1,
            "bin_end": 0.2,
            "count": 0
           },
           {
            "bin_start": 0.2,
            "bin_end": 0.30000000000000004,
            "count": 0
           },
           {
            "bin_start": 0.30000000000000004,
            "bin_end": 0.4,
            "count": 0
           },
           {
            "bin_start": 0.4,
            "bin_end": 0.5,
            "count": 0
           },
           {
            "bin_start": 0.5,
            "bin_end": 0.6000000000000001,
            "count": 0
           },
           {
            "bin_start": 0.6000000000000001,
            "bin_end": 0.7000000000000001,
            "count": 0
           },
           {
            "bin_start": 0.7000000000000001,
            "bin_end": 0.8,
            "count": 0
           },
           {
            "bin_start": 0.8,
            "bin_end": 0.9,
            "count": 0
           },
           {
            "bin_start": 0.9,
            "bin_end": 1,
            "count": 0
           }
          ]
         }
        },
        {
         "name": "decade_x.1",
         "dtype": "int64",
         "stats": {
          "unique_count": 0,
          "nan_count": 0,
          "min": null,
          "max": null,
          "histogram": [
           {
            "bin_start": 0,
            "bin_end": 0.1,
            "count": 0
           },
           {
            "bin_start": 0.1,
            "bin_end": 0.2,
            "count": 0
           },
           {
            "bin_start": 0.2,
            "bin_end": 0.30000000000000004,
            "count": 0
           },
           {
            "bin_start": 0.30000000000000004,
            "bin_end": 0.4,
            "count": 0
           },
           {
            "bin_start": 0.4,
            "bin_end": 0.5,
            "count": 0
           },
           {
            "bin_start": 0.5,
            "bin_end": 0.6000000000000001,
            "count": 0
           },
           {
            "bin_start": 0.6000000000000001,
            "bin_end": 0.7000000000000001,
            "count": 0
           },
           {
            "bin_start": 0.7000000000000001,
            "bin_end": 0.8,
            "count": 0
           },
           {
            "bin_start": 0.8,
            "bin_end": 0.9,
            "count": 0
           },
           {
            "bin_start": 0.9,
            "bin_end": 1,
            "count": 0
           }
          ]
         }
        },
        {
         "name": "uri_y.1",
         "dtype": "object",
         "stats": {
          "unique_count": 0,
          "nan_count": 0,
          "categories": []
         }
        },
        {
         "name": "danceability_y.1",
         "dtype": "float64",
         "stats": {
          "unique_count": 0,
          "nan_count": 0,
          "min": null,
          "max": null,
          "histogram": [
           {
            "bin_start": 0,
            "bin_end": 0.1,
            "count": 0
           },
           {
            "bin_start": 0.1,
            "bin_end": 0.2,
            "count": 0
           },
           {
            "bin_start": 0.2,
            "bin_end": 0.30000000000000004,
            "count": 0
           },
           {
            "bin_start": 0.30000000000000004,
            "bin_end": 0.4,
            "count": 0
           },
           {
            "bin_start": 0.4,
            "bin_end": 0.5,
            "count": 0
           },
           {
            "bin_start": 0.5,
            "bin_end": 0.6000000000000001,
            "count": 0
           },
           {
            "bin_start": 0.6000000000000001,
            "bin_end": 0.7000000000000001,
            "count": 0
           },
           {
            "bin_start": 0.7000000000000001,
            "bin_end": 0.8,
            "count": 0
           },
           {
            "bin_start": 0.8,
            "bin_end": 0.9,
            "count": 0
           },
           {
            "bin_start": 0.9,
            "bin_end": 1,
            "count": 0
           }
          ]
         }
        },
        {
         "name": "energy_y.1",
         "dtype": "float64",
         "stats": {
          "unique_count": 0,
          "nan_count": 0,
          "min": null,
          "max": null,
          "histogram": [
           {
            "bin_start": 0,
            "bin_end": 0.1,
            "count": 0
           },
           {
            "bin_start": 0.1,
            "bin_end": 0.2,
            "count": 0
           },
           {
            "bin_start": 0.2,
            "bin_end": 0.30000000000000004,
            "count": 0
           },
           {
            "bin_start": 0.30000000000000004,
            "bin_end": 0.4,
            "count": 0
           },
           {
            "bin_start": 0.4,
            "bin_end": 0.5,
            "count": 0
           },
           {
            "bin_start": 0.5,
            "bin_end": 0.6000000000000001,
            "count": 0
           },
           {
            "bin_start": 0.6000000000000001,
            "bin_end": 0.7000000000000001,
            "count": 0
           },
           {
            "bin_start": 0.7000000000000001,
            "bin_end": 0.8,
            "count": 0
           },
           {
            "bin_start": 0.8,
            "bin_end": 0.9,
            "count": 0
           },
           {
            "bin_start": 0.9,
            "bin_end": 1,
            "count": 0
           }
          ]
         }
        },
        {
         "name": "key_y.1",
         "dtype": "int64",
         "stats": {
          "unique_count": 0,
          "nan_count": 0,
          "min": null,
          "max": null,
          "histogram": [
           {
            "bin_start": 0,
            "bin_end": 0.1,
            "count": 0
           },
           {
            "bin_start": 0.1,
            "bin_end": 0.2,
            "count": 0
           },
           {
            "bin_start": 0.2,
            "bin_end": 0.30000000000000004,
            "count": 0
           },
           {
            "bin_start": 0.30000000000000004,
            "bin_end": 0.4,
            "count": 0
           },
           {
            "bin_start": 0.4,
            "bin_end": 0.5,
            "count": 0
           },
           {
            "bin_start": 0.5,
            "bin_end": 0.6000000000000001,
            "count": 0
           },
           {
            "bin_start": 0.6000000000000001,
            "bin_end": 0.7000000000000001,
            "count": 0
           },
           {
            "bin_start": 0.7000000000000001,
            "bin_end": 0.8,
            "count": 0
           },
           {
            "bin_start": 0.8,
            "bin_end": 0.9,
            "count": 0
           },
           {
            "bin_start": 0.9,
            "bin_end": 1,
            "count": 0
           }
          ]
         }
        },
        {
         "name": "loudness_y.1",
         "dtype": "float64",
         "stats": {
          "unique_count": 0,
          "nan_count": 0,
          "min": null,
          "max": null,
          "histogram": [
           {
            "bin_start": 0,
            "bin_end": 0.1,
            "count": 0
           },
           {
            "bin_start": 0.1,
            "bin_end": 0.2,
            "count": 0
           },
           {
            "bin_start": 0.2,
            "bin_end": 0.30000000000000004,
            "count": 0
           },
           {
            "bin_start": 0.30000000000000004,
            "bin_end": 0.4,
            "count": 0
           },
           {
            "bin_start": 0.4,
            "bin_end": 0.5,
            "count": 0
           },
           {
            "bin_start": 0.5,
            "bin_end": 0.6000000000000001,
            "count": 0
           },
           {
            "bin_start": 0.6000000000000001,
            "bin_end": 0.7000000000000001,
            "count": 0
           },
           {
            "bin_start": 0.7000000000000001,
            "bin_end": 0.8,
            "count": 0
           },
           {
            "bin_start": 0.8,
            "bin_end": 0.9,
            "count": 0
           },
           {
            "bin_start": 0.9,
            "bin_end": 1,
            "count": 0
           }
          ]
         }
        },
        {
         "name": "mode_y.1",
         "dtype": "int64",
         "stats": {
          "unique_count": 0,
          "nan_count": 0,
          "min": null,
          "max": null,
          "histogram": [
           {
            "bin_start": 0,
            "bin_end": 0.1,
            "count": 0
           },
           {
            "bin_start": 0.1,
            "bin_end": 0.2,
            "count": 0
           },
           {
            "bin_start": 0.2,
            "bin_end": 0.30000000000000004,
            "count": 0
           },
           {
            "bin_start": 0.30000000000000004,
            "bin_end": 0.4,
            "count": 0
           },
           {
            "bin_start": 0.4,
            "bin_end": 0.5,
            "count": 0
           },
           {
            "bin_start": 0.5,
            "bin_end": 0.6000000000000001,
            "count": 0
           },
           {
            "bin_start": 0.6000000000000001,
            "bin_end": 0.7000000000000001,
            "count": 0
           },
           {
            "bin_start": 0.7000000000000001,
            "bin_end": 0.8,
            "count": 0
           },
           {
            "bin_start": 0.8,
            "bin_end": 0.9,
            "count": 0
           },
           {
            "bin_start": 0.9,
            "bin_end": 1,
            "count": 0
           }
          ]
         }
        },
        {
         "name": "speechiness_y.1",
         "dtype": "float64",
         "stats": {
          "unique_count": 0,
          "nan_count": 0,
          "min": null,
          "max": null,
          "histogram": [
           {
            "bin_start": 0,
            "bin_end": 0.1,
            "count": 0
           },
           {
            "bin_start": 0.1,
            "bin_end": 0.2,
            "count": 0
           },
           {
            "bin_start": 0.2,
            "bin_end": 0.30000000000000004,
            "count": 0
           },
           {
            "bin_start": 0.30000000000000004,
            "bin_end": 0.4,
            "count": 0
           },
           {
            "bin_start": 0.4,
            "bin_end": 0.5,
            "count": 0
           },
           {
            "bin_start": 0.5,
            "bin_end": 0.6000000000000001,
            "count": 0
           },
           {
            "bin_start": 0.6000000000000001,
            "bin_end": 0.7000000000000001,
            "count": 0
           },
           {
            "bin_start": 0.7000000000000001,
            "bin_end": 0.8,
            "count": 0
           },
           {
            "bin_start": 0.8,
            "bin_end": 0.9,
            "count": 0
           },
           {
            "bin_start": 0.9,
            "bin_end": 1,
            "count": 0
           }
          ]
         }
        },
        {
         "name": "acousticness_y.1",
         "dtype": "float64",
         "stats": {
          "unique_count": 0,
          "nan_count": 0,
          "min": null,
          "max": null,
          "histogram": [
           {
            "bin_start": 0,
            "bin_end": 0.1,
            "count": 0
           },
           {
            "bin_start": 0.1,
            "bin_end": 0.2,
            "count": 0
           },
           {
            "bin_start": 0.2,
            "bin_end": 0.30000000000000004,
            "count": 0
           },
           {
            "bin_start": 0.30000000000000004,
            "bin_end": 0.4,
            "count": 0
           },
           {
            "bin_start": 0.4,
            "bin_end": 0.5,
            "count": 0
           },
           {
            "bin_start": 0.5,
            "bin_end": 0.6000000000000001,
            "count": 0
           },
           {
            "bin_start": 0.6000000000000001,
            "bin_end": 0.7000000000000001,
            "count": 0
           },
           {
            "bin_start": 0.7000000000000001,
            "bin_end": 0.8,
            "count": 0
           },
           {
            "bin_start": 0.8,
            "bin_end": 0.9,
            "count": 0
           },
           {
            "bin_start": 0.9,
            "bin_end": 1,
            "count": 0
           }
          ]
         }
        },
        {
         "name": "instrumentalness_y.1",
         "dtype": "float64",
         "stats": {
          "unique_count": 0,
          "nan_count": 0,
          "min": null,
          "max": null,
          "histogram": [
           {
            "bin_start": 0,
            "bin_end": 0.1,
            "count": 0
           },
           {
            "bin_start": 0.1,
            "bin_end": 0.2,
            "count": 0
           },
           {
            "bin_start": 0.2,
            "bin_end": 0.30000000000000004,
            "count": 0
           },
           {
            "bin_start": 0.30000000000000004,
            "bin_end": 0.4,
            "count": 0
           },
           {
            "bin_start": 0.4,
            "bin_end": 0.5,
            "count": 0
           },
           {
            "bin_start": 0.5,
            "bin_end": 0.6000000000000001,
            "count": 0
           },
           {
            "bin_start": 0.6000000000000001,
            "bin_end": 0.7000000000000001,
            "count": 0
           },
           {
            "bin_start": 0.7000000000000001,
            "bin_end": 0.8,
            "count": 0
           },
           {
            "bin_start": 0.8,
            "bin_end": 0.9,
            "count": 0
           },
           {
            "bin_start": 0.9,
            "bin_end": 1,
            "count": 0
           }
          ]
         }
        },
        {
         "name": "liveness_y.1",
         "dtype": "float64",
         "stats": {
          "unique_count": 0,
          "nan_count": 0,
          "min": null,
          "max": null,
          "histogram": [
           {
            "bin_start": 0,
            "bin_end": 0.1,
            "count": 0
           },
           {
            "bin_start": 0.1,
            "bin_end": 0.2,
            "count": 0
           },
           {
            "bin_start": 0.2,
            "bin_end": 0.30000000000000004,
            "count": 0
           },
           {
            "bin_start": 0.30000000000000004,
            "bin_end": 0.4,
            "count": 0
           },
           {
            "bin_start": 0.4,
            "bin_end": 0.5,
            "count": 0
           },
           {
            "bin_start": 0.5,
            "bin_end": 0.6000000000000001,
            "count": 0
           },
           {
            "bin_start": 0.6000000000000001,
            "bin_end": 0.7000000000000001,
            "count": 0
           },
           {
            "bin_start": 0.7000000000000001,
            "bin_end": 0.8,
            "count": 0
           },
           {
            "bin_start": 0.8,
            "bin_end": 0.9,
            "count": 0
           },
           {
            "bin_start": 0.9,
            "bin_end": 1,
            "count": 0
           }
          ]
         }
        },
        {
         "name": "valence_y.1",
         "dtype": "float64",
         "stats": {
          "unique_count": 0,
          "nan_count": 0,
          "min": null,
          "max": null,
          "histogram": [
           {
            "bin_start": 0,
            "bin_end": 0.1,
            "count": 0
           },
           {
            "bin_start": 0.1,
            "bin_end": 0.2,
            "count": 0
           },
           {
            "bin_start": 0.2,
            "bin_end": 0.30000000000000004,
            "count": 0
           },
           {
            "bin_start": 0.30000000000000004,
            "bin_end": 0.4,
            "count": 0
           },
           {
            "bin_start": 0.4,
            "bin_end": 0.5,
            "count": 0
           },
           {
            "bin_start": 0.5,
            "bin_end": 0.6000000000000001,
            "count": 0
           },
           {
            "bin_start": 0.6000000000000001,
            "bin_end": 0.7000000000000001,
            "count": 0
           },
           {
            "bin_start": 0.7000000000000001,
            "bin_end": 0.8,
            "count": 0
           },
           {
            "bin_start": 0.8,
            "bin_end": 0.9,
            "count": 0
           },
           {
            "bin_start": 0.9,
            "bin_end": 1,
            "count": 0
           }
          ]
         }
        },
        {
         "name": "tempo_y.1",
         "dtype": "float64",
         "stats": {
          "unique_count": 0,
          "nan_count": 0,
          "min": null,
          "max": null,
          "histogram": [
           {
            "bin_start": 0,
            "bin_end": 0.1,
            "count": 0
           },
           {
            "bin_start": 0.1,
            "bin_end": 0.2,
            "count": 0
           },
           {
            "bin_start": 0.2,
            "bin_end": 0.30000000000000004,
            "count": 0
           },
           {
            "bin_start": 0.30000000000000004,
            "bin_end": 0.4,
            "count": 0
           },
           {
            "bin_start": 0.4,
            "bin_end": 0.5,
            "count": 0
           },
           {
            "bin_start": 0.5,
            "bin_end": 0.6000000000000001,
            "count": 0
           },
           {
            "bin_start": 0.6000000000000001,
            "bin_end": 0.7000000000000001,
            "count": 0
           },
           {
            "bin_start": 0.7000000000000001,
            "bin_end": 0.8,
            "count": 0
           },
           {
            "bin_start": 0.8,
            "bin_end": 0.9,
            "count": 0
           },
           {
            "bin_start": 0.9,
            "bin_end": 1,
            "count": 0
           }
          ]
         }
        },
        {
         "name": "duration_ms_y.1",
         "dtype": "int64",
         "stats": {
          "unique_count": 0,
          "nan_count": 0,
          "min": null,
          "max": null,
          "histogram": [
           {
            "bin_start": 0,
            "bin_end": 0.1,
            "count": 0
           },
           {
            "bin_start": 0.1,
            "bin_end": 0.2,
            "count": 0
           },
           {
            "bin_start": 0.2,
            "bin_end": 0.30000000000000004,
            "count": 0
           },
           {
            "bin_start": 0.30000000000000004,
            "bin_end": 0.4,
            "count": 0
           },
           {
            "bin_start": 0.4,
            "bin_end": 0.5,
            "count": 0
           },
           {
            "bin_start": 0.5,
            "bin_end": 0.6000000000000001,
            "count": 0
           },
           {
            "bin_start": 0.6000000000000001,
            "bin_end": 0.7000000000000001,
            "count": 0
           },
           {
            "bin_start": 0.7000000000000001,
            "bin_end": 0.8,
            "count": 0
           },
           {
            "bin_start": 0.8,
            "bin_end": 0.9,
            "count": 0
           },
           {
            "bin_start": 0.9,
            "bin_end": 1,
            "count": 0
           }
          ]
         }
        },
        {
         "name": "time_signature_y.1",
         "dtype": "int64",
         "stats": {
          "unique_count": 0,
          "nan_count": 0,
          "min": null,
          "max": null,
          "histogram": [
           {
            "bin_start": 0,
            "bin_end": 0.1,
            "count": 0
           },
           {
            "bin_start": 0.1,
            "bin_end": 0.2,
            "count": 0
           },
           {
            "bin_start": 0.2,
            "bin_end": 0.30000000000000004,
            "count": 0
           },
           {
            "bin_start": 0.30000000000000004,
            "bin_end": 0.4,
            "count": 0
           },
           {
            "bin_start": 0.4,
            "bin_end": 0.5,
            "count": 0
           },
           {
            "bin_start": 0.5,
            "bin_end": 0.6000000000000001,
            "count": 0
           },
           {
            "bin_start": 0.6000000000000001,
            "bin_end": 0.7000000000000001,
            "count": 0
           },
           {
            "bin_start": 0.7000000000000001,
            "bin_end": 0.8,
            "count": 0
           },
           {
            "bin_start": 0.8,
            "bin_end": 0.9,
            "count": 0
           },
           {
            "bin_start": 0.9,
            "bin_end": 1,
            "count": 0
           }
          ]
         }
        },
        {
         "name": "chorus_hit_y.1",
         "dtype": "float64",
         "stats": {
          "unique_count": 0,
          "nan_count": 0,
          "min": null,
          "max": null,
          "histogram": [
           {
            "bin_start": 0,
            "bin_end": 0.1,
            "count": 0
           },
           {
            "bin_start": 0.1,
            "bin_end": 0.2,
            "count": 0
           },
           {
            "bin_start": 0.2,
            "bin_end": 0.30000000000000004,
            "count": 0
           },
           {
            "bin_start": 0.30000000000000004,
            "bin_end": 0.4,
            "count": 0
           },
           {
            "bin_start": 0.4,
            "bin_end": 0.5,
            "count": 0
           },
           {
            "bin_start": 0.5,
            "bin_end": 0.6000000000000001,
            "count": 0
           },
           {
            "bin_start": 0.6000000000000001,
            "bin_end": 0.7000000000000001,
            "count": 0
           },
           {
            "bin_start": 0.7000000000000001,
            "bin_end": 0.8,
            "count": 0
           },
           {
            "bin_start": 0.8,
            "bin_end": 0.9,
            "count": 0
           },
           {
            "bin_start": 0.9,
            "bin_end": 1,
            "count": 0
           }
          ]
         }
        },
        {
         "name": "sections_y.1",
         "dtype": "int64",
         "stats": {
          "unique_count": 0,
          "nan_count": 0,
          "min": null,
          "max": null,
          "histogram": [
           {
            "bin_start": 0,
            "bin_end": 0.1,
            "count": 0
           },
           {
            "bin_start": 0.1,
            "bin_end": 0.2,
            "count": 0
           },
           {
            "bin_start": 0.2,
            "bin_end": 0.30000000000000004,
            "count": 0
           },
           {
            "bin_start": 0.30000000000000004,
            "bin_end": 0.4,
            "count": 0
           },
           {
            "bin_start": 0.4,
            "bin_end": 0.5,
            "count": 0
           },
           {
            "bin_start": 0.5,
            "bin_end": 0.6000000000000001,
            "count": 0
           },
           {
            "bin_start": 0.6000000000000001,
            "bin_end": 0.7000000000000001,
            "count": 0
           },
           {
            "bin_start": 0.7000000000000001,
            "bin_end": 0.8,
            "count": 0
           },
           {
            "bin_start": 0.8,
            "bin_end": 0.9,
            "count": 0
           },
           {
            "bin_start": 0.9,
            "bin_end": 1,
            "count": 0
           }
          ]
         }
        },
        {
         "name": "target_y.1",
         "dtype": "int64",
         "stats": {
          "unique_count": 0,
          "nan_count": 0,
          "min": null,
          "max": null,
          "histogram": [
           {
            "bin_start": 0,
            "bin_end": 0.1,
            "count": 0
           },
           {
            "bin_start": 0.1,
            "bin_end": 0.2,
            "count": 0
           },
           {
            "bin_start": 0.2,
            "bin_end": 0.30000000000000004,
            "count": 0
           },
           {
            "bin_start": 0.30000000000000004,
            "bin_end": 0.4,
            "count": 0
           },
           {
            "bin_start": 0.4,
            "bin_end": 0.5,
            "count": 0
           },
           {
            "bin_start": 0.5,
            "bin_end": 0.6000000000000001,
            "count": 0
           },
           {
            "bin_start": 0.6000000000000001,
            "bin_end": 0.7000000000000001,
            "count": 0
           },
           {
            "bin_start": 0.7000000000000001,
            "bin_end": 0.8,
            "count": 0
           },
           {
            "bin_start": 0.8,
            "bin_end": 0.9,
            "count": 0
           },
           {
            "bin_start": 0.9,
            "bin_end": 1,
            "count": 0
           }
          ]
         }
        },
        {
         "name": "decade_y.1",
         "dtype": "int64",
         "stats": {
          "unique_count": 0,
          "nan_count": 0,
          "min": null,
          "max": null,
          "histogram": [
           {
            "bin_start": 0,
            "bin_end": 0.1,
            "count": 0
           },
           {
            "bin_start": 0.1,
            "bin_end": 0.2,
            "count": 0
           },
           {
            "bin_start": 0.2,
            "bin_end": 0.30000000000000004,
            "count": 0
           },
           {
            "bin_start": 0.30000000000000004,
            "bin_end": 0.4,
            "count": 0
           },
           {
            "bin_start": 0.4,
            "bin_end": 0.5,
            "count": 0
           },
           {
            "bin_start": 0.5,
            "bin_end": 0.6000000000000001,
            "count": 0
           },
           {
            "bin_start": 0.6000000000000001,
            "bin_end": 0.7000000000000001,
            "count": 0
           },
           {
            "bin_start": 0.7000000000000001,
            "bin_end": 0.8,
            "count": 0
           },
           {
            "bin_start": 0.8,
            "bin_end": 0.9,
            "count": 0
           },
           {
            "bin_start": 0.9,
            "bin_end": 1,
            "count": 0
           }
          ]
         }
        },
        {
         "name": "uri_x.2",
         "dtype": "object",
         "stats": {
          "unique_count": 0,
          "nan_count": 0,
          "categories": []
         }
        },
        {
         "name": "danceability_x.2",
         "dtype": "float64",
         "stats": {
          "unique_count": 0,
          "nan_count": 0,
          "min": null,
          "max": null,
          "histogram": [
           {
            "bin_start": 0,
            "bin_end": 0.1,
            "count": 0
           },
           {
            "bin_start": 0.1,
            "bin_end": 0.2,
            "count": 0
           },
           {
            "bin_start": 0.2,
            "bin_end": 0.30000000000000004,
            "count": 0
           },
           {
            "bin_start": 0.30000000000000004,
            "bin_end": 0.4,
            "count": 0
           },
           {
            "bin_start": 0.4,
            "bin_end": 0.5,
            "count": 0
           },
           {
            "bin_start": 0.5,
            "bin_end": 0.6000000000000001,
            "count": 0
           },
           {
            "bin_start": 0.6000000000000001,
            "bin_end": 0.7000000000000001,
            "count": 0
           },
           {
            "bin_start": 0.7000000000000001,
            "bin_end": 0.8,
            "count": 0
           },
           {
            "bin_start": 0.8,
            "bin_end": 0.9,
            "count": 0
           },
           {
            "bin_start": 0.9,
            "bin_end": 1,
            "count": 0
           }
          ]
         }
        },
        {
         "name": "energy_x.2",
         "dtype": "float64",
         "stats": {
          "unique_count": 0,
          "nan_count": 0,
          "min": null,
          "max": null,
          "histogram": [
           {
            "bin_start": 0,
            "bin_end": 0.1,
            "count": 0
           },
           {
            "bin_start": 0.1,
            "bin_end": 0.2,
            "count": 0
           },
           {
            "bin_start": 0.2,
            "bin_end": 0.30000000000000004,
            "count": 0
           },
           {
            "bin_start": 0.30000000000000004,
            "bin_end": 0.4,
            "count": 0
           },
           {
            "bin_start": 0.4,
            "bin_end": 0.5,
            "count": 0
           },
           {
            "bin_start": 0.5,
            "bin_end": 0.6000000000000001,
            "count": 0
           },
           {
            "bin_start": 0.6000000000000001,
            "bin_end": 0.7000000000000001,
            "count": 0
           },
           {
            "bin_start": 0.7000000000000001,
            "bin_end": 0.8,
            "count": 0
           },
           {
            "bin_start": 0.8,
            "bin_end": 0.9,
            "count": 0
           },
           {
            "bin_start": 0.9,
            "bin_end": 1,
            "count": 0
           }
          ]
         }
        },
        {
         "name": "key_x.2",
         "dtype": "int64",
         "stats": {
          "unique_count": 0,
          "nan_count": 0,
          "min": null,
          "max": null,
          "histogram": [
           {
            "bin_start": 0,
            "bin_end": 0.1,
            "count": 0
           },
           {
            "bin_start": 0.1,
            "bin_end": 0.2,
            "count": 0
           },
           {
            "bin_start": 0.2,
            "bin_end": 0.30000000000000004,
            "count": 0
           },
           {
            "bin_start": 0.30000000000000004,
            "bin_end": 0.4,
            "count": 0
           },
           {
            "bin_start": 0.4,
            "bin_end": 0.5,
            "count": 0
           },
           {
            "bin_start": 0.5,
            "bin_end": 0.6000000000000001,
            "count": 0
           },
           {
            "bin_start": 0.6000000000000001,
            "bin_end": 0.7000000000000001,
            "count": 0
           },
           {
            "bin_start": 0.7000000000000001,
            "bin_end": 0.8,
            "count": 0
           },
           {
            "bin_start": 0.8,
            "bin_end": 0.9,
            "count": 0
           },
           {
            "bin_start": 0.9,
            "bin_end": 1,
            "count": 0
           }
          ]
         }
        },
        {
         "name": "loudness_x.2",
         "dtype": "float64",
         "stats": {
          "unique_count": 0,
          "nan_count": 0,
          "min": null,
          "max": null,
          "histogram": [
           {
            "bin_start": 0,
            "bin_end": 0.1,
            "count": 0
           },
           {
            "bin_start": 0.1,
            "bin_end": 0.2,
            "count": 0
           },
           {
            "bin_start": 0.2,
            "bin_end": 0.30000000000000004,
            "count": 0
           },
           {
            "bin_start": 0.30000000000000004,
            "bin_end": 0.4,
            "count": 0
           },
           {
            "bin_start": 0.4,
            "bin_end": 0.5,
            "count": 0
           },
           {
            "bin_start": 0.5,
            "bin_end": 0.6000000000000001,
            "count": 0
           },
           {
            "bin_start": 0.6000000000000001,
            "bin_end": 0.7000000000000001,
            "count": 0
           },
           {
            "bin_start": 0.7000000000000001,
            "bin_end": 0.8,
            "count": 0
           },
           {
            "bin_start": 0.8,
            "bin_end": 0.9,
            "count": 0
           },
           {
            "bin_start": 0.9,
            "bin_end": 1,
            "count": 0
           }
          ]
         }
        },
        {
         "name": "mode_x.2",
         "dtype": "int64",
         "stats": {
          "unique_count": 0,
          "nan_count": 0,
          "min": null,
          "max": null,
          "histogram": [
           {
            "bin_start": 0,
            "bin_end": 0.1,
            "count": 0
           },
           {
            "bin_start": 0.1,
            "bin_end": 0.2,
            "count": 0
           },
           {
            "bin_start": 0.2,
            "bin_end": 0.30000000000000004,
            "count": 0
           },
           {
            "bin_start": 0.30000000000000004,
            "bin_end": 0.4,
            "count": 0
           },
           {
            "bin_start": 0.4,
            "bin_end": 0.5,
            "count": 0
           },
           {
            "bin_start": 0.5,
            "bin_end": 0.6000000000000001,
            "count": 0
           },
           {
            "bin_start": 0.6000000000000001,
            "bin_end": 0.7000000000000001,
            "count": 0
           },
           {
            "bin_start": 0.7000000000000001,
            "bin_end": 0.8,
            "count": 0
           },
           {
            "bin_start": 0.8,
            "bin_end": 0.9,
            "count": 0
           },
           {
            "bin_start": 0.9,
            "bin_end": 1,
            "count": 0
           }
          ]
         }
        },
        {
         "name": "speechiness_x.2",
         "dtype": "float64",
         "stats": {
          "unique_count": 0,
          "nan_count": 0,
          "min": null,
          "max": null,
          "histogram": [
           {
            "bin_start": 0,
            "bin_end": 0.1,
            "count": 0
           },
           {
            "bin_start": 0.1,
            "bin_end": 0.2,
            "count": 0
           },
           {
            "bin_start": 0.2,
            "bin_end": 0.30000000000000004,
            "count": 0
           },
           {
            "bin_start": 0.30000000000000004,
            "bin_end": 0.4,
            "count": 0
           },
           {
            "bin_start": 0.4,
            "bin_end": 0.5,
            "count": 0
           },
           {
            "bin_start": 0.5,
            "bin_end": 0.6000000000000001,
            "count": 0
           },
           {
            "bin_start": 0.6000000000000001,
            "bin_end": 0.7000000000000001,
            "count": 0
           },
           {
            "bin_start": 0.7000000000000001,
            "bin_end": 0.8,
            "count": 0
           },
           {
            "bin_start": 0.8,
            "bin_end": 0.9,
            "count": 0
           },
           {
            "bin_start": 0.9,
            "bin_end": 1,
            "count": 0
           }
          ]
         }
        },
        {
         "name": "acousticness_x.2",
         "dtype": "float64",
         "stats": {
          "unique_count": 0,
          "nan_count": 0,
          "min": null,
          "max": null,
          "histogram": [
           {
            "bin_start": 0,
            "bin_end": 0.1,
            "count": 0
           },
           {
            "bin_start": 0.1,
            "bin_end": 0.2,
            "count": 0
           },
           {
            "bin_start": 0.2,
            "bin_end": 0.30000000000000004,
            "count": 0
           },
           {
            "bin_start": 0.30000000000000004,
            "bin_end": 0.4,
            "count": 0
           },
           {
            "bin_start": 0.4,
            "bin_end": 0.5,
            "count": 0
           },
           {
            "bin_start": 0.5,
            "bin_end": 0.6000000000000001,
            "count": 0
           },
           {
            "bin_start": 0.6000000000000001,
            "bin_end": 0.7000000000000001,
            "count": 0
           },
           {
            "bin_start": 0.7000000000000001,
            "bin_end": 0.8,
            "count": 0
           },
           {
            "bin_start": 0.8,
            "bin_end": 0.9,
            "count": 0
           },
           {
            "bin_start": 0.9,
            "bin_end": 1,
            "count": 0
           }
          ]
         }
        },
        {
         "name": "instrumentalness_x.2",
         "dtype": "float64",
         "stats": {
          "unique_count": 0,
          "nan_count": 0,
          "min": null,
          "max": null,
          "histogram": [
           {
            "bin_start": 0,
            "bin_end": 0.1,
            "count": 0
           },
           {
            "bin_start": 0.1,
            "bin_end": 0.2,
            "count": 0
           },
           {
            "bin_start": 0.2,
            "bin_end": 0.30000000000000004,
            "count": 0
           },
           {
            "bin_start": 0.30000000000000004,
            "bin_end": 0.4,
            "count": 0
           },
           {
            "bin_start": 0.4,
            "bin_end": 0.5,
            "count": 0
           },
           {
            "bin_start": 0.5,
            "bin_end": 0.6000000000000001,
            "count": 0
           },
           {
            "bin_start": 0.6000000000000001,
            "bin_end": 0.7000000000000001,
            "count": 0
           },
           {
            "bin_start": 0.7000000000000001,
            "bin_end": 0.8,
            "count": 0
           },
           {
            "bin_start": 0.8,
            "bin_end": 0.9,
            "count": 0
           },
           {
            "bin_start": 0.9,
            "bin_end": 1,
            "count": 0
           }
          ]
         }
        },
        {
         "name": "liveness_x.2",
         "dtype": "float64",
         "stats": {
          "unique_count": 0,
          "nan_count": 0,
          "min": null,
          "max": null,
          "histogram": [
           {
            "bin_start": 0,
            "bin_end": 0.1,
            "count": 0
           },
           {
            "bin_start": 0.1,
            "bin_end": 0.2,
            "count": 0
           },
           {
            "bin_start": 0.2,
            "bin_end": 0.30000000000000004,
            "count": 0
           },
           {
            "bin_start": 0.30000000000000004,
            "bin_end": 0.4,
            "count": 0
           },
           {
            "bin_start": 0.4,
            "bin_end": 0.5,
            "count": 0
           },
           {
            "bin_start": 0.5,
            "bin_end": 0.6000000000000001,
            "count": 0
           },
           {
            "bin_start": 0.6000000000000001,
            "bin_end": 0.7000000000000001,
            "count": 0
           },
           {
            "bin_start": 0.7000000000000001,
            "bin_end": 0.8,
            "count": 0
           },
           {
            "bin_start": 0.8,
            "bin_end": 0.9,
            "count": 0
           },
           {
            "bin_start": 0.9,
            "bin_end": 1,
            "count": 0
           }
          ]
         }
        },
        {
         "name": "valence_x.2",
         "dtype": "float64",
         "stats": {
          "unique_count": 0,
          "nan_count": 0,
          "min": null,
          "max": null,
          "histogram": [
           {
            "bin_start": 0,
            "bin_end": 0.1,
            "count": 0
           },
           {
            "bin_start": 0.1,
            "bin_end": 0.2,
            "count": 0
           },
           {
            "bin_start": 0.2,
            "bin_end": 0.30000000000000004,
            "count": 0
           },
           {
            "bin_start": 0.30000000000000004,
            "bin_end": 0.4,
            "count": 0
           },
           {
            "bin_start": 0.4,
            "bin_end": 0.5,
            "count": 0
           },
           {
            "bin_start": 0.5,
            "bin_end": 0.6000000000000001,
            "count": 0
           },
           {
            "bin_start": 0.6000000000000001,
            "bin_end": 0.7000000000000001,
            "count": 0
           },
           {
            "bin_start": 0.7000000000000001,
            "bin_end": 0.8,
            "count": 0
           },
           {
            "bin_start": 0.8,
            "bin_end": 0.9,
            "count": 0
           },
           {
            "bin_start": 0.9,
            "bin_end": 1,
            "count": 0
           }
          ]
         }
        },
        {
         "name": "tempo_x.2",
         "dtype": "float64",
         "stats": {
          "unique_count": 0,
          "nan_count": 0,
          "min": null,
          "max": null,
          "histogram": [
           {
            "bin_start": 0,
            "bin_end": 0.1,
            "count": 0
           },
           {
            "bin_start": 0.1,
            "bin_end": 0.2,
            "count": 0
           },
           {
            "bin_start": 0.2,
            "bin_end": 0.30000000000000004,
            "count": 0
           },
           {
            "bin_start": 0.30000000000000004,
            "bin_end": 0.4,
            "count": 0
           },
           {
            "bin_start": 0.4,
            "bin_end": 0.5,
            "count": 0
           },
           {
            "bin_start": 0.5,
            "bin_end": 0.6000000000000001,
            "count": 0
           },
           {
            "bin_start": 0.6000000000000001,
            "bin_end": 0.7000000000000001,
            "count": 0
           },
           {
            "bin_start": 0.7000000000000001,
            "bin_end": 0.8,
            "count": 0
           },
           {
            "bin_start": 0.8,
            "bin_end": 0.9,
            "count": 0
           },
           {
            "bin_start": 0.9,
            "bin_end": 1,
            "count": 0
           }
          ]
         }
        },
        {
         "name": "duration_ms_x.2",
         "dtype": "int64",
         "stats": {
          "unique_count": 0,
          "nan_count": 0,
          "min": null,
          "max": null,
          "histogram": [
           {
            "bin_start": 0,
            "bin_end": 0.1,
            "count": 0
           },
           {
            "bin_start": 0.1,
            "bin_end": 0.2,
            "count": 0
           },
           {
            "bin_start": 0.2,
            "bin_end": 0.30000000000000004,
            "count": 0
           },
           {
            "bin_start": 0.30000000000000004,
            "bin_end": 0.4,
            "count": 0
           },
           {
            "bin_start": 0.4,
            "bin_end": 0.5,
            "count": 0
           },
           {
            "bin_start": 0.5,
            "bin_end": 0.6000000000000001,
            "count": 0
           },
           {
            "bin_start": 0.6000000000000001,
            "bin_end": 0.7000000000000001,
            "count": 0
           },
           {
            "bin_start": 0.7000000000000001,
            "bin_end": 0.8,
            "count": 0
           },
           {
            "bin_start": 0.8,
            "bin_end": 0.9,
            "count": 0
           },
           {
            "bin_start": 0.9,
            "bin_end": 1,
            "count": 0
           }
          ]
         }
        },
        {
         "name": "time_signature_x.2",
         "dtype": "int64",
         "stats": {
          "unique_count": 0,
          "nan_count": 0,
          "min": null,
          "max": null,
          "histogram": [
           {
            "bin_start": 0,
            "bin_end": 0.1,
            "count": 0
           },
           {
            "bin_start": 0.1,
            "bin_end": 0.2,
            "count": 0
           },
           {
            "bin_start": 0.2,
            "bin_end": 0.30000000000000004,
            "count": 0
           },
           {
            "bin_start": 0.30000000000000004,
            "bin_end": 0.4,
            "count": 0
           },
           {
            "bin_start": 0.4,
            "bin_end": 0.5,
            "count": 0
           },
           {
            "bin_start": 0.5,
            "bin_end": 0.6000000000000001,
            "count": 0
           },
           {
            "bin_start": 0.6000000000000001,
            "bin_end": 0.7000000000000001,
            "count": 0
           },
           {
            "bin_start": 0.7000000000000001,
            "bin_end": 0.8,
            "count": 0
           },
           {
            "bin_start": 0.8,
            "bin_end": 0.9,
            "count": 0
           },
           {
            "bin_start": 0.9,
            "bin_end": 1,
            "count": 0
           }
          ]
         }
        },
        {
         "name": "chorus_hit_x.2",
         "dtype": "float64",
         "stats": {
          "unique_count": 0,
          "nan_count": 0,
          "min": null,
          "max": null,
          "histogram": [
           {
            "bin_start": 0,
            "bin_end": 0.1,
            "count": 0
           },
           {
            "bin_start": 0.1,
            "bin_end": 0.2,
            "count": 0
           },
           {
            "bin_start": 0.2,
            "bin_end": 0.30000000000000004,
            "count": 0
           },
           {
            "bin_start": 0.30000000000000004,
            "bin_end": 0.4,
            "count": 0
           },
           {
            "bin_start": 0.4,
            "bin_end": 0.5,
            "count": 0
           },
           {
            "bin_start": 0.5,
            "bin_end": 0.6000000000000001,
            "count": 0
           },
           {
            "bin_start": 0.6000000000000001,
            "bin_end": 0.7000000000000001,
            "count": 0
           },
           {
            "bin_start": 0.7000000000000001,
            "bin_end": 0.8,
            "count": 0
           },
           {
            "bin_start": 0.8,
            "bin_end": 0.9,
            "count": 0
           },
           {
            "bin_start": 0.9,
            "bin_end": 1,
            "count": 0
           }
          ]
         }
        },
        {
         "name": "sections_x.2",
         "dtype": "int64",
         "stats": {
          "unique_count": 0,
          "nan_count": 0,
          "min": null,
          "max": null,
          "histogram": [
           {
            "bin_start": 0,
            "bin_end": 0.1,
            "count": 0
           },
           {
            "bin_start": 0.1,
            "bin_end": 0.2,
            "count": 0
           },
           {
            "bin_start": 0.2,
            "bin_end": 0.30000000000000004,
            "count": 0
           },
           {
            "bin_start": 0.30000000000000004,
            "bin_end": 0.4,
            "count": 0
           },
           {
            "bin_start": 0.4,
            "bin_end": 0.5,
            "count": 0
           },
           {
            "bin_start": 0.5,
            "bin_end": 0.6000000000000001,
            "count": 0
           },
           {
            "bin_start": 0.6000000000000001,
            "bin_end": 0.7000000000000001,
            "count": 0
           },
           {
            "bin_start": 0.7000000000000001,
            "bin_end": 0.8,
            "count": 0
           },
           {
            "bin_start": 0.8,
            "bin_end": 0.9,
            "count": 0
           },
           {
            "bin_start": 0.9,
            "bin_end": 1,
            "count": 0
           }
          ]
         }
        },
        {
         "name": "target_x.2",
         "dtype": "int64",
         "stats": {
          "unique_count": 0,
          "nan_count": 0,
          "min": null,
          "max": null,
          "histogram": [
           {
            "bin_start": 0,
            "bin_end": 0.1,
            "count": 0
           },
           {
            "bin_start": 0.1,
            "bin_end": 0.2,
            "count": 0
           },
           {
            "bin_start": 0.2,
            "bin_end": 0.30000000000000004,
            "count": 0
           },
           {
            "bin_start": 0.30000000000000004,
            "bin_end": 0.4,
            "count": 0
           },
           {
            "bin_start": 0.4,
            "bin_end": 0.5,
            "count": 0
           },
           {
            "bin_start": 0.5,
            "bin_end": 0.6000000000000001,
            "count": 0
           },
           {
            "bin_start": 0.6000000000000001,
            "bin_end": 0.7000000000000001,
            "count": 0
           },
           {
            "bin_start": 0.7000000000000001,
            "bin_end": 0.8,
            "count": 0
           },
           {
            "bin_start": 0.8,
            "bin_end": 0.9,
            "count": 0
           },
           {
            "bin_start": 0.9,
            "bin_end": 1,
            "count": 0
           }
          ]
         }
        },
        {
         "name": "decade_x.2",
         "dtype": "int64",
         "stats": {
          "unique_count": 0,
          "nan_count": 0,
          "min": null,
          "max": null,
          "histogram": [
           {
            "bin_start": 0,
            "bin_end": 0.1,
            "count": 0
           },
           {
            "bin_start": 0.1,
            "bin_end": 0.2,
            "count": 0
           },
           {
            "bin_start": 0.2,
            "bin_end": 0.30000000000000004,
            "count": 0
           },
           {
            "bin_start": 0.30000000000000004,
            "bin_end": 0.4,
            "count": 0
           },
           {
            "bin_start": 0.4,
            "bin_end": 0.5,
            "count": 0
           },
           {
            "bin_start": 0.5,
            "bin_end": 0.6000000000000001,
            "count": 0
           },
           {
            "bin_start": 0.6000000000000001,
            "bin_end": 0.7000000000000001,
            "count": 0
           },
           {
            "bin_start": 0.7000000000000001,
            "bin_end": 0.8,
            "count": 0
           },
           {
            "bin_start": 0.8,
            "bin_end": 0.9,
            "count": 0
           },
           {
            "bin_start": 0.9,
            "bin_end": 1,
            "count": 0
           }
          ]
         }
        },
        {
         "name": "track",
         "dtype": "object",
         "stats": {
          "unique_count": 0,
          "nan_count": 0,
          "categories": []
         }
        },
        {
         "name": "artist",
         "dtype": "object",
         "stats": {
          "unique_count": 0,
          "nan_count": 0,
          "categories": []
         }
        },
        {
         "name": "uri_y.2",
         "dtype": "object",
         "stats": {
          "unique_count": 0,
          "nan_count": 0,
          "categories": []
         }
        },
        {
         "name": "danceability_y.2",
         "dtype": "float64",
         "stats": {
          "unique_count": 0,
          "nan_count": 0,
          "min": null,
          "max": null,
          "histogram": [
           {
            "bin_start": 0,
            "bin_end": 0.1,
            "count": 0
           },
           {
            "bin_start": 0.1,
            "bin_end": 0.2,
            "count": 0
           },
           {
            "bin_start": 0.2,
            "bin_end": 0.30000000000000004,
            "count": 0
           },
           {
            "bin_start": 0.30000000000000004,
            "bin_end": 0.4,
            "count": 0
           },
           {
            "bin_start": 0.4,
            "bin_end": 0.5,
            "count": 0
           },
           {
            "bin_start": 0.5,
            "bin_end": 0.6000000000000001,
            "count": 0
           },
           {
            "bin_start": 0.6000000000000001,
            "bin_end": 0.7000000000000001,
            "count": 0
           },
           {
            "bin_start": 0.7000000000000001,
            "bin_end": 0.8,
            "count": 0
           },
           {
            "bin_start": 0.8,
            "bin_end": 0.9,
            "count": 0
           },
           {
            "bin_start": 0.9,
            "bin_end": 1,
            "count": 0
           }
          ]
         }
        },
        {
         "name": "energy_y.2",
         "dtype": "float64",
         "stats": {
          "unique_count": 0,
          "nan_count": 0,
          "min": null,
          "max": null,
          "histogram": [
           {
            "bin_start": 0,
            "bin_end": 0.1,
            "count": 0
           },
           {
            "bin_start": 0.1,
            "bin_end": 0.2,
            "count": 0
           },
           {
            "bin_start": 0.2,
            "bin_end": 0.30000000000000004,
            "count": 0
           },
           {
            "bin_start": 0.30000000000000004,
            "bin_end": 0.4,
            "count": 0
           },
           {
            "bin_start": 0.4,
            "bin_end": 0.5,
            "count": 0
           },
           {
            "bin_start": 0.5,
            "bin_end": 0.6000000000000001,
            "count": 0
           },
           {
            "bin_start": 0.6000000000000001,
            "bin_end": 0.7000000000000001,
            "count": 0
           },
           {
            "bin_start": 0.7000000000000001,
            "bin_end": 0.8,
            "count": 0
           },
           {
            "bin_start": 0.8,
            "bin_end": 0.9,
            "count": 0
           },
           {
            "bin_start": 0.9,
            "bin_end": 1,
            "count": 0
           }
          ]
         }
        },
        {
         "name": "key_y.2",
         "dtype": "int64",
         "stats": {
          "unique_count": 0,
          "nan_count": 0,
          "min": null,
          "max": null,
          "histogram": [
           {
            "bin_start": 0,
            "bin_end": 0.1,
            "count": 0
           },
           {
            "bin_start": 0.1,
            "bin_end": 0.2,
            "count": 0
           },
           {
            "bin_start": 0.2,
            "bin_end": 0.30000000000000004,
            "count": 0
           },
           {
            "bin_start": 0.30000000000000004,
            "bin_end": 0.4,
            "count": 0
           },
           {
            "bin_start": 0.4,
            "bin_end": 0.5,
            "count": 0
           },
           {
            "bin_start": 0.5,
            "bin_end": 0.6000000000000001,
            "count": 0
           },
           {
            "bin_start": 0.6000000000000001,
            "bin_end": 0.7000000000000001,
            "count": 0
           },
           {
            "bin_start": 0.7000000000000001,
            "bin_end": 0.8,
            "count": 0
           },
           {
            "bin_start": 0.8,
            "bin_end": 0.9,
            "count": 0
           },
           {
            "bin_start": 0.9,
            "bin_end": 1,
            "count": 0
           }
          ]
         }
        },
        {
         "name": "loudness_y.2",
         "dtype": "float64",
         "stats": {
          "unique_count": 0,
          "nan_count": 0,
          "min": null,
          "max": null,
          "histogram": [
           {
            "bin_start": 0,
            "bin_end": 0.1,
            "count": 0
           },
           {
            "bin_start": 0.1,
            "bin_end": 0.2,
            "count": 0
           },
           {
            "bin_start": 0.2,
            "bin_end": 0.30000000000000004,
            "count": 0
           },
           {
            "bin_start": 0.30000000000000004,
            "bin_end": 0.4,
            "count": 0
           },
           {
            "bin_start": 0.4,
            "bin_end": 0.5,
            "count": 0
           },
           {
            "bin_start": 0.5,
            "bin_end": 0.6000000000000001,
            "count": 0
           },
           {
            "bin_start": 0.6000000000000001,
            "bin_end": 0.7000000000000001,
            "count": 0
           },
           {
            "bin_start": 0.7000000000000001,
            "bin_end": 0.8,
            "count": 0
           },
           {
            "bin_start": 0.8,
            "bin_end": 0.9,
            "count": 0
           },
           {
            "bin_start": 0.9,
            "bin_end": 1,
            "count": 0
           }
          ]
         }
        },
        {
         "name": "mode_y.2",
         "dtype": "int64",
         "stats": {
          "unique_count": 0,
          "nan_count": 0,
          "min": null,
          "max": null,
          "histogram": [
           {
            "bin_start": 0,
            "bin_end": 0.1,
            "count": 0
           },
           {
            "bin_start": 0.1,
            "bin_end": 0.2,
            "count": 0
           },
           {
            "bin_start": 0.2,
            "bin_end": 0.30000000000000004,
            "count": 0
           },
           {
            "bin_start": 0.30000000000000004,
            "bin_end": 0.4,
            "count": 0
           },
           {
            "bin_start": 0.4,
            "bin_end": 0.5,
            "count": 0
           },
           {
            "bin_start": 0.5,
            "bin_end": 0.6000000000000001,
            "count": 0
           },
           {
            "bin_start": 0.6000000000000001,
            "bin_end": 0.7000000000000001,
            "count": 0
           },
           {
            "bin_start": 0.7000000000000001,
            "bin_end": 0.8,
            "count": 0
           },
           {
            "bin_start": 0.8,
            "bin_end": 0.9,
            "count": 0
           },
           {
            "bin_start": 0.9,
            "bin_end": 1,
            "count": 0
           }
          ]
         }
        },
        {
         "name": "speechiness_y.2",
         "dtype": "float64",
         "stats": {
          "unique_count": 0,
          "nan_count": 0,
          "min": null,
          "max": null,
          "histogram": [
           {
            "bin_start": 0,
            "bin_end": 0.1,
            "count": 0
           },
           {
            "bin_start": 0.1,
            "bin_end": 0.2,
            "count": 0
           },
           {
            "bin_start": 0.2,
            "bin_end": 0.30000000000000004,
            "count": 0
           },
           {
            "bin_start": 0.30000000000000004,
            "bin_end": 0.4,
            "count": 0
           },
           {
            "bin_start": 0.4,
            "bin_end": 0.5,
            "count": 0
           },
           {
            "bin_start": 0.5,
            "bin_end": 0.6000000000000001,
            "count": 0
           },
           {
            "bin_start": 0.6000000000000001,
            "bin_end": 0.7000000000000001,
            "count": 0
           },
           {
            "bin_start": 0.7000000000000001,
            "bin_end": 0.8,
            "count": 0
           },
           {
            "bin_start": 0.8,
            "bin_end": 0.9,
            "count": 0
           },
           {
            "bin_start": 0.9,
            "bin_end": 1,
            "count": 0
           }
          ]
         }
        },
        {
         "name": "acousticness_y.2",
         "dtype": "float64",
         "stats": {
          "unique_count": 0,
          "nan_count": 0,
          "min": null,
          "max": null,
          "histogram": [
           {
            "bin_start": 0,
            "bin_end": 0.1,
            "count": 0
           },
           {
            "bin_start": 0.1,
            "bin_end": 0.2,
            "count": 0
           },
           {
            "bin_start": 0.2,
            "bin_end": 0.30000000000000004,
            "count": 0
           },
           {
            "bin_start": 0.30000000000000004,
            "bin_end": 0.4,
            "count": 0
           },
           {
            "bin_start": 0.4,
            "bin_end": 0.5,
            "count": 0
           },
           {
            "bin_start": 0.5,
            "bin_end": 0.6000000000000001,
            "count": 0
           },
           {
            "bin_start": 0.6000000000000001,
            "bin_end": 0.7000000000000001,
            "count": 0
           },
           {
            "bin_start": 0.7000000000000001,
            "bin_end": 0.8,
            "count": 0
           },
           {
            "bin_start": 0.8,
            "bin_end": 0.9,
            "count": 0
           },
           {
            "bin_start": 0.9,
            "bin_end": 1,
            "count": 0
           }
          ]
         }
        },
        {
         "name": "instrumentalness_y.2",
         "dtype": "float64",
         "stats": {
          "unique_count": 0,
          "nan_count": 0,
          "min": null,
          "max": null,
          "histogram": [
           {
            "bin_start": 0,
            "bin_end": 0.1,
            "count": 0
           },
           {
            "bin_start": 0.1,
            "bin_end": 0.2,
            "count": 0
           },
           {
            "bin_start": 0.2,
            "bin_end": 0.30000000000000004,
            "count": 0
           },
           {
            "bin_start": 0.30000000000000004,
            "bin_end": 0.4,
            "count": 0
           },
           {
            "bin_start": 0.4,
            "bin_end": 0.5,
            "count": 0
           },
           {
            "bin_start": 0.5,
            "bin_end": 0.6000000000000001,
            "count": 0
           },
           {
            "bin_start": 0.6000000000000001,
            "bin_end": 0.7000000000000001,
            "count": 0
           },
           {
            "bin_start": 0.7000000000000001,
            "bin_end": 0.8,
            "count": 0
           },
           {
            "bin_start": 0.8,
            "bin_end": 0.9,
            "count": 0
           },
           {
            "bin_start": 0.9,
            "bin_end": 1,
            "count": 0
           }
          ]
         }
        },
        {
         "name": "liveness_y.2",
         "dtype": "float64",
         "stats": {
          "unique_count": 0,
          "nan_count": 0,
          "min": null,
          "max": null,
          "histogram": [
           {
            "bin_start": 0,
            "bin_end": 0.1,
            "count": 0
           },
           {
            "bin_start": 0.1,
            "bin_end": 0.2,
            "count": 0
           },
           {
            "bin_start": 0.2,
            "bin_end": 0.30000000000000004,
            "count": 0
           },
           {
            "bin_start": 0.30000000000000004,
            "bin_end": 0.4,
            "count": 0
           },
           {
            "bin_start": 0.4,
            "bin_end": 0.5,
            "count": 0
           },
           {
            "bin_start": 0.5,
            "bin_end": 0.6000000000000001,
            "count": 0
           },
           {
            "bin_start": 0.6000000000000001,
            "bin_end": 0.7000000000000001,
            "count": 0
           },
           {
            "bin_start": 0.7000000000000001,
            "bin_end": 0.8,
            "count": 0
           },
           {
            "bin_start": 0.8,
            "bin_end": 0.9,
            "count": 0
           },
           {
            "bin_start": 0.9,
            "bin_end": 1,
            "count": 0
           }
          ]
         }
        },
        {
         "name": "valence_y.2",
         "dtype": "float64",
         "stats": {
          "unique_count": 0,
          "nan_count": 0,
          "min": null,
          "max": null,
          "histogram": [
           {
            "bin_start": 0,
            "bin_end": 0.1,
            "count": 0
           },
           {
            "bin_start": 0.1,
            "bin_end": 0.2,
            "count": 0
           },
           {
            "bin_start": 0.2,
            "bin_end": 0.30000000000000004,
            "count": 0
           },
           {
            "bin_start": 0.30000000000000004,
            "bin_end": 0.4,
            "count": 0
           },
           {
            "bin_start": 0.4,
            "bin_end": 0.5,
            "count": 0
           },
           {
            "bin_start": 0.5,
            "bin_end": 0.6000000000000001,
            "count": 0
           },
           {
            "bin_start": 0.6000000000000001,
            "bin_end": 0.7000000000000001,
            "count": 0
           },
           {
            "bin_start": 0.7000000000000001,
            "bin_end": 0.8,
            "count": 0
           },
           {
            "bin_start": 0.8,
            "bin_end": 0.9,
            "count": 0
           },
           {
            "bin_start": 0.9,
            "bin_end": 1,
            "count": 0
           }
          ]
         }
        },
        {
         "name": "tempo_y.2",
         "dtype": "float64",
         "stats": {
          "unique_count": 0,
          "nan_count": 0,
          "min": null,
          "max": null,
          "histogram": [
           {
            "bin_start": 0,
            "bin_end": 0.1,
            "count": 0
           },
           {
            "bin_start": 0.1,
            "bin_end": 0.2,
            "count": 0
           },
           {
            "bin_start": 0.2,
            "bin_end": 0.30000000000000004,
            "count": 0
           },
           {
            "bin_start": 0.30000000000000004,
            "bin_end": 0.4,
            "count": 0
           },
           {
            "bin_start": 0.4,
            "bin_end": 0.5,
            "count": 0
           },
           {
            "bin_start": 0.5,
            "bin_end": 0.6000000000000001,
            "count": 0
           },
           {
            "bin_start": 0.6000000000000001,
            "bin_end": 0.7000000000000001,
            "count": 0
           },
           {
            "bin_start": 0.7000000000000001,
            "bin_end": 0.8,
            "count": 0
           },
           {
            "bin_start": 0.8,
            "bin_end": 0.9,
            "count": 0
           },
           {
            "bin_start": 0.9,
            "bin_end": 1,
            "count": 0
           }
          ]
         }
        },
        {
         "name": "duration_ms_y.2",
         "dtype": "int64",
         "stats": {
          "unique_count": 0,
          "nan_count": 0,
          "min": null,
          "max": null,
          "histogram": [
           {
            "bin_start": 0,
            "bin_end": 0.1,
            "count": 0
           },
           {
            "bin_start": 0.1,
            "bin_end": 0.2,
            "count": 0
           },
           {
            "bin_start": 0.2,
            "bin_end": 0.30000000000000004,
            "count": 0
           },
           {
            "bin_start": 0.30000000000000004,
            "bin_end": 0.4,
            "count": 0
           },
           {
            "bin_start": 0.4,
            "bin_end": 0.5,
            "count": 0
           },
           {
            "bin_start": 0.5,
            "bin_end": 0.6000000000000001,
            "count": 0
           },
           {
            "bin_start": 0.6000000000000001,
            "bin_end": 0.7000000000000001,
            "count": 0
           },
           {
            "bin_start": 0.7000000000000001,
            "bin_end": 0.8,
            "count": 0
           },
           {
            "bin_start": 0.8,
            "bin_end": 0.9,
            "count": 0
           },
           {
            "bin_start": 0.9,
            "bin_end": 1,
            "count": 0
           }
          ]
         }
        },
        {
         "name": "time_signature_y.2",
         "dtype": "int64",
         "stats": {
          "unique_count": 0,
          "nan_count": 0,
          "min": null,
          "max": null,
          "histogram": [
           {
            "bin_start": 0,
            "bin_end": 0.1,
            "count": 0
           },
           {
            "bin_start": 0.1,
            "bin_end": 0.2,
            "count": 0
           },
           {
            "bin_start": 0.2,
            "bin_end": 0.30000000000000004,
            "count": 0
           },
           {
            "bin_start": 0.30000000000000004,
            "bin_end": 0.4,
            "count": 0
           },
           {
            "bin_start": 0.4,
            "bin_end": 0.5,
            "count": 0
           },
           {
            "bin_start": 0.5,
            "bin_end": 0.6000000000000001,
            "count": 0
           },
           {
            "bin_start": 0.6000000000000001,
            "bin_end": 0.7000000000000001,
            "count": 0
           },
           {
            "bin_start": 0.7000000000000001,
            "bin_end": 0.8,
            "count": 0
           },
           {
            "bin_start": 0.8,
            "bin_end": 0.9,
            "count": 0
           },
           {
            "bin_start": 0.9,
            "bin_end": 1,
            "count": 0
           }
          ]
         }
        },
        {
         "name": "chorus_hit_y.2",
         "dtype": "float64",
         "stats": {
          "unique_count": 0,
          "nan_count": 0,
          "min": null,
          "max": null,
          "histogram": [
           {
            "bin_start": 0,
            "bin_end": 0.1,
            "count": 0
           },
           {
            "bin_start": 0.1,
            "bin_end": 0.2,
            "count": 0
           },
           {
            "bin_start": 0.2,
            "bin_end": 0.30000000000000004,
            "count": 0
           },
           {
            "bin_start": 0.30000000000000004,
            "bin_end": 0.4,
            "count": 0
           },
           {
            "bin_start": 0.4,
            "bin_end": 0.5,
            "count": 0
           },
           {
            "bin_start": 0.5,
            "bin_end": 0.6000000000000001,
            "count": 0
           },
           {
            "bin_start": 0.6000000000000001,
            "bin_end": 0.7000000000000001,
            "count": 0
           },
           {
            "bin_start": 0.7000000000000001,
            "bin_end": 0.8,
            "count": 0
           },
           {
            "bin_start": 0.8,
            "bin_end": 0.9,
            "count": 0
           },
           {
            "bin_start": 0.9,
            "bin_end": 1,
            "count": 0
           }
          ]
         }
        },
        {
         "name": "sections_y.2",
         "dtype": "int64",
         "stats": {
          "unique_count": 0,
          "nan_count": 0,
          "min": null,
          "max": null,
          "histogram": [
           {
            "bin_start": 0,
            "bin_end": 0.1,
            "count": 0
           },
           {
            "bin_start": 0.1,
            "bin_end": 0.2,
            "count": 0
           },
           {
            "bin_start": 0.2,
            "bin_end": 0.30000000000000004,
            "count": 0
           },
           {
            "bin_start": 0.30000000000000004,
            "bin_end": 0.4,
            "count": 0
           },
           {
            "bin_start": 0.4,
            "bin_end": 0.5,
            "count": 0
           },
           {
            "bin_start": 0.5,
            "bin_end": 0.6000000000000001,
            "count": 0
           },
           {
            "bin_start": 0.6000000000000001,
            "bin_end": 0.7000000000000001,
            "count": 0
           },
           {
            "bin_start": 0.7000000000000001,
            "bin_end": 0.8,
            "count": 0
           },
           {
            "bin_start": 0.8,
            "bin_end": 0.9,
            "count": 0
           },
           {
            "bin_start": 0.9,
            "bin_end": 1,
            "count": 0
           }
          ]
         }
        },
        {
         "name": "target_y.2",
         "dtype": "int64",
         "stats": {
          "unique_count": 0,
          "nan_count": 0,
          "min": null,
          "max": null,
          "histogram": [
           {
            "bin_start": 0,
            "bin_end": 0.1,
            "count": 0
           },
           {
            "bin_start": 0.1,
            "bin_end": 0.2,
            "count": 0
           },
           {
            "bin_start": 0.2,
            "bin_end": 0.30000000000000004,
            "count": 0
           },
           {
            "bin_start": 0.30000000000000004,
            "bin_end": 0.4,
            "count": 0
           },
           {
            "bin_start": 0.4,
            "bin_end": 0.5,
            "count": 0
           },
           {
            "bin_start": 0.5,
            "bin_end": 0.6000000000000001,
            "count": 0
           },
           {
            "bin_start": 0.6000000000000001,
            "bin_end": 0.7000000000000001,
            "count": 0
           },
           {
            "bin_start": 0.7000000000000001,
            "bin_end": 0.8,
            "count": 0
           },
           {
            "bin_start": 0.8,
            "bin_end": 0.9,
            "count": 0
           },
           {
            "bin_start": 0.9,
            "bin_end": 1,
            "count": 0
           }
          ]
         }
        },
        {
         "name": "decade_y.2",
         "dtype": "int64",
         "stats": {
          "unique_count": 0,
          "nan_count": 0,
          "min": null,
          "max": null,
          "histogram": [
           {
            "bin_start": 0,
            "bin_end": 0.1,
            "count": 0
           },
           {
            "bin_start": 0.1,
            "bin_end": 0.2,
            "count": 0
           },
           {
            "bin_start": 0.2,
            "bin_end": 0.30000000000000004,
            "count": 0
           },
           {
            "bin_start": 0.30000000000000004,
            "bin_end": 0.4,
            "count": 0
           },
           {
            "bin_start": 0.4,
            "bin_end": 0.5,
            "count": 0
           },
           {
            "bin_start": 0.5,
            "bin_end": 0.6000000000000001,
            "count": 0
           },
           {
            "bin_start": 0.6000000000000001,
            "bin_end": 0.7000000000000001,
            "count": 0
           },
           {
            "bin_start": 0.7000000000000001,
            "bin_end": 0.8,
            "count": 0
           },
           {
            "bin_start": 0.8,
            "bin_end": 0.9,
            "count": 0
           },
           {
            "bin_start": 0.9,
            "bin_end": 1,
            "count": 0
           }
          ]
         }
        },
        {
         "name": "_deepnote_index_column",
         "dtype": "object"
        }
       ],
       "rows_top": [],
       "rows_bottom": null
      },
      "text/plain": "Empty DataFrame\nColumns: [uri_x, danceability_x, energy_x, key_x, loudness_x, mode_x, speechiness_x, acousticness_x, instrumentalness_x, liveness_x, valence_x, tempo_x, duration_ms_x, time_signature_x, chorus_hit_x, sections_x, target_x, decade_x, uri_y, danceability_y, energy_y, key_y, loudness_y, mode_y, speechiness_y, acousticness_y, instrumentalness_y, liveness_y, valence_y, tempo_y, duration_ms_y, time_signature_y, chorus_hit_y, sections_y, target_y, decade_y, uri_x, danceability_x, energy_x, key_x, loudness_x, mode_x, speechiness_x, acousticness_x, instrumentalness_x, liveness_x, valence_x, tempo_x, duration_ms_x, time_signature_x, chorus_hit_x, sections_x, target_x, decade_x, uri_y, danceability_y, energy_y, key_y, loudness_y, mode_y, speechiness_y, acousticness_y, instrumentalness_y, liveness_y, valence_y, tempo_y, duration_ms_y, time_signature_y, chorus_hit_y, sections_y, target_y, decade_y, uri_x, danceability_x, energy_x, key_x, loudness_x, mode_x, speechiness_x, acousticness_x, instrumentalness_x, liveness_x, valence_x, tempo_x, duration_ms_x, time_signature_x, chorus_hit_x, sections_x, target_x, decade_x, track, artist, uri_y, danceability_y, energy_y, key_y, loudness_y, mode_y, speechiness_y, acousticness_y, ...]\nIndex: []\n\n[0 rows x 110 columns]",
      "text/html": "<div>\n<style scoped>\n    .dataframe tbody tr th:only-of-type {\n        vertical-align: middle;\n    }\n\n    .dataframe tbody tr th {\n        vertical-align: top;\n    }\n\n    .dataframe thead th {\n        text-align: right;\n    }\n</style>\n<table border=\"1\" class=\"dataframe\">\n  <thead>\n    <tr style=\"text-align: right;\">\n      <th></th>\n      <th>uri_x</th>\n      <th>danceability_x</th>\n      <th>energy_x</th>\n      <th>key_x</th>\n      <th>loudness_x</th>\n      <th>mode_x</th>\n      <th>speechiness_x</th>\n      <th>acousticness_x</th>\n      <th>instrumentalness_x</th>\n      <th>liveness_x</th>\n      <th>...</th>\n      <th>instrumentalness_y</th>\n      <th>liveness_y</th>\n      <th>valence_y</th>\n      <th>tempo_y</th>\n      <th>duration_ms_y</th>\n      <th>time_signature_y</th>\n      <th>chorus_hit_y</th>\n      <th>sections_y</th>\n      <th>target_y</th>\n      <th>decade_y</th>\n    </tr>\n  </thead>\n  <tbody>\n  </tbody>\n</table>\n<p>0 rows × 110 columns</p>\n</div>"
     },
     "metadata": {}
    }
   ]
  },
  {
   "cell_type": "code",
   "metadata": {
    "tags": [],
    "deepnote_to_be_reexecuted": false,
    "source_hash": "774c34f5",
    "execution_start": 1636139555292,
    "execution_millis": 82,
    "cell_id": "00006-144b5e20-1d5f-4d67-b65b-5032278d5d23",
    "deepnote_cell_type": "code"
   },
   "source": "# Create cumulative dataset (from songs across all decades)\ndata = data10.append(data00,ignore_index=True).append(data90,ignore_index=True).append(data80,ignore_index=True).append(data70,ignore_index=True).append(data60,ignore_index=True)\ndata.head()",
   "execution_count": 5,
   "outputs": [
    {
     "output_type": "execute_result",
     "execution_count": 5,
     "data": {
      "application/vnd.deepnote.dataframe.v2+json": {
       "row_count": 5,
       "column_count": 20,
       "columns": [
        {
         "name": "track",
         "dtype": "object",
         "stats": {
          "unique_count": 5,
          "nan_count": 0,
          "categories": [
           {
            "name": "Wild Things",
            "count": 1
           },
           {
            "name": "Surfboard",
            "count": 1
           },
           {
            "name": "3 others",
            "count": 3
           }
          ]
         }
        },
        {
         "name": "artist",
         "dtype": "object",
         "stats": {
          "unique_count": 5,
          "nan_count": 0,
          "categories": [
           {
            "name": "Alessia Cara",
            "count": 1
           },
           {
            "name": "Esquivel!",
            "count": 1
           },
           {
            "name": "3 others",
            "count": 3
           }
          ]
         }
        },
        {
         "name": "uri",
         "dtype": "object",
         "stats": {
          "unique_count": 5,
          "nan_count": 0,
          "categories": [
           {
            "name": "spotify:track:2ZyuwVvV6Z3XJaXIFbspeE",
            "count": 1
           },
           {
            "name": "spotify:track:61APOtq25SCMuK0V5w2Kgp",
            "count": 1
           },
           {
            "name": "3 others",
            "count": 3
           }
          ]
         }
        },
        {
         "name": "danceability",
         "dtype": "float64",
         "stats": {
          "unique_count": 5,
          "nan_count": 0,
          "min": "0.447",
          "max": "0.807",
          "histogram": [
           {
            "bin_start": 0.447,
            "bin_end": 0.483,
            "count": 1
           },
           {
            "bin_start": 0.483,
            "bin_end": 0.519,
            "count": 1
           },
           {
            "bin_start": 0.519,
            "bin_end": 0.555,
            "count": 1
           },
           {
            "bin_start": 0.555,
            "bin_end": 0.591,
            "count": 0
           },
           {
            "bin_start": 0.591,
            "bin_end": 0.627,
            "count": 0
           },
           {
            "bin_start": 0.627,
            "bin_end": 0.663,
            "count": 0
           },
           {
            "bin_start": 0.663,
            "bin_end": 0.6990000000000001,
            "count": 0
           },
           {
            "bin_start": 0.6990000000000001,
            "bin_end": 0.7350000000000001,
            "count": 0
           },
           {
            "bin_start": 0.7350000000000001,
            "bin_end": 0.7710000000000001,
            "count": 1
           },
           {
            "bin_start": 0.7710000000000001,
            "bin_end": 0.807,
            "count": 1
           }
          ]
         }
        },
        {
         "name": "energy",
         "dtype": "float64",
         "stats": {
          "unique_count": 5,
          "nan_count": 0,
          "min": "0.247",
          "max": "0.887",
          "histogram": [
           {
            "bin_start": 0.247,
            "bin_end": 0.311,
            "count": 1
           },
           {
            "bin_start": 0.311,
            "bin_end": 0.375,
            "count": 0
           },
           {
            "bin_start": 0.375,
            "bin_end": 0.439,
            "count": 1
           },
           {
            "bin_start": 0.439,
            "bin_end": 0.503,
            "count": 0
           },
           {
            "bin_start": 0.503,
            "bin_end": 0.567,
            "count": 0
           },
           {
            "bin_start": 0.567,
            "bin_end": 0.631,
            "count": 1
           },
           {
            "bin_start": 0.631,
            "bin_end": 0.6950000000000001,
            "count": 1
           },
           {
            "bin_start": 0.6950000000000001,
            "bin_end": 0.759,
            "count": 0
           },
           {
            "bin_start": 0.759,
            "bin_end": 0.8230000000000001,
            "count": 0
           },
           {
            "bin_start": 0.8230000000000001,
            "bin_end": 0.887,
            "count": 1
           }
          ]
         }
        },
        {
         "name": "key",
         "dtype": "int64",
         "stats": {
          "unique_count": 4,
          "nan_count": 0,
          "min": "0",
          "max": "9",
          "histogram": [
           {
            "bin_start": 0,
            "bin_end": 0.9,
            "count": 1
           },
           {
            "bin_start": 0.9,
            "bin_end": 1.8,
            "count": 2
           },
           {
            "bin_start": 1.8,
            "bin_end": 2.7,
            "count": 0
           },
           {
            "bin_start": 2.7,
            "bin_end": 3.6,
            "count": 0
           },
           {
            "bin_start": 3.6,
            "bin_end": 4.5,
            "count": 0
           },
           {
            "bin_start": 4.5,
            "bin_end": 5.4,
            "count": 1
           },
           {
            "bin_start": 5.4,
            "bin_end": 6.3,
            "count": 0
           },
           {
            "bin_start": 6.3,
            "bin_end": 7.2,
            "count": 0
           },
           {
            "bin_start": 7.2,
            "bin_end": 8.1,
            "count": 0
           },
           {
            "bin_start": 8.1,
            "bin_end": 9,
            "count": 1
           }
          ]
         }
        },
        {
         "name": "loudness",
         "dtype": "float64",
         "stats": {
          "unique_count": 5,
          "nan_count": 0,
          "min": "-14.661",
          "max": "-3.892",
          "histogram": [
           {
            "bin_start": -14.661,
            "bin_end": -13.5841,
            "count": 1
           },
           {
            "bin_start": -13.5841,
            "bin_end": -12.5072,
            "count": 0
           },
           {
            "bin_start": -12.5072,
            "bin_end": -11.430299999999999,
            "count": 0
           },
           {
            "bin_start": -11.430299999999999,
            "bin_end": -10.3534,
            "count": 0
           },
           {
            "bin_start": -10.3534,
            "bin_end": -9.276499999999999,
            "count": 0
           },
           {
            "bin_start": -9.276499999999999,
            "bin_end": -8.1996,
            "count": 0
           },
           {
            "bin_start": -8.1996,
            "bin_end": -7.1227,
            "count": 0
           },
           {
            "bin_start": -7.1227,
            "bin_end": -6.0458,
            "count": 1
           },
           {
            "bin_start": -6.0458,
            "bin_end": -4.9689,
            "count": 1
           },
           {
            "bin_start": -4.9689,
            "bin_end": -3.892,
            "count": 2
           }
          ]
         }
        },
        {
         "name": "mode",
         "dtype": "int64",
         "stats": {
          "unique_count": 2,
          "nan_count": 0,
          "min": "0",
          "max": "1",
          "histogram": [
           {
            "bin_start": 0,
            "bin_end": 0.1,
            "count": 4
           },
           {
            "bin_start": 0.1,
            "bin_end": 0.2,
            "count": 0
           },
           {
            "bin_start": 0.2,
            "bin_end": 0.30000000000000004,
            "count": 0
           },
           {
            "bin_start": 0.30000000000000004,
            "bin_end": 0.4,
            "count": 0
           },
           {
            "bin_start": 0.4,
            "bin_end": 0.5,
            "count": 0
           },
           {
            "bin_start": 0.5,
            "bin_end": 0.6000000000000001,
            "count": 0
           },
           {
            "bin_start": 0.6000000000000001,
            "bin_end": 0.7000000000000001,
            "count": 0
           },
           {
            "bin_start": 0.7000000000000001,
            "bin_end": 0.8,
            "count": 0
           },
           {
            "bin_start": 0.8,
            "bin_end": 0.9,
            "count": 0
           },
           {
            "bin_start": 0.9,
            "bin_end": 1,
            "count": 1
           }
          ]
         }
        },
        {
         "name": "speechiness",
         "dtype": "float64",
         "stats": {
          "unique_count": 5,
          "nan_count": 0,
          "min": "0.0346",
          "max": "0.275",
          "histogram": [
           {
            "bin_start": 0.0346,
            "bin_end": 0.05864,
            "count": 3
           },
           {
            "bin_start": 0.05864,
            "bin_end": 0.08268,
            "count": 0
           },
           {
            "bin_start": 0.08268,
            "bin_end": 0.10672000000000001,
            "count": 1
           },
           {
            "bin_start": 0.10672000000000001,
            "bin_end": 0.13076000000000002,
            "count": 0
           },
           {
            "bin_start": 0.13076000000000002,
            "bin_end": 0.15480000000000002,
            "count": 0
           },
           {
            "bin_start": 0.15480000000000002,
            "bin_end": 0.17884,
            "count": 0
           },
           {
            "bin_start": 0.17884,
            "bin_end": 0.20288,
            "count": 0
           },
           {
            "bin_start": 0.20288,
            "bin_end": 0.22692,
            "count": 0
           },
           {
            "bin_start": 0.22692,
            "bin_end": 0.25096,
            "count": 0
           },
           {
            "bin_start": 0.25096,
            "bin_end": 0.275,
            "count": 1
           }
          ]
         }
        },
        {
         "name": "acousticness",
         "dtype": "float64",
         "stats": {
          "unique_count": 5,
          "nan_count": 0,
          "min": "0.00381",
          "max": "0.871",
          "histogram": [
           {
            "bin_start": 0.00381,
            "bin_end": 0.090529,
            "count": 3
           },
           {
            "bin_start": 0.090529,
            "bin_end": 0.17724800000000002,
            "count": 1
           },
           {
            "bin_start": 0.17724800000000002,
            "bin_end": 0.263967,
            "count": 0
           },
           {
            "bin_start": 0.263967,
            "bin_end": 0.350686,
            "count": 0
           },
           {
            "bin_start": 0.350686,
            "bin_end": 0.437405,
            "count": 0
           },
           {
            "bin_start": 0.437405,
            "bin_end": 0.524124,
            "count": 0
           },
           {
            "bin_start": 0.524124,
            "bin_end": 0.610843,
            "count": 0
           },
           {
            "bin_start": 0.610843,
            "bin_end": 0.697562,
            "count": 0
           },
           {
            "bin_start": 0.697562,
            "bin_end": 0.784281,
            "count": 0
           },
           {
            "bin_start": 0.784281,
            "bin_end": 0.871,
            "count": 1
           }
          ]
         }
        },
        {
         "name": "instrumentalness",
         "dtype": "float64",
         "stats": {
          "unique_count": 2,
          "nan_count": 0,
          "min": "0.0",
          "max": "0.814",
          "histogram": [
           {
            "bin_start": 0,
            "bin_end": 0.0814,
            "count": 4
           },
           {
            "bin_start": 0.0814,
            "bin_end": 0.1628,
            "count": 0
           },
           {
            "bin_start": 0.1628,
            "bin_end": 0.2442,
            "count": 0
           },
           {
            "bin_start": 0.2442,
            "bin_end": 0.3256,
            "count": 0
           },
           {
            "bin_start": 0.3256,
            "bin_end": 0.40700000000000003,
            "count": 0
           },
           {
            "bin_start": 0.40700000000000003,
            "bin_end": 0.4884,
            "count": 0
           },
           {
            "bin_start": 0.4884,
            "bin_end": 0.5698,
            "count": 0
           },
           {
            "bin_start": 0.5698,
            "bin_end": 0.6512,
            "count": 0
           },
           {
            "bin_start": 0.6512,
            "bin_end": 0.7326,
            "count": 0
           },
           {
            "bin_start": 0.7326,
            "bin_end": 0.814,
            "count": 1
           }
          ]
         }
        },
        {
         "name": "liveness",
         "dtype": "float64",
         "stats": {
          "unique_count": 5,
          "nan_count": 0,
          "min": "0.0828",
          "max": "0.391",
          "histogram": [
           {
            "bin_start": 0.0828,
            "bin_end": 0.11362,
            "count": 3
           },
           {
            "bin_start": 0.11362,
            "bin_end": 0.14444,
            "count": 0
           },
           {
            "bin_start": 0.14444,
            "bin_end": 0.17526000000000003,
            "count": 0
           },
           {
            "bin_start": 0.17526000000000003,
            "bin_end": 0.20608,
            "count": 1
           },
           {
            "bin_start": 0.20608,
            "bin_end": 0.2369,
            "count": 0
           },
           {
            "bin_start": 0.2369,
            "bin_end": 0.26772,
            "count": 0
           },
           {
            "bin_start": 0.26772,
            "bin_end": 0.29854,
            "count": 0
           },
           {
            "bin_start": 0.29854,
            "bin_end": 0.32936000000000004,
            "count": 0
           },
           {
            "bin_start": 0.32936000000000004,
            "bin_end": 0.36018,
            "count": 0
           },
           {
            "bin_start": 0.36018,
            "bin_end": 0.391,
            "count": 1
           }
          ]
         }
        },
        {
         "name": "valence",
         "dtype": "float64",
         "stats": {
          "unique_count": 5,
          "nan_count": 0,
          "min": "0.25",
          "max": "0.78",
          "histogram": [
           {
            "bin_start": 0.25,
            "bin_end": 0.303,
            "count": 3
           },
           {
            "bin_start": 0.303,
            "bin_end": 0.356,
            "count": 0
           },
           {
            "bin_start": 0.356,
            "bin_end": 0.40900000000000003,
            "count": 0
           },
           {
            "bin_start": 0.40900000000000003,
            "bin_end": 0.462,
            "count": 0
           },
           {
            "bin_start": 0.462,
            "bin_end": 0.515,
            "count": 0
           },
           {
            "bin_start": 0.515,
            "bin_end": 0.5680000000000001,
            "count": 0
           },
           {
            "bin_start": 0.5680000000000001,
            "bin_end": 0.621,
            "count": 0
           },
           {
            "bin_start": 0.621,
            "bin_end": 0.674,
            "count": 0
           },
           {
            "bin_start": 0.674,
            "bin_end": 0.7270000000000001,
            "count": 1
           },
           {
            "bin_start": 0.7270000000000001,
            "bin_end": 0.78,
            "count": 1
           }
          ]
         }
        },
        {
         "name": "tempo",
         "dtype": "float64",
         "stats": {
          "unique_count": 5,
          "nan_count": 0,
          "min": "91.837",
          "max": "172.065",
          "histogram": [
           {
            "bin_start": 91.837,
            "bin_end": 99.8598,
            "count": 1
           },
           {
            "bin_start": 99.8598,
            "bin_end": 107.8826,
            "count": 0
           },
           {
            "bin_start": 107.8826,
            "bin_end": 115.9054,
            "count": 1
           },
           {
            "bin_start": 115.9054,
            "bin_end": 123.9282,
            "count": 0
           },
           {
            "bin_start": 123.9282,
            "bin_end": 131.95100000000002,
            "count": 0
           },
           {
            "bin_start": 131.95100000000002,
            "bin_end": 139.9738,
            "count": 0
           },
           {
            "bin_start": 139.9738,
            "bin_end": 147.9966,
            "count": 0
           },
           {
            "bin_start": 147.9966,
            "bin_end": 156.01940000000002,
            "count": 1
           },
           {
            "bin_start": 156.01940000000002,
            "bin_end": 164.0422,
            "count": 1
           },
           {
            "bin_start": 164.0422,
            "bin_end": 172.065,
            "count": 1
           }
          ]
         }
        },
        {
         "name": "duration_ms",
         "dtype": "int64",
         "stats": {
          "unique_count": 5,
          "nan_count": 0,
          "min": "144244",
          "max": "205463",
          "histogram": [
           {
            "bin_start": 144244,
            "bin_end": 150365.9,
            "count": 1
           },
           {
            "bin_start": 150365.9,
            "bin_end": 156487.8,
            "count": 0
           },
           {
            "bin_start": 156487.8,
            "bin_end": 162609.7,
            "count": 0
           },
           {
            "bin_start": 162609.7,
            "bin_end": 168731.6,
            "count": 0
           },
           {
            "bin_start": 168731.6,
            "bin_end": 174853.5,
            "count": 0
           },
           {
            "bin_start": 174853.5,
            "bin_end": 180975.4,
            "count": 1
           },
           {
            "bin_start": 180975.4,
            "bin_end": 187097.3,
            "count": 0
           },
           {
            "bin_start": 187097.3,
            "bin_end": 193219.2,
            "count": 2
           },
           {
            "bin_start": 193219.2,
            "bin_end": 199341.1,
            "count": 0
           },
           {
            "bin_start": 199341.1,
            "bin_end": 205463,
            "count": 1
           }
          ]
         }
        },
        {
         "name": "time_signature",
         "dtype": "int64",
         "stats": {
          "unique_count": 2,
          "nan_count": 0,
          "min": "3",
          "max": "4",
          "histogram": [
           {
            "bin_start": 3,
            "bin_end": 3.1,
            "count": 1
           },
           {
            "bin_start": 3.1,
            "bin_end": 3.2,
            "count": 0
           },
           {
            "bin_start": 3.2,
            "bin_end": 3.3,
            "count": 0
           },
           {
            "bin_start": 3.3,
            "bin_end": 3.4,
            "count": 0
           },
           {
            "bin_start": 3.4,
            "bin_end": 3.5,
            "count": 0
           },
           {
            "bin_start": 3.5,
            "bin_end": 3.6,
            "count": 0
           },
           {
            "bin_start": 3.6,
            "bin_end": 3.7,
            "count": 0
           },
           {
            "bin_start": 3.7,
            "bin_end": 3.8,
            "count": 0
           },
           {
            "bin_start": 3.8,
            "bin_end": 3.9,
            "count": 0
           },
           {
            "bin_start": 3.9,
            "bin_end": 4,
            "count": 4
           }
          ]
         }
        },
        {
         "name": "chorus_hit",
         "dtype": "float64",
         "stats": {
          "unique_count": 5,
          "nan_count": 0,
          "min": "24.99199",
          "max": "44.89147",
          "histogram": [
           {
            "bin_start": 24.99199,
            "bin_end": 26.981938,
            "count": 1
           },
           {
            "bin_start": 26.981938,
            "bin_end": 28.971886,
            "count": 0
           },
           {
            "bin_start": 28.971886,
            "bin_end": 30.961834,
            "count": 1
           },
           {
            "bin_start": 30.961834,
            "bin_end": 32.951782,
            "count": 0
           },
           {
            "bin_start": 32.951782,
            "bin_end": 34.94173,
            "count": 1
           },
           {
            "bin_start": 34.94173,
            "bin_end": 36.931678,
            "count": 0
           },
           {
            "bin_start": 36.931678,
            "bin_end": 38.921625999999996,
            "count": 0
           },
           {
            "bin_start": 38.921625999999996,
            "bin_end": 40.911574,
            "count": 0
           },
           {
            "bin_start": 40.911574,
            "bin_end": 42.901522,
            "count": 1
           },
           {
            "bin_start": 42.901522,
            "bin_end": 44.89147,
            "count": 1
           }
          ]
         }
        },
        {
         "name": "sections",
         "dtype": "int64",
         "stats": {
          "unique_count": 4,
          "nan_count": 0,
          "min": "7",
          "max": "10",
          "histogram": [
           {
            "bin_start": 7,
            "bin_end": 7.3,
            "count": 1
           },
           {
            "bin_start": 7.3,
            "bin_end": 7.6,
            "count": 0
           },
           {
            "bin_start": 7.6,
            "bin_end": 7.9,
            "count": 0
           },
           {
            "bin_start": 7.9,
            "bin_end": 8.2,
            "count": 1
           },
           {
            "bin_start": 8.2,
            "bin_end": 8.5,
            "count": 0
           },
           {
            "bin_start": 8.5,
            "bin_end": 8.8,
            "count": 0
           },
           {
            "bin_start": 8.8,
            "bin_end": 9.1,
            "count": 2
           },
           {
            "bin_start": 9.1,
            "bin_end": 9.4,
            "count": 0
           },
           {
            "bin_start": 9.4,
            "bin_end": 9.7,
            "count": 0
           },
           {
            "bin_start": 9.7,
            "bin_end": 10,
            "count": 1
           }
          ]
         }
        },
        {
         "name": "target",
         "dtype": "int64",
         "stats": {
          "unique_count": 2,
          "nan_count": 0,
          "min": "0",
          "max": "1",
          "histogram": [
           {
            "bin_start": 0,
            "bin_end": 0.1,
            "count": 2
           },
           {
            "bin_start": 0.1,
            "bin_end": 0.2,
            "count": 0
           },
           {
            "bin_start": 0.2,
            "bin_end": 0.30000000000000004,
            "count": 0
           },
           {
            "bin_start": 0.30000000000000004,
            "bin_end": 0.4,
            "count": 0
           },
           {
            "bin_start": 0.4,
            "bin_end": 0.5,
            "count": 0
           },
           {
            "bin_start": 0.5,
            "bin_end": 0.6000000000000001,
            "count": 0
           },
           {
            "bin_start": 0.6000000000000001,
            "bin_end": 0.7000000000000001,
            "count": 0
           },
           {
            "bin_start": 0.7000000000000001,
            "bin_end": 0.8,
            "count": 0
           },
           {
            "bin_start": 0.8,
            "bin_end": 0.9,
            "count": 0
           },
           {
            "bin_start": 0.9,
            "bin_end": 1,
            "count": 3
           }
          ]
         }
        },
        {
         "name": "decade",
         "dtype": "int64",
         "stats": {
          "unique_count": 1,
          "nan_count": 0,
          "min": "2010",
          "max": "2010",
          "histogram": [
           {
            "bin_start": 2009.5,
            "bin_end": 2009.6,
            "count": 0
           },
           {
            "bin_start": 2009.6,
            "bin_end": 2009.7,
            "count": 0
           },
           {
            "bin_start": 2009.7,
            "bin_end": 2009.8,
            "count": 0
           },
           {
            "bin_start": 2009.8,
            "bin_end": 2009.9,
            "count": 0
           },
           {
            "bin_start": 2009.9,
            "bin_end": 2010,
            "count": 0
           },
           {
            "bin_start": 2010,
            "bin_end": 2010.1,
            "count": 5
           },
           {
            "bin_start": 2010.1,
            "bin_end": 2010.2,
            "count": 0
           },
           {
            "bin_start": 2010.2,
            "bin_end": 2010.3,
            "count": 0
           },
           {
            "bin_start": 2010.3,
            "bin_end": 2010.4,
            "count": 0
           },
           {
            "bin_start": 2010.4,
            "bin_end": 2010.5,
            "count": 0
           }
          ]
         }
        },
        {
         "name": "_deepnote_index_column",
         "dtype": "int64"
        }
       ],
       "rows_top": [
        {
         "track": "Wild Things",
         "artist": "Alessia Cara",
         "uri": "spotify:track:2ZyuwVvV6Z3XJaXIFbspeE",
         "danceability": 0.741,
         "energy": 0.626,
         "key": 1,
         "loudness": -4.826,
         "mode": 0,
         "speechiness": 0.0886,
         "acousticness": 0.02,
         "instrumentalness": 0,
         "liveness": 0.0828,
         "valence": 0.706,
         "tempo": 108.029,
         "duration_ms": 188493,
         "time_signature": 4,
         "chorus_hit": 41.18681,
         "sections": 10,
         "target": 1,
         "decade": 2010,
         "_deepnote_index_column": 0
        },
        {
         "track": "Surfboard",
         "artist": "Esquivel!",
         "uri": "spotify:track:61APOtq25SCMuK0V5w2Kgp",
         "danceability": 0.447,
         "energy": 0.247,
         "key": 5,
         "loudness": -14.661,
         "mode": 0,
         "speechiness": 0.0346,
         "acousticness": 0.871,
         "instrumentalness": 0.814,
         "liveness": 0.0946,
         "valence": 0.25,
         "tempo": 155.489,
         "duration_ms": 176880,
         "time_signature": 3,
         "chorus_hit": 33.18083,
         "sections": 9,
         "target": 0,
         "decade": 2010,
         "_deepnote_index_column": 1
        },
        {
         "track": "Love Someone",
         "artist": "Lukas Graham",
         "uri": "spotify:track:2JqnpexlO9dmvjUMCaLCLJ",
         "danceability": 0.55,
         "energy": 0.415,
         "key": 9,
         "loudness": -6.557,
         "mode": 0,
         "speechiness": 0.052,
         "acousticness": 0.161,
         "instrumentalness": 0,
         "liveness": 0.108,
         "valence": 0.274,
         "tempo": 172.065,
         "duration_ms": 205463,
         "time_signature": 4,
         "chorus_hit": 44.89147,
         "sections": 9,
         "target": 1,
         "decade": 2010,
         "_deepnote_index_column": 2
        },
        {
         "track": "Music To My Ears (feat. Tory Lanez)",
         "artist": "Keys N Krates",
         "uri": "spotify:track:0cjfLhk8WJ3etPTCseKXtk",
         "danceability": 0.502,
         "energy": 0.648,
         "key": 0,
         "loudness": -5.698,
         "mode": 0,
         "speechiness": 0.0527,
         "acousticness": 0.00513,
         "instrumentalness": 0,
         "liveness": 0.204,
         "valence": 0.291,
         "tempo": 91.837,
         "duration_ms": 193043,
         "time_signature": 4,
         "chorus_hit": 29.52521,
         "sections": 7,
         "target": 0,
         "decade": 2010,
         "_deepnote_index_column": 3
        },
        {
         "track": "Juju On That Beat (TZ Anthem)",
         "artist": "Zay Hilfigerrr & Zayion McCall",
         "uri": "spotify:track:1lItf5ZXJc1by9SbPeljFd",
         "danceability": 0.807,
         "energy": 0.887,
         "key": 1,
         "loudness": -3.892,
         "mode": 1,
         "speechiness": 0.275,
         "acousticness": 0.00381,
         "instrumentalness": 0,
         "liveness": 0.391,
         "valence": 0.78,
         "tempo": 160.517,
         "duration_ms": 144244,
         "time_signature": 4,
         "chorus_hit": 24.99199,
         "sections": 8,
         "target": 1,
         "decade": 2010,
         "_deepnote_index_column": 4
        }
       ],
       "rows_bottom": null
      },
      "text/plain": "                                 track                          artist  \\\n0                          Wild Things                    Alessia Cara   \n1                            Surfboard                       Esquivel!   \n2                         Love Someone                    Lukas Graham   \n3  Music To My Ears (feat. Tory Lanez)                   Keys N Krates   \n4        Juju On That Beat (TZ Anthem)  Zay Hilfigerrr & Zayion McCall   \n\n                                    uri  danceability  energy  key  loudness  \\\n0  spotify:track:2ZyuwVvV6Z3XJaXIFbspeE         0.741   0.626    1    -4.826   \n1  spotify:track:61APOtq25SCMuK0V5w2Kgp         0.447   0.247    5   -14.661   \n2  spotify:track:2JqnpexlO9dmvjUMCaLCLJ         0.550   0.415    9    -6.557   \n3  spotify:track:0cjfLhk8WJ3etPTCseKXtk         0.502   0.648    0    -5.698   \n4  spotify:track:1lItf5ZXJc1by9SbPeljFd         0.807   0.887    1    -3.892   \n\n   mode  speechiness  acousticness  instrumentalness  liveness  valence  \\\n0     0       0.0886       0.02000             0.000    0.0828    0.706   \n1     0       0.0346       0.87100             0.814    0.0946    0.250   \n2     0       0.0520       0.16100             0.000    0.1080    0.274   \n3     0       0.0527       0.00513             0.000    0.2040    0.291   \n4     1       0.2750       0.00381             0.000    0.3910    0.780   \n\n     tempo  duration_ms  time_signature  chorus_hit  sections  target  decade  \n0  108.029       188493               4    41.18681        10       1    2010  \n1  155.489       176880               3    33.18083         9       0    2010  \n2  172.065       205463               4    44.89147         9       1    2010  \n3   91.837       193043               4    29.52521         7       0    2010  \n4  160.517       144244               4    24.99199         8       1    2010  ",
      "text/html": "<div>\n<style scoped>\n    .dataframe tbody tr th:only-of-type {\n        vertical-align: middle;\n    }\n\n    .dataframe tbody tr th {\n        vertical-align: top;\n    }\n\n    .dataframe thead th {\n        text-align: right;\n    }\n</style>\n<table border=\"1\" class=\"dataframe\">\n  <thead>\n    <tr style=\"text-align: right;\">\n      <th></th>\n      <th>track</th>\n      <th>artist</th>\n      <th>uri</th>\n      <th>danceability</th>\n      <th>energy</th>\n      <th>key</th>\n      <th>loudness</th>\n      <th>mode</th>\n      <th>speechiness</th>\n      <th>acousticness</th>\n      <th>instrumentalness</th>\n      <th>liveness</th>\n      <th>valence</th>\n      <th>tempo</th>\n      <th>duration_ms</th>\n      <th>time_signature</th>\n      <th>chorus_hit</th>\n      <th>sections</th>\n      <th>target</th>\n      <th>decade</th>\n    </tr>\n  </thead>\n  <tbody>\n    <tr>\n      <th>0</th>\n      <td>Wild Things</td>\n      <td>Alessia Cara</td>\n      <td>spotify:track:2ZyuwVvV6Z3XJaXIFbspeE</td>\n      <td>0.741</td>\n      <td>0.626</td>\n      <td>1</td>\n      <td>-4.826</td>\n      <td>0</td>\n      <td>0.0886</td>\n      <td>0.02000</td>\n      <td>0.000</td>\n      <td>0.0828</td>\n      <td>0.706</td>\n      <td>108.029</td>\n      <td>188493</td>\n      <td>4</td>\n      <td>41.18681</td>\n      <td>10</td>\n      <td>1</td>\n      <td>2010</td>\n    </tr>\n    <tr>\n      <th>1</th>\n      <td>Surfboard</td>\n      <td>Esquivel!</td>\n      <td>spotify:track:61APOtq25SCMuK0V5w2Kgp</td>\n      <td>0.447</td>\n      <td>0.247</td>\n      <td>5</td>\n      <td>-14.661</td>\n      <td>0</td>\n      <td>0.0346</td>\n      <td>0.87100</td>\n      <td>0.814</td>\n      <td>0.0946</td>\n      <td>0.250</td>\n      <td>155.489</td>\n      <td>176880</td>\n      <td>3</td>\n      <td>33.18083</td>\n      <td>9</td>\n      <td>0</td>\n      <td>2010</td>\n    </tr>\n    <tr>\n      <th>2</th>\n      <td>Love Someone</td>\n      <td>Lukas Graham</td>\n      <td>spotify:track:2JqnpexlO9dmvjUMCaLCLJ</td>\n      <td>0.550</td>\n      <td>0.415</td>\n      <td>9</td>\n      <td>-6.557</td>\n      <td>0</td>\n      <td>0.0520</td>\n      <td>0.16100</td>\n      <td>0.000</td>\n      <td>0.1080</td>\n      <td>0.274</td>\n      <td>172.065</td>\n      <td>205463</td>\n      <td>4</td>\n      <td>44.89147</td>\n      <td>9</td>\n      <td>1</td>\n      <td>2010</td>\n    </tr>\n    <tr>\n      <th>3</th>\n      <td>Music To My Ears (feat. Tory Lanez)</td>\n      <td>Keys N Krates</td>\n      <td>spotify:track:0cjfLhk8WJ3etPTCseKXtk</td>\n      <td>0.502</td>\n      <td>0.648</td>\n      <td>0</td>\n      <td>-5.698</td>\n      <td>0</td>\n      <td>0.0527</td>\n      <td>0.00513</td>\n      <td>0.000</td>\n      <td>0.2040</td>\n      <td>0.291</td>\n      <td>91.837</td>\n      <td>193043</td>\n      <td>4</td>\n      <td>29.52521</td>\n      <td>7</td>\n      <td>0</td>\n      <td>2010</td>\n    </tr>\n    <tr>\n      <th>4</th>\n      <td>Juju On That Beat (TZ Anthem)</td>\n      <td>Zay Hilfigerrr &amp; Zayion McCall</td>\n      <td>spotify:track:1lItf5ZXJc1by9SbPeljFd</td>\n      <td>0.807</td>\n      <td>0.887</td>\n      <td>1</td>\n      <td>-3.892</td>\n      <td>1</td>\n      <td>0.2750</td>\n      <td>0.00381</td>\n      <td>0.000</td>\n      <td>0.3910</td>\n      <td>0.780</td>\n      <td>160.517</td>\n      <td>144244</td>\n      <td>4</td>\n      <td>24.99199</td>\n      <td>8</td>\n      <td>1</td>\n      <td>2010</td>\n    </tr>\n  </tbody>\n</table>\n</div>"
     },
     "metadata": {}
    }
   ]
  },
  {
   "cell_type": "code",
   "metadata": {
    "tags": [],
    "deepnote_to_be_reexecuted": false,
    "source_hash": "29a140c6",
    "execution_start": 1636139555379,
    "execution_millis": 7,
    "cell_id": "00007-dc4cddd5-47ed-49c0-a907-1439230e552b",
    "deepnote_cell_type": "code"
   },
   "source": "# Add custom columns that will be useful later\n\n# Duration of song in seconds\ndata[\"duration_sec\"] = np.round(data[\"duration_ms\"]*(1/1000))\ndata[\"duration_sec\"]\n\n# Loudness of sound (rounded)\ndata[\"loudness_rounded\"] = np.round(data[\"loudness\"])\ndata[\"loudness_rounded\"]",
   "execution_count": 6,
   "outputs": [
    {
     "output_type": "execute_result",
     "execution_count": 6,
     "data": {
      "text/plain": "0        -5.0\n1       -15.0\n2        -7.0\n3        -6.0\n4        -4.0\n         ... \n41101   -12.0\n41102    -6.0\n41103   -23.0\n41104    -8.0\n41105    -8.0\nName: loudness_rounded, Length: 41106, dtype: float64"
     },
     "metadata": {}
    }
   ]
  },
  {
   "cell_type": "code",
   "metadata": {
    "tags": [],
    "deepnote_to_be_reexecuted": false,
    "source_hash": "55d74e6d",
    "execution_start": 1636139555392,
    "execution_millis": 88,
    "is_code_hidden": false,
    "is_output_hidden": false,
    "cell_id": "00025-bca15eb5-e050-48f1-83e8-5621b8f00479",
    "deepnote_cell_type": "code"
   },
   "source": "# Target proportion versus duration in seconds.\nbin_max = data[\"duration_sec\"].max()\nprint(bin_max)\ni = 1\nbin_arr = []\nwhile i * 10 < bin_max+10:\n    bin_arr.append(i*10)\n    i+=1\nprint(bin_arr)\nbins = pd.cut(data['duration_sec'], bin_arr )\ntarget_prop_by_duration = data.groupby(bins)['target'].agg([\"mean\", \"count\"]).reset_index().dropna()\n#target_prop_by_duration\n\ntarget_prop_by_duration_sliced = target_prop_by_duration[:82]\ntarget_prop_by_duration_sliced.insert(0, 'ds_int', range(1, 1+ len(target_prop_by_duration_sliced)))\ntarget_prop_by_duration_sliced[\"ds_int\"] = target_prop_by_duration_sliced[\"ds_int\"] *10\ntarget_prop_by_duration_sliced",
   "execution_count": 7,
   "outputs": [
    {
     "name": "stdout",
     "text": "4170.0\n[10, 20, 30, 40, 50, 60, 70, 80, 90, 100, 110, 120, 130, 140, 150, 160, 170, 180, 190, 200, 210, 220, 230, 240, 250, 260, 270, 280, 290, 300, 310, 320, 330, 340, 350, 360, 370, 380, 390, 400, 410, 420, 430, 440, 450, 460, 470, 480, 490, 500, 510, 520, 530, 540, 550, 560, 570, 580, 590, 600, 610, 620, 630, 640, 650, 660, 670, 680, 690, 700, 710, 720, 730, 740, 750, 760, 770, 780, 790, 800, 810, 820, 830, 840, 850, 860, 870, 880, 890, 900, 910, 920, 930, 940, 950, 960, 970, 980, 990, 1000, 1010, 1020, 1030, 1040, 1050, 1060, 1070, 1080, 1090, 1100, 1110, 1120, 1130, 1140, 1150, 1160, 1170, 1180, 1190, 1200, 1210, 1220, 1230, 1240, 1250, 1260, 1270, 1280, 1290, 1300, 1310, 1320, 1330, 1340, 1350, 1360, 1370, 1380, 1390, 1400, 1410, 1420, 1430, 1440, 1450, 1460, 1470, 1480, 1490, 1500, 1510, 1520, 1530, 1540, 1550, 1560, 1570, 1580, 1590, 1600, 1610, 1620, 1630, 1640, 1650, 1660, 1670, 1680, 1690, 1700, 1710, 1720, 1730, 1740, 1750, 1760, 1770, 1780, 1790, 1800, 1810, 1820, 1830, 1840, 1850, 1860, 1870, 1880, 1890, 1900, 1910, 1920, 1930, 1940, 1950, 1960, 1970, 1980, 1990, 2000, 2010, 2020, 2030, 2040, 2050, 2060, 2070, 2080, 2090, 2100, 2110, 2120, 2130, 2140, 2150, 2160, 2170, 2180, 2190, 2200, 2210, 2220, 2230, 2240, 2250, 2260, 2270, 2280, 2290, 2300, 2310, 2320, 2330, 2340, 2350, 2360, 2370, 2380, 2390, 2400, 2410, 2420, 2430, 2440, 2450, 2460, 2470, 2480, 2490, 2500, 2510, 2520, 2530, 2540, 2550, 2560, 2570, 2580, 2590, 2600, 2610, 2620, 2630, 2640, 2650, 2660, 2670, 2680, 2690, 2700, 2710, 2720, 2730, 2740, 2750, 2760, 2770, 2780, 2790, 2800, 2810, 2820, 2830, 2840, 2850, 2860, 2870, 2880, 2890, 2900, 2910, 2920, 2930, 2940, 2950, 2960, 2970, 2980, 2990, 3000, 3010, 3020, 3030, 3040, 3050, 3060, 3070, 3080, 3090, 3100, 3110, 3120, 3130, 3140, 3150, 3160, 3170, 3180, 3190, 3200, 3210, 3220, 3230, 3240, 3250, 3260, 3270, 3280, 3290, 3300, 3310, 3320, 3330, 3340, 3350, 3360, 3370, 3380, 3390, 3400, 3410, 3420, 3430, 3440, 3450, 3460, 3470, 3480, 3490, 3500, 3510, 3520, 3530, 3540, 3550, 3560, 3570, 3580, 3590, 3600, 3610, 3620, 3630, 3640, 3650, 3660, 3670, 3680, 3690, 3700, 3710, 3720, 3730, 3740, 3750, 3760, 3770, 3780, 3790, 3800, 3810, 3820, 3830, 3840, 3850, 3860, 3870, 3880, 3890, 3900, 3910, 3920, 3930, 3940, 3950, 3960, 3970, 3980, 3990, 4000, 4010, 4020, 4030, 4040, 4050, 4060, 4070, 4080, 4090, 4100, 4110, 4120, 4130, 4140, 4150, 4160, 4170]\n",
     "output_type": "stream"
    },
    {
     "output_type": "execute_result",
     "execution_count": 7,
     "data": {
      "application/vnd.deepnote.dataframe.v2+json": {
       "row_count": 82,
       "column_count": 4,
       "columns": [
        {
         "name": "ds_int",
         "dtype": "int64",
         "stats": {
          "unique_count": 82,
          "nan_count": 0,
          "min": "10",
          "max": "820",
          "histogram": [
           {
            "bin_start": 10,
            "bin_end": 91,
            "count": 9
           },
           {
            "bin_start": 91,
            "bin_end": 172,
            "count": 8
           },
           {
            "bin_start": 172,
            "bin_end": 253,
            "count": 8
           },
           {
            "bin_start": 253,
            "bin_end": 334,
            "count": 8
           },
           {
            "bin_start": 334,
            "bin_end": 415,
            "count": 8
           },
           {
            "bin_start": 415,
            "bin_end": 496,
            "count": 8
           },
           {
            "bin_start": 496,
            "bin_end": 577,
            "count": 8
           },
           {
            "bin_start": 577,
            "bin_end": 658,
            "count": 8
           },
           {
            "bin_start": 658,
            "bin_end": 739,
            "count": 8
           },
           {
            "bin_start": 739,
            "bin_end": 820,
            "count": 9
           }
          ]
         }
        },
        {
         "name": "duration_sec",
         "dtype": "category",
         "stats": {
          "unique_count": 82,
          "nan_count": 0,
          "categories": [
           {
            "name": "(10, 20]",
            "count": 1
           },
           {
            "name": "(20, 30]",
            "count": 1
           },
           {
            "name": "80 others",
            "count": 80
           }
          ]
         }
        },
        {
         "name": "mean",
         "dtype": "float64",
         "stats": {
          "unique_count": 65,
          "nan_count": 0,
          "min": "0.0",
          "max": "0.6476480836236934",
          "histogram": [
           {
            "bin_start": 0,
            "bin_end": 0.06476480836236934,
            "count": 25
           },
           {
            "bin_start": 0.06476480836236934,
            "bin_end": 0.12952961672473867,
            "count": 11
           },
           {
            "bin_start": 0.12952961672473867,
            "bin_end": 0.194294425087108,
            "count": 9
           },
           {
            "bin_start": 0.194294425087108,
            "bin_end": 0.25905923344947734,
            "count": 6
           },
           {
            "bin_start": 0.25905923344947734,
            "bin_end": 0.32382404181184665,
            "count": 7
           },
           {
            "bin_start": 0.32382404181184665,
            "bin_end": 0.388588850174216,
            "count": 2
           },
           {
            "bin_start": 0.388588850174216,
            "bin_end": 0.4533536585365854,
            "count": 4
           },
           {
            "bin_start": 0.4533536585365854,
            "bin_end": 0.5181184668989547,
            "count": 4
           },
           {
            "bin_start": 0.5181184668989547,
            "bin_end": 0.582883275261324,
            "count": 7
           },
           {
            "bin_start": 0.582883275261324,
            "bin_end": 0.6476480836236934,
            "count": 7
           }
          ]
         }
        },
        {
         "name": "count",
         "dtype": "int64",
         "stats": {
          "unique_count": 70,
          "nan_count": 0,
          "min": "3",
          "max": "2607",
          "histogram": [
           {
            "bin_start": 3,
            "bin_end": 263.4,
            "count": 54
           },
           {
            "bin_start": 263.4,
            "bin_end": 523.8,
            "count": 6
           },
           {
            "bin_start": 523.8,
            "bin_end": 784.1999999999999,
            "count": 4
           },
           {
            "bin_start": 784.1999999999999,
            "bin_end": 1044.6,
            "count": 2
           },
           {
            "bin_start": 1044.6,
            "bin_end": 1305,
            "count": 2
           },
           {
            "bin_start": 1305,
            "bin_end": 1565.3999999999999,
            "count": 2
           },
           {
            "bin_start": 1565.3999999999999,
            "bin_end": 1825.7999999999997,
            "count": 1
           },
           {
            "bin_start": 1825.7999999999997,
            "bin_end": 2086.2,
            "count": 4
           },
           {
            "bin_start": 2086.2,
            "bin_end": 2346.6,
            "count": 4
           },
           {
            "bin_start": 2346.6,
            "bin_end": 2607,
            "count": 3
           }
          ]
         }
        },
        {
         "name": "_deepnote_index_column",
         "dtype": "int64"
        }
       ],
       "rows_top": [
        {
         "ds_int": 10,
         "duration_sec": "(10, 20]",
         "mean": 0,
         "count": 5,
         "_deepnote_index_column": 0
        },
        {
         "ds_int": 20,
         "duration_sec": "(20, 30]",
         "mean": 0,
         "count": 30,
         "_deepnote_index_column": 1
        },
        {
         "ds_int": 30,
         "duration_sec": "(30, 40]",
         "mean": 0,
         "count": 63,
         "_deepnote_index_column": 2
        },
        {
         "ds_int": 40,
         "duration_sec": "(40, 50]",
         "mean": 0.0125,
         "count": 80,
         "_deepnote_index_column": 3
        },
        {
         "ds_int": 50,
         "duration_sec": "(50, 60]",
         "mean": 0.008849557522123894,
         "count": 113,
         "_deepnote_index_column": 4
        },
        {
         "ds_int": 60,
         "duration_sec": "(60, 70]",
         "mean": 0.006493506493506494,
         "count": 154,
         "_deepnote_index_column": 5
        },
        {
         "ds_int": 70,
         "duration_sec": "(70, 80]",
         "mean": 0.025510204081632654,
         "count": 196,
         "_deepnote_index_column": 6
        },
        {
         "ds_int": 80,
         "duration_sec": "(80, 90]",
         "mean": 0.02702702702702703,
         "count": 222,
         "_deepnote_index_column": 7
        },
        {
         "ds_int": 90,
         "duration_sec": "(90, 100]",
         "mean": 0.05319148936170213,
         "count": 282,
         "_deepnote_index_column": 8
        },
        {
         "ds_int": 100,
         "duration_sec": "(100, 110]",
         "mean": 0.1111111111111111,
         "count": 360,
         "_deepnote_index_column": 9
        },
        {
         "ds_int": 110,
         "duration_sec": "(110, 120]",
         "mean": 0.29120879120879123,
         "count": 546,
         "_deepnote_index_column": 10
        },
        {
         "ds_int": 120,
         "duration_sec": "(120, 130]",
         "mean": 0.40408626560726446,
         "count": 881,
         "_deepnote_index_column": 11
        },
        {
         "ds_int": 130,
         "duration_sec": "(130, 140]",
         "mean": 0.44086886564762673,
         "count": 1243,
         "_deepnote_index_column": 12
        },
        {
         "ds_int": 140,
         "duration_sec": "(140, 150]",
         "mean": 0.4842689697717458,
         "count": 1621,
         "_deepnote_index_column": 13
        },
        {
         "ds_int": 150,
         "duration_sec": "(150, 160]",
         "mean": 0.49949031600407745,
         "count": 1962,
         "_deepnote_index_column": 14
        },
        {
         "ds_int": 160,
         "duration_sec": "(160, 170]",
         "mean": 0.5,
         "count": 2032,
         "_deepnote_index_column": 15
        },
        {
         "ds_int": 170,
         "duration_sec": "(170, 180]",
         "mean": 0.5206847360912982,
         "count": 2103,
         "_deepnote_index_column": 16
        },
        {
         "ds_int": 180,
         "duration_sec": "(180, 190]",
         "mean": 0.5194264569842738,
         "count": 2162,
         "_deepnote_index_column": 17
        },
        {
         "ds_int": 190,
         "duration_sec": "(190, 200]",
         "mean": 0.5502283105022832,
         "count": 2190,
         "_deepnote_index_column": 18
        },
        {
         "ds_int": 200,
         "duration_sec": "(200, 210]",
         "mean": 0.583616298811545,
         "count": 2356,
         "_deepnote_index_column": 19
        },
        {
         "ds_int": 210,
         "duration_sec": "(210, 220]",
         "mean": 0.6033755274261603,
         "count": 2607,
         "_deepnote_index_column": 20
        },
        {
         "ds_int": 220,
         "duration_sec": "(220, 230]",
         "mean": 0.619381443298969,
         "count": 2425,
         "_deepnote_index_column": 21
        },
        {
         "ds_int": 230,
         "duration_sec": "(230, 240]",
         "mean": 0.6476480836236934,
         "count": 2296,
         "_deepnote_index_column": 22
        },
        {
         "ds_int": 240,
         "duration_sec": "(240, 250]",
         "mean": 0.6264478764478765,
         "count": 2072,
         "_deepnote_index_column": 23
        },
        {
         "ds_int": 250,
         "duration_sec": "(250, 260]",
         "mean": 0.603476371537208,
         "count": 1841,
         "_deepnote_index_column": 24
        },
        {
         "ds_int": 260,
         "duration_sec": "(260, 270]",
         "mean": 0.5863213811420983,
         "count": 1506,
         "_deepnote_index_column": 25
        },
        {
         "ds_int": 270,
         "duration_sec": "(270, 280]",
         "mean": 0.5763993948562783,
         "count": 1322,
         "_deepnote_index_column": 26
        },
        {
         "ds_int": 280,
         "duration_sec": "(280, 290]",
         "mean": 0.5499139414802066,
         "count": 1162,
         "_deepnote_index_column": 27
        },
        {
         "ds_int": 290,
         "duration_sec": "(290, 300]",
         "mean": 0.5455497382198953,
         "count": 955,
         "_deepnote_index_column": 28
        },
        {
         "ds_int": 300,
         "duration_sec": "(300, 310]",
         "mean": 0.5227568270481144,
         "count": 769,
         "_deepnote_index_column": 29
        },
        {
         "ds_int": 310,
         "duration_sec": "(310, 320]",
         "mean": 0.4896449704142012,
         "count": 676,
         "_deepnote_index_column": 30
        },
        {
         "ds_int": 320,
         "duration_sec": "(320, 330]",
         "mean": 0.4211469534050179,
         "count": 558,
         "_deepnote_index_column": 31
        },
        {
         "ds_int": 330,
         "duration_sec": "(330, 340]",
         "mean": 0.415506958250497,
         "count": 503,
         "_deepnote_index_column": 32
        },
        {
         "ds_int": 340,
         "duration_sec": "(340, 350]",
         "mean": 0.351288056206089,
         "count": 427,
         "_deepnote_index_column": 33
        },
        {
         "ds_int": 350,
         "duration_sec": "(350, 360]",
         "mean": 0.3560830860534125,
         "count": 337,
         "_deepnote_index_column": 34
        },
        {
         "ds_int": 360,
         "duration_sec": "(360, 370]",
         "mean": 0.2962962962962963,
         "count": 270,
         "_deepnote_index_column": 35
        },
        {
         "ds_int": 370,
         "duration_sec": "(370, 380]",
         "mean": 0.3172690763052209,
         "count": 249,
         "_deepnote_index_column": 36
        },
        {
         "ds_int": 380,
         "duration_sec": "(380, 390]",
         "mean": 0.30042918454935624,
         "count": 233,
         "_deepnote_index_column": 37
        },
        {
         "ds_int": 390,
         "duration_sec": "(390, 400]",
         "mean": 0.27102803738317754,
         "count": 214,
         "_deepnote_index_column": 38
        },
        {
         "ds_int": 400,
         "duration_sec": "(400, 410]",
         "mean": 0.24736842105263157,
         "count": 190,
         "_deepnote_index_column": 39
        },
        {
         "ds_int": 410,
         "duration_sec": "(410, 420]",
         "mean": 0.17857142857142858,
         "count": 168,
         "_deepnote_index_column": 40
        },
        {
         "ds_int": 420,
         "duration_sec": "(420, 430]",
         "mean": 0.1875,
         "count": 160,
         "_deepnote_index_column": 41
        },
        {
         "ds_int": 430,
         "duration_sec": "(430, 440]",
         "mean": 0.27692307692307694,
         "count": 130,
         "_deepnote_index_column": 42
        },
        {
         "ds_int": 440,
         "duration_sec": "(440, 450]",
         "mean": 0.17647058823529413,
         "count": 136,
         "_deepnote_index_column": 43
        },
        {
         "ds_int": 450,
         "duration_sec": "(450, 460]",
         "mean": 0.2903225806451613,
         "count": 93,
         "_deepnote_index_column": 44
        },
        {
         "ds_int": 460,
         "duration_sec": "(460, 470]",
         "mean": 0.16666666666666666,
         "count": 96,
         "_deepnote_index_column": 45
        },
        {
         "ds_int": 470,
         "duration_sec": "(470, 480]",
         "mean": 0.16176470588235295,
         "count": 68,
         "_deepnote_index_column": 46
        },
        {
         "ds_int": 480,
         "duration_sec": "(480, 490]",
         "mean": 0.17073170731707318,
         "count": 82,
         "_deepnote_index_column": 47
        },
        {
         "ds_int": 490,
         "duration_sec": "(490, 500]",
         "mean": 0.17142857142857143,
         "count": 70,
         "_deepnote_index_column": 48
        },
        {
         "ds_int": 500,
         "duration_sec": "(500, 510]",
         "mean": 0.22916666666666666,
         "count": 48,
         "_deepnote_index_column": 49
        },
        {
         "ds_int": 510,
         "duration_sec": "(510, 520]",
         "mean": 0.14285714285714285,
         "count": 42,
         "_deepnote_index_column": 50
        },
        {
         "ds_int": 520,
         "duration_sec": "(520, 530]",
         "mean": 0.2,
         "count": 50,
         "_deepnote_index_column": 51
        },
        {
         "ds_int": 530,
         "duration_sec": "(530, 540]",
         "mean": 0.1956521739130435,
         "count": 46,
         "_deepnote_index_column": 52
        },
        {
         "ds_int": 540,
         "duration_sec": "(540, 550]",
         "mean": 0.09523809523809523,
         "count": 42,
         "_deepnote_index_column": 53
        },
        {
         "ds_int": 550,
         "duration_sec": "(550, 560]",
         "mean": 0.15625,
         "count": 32,
         "_deepnote_index_column": 54
        },
        {
         "ds_int": 560,
         "duration_sec": "(560, 570]",
         "mean": 0.1,
         "count": 30,
         "_deepnote_index_column": 55
        },
        {
         "ds_int": 570,
         "duration_sec": "(570, 580]",
         "mean": 0.045454545454545456,
         "count": 22,
         "_deepnote_index_column": 56
        },
        {
         "ds_int": 580,
         "duration_sec": "(580, 590]",
         "mean": 0.10526315789473684,
         "count": 38,
         "_deepnote_index_column": 57
        },
        {
         "ds_int": 590,
         "duration_sec": "(590, 600]",
         "mean": 0.1111111111111111,
         "count": 36,
         "_deepnote_index_column": 58
        },
        {
         "ds_int": 600,
         "duration_sec": "(600, 610]",
         "mean": 0,
         "count": 25,
         "_deepnote_index_column": 59
        },
        {
         "ds_int": 610,
         "duration_sec": "(610, 620]",
         "mean": 0.12903225806451613,
         "count": 31,
         "_deepnote_index_column": 60
        },
        {
         "ds_int": 620,
         "duration_sec": "(620, 630]",
         "mean": 0.07692307692307693,
         "count": 26,
         "_deepnote_index_column": 61
        },
        {
         "ds_int": 630,
         "duration_sec": "(630, 640]",
         "mean": 0.043478260869565216,
         "count": 23,
         "_deepnote_index_column": 62
        },
        {
         "ds_int": 640,
         "duration_sec": "(640, 650]",
         "mean": 0.09523809523809523,
         "count": 21,
         "_deepnote_index_column": 63
        },
        {
         "ds_int": 650,
         "duration_sec": "(650, 660]",
         "mean": 0.058823529411764705,
         "count": 17,
         "_deepnote_index_column": 64
        },
        {
         "ds_int": 660,
         "duration_sec": "(660, 670]",
         "mean": 0.23529411764705882,
         "count": 17,
         "_deepnote_index_column": 65
        },
        {
         "ds_int": 670,
         "duration_sec": "(670, 680]",
         "mean": 0.2222222222222222,
         "count": 9,
         "_deepnote_index_column": 66
        },
        {
         "ds_int": 680,
         "duration_sec": "(680, 690]",
         "mean": 0.09090909090909091,
         "count": 11,
         "_deepnote_index_column": 67
        },
        {
         "ds_int": 690,
         "duration_sec": "(690, 700]",
         "mean": 0,
         "count": 12,
         "_deepnote_index_column": 68
        },
        {
         "ds_int": 700,
         "duration_sec": "(700, 710]",
         "mean": 0,
         "count": 22,
         "_deepnote_index_column": 69
        },
        {
         "ds_int": 710,
         "duration_sec": "(710, 720]",
         "mean": 0,
         "count": 5,
         "_deepnote_index_column": 70
        },
        {
         "ds_int": 720,
         "duration_sec": "(720, 730]",
         "mean": 0,
         "count": 13,
         "_deepnote_index_column": 71
        },
        {
         "ds_int": 730,
         "duration_sec": "(730, 740]",
         "mean": 0.09090909090909091,
         "count": 11,
         "_deepnote_index_column": 72
        },
        {
         "ds_int": 740,
         "duration_sec": "(740, 750]",
         "mean": 0.0625,
         "count": 16,
         "_deepnote_index_column": 73
        },
        {
         "ds_int": 750,
         "duration_sec": "(750, 760]",
         "mean": 0,
         "count": 7,
         "_deepnote_index_column": 74
        },
        {
         "ds_int": 760,
         "duration_sec": "(760, 770]",
         "mean": 0,
         "count": 9,
         "_deepnote_index_column": 75
        },
        {
         "ds_int": 770,
         "duration_sec": "(770, 780]",
         "mean": 0,
         "count": 3,
         "_deepnote_index_column": 76
        },
        {
         "ds_int": 780,
         "duration_sec": "(780, 790]",
         "mean": 0,
         "count": 7,
         "_deepnote_index_column": 77
        },
        {
         "ds_int": 790,
         "duration_sec": "(790, 800]",
         "mean": 0,
         "count": 5,
         "_deepnote_index_column": 78
        },
        {
         "ds_int": 800,
         "duration_sec": "(800, 810]",
         "mean": 0,
         "count": 3,
         "_deepnote_index_column": 79
        },
        {
         "ds_int": 810,
         "duration_sec": "(810, 820]",
         "mean": 0,
         "count": 7,
         "_deepnote_index_column": 80
        },
        {
         "ds_int": 820,
         "duration_sec": "(820, 830]",
         "mean": 0.08333333333333333,
         "count": 12,
         "_deepnote_index_column": 81
        }
       ],
       "rows_bottom": null
      },
      "text/plain": "    ds_int duration_sec      mean  count\n0       10     (10, 20]  0.000000      5\n1       20     (20, 30]  0.000000     30\n2       30     (30, 40]  0.000000     63\n3       40     (40, 50]  0.012500     80\n4       50     (50, 60]  0.008850    113\n..     ...          ...       ...    ...\n77     780   (780, 790]  0.000000      7\n78     790   (790, 800]  0.000000      5\n79     800   (800, 810]  0.000000      3\n80     810   (810, 820]  0.000000      7\n81     820   (820, 830]  0.083333     12\n\n[82 rows x 4 columns]",
      "text/html": "<div>\n<style scoped>\n    .dataframe tbody tr th:only-of-type {\n        vertical-align: middle;\n    }\n\n    .dataframe tbody tr th {\n        vertical-align: top;\n    }\n\n    .dataframe thead th {\n        text-align: right;\n    }\n</style>\n<table border=\"1\" class=\"dataframe\">\n  <thead>\n    <tr style=\"text-align: right;\">\n      <th></th>\n      <th>ds_int</th>\n      <th>duration_sec</th>\n      <th>mean</th>\n      <th>count</th>\n    </tr>\n  </thead>\n  <tbody>\n    <tr>\n      <th>0</th>\n      <td>10</td>\n      <td>(10, 20]</td>\n      <td>0.000000</td>\n      <td>5</td>\n    </tr>\n    <tr>\n      <th>1</th>\n      <td>20</td>\n      <td>(20, 30]</td>\n      <td>0.000000</td>\n      <td>30</td>\n    </tr>\n    <tr>\n      <th>2</th>\n      <td>30</td>\n      <td>(30, 40]</td>\n      <td>0.000000</td>\n      <td>63</td>\n    </tr>\n    <tr>\n      <th>3</th>\n      <td>40</td>\n      <td>(40, 50]</td>\n      <td>0.012500</td>\n      <td>80</td>\n    </tr>\n    <tr>\n      <th>4</th>\n      <td>50</td>\n      <td>(50, 60]</td>\n      <td>0.008850</td>\n      <td>113</td>\n    </tr>\n    <tr>\n      <th>...</th>\n      <td>...</td>\n      <td>...</td>\n      <td>...</td>\n      <td>...</td>\n    </tr>\n    <tr>\n      <th>77</th>\n      <td>780</td>\n      <td>(780, 790]</td>\n      <td>0.000000</td>\n      <td>7</td>\n    </tr>\n    <tr>\n      <th>78</th>\n      <td>790</td>\n      <td>(790, 800]</td>\n      <td>0.000000</td>\n      <td>5</td>\n    </tr>\n    <tr>\n      <th>79</th>\n      <td>800</td>\n      <td>(800, 810]</td>\n      <td>0.000000</td>\n      <td>3</td>\n    </tr>\n    <tr>\n      <th>80</th>\n      <td>810</td>\n      <td>(810, 820]</td>\n      <td>0.000000</td>\n      <td>7</td>\n    </tr>\n    <tr>\n      <th>81</th>\n      <td>820</td>\n      <td>(820, 830]</td>\n      <td>0.083333</td>\n      <td>12</td>\n    </tr>\n  </tbody>\n</table>\n<p>82 rows × 4 columns</p>\n</div>"
     },
     "metadata": {}
    }
   ]
  },
  {
   "cell_type": "code",
   "metadata": {
    "tags": [],
    "deepnote_to_be_reexecuted": false,
    "source_hash": "361dadb7",
    "is_code_hidden": false,
    "is_output_hidden": false,
    "allow_embed": false,
    "execution_start": 1636139555484,
    "execution_millis": 61,
    "cell_id": "00026-c7bd2dc4-1dca-453d-8043-6fdb8571208a",
    "deepnote_cell_type": "code"
   },
   "source": "#Target proportion vs energy\ni = 0\nbin_arr_energy = []\nwhile i <= 100:\n    bin_arr_energy.append(i/100)\n    i+=1\nprint(bin_arr_energy)\nbins_energy = pd.cut(data['energy'], bin_arr_energy)\ntarget_prop_by_energy = data.groupby(bins_energy)['target'].agg([\"mean\", \"count\"]).reset_index().dropna()\n#target_prop_by_energy = target_prop_by_energy.loc[target_prop_by_energy['count'] > 10]\ntarget_prop_by_energy.insert(0, 'en_int', range(0, 100))\ntarget_prop_by_energy[\"en_int\"] = target_prop_by_energy[\"en_int\"] / 100\ntarget_prop_by_energy\n",
   "execution_count": 8,
   "outputs": [
    {
     "name": "stdout",
     "text": "[0.0, 0.01, 0.02, 0.03, 0.04, 0.05, 0.06, 0.07, 0.08, 0.09, 0.1, 0.11, 0.12, 0.13, 0.14, 0.15, 0.16, 0.17, 0.18, 0.19, 0.2, 0.21, 0.22, 0.23, 0.24, 0.25, 0.26, 0.27, 0.28, 0.29, 0.3, 0.31, 0.32, 0.33, 0.34, 0.35, 0.36, 0.37, 0.38, 0.39, 0.4, 0.41, 0.42, 0.43, 0.44, 0.45, 0.46, 0.47, 0.48, 0.49, 0.5, 0.51, 0.52, 0.53, 0.54, 0.55, 0.56, 0.57, 0.58, 0.59, 0.6, 0.61, 0.62, 0.63, 0.64, 0.65, 0.66, 0.67, 0.68, 0.69, 0.7, 0.71, 0.72, 0.73, 0.74, 0.75, 0.76, 0.77, 0.78, 0.79, 0.8, 0.81, 0.82, 0.83, 0.84, 0.85, 0.86, 0.87, 0.88, 0.89, 0.9, 0.91, 0.92, 0.93, 0.94, 0.95, 0.96, 0.97, 0.98, 0.99, 1.0]\n",
     "output_type": "stream"
    },
    {
     "output_type": "execute_result",
     "execution_count": 8,
     "data": {
      "application/vnd.deepnote.dataframe.v2+json": {
       "row_count": 100,
       "column_count": 4,
       "columns": [
        {
         "name": "en_int",
         "dtype": "float64",
         "stats": {
          "unique_count": 100,
          "nan_count": 0,
          "min": "0.0",
          "max": "0.99",
          "histogram": [
           {
            "bin_start": 0,
            "bin_end": 0.099,
            "count": 10
           },
           {
            "bin_start": 0.099,
            "bin_end": 0.198,
            "count": 10
           },
           {
            "bin_start": 0.198,
            "bin_end": 0.29700000000000004,
            "count": 10
           },
           {
            "bin_start": 0.29700000000000004,
            "bin_end": 0.396,
            "count": 10
           },
           {
            "bin_start": 0.396,
            "bin_end": 0.495,
            "count": 10
           },
           {
            "bin_start": 0.495,
            "bin_end": 0.5940000000000001,
            "count": 10
           },
           {
            "bin_start": 0.5940000000000001,
            "bin_end": 0.6930000000000001,
            "count": 10
           },
           {
            "bin_start": 0.6930000000000001,
            "bin_end": 0.792,
            "count": 10
           },
           {
            "bin_start": 0.792,
            "bin_end": 0.891,
            "count": 10
           },
           {
            "bin_start": 0.891,
            "bin_end": 0.99,
            "count": 10
           }
          ]
         }
        },
        {
         "name": "energy",
         "dtype": "category",
         "stats": {
          "unique_count": 100,
          "nan_count": 0,
          "categories": [
           {
            "name": "(0.0, 0.01]",
            "count": 1
           },
           {
            "name": "(0.01, 0.02]",
            "count": 1
           },
           {
            "name": "98 others",
            "count": 98
           }
          ]
         }
        },
        {
         "name": "mean",
         "dtype": "float64",
         "stats": {
          "unique_count": 100,
          "nan_count": 0,
          "min": "0.0",
          "max": "0.7",
          "histogram": [
           {
            "bin_start": 0,
            "bin_end": 0.06999999999999999,
            "count": 8
           },
           {
            "bin_start": 0.06999999999999999,
            "bin_end": 0.13999999999999999,
            "count": 7
           },
           {
            "bin_start": 0.13999999999999999,
            "bin_end": 0.20999999999999996,
            "count": 5
           },
           {
            "bin_start": 0.20999999999999996,
            "bin_end": 0.27999999999999997,
            "count": 8
           },
           {
            "bin_start": 0.27999999999999997,
            "bin_end": 0.35,
            "count": 4
           },
           {
            "bin_start": 0.35,
            "bin_end": 0.41999999999999993,
            "count": 7
           },
           {
            "bin_start": 0.41999999999999993,
            "bin_end": 0.48999999999999994,
            "count": 10
           },
           {
            "bin_start": 0.48999999999999994,
            "bin_end": 0.5599999999999999,
            "count": 8
           },
           {
            "bin_start": 0.5599999999999999,
            "bin_end": 0.6299999999999999,
            "count": 25
           },
           {
            "bin_start": 0.6299999999999999,
            "bin_end": 0.7,
            "count": 18
           }
          ]
         }
        },
        {
         "name": "count",
         "dtype": "int64",
         "stats": {
          "unique_count": 88,
          "nan_count": 0,
          "min": "126",
          "max": "658",
          "histogram": [
           {
            "bin_start": 126,
            "bin_end": 179.2,
            "count": 9
           },
           {
            "bin_start": 179.2,
            "bin_end": 232.4,
            "count": 9
           },
           {
            "bin_start": 232.4,
            "bin_end": 285.6,
            "count": 7
           },
           {
            "bin_start": 285.6,
            "bin_end": 338.8,
            "count": 5
           },
           {
            "bin_start": 338.8,
            "bin_end": 392,
            "count": 6
           },
           {
            "bin_start": 392,
            "bin_end": 445.20000000000005,
            "count": 11
           },
           {
            "bin_start": 445.20000000000005,
            "bin_end": 498.40000000000003,
            "count": 14
           },
           {
            "bin_start": 498.40000000000003,
            "bin_end": 551.6,
            "count": 26
           },
           {
            "bin_start": 551.6,
            "bin_end": 604.8,
            "count": 11
           },
           {
            "bin_start": 604.8,
            "bin_end": 658,
            "count": 2
           }
          ]
         }
        },
        {
         "name": "_deepnote_index_column",
         "dtype": "int64"
        }
       ],
       "rows_top": [
        {
         "en_int": 0,
         "energy": "(0.0, 0.01]",
         "mean": 0,
         "count": 202,
         "_deepnote_index_column": 0
        },
        {
         "en_int": 0.01,
         "energy": "(0.01, 0.02]",
         "mean": 0.007936507936507936,
         "count": 126,
         "_deepnote_index_column": 1
        },
        {
         "en_int": 0.02,
         "energy": "(0.02, 0.03]",
         "mean": 0.06748466257668712,
         "count": 163,
         "_deepnote_index_column": 2
        },
        {
         "en_int": 0.03,
         "energy": "(0.03, 0.04]",
         "mean": 0.02531645569620253,
         "count": 158,
         "_deepnote_index_column": 3
        },
        {
         "en_int": 0.04,
         "energy": "(0.04, 0.05]",
         "mean": 0.03409090909090909,
         "count": 176,
         "_deepnote_index_column": 4
        },
        {
         "en_int": 0.05,
         "energy": "(0.05, 0.06]",
         "mean": 0.025477707006369428,
         "count": 157,
         "_deepnote_index_column": 5
        },
        {
         "en_int": 0.06,
         "energy": "(0.06, 0.07]",
         "mean": 0.0784313725490196,
         "count": 153,
         "_deepnote_index_column": 6
        },
        {
         "en_int": 0.07,
         "energy": "(0.07, 0.08]",
         "mean": 0.06395348837209303,
         "count": 172,
         "_deepnote_index_column": 7
        },
        {
         "en_int": 0.08,
         "energy": "(0.08, 0.09]",
         "mean": 0.07333333333333333,
         "count": 150,
         "_deepnote_index_column": 8
        },
        {
         "en_int": 0.09,
         "energy": "(0.09, 0.1]",
         "mean": 0.0821256038647343,
         "count": 207,
         "_deepnote_index_column": 9
        },
        {
         "en_int": 0.1,
         "energy": "(0.1, 0.11]",
         "mean": 0.05421686746987952,
         "count": 166,
         "_deepnote_index_column": 10
        },
        {
         "en_int": 0.11,
         "energy": "(0.11, 0.12]",
         "mean": 0.09947643979057591,
         "count": 191,
         "_deepnote_index_column": 11
        },
        {
         "en_int": 0.12,
         "energy": "(0.12, 0.13]",
         "mean": 0.1308411214953271,
         "count": 214,
         "_deepnote_index_column": 12
        },
        {
         "en_int": 0.13,
         "energy": "(0.13, 0.14]",
         "mean": 0.15023474178403756,
         "count": 213,
         "_deepnote_index_column": 13
        },
        {
         "en_int": 0.14,
         "energy": "(0.14, 0.15]",
         "mean": 0.16230366492146597,
         "count": 191,
         "_deepnote_index_column": 14
        },
        {
         "en_int": 0.15,
         "energy": "(0.15, 0.16]",
         "mean": 0.16666666666666666,
         "count": 204,
         "_deepnote_index_column": 15
        },
        {
         "en_int": 0.16,
         "energy": "(0.16, 0.17]",
         "mean": 0.21428571428571427,
         "count": 182,
         "_deepnote_index_column": 16
        },
        {
         "en_int": 0.17,
         "energy": "(0.17, 0.18]",
         "mean": 0.1728395061728395,
         "count": 243,
         "_deepnote_index_column": 17
        },
        {
         "en_int": 0.18,
         "energy": "(0.18, 0.19]",
         "mean": 0.23553719008264462,
         "count": 242,
         "_deepnote_index_column": 18
        },
        {
         "en_int": 0.19,
         "energy": "(0.19, 0.2]",
         "mean": 0.21030042918454936,
         "count": 233,
         "_deepnote_index_column": 19
        },
        {
         "en_int": 0.2,
         "energy": "(0.2, 0.21]",
         "mean": 0.2599118942731278,
         "count": 227,
         "_deepnote_index_column": 20
        },
        {
         "en_int": 0.21,
         "energy": "(0.21, 0.22]",
         "mean": 0.25793650793650796,
         "count": 252,
         "_deepnote_index_column": 21
        },
        {
         "en_int": 0.22,
         "energy": "(0.22, 0.23]",
         "mean": 0.25925925925925924,
         "count": 270,
         "_deepnote_index_column": 22
        },
        {
         "en_int": 0.23,
         "energy": "(0.23, 0.24]",
         "mean": 0.27715355805243447,
         "count": 267,
         "_deepnote_index_column": 23
        },
        {
         "en_int": 0.24,
         "energy": "(0.24, 0.25]",
         "mean": 0.2964426877470356,
         "count": 253,
         "_deepnote_index_column": 24
        },
        {
         "en_int": 0.25,
         "energy": "(0.25, 0.26]",
         "mean": 0.35294117647058826,
         "count": 289,
         "_deepnote_index_column": 25
        },
        {
         "en_int": 0.26,
         "energy": "(0.26, 0.27]",
         "mean": 0.2826086956521739,
         "count": 322,
         "_deepnote_index_column": 26
        },
        {
         "en_int": 0.27,
         "energy": "(0.27, 0.28]",
         "mean": 0.3890675241157556,
         "count": 311,
         "_deepnote_index_column": 27
        },
        {
         "en_int": 0.28,
         "energy": "(0.28, 0.29]",
         "mean": 0.3782051282051282,
         "count": 312,
         "_deepnote_index_column": 28
        },
        {
         "en_int": 0.29,
         "energy": "(0.29, 0.3]",
         "mean": 0.3688760806916426,
         "count": 347,
         "_deepnote_index_column": 29
        },
        {
         "en_int": 0.3,
         "energy": "(0.3, 0.31]",
         "mean": 0.42058823529411765,
         "count": 340,
         "_deepnote_index_column": 30
        },
        {
         "en_int": 0.31,
         "energy": "(0.31, 0.32]",
         "mean": 0.39617486338797814,
         "count": 366,
         "_deepnote_index_column": 31
        },
        {
         "en_int": 0.32,
         "energy": "(0.32, 0.33]",
         "mean": 0.3994708994708995,
         "count": 378,
         "_deepnote_index_column": 32
        },
        {
         "en_int": 0.33,
         "energy": "(0.33, 0.34]",
         "mean": 0.4320388349514563,
         "count": 412,
         "_deepnote_index_column": 33
        },
        {
         "en_int": 0.34,
         "energy": "(0.34, 0.35]",
         "mean": 0.4420485175202156,
         "count": 371,
         "_deepnote_index_column": 34
        },
        {
         "en_int": 0.35,
         "energy": "(0.35, 0.36]",
         "mean": 0.47592067988668557,
         "count": 353,
         "_deepnote_index_column": 35
        },
        {
         "en_int": 0.36,
         "energy": "(0.36, 0.37]",
         "mean": 0.510250569476082,
         "count": 439,
         "_deepnote_index_column": 36
        },
        {
         "en_int": 0.37,
         "energy": "(0.37, 0.38]",
         "mean": 0.4872448979591837,
         "count": 392,
         "_deepnote_index_column": 37
        },
        {
         "en_int": 0.38,
         "energy": "(0.38, 0.39]",
         "mean": 0.4630541871921182,
         "count": 406,
         "_deepnote_index_column": 38
        },
        {
         "en_int": 0.39,
         "energy": "(0.39, 0.4]",
         "mean": 0.4788732394366197,
         "count": 426,
         "_deepnote_index_column": 39
        },
        {
         "en_int": 0.4,
         "energy": "(0.4, 0.41]",
         "mean": 0.4830508474576271,
         "count": 472,
         "_deepnote_index_column": 40
        },
        {
         "en_int": 0.41,
         "energy": "(0.41, 0.42]",
         "mean": 0.5373831775700935,
         "count": 428,
         "_deepnote_index_column": 41
        },
        {
         "en_int": 0.42,
         "energy": "(0.42, 0.43]",
         "mean": 0.5138248847926268,
         "count": 434,
         "_deepnote_index_column": 42
        },
        {
         "en_int": 0.43,
         "energy": "(0.43, 0.44]",
         "mean": 0.5741127348643006,
         "count": 479,
         "_deepnote_index_column": 43
        },
        {
         "en_int": 0.44,
         "energy": "(0.44, 0.45]",
         "mean": 0.5463709677419355,
         "count": 496,
         "_deepnote_index_column": 44
        },
        {
         "en_int": 0.45,
         "energy": "(0.45, 0.46]",
         "mean": 0.5594541910331384,
         "count": 513,
         "_deepnote_index_column": 45
        },
        {
         "en_int": 0.46,
         "energy": "(0.46, 0.47]",
         "mean": 0.5164609053497943,
         "count": 486,
         "_deepnote_index_column": 46
        },
        {
         "en_int": 0.47,
         "energy": "(0.47, 0.48]",
         "mean": 0.5728952772073922,
         "count": 487,
         "_deepnote_index_column": 47
        },
        {
         "en_int": 0.48,
         "energy": "(0.48, 0.49]",
         "mean": 0.5341365461847389,
         "count": 498,
         "_deepnote_index_column": 48
        },
        {
         "en_int": 0.49,
         "energy": "(0.49, 0.5]",
         "mean": 0.581981981981982,
         "count": 555,
         "_deepnote_index_column": 49
        },
        {
         "en_int": 0.5,
         "energy": "(0.5, 0.51]",
         "mean": 0.5739910313901345,
         "count": 446,
         "_deepnote_index_column": 50
        },
        {
         "en_int": 0.51,
         "energy": "(0.51, 0.52]",
         "mean": 0.6072106261859582,
         "count": 527,
         "_deepnote_index_column": 51
        },
        {
         "en_int": 0.52,
         "energy": "(0.52, 0.53]",
         "mean": 0.593065693430657,
         "count": 548,
         "_deepnote_index_column": 52
        },
        {
         "en_int": 0.53,
         "energy": "(0.53, 0.54]",
         "mean": 0.6380597014925373,
         "count": 536,
         "_deepnote_index_column": 53
        },
        {
         "en_int": 0.54,
         "energy": "(0.54, 0.55]",
         "mean": 0.6110056925996205,
         "count": 527,
         "_deepnote_index_column": 54
        },
        {
         "en_int": 0.55,
         "energy": "(0.55, 0.56]",
         "mean": 0.5992063492063492,
         "count": 504,
         "_deepnote_index_column": 55
        },
        {
         "en_int": 0.56,
         "energy": "(0.56, 0.57]",
         "mean": 0.6045627376425855,
         "count": 526,
         "_deepnote_index_column": 56
        },
        {
         "en_int": 0.57,
         "energy": "(0.57, 0.58]",
         "mean": 0.6123893805309735,
         "count": 565,
         "_deepnote_index_column": 57
        },
        {
         "en_int": 0.58,
         "energy": "(0.58, 0.59]",
         "mean": 0.6120857699805068,
         "count": 513,
         "_deepnote_index_column": 58
        },
        {
         "en_int": 0.59,
         "energy": "(0.59, 0.6]",
         "mean": 0.6277227722772277,
         "count": 505,
         "_deepnote_index_column": 59
        },
        {
         "en_int": 0.6,
         "energy": "(0.6, 0.61]",
         "mean": 0.6097087378640776,
         "count": 515,
         "_deepnote_index_column": 60
        },
        {
         "en_int": 0.61,
         "energy": "(0.61, 0.62]",
         "mean": 0.6016427104722792,
         "count": 487,
         "_deepnote_index_column": 61
        },
        {
         "en_int": 0.62,
         "energy": "(0.62, 0.63]",
         "mean": 0.676271186440678,
         "count": 590,
         "_deepnote_index_column": 62
        },
        {
         "en_int": 0.63,
         "energy": "(0.63, 0.64]",
         "mean": 0.629126213592233,
         "count": 515,
         "_deepnote_index_column": 63
        },
        {
         "en_int": 0.64,
         "energy": "(0.64, 0.65]",
         "mean": 0.6556521739130434,
         "count": 575,
         "_deepnote_index_column": 64
        },
        {
         "en_int": 0.65,
         "energy": "(0.65, 0.66]",
         "mean": 0.6258992805755396,
         "count": 556,
         "_deepnote_index_column": 65
        },
        {
         "en_int": 0.66,
         "energy": "(0.66, 0.67]",
         "mean": 0.6730769230769231,
         "count": 572,
         "_deepnote_index_column": 66
        },
        {
         "en_int": 0.67,
         "energy": "(0.67, 0.68]",
         "mean": 0.6541095890410958,
         "count": 584,
         "_deepnote_index_column": 67
        },
        {
         "en_int": 0.68,
         "energy": "(0.68, 0.69]",
         "mean": 0.6204379562043796,
         "count": 548,
         "_deepnote_index_column": 68
        },
        {
         "en_int": 0.69,
         "energy": "(0.69, 0.7]",
         "mean": 0.6363636363636364,
         "count": 627,
         "_deepnote_index_column": 69
        },
        {
         "en_int": 0.7,
         "energy": "(0.7, 0.71]",
         "mean": 0.6863117870722434,
         "count": 526,
         "_deepnote_index_column": 70
        },
        {
         "en_int": 0.71,
         "energy": "(0.71, 0.72]",
         "mean": 0.6626712328767124,
         "count": 584,
         "_deepnote_index_column": 71
        },
        {
         "en_int": 0.72,
         "energy": "(0.72, 0.73]",
         "mean": 0.6428571428571429,
         "count": 658,
         "_deepnote_index_column": 72
        },
        {
         "en_int": 0.73,
         "energy": "(0.73, 0.74]",
         "mean": 0.6629001883239172,
         "count": 531,
         "_deepnote_index_column": 73
        },
        {
         "en_int": 0.74,
         "energy": "(0.74, 0.75]",
         "mean": 0.6357267950963222,
         "count": 571,
         "_deepnote_index_column": 74
        },
        {
         "en_int": 0.75,
         "energy": "(0.75, 0.76]",
         "mean": 0.6338582677165354,
         "count": 508,
         "_deepnote_index_column": 75
        },
        {
         "en_int": 0.76,
         "energy": "(0.76, 0.77]",
         "mean": 0.6553784860557769,
         "count": 502,
         "_deepnote_index_column": 76
        },
        {
         "en_int": 0.77,
         "energy": "(0.77, 0.78]",
         "mean": 0.6417004048582996,
         "count": 494,
         "_deepnote_index_column": 77
        },
        {
         "en_int": 0.78,
         "energy": "(0.78, 0.79]",
         "mean": 0.7,
         "count": 530,
         "_deepnote_index_column": 78
        },
        {
         "en_int": 0.79,
         "energy": "(0.79, 0.8]",
         "mean": 0.6555772994129159,
         "count": 511,
         "_deepnote_index_column": 79
        },
        {
         "en_int": 0.8,
         "energy": "(0.8, 0.81]",
         "mean": 0.6971326164874552,
         "count": 558,
         "_deepnote_index_column": 80
        },
        {
         "en_int": 0.81,
         "energy": "(0.81, 0.82]",
         "mean": 0.6495049504950495,
         "count": 505,
         "_deepnote_index_column": 81
        },
        {
         "en_int": 0.82,
         "energy": "(0.82, 0.83]",
         "mean": 0.6139705882352942,
         "count": 544,
         "_deepnote_index_column": 82
        },
        {
         "en_int": 0.83,
         "energy": "(0.83, 0.84]",
         "mean": 0.605683836589698,
         "count": 563,
         "_deepnote_index_column": 83
        },
        {
         "en_int": 0.84,
         "energy": "(0.84, 0.85]",
         "mean": 0.5928270042194093,
         "count": 474,
         "_deepnote_index_column": 84
        },
        {
         "en_int": 0.85,
         "energy": "(0.85, 0.86]",
         "mean": 0.5958762886597938,
         "count": 485,
         "_deepnote_index_column": 85
        },
        {
         "en_int": 0.86,
         "energy": "(0.86, 0.87]",
         "mean": 0.5808823529411765,
         "count": 544,
         "_deepnote_index_column": 86
        },
        {
         "en_int": 0.87,
         "energy": "(0.87, 0.88]",
         "mean": 0.5779467680608364,
         "count": 526,
         "_deepnote_index_column": 87
        },
        {
         "en_int": 0.88,
         "energy": "(0.88, 0.89]",
         "mean": 0.5677290836653387,
         "count": 502,
         "_deepnote_index_column": 88
        },
        {
         "en_int": 0.89,
         "energy": "(0.89, 0.9]",
         "mean": 0.5793991416309013,
         "count": 466,
         "_deepnote_index_column": 89
        },
        {
         "en_int": 0.9,
         "energy": "(0.9, 0.91]",
         "mean": 0.5085106382978724,
         "count": 470,
         "_deepnote_index_column": 90
        },
        {
         "en_int": 0.91,
         "energy": "(0.91, 0.92]",
         "mean": 0.48023715415019763,
         "count": 506,
         "_deepnote_index_column": 91
        },
        {
         "en_int": 0.92,
         "energy": "(0.92, 0.93]",
         "mean": 0.42207792207792205,
         "count": 462,
         "_deepnote_index_column": 92
        },
        {
         "en_int": 0.93,
         "energy": "(0.93, 0.94]",
         "mean": 0.3901098901098901,
         "count": 546,
         "_deepnote_index_column": 93
        },
        {
         "en_int": 0.94,
         "energy": "(0.94, 0.95]",
         "mean": 0.30694980694980695,
         "count": 518,
         "_deepnote_index_column": 94
        },
        {
         "en_int": 0.95,
         "energy": "(0.95, 0.96]",
         "mean": 0.3211009174311927,
         "count": 436,
         "_deepnote_index_column": 95
        },
        {
         "en_int": 0.96,
         "energy": "(0.96, 0.97]",
         "mean": 0.2079207920792079,
         "count": 404,
         "_deepnote_index_column": 96
        },
        {
         "en_int": 0.97,
         "energy": "(0.97, 0.98]",
         "mean": 0.21065989847715735,
         "count": 394,
         "_deepnote_index_column": 97
        },
        {
         "en_int": 0.98,
         "energy": "(0.98, 0.99]",
         "mean": 0.11358024691358025,
         "count": 405,
         "_deepnote_index_column": 98
        },
        {
         "en_int": 0.99,
         "energy": "(0.99, 1.0]",
         "mean": 0.07508532423208192,
         "count": 293,
         "_deepnote_index_column": 99
        }
       ],
       "rows_bottom": null
      },
      "text/plain": "    en_int        energy      mean  count\n0     0.00   (0.0, 0.01]  0.000000    202\n1     0.01  (0.01, 0.02]  0.007937    126\n2     0.02  (0.02, 0.03]  0.067485    163\n3     0.03  (0.03, 0.04]  0.025316    158\n4     0.04  (0.04, 0.05]  0.034091    176\n..     ...           ...       ...    ...\n95    0.95  (0.95, 0.96]  0.321101    436\n96    0.96  (0.96, 0.97]  0.207921    404\n97    0.97  (0.97, 0.98]  0.210660    394\n98    0.98  (0.98, 0.99]  0.113580    405\n99    0.99   (0.99, 1.0]  0.075085    293\n\n[100 rows x 4 columns]",
      "text/html": "<div>\n<style scoped>\n    .dataframe tbody tr th:only-of-type {\n        vertical-align: middle;\n    }\n\n    .dataframe tbody tr th {\n        vertical-align: top;\n    }\n\n    .dataframe thead th {\n        text-align: right;\n    }\n</style>\n<table border=\"1\" class=\"dataframe\">\n  <thead>\n    <tr style=\"text-align: right;\">\n      <th></th>\n      <th>en_int</th>\n      <th>energy</th>\n      <th>mean</th>\n      <th>count</th>\n    </tr>\n  </thead>\n  <tbody>\n    <tr>\n      <th>0</th>\n      <td>0.00</td>\n      <td>(0.0, 0.01]</td>\n      <td>0.000000</td>\n      <td>202</td>\n    </tr>\n    <tr>\n      <th>1</th>\n      <td>0.01</td>\n      <td>(0.01, 0.02]</td>\n      <td>0.007937</td>\n      <td>126</td>\n    </tr>\n    <tr>\n      <th>2</th>\n      <td>0.02</td>\n      <td>(0.02, 0.03]</td>\n      <td>0.067485</td>\n      <td>163</td>\n    </tr>\n    <tr>\n      <th>3</th>\n      <td>0.03</td>\n      <td>(0.03, 0.04]</td>\n      <td>0.025316</td>\n      <td>158</td>\n    </tr>\n    <tr>\n      <th>4</th>\n      <td>0.04</td>\n      <td>(0.04, 0.05]</td>\n      <td>0.034091</td>\n      <td>176</td>\n    </tr>\n    <tr>\n      <th>...</th>\n      <td>...</td>\n      <td>...</td>\n      <td>...</td>\n      <td>...</td>\n    </tr>\n    <tr>\n      <th>95</th>\n      <td>0.95</td>\n      <td>(0.95, 0.96]</td>\n      <td>0.321101</td>\n      <td>436</td>\n    </tr>\n    <tr>\n      <th>96</th>\n      <td>0.96</td>\n      <td>(0.96, 0.97]</td>\n      <td>0.207921</td>\n      <td>404</td>\n    </tr>\n    <tr>\n      <th>97</th>\n      <td>0.97</td>\n      <td>(0.97, 0.98]</td>\n      <td>0.210660</td>\n      <td>394</td>\n    </tr>\n    <tr>\n      <th>98</th>\n      <td>0.98</td>\n      <td>(0.98, 0.99]</td>\n      <td>0.113580</td>\n      <td>405</td>\n    </tr>\n    <tr>\n      <th>99</th>\n      <td>0.99</td>\n      <td>(0.99, 1.0]</td>\n      <td>0.075085</td>\n      <td>293</td>\n    </tr>\n  </tbody>\n</table>\n<p>100 rows × 4 columns</p>\n</div>"
     },
     "metadata": {}
    }
   ]
  },
  {
   "cell_type": "code",
   "metadata": {
    "tags": [],
    "deepnote_to_be_reexecuted": false,
    "source_hash": "eb99440f",
    "is_code_hidden": false,
    "is_output_hidden": false,
    "allow_embed": false,
    "execution_start": 1636139555547,
    "execution_millis": 56,
    "cell_id": "00027-b66145bb-9bd9-46af-b3ab-143a01648a77",
    "deepnote_cell_type": "code"
   },
   "source": "#Target proportion vs dancibility\n\ni = 5\nbin_arr_danceability = []\nwhile i <= 98:\n    bin_arr_danceability.append(i/100)\n    i+=1\n\nbins_danceability = pd.cut(data['danceability'], bin_arr_danceability)\ntarget_prop_by_danceability = data.groupby(bins_danceability)['target'].agg([\"mean\", \"count\"]).reset_index().dropna()\n\ntarget_prop_by_danceability.insert(0, 'da_int', range(5, 98)) # This line\ntarget_prop_by_danceability[\"da_int\"] = target_prop_by_danceability[\"da_int\"] / 100\n\ntarget_prop_by_danceability\n",
   "execution_count": 9,
   "outputs": [
    {
     "output_type": "execute_result",
     "execution_count": 9,
     "data": {
      "application/vnd.deepnote.dataframe.v2+json": {
       "row_count": 93,
       "column_count": 4,
       "columns": [
        {
         "name": "da_int",
         "dtype": "float64",
         "stats": {
          "unique_count": 93,
          "nan_count": 0,
          "min": "0.05",
          "max": "0.97",
          "histogram": [
           {
            "bin_start": 0.05,
            "bin_end": 0.14200000000000002,
            "count": 10
           },
           {
            "bin_start": 0.14200000000000002,
            "bin_end": 0.23399999999999999,
            "count": 9
           },
           {
            "bin_start": 0.23399999999999999,
            "bin_end": 0.326,
            "count": 9
           },
           {
            "bin_start": 0.326,
            "bin_end": 0.418,
            "count": 9
           },
           {
            "bin_start": 0.418,
            "bin_end": 0.51,
            "count": 9
           },
           {
            "bin_start": 0.51,
            "bin_end": 0.6020000000000001,
            "count": 10
           },
           {
            "bin_start": 0.6020000000000001,
            "bin_end": 0.6940000000000001,
            "count": 9
           },
           {
            "bin_start": 0.6940000000000001,
            "bin_end": 0.786,
            "count": 9
           },
           {
            "bin_start": 0.786,
            "bin_end": 0.878,
            "count": 9
           },
           {
            "bin_start": 0.878,
            "bin_end": 0.97,
            "count": 10
           }
          ]
         }
        },
        {
         "name": "danceability",
         "dtype": "category",
         "stats": {
          "unique_count": 93,
          "nan_count": 0,
          "categories": [
           {
            "name": "(0.05, 0.06]",
            "count": 1
           },
           {
            "name": "(0.06, 0.07]",
            "count": 1
           },
           {
            "name": "91 others",
            "count": 91
           }
          ]
         }
        },
        {
         "name": "mean",
         "dtype": "float64",
         "stats": {
          "unique_count": 89,
          "nan_count": 0,
          "min": "0.0",
          "max": "0.8253968253968254",
          "histogram": [
           {
            "bin_start": 0,
            "bin_end": 0.08253968253968254,
            "count": 11
           },
           {
            "bin_start": 0.08253968253968254,
            "bin_end": 0.16507936507936508,
            "count": 7
           },
           {
            "bin_start": 0.16507936507936508,
            "bin_end": 0.24761904761904763,
            "count": 5
           },
           {
            "bin_start": 0.24761904761904763,
            "bin_end": 0.33015873015873015,
            "count": 9
           },
           {
            "bin_start": 0.33015873015873015,
            "bin_end": 0.4126984126984127,
            "count": 9
           },
           {
            "bin_start": 0.4126984126984127,
            "bin_end": 0.49523809523809526,
            "count": 6
           },
           {
            "bin_start": 0.49523809523809526,
            "bin_end": 0.5777777777777777,
            "count": 5
           },
           {
            "bin_start": 0.5777777777777777,
            "bin_end": 0.6603174603174603,
            "count": 14
           },
           {
            "bin_start": 0.6603174603174603,
            "bin_end": 0.7428571428571429,
            "count": 16
           },
           {
            "bin_start": 0.7428571428571429,
            "bin_end": 0.8253968253968254,
            "count": 11
           }
          ]
         }
        },
        {
         "name": "count",
         "dtype": "int64",
         "stats": {
          "unique_count": 88,
          "nan_count": 0,
          "min": "7",
          "max": "928",
          "histogram": [
           {
            "bin_start": 7,
            "bin_end": 99.1,
            "count": 16
           },
           {
            "bin_start": 99.1,
            "bin_end": 191.2,
            "count": 8
           },
           {
            "bin_start": 191.2,
            "bin_end": 283.29999999999995,
            "count": 12
           },
           {
            "bin_start": 283.29999999999995,
            "bin_end": 375.4,
            "count": 8
           },
           {
            "bin_start": 375.4,
            "bin_end": 467.5,
            "count": 6
           },
           {
            "bin_start": 467.5,
            "bin_end": 559.5999999999999,
            "count": 9
           },
           {
            "bin_start": 559.5999999999999,
            "bin_end": 651.6999999999999,
            "count": 5
           },
           {
            "bin_start": 651.6999999999999,
            "bin_end": 743.8,
            "count": 7
           },
           {
            "bin_start": 743.8,
            "bin_end": 835.9,
            "count": 7
           },
           {
            "bin_start": 835.9,
            "bin_end": 928,
            "count": 15
           }
          ]
         }
        },
        {
         "name": "_deepnote_index_column",
         "dtype": "int64"
        }
       ],
       "rows_top": [
        {
         "da_int": 0.05,
         "danceability": "(0.05, 0.06]",
         "mean": 0,
         "count": 7,
         "_deepnote_index_column": 0
        },
        {
         "da_int": 0.06,
         "danceability": "(0.06, 0.07]",
         "mean": 0,
         "count": 40,
         "_deepnote_index_column": 1
        },
        {
         "da_int": 0.07,
         "danceability": "(0.07, 0.08]",
         "mean": 0,
         "count": 53,
         "_deepnote_index_column": 2
        },
        {
         "da_int": 0.08,
         "danceability": "(0.08, 0.09]",
         "mean": 0,
         "count": 58,
         "_deepnote_index_column": 3
        },
        {
         "da_int": 0.09,
         "danceability": "(0.09, 0.1]",
         "mean": 0.014705882352941176,
         "count": 68,
         "_deepnote_index_column": 4
        },
        {
         "da_int": 0.1,
         "danceability": "(0.1, 0.11]",
         "mean": 0.018518518518518517,
         "count": 54,
         "_deepnote_index_column": 5
        },
        {
         "da_int": 0.11,
         "danceability": "(0.11, 0.12]",
         "mean": 0.04918032786885246,
         "count": 61,
         "_deepnote_index_column": 6
        },
        {
         "da_int": 0.12,
         "danceability": "(0.12, 0.13]",
         "mean": 0.02531645569620253,
         "count": 79,
         "_deepnote_index_column": 7
        },
        {
         "da_int": 0.13,
         "danceability": "(0.13, 0.14]",
         "mean": 0.025423728813559324,
         "count": 118,
         "_deepnote_index_column": 8
        },
        {
         "da_int": 0.14,
         "danceability": "(0.14, 0.15]",
         "mean": 0.03225806451612903,
         "count": 124,
         "_deepnote_index_column": 9
        },
        {
         "da_int": 0.15,
         "danceability": "(0.15, 0.16]",
         "mean": 0.11643835616438356,
         "count": 146,
         "_deepnote_index_column": 10
        },
        {
         "da_int": 0.16,
         "danceability": "(0.16, 0.17]",
         "mean": 0.03827751196172249,
         "count": 209,
         "_deepnote_index_column": 11
        },
        {
         "da_int": 0.17,
         "danceability": "(0.17, 0.18]",
         "mean": 0.085,
         "count": 200,
         "_deepnote_index_column": 12
        },
        {
         "da_int": 0.18,
         "danceability": "(0.18, 0.19]",
         "mean": 0.08823529411764706,
         "count": 170,
         "_deepnote_index_column": 13
        },
        {
         "da_int": 0.19,
         "danceability": "(0.19, 0.2]",
         "mean": 0.09163346613545817,
         "count": 251,
         "_deepnote_index_column": 14
        },
        {
         "da_int": 0.2,
         "danceability": "(0.2, 0.21]",
         "mean": 0.11764705882352941,
         "count": 204,
         "_deepnote_index_column": 15
        },
        {
         "da_int": 0.21,
         "danceability": "(0.21, 0.22]",
         "mean": 0.11627906976744186,
         "count": 258,
         "_deepnote_index_column": 16
        },
        {
         "da_int": 0.22,
         "danceability": "(0.22, 0.23]",
         "mean": 0.14634146341463414,
         "count": 205,
         "_deepnote_index_column": 17
        },
        {
         "da_int": 0.23,
         "danceability": "(0.23, 0.24]",
         "mean": 0.21132075471698114,
         "count": 265,
         "_deepnote_index_column": 18
        },
        {
         "da_int": 0.24,
         "danceability": "(0.24, 0.25]",
         "mean": 0.19708029197080293,
         "count": 274,
         "_deepnote_index_column": 19
        },
        {
         "da_int": 0.25,
         "danceability": "(0.25, 0.26]",
         "mean": 0.18947368421052632,
         "count": 285,
         "_deepnote_index_column": 20
        },
        {
         "da_int": 0.26,
         "danceability": "(0.26, 0.27]",
         "mean": 0.297029702970297,
         "count": 303,
         "_deepnote_index_column": 21
        },
        {
         "da_int": 0.27,
         "danceability": "(0.27, 0.28]",
         "mean": 0.2852760736196319,
         "count": 326,
         "_deepnote_index_column": 22
        },
        {
         "da_int": 0.28,
         "danceability": "(0.28, 0.29]",
         "mean": 0.21068249258160238,
         "count": 337,
         "_deepnote_index_column": 23
        },
        {
         "da_int": 0.29,
         "danceability": "(0.29, 0.3]",
         "mean": 0.24233128834355827,
         "count": 326,
         "_deepnote_index_column": 24
        },
        {
         "da_int": 0.3,
         "danceability": "(0.3, 0.31]",
         "mean": 0.2535612535612536,
         "count": 351,
         "_deepnote_index_column": 25
        },
        {
         "da_int": 0.31,
         "danceability": "(0.31, 0.32]",
         "mean": 0.2700892857142857,
         "count": 448,
         "_deepnote_index_column": 26
        },
        {
         "da_int": 0.32,
         "danceability": "(0.32, 0.33]",
         "mean": 0.279445727482679,
         "count": 433,
         "_deepnote_index_column": 27
        },
        {
         "da_int": 0.33,
         "danceability": "(0.33, 0.34]",
         "mean": 0.28159645232815966,
         "count": 451,
         "_deepnote_index_column": 28
        },
        {
         "da_int": 0.34,
         "danceability": "(0.34, 0.35]",
         "mean": 0.3057324840764331,
         "count": 471,
         "_deepnote_index_column": 29
        },
        {
         "da_int": 0.35,
         "danceability": "(0.35, 0.36]",
         "mean": 0.344017094017094,
         "count": 468,
         "_deepnote_index_column": 30
        },
        {
         "da_int": 0.36,
         "danceability": "(0.36, 0.37]",
         "mean": 0.2963709677419355,
         "count": 496,
         "_deepnote_index_column": 31
        },
        {
         "da_int": 0.37,
         "danceability": "(0.37, 0.38]",
         "mean": 0.34063745019920316,
         "count": 502,
         "_deepnote_index_column": 32
        },
        {
         "da_int": 0.38,
         "danceability": "(0.38, 0.39]",
         "mean": 0.3113207547169811,
         "count": 530,
         "_deepnote_index_column": 33
        },
        {
         "da_int": 0.39,
         "danceability": "(0.39, 0.4]",
         "mean": 0.38345864661654133,
         "count": 532,
         "_deepnote_index_column": 34
        },
        {
         "da_int": 0.4,
         "danceability": "(0.4, 0.41]",
         "mean": 0.4030612244897959,
         "count": 588,
         "_deepnote_index_column": 35
        },
        {
         "da_int": 0.41,
         "danceability": "(0.41, 0.42]",
         "mean": 0.3774193548387097,
         "count": 620,
         "_deepnote_index_column": 36
        },
        {
         "da_int": 0.42,
         "danceability": "(0.42, 0.43]",
         "mean": 0.39658119658119656,
         "count": 585,
         "_deepnote_index_column": 37
        },
        {
         "da_int": 0.43,
         "danceability": "(0.43, 0.44]",
         "mean": 0.39067055393586003,
         "count": 686,
         "_deepnote_index_column": 38
        },
        {
         "da_int": 0.44,
         "danceability": "(0.44, 0.45]",
         "mean": 0.40296296296296297,
         "count": 675,
         "_deepnote_index_column": 39
        },
        {
         "da_int": 0.45,
         "danceability": "(0.45, 0.46]",
         "mean": 0.40027137042062416,
         "count": 737,
         "_deepnote_index_column": 40
        },
        {
         "da_int": 0.46,
         "danceability": "(0.46, 0.47]",
         "mean": 0.4444444444444444,
         "count": 702,
         "_deepnote_index_column": 41
        },
        {
         "da_int": 0.47,
         "danceability": "(0.47, 0.48]",
         "mean": 0.461439588688946,
         "count": 778,
         "_deepnote_index_column": 42
        },
        {
         "da_int": 0.48,
         "danceability": "(0.48, 0.49]",
         "mean": 0.43370508054522927,
         "count": 807,
         "_deepnote_index_column": 43
        },
        {
         "da_int": 0.49,
         "danceability": "(0.49, 0.5]",
         "mean": 0.48375451263537905,
         "count": 831,
         "_deepnote_index_column": 44
        },
        {
         "da_int": 0.5,
         "danceability": "(0.5, 0.51]",
         "mean": 0.4684014869888476,
         "count": 807,
         "_deepnote_index_column": 45
        },
        {
         "da_int": 0.51,
         "danceability": "(0.51, 0.52]",
         "mean": 0.5051546391752577,
         "count": 873,
         "_deepnote_index_column": 46
        },
        {
         "da_int": 0.52,
         "danceability": "(0.52, 0.53]",
         "mean": 0.5017751479289941,
         "count": 845,
         "_deepnote_index_column": 47
        },
        {
         "da_int": 0.53,
         "danceability": "(0.53, 0.54]",
         "mean": 0.4926719278466742,
         "count": 887,
         "_deepnote_index_column": 48
        },
        {
         "da_int": 0.54,
         "danceability": "(0.54, 0.55]",
         "mean": 0.5294784580498866,
         "count": 882,
         "_deepnote_index_column": 49
        },
        {
         "da_int": 0.55,
         "danceability": "(0.55, 0.56]",
         "mean": 0.5729847494553377,
         "count": 918,
         "_deepnote_index_column": 50
        },
        {
         "da_int": 0.56,
         "danceability": "(0.56, 0.57]",
         "mean": 0.5583524027459954,
         "count": 874,
         "_deepnote_index_column": 51
        },
        {
         "da_int": 0.57,
         "danceability": "(0.57, 0.58]",
         "mean": 0.58698224852071,
         "count": 845,
         "_deepnote_index_column": 52
        },
        {
         "da_int": 0.58,
         "danceability": "(0.58, 0.59]",
         "mean": 0.5797413793103449,
         "count": 928,
         "_deepnote_index_column": 53
        },
        {
         "da_int": 0.59,
         "danceability": "(0.59, 0.6]",
         "mean": 0.5833333333333334,
         "count": 900,
         "_deepnote_index_column": 54
        },
        {
         "da_int": 0.6,
         "danceability": "(0.6, 0.61]",
         "mean": 0.5865490628445424,
         "count": 907,
         "_deepnote_index_column": 55
        },
        {
         "da_int": 0.61,
         "danceability": "(0.61, 0.62]",
         "mean": 0.593103448275862,
         "count": 870,
         "_deepnote_index_column": 56
        },
        {
         "da_int": 0.62,
         "danceability": "(0.62, 0.63]",
         "mean": 0.6201117318435754,
         "count": 895,
         "_deepnote_index_column": 57
        },
        {
         "da_int": 0.63,
         "danceability": "(0.63, 0.64]",
         "mean": 0.6202380952380953,
         "count": 840,
         "_deepnote_index_column": 58
        },
        {
         "da_int": 0.64,
         "danceability": "(0.64, 0.65]",
         "mean": 0.6059907834101382,
         "count": 868,
         "_deepnote_index_column": 59
        },
        {
         "da_int": 0.65,
         "danceability": "(0.65, 0.66]",
         "mean": 0.6450867052023121,
         "count": 865,
         "_deepnote_index_column": 60
        },
        {
         "da_int": 0.66,
         "danceability": "(0.66, 0.67]",
         "mean": 0.6228501228501229,
         "count": 814,
         "_deepnote_index_column": 61
        },
        {
         "da_int": 0.67,
         "danceability": "(0.67, 0.68]",
         "mean": 0.6554307116104869,
         "count": 801,
         "_deepnote_index_column": 62
        },
        {
         "da_int": 0.68,
         "danceability": "(0.68, 0.69]",
         "mean": 0.6520051746442432,
         "count": 773,
         "_deepnote_index_column": 63
        },
        {
         "da_int": 0.69,
         "danceability": "(0.69, 0.7]",
         "mean": 0.6808803301237965,
         "count": 727,
         "_deepnote_index_column": 64
        },
        {
         "da_int": 0.7,
         "danceability": "(0.7, 0.71]",
         "mean": 0.6704384724186704,
         "count": 707,
         "_deepnote_index_column": 65
        },
        {
         "da_int": 0.71,
         "danceability": "(0.71, 0.72]",
         "mean": 0.6538461538461539,
         "count": 676,
         "_deepnote_index_column": 66
        },
        {
         "da_int": 0.72,
         "danceability": "(0.72, 0.73]",
         "mean": 0.6880877742946708,
         "count": 638,
         "_deepnote_index_column": 67
        },
        {
         "da_int": 0.73,
         "danceability": "(0.73, 0.74]",
         "mean": 0.6688417618270799,
         "count": 613,
         "_deepnote_index_column": 68
        },
        {
         "da_int": 0.74,
         "danceability": "(0.74, 0.75]",
         "mean": 0.7212230215827338,
         "count": 556,
         "_deepnote_index_column": 69
        },
        {
         "da_int": 0.75,
         "danceability": "(0.75, 0.76]",
         "mean": 0.7030927835051546,
         "count": 485,
         "_deepnote_index_column": 70
        },
        {
         "da_int": 0.76,
         "danceability": "(0.76, 0.77]",
         "mean": 0.73125,
         "count": 480,
         "_deepnote_index_column": 71
        },
        {
         "da_int": 0.77,
         "danceability": "(0.77, 0.78]",
         "mean": 0.6928934010152284,
         "count": 394,
         "_deepnote_index_column": 72
        },
        {
         "da_int": 0.78,
         "danceability": "(0.78, 0.79]",
         "mean": 0.6505102040816326,
         "count": 392,
         "_deepnote_index_column": 73
        },
        {
         "da_int": 0.79,
         "danceability": "(0.79, 0.8]",
         "mean": 0.7146341463414634,
         "count": 410,
         "_deepnote_index_column": 74
        },
        {
         "da_int": 0.8,
         "danceability": "(0.8, 0.81]",
         "mean": 0.7050147492625368,
         "count": 339,
         "_deepnote_index_column": 75
        },
        {
         "da_int": 0.81,
         "danceability": "(0.81, 0.82]",
         "mean": 0.6789297658862876,
         "count": 299,
         "_deepnote_index_column": 76
        },
        {
         "da_int": 0.82,
         "danceability": "(0.82, 0.83]",
         "mean": 0.6979591836734694,
         "count": 245,
         "_deepnote_index_column": 77
        },
        {
         "da_int": 0.83,
         "danceability": "(0.83, 0.84]",
         "mean": 0.7159533073929961,
         "count": 257,
         "_deepnote_index_column": 78
        },
        {
         "da_int": 0.84,
         "danceability": "(0.84, 0.85]",
         "mean": 0.6666666666666666,
         "count": 219,
         "_deepnote_index_column": 79
        },
        {
         "da_int": 0.85,
         "danceability": "(0.85, 0.86]",
         "mean": 0.7574257425742574,
         "count": 202,
         "_deepnote_index_column": 80
        },
        {
         "da_int": 0.86,
         "danceability": "(0.86, 0.87]",
         "mean": 0.6932515337423313,
         "count": 163,
         "_deepnote_index_column": 81
        },
        {
         "da_int": 0.87,
         "danceability": "(0.87, 0.88]",
         "mean": 0.7468354430379747,
         "count": 158,
         "_deepnote_index_column": 82
        },
        {
         "da_int": 0.88,
         "danceability": "(0.88, 0.89]",
         "mean": 0.773972602739726,
         "count": 146,
         "_deepnote_index_column": 83
        },
        {
         "da_int": 0.89,
         "danceability": "(0.89, 0.9]",
         "mean": 0.7652173913043478,
         "count": 115,
         "_deepnote_index_column": 84
        },
        {
         "da_int": 0.9,
         "danceability": "(0.9, 0.91]",
         "mean": 0.8181818181818182,
         "count": 77,
         "_deepnote_index_column": 85
        },
        {
         "da_int": 0.91,
         "danceability": "(0.91, 0.92]",
         "mean": 0.7142857142857143,
         "count": 70,
         "_deepnote_index_column": 86
        },
        {
         "da_int": 0.92,
         "danceability": "(0.92, 0.93]",
         "mean": 0.8142857142857143,
         "count": 70,
         "_deepnote_index_column": 87
        },
        {
         "da_int": 0.93,
         "danceability": "(0.93, 0.94]",
         "mean": 0.8253968253968254,
         "count": 63,
         "_deepnote_index_column": 88
        },
        {
         "da_int": 0.94,
         "danceability": "(0.94, 0.95]",
         "mean": 0.7555555555555555,
         "count": 45,
         "_deepnote_index_column": 89
        },
        {
         "da_int": 0.95,
         "danceability": "(0.95, 0.96]",
         "mean": 0.7727272727272727,
         "count": 22,
         "_deepnote_index_column": 90
        },
        {
         "da_int": 0.96,
         "danceability": "(0.96, 0.97]",
         "mean": 0.7894736842105263,
         "count": 19,
         "_deepnote_index_column": 91
        },
        {
         "da_int": 0.97,
         "danceability": "(0.97, 0.98]",
         "mean": 0.8181818181818182,
         "count": 11,
         "_deepnote_index_column": 92
        }
       ],
       "rows_bottom": null
      },
      "text/plain": "    da_int  danceability      mean  count\n0     0.05  (0.05, 0.06]  0.000000      7\n1     0.06  (0.06, 0.07]  0.000000     40\n2     0.07  (0.07, 0.08]  0.000000     53\n3     0.08  (0.08, 0.09]  0.000000     58\n4     0.09   (0.09, 0.1]  0.014706     68\n..     ...           ...       ...    ...\n88    0.93  (0.93, 0.94]  0.825397     63\n89    0.94  (0.94, 0.95]  0.755556     45\n90    0.95  (0.95, 0.96]  0.772727     22\n91    0.96  (0.96, 0.97]  0.789474     19\n92    0.97  (0.97, 0.98]  0.818182     11\n\n[93 rows x 4 columns]",
      "text/html": "<div>\n<style scoped>\n    .dataframe tbody tr th:only-of-type {\n        vertical-align: middle;\n    }\n\n    .dataframe tbody tr th {\n        vertical-align: top;\n    }\n\n    .dataframe thead th {\n        text-align: right;\n    }\n</style>\n<table border=\"1\" class=\"dataframe\">\n  <thead>\n    <tr style=\"text-align: right;\">\n      <th></th>\n      <th>da_int</th>\n      <th>danceability</th>\n      <th>mean</th>\n      <th>count</th>\n    </tr>\n  </thead>\n  <tbody>\n    <tr>\n      <th>0</th>\n      <td>0.05</td>\n      <td>(0.05, 0.06]</td>\n      <td>0.000000</td>\n      <td>7</td>\n    </tr>\n    <tr>\n      <th>1</th>\n      <td>0.06</td>\n      <td>(0.06, 0.07]</td>\n      <td>0.000000</td>\n      <td>40</td>\n    </tr>\n    <tr>\n      <th>2</th>\n      <td>0.07</td>\n      <td>(0.07, 0.08]</td>\n      <td>0.000000</td>\n      <td>53</td>\n    </tr>\n    <tr>\n      <th>3</th>\n      <td>0.08</td>\n      <td>(0.08, 0.09]</td>\n      <td>0.000000</td>\n      <td>58</td>\n    </tr>\n    <tr>\n      <th>4</th>\n      <td>0.09</td>\n      <td>(0.09, 0.1]</td>\n      <td>0.014706</td>\n      <td>68</td>\n    </tr>\n    <tr>\n      <th>...</th>\n      <td>...</td>\n      <td>...</td>\n      <td>...</td>\n      <td>...</td>\n    </tr>\n    <tr>\n      <th>88</th>\n      <td>0.93</td>\n      <td>(0.93, 0.94]</td>\n      <td>0.825397</td>\n      <td>63</td>\n    </tr>\n    <tr>\n      <th>89</th>\n      <td>0.94</td>\n      <td>(0.94, 0.95]</td>\n      <td>0.755556</td>\n      <td>45</td>\n    </tr>\n    <tr>\n      <th>90</th>\n      <td>0.95</td>\n      <td>(0.95, 0.96]</td>\n      <td>0.772727</td>\n      <td>22</td>\n    </tr>\n    <tr>\n      <th>91</th>\n      <td>0.96</td>\n      <td>(0.96, 0.97]</td>\n      <td>0.789474</td>\n      <td>19</td>\n    </tr>\n    <tr>\n      <th>92</th>\n      <td>0.97</td>\n      <td>(0.97, 0.98]</td>\n      <td>0.818182</td>\n      <td>11</td>\n    </tr>\n  </tbody>\n</table>\n<p>93 rows × 4 columns</p>\n</div>"
     },
     "metadata": {}
    }
   ]
  },
  {
   "cell_type": "code",
   "metadata": {
    "tags": [],
    "deepnote_to_be_reexecuted": false,
    "source_hash": "549e042d",
    "is_code_hidden": false,
    "is_output_hidden": true,
    "allow_embed": false,
    "execution_start": 1636139555605,
    "execution_millis": 30,
    "cell_id": "00028-b57ff1fe-b8e5-4eaf-93f9-95f4793fd363",
    "deepnote_cell_type": "code"
   },
   "source": "#Target proportion vs dancibility\ntarget_prop_by_loudness = data.groupby(\"loudness_rounded\")['target'].agg([\"mean\", \"count\"]).reset_index().dropna()\ntarget_prop_by_loudness = target_prop_by_loudness.loc[target_prop_by_loudness['count'] > 10]\n\n\ntarget_prop_by_loudness\n\n",
   "execution_count": 10,
   "outputs": [
    {
     "output_type": "execute_result",
     "execution_count": 10,
     "data": {
      "application/vnd.deepnote.dataframe.v2+json": {
       "row_count": 40,
       "column_count": 3,
       "columns": [
        {
         "name": "loudness_rounded",
         "dtype": "float64",
         "stats": {
          "unique_count": 40,
          "nan_count": 0,
          "min": "-40.0",
          "max": "-1.0",
          "histogram": [
           {
            "bin_start": -40,
            "bin_end": -36.1,
            "count": 4
           },
           {
            "bin_start": -36.1,
            "bin_end": -32.2,
            "count": 4
           },
           {
            "bin_start": -32.2,
            "bin_end": -28.3,
            "count": 4
           },
           {
            "bin_start": -28.3,
            "bin_end": -24.4,
            "count": 4
           },
           {
            "bin_start": -24.4,
            "bin_end": -20.5,
            "count": 4
           },
           {
            "bin_start": -20.5,
            "bin_end": -16.6,
            "count": 4
           },
           {
            "bin_start": -16.6,
            "bin_end": -12.7,
            "count": 4
           },
           {
            "bin_start": -12.7,
            "bin_end": -8.8,
            "count": 4
           },
           {
            "bin_start": -8.8,
            "bin_end": -4.899999999999999,
            "count": 4
           },
           {
            "bin_start": -4.899999999999999,
            "bin_end": -1,
            "count": 4
           }
          ]
         }
        },
        {
         "name": "mean",
         "dtype": "float64",
         "stats": {
          "unique_count": 29,
          "nan_count": 0,
          "min": "0.0",
          "max": "0.6227855001362769",
          "histogram": [
           {
            "bin_start": 0,
            "bin_end": 0.062278550013627684,
            "count": 19
           },
           {
            "bin_start": 0.062278550013627684,
            "bin_end": 0.12455710002725537,
            "count": 2
           },
           {
            "bin_start": 0.12455710002725537,
            "bin_end": 0.18683565004088304,
            "count": 2
           },
           {
            "bin_start": 0.18683565004088304,
            "bin_end": 0.24911420005451074,
            "count": 0
           },
           {
            "bin_start": 0.24911420005451074,
            "bin_end": 0.31139275006813844,
            "count": 2
           },
           {
            "bin_start": 0.31139275006813844,
            "bin_end": 0.3736713000817661,
            "count": 1
           },
           {
            "bin_start": 0.3736713000817661,
            "bin_end": 0.4359498500953938,
            "count": 1
           },
           {
            "bin_start": 0.4359498500953938,
            "bin_end": 0.4982284001090215,
            "count": 3
           },
           {
            "bin_start": 0.4982284001090215,
            "bin_end": 0.5605069501226492,
            "count": 2
           },
           {
            "bin_start": 0.5605069501226492,
            "bin_end": 0.6227855001362769,
            "count": 8
           }
          ]
         }
        },
        {
         "name": "count",
         "dtype": "int64",
         "stats": {
          "unique_count": 39,
          "nan_count": 0,
          "min": "11",
          "max": "3739",
          "histogram": [
           {
            "bin_start": 11,
            "bin_end": 383.8,
            "count": 22
           },
           {
            "bin_start": 383.8,
            "bin_end": 756.6,
            "count": 3
           },
           {
            "bin_start": 756.6,
            "bin_end": 1129.4,
            "count": 3
           },
           {
            "bin_start": 1129.4,
            "bin_end": 1502.2,
            "count": 1
           },
           {
            "bin_start": 1502.2,
            "bin_end": 1875,
            "count": 0
           },
           {
            "bin_start": 1875,
            "bin_end": 2247.8,
            "count": 1
           },
           {
            "bin_start": 2247.8,
            "bin_end": 2620.6,
            "count": 2
           },
           {
            "bin_start": 2620.6,
            "bin_end": 2993.4,
            "count": 2
           },
           {
            "bin_start": 2993.4,
            "bin_end": 3366.2000000000003,
            "count": 2
           },
           {
            "bin_start": 3366.2000000000003,
            "bin_end": 3739,
            "count": 4
           }
          ]
         }
        },
        {
         "name": "_deepnote_index_column",
         "dtype": "int64"
        }
       ],
       "rows_top": [
        {
         "loudness_rounded": -40,
         "mean": 0,
         "count": 11,
         "_deepnote_index_column": 6
        },
        {
         "loudness_rounded": -39,
         "mean": 0,
         "count": 13,
         "_deepnote_index_column": 7
        },
        {
         "loudness_rounded": -38,
         "mean": 0,
         "count": 11,
         "_deepnote_index_column": 8
        },
        {
         "loudness_rounded": -37,
         "mean": 0,
         "count": 15,
         "_deepnote_index_column": 9
        },
        {
         "loudness_rounded": -36,
         "mean": 0,
         "count": 19,
         "_deepnote_index_column": 10
        },
        {
         "loudness_rounded": -35,
         "mean": 0,
         "count": 20,
         "_deepnote_index_column": 11
        },
        {
         "loudness_rounded": -34,
         "mean": 0,
         "count": 28,
         "_deepnote_index_column": 12
        },
        {
         "loudness_rounded": -33,
         "mean": 0,
         "count": 33,
         "_deepnote_index_column": 13
        },
        {
         "loudness_rounded": -32,
         "mean": 0,
         "count": 42,
         "_deepnote_index_column": 14
        },
        {
         "loudness_rounded": -31,
         "mean": 0,
         "count": 59,
         "_deepnote_index_column": 15
        },
        {
         "loudness_rounded": -30,
         "mean": 0,
         "count": 62,
         "_deepnote_index_column": 16
        },
        {
         "loudness_rounded": -29,
         "mean": 0,
         "count": 76,
         "_deepnote_index_column": 17
        },
        {
         "loudness_rounded": -28,
         "mean": 0.022727272727272728,
         "count": 88,
         "_deepnote_index_column": 18
        },
        {
         "loudness_rounded": -27,
         "mean": 0.02912621359223301,
         "count": 103,
         "_deepnote_index_column": 19
        },
        {
         "loudness_rounded": -26,
         "mean": 0.00847457627118644,
         "count": 118,
         "_deepnote_index_column": 20
        },
        {
         "loudness_rounded": -25,
         "mean": 0.043209876543209874,
         "count": 162,
         "_deepnote_index_column": 21
        },
        {
         "loudness_rounded": -24,
         "mean": 0.054187192118226604,
         "count": 203,
         "_deepnote_index_column": 22
        },
        {
         "loudness_rounded": -23,
         "mean": 0.03875968992248062,
         "count": 258,
         "_deepnote_index_column": 23
        },
        {
         "loudness_rounded": -22,
         "mean": 0.0410958904109589,
         "count": 292,
         "_deepnote_index_column": 24
        },
        {
         "loudness_rounded": -21,
         "mean": 0.07232704402515723,
         "count": 318,
         "_deepnote_index_column": 25
        },
        {
         "loudness_rounded": -20,
         "mean": 0.08653846153846154,
         "count": 416,
         "_deepnote_index_column": 26
        },
        {
         "loudness_rounded": -19,
         "mean": 0.13320825515947468,
         "count": 533,
         "_deepnote_index_column": 27
        },
        {
         "loudness_rounded": -18,
         "mean": 0.17209302325581396,
         "count": 645,
         "_deepnote_index_column": 28
        },
        {
         "loudness_rounded": -17,
         "mean": 0.2613768961493582,
         "count": 857,
         "_deepnote_index_column": 29
        },
        {
         "loudness_rounded": -16,
         "mean": 0.2898148148148148,
         "count": 1080,
         "_deepnote_index_column": 30
        },
        {
         "loudness_rounded": -15,
         "mean": 0.3669985775248933,
         "count": 1406,
         "_deepnote_index_column": 31
        },
        {
         "loudness_rounded": -14,
         "mean": 0.43756613756613755,
         "count": 1890,
         "_deepnote_index_column": 32
        },
        {
         "loudness_rounded": -13,
         "mean": 0.47410358565737054,
         "count": 2259,
         "_deepnote_index_column": 33
        },
        {
         "loudness_rounded": -12,
         "mean": 0.4919865821841223,
         "count": 2683,
         "_deepnote_index_column": 34
        },
        {
         "loudness_rounded": -11,
         "mean": 0.5399590163934426,
         "count": 2928,
         "_deepnote_index_column": 35
        },
        {
         "loudness_rounded": -10,
         "mean": 0.5624595469255663,
         "count": 3090,
         "_deepnote_index_column": 36
        },
        {
         "loudness_rounded": -9,
         "mean": 0.5689400649542368,
         "count": 3387,
         "_deepnote_index_column": 37
        },
        {
         "loudness_rounded": -8,
         "mean": 0.5711041725801873,
         "count": 3523,
         "_deepnote_index_column": 38
        },
        {
         "loudness_rounded": -7,
         "mean": 0.587857715966836,
         "count": 3739,
         "_deepnote_index_column": 39
        },
        {
         "loudness_rounded": -6,
         "mean": 0.6227855001362769,
         "count": 3669,
         "_deepnote_index_column": 40
        },
        {
         "loudness_rounded": -5,
         "mean": 0.6061811505507956,
         "count": 3268,
         "_deepnote_index_column": 41
        },
        {
         "loudness_rounded": -4,
         "mean": 0.6212314225053078,
         "count": 2355,
         "_deepnote_index_column": 42
        },
        {
         "loudness_rounded": -3,
         "mean": 0.5912007332722273,
         "count": 1091,
         "_deepnote_index_column": 43
        },
        {
         "loudness_rounded": -2,
         "mean": 0.5169811320754717,
         "count": 265,
         "_deepnote_index_column": 44
        },
        {
         "loudness_rounded": -1,
         "mean": 0.421875,
         "count": 64,
         "_deepnote_index_column": 45
        }
       ],
       "rows_bottom": null
      },
      "text/plain": "    loudness_rounded      mean  count\n6              -40.0  0.000000     11\n7              -39.0  0.000000     13\n8              -38.0  0.000000     11\n9              -37.0  0.000000     15\n10             -36.0  0.000000     19\n11             -35.0  0.000000     20\n12             -34.0  0.000000     28\n13             -33.0  0.000000     33\n14             -32.0  0.000000     42\n15             -31.0  0.000000     59\n16             -30.0  0.000000     62\n17             -29.0  0.000000     76\n18             -28.0  0.022727     88\n19             -27.0  0.029126    103\n20             -26.0  0.008475    118\n21             -25.0  0.043210    162\n22             -24.0  0.054187    203\n23             -23.0  0.038760    258\n24             -22.0  0.041096    292\n25             -21.0  0.072327    318\n26             -20.0  0.086538    416\n27             -19.0  0.133208    533\n28             -18.0  0.172093    645\n29             -17.0  0.261377    857\n30             -16.0  0.289815   1080\n31             -15.0  0.366999   1406\n32             -14.0  0.437566   1890\n33             -13.0  0.474104   2259\n34             -12.0  0.491987   2683\n35             -11.0  0.539959   2928\n36             -10.0  0.562460   3090\n37              -9.0  0.568940   3387\n38              -8.0  0.571104   3523\n39              -7.0  0.587858   3739\n40              -6.0  0.622786   3669\n41              -5.0  0.606181   3268\n42              -4.0  0.621231   2355\n43              -3.0  0.591201   1091\n44              -2.0  0.516981    265\n45              -1.0  0.421875     64",
      "text/html": "<div>\n<style scoped>\n    .dataframe tbody tr th:only-of-type {\n        vertical-align: middle;\n    }\n\n    .dataframe tbody tr th {\n        vertical-align: top;\n    }\n\n    .dataframe thead th {\n        text-align: right;\n    }\n</style>\n<table border=\"1\" class=\"dataframe\">\n  <thead>\n    <tr style=\"text-align: right;\">\n      <th></th>\n      <th>loudness_rounded</th>\n      <th>mean</th>\n      <th>count</th>\n    </tr>\n  </thead>\n  <tbody>\n    <tr>\n      <th>6</th>\n      <td>-40.0</td>\n      <td>0.000000</td>\n      <td>11</td>\n    </tr>\n    <tr>\n      <th>7</th>\n      <td>-39.0</td>\n      <td>0.000000</td>\n      <td>13</td>\n    </tr>\n    <tr>\n      <th>8</th>\n      <td>-38.0</td>\n      <td>0.000000</td>\n      <td>11</td>\n    </tr>\n    <tr>\n      <th>9</th>\n      <td>-37.0</td>\n      <td>0.000000</td>\n      <td>15</td>\n    </tr>\n    <tr>\n      <th>10</th>\n      <td>-36.0</td>\n      <td>0.000000</td>\n      <td>19</td>\n    </tr>\n    <tr>\n      <th>11</th>\n      <td>-35.0</td>\n      <td>0.000000</td>\n      <td>20</td>\n    </tr>\n    <tr>\n      <th>12</th>\n      <td>-34.0</td>\n      <td>0.000000</td>\n      <td>28</td>\n    </tr>\n    <tr>\n      <th>13</th>\n      <td>-33.0</td>\n      <td>0.000000</td>\n      <td>33</td>\n    </tr>\n    <tr>\n      <th>14</th>\n      <td>-32.0</td>\n      <td>0.000000</td>\n      <td>42</td>\n    </tr>\n    <tr>\n      <th>15</th>\n      <td>-31.0</td>\n      <td>0.000000</td>\n      <td>59</td>\n    </tr>\n    <tr>\n      <th>16</th>\n      <td>-30.0</td>\n      <td>0.000000</td>\n      <td>62</td>\n    </tr>\n    <tr>\n      <th>17</th>\n      <td>-29.0</td>\n      <td>0.000000</td>\n      <td>76</td>\n    </tr>\n    <tr>\n      <th>18</th>\n      <td>-28.0</td>\n      <td>0.022727</td>\n      <td>88</td>\n    </tr>\n    <tr>\n      <th>19</th>\n      <td>-27.0</td>\n      <td>0.029126</td>\n      <td>103</td>\n    </tr>\n    <tr>\n      <th>20</th>\n      <td>-26.0</td>\n      <td>0.008475</td>\n      <td>118</td>\n    </tr>\n    <tr>\n      <th>21</th>\n      <td>-25.0</td>\n      <td>0.043210</td>\n      <td>162</td>\n    </tr>\n    <tr>\n      <th>22</th>\n      <td>-24.0</td>\n      <td>0.054187</td>\n      <td>203</td>\n    </tr>\n    <tr>\n      <th>23</th>\n      <td>-23.0</td>\n      <td>0.038760</td>\n      <td>258</td>\n    </tr>\n    <tr>\n      <th>24</th>\n      <td>-22.0</td>\n      <td>0.041096</td>\n      <td>292</td>\n    </tr>\n    <tr>\n      <th>25</th>\n      <td>-21.0</td>\n      <td>0.072327</td>\n      <td>318</td>\n    </tr>\n    <tr>\n      <th>26</th>\n      <td>-20.0</td>\n      <td>0.086538</td>\n      <td>416</td>\n    </tr>\n    <tr>\n      <th>27</th>\n      <td>-19.0</td>\n      <td>0.133208</td>\n      <td>533</td>\n    </tr>\n    <tr>\n      <th>28</th>\n      <td>-18.0</td>\n      <td>0.172093</td>\n      <td>645</td>\n    </tr>\n    <tr>\n      <th>29</th>\n      <td>-17.0</td>\n      <td>0.261377</td>\n      <td>857</td>\n    </tr>\n    <tr>\n      <th>30</th>\n      <td>-16.0</td>\n      <td>0.289815</td>\n      <td>1080</td>\n    </tr>\n    <tr>\n      <th>31</th>\n      <td>-15.0</td>\n      <td>0.366999</td>\n      <td>1406</td>\n    </tr>\n    <tr>\n      <th>32</th>\n      <td>-14.0</td>\n      <td>0.437566</td>\n      <td>1890</td>\n    </tr>\n    <tr>\n      <th>33</th>\n      <td>-13.0</td>\n      <td>0.474104</td>\n      <td>2259</td>\n    </tr>\n    <tr>\n      <th>34</th>\n      <td>-12.0</td>\n      <td>0.491987</td>\n      <td>2683</td>\n    </tr>\n    <tr>\n      <th>35</th>\n      <td>-11.0</td>\n      <td>0.539959</td>\n      <td>2928</td>\n    </tr>\n    <tr>\n      <th>36</th>\n      <td>-10.0</td>\n      <td>0.562460</td>\n      <td>3090</td>\n    </tr>\n    <tr>\n      <th>37</th>\n      <td>-9.0</td>\n      <td>0.568940</td>\n      <td>3387</td>\n    </tr>\n    <tr>\n      <th>38</th>\n      <td>-8.0</td>\n      <td>0.571104</td>\n      <td>3523</td>\n    </tr>\n    <tr>\n      <th>39</th>\n      <td>-7.0</td>\n      <td>0.587858</td>\n      <td>3739</td>\n    </tr>\n    <tr>\n      <th>40</th>\n      <td>-6.0</td>\n      <td>0.622786</td>\n      <td>3669</td>\n    </tr>\n    <tr>\n      <th>41</th>\n      <td>-5.0</td>\n      <td>0.606181</td>\n      <td>3268</td>\n    </tr>\n    <tr>\n      <th>42</th>\n      <td>-4.0</td>\n      <td>0.621231</td>\n      <td>2355</td>\n    </tr>\n    <tr>\n      <th>43</th>\n      <td>-3.0</td>\n      <td>0.591201</td>\n      <td>1091</td>\n    </tr>\n    <tr>\n      <th>44</th>\n      <td>-2.0</td>\n      <td>0.516981</td>\n      <td>265</td>\n    </tr>\n    <tr>\n      <th>45</th>\n      <td>-1.0</td>\n      <td>0.421875</td>\n      <td>64</td>\n    </tr>\n  </tbody>\n</table>\n</div>"
     },
     "metadata": {}
    }
   ]
  },
  {
   "cell_type": "code",
   "metadata": {
    "tags": [],
    "deepnote_to_be_reexecuted": false,
    "source_hash": "11996c76",
    "is_code_hidden": false,
    "is_output_hidden": false,
    "allow_embed": false,
    "execution_start": 1636139555638,
    "execution_millis": 38,
    "cell_id": "00029-7e177a12-8f2a-427e-b515-0c8ee0db7381",
    "deepnote_cell_type": "code"
   },
   "source": "#Target proportion vs valence\ntarget_prop_by_valence = data.groupby(\"valence\")['target'].agg([\"mean\", \"count\"]).reset_index().dropna()\ntarget_prop_by_valence = target_prop_by_valence.loc[target_prop_by_valence['count'] > 10]\n\ntarget_prop_by_valence\n",
   "execution_count": 11,
   "outputs": [
    {
     "output_type": "execute_result",
     "execution_count": 11,
     "data": {
      "application/vnd.deepnote.dataframe.v2+json": {
       "row_count": 923,
       "column_count": 3,
       "columns": [
        {
         "name": "valence",
         "dtype": "float64",
         "stats": {
          "unique_count": 923,
          "nan_count": 0,
          "min": "0.0",
          "max": "0.98",
          "histogram": [
           {
            "bin_start": 0,
            "bin_end": 0.098,
            "count": 43
           },
           {
            "bin_start": 0.098,
            "bin_end": 0.196,
            "count": 95
           },
           {
            "bin_start": 0.196,
            "bin_end": 0.29400000000000004,
            "count": 99
           },
           {
            "bin_start": 0.29400000000000004,
            "bin_end": 0.392,
            "count": 97
           },
           {
            "bin_start": 0.392,
            "bin_end": 0.49,
            "count": 98
           },
           {
            "bin_start": 0.49,
            "bin_end": 0.5880000000000001,
            "count": 99
           },
           {
            "bin_start": 0.5880000000000001,
            "bin_end": 0.686,
            "count": 97
           },
           {
            "bin_start": 0.686,
            "bin_end": 0.784,
            "count": 98
           },
           {
            "bin_start": 0.784,
            "bin_end": 0.882,
            "count": 98
           },
           {
            "bin_start": 0.882,
            "bin_end": 0.98,
            "count": 99
           }
          ]
         }
        },
        {
         "name": "mean",
         "dtype": "float64",
         "stats": {
          "unique_count": 402,
          "nan_count": 0,
          "min": "0.0",
          "max": "0.8333333333333334",
          "histogram": [
           {
            "bin_start": 0,
            "bin_end": 0.08333333333333334,
            "count": 40
           },
           {
            "bin_start": 0.08333333333333334,
            "bin_end": 0.16666666666666669,
            "count": 14
           },
           {
            "bin_start": 0.16666666666666669,
            "bin_end": 0.25,
            "count": 16
           },
           {
            "bin_start": 0.25,
            "bin_end": 0.33333333333333337,
            "count": 62
           },
           {
            "bin_start": 0.33333333333333337,
            "bin_end": 0.41666666666666674,
            "count": 103
           },
           {
            "bin_start": 0.41666666666666674,
            "bin_end": 0.5,
            "count": 155
           },
           {
            "bin_start": 0.5,
            "bin_end": 0.5833333333333334,
            "count": 246
           },
           {
            "bin_start": 0.5833333333333334,
            "bin_end": 0.6666666666666667,
            "count": 204
           },
           {
            "bin_start": 0.6666666666666667,
            "bin_end": 0.7500000000000001,
            "count": 75
           },
           {
            "bin_start": 0.7500000000000001,
            "bin_end": 0.8333333333333334,
            "count": 8
           }
          ]
         }
        },
        {
         "name": "count",
         "dtype": "int64",
         "stats": {
          "unique_count": 70,
          "nan_count": 0,
          "min": "11",
          "max": "217",
          "histogram": [
           {
            "bin_start": 11,
            "bin_end": 31.6,
            "count": 150
           },
           {
            "bin_start": 31.6,
            "bin_end": 52.2,
            "count": 638
           },
           {
            "bin_start": 52.2,
            "bin_end": 72.80000000000001,
            "count": 126
           },
           {
            "bin_start": 72.80000000000001,
            "bin_end": 93.4,
            "count": 3
           },
           {
            "bin_start": 93.4,
            "bin_end": 114,
            "count": 0
           },
           {
            "bin_start": 114,
            "bin_end": 134.60000000000002,
            "count": 1
           },
           {
            "bin_start": 134.60000000000002,
            "bin_end": 155.20000000000002,
            "count": 2
           },
           {
            "bin_start": 155.20000000000002,
            "bin_end": 175.8,
            "count": 2
           },
           {
            "bin_start": 175.8,
            "bin_end": 196.4,
            "count": 0
           },
           {
            "bin_start": 196.4,
            "bin_end": 217,
            "count": 1
           }
          ]
         }
        },
        {
         "name": "_deepnote_index_column",
         "dtype": "int64"
        }
       ],
       "rows_top": [
        {
         "valence": 0,
         "mean": 0.07142857142857142,
         "count": 14,
         "_deepnote_index_column": 0
        },
        {
         "valence": 0.035,
         "mean": 0,
         "count": 11,
         "_deepnote_index_column": 117
        },
        {
         "valence": 0.0351,
         "mean": 0,
         "count": 12,
         "_deepnote_index_column": 118
        },
        {
         "valence": 0.0358,
         "mean": 0,
         "count": 14,
         "_deepnote_index_column": 125
        },
        {
         "valence": 0.0362,
         "mean": 0,
         "count": 14,
         "_deepnote_index_column": 129
        },
        {
         "valence": 0.0363,
         "mean": 0,
         "count": 12,
         "_deepnote_index_column": 130
        },
        {
         "valence": 0.0364,
         "mean": 0.09090909090909091,
         "count": 11,
         "_deepnote_index_column": 131
        },
        {
         "valence": 0.0366,
         "mean": 0,
         "count": 17,
         "_deepnote_index_column": 133
        },
        {
         "valence": 0.0367,
         "mean": 0,
         "count": 13,
         "_deepnote_index_column": 134
        },
        {
         "valence": 0.0368,
         "mean": 0,
         "count": 18,
         "_deepnote_index_column": 135
        },
        {
         "valence": 0.0369,
         "mean": 0,
         "count": 11,
         "_deepnote_index_column": 136
        },
        {
         "valence": 0.037,
         "mean": 0,
         "count": 14,
         "_deepnote_index_column": 137
        },
        {
         "valence": 0.0371,
         "mean": 0,
         "count": 13,
         "_deepnote_index_column": 138
        },
        {
         "valence": 0.0373,
         "mean": 0,
         "count": 12,
         "_deepnote_index_column": 140
        },
        {
         "valence": 0.0374,
         "mean": 0,
         "count": 13,
         "_deepnote_index_column": 141
        },
        {
         "valence": 0.0375,
         "mean": 0,
         "count": 16,
         "_deepnote_index_column": 142
        },
        {
         "valence": 0.0376,
         "mean": 0.07692307692307693,
         "count": 13,
         "_deepnote_index_column": 143
        },
        {
         "valence": 0.0377,
         "mean": 0,
         "count": 11,
         "_deepnote_index_column": 144
        },
        {
         "valence": 0.0378,
         "mean": 0,
         "count": 16,
         "_deepnote_index_column": 145
        },
        {
         "valence": 0.0379,
         "mean": 0.10526315789473684,
         "count": 19,
         "_deepnote_index_column": 146
        },
        {
         "valence": 0.038,
         "mean": 0,
         "count": 16,
         "_deepnote_index_column": 147
        },
        {
         "valence": 0.0381,
         "mean": 0,
         "count": 11,
         "_deepnote_index_column": 148
        },
        {
         "valence": 0.0382,
         "mean": 0.0625,
         "count": 16,
         "_deepnote_index_column": 149
        },
        {
         "valence": 0.0383,
         "mean": 0,
         "count": 16,
         "_deepnote_index_column": 150
        },
        {
         "valence": 0.0384,
         "mean": 0,
         "count": 14,
         "_deepnote_index_column": 151
        },
        {
         "valence": 0.0385,
         "mean": 0,
         "count": 12,
         "_deepnote_index_column": 152
        },
        {
         "valence": 0.0386,
         "mean": 0,
         "count": 20,
         "_deepnote_index_column": 153
        },
        {
         "valence": 0.0387,
         "mean": 0,
         "count": 15,
         "_deepnote_index_column": 154
        },
        {
         "valence": 0.0388,
         "mean": 0.09090909090909091,
         "count": 11,
         "_deepnote_index_column": 155
        },
        {
         "valence": 0.0389,
         "mean": 0,
         "count": 11,
         "_deepnote_index_column": 156
        },
        {
         "valence": 0.039,
         "mean": 0.125,
         "count": 16,
         "_deepnote_index_column": 157
        },
        {
         "valence": 0.0391,
         "mean": 0.05263157894736842,
         "count": 19,
         "_deepnote_index_column": 158
        },
        {
         "valence": 0.0392,
         "mean": 0,
         "count": 22,
         "_deepnote_index_column": 159
        },
        {
         "valence": 0.0393,
         "mean": 0,
         "count": 15,
         "_deepnote_index_column": 160
        },
        {
         "valence": 0.0394,
         "mean": 0,
         "count": 33,
         "_deepnote_index_column": 161
        },
        {
         "valence": 0.0395,
         "mean": 0,
         "count": 20,
         "_deepnote_index_column": 162
        },
        {
         "valence": 0.0396,
         "mean": 0,
         "count": 17,
         "_deepnote_index_column": 163
        },
        {
         "valence": 0.0397,
         "mean": 0.18181818181818182,
         "count": 11,
         "_deepnote_index_column": 164
        },
        {
         "valence": 0.0398,
         "mean": 0.045454545454545456,
         "count": 22,
         "_deepnote_index_column": 165
        },
        {
         "valence": 0.0399,
         "mean": 0.05555555555555555,
         "count": 18,
         "_deepnote_index_column": 166
        },
        {
         "valence": 0.04,
         "mean": 0.06666666666666667,
         "count": 15,
         "_deepnote_index_column": 167
        },
        {
         "valence": 0.0716,
         "mean": 0,
         "count": 11,
         "_deepnote_index_column": 465
        },
        {
         "valence": 0.0757,
         "mean": 0,
         "count": 17,
         "_deepnote_index_column": 503
        },
        {
         "valence": 0.101,
         "mean": 0.35714285714285715,
         "count": 28,
         "_deepnote_index_column": 718
        },
        {
         "valence": 0.102,
         "mean": 0.39285714285714285,
         "count": 28,
         "_deepnote_index_column": 719
        },
        {
         "valence": 0.103,
         "mean": 0.25,
         "count": 28,
         "_deepnote_index_column": 720
        },
        {
         "valence": 0.104,
         "mean": 0.10526315789473684,
         "count": 19,
         "_deepnote_index_column": 721
        },
        {
         "valence": 0.105,
         "mean": 0.21428571428571427,
         "count": 14,
         "_deepnote_index_column": 722
        },
        {
         "valence": 0.106,
         "mean": 0.2727272727272727,
         "count": 33,
         "_deepnote_index_column": 723
        },
        {
         "valence": 0.107,
         "mean": 0.16666666666666666,
         "count": 30,
         "_deepnote_index_column": 724
        },
        {
         "valence": 0.108,
         "mean": 0.2647058823529412,
         "count": 34,
         "_deepnote_index_column": 725
        },
        {
         "valence": 0.109,
         "mean": 0.24242424242424243,
         "count": 33,
         "_deepnote_index_column": 726
        },
        {
         "valence": 0.11,
         "mean": 0.22727272727272727,
         "count": 22,
         "_deepnote_index_column": 727
        },
        {
         "valence": 0.111,
         "mean": 0.2916666666666667,
         "count": 24,
         "_deepnote_index_column": 728
        },
        {
         "valence": 0.112,
         "mean": 0.23076923076923078,
         "count": 26,
         "_deepnote_index_column": 729
        },
        {
         "valence": 0.113,
         "mean": 0.25925925925925924,
         "count": 27,
         "_deepnote_index_column": 730
        },
        {
         "valence": 0.114,
         "mean": 0.10344827586206896,
         "count": 29,
         "_deepnote_index_column": 731
        },
        {
         "valence": 0.115,
         "mean": 0.14814814814814814,
         "count": 27,
         "_deepnote_index_column": 732
        },
        {
         "valence": 0.116,
         "mean": 0.08,
         "count": 25,
         "_deepnote_index_column": 733
        },
        {
         "valence": 0.117,
         "mean": 0.2777777777777778,
         "count": 36,
         "_deepnote_index_column": 734
        },
        {
         "valence": 0.118,
         "mean": 0.2608695652173913,
         "count": 23,
         "_deepnote_index_column": 735
        },
        {
         "valence": 0.119,
         "mean": 0.21739130434782608,
         "count": 23,
         "_deepnote_index_column": 736
        },
        {
         "valence": 0.12,
         "mean": 0.25,
         "count": 20,
         "_deepnote_index_column": 737
        },
        {
         "valence": 0.121,
         "mean": 0.21052631578947367,
         "count": 19,
         "_deepnote_index_column": 738
        },
        {
         "valence": 0.122,
         "mean": 0.36,
         "count": 25,
         "_deepnote_index_column": 739
        },
        {
         "valence": 0.123,
         "mean": 0.23809523809523808,
         "count": 21,
         "_deepnote_index_column": 740
        },
        {
         "valence": 0.124,
         "mean": 0.20833333333333334,
         "count": 24,
         "_deepnote_index_column": 741
        },
        {
         "valence": 0.125,
         "mean": 0.25806451612903225,
         "count": 31,
         "_deepnote_index_column": 742
        },
        {
         "valence": 0.126,
         "mean": 0.2962962962962963,
         "count": 27,
         "_deepnote_index_column": 743
        },
        {
         "valence": 0.127,
         "mean": 0.10714285714285714,
         "count": 28,
         "_deepnote_index_column": 744
        },
        {
         "valence": 0.128,
         "mean": 0.07407407407407407,
         "count": 27,
         "_deepnote_index_column": 745
        },
        {
         "valence": 0.129,
         "mean": 0.32,
         "count": 25,
         "_deepnote_index_column": 746
        },
        {
         "valence": 0.13,
         "mean": 0.25,
         "count": 24,
         "_deepnote_index_column": 747
        },
        {
         "valence": 0.131,
         "mean": 0.3793103448275862,
         "count": 29,
         "_deepnote_index_column": 748
        },
        {
         "valence": 0.132,
         "mean": 0.18181818181818182,
         "count": 22,
         "_deepnote_index_column": 749
        },
        {
         "valence": 0.133,
         "mean": 0.1935483870967742,
         "count": 31,
         "_deepnote_index_column": 750
        },
        {
         "valence": 0.134,
         "mean": 0.10344827586206896,
         "count": 29,
         "_deepnote_index_column": 751
        },
        {
         "valence": 0.135,
         "mean": 0.2962962962962963,
         "count": 27,
         "_deepnote_index_column": 752
        },
        {
         "valence": 0.136,
         "mean": 0.2571428571428571,
         "count": 35,
         "_deepnote_index_column": 753
        },
        {
         "valence": 0.137,
         "mean": 0.37037037037037035,
         "count": 27,
         "_deepnote_index_column": 754
        },
        {
         "valence": 0.138,
         "mean": 0.29411764705882354,
         "count": 34,
         "_deepnote_index_column": 755
        },
        {
         "valence": 0.139,
         "mean": 0.3793103448275862,
         "count": 29,
         "_deepnote_index_column": 756
        },
        {
         "valence": 0.14,
         "mean": 0.16,
         "count": 25,
         "_deepnote_index_column": 757
        },
        {
         "valence": 0.141,
         "mean": 0.32142857142857145,
         "count": 28,
         "_deepnote_index_column": 758
        },
        {
         "valence": 0.142,
         "mean": 0.25,
         "count": 28,
         "_deepnote_index_column": 759
        },
        {
         "valence": 0.143,
         "mean": 0.2727272727272727,
         "count": 22,
         "_deepnote_index_column": 760
        },
        {
         "valence": 0.144,
         "mean": 0.34210526315789475,
         "count": 38,
         "_deepnote_index_column": 761
        },
        {
         "valence": 0.145,
         "mean": 0.46153846153846156,
         "count": 26,
         "_deepnote_index_column": 762
        },
        {
         "valence": 0.146,
         "mean": 0.37142857142857144,
         "count": 35,
         "_deepnote_index_column": 763
        },
        {
         "valence": 0.147,
         "mean": 0.13333333333333333,
         "count": 30,
         "_deepnote_index_column": 764
        },
        {
         "valence": 0.148,
         "mean": 0.2631578947368421,
         "count": 38,
         "_deepnote_index_column": 765
        },
        {
         "valence": 0.149,
         "mean": 0.13793103448275862,
         "count": 29,
         "_deepnote_index_column": 766
        },
        {
         "valence": 0.15,
         "mean": 0.2857142857142857,
         "count": 42,
         "_deepnote_index_column": 767
        },
        {
         "valence": 0.151,
         "mean": 0.26666666666666666,
         "count": 45,
         "_deepnote_index_column": 768
        },
        {
         "valence": 0.152,
         "mean": 0.2727272727272727,
         "count": 33,
         "_deepnote_index_column": 769
        },
        {
         "valence": 0.153,
         "mean": 0.3111111111111111,
         "count": 45,
         "_deepnote_index_column": 770
        },
        {
         "valence": 0.154,
         "mean": 0.17391304347826086,
         "count": 23,
         "_deepnote_index_column": 771
        },
        {
         "valence": 0.155,
         "mean": 0.25806451612903225,
         "count": 31,
         "_deepnote_index_column": 772
        },
        {
         "valence": 0.156,
         "mean": 0.5483870967741935,
         "count": 31,
         "_deepnote_index_column": 773
        },
        {
         "valence": 0.157,
         "mean": 0.18181818181818182,
         "count": 22,
         "_deepnote_index_column": 774
        },
        {
         "valence": 0.158,
         "mean": 0.36585365853658536,
         "count": 41,
         "_deepnote_index_column": 775
        },
        {
         "valence": 0.159,
         "mean": 0.3235294117647059,
         "count": 34,
         "_deepnote_index_column": 776
        },
        {
         "valence": 0.16,
         "mean": 0.2972972972972973,
         "count": 37,
         "_deepnote_index_column": 777
        },
        {
         "valence": 0.161,
         "mean": 0.32142857142857145,
         "count": 28,
         "_deepnote_index_column": 778
        },
        {
         "valence": 0.162,
         "mean": 0.25806451612903225,
         "count": 31,
         "_deepnote_index_column": 779
        },
        {
         "valence": 0.163,
         "mean": 0.3333333333333333,
         "count": 21,
         "_deepnote_index_column": 780
        },
        {
         "valence": 0.164,
         "mean": 0.4,
         "count": 30,
         "_deepnote_index_column": 781
        },
        {
         "valence": 0.165,
         "mean": 0.4074074074074074,
         "count": 27,
         "_deepnote_index_column": 782
        },
        {
         "valence": 0.166,
         "mean": 0.3673469387755102,
         "count": 49,
         "_deepnote_index_column": 783
        },
        {
         "valence": 0.167,
         "mean": 0.28,
         "count": 25,
         "_deepnote_index_column": 784
        },
        {
         "valence": 0.168,
         "mean": 0.43333333333333335,
         "count": 30,
         "_deepnote_index_column": 785
        },
        {
         "valence": 0.169,
         "mean": 0.2857142857142857,
         "count": 28,
         "_deepnote_index_column": 786
        },
        {
         "valence": 0.17,
         "mean": 0.42857142857142855,
         "count": 28,
         "_deepnote_index_column": 787
        },
        {
         "valence": 0.171,
         "mean": 0.5263157894736842,
         "count": 19,
         "_deepnote_index_column": 788
        },
        {
         "valence": 0.172,
         "mean": 0.32432432432432434,
         "count": 37,
         "_deepnote_index_column": 789
        },
        {
         "valence": 0.173,
         "mean": 0.3333333333333333,
         "count": 27,
         "_deepnote_index_column": 790
        },
        {
         "valence": 0.174,
         "mean": 0.2857142857142857,
         "count": 28,
         "_deepnote_index_column": 791
        },
        {
         "valence": 0.175,
         "mean": 0.41025641025641024,
         "count": 39,
         "_deepnote_index_column": 792
        },
        {
         "valence": 0.176,
         "mean": 0.3793103448275862,
         "count": 29,
         "_deepnote_index_column": 793
        },
        {
         "valence": 0.177,
         "mean": 0.24324324324324326,
         "count": 37,
         "_deepnote_index_column": 794
        },
        {
         "valence": 0.178,
         "mean": 0.4583333333333333,
         "count": 24,
         "_deepnote_index_column": 795
        },
        {
         "valence": 0.179,
         "mean": 0.35714285714285715,
         "count": 28,
         "_deepnote_index_column": 796
        },
        {
         "valence": 0.18,
         "mean": 0.2619047619047619,
         "count": 42,
         "_deepnote_index_column": 797
        },
        {
         "valence": 0.181,
         "mean": 0.40476190476190477,
         "count": 42,
         "_deepnote_index_column": 798
        },
        {
         "valence": 0.182,
         "mean": 0.15789473684210525,
         "count": 38,
         "_deepnote_index_column": 799
        },
        {
         "valence": 0.183,
         "mean": 0.2926829268292683,
         "count": 41,
         "_deepnote_index_column": 800
        },
        {
         "valence": 0.184,
         "mean": 0.3695652173913043,
         "count": 46,
         "_deepnote_index_column": 801
        },
        {
         "valence": 0.185,
         "mean": 0.3611111111111111,
         "count": 36,
         "_deepnote_index_column": 802
        },
        {
         "valence": 0.186,
         "mean": 0.3333333333333333,
         "count": 24,
         "_deepnote_index_column": 803
        },
        {
         "valence": 0.187,
         "mean": 0.23529411764705882,
         "count": 34,
         "_deepnote_index_column": 804
        },
        {
         "valence": 0.188,
         "mean": 0.26666666666666666,
         "count": 30,
         "_deepnote_index_column": 805
        },
        {
         "valence": 0.189,
         "mean": 0.34375,
         "count": 32,
         "_deepnote_index_column": 806
        },
        {
         "valence": 0.19,
         "mean": 0.32558139534883723,
         "count": 43,
         "_deepnote_index_column": 807
        },
        {
         "valence": 0.191,
         "mean": 0.35294117647058826,
         "count": 34,
         "_deepnote_index_column": 808
        },
        {
         "valence": 0.192,
         "mean": 0.38461538461538464,
         "count": 26,
         "_deepnote_index_column": 809
        },
        {
         "valence": 0.193,
         "mean": 0.38461538461538464,
         "count": 39,
         "_deepnote_index_column": 810
        },
        {
         "valence": 0.194,
         "mean": 0.35294117647058826,
         "count": 34,
         "_deepnote_index_column": 811
        },
        {
         "valence": 0.195,
         "mean": 0.36363636363636365,
         "count": 33,
         "_deepnote_index_column": 812
        },
        {
         "valence": 0.196,
         "mean": 0.3170731707317073,
         "count": 41,
         "_deepnote_index_column": 813
        },
        {
         "valence": 0.197,
         "mean": 0.45161290322580644,
         "count": 31,
         "_deepnote_index_column": 814
        },
        {
         "valence": 0.198,
         "mean": 0.36585365853658536,
         "count": 41,
         "_deepnote_index_column": 815
        },
        {
         "valence": 0.199,
         "mean": 0.40540540540540543,
         "count": 37,
         "_deepnote_index_column": 816
        },
        {
         "valence": 0.2,
         "mean": 0.375,
         "count": 32,
         "_deepnote_index_column": 817
        },
        {
         "valence": 0.201,
         "mean": 0.375,
         "count": 40,
         "_deepnote_index_column": 818
        },
        {
         "valence": 0.202,
         "mean": 0.35714285714285715,
         "count": 14,
         "_deepnote_index_column": 819
        },
        {
         "valence": 0.203,
         "mean": 0.4857142857142857,
         "count": 35,
         "_deepnote_index_column": 820
        },
        {
         "valence": 0.204,
         "mean": 0.5652173913043478,
         "count": 23,
         "_deepnote_index_column": 821
        },
        {
         "valence": 0.205,
         "mean": 0.3939393939393939,
         "count": 33,
         "_deepnote_index_column": 822
        },
        {
         "valence": 0.206,
         "mean": 0.45454545454545453,
         "count": 22,
         "_deepnote_index_column": 823
        },
        {
         "valence": 0.207,
         "mean": 0.30303030303030304,
         "count": 33,
         "_deepnote_index_column": 824
        },
        {
         "valence": 0.208,
         "mean": 0.36585365853658536,
         "count": 41,
         "_deepnote_index_column": 825
        },
        {
         "valence": 0.209,
         "mean": 0.4473684210526316,
         "count": 38,
         "_deepnote_index_column": 826
        },
        {
         "valence": 0.21,
         "mean": 0.4166666666666667,
         "count": 36,
         "_deepnote_index_column": 827
        },
        {
         "valence": 0.211,
         "mean": 0.34375,
         "count": 32,
         "_deepnote_index_column": 828
        },
        {
         "valence": 0.212,
         "mean": 0.34285714285714286,
         "count": 35,
         "_deepnote_index_column": 829
        },
        {
         "valence": 0.213,
         "mean": 0.42105263157894735,
         "count": 38,
         "_deepnote_index_column": 830
        },
        {
         "valence": 0.214,
         "mean": 0.3,
         "count": 30,
         "_deepnote_index_column": 831
        },
        {
         "valence": 0.215,
         "mean": 0.4230769230769231,
         "count": 26,
         "_deepnote_index_column": 832
        },
        {
         "valence": 0.216,
         "mean": 0.5,
         "count": 30,
         "_deepnote_index_column": 833
        },
        {
         "valence": 0.217,
         "mean": 0.35135135135135137,
         "count": 37,
         "_deepnote_index_column": 834
        },
        {
         "valence": 0.218,
         "mean": 0.46153846153846156,
         "count": 39,
         "_deepnote_index_column": 835
        },
        {
         "valence": 0.219,
         "mean": 0.43333333333333335,
         "count": 30,
         "_deepnote_index_column": 836
        },
        {
         "valence": 0.22,
         "mean": 0.32142857142857145,
         "count": 28,
         "_deepnote_index_column": 837
        },
        {
         "valence": 0.221,
         "mean": 0.358974358974359,
         "count": 39,
         "_deepnote_index_column": 838
        },
        {
         "valence": 0.222,
         "mean": 0.4473684210526316,
         "count": 38,
         "_deepnote_index_column": 839
        },
        {
         "valence": 0.223,
         "mean": 0.2571428571428571,
         "count": 35,
         "_deepnote_index_column": 840
        }
       ],
       "rows_bottom": [
        {
         "valence": 0.814,
         "mean": 0.6470588235294118,
         "count": 51,
         "_deepnote_index_column": 1431
        },
        {
         "valence": 0.815,
         "mean": 0.6744186046511628,
         "count": 43,
         "_deepnote_index_column": 1432
        },
        {
         "valence": 0.816,
         "mean": 0.65,
         "count": 40,
         "_deepnote_index_column": 1433
        },
        {
         "valence": 0.817,
         "mean": 0.6153846153846154,
         "count": 52,
         "_deepnote_index_column": 1434
        },
        {
         "valence": 0.818,
         "mean": 0.6976744186046512,
         "count": 43,
         "_deepnote_index_column": 1435
        },
        {
         "valence": 0.819,
         "mean": 0.6829268292682927,
         "count": 41,
         "_deepnote_index_column": 1436
        },
        {
         "valence": 0.82,
         "mean": 0.576271186440678,
         "count": 59,
         "_deepnote_index_column": 1437
        },
        {
         "valence": 0.821,
         "mean": 0.5853658536585366,
         "count": 41,
         "_deepnote_index_column": 1438
        },
        {
         "valence": 0.822,
         "mean": 0.673469387755102,
         "count": 49,
         "_deepnote_index_column": 1439
        },
        {
         "valence": 0.823,
         "mean": 0.46511627906976744,
         "count": 43,
         "_deepnote_index_column": 1440
        },
        {
         "valence": 0.824,
         "mean": 0.6976744186046512,
         "count": 43,
         "_deepnote_index_column": 1441
        },
        {
         "valence": 0.825,
         "mean": 0.6222222222222222,
         "count": 45,
         "_deepnote_index_column": 1442
        },
        {
         "valence": 0.826,
         "mean": 0.6140350877192983,
         "count": 57,
         "_deepnote_index_column": 1443
        },
        {
         "valence": 0.827,
         "mean": 0.5365853658536586,
         "count": 41,
         "_deepnote_index_column": 1444
        },
        {
         "valence": 0.828,
         "mean": 0.5142857142857142,
         "count": 35,
         "_deepnote_index_column": 1445
        },
        {
         "valence": 0.829,
         "mean": 0.5714285714285714,
         "count": 35,
         "_deepnote_index_column": 1446
        },
        {
         "valence": 0.83,
         "mean": 0.5625,
         "count": 48,
         "_deepnote_index_column": 1447
        },
        {
         "valence": 0.831,
         "mean": 0.5396825396825397,
         "count": 63,
         "_deepnote_index_column": 1448
        },
        {
         "valence": 0.832,
         "mean": 0.6486486486486487,
         "count": 37,
         "_deepnote_index_column": 1449
        },
        {
         "valence": 0.833,
         "mean": 0.6666666666666666,
         "count": 54,
         "_deepnote_index_column": 1450
        },
        {
         "valence": 0.834,
         "mean": 0.4791666666666667,
         "count": 48,
         "_deepnote_index_column": 1451
        },
        {
         "valence": 0.835,
         "mean": 0.6274509803921569,
         "count": 51,
         "_deepnote_index_column": 1452
        },
        {
         "valence": 0.836,
         "mean": 0.6052631578947368,
         "count": 38,
         "_deepnote_index_column": 1453
        },
        {
         "valence": 0.837,
         "mean": 0.5277777777777778,
         "count": 36,
         "_deepnote_index_column": 1454
        },
        {
         "valence": 0.838,
         "mean": 0.6666666666666666,
         "count": 36,
         "_deepnote_index_column": 1455
        },
        {
         "valence": 0.839,
         "mean": 0.6888888888888889,
         "count": 45,
         "_deepnote_index_column": 1456
        },
        {
         "valence": 0.84,
         "mean": 0.6842105263157895,
         "count": 38,
         "_deepnote_index_column": 1457
        },
        {
         "valence": 0.841,
         "mean": 0.6166666666666667,
         "count": 60,
         "_deepnote_index_column": 1458
        },
        {
         "valence": 0.842,
         "mean": 0.6666666666666666,
         "count": 51,
         "_deepnote_index_column": 1459
        },
        {
         "valence": 0.843,
         "mean": 0.6842105263157895,
         "count": 57,
         "_deepnote_index_column": 1460
        },
        {
         "valence": 0.844,
         "mean": 0.5869565217391305,
         "count": 46,
         "_deepnote_index_column": 1461
        },
        {
         "valence": 0.845,
         "mean": 0.5614035087719298,
         "count": 57,
         "_deepnote_index_column": 1462
        },
        {
         "valence": 0.846,
         "mean": 0.7692307692307693,
         "count": 39,
         "_deepnote_index_column": 1463
        },
        {
         "valence": 0.847,
         "mean": 0.7090909090909091,
         "count": 55,
         "_deepnote_index_column": 1464
        },
        {
         "valence": 0.848,
         "mean": 0.6363636363636364,
         "count": 55,
         "_deepnote_index_column": 1465
        },
        {
         "valence": 0.849,
         "mean": 0.6326530612244898,
         "count": 49,
         "_deepnote_index_column": 1466
        },
        {
         "valence": 0.85,
         "mean": 0.6111111111111112,
         "count": 54,
         "_deepnote_index_column": 1467
        },
        {
         "valence": 0.851,
         "mean": 0.5714285714285714,
         "count": 42,
         "_deepnote_index_column": 1468
        },
        {
         "valence": 0.852,
         "mean": 0.5833333333333334,
         "count": 48,
         "_deepnote_index_column": 1469
        },
        {
         "valence": 0.853,
         "mean": 0.6666666666666666,
         "count": 39,
         "_deepnote_index_column": 1470
        },
        {
         "valence": 0.854,
         "mean": 0.5714285714285714,
         "count": 42,
         "_deepnote_index_column": 1471
        },
        {
         "valence": 0.855,
         "mean": 0.5869565217391305,
         "count": 46,
         "_deepnote_index_column": 1472
        },
        {
         "valence": 0.856,
         "mean": 0.723404255319149,
         "count": 47,
         "_deepnote_index_column": 1473
        },
        {
         "valence": 0.857,
         "mean": 0.45454545454545453,
         "count": 55,
         "_deepnote_index_column": 1474
        },
        {
         "valence": 0.858,
         "mean": 0.6666666666666666,
         "count": 39,
         "_deepnote_index_column": 1475
        },
        {
         "valence": 0.859,
         "mean": 0.5151515151515151,
         "count": 33,
         "_deepnote_index_column": 1476
        },
        {
         "valence": 0.86,
         "mean": 0.7105263157894737,
         "count": 38,
         "_deepnote_index_column": 1477
        },
        {
         "valence": 0.861,
         "mean": 0.6031746031746031,
         "count": 63,
         "_deepnote_index_column": 1478
        },
        {
         "valence": 0.862,
         "mean": 0.6521739130434783,
         "count": 46,
         "_deepnote_index_column": 1479
        },
        {
         "valence": 0.863,
         "mean": 0.6521739130434783,
         "count": 46,
         "_deepnote_index_column": 1480
        },
        {
         "valence": 0.864,
         "mean": 0.7142857142857143,
         "count": 42,
         "_deepnote_index_column": 1481
        },
        {
         "valence": 0.865,
         "mean": 0.5813953488372093,
         "count": 43,
         "_deepnote_index_column": 1482
        },
        {
         "valence": 0.866,
         "mean": 0.6190476190476191,
         "count": 42,
         "_deepnote_index_column": 1483
        },
        {
         "valence": 0.867,
         "mean": 0.6,
         "count": 45,
         "_deepnote_index_column": 1484
        },
        {
         "valence": 0.868,
         "mean": 0.723404255319149,
         "count": 47,
         "_deepnote_index_column": 1485
        },
        {
         "valence": 0.869,
         "mean": 0.6111111111111112,
         "count": 36,
         "_deepnote_index_column": 1486
        },
        {
         "valence": 0.87,
         "mean": 0.6744186046511628,
         "count": 43,
         "_deepnote_index_column": 1487
        },
        {
         "valence": 0.871,
         "mean": 0.6818181818181818,
         "count": 44,
         "_deepnote_index_column": 1488
        },
        {
         "valence": 0.872,
         "mean": 0.5,
         "count": 28,
         "_deepnote_index_column": 1489
        },
        {
         "valence": 0.873,
         "mean": 0.375,
         "count": 24,
         "_deepnote_index_column": 1490
        },
        {
         "valence": 0.874,
         "mean": 0.6097560975609756,
         "count": 41,
         "_deepnote_index_column": 1491
        },
        {
         "valence": 0.875,
         "mean": 0.5641025641025641,
         "count": 39,
         "_deepnote_index_column": 1492
        },
        {
         "valence": 0.876,
         "mean": 0.696969696969697,
         "count": 33,
         "_deepnote_index_column": 1493
        },
        {
         "valence": 0.877,
         "mean": 0.6097560975609756,
         "count": 41,
         "_deepnote_index_column": 1494
        },
        {
         "valence": 0.878,
         "mean": 0.5869565217391305,
         "count": 46,
         "_deepnote_index_column": 1495
        },
        {
         "valence": 0.879,
         "mean": 0.5490196078431373,
         "count": 51,
         "_deepnote_index_column": 1496
        },
        {
         "valence": 0.88,
         "mean": 0.6037735849056604,
         "count": 53,
         "_deepnote_index_column": 1497
        },
        {
         "valence": 0.881,
         "mean": 0.6222222222222222,
         "count": 45,
         "_deepnote_index_column": 1498
        },
        {
         "valence": 0.882,
         "mean": 0.6363636363636364,
         "count": 44,
         "_deepnote_index_column": 1499
        },
        {
         "valence": 0.883,
         "mean": 0.5970149253731343,
         "count": 67,
         "_deepnote_index_column": 1500
        },
        {
         "valence": 0.884,
         "mean": 0.6111111111111112,
         "count": 36,
         "_deepnote_index_column": 1501
        },
        {
         "valence": 0.885,
         "mean": 0.725,
         "count": 40,
         "_deepnote_index_column": 1502
        },
        {
         "valence": 0.886,
         "mean": 0.7115384615384616,
         "count": 52,
         "_deepnote_index_column": 1503
        },
        {
         "valence": 0.887,
         "mean": 0.6065573770491803,
         "count": 61,
         "_deepnote_index_column": 1504
        },
        {
         "valence": 0.888,
         "mean": 0.5434782608695652,
         "count": 46,
         "_deepnote_index_column": 1505
        },
        {
         "valence": 0.889,
         "mean": 0.6271186440677966,
         "count": 59,
         "_deepnote_index_column": 1506
        },
        {
         "valence": 0.89,
         "mean": 0.6097560975609756,
         "count": 41,
         "_deepnote_index_column": 1507
        },
        {
         "valence": 0.891,
         "mean": 0.43243243243243246,
         "count": 37,
         "_deepnote_index_column": 1508
        },
        {
         "valence": 0.892,
         "mean": 0.6875,
         "count": 48,
         "_deepnote_index_column": 1509
        },
        {
         "valence": 0.893,
         "mean": 0.78125,
         "count": 32,
         "_deepnote_index_column": 1510
        },
        {
         "valence": 0.894,
         "mean": 0.7111111111111111,
         "count": 45,
         "_deepnote_index_column": 1511
        },
        {
         "valence": 0.895,
         "mean": 0.6507936507936508,
         "count": 63,
         "_deepnote_index_column": 1512
        },
        {
         "valence": 0.896,
         "mean": 0.6862745098039216,
         "count": 51,
         "_deepnote_index_column": 1513
        },
        {
         "valence": 0.897,
         "mean": 0.6346153846153846,
         "count": 52,
         "_deepnote_index_column": 1514
        },
        {
         "valence": 0.898,
         "mean": 0.7142857142857143,
         "count": 49,
         "_deepnote_index_column": 1515
        },
        {
         "valence": 0.899,
         "mean": 0.7,
         "count": 50,
         "_deepnote_index_column": 1516
        },
        {
         "valence": 0.9,
         "mean": 0.49019607843137253,
         "count": 51,
         "_deepnote_index_column": 1517
        },
        {
         "valence": 0.901,
         "mean": 0.7321428571428571,
         "count": 56,
         "_deepnote_index_column": 1518
        },
        {
         "valence": 0.902,
         "mean": 0.6590909090909091,
         "count": 44,
         "_deepnote_index_column": 1519
        },
        {
         "valence": 0.903,
         "mean": 0.6530612244897959,
         "count": 49,
         "_deepnote_index_column": 1520
        },
        {
         "valence": 0.904,
         "mean": 0.6379310344827587,
         "count": 58,
         "_deepnote_index_column": 1521
        },
        {
         "valence": 0.905,
         "mean": 0.6444444444444445,
         "count": 45,
         "_deepnote_index_column": 1522
        },
        {
         "valence": 0.906,
         "mean": 0.5576923076923077,
         "count": 52,
         "_deepnote_index_column": 1523
        },
        {
         "valence": 0.907,
         "mean": 0.5434782608695652,
         "count": 46,
         "_deepnote_index_column": 1524
        },
        {
         "valence": 0.908,
         "mean": 0.525,
         "count": 40,
         "_deepnote_index_column": 1525
        },
        {
         "valence": 0.909,
         "mean": 0.6,
         "count": 50,
         "_deepnote_index_column": 1526
        },
        {
         "valence": 0.91,
         "mean": 0.6122448979591837,
         "count": 49,
         "_deepnote_index_column": 1527
        },
        {
         "valence": 0.911,
         "mean": 0.6060606060606061,
         "count": 33,
         "_deepnote_index_column": 1528
        },
        {
         "valence": 0.912,
         "mean": 0.5555555555555556,
         "count": 45,
         "_deepnote_index_column": 1529
        },
        {
         "valence": 0.913,
         "mean": 0.6,
         "count": 40,
         "_deepnote_index_column": 1530
        },
        {
         "valence": 0.914,
         "mean": 0.6274509803921569,
         "count": 51,
         "_deepnote_index_column": 1531
        },
        {
         "valence": 0.915,
         "mean": 0.5652173913043478,
         "count": 46,
         "_deepnote_index_column": 1532
        },
        {
         "valence": 0.916,
         "mean": 0.4864864864864865,
         "count": 37,
         "_deepnote_index_column": 1533
        },
        {
         "valence": 0.917,
         "mean": 0.5,
         "count": 38,
         "_deepnote_index_column": 1534
        },
        {
         "valence": 0.918,
         "mean": 0.5952380952380952,
         "count": 42,
         "_deepnote_index_column": 1535
        },
        {
         "valence": 0.919,
         "mean": 0.6739130434782609,
         "count": 46,
         "_deepnote_index_column": 1536
        },
        {
         "valence": 0.92,
         "mean": 0.6666666666666666,
         "count": 51,
         "_deepnote_index_column": 1537
        },
        {
         "valence": 0.921,
         "mean": 0.6428571428571429,
         "count": 42,
         "_deepnote_index_column": 1538
        },
        {
         "valence": 0.922,
         "mean": 0.6666666666666666,
         "count": 39,
         "_deepnote_index_column": 1539
        },
        {
         "valence": 0.923,
         "mean": 0.5294117647058824,
         "count": 51,
         "_deepnote_index_column": 1540
        },
        {
         "valence": 0.924,
         "mean": 0.5714285714285714,
         "count": 49,
         "_deepnote_index_column": 1541
        },
        {
         "valence": 0.925,
         "mean": 0.5882352941176471,
         "count": 51,
         "_deepnote_index_column": 1542
        },
        {
         "valence": 0.926,
         "mean": 0.71875,
         "count": 64,
         "_deepnote_index_column": 1543
        },
        {
         "valence": 0.927,
         "mean": 0.5957446808510638,
         "count": 47,
         "_deepnote_index_column": 1544
        },
        {
         "valence": 0.928,
         "mean": 0.5681818181818182,
         "count": 44,
         "_deepnote_index_column": 1545
        },
        {
         "valence": 0.929,
         "mean": 0.5555555555555556,
         "count": 36,
         "_deepnote_index_column": 1546
        },
        {
         "valence": 0.93,
         "mean": 0.6382978723404256,
         "count": 47,
         "_deepnote_index_column": 1547
        },
        {
         "valence": 0.931,
         "mean": 0.6,
         "count": 50,
         "_deepnote_index_column": 1548
        },
        {
         "valence": 0.932,
         "mean": 0.7804878048780488,
         "count": 41,
         "_deepnote_index_column": 1549
        },
        {
         "valence": 0.933,
         "mean": 0.5957446808510638,
         "count": 47,
         "_deepnote_index_column": 1550
        },
        {
         "valence": 0.934,
         "mean": 0.4878048780487805,
         "count": 41,
         "_deepnote_index_column": 1551
        },
        {
         "valence": 0.935,
         "mean": 0.7027027027027027,
         "count": 37,
         "_deepnote_index_column": 1552
        },
        {
         "valence": 0.936,
         "mean": 0.58,
         "count": 50,
         "_deepnote_index_column": 1553
        },
        {
         "valence": 0.937,
         "mean": 0.6923076923076923,
         "count": 52,
         "_deepnote_index_column": 1554
        },
        {
         "valence": 0.938,
         "mean": 0.6,
         "count": 45,
         "_deepnote_index_column": 1555
        },
        {
         "valence": 0.939,
         "mean": 0.6363636363636364,
         "count": 44,
         "_deepnote_index_column": 1556
        },
        {
         "valence": 0.94,
         "mean": 0.6341463414634146,
         "count": 41,
         "_deepnote_index_column": 1557
        },
        {
         "valence": 0.941,
         "mean": 0.6111111111111112,
         "count": 36,
         "_deepnote_index_column": 1558
        },
        {
         "valence": 0.942,
         "mean": 0.6764705882352942,
         "count": 34,
         "_deepnote_index_column": 1559
        },
        {
         "valence": 0.943,
         "mean": 0.6304347826086957,
         "count": 46,
         "_deepnote_index_column": 1560
        },
        {
         "valence": 0.944,
         "mean": 0.6,
         "count": 40,
         "_deepnote_index_column": 1561
        },
        {
         "valence": 0.945,
         "mean": 0.5128205128205128,
         "count": 39,
         "_deepnote_index_column": 1562
        },
        {
         "valence": 0.946,
         "mean": 0.6363636363636364,
         "count": 33,
         "_deepnote_index_column": 1563
        },
        {
         "valence": 0.947,
         "mean": 0.6521739130434783,
         "count": 46,
         "_deepnote_index_column": 1564
        },
        {
         "valence": 0.948,
         "mean": 0.5789473684210527,
         "count": 38,
         "_deepnote_index_column": 1565
        },
        {
         "valence": 0.949,
         "mean": 0.8181818181818182,
         "count": 33,
         "_deepnote_index_column": 1566
        },
        {
         "valence": 0.95,
         "mean": 0.7,
         "count": 40,
         "_deepnote_index_column": 1567
        },
        {
         "valence": 0.951,
         "mean": 0.39285714285714285,
         "count": 28,
         "_deepnote_index_column": 1568
        },
        {
         "valence": 0.952,
         "mean": 0.65625,
         "count": 32,
         "_deepnote_index_column": 1569
        },
        {
         "valence": 0.953,
         "mean": 0.5714285714285714,
         "count": 35,
         "_deepnote_index_column": 1570
        },
        {
         "valence": 0.954,
         "mean": 0.6176470588235294,
         "count": 34,
         "_deepnote_index_column": 1571
        },
        {
         "valence": 0.955,
         "mean": 0.5,
         "count": 34,
         "_deepnote_index_column": 1572
        },
        {
         "valence": 0.956,
         "mean": 0.8333333333333334,
         "count": 42,
         "_deepnote_index_column": 1573
        },
        {
         "valence": 0.957,
         "mean": 0.5769230769230769,
         "count": 26,
         "_deepnote_index_column": 1574
        },
        {
         "valence": 0.958,
         "mean": 0.7666666666666667,
         "count": 30,
         "_deepnote_index_column": 1575
        },
        {
         "valence": 0.959,
         "mean": 0.6071428571428571,
         "count": 28,
         "_deepnote_index_column": 1576
        },
        {
         "valence": 0.96,
         "mean": 0.5766423357664233,
         "count": 137,
         "_deepnote_index_column": 1577
        },
        {
         "valence": 0.961,
         "mean": 0.6267281105990783,
         "count": 217,
         "_deepnote_index_column": 1578
        },
        {
         "valence": 0.962,
         "mean": 0.6107784431137725,
         "count": 167,
         "_deepnote_index_column": 1579
        },
        {
         "valence": 0.963,
         "mean": 0.5878787878787879,
         "count": 165,
         "_deepnote_index_column": 1580
        },
        {
         "valence": 0.964,
         "mean": 0.5793103448275863,
         "count": 145,
         "_deepnote_index_column": 1581
        },
        {
         "valence": 0.965,
         "mean": 0.6324786324786325,
         "count": 117,
         "_deepnote_index_column": 1582
        },
        {
         "valence": 0.966,
         "mean": 0.6111111111111112,
         "count": 90,
         "_deepnote_index_column": 1583
        },
        {
         "valence": 0.967,
         "mean": 0.5975609756097561,
         "count": 82,
         "_deepnote_index_column": 1584
        },
        {
         "valence": 0.968,
         "mean": 0.5846153846153846,
         "count": 65,
         "_deepnote_index_column": 1585
        },
        {
         "valence": 0.969,
         "mean": 0.6176470588235294,
         "count": 68,
         "_deepnote_index_column": 1586
        },
        {
         "valence": 0.97,
         "mean": 0.62,
         "count": 50,
         "_deepnote_index_column": 1587
        },
        {
         "valence": 0.971,
         "mean": 0.627906976744186,
         "count": 43,
         "_deepnote_index_column": 1588
        },
        {
         "valence": 0.972,
         "mean": 0.5428571428571428,
         "count": 35,
         "_deepnote_index_column": 1589
        },
        {
         "valence": 0.973,
         "mean": 0.6944444444444444,
         "count": 36,
         "_deepnote_index_column": 1590
        },
        {
         "valence": 0.974,
         "mean": 0.47058823529411764,
         "count": 17,
         "_deepnote_index_column": 1591
        },
        {
         "valence": 0.975,
         "mean": 0.6818181818181818,
         "count": 22,
         "_deepnote_index_column": 1592
        },
        {
         "valence": 0.976,
         "mean": 0.6086956521739131,
         "count": 23,
         "_deepnote_index_column": 1593
        },
        {
         "valence": 0.977,
         "mean": 0.5789473684210527,
         "count": 19,
         "_deepnote_index_column": 1594
        },
        {
         "valence": 0.978,
         "mean": 0.5333333333333333,
         "count": 15,
         "_deepnote_index_column": 1595
        },
        {
         "valence": 0.979,
         "mean": 0.75,
         "count": 12,
         "_deepnote_index_column": 1596
        },
        {
         "valence": 0.98,
         "mean": 0.5454545454545454,
         "count": 11,
         "_deepnote_index_column": 1597
        }
       ]
      },
      "text/plain": "      valence      mean  count\n0      0.0000  0.071429     14\n117    0.0350  0.000000     11\n118    0.0351  0.000000     12\n125    0.0358  0.000000     14\n129    0.0362  0.000000     14\n...       ...       ...    ...\n1593   0.9760  0.608696     23\n1594   0.9770  0.578947     19\n1595   0.9780  0.533333     15\n1596   0.9790  0.750000     12\n1597   0.9800  0.545455     11\n\n[923 rows x 3 columns]",
      "text/html": "<div>\n<style scoped>\n    .dataframe tbody tr th:only-of-type {\n        vertical-align: middle;\n    }\n\n    .dataframe tbody tr th {\n        vertical-align: top;\n    }\n\n    .dataframe thead th {\n        text-align: right;\n    }\n</style>\n<table border=\"1\" class=\"dataframe\">\n  <thead>\n    <tr style=\"text-align: right;\">\n      <th></th>\n      <th>valence</th>\n      <th>mean</th>\n      <th>count</th>\n    </tr>\n  </thead>\n  <tbody>\n    <tr>\n      <th>0</th>\n      <td>0.0000</td>\n      <td>0.071429</td>\n      <td>14</td>\n    </tr>\n    <tr>\n      <th>117</th>\n      <td>0.0350</td>\n      <td>0.000000</td>\n      <td>11</td>\n    </tr>\n    <tr>\n      <th>118</th>\n      <td>0.0351</td>\n      <td>0.000000</td>\n      <td>12</td>\n    </tr>\n    <tr>\n      <th>125</th>\n      <td>0.0358</td>\n      <td>0.000000</td>\n      <td>14</td>\n    </tr>\n    <tr>\n      <th>129</th>\n      <td>0.0362</td>\n      <td>0.000000</td>\n      <td>14</td>\n    </tr>\n    <tr>\n      <th>...</th>\n      <td>...</td>\n      <td>...</td>\n      <td>...</td>\n    </tr>\n    <tr>\n      <th>1593</th>\n      <td>0.9760</td>\n      <td>0.608696</td>\n      <td>23</td>\n    </tr>\n    <tr>\n      <th>1594</th>\n      <td>0.9770</td>\n      <td>0.578947</td>\n      <td>19</td>\n    </tr>\n    <tr>\n      <th>1595</th>\n      <td>0.9780</td>\n      <td>0.533333</td>\n      <td>15</td>\n    </tr>\n    <tr>\n      <th>1596</th>\n      <td>0.9790</td>\n      <td>0.750000</td>\n      <td>12</td>\n    </tr>\n    <tr>\n      <th>1597</th>\n      <td>0.9800</td>\n      <td>0.545455</td>\n      <td>11</td>\n    </tr>\n  </tbody>\n</table>\n<p>923 rows × 3 columns</p>\n</div>"
     },
     "metadata": {}
    }
   ]
  },
  {
   "cell_type": "code",
   "metadata": {
    "tags": [],
    "deepnote_to_be_reexecuted": false,
    "source_hash": "412f6dbe",
    "execution_start": 1636139555680,
    "execution_millis": 17,
    "cell_id": "00030-bfdc7bb3-c527-49b0-9db7-167afa94e221",
    "deepnote_cell_type": "code"
   },
   "source": "#Target proportion vs mode\ntarget_prop_by_mode = data.groupby(\"mode\")['target'].agg([\"mean\", \"count\"]).reset_index().dropna()\n\ntarget_prop_by_mode",
   "execution_count": 12,
   "outputs": [
    {
     "output_type": "execute_result",
     "execution_count": 12,
     "data": {
      "application/vnd.deepnote.dataframe.v2+json": {
       "row_count": 2,
       "column_count": 3,
       "columns": [
        {
         "name": "mode",
         "dtype": "int64",
         "stats": {
          "unique_count": 2,
          "nan_count": 0,
          "min": "0",
          "max": "1",
          "histogram": [
           {
            "bin_start": 0,
            "bin_end": 0.1,
            "count": 1
           },
           {
            "bin_start": 0.1,
            "bin_end": 0.2,
            "count": 0
           },
           {
            "bin_start": 0.2,
            "bin_end": 0.30000000000000004,
            "count": 0
           },
           {
            "bin_start": 0.30000000000000004,
            "bin_end": 0.4,
            "count": 0
           },
           {
            "bin_start": 0.4,
            "bin_end": 0.5,
            "count": 0
           },
           {
            "bin_start": 0.5,
            "bin_end": 0.6000000000000001,
            "count": 0
           },
           {
            "bin_start": 0.6000000000000001,
            "bin_end": 0.7000000000000001,
            "count": 0
           },
           {
            "bin_start": 0.7000000000000001,
            "bin_end": 0.8,
            "count": 0
           },
           {
            "bin_start": 0.8,
            "bin_end": 0.9,
            "count": 0
           },
           {
            "bin_start": 0.9,
            "bin_end": 1,
            "count": 1
           }
          ]
         }
        },
        {
         "name": "mean",
         "dtype": "float64",
         "stats": {
          "unique_count": 2,
          "nan_count": 0,
          "min": "0.44014280047600157",
          "max": "0.5264727553419178",
          "histogram": [
           {
            "bin_start": 0.44014280047600157,
            "bin_end": 0.4487757959625932,
            "count": 1
           },
           {
            "bin_start": 0.4487757959625932,
            "bin_end": 0.45740879144918484,
            "count": 0
           },
           {
            "bin_start": 0.45740879144918484,
            "bin_end": 0.46604178693577647,
            "count": 0
           },
           {
            "bin_start": 0.46604178693577647,
            "bin_end": 0.4746747824223681,
            "count": 0
           },
           {
            "bin_start": 0.4746747824223681,
            "bin_end": 0.48330777790895973,
            "count": 0
           },
           {
            "bin_start": 0.48330777790895973,
            "bin_end": 0.4919407733955513,
            "count": 0
           },
           {
            "bin_start": 0.4919407733955513,
            "bin_end": 0.500573768882143,
            "count": 0
           },
           {
            "bin_start": 0.500573768882143,
            "bin_end": 0.5092067643687346,
            "count": 0
           },
           {
            "bin_start": 0.5092067643687346,
            "bin_end": 0.5178397598553263,
            "count": 0
           },
           {
            "bin_start": 0.5178397598553263,
            "bin_end": 0.5264727553419178,
            "count": 1
           }
          ]
         }
        },
        {
         "name": "count",
         "dtype": "int64",
         "stats": {
          "unique_count": 2,
          "nan_count": 0,
          "min": "12605",
          "max": "28501",
          "histogram": [
           {
            "bin_start": 12605,
            "bin_end": 14194.6,
            "count": 1
           },
           {
            "bin_start": 14194.6,
            "bin_end": 15784.2,
            "count": 0
           },
           {
            "bin_start": 15784.2,
            "bin_end": 17373.8,
            "count": 0
           },
           {
            "bin_start": 17373.8,
            "bin_end": 18963.4,
            "count": 0
           },
           {
            "bin_start": 18963.4,
            "bin_end": 20553,
            "count": 0
           },
           {
            "bin_start": 20553,
            "bin_end": 22142.6,
            "count": 0
           },
           {
            "bin_start": 22142.6,
            "bin_end": 23732.199999999997,
            "count": 0
           },
           {
            "bin_start": 23732.199999999997,
            "bin_end": 25321.8,
            "count": 0
           },
           {
            "bin_start": 25321.8,
            "bin_end": 26911.4,
            "count": 0
           },
           {
            "bin_start": 26911.4,
            "bin_end": 28501,
            "count": 1
           }
          ]
         }
        },
        {
         "name": "_deepnote_index_column",
         "dtype": "int64"
        }
       ],
       "rows_top": [
        {
         "mode": 0,
         "mean": 0.44014280047600157,
         "count": 12605,
         "_deepnote_index_column": 0
        },
        {
         "mode": 1,
         "mean": 0.5264727553419178,
         "count": 28501,
         "_deepnote_index_column": 1
        }
       ],
       "rows_bottom": null
      },
      "text/plain": "   mode      mean  count\n0     0  0.440143  12605\n1     1  0.526473  28501",
      "text/html": "<div>\n<style scoped>\n    .dataframe tbody tr th:only-of-type {\n        vertical-align: middle;\n    }\n\n    .dataframe tbody tr th {\n        vertical-align: top;\n    }\n\n    .dataframe thead th {\n        text-align: right;\n    }\n</style>\n<table border=\"1\" class=\"dataframe\">\n  <thead>\n    <tr style=\"text-align: right;\">\n      <th></th>\n      <th>mode</th>\n      <th>mean</th>\n      <th>count</th>\n    </tr>\n  </thead>\n  <tbody>\n    <tr>\n      <th>0</th>\n      <td>0</td>\n      <td>0.440143</td>\n      <td>12605</td>\n    </tr>\n    <tr>\n      <th>1</th>\n      <td>1</td>\n      <td>0.526473</td>\n      <td>28501</td>\n    </tr>\n  </tbody>\n</table>\n</div>"
     },
     "metadata": {}
    }
   ]
  },
  {
   "cell_type": "code",
   "metadata": {
    "tags": [],
    "deepnote_to_be_reexecuted": false,
    "source_hash": "e7a60bbb",
    "allow_embed": false,
    "execution_start": 1636139555701,
    "execution_millis": 25,
    "cell_id": "00031-18a8893c-5e82-47ca-a8ea-7374c18f5d27",
    "deepnote_cell_type": "code"
   },
   "source": "#Target proportion vs time signature\ntarget_prop_by_time_signature = data.groupby(\"time_signature\")['target'].agg([\"mean\", \"count\"]).reset_index().dropna()\n\ntarget_prop_by_time_signature",
   "execution_count": 13,
   "outputs": [
    {
     "output_type": "execute_result",
     "execution_count": 13,
     "data": {
      "application/vnd.deepnote.dataframe.v2+json": {
       "row_count": 5,
       "column_count": 3,
       "columns": [
        {
         "name": "time_signature",
         "dtype": "int64",
         "stats": {
          "unique_count": 5,
          "nan_count": 0,
          "min": "0",
          "max": "5",
          "histogram": [
           {
            "bin_start": 0,
            "bin_end": 0.5,
            "count": 1
           },
           {
            "bin_start": 0.5,
            "bin_end": 1,
            "count": 0
           },
           {
            "bin_start": 1,
            "bin_end": 1.5,
            "count": 1
           },
           {
            "bin_start": 1.5,
            "bin_end": 2,
            "count": 0
           },
           {
            "bin_start": 2,
            "bin_end": 2.5,
            "count": 0
           },
           {
            "bin_start": 2.5,
            "bin_end": 3,
            "count": 0
           },
           {
            "bin_start": 3,
            "bin_end": 3.5,
            "count": 1
           },
           {
            "bin_start": 3.5,
            "bin_end": 4,
            "count": 0
           },
           {
            "bin_start": 4,
            "bin_end": 4.5,
            "count": 1
           },
           {
            "bin_start": 4.5,
            "bin_end": 5,
            "count": 1
           }
          ]
         }
        },
        {
         "name": "mean",
         "dtype": "float64",
         "stats": {
          "unique_count": 5,
          "nan_count": 0,
          "min": "0.19137466307277629",
          "max": "0.5277846653993443",
          "histogram": [
           {
            "bin_start": 0.19137466307277629,
            "bin_end": 0.2250156633054331,
            "count": 1
           },
           {
            "bin_start": 0.2250156633054331,
            "bin_end": 0.2586566635380899,
            "count": 1
           },
           {
            "bin_start": 0.2586566635380899,
            "bin_end": 0.2922976637707467,
            "count": 0
           },
           {
            "bin_start": 0.2922976637707467,
            "bin_end": 0.3259386640034035,
            "count": 1
           },
           {
            "bin_start": 0.3259386640034035,
            "bin_end": 0.3595796642360603,
            "count": 1
           },
           {
            "bin_start": 0.3595796642360603,
            "bin_end": 0.39322066446871706,
            "count": 0
           },
           {
            "bin_start": 0.39322066446871706,
            "bin_end": 0.4268616647013739,
            "count": 0
           },
           {
            "bin_start": 0.4268616647013739,
            "bin_end": 0.4605026649340307,
            "count": 0
           },
           {
            "bin_start": 0.4605026649340307,
            "bin_end": 0.4941436651666875,
            "count": 0
           },
           {
            "bin_start": 0.4941436651666875,
            "bin_end": 0.5277846653993443,
            "count": 1
           }
          ]
         }
        },
        {
         "name": "count",
         "dtype": "int64",
         "stats": {
          "unique_count": 5,
          "nan_count": 0,
          "min": "3",
          "max": "36297",
          "histogram": [
           {
            "bin_start": 3,
            "bin_end": 3632.4,
            "count": 3
           },
           {
            "bin_start": 3632.4,
            "bin_end": 7261.8,
            "count": 1
           },
           {
            "bin_start": 7261.8,
            "bin_end": 10891.2,
            "count": 0
           },
           {
            "bin_start": 10891.2,
            "bin_end": 14520.6,
            "count": 0
           },
           {
            "bin_start": 14520.6,
            "bin_end": 18150,
            "count": 0
           },
           {
            "bin_start": 18150,
            "bin_end": 21779.4,
            "count": 0
           },
           {
            "bin_start": 21779.4,
            "bin_end": 25408.8,
            "count": 0
           },
           {
            "bin_start": 25408.8,
            "bin_end": 29038.2,
            "count": 0
           },
           {
            "bin_start": 29038.2,
            "bin_end": 32667.600000000002,
            "count": 0
           },
           {
            "bin_start": 32667.600000000002,
            "bin_end": 36297,
            "count": 1
           }
          ]
         }
        },
        {
         "name": "_deepnote_index_column",
         "dtype": "int64"
        }
       ],
       "rows_top": [
        {
         "time_signature": 0,
         "mean": 0.3333333333333333,
         "count": 3,
         "_deepnote_index_column": 0
        },
        {
         "time_signature": 1,
         "mean": 0.19137466307277629,
         "count": 371,
         "_deepnote_index_column": 1
        },
        {
         "time_signature": 3,
         "mean": 0.3098958333333333,
         "count": 3840,
         "_deepnote_index_column": 2
        },
        {
         "time_signature": 4,
         "mean": 0.5277846653993443,
         "count": 36297,
         "_deepnote_index_column": 3
        },
        {
         "time_signature": 5,
         "mean": 0.22521008403361345,
         "count": 595,
         "_deepnote_index_column": 4
        }
       ],
       "rows_bottom": null
      },
      "text/plain": "   time_signature      mean  count\n0               0  0.333333      3\n1               1  0.191375    371\n2               3  0.309896   3840\n3               4  0.527785  36297\n4               5  0.225210    595",
      "text/html": "<div>\n<style scoped>\n    .dataframe tbody tr th:only-of-type {\n        vertical-align: middle;\n    }\n\n    .dataframe tbody tr th {\n        vertical-align: top;\n    }\n\n    .dataframe thead th {\n        text-align: right;\n    }\n</style>\n<table border=\"1\" class=\"dataframe\">\n  <thead>\n    <tr style=\"text-align: right;\">\n      <th></th>\n      <th>time_signature</th>\n      <th>mean</th>\n      <th>count</th>\n    </tr>\n  </thead>\n  <tbody>\n    <tr>\n      <th>0</th>\n      <td>0</td>\n      <td>0.333333</td>\n      <td>3</td>\n    </tr>\n    <tr>\n      <th>1</th>\n      <td>1</td>\n      <td>0.191375</td>\n      <td>371</td>\n    </tr>\n    <tr>\n      <th>2</th>\n      <td>3</td>\n      <td>0.309896</td>\n      <td>3840</td>\n    </tr>\n    <tr>\n      <th>3</th>\n      <td>4</td>\n      <td>0.527785</td>\n      <td>36297</td>\n    </tr>\n    <tr>\n      <th>4</th>\n      <td>5</td>\n      <td>0.225210</td>\n      <td>595</td>\n    </tr>\n  </tbody>\n</table>\n</div>"
     },
     "metadata": {}
    }
   ]
  },
  {
   "cell_type": "markdown",
   "source": "#### Add plots with data from overall stat analysis - data\n##### Joey Scarpa\n",
   "metadata": {
    "tags": [],
    "cell_id": "00032-23ee0abe-78c2-488d-933b-de45f981cb52",
    "deepnote_cell_type": "markdown"
   }
  },
  {
   "cell_type": "code",
   "metadata": {
    "tags": [],
    "deepnote_to_be_reexecuted": false,
    "source_hash": "b404d25f",
    "execution_start": 1636139555741,
    "execution_millis": 425,
    "is_code_hidden": false,
    "cell_id": "00033-ef4e3190-6583-4ac6-b140-c725812b220e",
    "deepnote_cell_type": "code"
   },
   "source": "# Proportion of hits versus duration in seconds represented as a bar chart. \n#sns.catplot(x = \"ds_int\", y = \"mean\", kind = \"bar\", data = target_prop_by_duration_sliced)\nsns.relplot(x = \"ds_int\", y = \"mean\", data = target_prop_by_duration_sliced, kind = \"line\")\n#sns.displot(data = target_prop_by_duration_sliced, x = \"ds_int\", y = \"mean\", cbar = True)\n",
   "execution_count": 14,
   "outputs": [
    {
     "output_type": "execute_result",
     "execution_count": 14,
     "data": {
      "text/plain": "<seaborn.axisgrid.FacetGrid at 0x7fe2e433c7d0>"
     },
     "metadata": {}
    },
    {
     "data": {
      "text/plain": "<Figure size 360x360 with 1 Axes>",
      "image/png": "[encoded data removed]"
     },
     "metadata": {
      "needs_background": "light",
      "image/png": {
       "width": 352,
       "height": 353
      }
     },
     "output_type": "display_data"
    }
   ]
  },
  {
   "cell_type": "code",
   "metadata": {
    "tags": [],
    "deepnote_to_be_reexecuted": false,
    "source_hash": "c64ce94c",
    "execution_start": 1636139556188,
    "execution_millis": 350,
    "is_code_hidden": false,
    "cell_id": "00034-69608e4b-2cb6-4d02-93ca-f6ca9de63cad",
    "deepnote_cell_type": "code"
   },
   "source": "# Energy vs hits\nsns.relplot(x = \"en_int\", y = \"mean\", kind = \"line\", data = target_prop_by_energy)\n",
   "execution_count": 15,
   "outputs": [
    {
     "output_type": "execute_result",
     "execution_count": 15,
     "data": {
      "text/plain": "<seaborn.axisgrid.FacetGrid at 0x7fe2e41ff490>"
     },
     "metadata": {}
    },
    {
     "data": {
      "text/plain": "<Figure size 360x360 with 1 Axes>",
      "image/png": "[encoded data removed]"
     },
     "metadata": {
      "needs_background": "light",
      "image/png": {
       "width": 352,
       "height": 353
      }
     },
     "output_type": "display_data"
    }
   ]
  },
  {
   "cell_type": "code",
   "metadata": {
    "tags": [],
    "deepnote_to_be_reexecuted": false,
    "source_hash": "284b8af9",
    "allow_embed": false,
    "execution_start": 1636139556591,
    "execution_millis": 304,
    "is_code_hidden": false,
    "cell_id": "00035-79d2b6f5-5ca6-4e3e-8da9-77b5535f2065",
    "deepnote_cell_type": "code"
   },
   "source": "# Dancebility vs hits\nsns.relplot(x = \"da_int\", y = \"mean\",  kind = \"line\", data = target_prop_by_danceability)\n",
   "execution_count": 16,
   "outputs": [
    {
     "output_type": "execute_result",
     "execution_count": 16,
     "data": {
      "text/plain": "<seaborn.axisgrid.FacetGrid at 0x7fe2def683d0>"
     },
     "metadata": {}
    },
    {
     "data": {
      "text/plain": "<Figure size 360x360 with 1 Axes>",
      "image/png": "[encoded data removed]"
     },
     "metadata": {
      "needs_background": "light",
      "image/png": {
       "width": 352,
       "height": 353
      }
     },
     "output_type": "display_data"
    }
   ]
  },
  {
   "cell_type": "code",
   "metadata": {
    "tags": [],
    "deepnote_to_be_reexecuted": false,
    "source_hash": "5d141458",
    "allow_embed": false,
    "execution_start": 1636139556914,
    "execution_millis": 368,
    "cell_id": "00036-b0a829b6-c15c-4c77-b087-af37d0e92079",
    "deepnote_cell_type": "code"
   },
   "source": "# Loudness vs hits\nsns.relplot(x = \"loudness_rounded\", y = \"mean\", kind = \"line\", data = target_prop_by_loudness)\n",
   "execution_count": 17,
   "outputs": [
    {
     "output_type": "execute_result",
     "execution_count": 17,
     "data": {
      "text/plain": "<seaborn.axisgrid.FacetGrid at 0x7fe2e431e3d0>"
     },
     "metadata": {}
    },
    {
     "data": {
      "text/plain": "<Figure size 360x360 with 1 Axes>",
      "image/png": "[encoded data removed]"
     },
     "metadata": {
      "needs_background": "light",
      "image/png": {
       "width": 352,
       "height": 353
      }
     },
     "output_type": "display_data"
    }
   ]
  },
  {
   "cell_type": "code",
   "metadata": {
    "tags": [],
    "deepnote_to_be_reexecuted": false,
    "source_hash": "b2c370a1",
    "allow_embed": false,
    "execution_start": 1636139557278,
    "execution_millis": 377,
    "cell_id": "00037-ab26a57f-63d8-42c7-9046-32c80903b90f",
    "deepnote_cell_type": "code"
   },
   "source": "# Valence vs hits\nsns.relplot(x = \"valence\", y = \"mean\",  kind = \"line\", data = target_prop_by_valence)\n",
   "execution_count": 18,
   "outputs": [
    {
     "output_type": "execute_result",
     "execution_count": 18,
     "data": {
      "text/plain": "<seaborn.axisgrid.FacetGrid at 0x7fe2df598810>"
     },
     "metadata": {}
    },
    {
     "data": {
      "text/plain": "<Figure size 360x360 with 1 Axes>",
      "image/png": "[encoded data removed]"
     },
     "metadata": {
      "needs_background": "light",
      "image/png": {
       "width": 352,
       "height": 352
      }
     },
     "output_type": "display_data"
    }
   ]
  },
  {
   "cell_type": "code",
   "metadata": {
    "tags": [],
    "deepnote_to_be_reexecuted": false,
    "source_hash": "cc3c8240",
    "allow_embed": false,
    "execution_start": 1636139557674,
    "execution_millis": 292,
    "cell_id": "00038-bb81d392-a6e9-4a4a-9ac0-434a441569fe",
    "deepnote_cell_type": "code"
   },
   "source": "# Mode vs hits\n\n# Good question to do hypothesis test on. \nsns.catplot(x = \"mode\", y = \"mean\",  kind = \"bar\", data = target_prop_by_mode)\n",
   "execution_count": 19,
   "outputs": [
    {
     "output_type": "execute_result",
     "execution_count": 19,
     "data": {
      "text/plain": "<seaborn.axisgrid.FacetGrid at 0x7fe2e433c710>"
     },
     "metadata": {}
    },
    {
     "data": {
      "text/plain": "<Figure size 360x360 with 1 Axes>",
      "image/png": "[encoded data removed]"
     },
     "metadata": {
      "needs_background": "light",
      "image/png": {
       "width": 352,
       "height": 352
      }
     },
     "output_type": "display_data"
    }
   ]
  },
  {
   "cell_type": "code",
   "metadata": {
    "tags": [],
    "deepnote_to_be_reexecuted": false,
    "source_hash": "d42ae9f9",
    "allow_embed": false,
    "execution_start": 1636139557985,
    "execution_millis": 259,
    "cell_id": "00039-7a883aaf-d925-4567-8fa2-cf967bb90607",
    "deepnote_cell_type": "code"
   },
   "source": "# Time signature vs hits\n\n# Good question to do hypothesis test on. \nsns.catplot(x = \"time_signature\", y = \"mean\", kind = \"bar\", data = target_prop_by_time_signature)\n",
   "execution_count": 20,
   "outputs": [
    {
     "output_type": "execute_result",
     "execution_count": 20,
     "data": {
      "text/plain": "<seaborn.axisgrid.FacetGrid at 0x7fe2d5991c50>"
     },
     "metadata": {}
    },
    {
     "data": {
      "text/plain": "<Figure size 360x360 with 1 Axes>",
      "image/png": "[encoded data removed]"
     },
     "metadata": {
      "needs_background": "light",
      "image/png": {
       "width": 352,
       "height": 352
      }
     },
     "output_type": "display_data"
    }
   ]
  },
  {
   "cell_type": "markdown",
   "source": "### CS 216 Project: Overall Statistics Analysis (Seasonal Analysis)\n##### Sharan Sokhi (ss1148)",
   "metadata": {
    "tags": [],
    "cell_id": "00024-4767297a-eb50-4419-adb0-46f79bf6640c",
    "deepnote_cell_type": "markdown"
   }
  },
  {
   "cell_type": "code",
   "source": "data.head()",
   "metadata": {
    "tags": [],
    "cell_id": "00025-f5873301-159c-480b-ae2d-e0adfa97e77b",
    "deepnote_to_be_reexecuted": false,
    "source_hash": "41313cfa",
    "execution_start": 1636139558249,
    "execution_millis": 62,
    "deepnote_cell_type": "code"
   },
   "outputs": [
    {
     "output_type": "execute_result",
     "execution_count": 21,
     "data": {
      "application/vnd.deepnote.dataframe.v2+json": {
       "row_count": 5,
       "column_count": 22,
       "columns": [
        {
         "name": "track",
         "dtype": "object",
         "stats": {
          "unique_count": 5,
          "nan_count": 0,
          "categories": [
           {
            "name": "Wild Things",
            "count": 1
           },
           {
            "name": "Surfboard",
            "count": 1
           },
           {
            "name": "3 others",
            "count": 3
           }
          ]
         }
        },
        {
         "name": "artist",
         "dtype": "object",
         "stats": {
          "unique_count": 5,
          "nan_count": 0,
          "categories": [
           {
            "name": "Alessia Cara",
            "count": 1
           },
           {
            "name": "Esquivel!",
            "count": 1
           },
           {
            "name": "3 others",
            "count": 3
           }
          ]
         }
        },
        {
         "name": "uri",
         "dtype": "object",
         "stats": {
          "unique_count": 5,
          "nan_count": 0,
          "categories": [
           {
            "name": "spotify:track:2ZyuwVvV6Z3XJaXIFbspeE",
            "count": 1
           },
           {
            "name": "spotify:track:61APOtq25SCMuK0V5w2Kgp",
            "count": 1
           },
           {
            "name": "3 others",
            "count": 3
           }
          ]
         }
        },
        {
         "name": "danceability",
         "dtype": "float64",
         "stats": {
          "unique_count": 5,
          "nan_count": 0,
          "min": "0.447",
          "max": "0.807",
          "histogram": [
           {
            "bin_start": 0.447,
            "bin_end": 0.483,
            "count": 1
           },
           {
            "bin_start": 0.483,
            "bin_end": 0.519,
            "count": 1
           },
           {
            "bin_start": 0.519,
            "bin_end": 0.555,
            "count": 1
           },
           {
            "bin_start": 0.555,
            "bin_end": 0.591,
            "count": 0
           },
           {
            "bin_start": 0.591,
            "bin_end": 0.627,
            "count": 0
           },
           {
            "bin_start": 0.627,
            "bin_end": 0.663,
            "count": 0
           },
           {
            "bin_start": 0.663,
            "bin_end": 0.6990000000000001,
            "count": 0
           },
           {
            "bin_start": 0.6990000000000001,
            "bin_end": 0.7350000000000001,
            "count": 0
           },
           {
            "bin_start": 0.7350000000000001,
            "bin_end": 0.7710000000000001,
            "count": 1
           },
           {
            "bin_start": 0.7710000000000001,
            "bin_end": 0.807,
            "count": 1
           }
          ]
         }
        },
        {
         "name": "energy",
         "dtype": "float64",
         "stats": {
          "unique_count": 5,
          "nan_count": 0,
          "min": "0.247",
          "max": "0.887",
          "histogram": [
           {
            "bin_start": 0.247,
            "bin_end": 0.311,
            "count": 1
           },
           {
            "bin_start": 0.311,
            "bin_end": 0.375,
            "count": 0
           },
           {
            "bin_start": 0.375,
            "bin_end": 0.439,
            "count": 1
           },
           {
            "bin_start": 0.439,
            "bin_end": 0.503,
            "count": 0
           },
           {
            "bin_start": 0.503,
            "bin_end": 0.567,
            "count": 0
           },
           {
            "bin_start": 0.567,
            "bin_end": 0.631,
            "count": 1
           },
           {
            "bin_start": 0.631,
            "bin_end": 0.6950000000000001,
            "count": 1
           },
           {
            "bin_start": 0.6950000000000001,
            "bin_end": 0.759,
            "count": 0
           },
           {
            "bin_start": 0.759,
            "bin_end": 0.8230000000000001,
            "count": 0
           },
           {
            "bin_start": 0.8230000000000001,
            "bin_end": 0.887,
            "count": 1
           }
          ]
         }
        },
        {
         "name": "key",
         "dtype": "int64",
         "stats": {
          "unique_count": 4,
          "nan_count": 0,
          "min": "0",
          "max": "9",
          "histogram": [
           {
            "bin_start": 0,
            "bin_end": 0.9,
            "count": 1
           },
           {
            "bin_start": 0.9,
            "bin_end": 1.8,
            "count": 2
           },
           {
            "bin_start": 1.8,
            "bin_end": 2.7,
            "count": 0
           },
           {
            "bin_start": 2.7,
            "bin_end": 3.6,
            "count": 0
           },
           {
            "bin_start": 3.6,
            "bin_end": 4.5,
            "count": 0
           },
           {
            "bin_start": 4.5,
            "bin_end": 5.4,
            "count": 1
           },
           {
            "bin_start": 5.4,
            "bin_end": 6.3,
            "count": 0
           },
           {
            "bin_start": 6.3,
            "bin_end": 7.2,
            "count": 0
           },
           {
            "bin_start": 7.2,
            "bin_end": 8.1,
            "count": 0
           },
           {
            "bin_start": 8.1,
            "bin_end": 9,
            "count": 1
           }
          ]
         }
        },
        {
         "name": "loudness",
         "dtype": "float64",
         "stats": {
          "unique_count": 5,
          "nan_count": 0,
          "min": "-14.661",
          "max": "-3.892",
          "histogram": [
           {
            "bin_start": -14.661,
            "bin_end": -13.5841,
            "count": 1
           },
           {
            "bin_start": -13.5841,
            "bin_end": -12.5072,
            "count": 0
           },
           {
            "bin_start": -12.5072,
            "bin_end": -11.430299999999999,
            "count": 0
           },
           {
            "bin_start": -11.430299999999999,
            "bin_end": -10.3534,
            "count": 0
           },
           {
            "bin_start": -10.3534,
            "bin_end": -9.276499999999999,
            "count": 0
           },
           {
            "bin_start": -9.276499999999999,
            "bin_end": -8.1996,
            "count": 0
           },
           {
            "bin_start": -8.1996,
            "bin_end": -7.1227,
            "count": 0
           },
           {
            "bin_start": -7.1227,
            "bin_end": -6.0458,
            "count": 1
           },
           {
            "bin_start": -6.0458,
            "bin_end": -4.9689,
            "count": 1
           },
           {
            "bin_start": -4.9689,
            "bin_end": -3.892,
            "count": 2
           }
          ]
         }
        },
        {
         "name": "mode",
         "dtype": "int64",
         "stats": {
          "unique_count": 2,
          "nan_count": 0,
          "min": "0",
          "max": "1",
          "histogram": [
           {
            "bin_start": 0,
            "bin_end": 0.1,
            "count": 4
           },
           {
            "bin_start": 0.1,
            "bin_end": 0.2,
            "count": 0
           },
           {
            "bin_start": 0.2,
            "bin_end": 0.30000000000000004,
            "count": 0
           },
           {
            "bin_start": 0.30000000000000004,
            "bin_end": 0.4,
            "count": 0
           },
           {
            "bin_start": 0.4,
            "bin_end": 0.5,
            "count": 0
           },
           {
            "bin_start": 0.5,
            "bin_end": 0.6000000000000001,
            "count": 0
           },
           {
            "bin_start": 0.6000000000000001,
            "bin_end": 0.7000000000000001,
            "count": 0
           },
           {
            "bin_start": 0.7000000000000001,
            "bin_end": 0.8,
            "count": 0
           },
           {
            "bin_start": 0.8,
            "bin_end": 0.9,
            "count": 0
           },
           {
            "bin_start": 0.9,
            "bin_end": 1,
            "count": 1
           }
          ]
         }
        },
        {
         "name": "speechiness",
         "dtype": "float64",
         "stats": {
          "unique_count": 5,
          "nan_count": 0,
          "min": "0.0346",
          "max": "0.275",
          "histogram": [
           {
            "bin_start": 0.0346,
            "bin_end": 0.05864,
            "count": 3
           },
           {
            "bin_start": 0.05864,
            "bin_end": 0.08268,
            "count": 0
           },
           {
            "bin_start": 0.08268,
            "bin_end": 0.10672000000000001,
            "count": 1
           },
           {
            "bin_start": 0.10672000000000001,
            "bin_end": 0.13076000000000002,
            "count": 0
           },
           {
            "bin_start": 0.13076000000000002,
            "bin_end": 0.15480000000000002,
            "count": 0
           },
           {
            "bin_start": 0.15480000000000002,
            "bin_end": 0.17884,
            "count": 0
           },
           {
            "bin_start": 0.17884,
            "bin_end": 0.20288,
            "count": 0
           },
           {
            "bin_start": 0.20288,
            "bin_end": 0.22692,
            "count": 0
           },
           {
            "bin_start": 0.22692,
            "bin_end": 0.25096,
            "count": 0
           },
           {
            "bin_start": 0.25096,
            "bin_end": 0.275,
            "count": 1
           }
          ]
         }
        },
        {
         "name": "acousticness",
         "dtype": "float64",
         "stats": {
          "unique_count": 5,
          "nan_count": 0,
          "min": "0.00381",
          "max": "0.871",
          "histogram": [
           {
            "bin_start": 0.00381,
            "bin_end": 0.090529,
            "count": 3
           },
           {
            "bin_start": 0.090529,
            "bin_end": 0.17724800000000002,
            "count": 1
           },
           {
            "bin_start": 0.17724800000000002,
            "bin_end": 0.263967,
            "count": 0
           },
           {
            "bin_start": 0.263967,
            "bin_end": 0.350686,
            "count": 0
           },
           {
            "bin_start": 0.350686,
            "bin_end": 0.437405,
            "count": 0
           },
           {
            "bin_start": 0.437405,
            "bin_end": 0.524124,
            "count": 0
           },
           {
            "bin_start": 0.524124,
            "bin_end": 0.610843,
            "count": 0
           },
           {
            "bin_start": 0.610843,
            "bin_end": 0.697562,
            "count": 0
           },
           {
            "bin_start": 0.697562,
            "bin_end": 0.784281,
            "count": 0
           },
           {
            "bin_start": 0.784281,
            "bin_end": 0.871,
            "count": 1
           }
          ]
         }
        },
        {
         "name": "instrumentalness",
         "dtype": "float64",
         "stats": {
          "unique_count": 2,
          "nan_count": 0,
          "min": "0.0",
          "max": "0.814",
          "histogram": [
           {
            "bin_start": 0,
            "bin_end": 0.0814,
            "count": 4
           },
           {
            "bin_start": 0.0814,
            "bin_end": 0.1628,
            "count": 0
           },
           {
            "bin_start": 0.1628,
            "bin_end": 0.2442,
            "count": 0
           },
           {
            "bin_start": 0.2442,
            "bin_end": 0.3256,
            "count": 0
           },
           {
            "bin_start": 0.3256,
            "bin_end": 0.40700000000000003,
            "count": 0
           },
           {
            "bin_start": 0.40700000000000003,
            "bin_end": 0.4884,
            "count": 0
           },
           {
            "bin_start": 0.4884,
            "bin_end": 0.5698,
            "count": 0
           },
           {
            "bin_start": 0.5698,
            "bin_end": 0.6512,
            "count": 0
           },
           {
            "bin_start": 0.6512,
            "bin_end": 0.7326,
            "count": 0
           },
           {
            "bin_start": 0.7326,
            "bin_end": 0.814,
            "count": 1
           }
          ]
         }
        },
        {
         "name": "liveness",
         "dtype": "float64",
         "stats": {
          "unique_count": 5,
          "nan_count": 0,
          "min": "0.0828",
          "max": "0.391",
          "histogram": [
           {
            "bin_start": 0.0828,
            "bin_end": 0.11362,
            "count": 3
           },
           {
            "bin_start": 0.11362,
            "bin_end": 0.14444,
            "count": 0
           },
           {
            "bin_start": 0.14444,
            "bin_end": 0.17526000000000003,
            "count": 0
           },
           {
            "bin_start": 0.17526000000000003,
            "bin_end": 0.20608,
            "count": 1
           },
           {
            "bin_start": 0.20608,
            "bin_end": 0.2369,
            "count": 0
           },
           {
            "bin_start": 0.2369,
            "bin_end": 0.26772,
            "count": 0
           },
           {
            "bin_start": 0.26772,
            "bin_end": 0.29854,
            "count": 0
           },
           {
            "bin_start": 0.29854,
            "bin_end": 0.32936000000000004,
            "count": 0
           },
           {
            "bin_start": 0.32936000000000004,
            "bin_end": 0.36018,
            "count": 0
           },
           {
            "bin_start": 0.36018,
            "bin_end": 0.391,
            "count": 1
           }
          ]
         }
        },
        {
         "name": "valence",
         "dtype": "float64",
         "stats": {
          "unique_count": 5,
          "nan_count": 0,
          "min": "0.25",
          "max": "0.78",
          "histogram": [
           {
            "bin_start": 0.25,
            "bin_end": 0.303,
            "count": 3
           },
           {
            "bin_start": 0.303,
            "bin_end": 0.356,
            "count": 0
           },
           {
            "bin_start": 0.356,
            "bin_end": 0.40900000000000003,
            "count": 0
           },
           {
            "bin_start": 0.40900000000000003,
            "bin_end": 0.462,
            "count": 0
           },
           {
            "bin_start": 0.462,
            "bin_end": 0.515,
            "count": 0
           },
           {
            "bin_start": 0.515,
            "bin_end": 0.5680000000000001,
            "count": 0
           },
           {
            "bin_start": 0.5680000000000001,
            "bin_end": 0.621,
            "count": 0
           },
           {
            "bin_start": 0.621,
            "bin_end": 0.674,
            "count": 0
           },
           {
            "bin_start": 0.674,
            "bin_end": 0.7270000000000001,
            "count": 1
           },
           {
            "bin_start": 0.7270000000000001,
            "bin_end": 0.78,
            "count": 1
           }
          ]
         }
        },
        {
         "name": "tempo",
         "dtype": "float64",
         "stats": {
          "unique_count": 5,
          "nan_count": 0,
          "min": "91.837",
          "max": "172.065",
          "histogram": [
           {
            "bin_start": 91.837,
            "bin_end": 99.8598,
            "count": 1
           },
           {
            "bin_start": 99.8598,
            "bin_end": 107.8826,
            "count": 0
           },
           {
            "bin_start": 107.8826,
            "bin_end": 115.9054,
            "count": 1
           },
           {
            "bin_start": 115.9054,
            "bin_end": 123.9282,
            "count": 0
           },
           {
            "bin_start": 123.9282,
            "bin_end": 131.95100000000002,
            "count": 0
           },
           {
            "bin_start": 131.95100000000002,
            "bin_end": 139.9738,
            "count": 0
           },
           {
            "bin_start": 139.9738,
            "bin_end": 147.9966,
            "count": 0
           },
           {
            "bin_start": 147.9966,
            "bin_end": 156.01940000000002,
            "count": 1
           },
           {
            "bin_start": 156.01940000000002,
            "bin_end": 164.0422,
            "count": 1
           },
           {
            "bin_start": 164.0422,
            "bin_end": 172.065,
            "count": 1
           }
          ]
         }
        },
        {
         "name": "duration_ms",
         "dtype": "int64",
         "stats": {
          "unique_count": 5,
          "nan_count": 0,
          "min": "144244",
          "max": "205463",
          "histogram": [
           {
            "bin_start": 144244,
            "bin_end": 150365.9,
            "count": 1
           },
           {
            "bin_start": 150365.9,
            "bin_end": 156487.8,
            "count": 0
           },
           {
            "bin_start": 156487.8,
            "bin_end": 162609.7,
            "count": 0
           },
           {
            "bin_start": 162609.7,
            "bin_end": 168731.6,
            "count": 0
           },
           {
            "bin_start": 168731.6,
            "bin_end": 174853.5,
            "count": 0
           },
           {
            "bin_start": 174853.5,
            "bin_end": 180975.4,
            "count": 1
           },
           {
            "bin_start": 180975.4,
            "bin_end": 187097.3,
            "count": 0
           },
           {
            "bin_start": 187097.3,
            "bin_end": 193219.2,
            "count": 2
           },
           {
            "bin_start": 193219.2,
            "bin_end": 199341.1,
            "count": 0
           },
           {
            "bin_start": 199341.1,
            "bin_end": 205463,
            "count": 1
           }
          ]
         }
        },
        {
         "name": "time_signature",
         "dtype": "int64",
         "stats": {
          "unique_count": 2,
          "nan_count": 0,
          "min": "3",
          "max": "4",
          "histogram": [
           {
            "bin_start": 3,
            "bin_end": 3.1,
            "count": 1
           },
           {
            "bin_start": 3.1,
            "bin_end": 3.2,
            "count": 0
           },
           {
            "bin_start": 3.2,
            "bin_end": 3.3,
            "count": 0
           },
           {
            "bin_start": 3.3,
            "bin_end": 3.4,
            "count": 0
           },
           {
            "bin_start": 3.4,
            "bin_end": 3.5,
            "count": 0
           },
           {
            "bin_start": 3.5,
            "bin_end": 3.6,
            "count": 0
           },
           {
            "bin_start": 3.6,
            "bin_end": 3.7,
            "count": 0
           },
           {
            "bin_start": 3.7,
            "bin_end": 3.8,
            "count": 0
           },
           {
            "bin_start": 3.8,
            "bin_end": 3.9,
            "count": 0
           },
           {
            "bin_start": 3.9,
            "bin_end": 4,
            "count": 4
           }
          ]
         }
        },
        {
         "name": "chorus_hit",
         "dtype": "float64",
         "stats": {
          "unique_count": 5,
          "nan_count": 0,
          "min": "24.99199",
          "max": "44.89147",
          "histogram": [
           {
            "bin_start": 24.99199,
            "bin_end": 26.981938,
            "count": 1
           },
           {
            "bin_start": 26.981938,
            "bin_end": 28.971886,
            "count": 0
           },
           {
            "bin_start": 28.971886,
            "bin_end": 30.961834,
            "count": 1
           },
           {
            "bin_start": 30.961834,
            "bin_end": 32.951782,
            "count": 0
           },
           {
            "bin_start": 32.951782,
            "bin_end": 34.94173,
            "count": 1
           },
           {
            "bin_start": 34.94173,
            "bin_end": 36.931678,
            "count": 0
           },
           {
            "bin_start": 36.931678,
            "bin_end": 38.921625999999996,
            "count": 0
           },
           {
            "bin_start": 38.921625999999996,
            "bin_end": 40.911574,
            "count": 0
           },
           {
            "bin_start": 40.911574,
            "bin_end": 42.901522,
            "count": 1
           },
           {
            "bin_start": 42.901522,
            "bin_end": 44.89147,
            "count": 1
           }
          ]
         }
        },
        {
         "name": "sections",
         "dtype": "int64",
         "stats": {
          "unique_count": 4,
          "nan_count": 0,
          "min": "7",
          "max": "10",
          "histogram": [
           {
            "bin_start": 7,
            "bin_end": 7.3,
            "count": 1
           },
           {
            "bin_start": 7.3,
            "bin_end": 7.6,
            "count": 0
           },
           {
            "bin_start": 7.6,
            "bin_end": 7.9,
            "count": 0
           },
           {
            "bin_start": 7.9,
            "bin_end": 8.2,
            "count": 1
           },
           {
            "bin_start": 8.2,
            "bin_end": 8.5,
            "count": 0
           },
           {
            "bin_start": 8.5,
            "bin_end": 8.8,
            "count": 0
           },
           {
            "bin_start": 8.8,
            "bin_end": 9.1,
            "count": 2
           },
           {
            "bin_start": 9.1,
            "bin_end": 9.4,
            "count": 0
           },
           {
            "bin_start": 9.4,
            "bin_end": 9.7,
            "count": 0
           },
           {
            "bin_start": 9.7,
            "bin_end": 10,
            "count": 1
           }
          ]
         }
        },
        {
         "name": "target",
         "dtype": "int64",
         "stats": {
          "unique_count": 2,
          "nan_count": 0,
          "min": "0",
          "max": "1",
          "histogram": [
           {
            "bin_start": 0,
            "bin_end": 0.1,
            "count": 2
           },
           {
            "bin_start": 0.1,
            "bin_end": 0.2,
            "count": 0
           },
           {
            "bin_start": 0.2,
            "bin_end": 0.30000000000000004,
            "count": 0
           },
           {
            "bin_start": 0.30000000000000004,
            "bin_end": 0.4,
            "count": 0
           },
           {
            "bin_start": 0.4,
            "bin_end": 0.5,
            "count": 0
           },
           {
            "bin_start": 0.5,
            "bin_end": 0.6000000000000001,
            "count": 0
           },
           {
            "bin_start": 0.6000000000000001,
            "bin_end": 0.7000000000000001,
            "count": 0
           },
           {
            "bin_start": 0.7000000000000001,
            "bin_end": 0.8,
            "count": 0
           },
           {
            "bin_start": 0.8,
            "bin_end": 0.9,
            "count": 0
           },
           {
            "bin_start": 0.9,
            "bin_end": 1,
            "count": 3
           }
          ]
         }
        },
        {
         "name": "decade",
         "dtype": "int64",
         "stats": {
          "unique_count": 1,
          "nan_count": 0,
          "min": "2010",
          "max": "2010",
          "histogram": [
           {
            "bin_start": 2009.5,
            "bin_end": 2009.6,
            "count": 0
           },
           {
            "bin_start": 2009.6,
            "bin_end": 2009.7,
            "count": 0
           },
           {
            "bin_start": 2009.7,
            "bin_end": 2009.8,
            "count": 0
           },
           {
            "bin_start": 2009.8,
            "bin_end": 2009.9,
            "count": 0
           },
           {
            "bin_start": 2009.9,
            "bin_end": 2010,
            "count": 0
           },
           {
            "bin_start": 2010,
            "bin_end": 2010.1,
            "count": 5
           },
           {
            "bin_start": 2010.1,
            "bin_end": 2010.2,
            "count": 0
           },
           {
            "bin_start": 2010.2,
            "bin_end": 2010.3,
            "count": 0
           },
           {
            "bin_start": 2010.3,
            "bin_end": 2010.4,
            "count": 0
           },
           {
            "bin_start": 2010.4,
            "bin_end": 2010.5,
            "count": 0
           }
          ]
         }
        },
        {
         "name": "duration_sec",
         "dtype": "float64",
         "stats": {
          "unique_count": 5,
          "nan_count": 0,
          "min": "144.0",
          "max": "205.0",
          "histogram": [
           {
            "bin_start": 144,
            "bin_end": 150.1,
            "count": 1
           },
           {
            "bin_start": 150.1,
            "bin_end": 156.2,
            "count": 0
           },
           {
            "bin_start": 156.2,
            "bin_end": 162.3,
            "count": 0
           },
           {
            "bin_start": 162.3,
            "bin_end": 168.4,
            "count": 0
           },
           {
            "bin_start": 168.4,
            "bin_end": 174.5,
            "count": 0
           },
           {
            "bin_start": 174.5,
            "bin_end": 180.6,
            "count": 1
           },
           {
            "bin_start": 180.6,
            "bin_end": 186.7,
            "count": 0
           },
           {
            "bin_start": 186.7,
            "bin_end": 192.8,
            "count": 1
           },
           {
            "bin_start": 192.8,
            "bin_end": 198.9,
            "count": 1
           },
           {
            "bin_start": 198.9,
            "bin_end": 205,
            "count": 1
           }
          ]
         }
        },
        {
         "name": "loudness_rounded",
         "dtype": "float64",
         "stats": {
          "unique_count": 5,
          "nan_count": 0,
          "min": "-15.0",
          "max": "-4.0",
          "histogram": [
           {
            "bin_start": -15,
            "bin_end": -13.9,
            "count": 1
           },
           {
            "bin_start": -13.9,
            "bin_end": -12.8,
            "count": 0
           },
           {
            "bin_start": -12.8,
            "bin_end": -11.7,
            "count": 0
           },
           {
            "bin_start": -11.7,
            "bin_end": -10.6,
            "count": 0
           },
           {
            "bin_start": -10.6,
            "bin_end": -9.5,
            "count": 0
           },
           {
            "bin_start": -9.5,
            "bin_end": -8.399999999999999,
            "count": 0
           },
           {
            "bin_start": -8.399999999999999,
            "bin_end": -7.299999999999999,
            "count": 0
           },
           {
            "bin_start": -7.299999999999999,
            "bin_end": -6.199999999999999,
            "count": 1
           },
           {
            "bin_start": -6.199999999999999,
            "bin_end": -5.1,
            "count": 1
           },
           {
            "bin_start": -5.1,
            "bin_end": -4,
            "count": 2
           }
          ]
         }
        },
        {
         "name": "_deepnote_index_column",
         "dtype": "int64"
        }
       ],
       "rows_top": [
        {
         "track": "Wild Things",
         "artist": "Alessia Cara",
         "uri": "spotify:track:2ZyuwVvV6Z3XJaXIFbspeE",
         "danceability": 0.741,
         "energy": 0.626,
         "key": 1,
         "loudness": -4.826,
         "mode": 0,
         "speechiness": 0.0886,
         "acousticness": 0.02,
         "instrumentalness": 0,
         "liveness": 0.0828,
         "valence": 0.706,
         "tempo": 108.029,
         "duration_ms": 188493,
         "time_signature": 4,
         "chorus_hit": 41.18681,
         "sections": 10,
         "target": 1,
         "decade": 2010,
         "duration_sec": 188,
         "loudness_rounded": -5,
         "_deepnote_index_column": 0
        },
        {
         "track": "Surfboard",
         "artist": "Esquivel!",
         "uri": "spotify:track:61APOtq25SCMuK0V5w2Kgp",
         "danceability": 0.447,
         "energy": 0.247,
         "key": 5,
         "loudness": -14.661,
         "mode": 0,
         "speechiness": 0.0346,
         "acousticness": 0.871,
         "instrumentalness": 0.814,
         "liveness": 0.0946,
         "valence": 0.25,
         "tempo": 155.489,
         "duration_ms": 176880,
         "time_signature": 3,
         "chorus_hit": 33.18083,
         "sections": 9,
         "target": 0,
         "decade": 2010,
         "duration_sec": 177,
         "loudness_rounded": -15,
         "_deepnote_index_column": 1
        },
        {
         "track": "Love Someone",
         "artist": "Lukas Graham",
         "uri": "spotify:track:2JqnpexlO9dmvjUMCaLCLJ",
         "danceability": 0.55,
         "energy": 0.415,
         "key": 9,
         "loudness": -6.557,
         "mode": 0,
         "speechiness": 0.052,
         "acousticness": 0.161,
         "instrumentalness": 0,
         "liveness": 0.108,
         "valence": 0.274,
         "tempo": 172.065,
         "duration_ms": 205463,
         "time_signature": 4,
         "chorus_hit": 44.89147,
         "sections": 9,
         "target": 1,
         "decade": 2010,
         "duration_sec": 205,
         "loudness_rounded": -7,
         "_deepnote_index_column": 2
        },
        {
         "track": "Music To My Ears (feat. Tory Lanez)",
         "artist": "Keys N Krates",
         "uri": "spotify:track:0cjfLhk8WJ3etPTCseKXtk",
         "danceability": 0.502,
         "energy": 0.648,
         "key": 0,
         "loudness": -5.698,
         "mode": 0,
         "speechiness": 0.0527,
         "acousticness": 0.00513,
         "instrumentalness": 0,
         "liveness": 0.204,
         "valence": 0.291,
         "tempo": 91.837,
         "duration_ms": 193043,
         "time_signature": 4,
         "chorus_hit": 29.52521,
         "sections": 7,
         "target": 0,
         "decade": 2010,
         "duration_sec": 193,
         "loudness_rounded": -6,
         "_deepnote_index_column": 3
        },
        {
         "track": "Juju On That Beat (TZ Anthem)",
         "artist": "Zay Hilfigerrr & Zayion McCall",
         "uri": "spotify:track:1lItf5ZXJc1by9SbPeljFd",
         "danceability": 0.807,
         "energy": 0.887,
         "key": 1,
         "loudness": -3.892,
         "mode": 1,
         "speechiness": 0.275,
         "acousticness": 0.00381,
         "instrumentalness": 0,
         "liveness": 0.391,
         "valence": 0.78,
         "tempo": 160.517,
         "duration_ms": 144244,
         "time_signature": 4,
         "chorus_hit": 24.99199,
         "sections": 8,
         "target": 1,
         "decade": 2010,
         "duration_sec": 144,
         "loudness_rounded": -4,
         "_deepnote_index_column": 4
        }
       ],
       "rows_bottom": null
      },
      "text/plain": "                                 track                          artist  \\\n0                          Wild Things                    Alessia Cara   \n1                            Surfboard                       Esquivel!   \n2                         Love Someone                    Lukas Graham   \n3  Music To My Ears (feat. Tory Lanez)                   Keys N Krates   \n4        Juju On That Beat (TZ Anthem)  Zay Hilfigerrr & Zayion McCall   \n\n                                    uri  danceability  energy  key  loudness  \\\n0  spotify:track:2ZyuwVvV6Z3XJaXIFbspeE         0.741   0.626    1    -4.826   \n1  spotify:track:61APOtq25SCMuK0V5w2Kgp         0.447   0.247    5   -14.661   \n2  spotify:track:2JqnpexlO9dmvjUMCaLCLJ         0.550   0.415    9    -6.557   \n3  spotify:track:0cjfLhk8WJ3etPTCseKXtk         0.502   0.648    0    -5.698   \n4  spotify:track:1lItf5ZXJc1by9SbPeljFd         0.807   0.887    1    -3.892   \n\n   mode  speechiness  acousticness  ...  valence    tempo  duration_ms  \\\n0     0       0.0886       0.02000  ...    0.706  108.029       188493   \n1     0       0.0346       0.87100  ...    0.250  155.489       176880   \n2     0       0.0520       0.16100  ...    0.274  172.065       205463   \n3     0       0.0527       0.00513  ...    0.291   91.837       193043   \n4     1       0.2750       0.00381  ...    0.780  160.517       144244   \n\n   time_signature  chorus_hit  sections  target  decade  duration_sec  \\\n0               4    41.18681        10       1    2010         188.0   \n1               3    33.18083         9       0    2010         177.0   \n2               4    44.89147         9       1    2010         205.0   \n3               4    29.52521         7       0    2010         193.0   \n4               4    24.99199         8       1    2010         144.0   \n\n   loudness_rounded  \n0              -5.0  \n1             -15.0  \n2              -7.0  \n3              -6.0  \n4              -4.0  \n\n[5 rows x 22 columns]",
      "text/html": "<div>\n<style scoped>\n    .dataframe tbody tr th:only-of-type {\n        vertical-align: middle;\n    }\n\n    .dataframe tbody tr th {\n        vertical-align: top;\n    }\n\n    .dataframe thead th {\n        text-align: right;\n    }\n</style>\n<table border=\"1\" class=\"dataframe\">\n  <thead>\n    <tr style=\"text-align: right;\">\n      <th></th>\n      <th>track</th>\n      <th>artist</th>\n      <th>uri</th>\n      <th>danceability</th>\n      <th>energy</th>\n      <th>key</th>\n      <th>loudness</th>\n      <th>mode</th>\n      <th>speechiness</th>\n      <th>acousticness</th>\n      <th>...</th>\n      <th>valence</th>\n      <th>tempo</th>\n      <th>duration_ms</th>\n      <th>time_signature</th>\n      <th>chorus_hit</th>\n      <th>sections</th>\n      <th>target</th>\n      <th>decade</th>\n      <th>duration_sec</th>\n      <th>loudness_rounded</th>\n    </tr>\n  </thead>\n  <tbody>\n    <tr>\n      <th>0</th>\n      <td>Wild Things</td>\n      <td>Alessia Cara</td>\n      <td>spotify:track:2ZyuwVvV6Z3XJaXIFbspeE</td>\n      <td>0.741</td>\n      <td>0.626</td>\n      <td>1</td>\n      <td>-4.826</td>\n      <td>0</td>\n      <td>0.0886</td>\n      <td>0.02000</td>\n      <td>...</td>\n      <td>0.706</td>\n      <td>108.029</td>\n      <td>188493</td>\n      <td>4</td>\n      <td>41.18681</td>\n      <td>10</td>\n      <td>1</td>\n      <td>2010</td>\n      <td>188.0</td>\n      <td>-5.0</td>\n    </tr>\n    <tr>\n      <th>1</th>\n      <td>Surfboard</td>\n      <td>Esquivel!</td>\n      <td>spotify:track:61APOtq25SCMuK0V5w2Kgp</td>\n      <td>0.447</td>\n      <td>0.247</td>\n      <td>5</td>\n      <td>-14.661</td>\n      <td>0</td>\n      <td>0.0346</td>\n      <td>0.87100</td>\n      <td>...</td>\n      <td>0.250</td>\n      <td>155.489</td>\n      <td>176880</td>\n      <td>3</td>\n      <td>33.18083</td>\n      <td>9</td>\n      <td>0</td>\n      <td>2010</td>\n      <td>177.0</td>\n      <td>-15.0</td>\n    </tr>\n    <tr>\n      <th>2</th>\n      <td>Love Someone</td>\n      <td>Lukas Graham</td>\n      <td>spotify:track:2JqnpexlO9dmvjUMCaLCLJ</td>\n      <td>0.550</td>\n      <td>0.415</td>\n      <td>9</td>\n      <td>-6.557</td>\n      <td>0</td>\n      <td>0.0520</td>\n      <td>0.16100</td>\n      <td>...</td>\n      <td>0.274</td>\n      <td>172.065</td>\n      <td>205463</td>\n      <td>4</td>\n      <td>44.89147</td>\n      <td>9</td>\n      <td>1</td>\n      <td>2010</td>\n      <td>205.0</td>\n      <td>-7.0</td>\n    </tr>\n    <tr>\n      <th>3</th>\n      <td>Music To My Ears (feat. Tory Lanez)</td>\n      <td>Keys N Krates</td>\n      <td>spotify:track:0cjfLhk8WJ3etPTCseKXtk</td>\n      <td>0.502</td>\n      <td>0.648</td>\n      <td>0</td>\n      <td>-5.698</td>\n      <td>0</td>\n      <td>0.0527</td>\n      <td>0.00513</td>\n      <td>...</td>\n      <td>0.291</td>\n      <td>91.837</td>\n      <td>193043</td>\n      <td>4</td>\n      <td>29.52521</td>\n      <td>7</td>\n      <td>0</td>\n      <td>2010</td>\n      <td>193.0</td>\n      <td>-6.0</td>\n    </tr>\n    <tr>\n      <th>4</th>\n      <td>Juju On That Beat (TZ Anthem)</td>\n      <td>Zay Hilfigerrr &amp; Zayion McCall</td>\n      <td>spotify:track:1lItf5ZXJc1by9SbPeljFd</td>\n      <td>0.807</td>\n      <td>0.887</td>\n      <td>1</td>\n      <td>-3.892</td>\n      <td>1</td>\n      <td>0.2750</td>\n      <td>0.00381</td>\n      <td>...</td>\n      <td>0.780</td>\n      <td>160.517</td>\n      <td>144244</td>\n      <td>4</td>\n      <td>24.99199</td>\n      <td>8</td>\n      <td>1</td>\n      <td>2010</td>\n      <td>144.0</td>\n      <td>-4.0</td>\n    </tr>\n  </tbody>\n</table>\n<p>5 rows × 22 columns</p>\n</div>"
     },
     "metadata": {}
    }
   ],
   "execution_count": 21
  },
  {
   "cell_type": "markdown",
   "source": "Hypothesis Test for mean loudness of a hit vs. mean loudness of a flop. \n\nWe believe that louder songs are more likely to be classified as a hit. ",
   "metadata": {
    "tags": [],
    "cell_id": "00025-123f9ce6-478e-4f5c-b4b8-b981f09595dd",
    "deepnote_cell_type": "markdown"
   }
  },
  {
   "cell_type": "markdown",
   "source": "<a style='text-decoration:none;line-height:16px;display:flex;color:#5B5B62;padding:10px;justify-content:end;' href='https://deepnote.com?utm_source=created-in-deepnote-cell&projectId=162d76af-48a2-4f75-9aef-34643a48aa39' target=\"_blank\">\n<img alt='Created in deepnote.com' style='display:inline;max-height:16px;margin:0px;margin-right:7.5px;' src='data:image/svg+xml;base64,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' > </img>\nCreated in <span style='font-weight:600;margin-left:4px;'>Deepnote</span></a>",
   "metadata": {
    "tags": [],
    "created_in_deepnote_cell": true,
    "deepnote_cell_type": "markdown"
   }
  }
 ],
 "nbformat": 4,
 "nbformat_minor": 2,
 "metadata": {
  "orig_nbformat": 2,
  "deepnote": {
   "is_reactive": false
  },
  "deepnote_notebook_id": "6bf5241f-a482-4627-896a-fa996cfef2e2",
  "deepnote_execution_queue": []
 }
}