{
 "cells": [
  {
   "cell_type": "markdown",
   "source": "### CS 216 Project\n##### Cameron Jarnot (cmj36), Delaney Demark (dad48), Joseph Scarpa (jcs140), Sharan Sokhi (ss1148)",
   "metadata": {
    "tags": [],
    "cell_id": "00000-342c22e8-5333-4c5f-95f1-f703affcb6f6",
    "deepnote_to_be_reexecuted": false,
    "source_hash": "644549be",
    "execution_start": 1634512206835,
    "deepnote_cell_type": "markdown"
   }
  },
  {
   "cell_type": "code",
   "metadata": {
    "tags": [],
    "cell_id": "00000-6ced4259-6aaf-4428-a08e-65338eb0f3be",
    "deepnote_to_be_reexecuted": false,
    "source_hash": "6595eda3",
    "execution_start": 1634684352556,
    "execution_millis": 1435,
    "deepnote_cell_type": "code"
   },
   "source": "# Imports (update throughout as necessary)\nimport numpy as np\nimport pandas as pd\nimport seaborn as sns\nimport math",
   "execution_count": 1,
   "outputs": []
  },
  {
   "cell_type": "markdown",
   "source": "#### Data loading and cleaning\n\nNotes:\n* No null values found\n* No duplicate values found",
   "metadata": {
    "tags": [],
    "cell_id": "00002-82649924-da9e-4d0d-a4cc-45359246b8cf",
    "deepnote_cell_type": "markdown"
   }
  },
  {
   "cell_type": "code",
   "metadata": {
    "tags": [],
    "cell_id": "00001-cb781a9b-6ea3-446c-91b4-7d95b4e44b59",
    "deepnote_to_be_reexecuted": false,
    "source_hash": "1796852b",
    "execution_start": 1634684354001,
    "execution_millis": 163,
    "deepnote_cell_type": "code"
   },
   "source": "# Data loading\ndata10 = pd.read_csv('./datasets/dataset-of-10s.csv')\ndata00 = pd.read_csv('./datasets/dataset-of-00s.csv')\ndata90 = pd.read_csv('./datasets/dataset-of-90s.csv')\ndata80 = pd.read_csv('./datasets/dataset-of-80s.csv')\ndata70 = pd.read_csv('./datasets/dataset-of-70s.csv')\ndata60 = pd.read_csv('./datasets/dataset-of-60s.csv')",
   "execution_count": 2,
   "outputs": []
  },
  {
   "cell_type": "code",
   "metadata": {
    "tags": [],
    "cell_id": "00002-d6165299-569c-4d12-bf4d-12e7145c108b",
    "deepnote_to_be_reexecuted": false,
    "source_hash": "bd4572f2",
    "execution_start": 1634684354179,
    "execution_millis": 49,
    "deepnote_cell_type": "code"
   },
   "source": "# Data cleaning\ndata10 = data10.dropna()\ndata00 = data00.dropna()\ndata90 = data90.dropna()\ndata80 = data80.dropna()\ndata70 = data70.dropna()\ndata60 = data60.dropna()\n# NOTE: Nothing is actually NA so nothing is truly dropped\n\n# Add a decades column to each dataset (will be helpful when creating cumulative dataset)\ndata10['decade'] = [2010]*len(data10)\ndata00['decade'] = [2000]*len(data00)\ndata90['decade'] = [1990]*len(data90)\ndata80['decade'] = [1980]*len(data80)\ndata70['decade'] = [1970]*len(data70)\ndata60['decade'] = [1960]*len(data60)",
   "execution_count": 3,
   "outputs": []
  },
  {
   "cell_type": "code",
   "metadata": {
    "tags": [],
    "cell_id": "00003-3d50376f-e4b9-4d82-bde8-94737ea63118",
    "deepnote_to_be_reexecuted": false,
    "source_hash": "b755cb78",
    "execution_start": 1634684354235,
    "execution_millis": 361,
    "deepnote_cell_type": "code"
   },
   "source": "# Check for duplicates in dataset\nmerged = data10.merge(data00,on=['track','artist'])\nmerged = merged.merge(data90,on=['track','artist'])\nmerged = merged.merge(data80,on=['track','artist'])\nmerged = merged.merge(data70,on=['track','artist'])\nmerged = merged.merge(data60,on=['track','artist'])\nmerged\n# NOTE: No duplicates found",
   "execution_count": 4,
   "outputs": [
    {
     "output_type": "execute_result",
     "execution_count": 4,
     "data": {
      "application/vnd.deepnote.dataframe.v2+json": {
       "row_count": 0,
       "column_count": 110,
       "columns": [
        {
         "name": "uri_x",
         "dtype": "object",
         "stats": {
          "unique_count": 0,
          "nan_count": 0,
          "categories": []
         }
        },
        {
         "name": "danceability_x",
         "dtype": "float64",
         "stats": {
          "unique_count": 0,
          "nan_count": 0,
          "min": null,
          "max": null,
          "histogram": [
           {
            "bin_start": 0,
            "bin_end": 0.1,
            "count": 0
           },
           {
            "bin_start": 0.1,
            "bin_end": 0.2,
            "count": 0
           },
           {
            "bin_start": 0.2,
            "bin_end": 0.30000000000000004,
            "count": 0
           },
           {
            "bin_start": 0.30000000000000004,
            "bin_end": 0.4,
            "count": 0
           },
           {
            "bin_start": 0.4,
            "bin_end": 0.5,
            "count": 0
           },
           {
            "bin_start": 0.5,
            "bin_end": 0.6000000000000001,
            "count": 0
           },
           {
            "bin_start": 0.6000000000000001,
            "bin_end": 0.7000000000000001,
            "count": 0
           },
           {
            "bin_start": 0.7000000000000001,
            "bin_end": 0.8,
            "count": 0
           },
           {
            "bin_start": 0.8,
            "bin_end": 0.9,
            "count": 0
           },
           {
            "bin_start": 0.9,
            "bin_end": 1,
            "count": 0
           }
          ]
         }
        },
        {
         "name": "energy_x",
         "dtype": "float64",
         "stats": {
          "unique_count": 0,
          "nan_count": 0,
          "min": null,
          "max": null,
          "histogram": [
           {
            "bin_start": 0,
            "bin_end": 0.1,
            "count": 0
           },
           {
            "bin_start": 0.1,
            "bin_end": 0.2,
            "count": 0
           },
           {
            "bin_start": 0.2,
            "bin_end": 0.30000000000000004,
            "count": 0
           },
           {
            "bin_start": 0.30000000000000004,
            "bin_end": 0.4,
            "count": 0
           },
           {
            "bin_start": 0.4,
            "bin_end": 0.5,
            "count": 0
           },
           {
            "bin_start": 0.5,
            "bin_end": 0.6000000000000001,
            "count": 0
           },
           {
            "bin_start": 0.6000000000000001,
            "bin_end": 0.7000000000000001,
            "count": 0
           },
           {
            "bin_start": 0.7000000000000001,
            "bin_end": 0.8,
            "count": 0
           },
           {
            "bin_start": 0.8,
            "bin_end": 0.9,
            "count": 0
           },
           {
            "bin_start": 0.9,
            "bin_end": 1,
            "count": 0
           }
          ]
         }
        },
        {
         "name": "key_x",
         "dtype": "int64",
         "stats": {
          "unique_count": 0,
          "nan_count": 0,
          "min": null,
          "max": null,
          "histogram": [
           {
            "bin_start": 0,
            "bin_end": 0.1,
            "count": 0
           },
           {
            "bin_start": 0.1,
            "bin_end": 0.2,
            "count": 0
           },
           {
            "bin_start": 0.2,
            "bin_end": 0.30000000000000004,
            "count": 0
           },
           {
            "bin_start": 0.30000000000000004,
            "bin_end": 0.4,
            "count": 0
           },
           {
            "bin_start": 0.4,
            "bin_end": 0.5,
            "count": 0
           },
           {
            "bin_start": 0.5,
            "bin_end": 0.6000000000000001,
            "count": 0
           },
           {
            "bin_start": 0.6000000000000001,
            "bin_end": 0.7000000000000001,
            "count": 0
           },
           {
            "bin_start": 0.7000000000000001,
            "bin_end": 0.8,
            "count": 0
           },
           {
            "bin_start": 0.8,
            "bin_end": 0.9,
            "count": 0
           },
           {
            "bin_start": 0.9,
            "bin_end": 1,
            "count": 0
           }
          ]
         }
        },
        {
         "name": "loudness_x",
         "dtype": "float64",
         "stats": {
          "unique_count": 0,
          "nan_count": 0,
          "min": null,
          "max": null,
          "histogram": [
           {
            "bin_start": 0,
            "bin_end": 0.1,
            "count": 0
           },
           {
            "bin_start": 0.1,
            "bin_end": 0.2,
            "count": 0
           },
           {
            "bin_start": 0.2,
            "bin_end": 0.30000000000000004,
            "count": 0
           },
           {
            "bin_start": 0.30000000000000004,
            "bin_end": 0.4,
            "count": 0
           },
           {
            "bin_start": 0.4,
            "bin_end": 0.5,
            "count": 0
           },
           {
            "bin_start": 0.5,
            "bin_end": 0.6000000000000001,
            "count": 0
           },
           {
            "bin_start": 0.6000000000000001,
            "bin_end": 0.7000000000000001,
            "count": 0
           },
           {
            "bin_start": 0.7000000000000001,
            "bin_end": 0.8,
            "count": 0
           },
           {
            "bin_start": 0.8,
            "bin_end": 0.9,
            "count": 0
           },
           {
            "bin_start": 0.9,
            "bin_end": 1,
            "count": 0
           }
          ]
         }
        },
        {
         "name": "mode_x",
         "dtype": "int64",
         "stats": {
          "unique_count": 0,
          "nan_count": 0,
          "min": null,
          "max": null,
          "histogram": [
           {
            "bin_start": 0,
            "bin_end": 0.1,
            "count": 0
           },
           {
            "bin_start": 0.1,
            "bin_end": 0.2,
            "count": 0
           },
           {
            "bin_start": 0.2,
            "bin_end": 0.30000000000000004,
            "count": 0
           },
           {
            "bin_start": 0.30000000000000004,
            "bin_end": 0.4,
            "count": 0
           },
           {
            "bin_start": 0.4,
            "bin_end": 0.5,
            "count": 0
           },
           {
            "bin_start": 0.5,
            "bin_end": 0.6000000000000001,
            "count": 0
           },
           {
            "bin_start": 0.6000000000000001,
            "bin_end": 0.7000000000000001,
            "count": 0
           },
           {
            "bin_start": 0.7000000000000001,
            "bin_end": 0.8,
            "count": 0
           },
           {
            "bin_start": 0.8,
            "bin_end": 0.9,
            "count": 0
           },
           {
            "bin_start": 0.9,
            "bin_end": 1,
            "count": 0
           }
          ]
         }
        },
        {
         "name": "speechiness_x",
         "dtype": "float64",
         "stats": {
          "unique_count": 0,
          "nan_count": 0,
          "min": null,
          "max": null,
          "histogram": [
           {
            "bin_start": 0,
            "bin_end": 0.1,
            "count": 0
           },
           {
            "bin_start": 0.1,
            "bin_end": 0.2,
            "count": 0
           },
           {
            "bin_start": 0.2,
            "bin_end": 0.30000000000000004,
            "count": 0
           },
           {
            "bin_start": 0.30000000000000004,
            "bin_end": 0.4,
            "count": 0
           },
           {
            "bin_start": 0.4,
            "bin_end": 0.5,
            "count": 0
           },
           {
            "bin_start": 0.5,
            "bin_end": 0.6000000000000001,
            "count": 0
           },
           {
            "bin_start": 0.6000000000000001,
            "bin_end": 0.7000000000000001,
            "count": 0
           },
           {
            "bin_start": 0.7000000000000001,
            "bin_end": 0.8,
            "count": 0
           },
           {
            "bin_start": 0.8,
            "bin_end": 0.9,
            "count": 0
           },
           {
            "bin_start": 0.9,
            "bin_end": 1,
            "count": 0
           }
          ]
         }
        },
        {
         "name": "acousticness_x",
         "dtype": "float64",
         "stats": {
          "unique_count": 0,
          "nan_count": 0,
          "min": null,
          "max": null,
          "histogram": [
           {
            "bin_start": 0,
            "bin_end": 0.1,
            "count": 0
           },
           {
            "bin_start": 0.1,
            "bin_end": 0.2,
            "count": 0
           },
           {
            "bin_start": 0.2,
            "bin_end": 0.30000000000000004,
            "count": 0
           },
           {
            "bin_start": 0.30000000000000004,
            "bin_end": 0.4,
            "count": 0
           },
           {
            "bin_start": 0.4,
            "bin_end": 0.5,
            "count": 0
           },
           {
            "bin_start": 0.5,
            "bin_end": 0.6000000000000001,
            "count": 0
           },
           {
            "bin_start": 0.6000000000000001,
            "bin_end": 0.7000000000000001,
            "count": 0
           },
           {
            "bin_start": 0.7000000000000001,
            "bin_end": 0.8,
            "count": 0
           },
           {
            "bin_start": 0.8,
            "bin_end": 0.9,
            "count": 0
           },
           {
            "bin_start": 0.9,
            "bin_end": 1,
            "count": 0
           }
          ]
         }
        },
        {
         "name": "instrumentalness_x",
         "dtype": "float64",
         "stats": {
          "unique_count": 0,
          "nan_count": 0,
          "min": null,
          "max": null,
          "histogram": [
           {
            "bin_start": 0,
            "bin_end": 0.1,
            "count": 0
           },
           {
            "bin_start": 0.1,
            "bin_end": 0.2,
            "count": 0
           },
           {
            "bin_start": 0.2,
            "bin_end": 0.30000000000000004,
            "count": 0
           },
           {
            "bin_start": 0.30000000000000004,
            "bin_end": 0.4,
            "count": 0
           },
           {
            "bin_start": 0.4,
            "bin_end": 0.5,
            "count": 0
           },
           {
            "bin_start": 0.5,
            "bin_end": 0.6000000000000001,
            "count": 0
           },
           {
            "bin_start": 0.6000000000000001,
            "bin_end": 0.7000000000000001,
            "count": 0
           },
           {
            "bin_start": 0.7000000000000001,
            "bin_end": 0.8,
            "count": 0
           },
           {
            "bin_start": 0.8,
            "bin_end": 0.9,
            "count": 0
           },
           {
            "bin_start": 0.9,
            "bin_end": 1,
            "count": 0
           }
          ]
         }
        },
        {
         "name": "liveness_x",
         "dtype": "float64",
         "stats": {
          "unique_count": 0,
          "nan_count": 0,
          "min": null,
          "max": null,
          "histogram": [
           {
            "bin_start": 0,
            "bin_end": 0.1,
            "count": 0
           },
           {
            "bin_start": 0.1,
            "bin_end": 0.2,
            "count": 0
           },
           {
            "bin_start": 0.2,
            "bin_end": 0.30000000000000004,
            "count": 0
           },
           {
            "bin_start": 0.30000000000000004,
            "bin_end": 0.4,
            "count": 0
           },
           {
            "bin_start": 0.4,
            "bin_end": 0.5,
            "count": 0
           },
           {
            "bin_start": 0.5,
            "bin_end": 0.6000000000000001,
            "count": 0
           },
           {
            "bin_start": 0.6000000000000001,
            "bin_end": 0.7000000000000001,
            "count": 0
           },
           {
            "bin_start": 0.7000000000000001,
            "bin_end": 0.8,
            "count": 0
           },
           {
            "bin_start": 0.8,
            "bin_end": 0.9,
            "count": 0
           },
           {
            "bin_start": 0.9,
            "bin_end": 1,
            "count": 0
           }
          ]
         }
        },
        {
         "name": "valence_x",
         "dtype": "float64",
         "stats": {
          "unique_count": 0,
          "nan_count": 0,
          "min": null,
          "max": null,
          "histogram": [
           {
            "bin_start": 0,
            "bin_end": 0.1,
            "count": 0
           },
           {
            "bin_start": 0.1,
            "bin_end": 0.2,
            "count": 0
           },
           {
            "bin_start": 0.2,
            "bin_end": 0.30000000000000004,
            "count": 0
           },
           {
            "bin_start": 0.30000000000000004,
            "bin_end": 0.4,
            "count": 0
           },
           {
            "bin_start": 0.4,
            "bin_end": 0.5,
            "count": 0
           },
           {
            "bin_start": 0.5,
            "bin_end": 0.6000000000000001,
            "count": 0
           },
           {
            "bin_start": 0.6000000000000001,
            "bin_end": 0.7000000000000001,
            "count": 0
           },
           {
            "bin_start": 0.7000000000000001,
            "bin_end": 0.8,
            "count": 0
           },
           {
            "bin_start": 0.8,
            "bin_end": 0.9,
            "count": 0
           },
           {
            "bin_start": 0.9,
            "bin_end": 1,
            "count": 0
           }
          ]
         }
        },
        {
         "name": "tempo_x",
         "dtype": "float64",
         "stats": {
          "unique_count": 0,
          "nan_count": 0,
          "min": null,
          "max": null,
          "histogram": [
           {
            "bin_start": 0,
            "bin_end": 0.1,
            "count": 0
           },
           {
            "bin_start": 0.1,
            "bin_end": 0.2,
            "count": 0
           },
           {
            "bin_start": 0.2,
            "bin_end": 0.30000000000000004,
            "count": 0
           },
           {
            "bin_start": 0.30000000000000004,
            "bin_end": 0.4,
            "count": 0
           },
           {
            "bin_start": 0.4,
            "bin_end": 0.5,
            "count": 0
           },
           {
            "bin_start": 0.5,
            "bin_end": 0.6000000000000001,
            "count": 0
           },
           {
            "bin_start": 0.6000000000000001,
            "bin_end": 0.7000000000000001,
            "count": 0
           },
           {
            "bin_start": 0.7000000000000001,
            "bin_end": 0.8,
            "count": 0
           },
           {
            "bin_start": 0.8,
            "bin_end": 0.9,
            "count": 0
           },
           {
            "bin_start": 0.9,
            "bin_end": 1,
            "count": 0
           }
          ]
         }
        },
        {
         "name": "duration_ms_x",
         "dtype": "int64",
         "stats": {
          "unique_count": 0,
          "nan_count": 0,
          "min": null,
          "max": null,
          "histogram": [
           {
            "bin_start": 0,
            "bin_end": 0.1,
            "count": 0
           },
           {
            "bin_start": 0.1,
            "bin_end": 0.2,
            "count": 0
           },
           {
            "bin_start": 0.2,
            "bin_end": 0.30000000000000004,
            "count": 0
           },
           {
            "bin_start": 0.30000000000000004,
            "bin_end": 0.4,
            "count": 0
           },
           {
            "bin_start": 0.4,
            "bin_end": 0.5,
            "count": 0
           },
           {
            "bin_start": 0.5,
            "bin_end": 0.6000000000000001,
            "count": 0
           },
           {
            "bin_start": 0.6000000000000001,
            "bin_end": 0.7000000000000001,
            "count": 0
           },
           {
            "bin_start": 0.7000000000000001,
            "bin_end": 0.8,
            "count": 0
           },
           {
            "bin_start": 0.8,
            "bin_end": 0.9,
            "count": 0
           },
           {
            "bin_start": 0.9,
            "bin_end": 1,
            "count": 0
           }
          ]
         }
        },
        {
         "name": "time_signature_x",
         "dtype": "int64",
         "stats": {
          "unique_count": 0,
          "nan_count": 0,
          "min": null,
          "max": null,
          "histogram": [
           {
            "bin_start": 0,
            "bin_end": 0.1,
            "count": 0
           },
           {
            "bin_start": 0.1,
            "bin_end": 0.2,
            "count": 0
           },
           {
            "bin_start": 0.2,
            "bin_end": 0.30000000000000004,
            "count": 0
           },
           {
            "bin_start": 0.30000000000000004,
            "bin_end": 0.4,
            "count": 0
           },
           {
            "bin_start": 0.4,
            "bin_end": 0.5,
            "count": 0
           },
           {
            "bin_start": 0.5,
            "bin_end": 0.6000000000000001,
            "count": 0
           },
           {
            "bin_start": 0.6000000000000001,
            "bin_end": 0.7000000000000001,
            "count": 0
           },
           {
            "bin_start": 0.7000000000000001,
            "bin_end": 0.8,
            "count": 0
           },
           {
            "bin_start": 0.8,
            "bin_end": 0.9,
            "count": 0
           },
           {
            "bin_start": 0.9,
            "bin_end": 1,
            "count": 0
           }
          ]
         }
        },
        {
         "name": "chorus_hit_x",
         "dtype": "float64",
         "stats": {
          "unique_count": 0,
          "nan_count": 0,
          "min": null,
          "max": null,
          "histogram": [
           {
            "bin_start": 0,
            "bin_end": 0.1,
            "count": 0
           },
           {
            "bin_start": 0.1,
            "bin_end": 0.2,
            "count": 0
           },
           {
            "bin_start": 0.2,
            "bin_end": 0.30000000000000004,
            "count": 0
           },
           {
            "bin_start": 0.30000000000000004,
            "bin_end": 0.4,
            "count": 0
           },
           {
            "bin_start": 0.4,
            "bin_end": 0.5,
            "count": 0
           },
           {
            "bin_start": 0.5,
            "bin_end": 0.6000000000000001,
            "count": 0
           },
           {
            "bin_start": 0.6000000000000001,
            "bin_end": 0.7000000000000001,
            "count": 0
           },
           {
            "bin_start": 0.7000000000000001,
            "bin_end": 0.8,
            "count": 0
           },
           {
            "bin_start": 0.8,
            "bin_end": 0.9,
            "count": 0
           },
           {
            "bin_start": 0.9,
            "bin_end": 1,
            "count": 0
           }
          ]
         }
        },
        {
         "name": "sections_x",
         "dtype": "int64",
         "stats": {
          "unique_count": 0,
          "nan_count": 0,
          "min": null,
          "max": null,
          "histogram": [
           {
            "bin_start": 0,
            "bin_end": 0.1,
            "count": 0
           },
           {
            "bin_start": 0.1,
            "bin_end": 0.2,
            "count": 0
           },
           {
            "bin_start": 0.2,
            "bin_end": 0.30000000000000004,
            "count": 0
           },
           {
            "bin_start": 0.30000000000000004,
            "bin_end": 0.4,
            "count": 0
           },
           {
            "bin_start": 0.4,
            "bin_end": 0.5,
            "count": 0
           },
           {
            "bin_start": 0.5,
            "bin_end": 0.6000000000000001,
            "count": 0
           },
           {
            "bin_start": 0.6000000000000001,
            "bin_end": 0.7000000000000001,
            "count": 0
           },
           {
            "bin_start": 0.7000000000000001,
            "bin_end": 0.8,
            "count": 0
           },
           {
            "bin_start": 0.8,
            "bin_end": 0.9,
            "count": 0
           },
           {
            "bin_start": 0.9,
            "bin_end": 1,
            "count": 0
           }
          ]
         }
        },
        {
         "name": "target_x",
         "dtype": "int64",
         "stats": {
          "unique_count": 0,
          "nan_count": 0,
          "min": null,
          "max": null,
          "histogram": [
           {
            "bin_start": 0,
            "bin_end": 0.1,
            "count": 0
           },
           {
            "bin_start": 0.1,
            "bin_end": 0.2,
            "count": 0
           },
           {
            "bin_start": 0.2,
            "bin_end": 0.30000000000000004,
            "count": 0
           },
           {
            "bin_start": 0.30000000000000004,
            "bin_end": 0.4,
            "count": 0
           },
           {
            "bin_start": 0.4,
            "bin_end": 0.5,
            "count": 0
           },
           {
            "bin_start": 0.5,
            "bin_end": 0.6000000000000001,
            "count": 0
           },
           {
            "bin_start": 0.6000000000000001,
            "bin_end": 0.7000000000000001,
            "count": 0
           },
           {
            "bin_start": 0.7000000000000001,
            "bin_end": 0.8,
            "count": 0
           },
           {
            "bin_start": 0.8,
            "bin_end": 0.9,
            "count": 0
           },
           {
            "bin_start": 0.9,
            "bin_end": 1,
            "count": 0
           }
          ]
         }
        },
        {
         "name": "decade_x",
         "dtype": "int64",
         "stats": {
          "unique_count": 0,
          "nan_count": 0,
          "min": null,
          "max": null,
          "histogram": [
           {
            "bin_start": 0,
            "bin_end": 0.1,
            "count": 0
           },
           {
            "bin_start": 0.1,
            "bin_end": 0.2,
            "count": 0
           },
           {
            "bin_start": 0.2,
            "bin_end": 0.30000000000000004,
            "count": 0
           },
           {
            "bin_start": 0.30000000000000004,
            "bin_end": 0.4,
            "count": 0
           },
           {
            "bin_start": 0.4,
            "bin_end": 0.5,
            "count": 0
           },
           {
            "bin_start": 0.5,
            "bin_end": 0.6000000000000001,
            "count": 0
           },
           {
            "bin_start": 0.6000000000000001,
            "bin_end": 0.7000000000000001,
            "count": 0
           },
           {
            "bin_start": 0.7000000000000001,
            "bin_end": 0.8,
            "count": 0
           },
           {
            "bin_start": 0.8,
            "bin_end": 0.9,
            "count": 0
           },
           {
            "bin_start": 0.9,
            "bin_end": 1,
            "count": 0
           }
          ]
         }
        },
        {
         "name": "uri_y",
         "dtype": "object",
         "stats": {
          "unique_count": 0,
          "nan_count": 0,
          "categories": []
         }
        },
        {
         "name": "danceability_y",
         "dtype": "float64",
         "stats": {
          "unique_count": 0,
          "nan_count": 0,
          "min": null,
          "max": null,
          "histogram": [
           {
            "bin_start": 0,
            "bin_end": 0.1,
            "count": 0
           },
           {
            "bin_start": 0.1,
            "bin_end": 0.2,
            "count": 0
           },
           {
            "bin_start": 0.2,
            "bin_end": 0.30000000000000004,
            "count": 0
           },
           {
            "bin_start": 0.30000000000000004,
            "bin_end": 0.4,
            "count": 0
           },
           {
            "bin_start": 0.4,
            "bin_end": 0.5,
            "count": 0
           },
           {
            "bin_start": 0.5,
            "bin_end": 0.6000000000000001,
            "count": 0
           },
           {
            "bin_start": 0.6000000000000001,
            "bin_end": 0.7000000000000001,
            "count": 0
           },
           {
            "bin_start": 0.7000000000000001,
            "bin_end": 0.8,
            "count": 0
           },
           {
            "bin_start": 0.8,
            "bin_end": 0.9,
            "count": 0
           },
           {
            "bin_start": 0.9,
            "bin_end": 1,
            "count": 0
           }
          ]
         }
        },
        {
         "name": "energy_y",
         "dtype": "float64",
         "stats": {
          "unique_count": 0,
          "nan_count": 0,
          "min": null,
          "max": null,
          "histogram": [
           {
            "bin_start": 0,
            "bin_end": 0.1,
            "count": 0
           },
           {
            "bin_start": 0.1,
            "bin_end": 0.2,
            "count": 0
           },
           {
            "bin_start": 0.2,
            "bin_end": 0.30000000000000004,
            "count": 0
           },
           {
            "bin_start": 0.30000000000000004,
            "bin_end": 0.4,
            "count": 0
           },
           {
            "bin_start": 0.4,
            "bin_end": 0.5,
            "count": 0
           },
           {
            "bin_start": 0.5,
            "bin_end": 0.6000000000000001,
            "count": 0
           },
           {
            "bin_start": 0.6000000000000001,
            "bin_end": 0.7000000000000001,
            "count": 0
           },
           {
            "bin_start": 0.7000000000000001,
            "bin_end": 0.8,
            "count": 0
           },
           {
            "bin_start": 0.8,
            "bin_end": 0.9,
            "count": 0
           },
           {
            "bin_start": 0.9,
            "bin_end": 1,
            "count": 0
           }
          ]
         }
        },
        {
         "name": "key_y",
         "dtype": "int64",
         "stats": {
          "unique_count": 0,
          "nan_count": 0,
          "min": null,
          "max": null,
          "histogram": [
           {
            "bin_start": 0,
            "bin_end": 0.1,
            "count": 0
           },
           {
            "bin_start": 0.1,
            "bin_end": 0.2,
            "count": 0
           },
           {
            "bin_start": 0.2,
            "bin_end": 0.30000000000000004,
            "count": 0
           },
           {
            "bin_start": 0.30000000000000004,
            "bin_end": 0.4,
            "count": 0
           },
           {
            "bin_start": 0.4,
            "bin_end": 0.5,
            "count": 0
           },
           {
            "bin_start": 0.5,
            "bin_end": 0.6000000000000001,
            "count": 0
           },
           {
            "bin_start": 0.6000000000000001,
            "bin_end": 0.7000000000000001,
            "count": 0
           },
           {
            "bin_start": 0.7000000000000001,
            "bin_end": 0.8,
            "count": 0
           },
           {
            "bin_start": 0.8,
            "bin_end": 0.9,
            "count": 0
           },
           {
            "bin_start": 0.9,
            "bin_end": 1,
            "count": 0
           }
          ]
         }
        },
        {
         "name": "loudness_y",
         "dtype": "float64",
         "stats": {
          "unique_count": 0,
          "nan_count": 0,
          "min": null,
          "max": null,
          "histogram": [
           {
            "bin_start": 0,
            "bin_end": 0.1,
            "count": 0
           },
           {
            "bin_start": 0.1,
            "bin_end": 0.2,
            "count": 0
           },
           {
            "bin_start": 0.2,
            "bin_end": 0.30000000000000004,
            "count": 0
           },
           {
            "bin_start": 0.30000000000000004,
            "bin_end": 0.4,
            "count": 0
           },
           {
            "bin_start": 0.4,
            "bin_end": 0.5,
            "count": 0
           },
           {
            "bin_start": 0.5,
            "bin_end": 0.6000000000000001,
            "count": 0
           },
           {
            "bin_start": 0.6000000000000001,
            "bin_end": 0.7000000000000001,
            "count": 0
           },
           {
            "bin_start": 0.7000000000000001,
            "bin_end": 0.8,
            "count": 0
           },
           {
            "bin_start": 0.8,
            "bin_end": 0.9,
            "count": 0
           },
           {
            "bin_start": 0.9,
            "bin_end": 1,
            "count": 0
           }
          ]
         }
        },
        {
         "name": "mode_y",
         "dtype": "int64",
         "stats": {
          "unique_count": 0,
          "nan_count": 0,
          "min": null,
          "max": null,
          "histogram": [
           {
            "bin_start": 0,
            "bin_end": 0.1,
            "count": 0
           },
           {
            "bin_start": 0.1,
            "bin_end": 0.2,
            "count": 0
           },
           {
            "bin_start": 0.2,
            "bin_end": 0.30000000000000004,
            "count": 0
           },
           {
            "bin_start": 0.30000000000000004,
            "bin_end": 0.4,
            "count": 0
           },
           {
            "bin_start": 0.4,
            "bin_end": 0.5,
            "count": 0
           },
           {
            "bin_start": 0.5,
            "bin_end": 0.6000000000000001,
            "count": 0
           },
           {
            "bin_start": 0.6000000000000001,
            "bin_end": 0.7000000000000001,
            "count": 0
           },
           {
            "bin_start": 0.7000000000000001,
            "bin_end": 0.8,
            "count": 0
           },
           {
            "bin_start": 0.8,
            "bin_end": 0.9,
            "count": 0
           },
           {
            "bin_start": 0.9,
            "bin_end": 1,
            "count": 0
           }
          ]
         }
        },
        {
         "name": "speechiness_y",
         "dtype": "float64",
         "stats": {
          "unique_count": 0,
          "nan_count": 0,
          "min": null,
          "max": null,
          "histogram": [
           {
            "bin_start": 0,
            "bin_end": 0.1,
            "count": 0
           },
           {
            "bin_start": 0.1,
            "bin_end": 0.2,
            "count": 0
           },
           {
            "bin_start": 0.2,
            "bin_end": 0.30000000000000004,
            "count": 0
           },
           {
            "bin_start": 0.30000000000000004,
            "bin_end": 0.4,
            "count": 0
           },
           {
            "bin_start": 0.4,
            "bin_end": 0.5,
            "count": 0
           },
           {
            "bin_start": 0.5,
            "bin_end": 0.6000000000000001,
            "count": 0
           },
           {
            "bin_start": 0.6000000000000001,
            "bin_end": 0.7000000000000001,
            "count": 0
           },
           {
            "bin_start": 0.7000000000000001,
            "bin_end": 0.8,
            "count": 0
           },
           {
            "bin_start": 0.8,
            "bin_end": 0.9,
            "count": 0
           },
           {
            "bin_start": 0.9,
            "bin_end": 1,
            "count": 0
           }
          ]
         }
        },
        {
         "name": "acousticness_y",
         "dtype": "float64",
         "stats": {
          "unique_count": 0,
          "nan_count": 0,
          "min": null,
          "max": null,
          "histogram": [
           {
            "bin_start": 0,
            "bin_end": 0.1,
            "count": 0
           },
           {
            "bin_start": 0.1,
            "bin_end": 0.2,
            "count": 0
           },
           {
            "bin_start": 0.2,
            "bin_end": 0.30000000000000004,
            "count": 0
           },
           {
            "bin_start": 0.30000000000000004,
            "bin_end": 0.4,
            "count": 0
           },
           {
            "bin_start": 0.4,
            "bin_end": 0.5,
            "count": 0
           },
           {
            "bin_start": 0.5,
            "bin_end": 0.6000000000000001,
            "count": 0
           },
           {
            "bin_start": 0.6000000000000001,
            "bin_end": 0.7000000000000001,
            "count": 0
           },
           {
            "bin_start": 0.7000000000000001,
            "bin_end": 0.8,
            "count": 0
           },
           {
            "bin_start": 0.8,
            "bin_end": 0.9,
            "count": 0
           },
           {
            "bin_start": 0.9,
            "bin_end": 1,
            "count": 0
           }
          ]
         }
        },
        {
         "name": "instrumentalness_y",
         "dtype": "float64",
         "stats": {
          "unique_count": 0,
          "nan_count": 0,
          "min": null,
          "max": null,
          "histogram": [
           {
            "bin_start": 0,
            "bin_end": 0.1,
            "count": 0
           },
           {
            "bin_start": 0.1,
            "bin_end": 0.2,
            "count": 0
           },
           {
            "bin_start": 0.2,
            "bin_end": 0.30000000000000004,
            "count": 0
           },
           {
            "bin_start": 0.30000000000000004,
            "bin_end": 0.4,
            "count": 0
           },
           {
            "bin_start": 0.4,
            "bin_end": 0.5,
            "count": 0
           },
           {
            "bin_start": 0.5,
            "bin_end": 0.6000000000000001,
            "count": 0
           },
           {
            "bin_start": 0.6000000000000001,
            "bin_end": 0.7000000000000001,
            "count": 0
           },
           {
            "bin_start": 0.7000000000000001,
            "bin_end": 0.8,
            "count": 0
           },
           {
            "bin_start": 0.8,
            "bin_end": 0.9,
            "count": 0
           },
           {
            "bin_start": 0.9,
            "bin_end": 1,
            "count": 0
           }
          ]
         }
        },
        {
         "name": "liveness_y",
         "dtype": "float64",
         "stats": {
          "unique_count": 0,
          "nan_count": 0,
          "min": null,
          "max": null,
          "histogram": [
           {
            "bin_start": 0,
            "bin_end": 0.1,
            "count": 0
           },
           {
            "bin_start": 0.1,
            "bin_end": 0.2,
            "count": 0
           },
           {
            "bin_start": 0.2,
            "bin_end": 0.30000000000000004,
            "count": 0
           },
           {
            "bin_start": 0.30000000000000004,
            "bin_end": 0.4,
            "count": 0
           },
           {
            "bin_start": 0.4,
            "bin_end": 0.5,
            "count": 0
           },
           {
            "bin_start": 0.5,
            "bin_end": 0.6000000000000001,
            "count": 0
           },
           {
            "bin_start": 0.6000000000000001,
            "bin_end": 0.7000000000000001,
            "count": 0
           },
           {
            "bin_start": 0.7000000000000001,
            "bin_end": 0.8,
            "count": 0
           },
           {
            "bin_start": 0.8,
            "bin_end": 0.9,
            "count": 0
           },
           {
            "bin_start": 0.9,
            "bin_end": 1,
            "count": 0
           }
          ]
         }
        },
        {
         "name": "valence_y",
         "dtype": "float64",
         "stats": {
          "unique_count": 0,
          "nan_count": 0,
          "min": null,
          "max": null,
          "histogram": [
           {
            "bin_start": 0,
            "bin_end": 0.1,
            "count": 0
           },
           {
            "bin_start": 0.1,
            "bin_end": 0.2,
            "count": 0
           },
           {
            "bin_start": 0.2,
            "bin_end": 0.30000000000000004,
            "count": 0
           },
           {
            "bin_start": 0.30000000000000004,
            "bin_end": 0.4,
            "count": 0
           },
           {
            "bin_start": 0.4,
            "bin_end": 0.5,
            "count": 0
           },
           {
            "bin_start": 0.5,
            "bin_end": 0.6000000000000001,
            "count": 0
           },
           {
            "bin_start": 0.6000000000000001,
            "bin_end": 0.7000000000000001,
            "count": 0
           },
           {
            "bin_start": 0.7000000000000001,
            "bin_end": 0.8,
            "count": 0
           },
           {
            "bin_start": 0.8,
            "bin_end": 0.9,
            "count": 0
           },
           {
            "bin_start": 0.9,
            "bin_end": 1,
            "count": 0
           }
          ]
         }
        },
        {
         "name": "tempo_y",
         "dtype": "float64",
         "stats": {
          "unique_count": 0,
          "nan_count": 0,
          "min": null,
          "max": null,
          "histogram": [
           {
            "bin_start": 0,
            "bin_end": 0.1,
            "count": 0
           },
           {
            "bin_start": 0.1,
            "bin_end": 0.2,
            "count": 0
           },
           {
            "bin_start": 0.2,
            "bin_end": 0.30000000000000004,
            "count": 0
           },
           {
            "bin_start": 0.30000000000000004,
            "bin_end": 0.4,
            "count": 0
           },
           {
            "bin_start": 0.4,
            "bin_end": 0.5,
            "count": 0
           },
           {
            "bin_start": 0.5,
            "bin_end": 0.6000000000000001,
            "count": 0
           },
           {
            "bin_start": 0.6000000000000001,
            "bin_end": 0.7000000000000001,
            "count": 0
           },
           {
            "bin_start": 0.7000000000000001,
            "bin_end": 0.8,
            "count": 0
           },
           {
            "bin_start": 0.8,
            "bin_end": 0.9,
            "count": 0
           },
           {
            "bin_start": 0.9,
            "bin_end": 1,
            "count": 0
           }
          ]
         }
        },
        {
         "name": "duration_ms_y",
         "dtype": "int64",
         "stats": {
          "unique_count": 0,
          "nan_count": 0,
          "min": null,
          "max": null,
          "histogram": [
           {
            "bin_start": 0,
            "bin_end": 0.1,
            "count": 0
           },
           {
            "bin_start": 0.1,
            "bin_end": 0.2,
            "count": 0
           },
           {
            "bin_start": 0.2,
            "bin_end": 0.30000000000000004,
            "count": 0
           },
           {
            "bin_start": 0.30000000000000004,
            "bin_end": 0.4,
            "count": 0
           },
           {
            "bin_start": 0.4,
            "bin_end": 0.5,
            "count": 0
           },
           {
            "bin_start": 0.5,
            "bin_end": 0.6000000000000001,
            "count": 0
           },
           {
            "bin_start": 0.6000000000000001,
            "bin_end": 0.7000000000000001,
            "count": 0
           },
           {
            "bin_start": 0.7000000000000001,
            "bin_end": 0.8,
            "count": 0
           },
           {
            "bin_start": 0.8,
            "bin_end": 0.9,
            "count": 0
           },
           {
            "bin_start": 0.9,
            "bin_end": 1,
            "count": 0
           }
          ]
         }
        },
        {
         "name": "time_signature_y",
         "dtype": "int64",
         "stats": {
          "unique_count": 0,
          "nan_count": 0,
          "min": null,
          "max": null,
          "histogram": [
           {
            "bin_start": 0,
            "bin_end": 0.1,
            "count": 0
           },
           {
            "bin_start": 0.1,
            "bin_end": 0.2,
            "count": 0
           },
           {
            "bin_start": 0.2,
            "bin_end": 0.30000000000000004,
            "count": 0
           },
           {
            "bin_start": 0.30000000000000004,
            "bin_end": 0.4,
            "count": 0
           },
           {
            "bin_start": 0.4,
            "bin_end": 0.5,
            "count": 0
           },
           {
            "bin_start": 0.5,
            "bin_end": 0.6000000000000001,
            "count": 0
           },
           {
            "bin_start": 0.6000000000000001,
            "bin_end": 0.7000000000000001,
            "count": 0
           },
           {
            "bin_start": 0.7000000000000001,
            "bin_end": 0.8,
            "count": 0
           },
           {
            "bin_start": 0.8,
            "bin_end": 0.9,
            "count": 0
           },
           {
            "bin_start": 0.9,
            "bin_end": 1,
            "count": 0
           }
          ]
         }
        },
        {
         "name": "chorus_hit_y",
         "dtype": "float64",
         "stats": {
          "unique_count": 0,
          "nan_count": 0,
          "min": null,
          "max": null,
          "histogram": [
           {
            "bin_start": 0,
            "bin_end": 0.1,
            "count": 0
           },
           {
            "bin_start": 0.1,
            "bin_end": 0.2,
            "count": 0
           },
           {
            "bin_start": 0.2,
            "bin_end": 0.30000000000000004,
            "count": 0
           },
           {
            "bin_start": 0.30000000000000004,
            "bin_end": 0.4,
            "count": 0
           },
           {
            "bin_start": 0.4,
            "bin_end": 0.5,
            "count": 0
           },
           {
            "bin_start": 0.5,
            "bin_end": 0.6000000000000001,
            "count": 0
           },
           {
            "bin_start": 0.6000000000000001,
            "bin_end": 0.7000000000000001,
            "count": 0
           },
           {
            "bin_start": 0.7000000000000001,
            "bin_end": 0.8,
            "count": 0
           },
           {
            "bin_start": 0.8,
            "bin_end": 0.9,
            "count": 0
           },
           {
            "bin_start": 0.9,
            "bin_end": 1,
            "count": 0
           }
          ]
         }
        },
        {
         "name": "sections_y",
         "dtype": "int64",
         "stats": {
          "unique_count": 0,
          "nan_count": 0,
          "min": null,
          "max": null,
          "histogram": [
           {
            "bin_start": 0,
            "bin_end": 0.1,
            "count": 0
           },
           {
            "bin_start": 0.1,
            "bin_end": 0.2,
            "count": 0
           },
           {
            "bin_start": 0.2,
            "bin_end": 0.30000000000000004,
            "count": 0
           },
           {
            "bin_start": 0.30000000000000004,
            "bin_end": 0.4,
            "count": 0
           },
           {
            "bin_start": 0.4,
            "bin_end": 0.5,
            "count": 0
           },
           {
            "bin_start": 0.5,
            "bin_end": 0.6000000000000001,
            "count": 0
           },
           {
            "bin_start": 0.6000000000000001,
            "bin_end": 0.7000000000000001,
            "count": 0
           },
           {
            "bin_start": 0.7000000000000001,
            "bin_end": 0.8,
            "count": 0
           },
           {
            "bin_start": 0.8,
            "bin_end": 0.9,
            "count": 0
           },
           {
            "bin_start": 0.9,
            "bin_end": 1,
            "count": 0
           }
          ]
         }
        },
        {
         "name": "target_y",
         "dtype": "int64",
         "stats": {
          "unique_count": 0,
          "nan_count": 0,
          "min": null,
          "max": null,
          "histogram": [
           {
            "bin_start": 0,
            "bin_end": 0.1,
            "count": 0
           },
           {
            "bin_start": 0.1,
            "bin_end": 0.2,
            "count": 0
           },
           {
            "bin_start": 0.2,
            "bin_end": 0.30000000000000004,
            "count": 0
           },
           {
            "bin_start": 0.30000000000000004,
            "bin_end": 0.4,
            "count": 0
           },
           {
            "bin_start": 0.4,
            "bin_end": 0.5,
            "count": 0
           },
           {
            "bin_start": 0.5,
            "bin_end": 0.6000000000000001,
            "count": 0
           },
           {
            "bin_start": 0.6000000000000001,
            "bin_end": 0.7000000000000001,
            "count": 0
           },
           {
            "bin_start": 0.7000000000000001,
            "bin_end": 0.8,
            "count": 0
           },
           {
            "bin_start": 0.8,
            "bin_end": 0.9,
            "count": 0
           },
           {
            "bin_start": 0.9,
            "bin_end": 1,
            "count": 0
           }
          ]
         }
        },
        {
         "name": "decade_y",
         "dtype": "int64",
         "stats": {
          "unique_count": 0,
          "nan_count": 0,
          "min": null,
          "max": null,
          "histogram": [
           {
            "bin_start": 0,
            "bin_end": 0.1,
            "count": 0
           },
           {
            "bin_start": 0.1,
            "bin_end": 0.2,
            "count": 0
           },
           {
            "bin_start": 0.2,
            "bin_end": 0.30000000000000004,
            "count": 0
           },
           {
            "bin_start": 0.30000000000000004,
            "bin_end": 0.4,
            "count": 0
           },
           {
            "bin_start": 0.4,
            "bin_end": 0.5,
            "count": 0
           },
           {
            "bin_start": 0.5,
            "bin_end": 0.6000000000000001,
            "count": 0
           },
           {
            "bin_start": 0.6000000000000001,
            "bin_end": 0.7000000000000001,
            "count": 0
           },
           {
            "bin_start": 0.7000000000000001,
            "bin_end": 0.8,
            "count": 0
           },
           {
            "bin_start": 0.8,
            "bin_end": 0.9,
            "count": 0
           },
           {
            "bin_start": 0.9,
            "bin_end": 1,
            "count": 0
           }
          ]
         }
        },
        {
         "name": "uri_x.1",
         "dtype": "object",
         "stats": {
          "unique_count": 0,
          "nan_count": 0,
          "categories": []
         }
        },
        {
         "name": "danceability_x.1",
         "dtype": "float64",
         "stats": {
          "unique_count": 0,
          "nan_count": 0,
          "min": null,
          "max": null,
          "histogram": [
           {
            "bin_start": 0,
            "bin_end": 0.1,
            "count": 0
           },
           {
            "bin_start": 0.1,
            "bin_end": 0.2,
            "count": 0
           },
           {
            "bin_start": 0.2,
            "bin_end": 0.30000000000000004,
            "count": 0
           },
           {
            "bin_start": 0.30000000000000004,
            "bin_end": 0.4,
            "count": 0
           },
           {
            "bin_start": 0.4,
            "bin_end": 0.5,
            "count": 0
           },
           {
            "bin_start": 0.5,
            "bin_end": 0.6000000000000001,
            "count": 0
           },
           {
            "bin_start": 0.6000000000000001,
            "bin_end": 0.7000000000000001,
            "count": 0
           },
           {
            "bin_start": 0.7000000000000001,
            "bin_end": 0.8,
            "count": 0
           },
           {
            "bin_start": 0.8,
            "bin_end": 0.9,
            "count": 0
           },
           {
            "bin_start": 0.9,
            "bin_end": 1,
            "count": 0
           }
          ]
         }
        },
        {
         "name": "energy_x.1",
         "dtype": "float64",
         "stats": {
          "unique_count": 0,
          "nan_count": 0,
          "min": null,
          "max": null,
          "histogram": [
           {
            "bin_start": 0,
            "bin_end": 0.1,
            "count": 0
           },
           {
            "bin_start": 0.1,
            "bin_end": 0.2,
            "count": 0
           },
           {
            "bin_start": 0.2,
            "bin_end": 0.30000000000000004,
            "count": 0
           },
           {
            "bin_start": 0.30000000000000004,
            "bin_end": 0.4,
            "count": 0
           },
           {
            "bin_start": 0.4,
            "bin_end": 0.5,
            "count": 0
           },
           {
            "bin_start": 0.5,
            "bin_end": 0.6000000000000001,
            "count": 0
           },
           {
            "bin_start": 0.6000000000000001,
            "bin_end": 0.7000000000000001,
            "count": 0
           },
           {
            "bin_start": 0.7000000000000001,
            "bin_end": 0.8,
            "count": 0
           },
           {
            "bin_start": 0.8,
            "bin_end": 0.9,
            "count": 0
           },
           {
            "bin_start": 0.9,
            "bin_end": 1,
            "count": 0
           }
          ]
         }
        },
        {
         "name": "key_x.1",
         "dtype": "int64",
         "stats": {
          "unique_count": 0,
          "nan_count": 0,
          "min": null,
          "max": null,
          "histogram": [
           {
            "bin_start": 0,
            "bin_end": 0.1,
            "count": 0
           },
           {
            "bin_start": 0.1,
            "bin_end": 0.2,
            "count": 0
           },
           {
            "bin_start": 0.2,
            "bin_end": 0.30000000000000004,
            "count": 0
           },
           {
            "bin_start": 0.30000000000000004,
            "bin_end": 0.4,
            "count": 0
           },
           {
            "bin_start": 0.4,
            "bin_end": 0.5,
            "count": 0
           },
           {
            "bin_start": 0.5,
            "bin_end": 0.6000000000000001,
            "count": 0
           },
           {
            "bin_start": 0.6000000000000001,
            "bin_end": 0.7000000000000001,
            "count": 0
           },
           {
            "bin_start": 0.7000000000000001,
            "bin_end": 0.8,
            "count": 0
           },
           {
            "bin_start": 0.8,
            "bin_end": 0.9,
            "count": 0
           },
           {
            "bin_start": 0.9,
            "bin_end": 1,
            "count": 0
           }
          ]
         }
        },
        {
         "name": "loudness_x.1",
         "dtype": "float64",
         "stats": {
          "unique_count": 0,
          "nan_count": 0,
          "min": null,
          "max": null,
          "histogram": [
           {
            "bin_start": 0,
            "bin_end": 0.1,
            "count": 0
           },
           {
            "bin_start": 0.1,
            "bin_end": 0.2,
            "count": 0
           },
           {
            "bin_start": 0.2,
            "bin_end": 0.30000000000000004,
            "count": 0
           },
           {
            "bin_start": 0.30000000000000004,
            "bin_end": 0.4,
            "count": 0
           },
           {
            "bin_start": 0.4,
            "bin_end": 0.5,
            "count": 0
           },
           {
            "bin_start": 0.5,
            "bin_end": 0.6000000000000001,
            "count": 0
           },
           {
            "bin_start": 0.6000000000000001,
            "bin_end": 0.7000000000000001,
            "count": 0
           },
           {
            "bin_start": 0.7000000000000001,
            "bin_end": 0.8,
            "count": 0
           },
           {
            "bin_start": 0.8,
            "bin_end": 0.9,
            "count": 0
           },
           {
            "bin_start": 0.9,
            "bin_end": 1,
            "count": 0
           }
          ]
         }
        },
        {
         "name": "mode_x.1",
         "dtype": "int64",
         "stats": {
          "unique_count": 0,
          "nan_count": 0,
          "min": null,
          "max": null,
          "histogram": [
           {
            "bin_start": 0,
            "bin_end": 0.1,
            "count": 0
           },
           {
            "bin_start": 0.1,
            "bin_end": 0.2,
            "count": 0
           },
           {
            "bin_start": 0.2,
            "bin_end": 0.30000000000000004,
            "count": 0
           },
           {
            "bin_start": 0.30000000000000004,
            "bin_end": 0.4,
            "count": 0
           },
           {
            "bin_start": 0.4,
            "bin_end": 0.5,
            "count": 0
           },
           {
            "bin_start": 0.5,
            "bin_end": 0.6000000000000001,
            "count": 0
           },
           {
            "bin_start": 0.6000000000000001,
            "bin_end": 0.7000000000000001,
            "count": 0
           },
           {
            "bin_start": 0.7000000000000001,
            "bin_end": 0.8,
            "count": 0
           },
           {
            "bin_start": 0.8,
            "bin_end": 0.9,
            "count": 0
           },
           {
            "bin_start": 0.9,
            "bin_end": 1,
            "count": 0
           }
          ]
         }
        },
        {
         "name": "speechiness_x.1",
         "dtype": "float64",
         "stats": {
          "unique_count": 0,
          "nan_count": 0,
          "min": null,
          "max": null,
          "histogram": [
           {
            "bin_start": 0,
            "bin_end": 0.1,
            "count": 0
           },
           {
            "bin_start": 0.1,
            "bin_end": 0.2,
            "count": 0
           },
           {
            "bin_start": 0.2,
            "bin_end": 0.30000000000000004,
            "count": 0
           },
           {
            "bin_start": 0.30000000000000004,
            "bin_end": 0.4,
            "count": 0
           },
           {
            "bin_start": 0.4,
            "bin_end": 0.5,
            "count": 0
           },
           {
            "bin_start": 0.5,
            "bin_end": 0.6000000000000001,
            "count": 0
           },
           {
            "bin_start": 0.6000000000000001,
            "bin_end": 0.7000000000000001,
            "count": 0
           },
           {
            "bin_start": 0.7000000000000001,
            "bin_end": 0.8,
            "count": 0
           },
           {
            "bin_start": 0.8,
            "bin_end": 0.9,
            "count": 0
           },
           {
            "bin_start": 0.9,
            "bin_end": 1,
            "count": 0
           }
          ]
         }
        },
        {
         "name": "acousticness_x.1",
         "dtype": "float64",
         "stats": {
          "unique_count": 0,
          "nan_count": 0,
          "min": null,
          "max": null,
          "histogram": [
           {
            "bin_start": 0,
            "bin_end": 0.1,
            "count": 0
           },
           {
            "bin_start": 0.1,
            "bin_end": 0.2,
            "count": 0
           },
           {
            "bin_start": 0.2,
            "bin_end": 0.30000000000000004,
            "count": 0
           },
           {
            "bin_start": 0.30000000000000004,
            "bin_end": 0.4,
            "count": 0
           },
           {
            "bin_start": 0.4,
            "bin_end": 0.5,
            "count": 0
           },
           {
            "bin_start": 0.5,
            "bin_end": 0.6000000000000001,
            "count": 0
           },
           {
            "bin_start": 0.6000000000000001,
            "bin_end": 0.7000000000000001,
            "count": 0
           },
           {
            "bin_start": 0.7000000000000001,
            "bin_end": 0.8,
            "count": 0
           },
           {
            "bin_start": 0.8,
            "bin_end": 0.9,
            "count": 0
           },
           {
            "bin_start": 0.9,
            "bin_end": 1,
            "count": 0
           }
          ]
         }
        },
        {
         "name": "instrumentalness_x.1",
         "dtype": "float64",
         "stats": {
          "unique_count": 0,
          "nan_count": 0,
          "min": null,
          "max": null,
          "histogram": [
           {
            "bin_start": 0,
            "bin_end": 0.1,
            "count": 0
           },
           {
            "bin_start": 0.1,
            "bin_end": 0.2,
            "count": 0
           },
           {
            "bin_start": 0.2,
            "bin_end": 0.30000000000000004,
            "count": 0
           },
           {
            "bin_start": 0.30000000000000004,
            "bin_end": 0.4,
            "count": 0
           },
           {
            "bin_start": 0.4,
            "bin_end": 0.5,
            "count": 0
           },
           {
            "bin_start": 0.5,
            "bin_end": 0.6000000000000001,
            "count": 0
           },
           {
            "bin_start": 0.6000000000000001,
            "bin_end": 0.7000000000000001,
            "count": 0
           },
           {
            "bin_start": 0.7000000000000001,
            "bin_end": 0.8,
            "count": 0
           },
           {
            "bin_start": 0.8,
            "bin_end": 0.9,
            "count": 0
           },
           {
            "bin_start": 0.9,
            "bin_end": 1,
            "count": 0
           }
          ]
         }
        },
        {
         "name": "liveness_x.1",
         "dtype": "float64",
         "stats": {
          "unique_count": 0,
          "nan_count": 0,
          "min": null,
          "max": null,
          "histogram": [
           {
            "bin_start": 0,
            "bin_end": 0.1,
            "count": 0
           },
           {
            "bin_start": 0.1,
            "bin_end": 0.2,
            "count": 0
           },
           {
            "bin_start": 0.2,
            "bin_end": 0.30000000000000004,
            "count": 0
           },
           {
            "bin_start": 0.30000000000000004,
            "bin_end": 0.4,
            "count": 0
           },
           {
            "bin_start": 0.4,
            "bin_end": 0.5,
            "count": 0
           },
           {
            "bin_start": 0.5,
            "bin_end": 0.6000000000000001,
            "count": 0
           },
           {
            "bin_start": 0.6000000000000001,
            "bin_end": 0.7000000000000001,
            "count": 0
           },
           {
            "bin_start": 0.7000000000000001,
            "bin_end": 0.8,
            "count": 0
           },
           {
            "bin_start": 0.8,
            "bin_end": 0.9,
            "count": 0
           },
           {
            "bin_start": 0.9,
            "bin_end": 1,
            "count": 0
           }
          ]
         }
        },
        {
         "name": "valence_x.1",
         "dtype": "float64",
         "stats": {
          "unique_count": 0,
          "nan_count": 0,
          "min": null,
          "max": null,
          "histogram": [
           {
            "bin_start": 0,
            "bin_end": 0.1,
            "count": 0
           },
           {
            "bin_start": 0.1,
            "bin_end": 0.2,
            "count": 0
           },
           {
            "bin_start": 0.2,
            "bin_end": 0.30000000000000004,
            "count": 0
           },
           {
            "bin_start": 0.30000000000000004,
            "bin_end": 0.4,
            "count": 0
           },
           {
            "bin_start": 0.4,
            "bin_end": 0.5,
            "count": 0
           },
           {
            "bin_start": 0.5,
            "bin_end": 0.6000000000000001,
            "count": 0
           },
           {
            "bin_start": 0.6000000000000001,
            "bin_end": 0.7000000000000001,
            "count": 0
           },
           {
            "bin_start": 0.7000000000000001,
            "bin_end": 0.8,
            "count": 0
           },
           {
            "bin_start": 0.8,
            "bin_end": 0.9,
            "count": 0
           },
           {
            "bin_start": 0.9,
            "bin_end": 1,
            "count": 0
           }
          ]
         }
        },
        {
         "name": "tempo_x.1",
         "dtype": "float64",
         "stats": {
          "unique_count": 0,
          "nan_count": 0,
          "min": null,
          "max": null,
          "histogram": [
           {
            "bin_start": 0,
            "bin_end": 0.1,
            "count": 0
           },
           {
            "bin_start": 0.1,
            "bin_end": 0.2,
            "count": 0
           },
           {
            "bin_start": 0.2,
            "bin_end": 0.30000000000000004,
            "count": 0
           },
           {
            "bin_start": 0.30000000000000004,
            "bin_end": 0.4,
            "count": 0
           },
           {
            "bin_start": 0.4,
            "bin_end": 0.5,
            "count": 0
           },
           {
            "bin_start": 0.5,
            "bin_end": 0.6000000000000001,
            "count": 0
           },
           {
            "bin_start": 0.6000000000000001,
            "bin_end": 0.7000000000000001,
            "count": 0
           },
           {
            "bin_start": 0.7000000000000001,
            "bin_end": 0.8,
            "count": 0
           },
           {
            "bin_start": 0.8,
            "bin_end": 0.9,
            "count": 0
           },
           {
            "bin_start": 0.9,
            "bin_end": 1,
            "count": 0
           }
          ]
         }
        },
        {
         "name": "duration_ms_x.1",
         "dtype": "int64",
         "stats": {
          "unique_count": 0,
          "nan_count": 0,
          "min": null,
          "max": null,
          "histogram": [
           {
            "bin_start": 0,
            "bin_end": 0.1,
            "count": 0
           },
           {
            "bin_start": 0.1,
            "bin_end": 0.2,
            "count": 0
           },
           {
            "bin_start": 0.2,
            "bin_end": 0.30000000000000004,
            "count": 0
           },
           {
            "bin_start": 0.30000000000000004,
            "bin_end": 0.4,
            "count": 0
           },
           {
            "bin_start": 0.4,
            "bin_end": 0.5,
            "count": 0
           },
           {
            "bin_start": 0.5,
            "bin_end": 0.6000000000000001,
            "count": 0
           },
           {
            "bin_start": 0.6000000000000001,
            "bin_end": 0.7000000000000001,
            "count": 0
           },
           {
            "bin_start": 0.7000000000000001,
            "bin_end": 0.8,
            "count": 0
           },
           {
            "bin_start": 0.8,
            "bin_end": 0.9,
            "count": 0
           },
           {
            "bin_start": 0.9,
            "bin_end": 1,
            "count": 0
           }
          ]
         }
        },
        {
         "name": "time_signature_x.1",
         "dtype": "int64",
         "stats": {
          "unique_count": 0,
          "nan_count": 0,
          "min": null,
          "max": null,
          "histogram": [
           {
            "bin_start": 0,
            "bin_end": 0.1,
            "count": 0
           },
           {
            "bin_start": 0.1,
            "bin_end": 0.2,
            "count": 0
           },
           {
            "bin_start": 0.2,
            "bin_end": 0.30000000000000004,
            "count": 0
           },
           {
            "bin_start": 0.30000000000000004,
            "bin_end": 0.4,
            "count": 0
           },
           {
            "bin_start": 0.4,
            "bin_end": 0.5,
            "count": 0
           },
           {
            "bin_start": 0.5,
            "bin_end": 0.6000000000000001,
            "count": 0
           },
           {
            "bin_start": 0.6000000000000001,
            "bin_end": 0.7000000000000001,
            "count": 0
           },
           {
            "bin_start": 0.7000000000000001,
            "bin_end": 0.8,
            "count": 0
           },
           {
            "bin_start": 0.8,
            "bin_end": 0.9,
            "count": 0
           },
           {
            "bin_start": 0.9,
            "bin_end": 1,
            "count": 0
           }
          ]
         }
        },
        {
         "name": "chorus_hit_x.1",
         "dtype": "float64",
         "stats": {
          "unique_count": 0,
          "nan_count": 0,
          "min": null,
          "max": null,
          "histogram": [
           {
            "bin_start": 0,
            "bin_end": 0.1,
            "count": 0
           },
           {
            "bin_start": 0.1,
            "bin_end": 0.2,
            "count": 0
           },
           {
            "bin_start": 0.2,
            "bin_end": 0.30000000000000004,
            "count": 0
           },
           {
            "bin_start": 0.30000000000000004,
            "bin_end": 0.4,
            "count": 0
           },
           {
            "bin_start": 0.4,
            "bin_end": 0.5,
            "count": 0
           },
           {
            "bin_start": 0.5,
            "bin_end": 0.6000000000000001,
            "count": 0
           },
           {
            "bin_start": 0.6000000000000001,
            "bin_end": 0.7000000000000001,
            "count": 0
           },
           {
            "bin_start": 0.7000000000000001,
            "bin_end": 0.8,
            "count": 0
           },
           {
            "bin_start": 0.8,
            "bin_end": 0.9,
            "count": 0
           },
           {
            "bin_start": 0.9,
            "bin_end": 1,
            "count": 0
           }
          ]
         }
        },
        {
         "name": "sections_x.1",
         "dtype": "int64",
         "stats": {
          "unique_count": 0,
          "nan_count": 0,
          "min": null,
          "max": null,
          "histogram": [
           {
            "bin_start": 0,
            "bin_end": 0.1,
            "count": 0
           },
           {
            "bin_start": 0.1,
            "bin_end": 0.2,
            "count": 0
           },
           {
            "bin_start": 0.2,
            "bin_end": 0.30000000000000004,
            "count": 0
           },
           {
            "bin_start": 0.30000000000000004,
            "bin_end": 0.4,
            "count": 0
           },
           {
            "bin_start": 0.4,
            "bin_end": 0.5,
            "count": 0
           },
           {
            "bin_start": 0.5,
            "bin_end": 0.6000000000000001,
            "count": 0
           },
           {
            "bin_start": 0.6000000000000001,
            "bin_end": 0.7000000000000001,
            "count": 0
           },
           {
            "bin_start": 0.7000000000000001,
            "bin_end": 0.8,
            "count": 0
           },
           {
            "bin_start": 0.8,
            "bin_end": 0.9,
            "count": 0
           },
           {
            "bin_start": 0.9,
            "bin_end": 1,
            "count": 0
           }
          ]
         }
        },
        {
         "name": "target_x.1",
         "dtype": "int64",
         "stats": {
          "unique_count": 0,
          "nan_count": 0,
          "min": null,
          "max": null,
          "histogram": [
           {
            "bin_start": 0,
            "bin_end": 0.1,
            "count": 0
           },
           {
            "bin_start": 0.1,
            "bin_end": 0.2,
            "count": 0
           },
           {
            "bin_start": 0.2,
            "bin_end": 0.30000000000000004,
            "count": 0
           },
           {
            "bin_start": 0.30000000000000004,
            "bin_end": 0.4,
            "count": 0
           },
           {
            "bin_start": 0.4,
            "bin_end": 0.5,
            "count": 0
           },
           {
            "bin_start": 0.5,
            "bin_end": 0.6000000000000001,
            "count": 0
           },
           {
            "bin_start": 0.6000000000000001,
            "bin_end": 0.7000000000000001,
            "count": 0
           },
           {
            "bin_start": 0.7000000000000001,
            "bin_end": 0.8,
            "count": 0
           },
           {
            "bin_start": 0.8,
            "bin_end": 0.9,
            "count": 0
           },
           {
            "bin_start": 0.9,
            "bin_end": 1,
            "count": 0
           }
          ]
         }
        },
        {
         "name": "decade_x.1",
         "dtype": "int64",
         "stats": {
          "unique_count": 0,
          "nan_count": 0,
          "min": null,
          "max": null,
          "histogram": [
           {
            "bin_start": 0,
            "bin_end": 0.1,
            "count": 0
           },
           {
            "bin_start": 0.1,
            "bin_end": 0.2,
            "count": 0
           },
           {
            "bin_start": 0.2,
            "bin_end": 0.30000000000000004,
            "count": 0
           },
           {
            "bin_start": 0.30000000000000004,
            "bin_end": 0.4,
            "count": 0
           },
           {
            "bin_start": 0.4,
            "bin_end": 0.5,
            "count": 0
           },
           {
            "bin_start": 0.5,
            "bin_end": 0.6000000000000001,
            "count": 0
           },
           {
            "bin_start": 0.6000000000000001,
            "bin_end": 0.7000000000000001,
            "count": 0
           },
           {
            "bin_start": 0.7000000000000001,
            "bin_end": 0.8,
            "count": 0
           },
           {
            "bin_start": 0.8,
            "bin_end": 0.9,
            "count": 0
           },
           {
            "bin_start": 0.9,
            "bin_end": 1,
            "count": 0
           }
          ]
         }
        },
        {
         "name": "uri_y.1",
         "dtype": "object",
         "stats": {
          "unique_count": 0,
          "nan_count": 0,
          "categories": []
         }
        },
        {
         "name": "danceability_y.1",
         "dtype": "float64",
         "stats": {
          "unique_count": 0,
          "nan_count": 0,
          "min": null,
          "max": null,
          "histogram": [
           {
            "bin_start": 0,
            "bin_end": 0.1,
            "count": 0
           },
           {
            "bin_start": 0.1,
            "bin_end": 0.2,
            "count": 0
           },
           {
            "bin_start": 0.2,
            "bin_end": 0.30000000000000004,
            "count": 0
           },
           {
            "bin_start": 0.30000000000000004,
            "bin_end": 0.4,
            "count": 0
           },
           {
            "bin_start": 0.4,
            "bin_end": 0.5,
            "count": 0
           },
           {
            "bin_start": 0.5,
            "bin_end": 0.6000000000000001,
            "count": 0
           },
           {
            "bin_start": 0.6000000000000001,
            "bin_end": 0.7000000000000001,
            "count": 0
           },
           {
            "bin_start": 0.7000000000000001,
            "bin_end": 0.8,
            "count": 0
           },
           {
            "bin_start": 0.8,
            "bin_end": 0.9,
            "count": 0
           },
           {
            "bin_start": 0.9,
            "bin_end": 1,
            "count": 0
           }
          ]
         }
        },
        {
         "name": "energy_y.1",
         "dtype": "float64",
         "stats": {
          "unique_count": 0,
          "nan_count": 0,
          "min": null,
          "max": null,
          "histogram": [
           {
            "bin_start": 0,
            "bin_end": 0.1,
            "count": 0
           },
           {
            "bin_start": 0.1,
            "bin_end": 0.2,
            "count": 0
           },
           {
            "bin_start": 0.2,
            "bin_end": 0.30000000000000004,
            "count": 0
           },
           {
            "bin_start": 0.30000000000000004,
            "bin_end": 0.4,
            "count": 0
           },
           {
            "bin_start": 0.4,
            "bin_end": 0.5,
            "count": 0
           },
           {
            "bin_start": 0.5,
            "bin_end": 0.6000000000000001,
            "count": 0
           },
           {
            "bin_start": 0.6000000000000001,
            "bin_end": 0.7000000000000001,
            "count": 0
           },
           {
            "bin_start": 0.7000000000000001,
            "bin_end": 0.8,
            "count": 0
           },
           {
            "bin_start": 0.8,
            "bin_end": 0.9,
            "count": 0
           },
           {
            "bin_start": 0.9,
            "bin_end": 1,
            "count": 0
           }
          ]
         }
        },
        {
         "name": "key_y.1",
         "dtype": "int64",
         "stats": {
          "unique_count": 0,
          "nan_count": 0,
          "min": null,
          "max": null,
          "histogram": [
           {
            "bin_start": 0,
            "bin_end": 0.1,
            "count": 0
           },
           {
            "bin_start": 0.1,
            "bin_end": 0.2,
            "count": 0
           },
           {
            "bin_start": 0.2,
            "bin_end": 0.30000000000000004,
            "count": 0
           },
           {
            "bin_start": 0.30000000000000004,
            "bin_end": 0.4,
            "count": 0
           },
           {
            "bin_start": 0.4,
            "bin_end": 0.5,
            "count": 0
           },
           {
            "bin_start": 0.5,
            "bin_end": 0.6000000000000001,
            "count": 0
           },
           {
            "bin_start": 0.6000000000000001,
            "bin_end": 0.7000000000000001,
            "count": 0
           },
           {
            "bin_start": 0.7000000000000001,
            "bin_end": 0.8,
            "count": 0
           },
           {
            "bin_start": 0.8,
            "bin_end": 0.9,
            "count": 0
           },
           {
            "bin_start": 0.9,
            "bin_end": 1,
            "count": 0
           }
          ]
         }
        },
        {
         "name": "loudness_y.1",
         "dtype": "float64",
         "stats": {
          "unique_count": 0,
          "nan_count": 0,
          "min": null,
          "max": null,
          "histogram": [
           {
            "bin_start": 0,
            "bin_end": 0.1,
            "count": 0
           },
           {
            "bin_start": 0.1,
            "bin_end": 0.2,
            "count": 0
           },
           {
            "bin_start": 0.2,
            "bin_end": 0.30000000000000004,
            "count": 0
           },
           {
            "bin_start": 0.30000000000000004,
            "bin_end": 0.4,
            "count": 0
           },
           {
            "bin_start": 0.4,
            "bin_end": 0.5,
            "count": 0
           },
           {
            "bin_start": 0.5,
            "bin_end": 0.6000000000000001,
            "count": 0
           },
           {
            "bin_start": 0.6000000000000001,
            "bin_end": 0.7000000000000001,
            "count": 0
           },
           {
            "bin_start": 0.7000000000000001,
            "bin_end": 0.8,
            "count": 0
           },
           {
            "bin_start": 0.8,
            "bin_end": 0.9,
            "count": 0
           },
           {
            "bin_start": 0.9,
            "bin_end": 1,
            "count": 0
           }
          ]
         }
        },
        {
         "name": "mode_y.1",
         "dtype": "int64",
         "stats": {
          "unique_count": 0,
          "nan_count": 0,
          "min": null,
          "max": null,
          "histogram": [
           {
            "bin_start": 0,
            "bin_end": 0.1,
            "count": 0
           },
           {
            "bin_start": 0.1,
            "bin_end": 0.2,
            "count": 0
           },
           {
            "bin_start": 0.2,
            "bin_end": 0.30000000000000004,
            "count": 0
           },
           {
            "bin_start": 0.30000000000000004,
            "bin_end": 0.4,
            "count": 0
           },
           {
            "bin_start": 0.4,
            "bin_end": 0.5,
            "count": 0
           },
           {
            "bin_start": 0.5,
            "bin_end": 0.6000000000000001,
            "count": 0
           },
           {
            "bin_start": 0.6000000000000001,
            "bin_end": 0.7000000000000001,
            "count": 0
           },
           {
            "bin_start": 0.7000000000000001,
            "bin_end": 0.8,
            "count": 0
           },
           {
            "bin_start": 0.8,
            "bin_end": 0.9,
            "count": 0
           },
           {
            "bin_start": 0.9,
            "bin_end": 1,
            "count": 0
           }
          ]
         }
        },
        {
         "name": "speechiness_y.1",
         "dtype": "float64",
         "stats": {
          "unique_count": 0,
          "nan_count": 0,
          "min": null,
          "max": null,
          "histogram": [
           {
            "bin_start": 0,
            "bin_end": 0.1,
            "count": 0
           },
           {
            "bin_start": 0.1,
            "bin_end": 0.2,
            "count": 0
           },
           {
            "bin_start": 0.2,
            "bin_end": 0.30000000000000004,
            "count": 0
           },
           {
            "bin_start": 0.30000000000000004,
            "bin_end": 0.4,
            "count": 0
           },
           {
            "bin_start": 0.4,
            "bin_end": 0.5,
            "count": 0
           },
           {
            "bin_start": 0.5,
            "bin_end": 0.6000000000000001,
            "count": 0
           },
           {
            "bin_start": 0.6000000000000001,
            "bin_end": 0.7000000000000001,
            "count": 0
           },
           {
            "bin_start": 0.7000000000000001,
            "bin_end": 0.8,
            "count": 0
           },
           {
            "bin_start": 0.8,
            "bin_end": 0.9,
            "count": 0
           },
           {
            "bin_start": 0.9,
            "bin_end": 1,
            "count": 0
           }
          ]
         }
        },
        {
         "name": "acousticness_y.1",
         "dtype": "float64",
         "stats": {
          "unique_count": 0,
          "nan_count": 0,
          "min": null,
          "max": null,
          "histogram": [
           {
            "bin_start": 0,
            "bin_end": 0.1,
            "count": 0
           },
           {
            "bin_start": 0.1,
            "bin_end": 0.2,
            "count": 0
           },
           {
            "bin_start": 0.2,
            "bin_end": 0.30000000000000004,
            "count": 0
           },
           {
            "bin_start": 0.30000000000000004,
            "bin_end": 0.4,
            "count": 0
           },
           {
            "bin_start": 0.4,
            "bin_end": 0.5,
            "count": 0
           },
           {
            "bin_start": 0.5,
            "bin_end": 0.6000000000000001,
            "count": 0
           },
           {
            "bin_start": 0.6000000000000001,
            "bin_end": 0.7000000000000001,
            "count": 0
           },
           {
            "bin_start": 0.7000000000000001,
            "bin_end": 0.8,
            "count": 0
           },
           {
            "bin_start": 0.8,
            "bin_end": 0.9,
            "count": 0
           },
           {
            "bin_start": 0.9,
            "bin_end": 1,
            "count": 0
           }
          ]
         }
        },
        {
         "name": "instrumentalness_y.1",
         "dtype": "float64",
         "stats": {
          "unique_count": 0,
          "nan_count": 0,
          "min": null,
          "max": null,
          "histogram": [
           {
            "bin_start": 0,
            "bin_end": 0.1,
            "count": 0
           },
           {
            "bin_start": 0.1,
            "bin_end": 0.2,
            "count": 0
           },
           {
            "bin_start": 0.2,
            "bin_end": 0.30000000000000004,
            "count": 0
           },
           {
            "bin_start": 0.30000000000000004,
            "bin_end": 0.4,
            "count": 0
           },
           {
            "bin_start": 0.4,
            "bin_end": 0.5,
            "count": 0
           },
           {
            "bin_start": 0.5,
            "bin_end": 0.6000000000000001,
            "count": 0
           },
           {
            "bin_start": 0.6000000000000001,
            "bin_end": 0.7000000000000001,
            "count": 0
           },
           {
            "bin_start": 0.7000000000000001,
            "bin_end": 0.8,
            "count": 0
           },
           {
            "bin_start": 0.8,
            "bin_end": 0.9,
            "count": 0
           },
           {
            "bin_start": 0.9,
            "bin_end": 1,
            "count": 0
           }
          ]
         }
        },
        {
         "name": "liveness_y.1",
         "dtype": "float64",
         "stats": {
          "unique_count": 0,
          "nan_count": 0,
          "min": null,
          "max": null,
          "histogram": [
           {
            "bin_start": 0,
            "bin_end": 0.1,
            "count": 0
           },
           {
            "bin_start": 0.1,
            "bin_end": 0.2,
            "count": 0
           },
           {
            "bin_start": 0.2,
            "bin_end": 0.30000000000000004,
            "count": 0
           },
           {
            "bin_start": 0.30000000000000004,
            "bin_end": 0.4,
            "count": 0
           },
           {
            "bin_start": 0.4,
            "bin_end": 0.5,
            "count": 0
           },
           {
            "bin_start": 0.5,
            "bin_end": 0.6000000000000001,
            "count": 0
           },
           {
            "bin_start": 0.6000000000000001,
            "bin_end": 0.7000000000000001,
            "count": 0
           },
           {
            "bin_start": 0.7000000000000001,
            "bin_end": 0.8,
            "count": 0
           },
           {
            "bin_start": 0.8,
            "bin_end": 0.9,
            "count": 0
           },
           {
            "bin_start": 0.9,
            "bin_end": 1,
            "count": 0
           }
          ]
         }
        },
        {
         "name": "valence_y.1",
         "dtype": "float64",
         "stats": {
          "unique_count": 0,
          "nan_count": 0,
          "min": null,
          "max": null,
          "histogram": [
           {
            "bin_start": 0,
            "bin_end": 0.1,
            "count": 0
           },
           {
            "bin_start": 0.1,
            "bin_end": 0.2,
            "count": 0
           },
           {
            "bin_start": 0.2,
            "bin_end": 0.30000000000000004,
            "count": 0
           },
           {
            "bin_start": 0.30000000000000004,
            "bin_end": 0.4,
            "count": 0
           },
           {
            "bin_start": 0.4,
            "bin_end": 0.5,
            "count": 0
           },
           {
            "bin_start": 0.5,
            "bin_end": 0.6000000000000001,
            "count": 0
           },
           {
            "bin_start": 0.6000000000000001,
            "bin_end": 0.7000000000000001,
            "count": 0
           },
           {
            "bin_start": 0.7000000000000001,
            "bin_end": 0.8,
            "count": 0
           },
           {
            "bin_start": 0.8,
            "bin_end": 0.9,
            "count": 0
           },
           {
            "bin_start": 0.9,
            "bin_end": 1,
            "count": 0
           }
          ]
         }
        },
        {
         "name": "tempo_y.1",
         "dtype": "float64",
         "stats": {
          "unique_count": 0,
          "nan_count": 0,
          "min": null,
          "max": null,
          "histogram": [
           {
            "bin_start": 0,
            "bin_end": 0.1,
            "count": 0
           },
           {
            "bin_start": 0.1,
            "bin_end": 0.2,
            "count": 0
           },
           {
            "bin_start": 0.2,
            "bin_end": 0.30000000000000004,
            "count": 0
           },
           {
            "bin_start": 0.30000000000000004,
            "bin_end": 0.4,
            "count": 0
           },
           {
            "bin_start": 0.4,
            "bin_end": 0.5,
            "count": 0
           },
           {
            "bin_start": 0.5,
            "bin_end": 0.6000000000000001,
            "count": 0
           },
           {
            "bin_start": 0.6000000000000001,
            "bin_end": 0.7000000000000001,
            "count": 0
           },
           {
            "bin_start": 0.7000000000000001,
            "bin_end": 0.8,
            "count": 0
           },
           {
            "bin_start": 0.8,
            "bin_end": 0.9,
            "count": 0
           },
           {
            "bin_start": 0.9,
            "bin_end": 1,
            "count": 0
           }
          ]
         }
        },
        {
         "name": "duration_ms_y.1",
         "dtype": "int64",
         "stats": {
          "unique_count": 0,
          "nan_count": 0,
          "min": null,
          "max": null,
          "histogram": [
           {
            "bin_start": 0,
            "bin_end": 0.1,
            "count": 0
           },
           {
            "bin_start": 0.1,
            "bin_end": 0.2,
            "count": 0
           },
           {
            "bin_start": 0.2,
            "bin_end": 0.30000000000000004,
            "count": 0
           },
           {
            "bin_start": 0.30000000000000004,
            "bin_end": 0.4,
            "count": 0
           },
           {
            "bin_start": 0.4,
            "bin_end": 0.5,
            "count": 0
           },
           {
            "bin_start": 0.5,
            "bin_end": 0.6000000000000001,
            "count": 0
           },
           {
            "bin_start": 0.6000000000000001,
            "bin_end": 0.7000000000000001,
            "count": 0
           },
           {
            "bin_start": 0.7000000000000001,
            "bin_end": 0.8,
            "count": 0
           },
           {
            "bin_start": 0.8,
            "bin_end": 0.9,
            "count": 0
           },
           {
            "bin_start": 0.9,
            "bin_end": 1,
            "count": 0
           }
          ]
         }
        },
        {
         "name": "time_signature_y.1",
         "dtype": "int64",
         "stats": {
          "unique_count": 0,
          "nan_count": 0,
          "min": null,
          "max": null,
          "histogram": [
           {
            "bin_start": 0,
            "bin_end": 0.1,
            "count": 0
           },
           {
            "bin_start": 0.1,
            "bin_end": 0.2,
            "count": 0
           },
           {
            "bin_start": 0.2,
            "bin_end": 0.30000000000000004,
            "count": 0
           },
           {
            "bin_start": 0.30000000000000004,
            "bin_end": 0.4,
            "count": 0
           },
           {
            "bin_start": 0.4,
            "bin_end": 0.5,
            "count": 0
           },
           {
            "bin_start": 0.5,
            "bin_end": 0.6000000000000001,
            "count": 0
           },
           {
            "bin_start": 0.6000000000000001,
            "bin_end": 0.7000000000000001,
            "count": 0
           },
           {
            "bin_start": 0.7000000000000001,
            "bin_end": 0.8,
            "count": 0
           },
           {
            "bin_start": 0.8,
            "bin_end": 0.9,
            "count": 0
           },
           {
            "bin_start": 0.9,
            "bin_end": 1,
            "count": 0
           }
          ]
         }
        },
        {
         "name": "chorus_hit_y.1",
         "dtype": "float64",
         "stats": {
          "unique_count": 0,
          "nan_count": 0,
          "min": null,
          "max": null,
          "histogram": [
           {
            "bin_start": 0,
            "bin_end": 0.1,
            "count": 0
           },
           {
            "bin_start": 0.1,
            "bin_end": 0.2,
            "count": 0
           },
           {
            "bin_start": 0.2,
            "bin_end": 0.30000000000000004,
            "count": 0
           },
           {
            "bin_start": 0.30000000000000004,
            "bin_end": 0.4,
            "count": 0
           },
           {
            "bin_start": 0.4,
            "bin_end": 0.5,
            "count": 0
           },
           {
            "bin_start": 0.5,
            "bin_end": 0.6000000000000001,
            "count": 0
           },
           {
            "bin_start": 0.6000000000000001,
            "bin_end": 0.7000000000000001,
            "count": 0
           },
           {
            "bin_start": 0.7000000000000001,
            "bin_end": 0.8,
            "count": 0
           },
           {
            "bin_start": 0.8,
            "bin_end": 0.9,
            "count": 0
           },
           {
            "bin_start": 0.9,
            "bin_end": 1,
            "count": 0
           }
          ]
         }
        },
        {
         "name": "sections_y.1",
         "dtype": "int64",
         "stats": {
          "unique_count": 0,
          "nan_count": 0,
          "min": null,
          "max": null,
          "histogram": [
           {
            "bin_start": 0,
            "bin_end": 0.1,
            "count": 0
           },
           {
            "bin_start": 0.1,
            "bin_end": 0.2,
            "count": 0
           },
           {
            "bin_start": 0.2,
            "bin_end": 0.30000000000000004,
            "count": 0
           },
           {
            "bin_start": 0.30000000000000004,
            "bin_end": 0.4,
            "count": 0
           },
           {
            "bin_start": 0.4,
            "bin_end": 0.5,
            "count": 0
           },
           {
            "bin_start": 0.5,
            "bin_end": 0.6000000000000001,
            "count": 0
           },
           {
            "bin_start": 0.6000000000000001,
            "bin_end": 0.7000000000000001,
            "count": 0
           },
           {
            "bin_start": 0.7000000000000001,
            "bin_end": 0.8,
            "count": 0
           },
           {
            "bin_start": 0.8,
            "bin_end": 0.9,
            "count": 0
           },
           {
            "bin_start": 0.9,
            "bin_end": 1,
            "count": 0
           }
          ]
         }
        },
        {
         "name": "target_y.1",
         "dtype": "int64",
         "stats": {
          "unique_count": 0,
          "nan_count": 0,
          "min": null,
          "max": null,
          "histogram": [
           {
            "bin_start": 0,
            "bin_end": 0.1,
            "count": 0
           },
           {
            "bin_start": 0.1,
            "bin_end": 0.2,
            "count": 0
           },
           {
            "bin_start": 0.2,
            "bin_end": 0.30000000000000004,
            "count": 0
           },
           {
            "bin_start": 0.30000000000000004,
            "bin_end": 0.4,
            "count": 0
           },
           {
            "bin_start": 0.4,
            "bin_end": 0.5,
            "count": 0
           },
           {
            "bin_start": 0.5,
            "bin_end": 0.6000000000000001,
            "count": 0
           },
           {
            "bin_start": 0.6000000000000001,
            "bin_end": 0.7000000000000001,
            "count": 0
           },
           {
            "bin_start": 0.7000000000000001,
            "bin_end": 0.8,
            "count": 0
           },
           {
            "bin_start": 0.8,
            "bin_end": 0.9,
            "count": 0
           },
           {
            "bin_start": 0.9,
            "bin_end": 1,
            "count": 0
           }
          ]
         }
        },
        {
         "name": "decade_y.1",
         "dtype": "int64",
         "stats": {
          "unique_count": 0,
          "nan_count": 0,
          "min": null,
          "max": null,
          "histogram": [
           {
            "bin_start": 0,
            "bin_end": 0.1,
            "count": 0
           },
           {
            "bin_start": 0.1,
            "bin_end": 0.2,
            "count": 0
           },
           {
            "bin_start": 0.2,
            "bin_end": 0.30000000000000004,
            "count": 0
           },
           {
            "bin_start": 0.30000000000000004,
            "bin_end": 0.4,
            "count": 0
           },
           {
            "bin_start": 0.4,
            "bin_end": 0.5,
            "count": 0
           },
           {
            "bin_start": 0.5,
            "bin_end": 0.6000000000000001,
            "count": 0
           },
           {
            "bin_start": 0.6000000000000001,
            "bin_end": 0.7000000000000001,
            "count": 0
           },
           {
            "bin_start": 0.7000000000000001,
            "bin_end": 0.8,
            "count": 0
           },
           {
            "bin_start": 0.8,
            "bin_end": 0.9,
            "count": 0
           },
           {
            "bin_start": 0.9,
            "bin_end": 1,
            "count": 0
           }
          ]
         }
        },
        {
         "name": "uri_x.2",
         "dtype": "object",
         "stats": {
          "unique_count": 0,
          "nan_count": 0,
          "categories": []
         }
        },
        {
         "name": "danceability_x.2",
         "dtype": "float64",
         "stats": {
          "unique_count": 0,
          "nan_count": 0,
          "min": null,
          "max": null,
          "histogram": [
           {
            "bin_start": 0,
            "bin_end": 0.1,
            "count": 0
           },
           {
            "bin_start": 0.1,
            "bin_end": 0.2,
            "count": 0
           },
           {
            "bin_start": 0.2,
            "bin_end": 0.30000000000000004,
            "count": 0
           },
           {
            "bin_start": 0.30000000000000004,
            "bin_end": 0.4,
            "count": 0
           },
           {
            "bin_start": 0.4,
            "bin_end": 0.5,
            "count": 0
           },
           {
            "bin_start": 0.5,
            "bin_end": 0.6000000000000001,
            "count": 0
           },
           {
            "bin_start": 0.6000000000000001,
            "bin_end": 0.7000000000000001,
            "count": 0
           },
           {
            "bin_start": 0.7000000000000001,
            "bin_end": 0.8,
            "count": 0
           },
           {
            "bin_start": 0.8,
            "bin_end": 0.9,
            "count": 0
           },
           {
            "bin_start": 0.9,
            "bin_end": 1,
            "count": 0
           }
          ]
         }
        },
        {
         "name": "energy_x.2",
         "dtype": "float64",
         "stats": {
          "unique_count": 0,
          "nan_count": 0,
          "min": null,
          "max": null,
          "histogram": [
           {
            "bin_start": 0,
            "bin_end": 0.1,
            "count": 0
           },
           {
            "bin_start": 0.1,
            "bin_end": 0.2,
            "count": 0
           },
           {
            "bin_start": 0.2,
            "bin_end": 0.30000000000000004,
            "count": 0
           },
           {
            "bin_start": 0.30000000000000004,
            "bin_end": 0.4,
            "count": 0
           },
           {
            "bin_start": 0.4,
            "bin_end": 0.5,
            "count": 0
           },
           {
            "bin_start": 0.5,
            "bin_end": 0.6000000000000001,
            "count": 0
           },
           {
            "bin_start": 0.6000000000000001,
            "bin_end": 0.7000000000000001,
            "count": 0
           },
           {
            "bin_start": 0.7000000000000001,
            "bin_end": 0.8,
            "count": 0
           },
           {
            "bin_start": 0.8,
            "bin_end": 0.9,
            "count": 0
           },
           {
            "bin_start": 0.9,
            "bin_end": 1,
            "count": 0
           }
          ]
         }
        },
        {
         "name": "key_x.2",
         "dtype": "int64",
         "stats": {
          "unique_count": 0,
          "nan_count": 0,
          "min": null,
          "max": null,
          "histogram": [
           {
            "bin_start": 0,
            "bin_end": 0.1,
            "count": 0
           },
           {
            "bin_start": 0.1,
            "bin_end": 0.2,
            "count": 0
           },
           {
            "bin_start": 0.2,
            "bin_end": 0.30000000000000004,
            "count": 0
           },
           {
            "bin_start": 0.30000000000000004,
            "bin_end": 0.4,
            "count": 0
           },
           {
            "bin_start": 0.4,
            "bin_end": 0.5,
            "count": 0
           },
           {
            "bin_start": 0.5,
            "bin_end": 0.6000000000000001,
            "count": 0
           },
           {
            "bin_start": 0.6000000000000001,
            "bin_end": 0.7000000000000001,
            "count": 0
           },
           {
            "bin_start": 0.7000000000000001,
            "bin_end": 0.8,
            "count": 0
           },
           {
            "bin_start": 0.8,
            "bin_end": 0.9,
            "count": 0
           },
           {
            "bin_start": 0.9,
            "bin_end": 1,
            "count": 0
           }
          ]
         }
        },
        {
         "name": "loudness_x.2",
         "dtype": "float64",
         "stats": {
          "unique_count": 0,
          "nan_count": 0,
          "min": null,
          "max": null,
          "histogram": [
           {
            "bin_start": 0,
            "bin_end": 0.1,
            "count": 0
           },
           {
            "bin_start": 0.1,
            "bin_end": 0.2,
            "count": 0
           },
           {
            "bin_start": 0.2,
            "bin_end": 0.30000000000000004,
            "count": 0
           },
           {
            "bin_start": 0.30000000000000004,
            "bin_end": 0.4,
            "count": 0
           },
           {
            "bin_start": 0.4,
            "bin_end": 0.5,
            "count": 0
           },
           {
            "bin_start": 0.5,
            "bin_end": 0.6000000000000001,
            "count": 0
           },
           {
            "bin_start": 0.6000000000000001,
            "bin_end": 0.7000000000000001,
            "count": 0
           },
           {
            "bin_start": 0.7000000000000001,
            "bin_end": 0.8,
            "count": 0
           },
           {
            "bin_start": 0.8,
            "bin_end": 0.9,
            "count": 0
           },
           {
            "bin_start": 0.9,
            "bin_end": 1,
            "count": 0
           }
          ]
         }
        },
        {
         "name": "mode_x.2",
         "dtype": "int64",
         "stats": {
          "unique_count": 0,
          "nan_count": 0,
          "min": null,
          "max": null,
          "histogram": [
           {
            "bin_start": 0,
            "bin_end": 0.1,
            "count": 0
           },
           {
            "bin_start": 0.1,
            "bin_end": 0.2,
            "count": 0
           },
           {
            "bin_start": 0.2,
            "bin_end": 0.30000000000000004,
            "count": 0
           },
           {
            "bin_start": 0.30000000000000004,
            "bin_end": 0.4,
            "count": 0
           },
           {
            "bin_start": 0.4,
            "bin_end": 0.5,
            "count": 0
           },
           {
            "bin_start": 0.5,
            "bin_end": 0.6000000000000001,
            "count": 0
           },
           {
            "bin_start": 0.6000000000000001,
            "bin_end": 0.7000000000000001,
            "count": 0
           },
           {
            "bin_start": 0.7000000000000001,
            "bin_end": 0.8,
            "count": 0
           },
           {
            "bin_start": 0.8,
            "bin_end": 0.9,
            "count": 0
           },
           {
            "bin_start": 0.9,
            "bin_end": 1,
            "count": 0
           }
          ]
         }
        },
        {
         "name": "speechiness_x.2",
         "dtype": "float64",
         "stats": {
          "unique_count": 0,
          "nan_count": 0,
          "min": null,
          "max": null,
          "histogram": [
           {
            "bin_start": 0,
            "bin_end": 0.1,
            "count": 0
           },
           {
            "bin_start": 0.1,
            "bin_end": 0.2,
            "count": 0
           },
           {
            "bin_start": 0.2,
            "bin_end": 0.30000000000000004,
            "count": 0
           },
           {
            "bin_start": 0.30000000000000004,
            "bin_end": 0.4,
            "count": 0
           },
           {
            "bin_start": 0.4,
            "bin_end": 0.5,
            "count": 0
           },
           {
            "bin_start": 0.5,
            "bin_end": 0.6000000000000001,
            "count": 0
           },
           {
            "bin_start": 0.6000000000000001,
            "bin_end": 0.7000000000000001,
            "count": 0
           },
           {
            "bin_start": 0.7000000000000001,
            "bin_end": 0.8,
            "count": 0
           },
           {
            "bin_start": 0.8,
            "bin_end": 0.9,
            "count": 0
           },
           {
            "bin_start": 0.9,
            "bin_end": 1,
            "count": 0
           }
          ]
         }
        },
        {
         "name": "acousticness_x.2",
         "dtype": "float64",
         "stats": {
          "unique_count": 0,
          "nan_count": 0,
          "min": null,
          "max": null,
          "histogram": [
           {
            "bin_start": 0,
            "bin_end": 0.1,
            "count": 0
           },
           {
            "bin_start": 0.1,
            "bin_end": 0.2,
            "count": 0
           },
           {
            "bin_start": 0.2,
            "bin_end": 0.30000000000000004,
            "count": 0
           },
           {
            "bin_start": 0.30000000000000004,
            "bin_end": 0.4,
            "count": 0
           },
           {
            "bin_start": 0.4,
            "bin_end": 0.5,
            "count": 0
           },
           {
            "bin_start": 0.5,
            "bin_end": 0.6000000000000001,
            "count": 0
           },
           {
            "bin_start": 0.6000000000000001,
            "bin_end": 0.7000000000000001,
            "count": 0
           },
           {
            "bin_start": 0.7000000000000001,
            "bin_end": 0.8,
            "count": 0
           },
           {
            "bin_start": 0.8,
            "bin_end": 0.9,
            "count": 0
           },
           {
            "bin_start": 0.9,
            "bin_end": 1,
            "count": 0
           }
          ]
         }
        },
        {
         "name": "instrumentalness_x.2",
         "dtype": "float64",
         "stats": {
          "unique_count": 0,
          "nan_count": 0,
          "min": null,
          "max": null,
          "histogram": [
           {
            "bin_start": 0,
            "bin_end": 0.1,
            "count": 0
           },
           {
            "bin_start": 0.1,
            "bin_end": 0.2,
            "count": 0
           },
           {
            "bin_start": 0.2,
            "bin_end": 0.30000000000000004,
            "count": 0
           },
           {
            "bin_start": 0.30000000000000004,
            "bin_end": 0.4,
            "count": 0
           },
           {
            "bin_start": 0.4,
            "bin_end": 0.5,
            "count": 0
           },
           {
            "bin_start": 0.5,
            "bin_end": 0.6000000000000001,
            "count": 0
           },
           {
            "bin_start": 0.6000000000000001,
            "bin_end": 0.7000000000000001,
            "count": 0
           },
           {
            "bin_start": 0.7000000000000001,
            "bin_end": 0.8,
            "count": 0
           },
           {
            "bin_start": 0.8,
            "bin_end": 0.9,
            "count": 0
           },
           {
            "bin_start": 0.9,
            "bin_end": 1,
            "count": 0
           }
          ]
         }
        },
        {
         "name": "liveness_x.2",
         "dtype": "float64",
         "stats": {
          "unique_count": 0,
          "nan_count": 0,
          "min": null,
          "max": null,
          "histogram": [
           {
            "bin_start": 0,
            "bin_end": 0.1,
            "count": 0
           },
           {
            "bin_start": 0.1,
            "bin_end": 0.2,
            "count": 0
           },
           {
            "bin_start": 0.2,
            "bin_end": 0.30000000000000004,
            "count": 0
           },
           {
            "bin_start": 0.30000000000000004,
            "bin_end": 0.4,
            "count": 0
           },
           {
            "bin_start": 0.4,
            "bin_end": 0.5,
            "count": 0
           },
           {
            "bin_start": 0.5,
            "bin_end": 0.6000000000000001,
            "count": 0
           },
           {
            "bin_start": 0.6000000000000001,
            "bin_end": 0.7000000000000001,
            "count": 0
           },
           {
            "bin_start": 0.7000000000000001,
            "bin_end": 0.8,
            "count": 0
           },
           {
            "bin_start": 0.8,
            "bin_end": 0.9,
            "count": 0
           },
           {
            "bin_start": 0.9,
            "bin_end": 1,
            "count": 0
           }
          ]
         }
        },
        {
         "name": "valence_x.2",
         "dtype": "float64",
         "stats": {
          "unique_count": 0,
          "nan_count": 0,
          "min": null,
          "max": null,
          "histogram": [
           {
            "bin_start": 0,
            "bin_end": 0.1,
            "count": 0
           },
           {
            "bin_start": 0.1,
            "bin_end": 0.2,
            "count": 0
           },
           {
            "bin_start": 0.2,
            "bin_end": 0.30000000000000004,
            "count": 0
           },
           {
            "bin_start": 0.30000000000000004,
            "bin_end": 0.4,
            "count": 0
           },
           {
            "bin_start": 0.4,
            "bin_end": 0.5,
            "count": 0
           },
           {
            "bin_start": 0.5,
            "bin_end": 0.6000000000000001,
            "count": 0
           },
           {
            "bin_start": 0.6000000000000001,
            "bin_end": 0.7000000000000001,
            "count": 0
           },
           {
            "bin_start": 0.7000000000000001,
            "bin_end": 0.8,
            "count": 0
           },
           {
            "bin_start": 0.8,
            "bin_end": 0.9,
            "count": 0
           },
           {
            "bin_start": 0.9,
            "bin_end": 1,
            "count": 0
           }
          ]
         }
        },
        {
         "name": "tempo_x.2",
         "dtype": "float64",
         "stats": {
          "unique_count": 0,
          "nan_count": 0,
          "min": null,
          "max": null,
          "histogram": [
           {
            "bin_start": 0,
            "bin_end": 0.1,
            "count": 0
           },
           {
            "bin_start": 0.1,
            "bin_end": 0.2,
            "count": 0
           },
           {
            "bin_start": 0.2,
            "bin_end": 0.30000000000000004,
            "count": 0
           },
           {
            "bin_start": 0.30000000000000004,
            "bin_end": 0.4,
            "count": 0
           },
           {
            "bin_start": 0.4,
            "bin_end": 0.5,
            "count": 0
           },
           {
            "bin_start": 0.5,
            "bin_end": 0.6000000000000001,
            "count": 0
           },
           {
            "bin_start": 0.6000000000000001,
            "bin_end": 0.7000000000000001,
            "count": 0
           },
           {
            "bin_start": 0.7000000000000001,
            "bin_end": 0.8,
            "count": 0
           },
           {
            "bin_start": 0.8,
            "bin_end": 0.9,
            "count": 0
           },
           {
            "bin_start": 0.9,
            "bin_end": 1,
            "count": 0
           }
          ]
         }
        },
        {
         "name": "duration_ms_x.2",
         "dtype": "int64",
         "stats": {
          "unique_count": 0,
          "nan_count": 0,
          "min": null,
          "max": null,
          "histogram": [
           {
            "bin_start": 0,
            "bin_end": 0.1,
            "count": 0
           },
           {
            "bin_start": 0.1,
            "bin_end": 0.2,
            "count": 0
           },
           {
            "bin_start": 0.2,
            "bin_end": 0.30000000000000004,
            "count": 0
           },
           {
            "bin_start": 0.30000000000000004,
            "bin_end": 0.4,
            "count": 0
           },
           {
            "bin_start": 0.4,
            "bin_end": 0.5,
            "count": 0
           },
           {
            "bin_start": 0.5,
            "bin_end": 0.6000000000000001,
            "count": 0
           },
           {
            "bin_start": 0.6000000000000001,
            "bin_end": 0.7000000000000001,
            "count": 0
           },
           {
            "bin_start": 0.7000000000000001,
            "bin_end": 0.8,
            "count": 0
           },
           {
            "bin_start": 0.8,
            "bin_end": 0.9,
            "count": 0
           },
           {
            "bin_start": 0.9,
            "bin_end": 1,
            "count": 0
           }
          ]
         }
        },
        {
         "name": "time_signature_x.2",
         "dtype": "int64",
         "stats": {
          "unique_count": 0,
          "nan_count": 0,
          "min": null,
          "max": null,
          "histogram": [
           {
            "bin_start": 0,
            "bin_end": 0.1,
            "count": 0
           },
           {
            "bin_start": 0.1,
            "bin_end": 0.2,
            "count": 0
           },
           {
            "bin_start": 0.2,
            "bin_end": 0.30000000000000004,
            "count": 0
           },
           {
            "bin_start": 0.30000000000000004,
            "bin_end": 0.4,
            "count": 0
           },
           {
            "bin_start": 0.4,
            "bin_end": 0.5,
            "count": 0
           },
           {
            "bin_start": 0.5,
            "bin_end": 0.6000000000000001,
            "count": 0
           },
           {
            "bin_start": 0.6000000000000001,
            "bin_end": 0.7000000000000001,
            "count": 0
           },
           {
            "bin_start": 0.7000000000000001,
            "bin_end": 0.8,
            "count": 0
           },
           {
            "bin_start": 0.8,
            "bin_end": 0.9,
            "count": 0
           },
           {
            "bin_start": 0.9,
            "bin_end": 1,
            "count": 0
           }
          ]
         }
        },
        {
         "name": "chorus_hit_x.2",
         "dtype": "float64",
         "stats": {
          "unique_count": 0,
          "nan_count": 0,
          "min": null,
          "max": null,
          "histogram": [
           {
            "bin_start": 0,
            "bin_end": 0.1,
            "count": 0
           },
           {
            "bin_start": 0.1,
            "bin_end": 0.2,
            "count": 0
           },
           {
            "bin_start": 0.2,
            "bin_end": 0.30000000000000004,
            "count": 0
           },
           {
            "bin_start": 0.30000000000000004,
            "bin_end": 0.4,
            "count": 0
           },
           {
            "bin_start": 0.4,
            "bin_end": 0.5,
            "count": 0
           },
           {
            "bin_start": 0.5,
            "bin_end": 0.6000000000000001,
            "count": 0
           },
           {
            "bin_start": 0.6000000000000001,
            "bin_end": 0.7000000000000001,
            "count": 0
           },
           {
            "bin_start": 0.7000000000000001,
            "bin_end": 0.8,
            "count": 0
           },
           {
            "bin_start": 0.8,
            "bin_end": 0.9,
            "count": 0
           },
           {
            "bin_start": 0.9,
            "bin_end": 1,
            "count": 0
           }
          ]
         }
        },
        {
         "name": "sections_x.2",
         "dtype": "int64",
         "stats": {
          "unique_count": 0,
          "nan_count": 0,
          "min": null,
          "max": null,
          "histogram": [
           {
            "bin_start": 0,
            "bin_end": 0.1,
            "count": 0
           },
           {
            "bin_start": 0.1,
            "bin_end": 0.2,
            "count": 0
           },
           {
            "bin_start": 0.2,
            "bin_end": 0.30000000000000004,
            "count": 0
           },
           {
            "bin_start": 0.30000000000000004,
            "bin_end": 0.4,
            "count": 0
           },
           {
            "bin_start": 0.4,
            "bin_end": 0.5,
            "count": 0
           },
           {
            "bin_start": 0.5,
            "bin_end": 0.6000000000000001,
            "count": 0
           },
           {
            "bin_start": 0.6000000000000001,
            "bin_end": 0.7000000000000001,
            "count": 0
           },
           {
            "bin_start": 0.7000000000000001,
            "bin_end": 0.8,
            "count": 0
           },
           {
            "bin_start": 0.8,
            "bin_end": 0.9,
            "count": 0
           },
           {
            "bin_start": 0.9,
            "bin_end": 1,
            "count": 0
           }
          ]
         }
        },
        {
         "name": "target_x.2",
         "dtype": "int64",
         "stats": {
          "unique_count": 0,
          "nan_count": 0,
          "min": null,
          "max": null,
          "histogram": [
           {
            "bin_start": 0,
            "bin_end": 0.1,
            "count": 0
           },
           {
            "bin_start": 0.1,
            "bin_end": 0.2,
            "count": 0
           },
           {
            "bin_start": 0.2,
            "bin_end": 0.30000000000000004,
            "count": 0
           },
           {
            "bin_start": 0.30000000000000004,
            "bin_end": 0.4,
            "count": 0
           },
           {
            "bin_start": 0.4,
            "bin_end": 0.5,
            "count": 0
           },
           {
            "bin_start": 0.5,
            "bin_end": 0.6000000000000001,
            "count": 0
           },
           {
            "bin_start": 0.6000000000000001,
            "bin_end": 0.7000000000000001,
            "count": 0
           },
           {
            "bin_start": 0.7000000000000001,
            "bin_end": 0.8,
            "count": 0
           },
           {
            "bin_start": 0.8,
            "bin_end": 0.9,
            "count": 0
           },
           {
            "bin_start": 0.9,
            "bin_end": 1,
            "count": 0
           }
          ]
         }
        },
        {
         "name": "decade_x.2",
         "dtype": "int64",
         "stats": {
          "unique_count": 0,
          "nan_count": 0,
          "min": null,
          "max": null,
          "histogram": [
           {
            "bin_start": 0,
            "bin_end": 0.1,
            "count": 0
           },
           {
            "bin_start": 0.1,
            "bin_end": 0.2,
            "count": 0
           },
           {
            "bin_start": 0.2,
            "bin_end": 0.30000000000000004,
            "count": 0
           },
           {
            "bin_start": 0.30000000000000004,
            "bin_end": 0.4,
            "count": 0
           },
           {
            "bin_start": 0.4,
            "bin_end": 0.5,
            "count": 0
           },
           {
            "bin_start": 0.5,
            "bin_end": 0.6000000000000001,
            "count": 0
           },
           {
            "bin_start": 0.6000000000000001,
            "bin_end": 0.7000000000000001,
            "count": 0
           },
           {
            "bin_start": 0.7000000000000001,
            "bin_end": 0.8,
            "count": 0
           },
           {
            "bin_start": 0.8,
            "bin_end": 0.9,
            "count": 0
           },
           {
            "bin_start": 0.9,
            "bin_end": 1,
            "count": 0
           }
          ]
         }
        },
        {
         "name": "track",
         "dtype": "object",
         "stats": {
          "unique_count": 0,
          "nan_count": 0,
          "categories": []
         }
        },
        {
         "name": "artist",
         "dtype": "object",
         "stats": {
          "unique_count": 0,
          "nan_count": 0,
          "categories": []
         }
        },
        {
         "name": "uri_y.2",
         "dtype": "object",
         "stats": {
          "unique_count": 0,
          "nan_count": 0,
          "categories": []
         }
        },
        {
         "name": "danceability_y.2",
         "dtype": "float64",
         "stats": {
          "unique_count": 0,
          "nan_count": 0,
          "min": null,
          "max": null,
          "histogram": [
           {
            "bin_start": 0,
            "bin_end": 0.1,
            "count": 0
           },
           {
            "bin_start": 0.1,
            "bin_end": 0.2,
            "count": 0
           },
           {
            "bin_start": 0.2,
            "bin_end": 0.30000000000000004,
            "count": 0
           },
           {
            "bin_start": 0.30000000000000004,
            "bin_end": 0.4,
            "count": 0
           },
           {
            "bin_start": 0.4,
            "bin_end": 0.5,
            "count": 0
           },
           {
            "bin_start": 0.5,
            "bin_end": 0.6000000000000001,
            "count": 0
           },
           {
            "bin_start": 0.6000000000000001,
            "bin_end": 0.7000000000000001,
            "count": 0
           },
           {
            "bin_start": 0.7000000000000001,
            "bin_end": 0.8,
            "count": 0
           },
           {
            "bin_start": 0.8,
            "bin_end": 0.9,
            "count": 0
           },
           {
            "bin_start": 0.9,
            "bin_end": 1,
            "count": 0
           }
          ]
         }
        },
        {
         "name": "energy_y.2",
         "dtype": "float64",
         "stats": {
          "unique_count": 0,
          "nan_count": 0,
          "min": null,
          "max": null,
          "histogram": [
           {
            "bin_start": 0,
            "bin_end": 0.1,
            "count": 0
           },
           {
            "bin_start": 0.1,
            "bin_end": 0.2,
            "count": 0
           },
           {
            "bin_start": 0.2,
            "bin_end": 0.30000000000000004,
            "count": 0
           },
           {
            "bin_start": 0.30000000000000004,
            "bin_end": 0.4,
            "count": 0
           },
           {
            "bin_start": 0.4,
            "bin_end": 0.5,
            "count": 0
           },
           {
            "bin_start": 0.5,
            "bin_end": 0.6000000000000001,
            "count": 0
           },
           {
            "bin_start": 0.6000000000000001,
            "bin_end": 0.7000000000000001,
            "count": 0
           },
           {
            "bin_start": 0.7000000000000001,
            "bin_end": 0.8,
            "count": 0
           },
           {
            "bin_start": 0.8,
            "bin_end": 0.9,
            "count": 0
           },
           {
            "bin_start": 0.9,
            "bin_end": 1,
            "count": 0
           }
          ]
         }
        },
        {
         "name": "key_y.2",
         "dtype": "int64",
         "stats": {
          "unique_count": 0,
          "nan_count": 0,
          "min": null,
          "max": null,
          "histogram": [
           {
            "bin_start": 0,
            "bin_end": 0.1,
            "count": 0
           },
           {
            "bin_start": 0.1,
            "bin_end": 0.2,
            "count": 0
           },
           {
            "bin_start": 0.2,
            "bin_end": 0.30000000000000004,
            "count": 0
           },
           {
            "bin_start": 0.30000000000000004,
            "bin_end": 0.4,
            "count": 0
           },
           {
            "bin_start": 0.4,
            "bin_end": 0.5,
            "count": 0
           },
           {
            "bin_start": 0.5,
            "bin_end": 0.6000000000000001,
            "count": 0
           },
           {
            "bin_start": 0.6000000000000001,
            "bin_end": 0.7000000000000001,
            "count": 0
           },
           {
            "bin_start": 0.7000000000000001,
            "bin_end": 0.8,
            "count": 0
           },
           {
            "bin_start": 0.8,
            "bin_end": 0.9,
            "count": 0
           },
           {
            "bin_start": 0.9,
            "bin_end": 1,
            "count": 0
           }
          ]
         }
        },
        {
         "name": "loudness_y.2",
         "dtype": "float64",
         "stats": {
          "unique_count": 0,
          "nan_count": 0,
          "min": null,
          "max": null,
          "histogram": [
           {
            "bin_start": 0,
            "bin_end": 0.1,
            "count": 0
           },
           {
            "bin_start": 0.1,
            "bin_end": 0.2,
            "count": 0
           },
           {
            "bin_start": 0.2,
            "bin_end": 0.30000000000000004,
            "count": 0
           },
           {
            "bin_start": 0.30000000000000004,
            "bin_end": 0.4,
            "count": 0
           },
           {
            "bin_start": 0.4,
            "bin_end": 0.5,
            "count": 0
           },
           {
            "bin_start": 0.5,
            "bin_end": 0.6000000000000001,
            "count": 0
           },
           {
            "bin_start": 0.6000000000000001,
            "bin_end": 0.7000000000000001,
            "count": 0
           },
           {
            "bin_start": 0.7000000000000001,
            "bin_end": 0.8,
            "count": 0
           },
           {
            "bin_start": 0.8,
            "bin_end": 0.9,
            "count": 0
           },
           {
            "bin_start": 0.9,
            "bin_end": 1,
            "count": 0
           }
          ]
         }
        },
        {
         "name": "mode_y.2",
         "dtype": "int64",
         "stats": {
          "unique_count": 0,
          "nan_count": 0,
          "min": null,
          "max": null,
          "histogram": [
           {
            "bin_start": 0,
            "bin_end": 0.1,
            "count": 0
           },
           {
            "bin_start": 0.1,
            "bin_end": 0.2,
            "count": 0
           },
           {
            "bin_start": 0.2,
            "bin_end": 0.30000000000000004,
            "count": 0
           },
           {
            "bin_start": 0.30000000000000004,
            "bin_end": 0.4,
            "count": 0
           },
           {
            "bin_start": 0.4,
            "bin_end": 0.5,
            "count": 0
           },
           {
            "bin_start": 0.5,
            "bin_end": 0.6000000000000001,
            "count": 0
           },
           {
            "bin_start": 0.6000000000000001,
            "bin_end": 0.7000000000000001,
            "count": 0
           },
           {
            "bin_start": 0.7000000000000001,
            "bin_end": 0.8,
            "count": 0
           },
           {
            "bin_start": 0.8,
            "bin_end": 0.9,
            "count": 0
           },
           {
            "bin_start": 0.9,
            "bin_end": 1,
            "count": 0
           }
          ]
         }
        },
        {
         "name": "speechiness_y.2",
         "dtype": "float64",
         "stats": {
          "unique_count": 0,
          "nan_count": 0,
          "min": null,
          "max": null,
          "histogram": [
           {
            "bin_start": 0,
            "bin_end": 0.1,
            "count": 0
           },
           {
            "bin_start": 0.1,
            "bin_end": 0.2,
            "count": 0
           },
           {
            "bin_start": 0.2,
            "bin_end": 0.30000000000000004,
            "count": 0
           },
           {
            "bin_start": 0.30000000000000004,
            "bin_end": 0.4,
            "count": 0
           },
           {
            "bin_start": 0.4,
            "bin_end": 0.5,
            "count": 0
           },
           {
            "bin_start": 0.5,
            "bin_end": 0.6000000000000001,
            "count": 0
           },
           {
            "bin_start": 0.6000000000000001,
            "bin_end": 0.7000000000000001,
            "count": 0
           },
           {
            "bin_start": 0.7000000000000001,
            "bin_end": 0.8,
            "count": 0
           },
           {
            "bin_start": 0.8,
            "bin_end": 0.9,
            "count": 0
           },
           {
            "bin_start": 0.9,
            "bin_end": 1,
            "count": 0
           }
          ]
         }
        },
        {
         "name": "acousticness_y.2",
         "dtype": "float64",
         "stats": {
          "unique_count": 0,
          "nan_count": 0,
          "min": null,
          "max": null,
          "histogram": [
           {
            "bin_start": 0,
            "bin_end": 0.1,
            "count": 0
           },
           {
            "bin_start": 0.1,
            "bin_end": 0.2,
            "count": 0
           },
           {
            "bin_start": 0.2,
            "bin_end": 0.30000000000000004,
            "count": 0
           },
           {
            "bin_start": 0.30000000000000004,
            "bin_end": 0.4,
            "count": 0
           },
           {
            "bin_start": 0.4,
            "bin_end": 0.5,
            "count": 0
           },
           {
            "bin_start": 0.5,
            "bin_end": 0.6000000000000001,
            "count": 0
           },
           {
            "bin_start": 0.6000000000000001,
            "bin_end": 0.7000000000000001,
            "count": 0
           },
           {
            "bin_start": 0.7000000000000001,
            "bin_end": 0.8,
            "count": 0
           },
           {
            "bin_start": 0.8,
            "bin_end": 0.9,
            "count": 0
           },
           {
            "bin_start": 0.9,
            "bin_end": 1,
            "count": 0
           }
          ]
         }
        },
        {
         "name": "instrumentalness_y.2",
         "dtype": "float64",
         "stats": {
          "unique_count": 0,
          "nan_count": 0,
          "min": null,
          "max": null,
          "histogram": [
           {
            "bin_start": 0,
            "bin_end": 0.1,
            "count": 0
           },
           {
            "bin_start": 0.1,
            "bin_end": 0.2,
            "count": 0
           },
           {
            "bin_start": 0.2,
            "bin_end": 0.30000000000000004,
            "count": 0
           },
           {
            "bin_start": 0.30000000000000004,
            "bin_end": 0.4,
            "count": 0
           },
           {
            "bin_start": 0.4,
            "bin_end": 0.5,
            "count": 0
           },
           {
            "bin_start": 0.5,
            "bin_end": 0.6000000000000001,
            "count": 0
           },
           {
            "bin_start": 0.6000000000000001,
            "bin_end": 0.7000000000000001,
            "count": 0
           },
           {
            "bin_start": 0.7000000000000001,
            "bin_end": 0.8,
            "count": 0
           },
           {
            "bin_start": 0.8,
            "bin_end": 0.9,
            "count": 0
           },
           {
            "bin_start": 0.9,
            "bin_end": 1,
            "count": 0
           }
          ]
         }
        },
        {
         "name": "liveness_y.2",
         "dtype": "float64",
         "stats": {
          "unique_count": 0,
          "nan_count": 0,
          "min": null,
          "max": null,
          "histogram": [
           {
            "bin_start": 0,
            "bin_end": 0.1,
            "count": 0
           },
           {
            "bin_start": 0.1,
            "bin_end": 0.2,
            "count": 0
           },
           {
            "bin_start": 0.2,
            "bin_end": 0.30000000000000004,
            "count": 0
           },
           {
            "bin_start": 0.30000000000000004,
            "bin_end": 0.4,
            "count": 0
           },
           {
            "bin_start": 0.4,
            "bin_end": 0.5,
            "count": 0
           },
           {
            "bin_start": 0.5,
            "bin_end": 0.6000000000000001,
            "count": 0
           },
           {
            "bin_start": 0.6000000000000001,
            "bin_end": 0.7000000000000001,
            "count": 0
           },
           {
            "bin_start": 0.7000000000000001,
            "bin_end": 0.8,
            "count": 0
           },
           {
            "bin_start": 0.8,
            "bin_end": 0.9,
            "count": 0
           },
           {
            "bin_start": 0.9,
            "bin_end": 1,
            "count": 0
           }
          ]
         }
        },
        {
         "name": "valence_y.2",
         "dtype": "float64",
         "stats": {
          "unique_count": 0,
          "nan_count": 0,
          "min": null,
          "max": null,
          "histogram": [
           {
            "bin_start": 0,
            "bin_end": 0.1,
            "count": 0
           },
           {
            "bin_start": 0.1,
            "bin_end": 0.2,
            "count": 0
           },
           {
            "bin_start": 0.2,
            "bin_end": 0.30000000000000004,
            "count": 0
           },
           {
            "bin_start": 0.30000000000000004,
            "bin_end": 0.4,
            "count": 0
           },
           {
            "bin_start": 0.4,
            "bin_end": 0.5,
            "count": 0
           },
           {
            "bin_start": 0.5,
            "bin_end": 0.6000000000000001,
            "count": 0
           },
           {
            "bin_start": 0.6000000000000001,
            "bin_end": 0.7000000000000001,
            "count": 0
           },
           {
            "bin_start": 0.7000000000000001,
            "bin_end": 0.8,
            "count": 0
           },
           {
            "bin_start": 0.8,
            "bin_end": 0.9,
            "count": 0
           },
           {
            "bin_start": 0.9,
            "bin_end": 1,
            "count": 0
           }
          ]
         }
        },
        {
         "name": "tempo_y.2",
         "dtype": "float64",
         "stats": {
          "unique_count": 0,
          "nan_count": 0,
          "min": null,
          "max": null,
          "histogram": [
           {
            "bin_start": 0,
            "bin_end": 0.1,
            "count": 0
           },
           {
            "bin_start": 0.1,
            "bin_end": 0.2,
            "count": 0
           },
           {
            "bin_start": 0.2,
            "bin_end": 0.30000000000000004,
            "count": 0
           },
           {
            "bin_start": 0.30000000000000004,
            "bin_end": 0.4,
            "count": 0
           },
           {
            "bin_start": 0.4,
            "bin_end": 0.5,
            "count": 0
           },
           {
            "bin_start": 0.5,
            "bin_end": 0.6000000000000001,
            "count": 0
           },
           {
            "bin_start": 0.6000000000000001,
            "bin_end": 0.7000000000000001,
            "count": 0
           },
           {
            "bin_start": 0.7000000000000001,
            "bin_end": 0.8,
            "count": 0
           },
           {
            "bin_start": 0.8,
            "bin_end": 0.9,
            "count": 0
           },
           {
            "bin_start": 0.9,
            "bin_end": 1,
            "count": 0
           }
          ]
         }
        },
        {
         "name": "duration_ms_y.2",
         "dtype": "int64",
         "stats": {
          "unique_count": 0,
          "nan_count": 0,
          "min": null,
          "max": null,
          "histogram": [
           {
            "bin_start": 0,
            "bin_end": 0.1,
            "count": 0
           },
           {
            "bin_start": 0.1,
            "bin_end": 0.2,
            "count": 0
           },
           {
            "bin_start": 0.2,
            "bin_end": 0.30000000000000004,
            "count": 0
           },
           {
            "bin_start": 0.30000000000000004,
            "bin_end": 0.4,
            "count": 0
           },
           {
            "bin_start": 0.4,
            "bin_end": 0.5,
            "count": 0
           },
           {
            "bin_start": 0.5,
            "bin_end": 0.6000000000000001,
            "count": 0
           },
           {
            "bin_start": 0.6000000000000001,
            "bin_end": 0.7000000000000001,
            "count": 0
           },
           {
            "bin_start": 0.7000000000000001,
            "bin_end": 0.8,
            "count": 0
           },
           {
            "bin_start": 0.8,
            "bin_end": 0.9,
            "count": 0
           },
           {
            "bin_start": 0.9,
            "bin_end": 1,
            "count": 0
           }
          ]
         }
        },
        {
         "name": "time_signature_y.2",
         "dtype": "int64",
         "stats": {
          "unique_count": 0,
          "nan_count": 0,
          "min": null,
          "max": null,
          "histogram": [
           {
            "bin_start": 0,
            "bin_end": 0.1,
            "count": 0
           },
           {
            "bin_start": 0.1,
            "bin_end": 0.2,
            "count": 0
           },
           {
            "bin_start": 0.2,
            "bin_end": 0.30000000000000004,
            "count": 0
           },
           {
            "bin_start": 0.30000000000000004,
            "bin_end": 0.4,
            "count": 0
           },
           {
            "bin_start": 0.4,
            "bin_end": 0.5,
            "count": 0
           },
           {
            "bin_start": 0.5,
            "bin_end": 0.6000000000000001,
            "count": 0
           },
           {
            "bin_start": 0.6000000000000001,
            "bin_end": 0.7000000000000001,
            "count": 0
           },
           {
            "bin_start": 0.7000000000000001,
            "bin_end": 0.8,
            "count": 0
           },
           {
            "bin_start": 0.8,
            "bin_end": 0.9,
            "count": 0
           },
           {
            "bin_start": 0.9,
            "bin_end": 1,
            "count": 0
           }
          ]
         }
        },
        {
         "name": "chorus_hit_y.2",
         "dtype": "float64",
         "stats": {
          "unique_count": 0,
          "nan_count": 0,
          "min": null,
          "max": null,
          "histogram": [
           {
            "bin_start": 0,
            "bin_end": 0.1,
            "count": 0
           },
           {
            "bin_start": 0.1,
            "bin_end": 0.2,
            "count": 0
           },
           {
            "bin_start": 0.2,
            "bin_end": 0.30000000000000004,
            "count": 0
           },
           {
            "bin_start": 0.30000000000000004,
            "bin_end": 0.4,
            "count": 0
           },
           {
            "bin_start": 0.4,
            "bin_end": 0.5,
            "count": 0
           },
           {
            "bin_start": 0.5,
            "bin_end": 0.6000000000000001,
            "count": 0
           },
           {
            "bin_start": 0.6000000000000001,
            "bin_end": 0.7000000000000001,
            "count": 0
           },
           {
            "bin_start": 0.7000000000000001,
            "bin_end": 0.8,
            "count": 0
           },
           {
            "bin_start": 0.8,
            "bin_end": 0.9,
            "count": 0
           },
           {
            "bin_start": 0.9,
            "bin_end": 1,
            "count": 0
           }
          ]
         }
        },
        {
         "name": "sections_y.2",
         "dtype": "int64",
         "stats": {
          "unique_count": 0,
          "nan_count": 0,
          "min": null,
          "max": null,
          "histogram": [
           {
            "bin_start": 0,
            "bin_end": 0.1,
            "count": 0
           },
           {
            "bin_start": 0.1,
            "bin_end": 0.2,
            "count": 0
           },
           {
            "bin_start": 0.2,
            "bin_end": 0.30000000000000004,
            "count": 0
           },
           {
            "bin_start": 0.30000000000000004,
            "bin_end": 0.4,
            "count": 0
           },
           {
            "bin_start": 0.4,
            "bin_end": 0.5,
            "count": 0
           },
           {
            "bin_start": 0.5,
            "bin_end": 0.6000000000000001,
            "count": 0
           },
           {
            "bin_start": 0.6000000000000001,
            "bin_end": 0.7000000000000001,
            "count": 0
           },
           {
            "bin_start": 0.7000000000000001,
            "bin_end": 0.8,
            "count": 0
           },
           {
            "bin_start": 0.8,
            "bin_end": 0.9,
            "count": 0
           },
           {
            "bin_start": 0.9,
            "bin_end": 1,
            "count": 0
           }
          ]
         }
        },
        {
         "name": "target_y.2",
         "dtype": "int64",
         "stats": {
          "unique_count": 0,
          "nan_count": 0,
          "min": null,
          "max": null,
          "histogram": [
           {
            "bin_start": 0,
            "bin_end": 0.1,
            "count": 0
           },
           {
            "bin_start": 0.1,
            "bin_end": 0.2,
            "count": 0
           },
           {
            "bin_start": 0.2,
            "bin_end": 0.30000000000000004,
            "count": 0
           },
           {
            "bin_start": 0.30000000000000004,
            "bin_end": 0.4,
            "count": 0
           },
           {
            "bin_start": 0.4,
            "bin_end": 0.5,
            "count": 0
           },
           {
            "bin_start": 0.5,
            "bin_end": 0.6000000000000001,
            "count": 0
           },
           {
            "bin_start": 0.6000000000000001,
            "bin_end": 0.7000000000000001,
            "count": 0
           },
           {
            "bin_start": 0.7000000000000001,
            "bin_end": 0.8,
            "count": 0
           },
           {
            "bin_start": 0.8,
            "bin_end": 0.9,
            "count": 0
           },
           {
            "bin_start": 0.9,
            "bin_end": 1,
            "count": 0
           }
          ]
         }
        },
        {
         "name": "decade_y.2",
         "dtype": "int64",
         "stats": {
          "unique_count": 0,
          "nan_count": 0,
          "min": null,
          "max": null,
          "histogram": [
           {
            "bin_start": 0,
            "bin_end": 0.1,
            "count": 0
           },
           {
            "bin_start": 0.1,
            "bin_end": 0.2,
            "count": 0
           },
           {
            "bin_start": 0.2,
            "bin_end": 0.30000000000000004,
            "count": 0
           },
           {
            "bin_start": 0.30000000000000004,
            "bin_end": 0.4,
            "count": 0
           },
           {
            "bin_start": 0.4,
            "bin_end": 0.5,
            "count": 0
           },
           {
            "bin_start": 0.5,
            "bin_end": 0.6000000000000001,
            "count": 0
           },
           {
            "bin_start": 0.6000000000000001,
            "bin_end": 0.7000000000000001,
            "count": 0
           },
           {
            "bin_start": 0.7000000000000001,
            "bin_end": 0.8,
            "count": 0
           },
           {
            "bin_start": 0.8,
            "bin_end": 0.9,
            "count": 0
           },
           {
            "bin_start": 0.9,
            "bin_end": 1,
            "count": 0
           }
          ]
         }
        },
        {
         "name": "_deepnote_index_column",
         "dtype": "object"
        }
       ],
       "rows_top": [],
       "rows_bottom": null
      },
      "text/plain": "Empty DataFrame\nColumns: [uri_x, danceability_x, energy_x, key_x, loudness_x, mode_x, speechiness_x, acousticness_x, instrumentalness_x, liveness_x, valence_x, tempo_x, duration_ms_x, time_signature_x, chorus_hit_x, sections_x, target_x, decade_x, uri_y, danceability_y, energy_y, key_y, loudness_y, mode_y, speechiness_y, acousticness_y, instrumentalness_y, liveness_y, valence_y, tempo_y, duration_ms_y, time_signature_y, chorus_hit_y, sections_y, target_y, decade_y, uri_x, danceability_x, energy_x, key_x, loudness_x, mode_x, speechiness_x, acousticness_x, instrumentalness_x, liveness_x, valence_x, tempo_x, duration_ms_x, time_signature_x, chorus_hit_x, sections_x, target_x, decade_x, uri_y, danceability_y, energy_y, key_y, loudness_y, mode_y, speechiness_y, acousticness_y, instrumentalness_y, liveness_y, valence_y, tempo_y, duration_ms_y, time_signature_y, chorus_hit_y, sections_y, target_y, decade_y, uri_x, danceability_x, energy_x, key_x, loudness_x, mode_x, speechiness_x, acousticness_x, instrumentalness_x, liveness_x, valence_x, tempo_x, duration_ms_x, time_signature_x, chorus_hit_x, sections_x, target_x, decade_x, track, artist, uri_y, danceability_y, energy_y, key_y, loudness_y, mode_y, speechiness_y, acousticness_y, ...]\nIndex: []\n\n[0 rows x 110 columns]",
      "text/html": "<div>\n<style scoped>\n    .dataframe tbody tr th:only-of-type {\n        vertical-align: middle;\n    }\n\n    .dataframe tbody tr th {\n        vertical-align: top;\n    }\n\n    .dataframe thead th {\n        text-align: right;\n    }\n</style>\n<table border=\"1\" class=\"dataframe\">\n  <thead>\n    <tr style=\"text-align: right;\">\n      <th></th>\n      <th>uri_x</th>\n      <th>danceability_x</th>\n      <th>energy_x</th>\n      <th>key_x</th>\n      <th>loudness_x</th>\n      <th>mode_x</th>\n      <th>speechiness_x</th>\n      <th>acousticness_x</th>\n      <th>instrumentalness_x</th>\n      <th>liveness_x</th>\n      <th>...</th>\n      <th>instrumentalness_y</th>\n      <th>liveness_y</th>\n      <th>valence_y</th>\n      <th>tempo_y</th>\n      <th>duration_ms_y</th>\n      <th>time_signature_y</th>\n      <th>chorus_hit_y</th>\n      <th>sections_y</th>\n      <th>target_y</th>\n      <th>decade_y</th>\n    </tr>\n  </thead>\n  <tbody>\n  </tbody>\n</table>\n<p>0 rows × 110 columns</p>\n</div>"
     },
     "metadata": {}
    }
   ]
  },
  {
   "cell_type": "code",
   "metadata": {
    "tags": [],
    "cell_id": "00004-30419425-c70e-440c-b997-facaea3c9cea",
    "deepnote_to_be_reexecuted": false,
    "source_hash": "e9328969",
    "execution_start": 1634684354603,
    "execution_millis": 125,
    "deepnote_cell_type": "code"
   },
   "source": "# Create cumulative dataset (from songs across all decades)\ndata = data10.append(data00).append(data90).append(data80).append(data70).append(data60)\ndata.head()",
   "execution_count": 5,
   "outputs": [
    {
     "output_type": "execute_result",
     "execution_count": 5,
     "data": {
      "application/vnd.deepnote.dataframe.v2+json": {
       "row_count": 5,
       "column_count": 20,
       "columns": [
        {
         "name": "track",
         "dtype": "object",
         "stats": {
          "unique_count": 5,
          "nan_count": 0,
          "categories": [
           {
            "name": "Wild Things",
            "count": 1
           },
           {
            "name": "Surfboard",
            "count": 1
           },
           {
            "name": "3 others",
            "count": 3
           }
          ]
         }
        },
        {
         "name": "artist",
         "dtype": "object",
         "stats": {
          "unique_count": 5,
          "nan_count": 0,
          "categories": [
           {
            "name": "Alessia Cara",
            "count": 1
           },
           {
            "name": "Esquivel!",
            "count": 1
           },
           {
            "name": "3 others",
            "count": 3
           }
          ]
         }
        },
        {
         "name": "uri",
         "dtype": "object",
         "stats": {
          "unique_count": 5,
          "nan_count": 0,
          "categories": [
           {
            "name": "spotify:track:2ZyuwVvV6Z3XJaXIFbspeE",
            "count": 1
           },
           {
            "name": "spotify:track:61APOtq25SCMuK0V5w2Kgp",
            "count": 1
           },
           {
            "name": "3 others",
            "count": 3
           }
          ]
         }
        },
        {
         "name": "danceability",
         "dtype": "float64",
         "stats": {
          "unique_count": 5,
          "nan_count": 0,
          "min": "0.447",
          "max": "0.807",
          "histogram": [
           {
            "bin_start": 0.447,
            "bin_end": 0.483,
            "count": 1
           },
           {
            "bin_start": 0.483,
            "bin_end": 0.519,
            "count": 1
           },
           {
            "bin_start": 0.519,
            "bin_end": 0.555,
            "count": 1
           },
           {
            "bin_start": 0.555,
            "bin_end": 0.591,
            "count": 0
           },
           {
            "bin_start": 0.591,
            "bin_end": 0.627,
            "count": 0
           },
           {
            "bin_start": 0.627,
            "bin_end": 0.663,
            "count": 0
           },
           {
            "bin_start": 0.663,
            "bin_end": 0.6990000000000001,
            "count": 0
           },
           {
            "bin_start": 0.6990000000000001,
            "bin_end": 0.7350000000000001,
            "count": 0
           },
           {
            "bin_start": 0.7350000000000001,
            "bin_end": 0.7710000000000001,
            "count": 1
           },
           {
            "bin_start": 0.7710000000000001,
            "bin_end": 0.807,
            "count": 1
           }
          ]
         }
        },
        {
         "name": "energy",
         "dtype": "float64",
         "stats": {
          "unique_count": 5,
          "nan_count": 0,
          "min": "0.247",
          "max": "0.887",
          "histogram": [
           {
            "bin_start": 0.247,
            "bin_end": 0.311,
            "count": 1
           },
           {
            "bin_start": 0.311,
            "bin_end": 0.375,
            "count": 0
           },
           {
            "bin_start": 0.375,
            "bin_end": 0.439,
            "count": 1
           },
           {
            "bin_start": 0.439,
            "bin_end": 0.503,
            "count": 0
           },
           {
            "bin_start": 0.503,
            "bin_end": 0.567,
            "count": 0
           },
           {
            "bin_start": 0.567,
            "bin_end": 0.631,
            "count": 1
           },
           {
            "bin_start": 0.631,
            "bin_end": 0.6950000000000001,
            "count": 1
           },
           {
            "bin_start": 0.6950000000000001,
            "bin_end": 0.759,
            "count": 0
           },
           {
            "bin_start": 0.759,
            "bin_end": 0.8230000000000001,
            "count": 0
           },
           {
            "bin_start": 0.8230000000000001,
            "bin_end": 0.887,
            "count": 1
           }
          ]
         }
        },
        {
         "name": "key",
         "dtype": "int64",
         "stats": {
          "unique_count": 4,
          "nan_count": 0,
          "min": "0",
          "max": "9",
          "histogram": [
           {
            "bin_start": 0,
            "bin_end": 0.9,
            "count": 1
           },
           {
            "bin_start": 0.9,
            "bin_end": 1.8,
            "count": 2
           },
           {
            "bin_start": 1.8,
            "bin_end": 2.7,
            "count": 0
           },
           {
            "bin_start": 2.7,
            "bin_end": 3.6,
            "count": 0
           },
           {
            "bin_start": 3.6,
            "bin_end": 4.5,
            "count": 0
           },
           {
            "bin_start": 4.5,
            "bin_end": 5.4,
            "count": 1
           },
           {
            "bin_start": 5.4,
            "bin_end": 6.3,
            "count": 0
           },
           {
            "bin_start": 6.3,
            "bin_end": 7.2,
            "count": 0
           },
           {
            "bin_start": 7.2,
            "bin_end": 8.1,
            "count": 0
           },
           {
            "bin_start": 8.1,
            "bin_end": 9,
            "count": 1
           }
          ]
         }
        },
        {
         "name": "loudness",
         "dtype": "float64",
         "stats": {
          "unique_count": 5,
          "nan_count": 0,
          "min": "-14.661",
          "max": "-3.892",
          "histogram": [
           {
            "bin_start": -14.661,
            "bin_end": -13.5841,
            "count": 1
           },
           {
            "bin_start": -13.5841,
            "bin_end": -12.5072,
            "count": 0
           },
           {
            "bin_start": -12.5072,
            "bin_end": -11.430299999999999,
            "count": 0
           },
           {
            "bin_start": -11.430299999999999,
            "bin_end": -10.3534,
            "count": 0
           },
           {
            "bin_start": -10.3534,
            "bin_end": -9.276499999999999,
            "count": 0
           },
           {
            "bin_start": -9.276499999999999,
            "bin_end": -8.1996,
            "count": 0
           },
           {
            "bin_start": -8.1996,
            "bin_end": -7.1227,
            "count": 0
           },
           {
            "bin_start": -7.1227,
            "bin_end": -6.0458,
            "count": 1
           },
           {
            "bin_start": -6.0458,
            "bin_end": -4.9689,
            "count": 1
           },
           {
            "bin_start": -4.9689,
            "bin_end": -3.892,
            "count": 2
           }
          ]
         }
        },
        {
         "name": "mode",
         "dtype": "int64",
         "stats": {
          "unique_count": 2,
          "nan_count": 0,
          "min": "0",
          "max": "1",
          "histogram": [
           {
            "bin_start": 0,
            "bin_end": 0.1,
            "count": 4
           },
           {
            "bin_start": 0.1,
            "bin_end": 0.2,
            "count": 0
           },
           {
            "bin_start": 0.2,
            "bin_end": 0.30000000000000004,
            "count": 0
           },
           {
            "bin_start": 0.30000000000000004,
            "bin_end": 0.4,
            "count": 0
           },
           {
            "bin_start": 0.4,
            "bin_end": 0.5,
            "count": 0
           },
           {
            "bin_start": 0.5,
            "bin_end": 0.6000000000000001,
            "count": 0
           },
           {
            "bin_start": 0.6000000000000001,
            "bin_end": 0.7000000000000001,
            "count": 0
           },
           {
            "bin_start": 0.7000000000000001,
            "bin_end": 0.8,
            "count": 0
           },
           {
            "bin_start": 0.8,
            "bin_end": 0.9,
            "count": 0
           },
           {
            "bin_start": 0.9,
            "bin_end": 1,
            "count": 1
           }
          ]
         }
        },
        {
         "name": "speechiness",
         "dtype": "float64",
         "stats": {
          "unique_count": 5,
          "nan_count": 0,
          "min": "0.0346",
          "max": "0.275",
          "histogram": [
           {
            "bin_start": 0.0346,
            "bin_end": 0.05864,
            "count": 3
           },
           {
            "bin_start": 0.05864,
            "bin_end": 0.08268,
            "count": 0
           },
           {
            "bin_start": 0.08268,
            "bin_end": 0.10672000000000001,
            "count": 1
           },
           {
            "bin_start": 0.10672000000000001,
            "bin_end": 0.13076000000000002,
            "count": 0
           },
           {
            "bin_start": 0.13076000000000002,
            "bin_end": 0.15480000000000002,
            "count": 0
           },
           {
            "bin_start": 0.15480000000000002,
            "bin_end": 0.17884,
            "count": 0
           },
           {
            "bin_start": 0.17884,
            "bin_end": 0.20288,
            "count": 0
           },
           {
            "bin_start": 0.20288,
            "bin_end": 0.22692,
            "count": 0
           },
           {
            "bin_start": 0.22692,
            "bin_end": 0.25096,
            "count": 0
           },
           {
            "bin_start": 0.25096,
            "bin_end": 0.275,
            "count": 1
           }
          ]
         }
        },
        {
         "name": "acousticness",
         "dtype": "float64",
         "stats": {
          "unique_count": 5,
          "nan_count": 0,
          "min": "0.00381",
          "max": "0.871",
          "histogram": [
           {
            "bin_start": 0.00381,
            "bin_end": 0.090529,
            "count": 3
           },
           {
            "bin_start": 0.090529,
            "bin_end": 0.17724800000000002,
            "count": 1
           },
           {
            "bin_start": 0.17724800000000002,
            "bin_end": 0.263967,
            "count": 0
           },
           {
            "bin_start": 0.263967,
            "bin_end": 0.350686,
            "count": 0
           },
           {
            "bin_start": 0.350686,
            "bin_end": 0.437405,
            "count": 0
           },
           {
            "bin_start": 0.437405,
            "bin_end": 0.524124,
            "count": 0
           },
           {
            "bin_start": 0.524124,
            "bin_end": 0.610843,
            "count": 0
           },
           {
            "bin_start": 0.610843,
            "bin_end": 0.697562,
            "count": 0
           },
           {
            "bin_start": 0.697562,
            "bin_end": 0.784281,
            "count": 0
           },
           {
            "bin_start": 0.784281,
            "bin_end": 0.871,
            "count": 1
           }
          ]
         }
        },
        {
         "name": "instrumentalness",
         "dtype": "float64",
         "stats": {
          "unique_count": 2,
          "nan_count": 0,
          "min": "0.0",
          "max": "0.814",
          "histogram": [
           {
            "bin_start": 0,
            "bin_end": 0.0814,
            "count": 4
           },
           {
            "bin_start": 0.0814,
            "bin_end": 0.1628,
            "count": 0
           },
           {
            "bin_start": 0.1628,
            "bin_end": 0.2442,
            "count": 0
           },
           {
            "bin_start": 0.2442,
            "bin_end": 0.3256,
            "count": 0
           },
           {
            "bin_start": 0.3256,
            "bin_end": 0.40700000000000003,
            "count": 0
           },
           {
            "bin_start": 0.40700000000000003,
            "bin_end": 0.4884,
            "count": 0
           },
           {
            "bin_start": 0.4884,
            "bin_end": 0.5698,
            "count": 0
           },
           {
            "bin_start": 0.5698,
            "bin_end": 0.6512,
            "count": 0
           },
           {
            "bin_start": 0.6512,
            "bin_end": 0.7326,
            "count": 0
           },
           {
            "bin_start": 0.7326,
            "bin_end": 0.814,
            "count": 1
           }
          ]
         }
        },
        {
         "name": "liveness",
         "dtype": "float64",
         "stats": {
          "unique_count": 5,
          "nan_count": 0,
          "min": "0.0828",
          "max": "0.391",
          "histogram": [
           {
            "bin_start": 0.0828,
            "bin_end": 0.11362,
            "count": 3
           },
           {
            "bin_start": 0.11362,
            "bin_end": 0.14444,
            "count": 0
           },
           {
            "bin_start": 0.14444,
            "bin_end": 0.17526000000000003,
            "count": 0
           },
           {
            "bin_start": 0.17526000000000003,
            "bin_end": 0.20608,
            "count": 1
           },
           {
            "bin_start": 0.20608,
            "bin_end": 0.2369,
            "count": 0
           },
           {
            "bin_start": 0.2369,
            "bin_end": 0.26772,
            "count": 0
           },
           {
            "bin_start": 0.26772,
            "bin_end": 0.29854,
            "count": 0
           },
           {
            "bin_start": 0.29854,
            "bin_end": 0.32936000000000004,
            "count": 0
           },
           {
            "bin_start": 0.32936000000000004,
            "bin_end": 0.36018,
            "count": 0
           },
           {
            "bin_start": 0.36018,
            "bin_end": 0.391,
            "count": 1
           }
          ]
         }
        },
        {
         "name": "valence",
         "dtype": "float64",
         "stats": {
          "unique_count": 5,
          "nan_count": 0,
          "min": "0.25",
          "max": "0.78",
          "histogram": [
           {
            "bin_start": 0.25,
            "bin_end": 0.303,
            "count": 3
           },
           {
            "bin_start": 0.303,
            "bin_end": 0.356,
            "count": 0
           },
           {
            "bin_start": 0.356,
            "bin_end": 0.40900000000000003,
            "count": 0
           },
           {
            "bin_start": 0.40900000000000003,
            "bin_end": 0.462,
            "count": 0
           },
           {
            "bin_start": 0.462,
            "bin_end": 0.515,
            "count": 0
           },
           {
            "bin_start": 0.515,
            "bin_end": 0.5680000000000001,
            "count": 0
           },
           {
            "bin_start": 0.5680000000000001,
            "bin_end": 0.621,
            "count": 0
           },
           {
            "bin_start": 0.621,
            "bin_end": 0.674,
            "count": 0
           },
           {
            "bin_start": 0.674,
            "bin_end": 0.7270000000000001,
            "count": 1
           },
           {
            "bin_start": 0.7270000000000001,
            "bin_end": 0.78,
            "count": 1
           }
          ]
         }
        },
        {
         "name": "tempo",
         "dtype": "float64",
         "stats": {
          "unique_count": 5,
          "nan_count": 0,
          "min": "91.837",
          "max": "172.065",
          "histogram": [
           {
            "bin_start": 91.837,
            "bin_end": 99.8598,
            "count": 1
           },
           {
            "bin_start": 99.8598,
            "bin_end": 107.8826,
            "count": 0
           },
           {
            "bin_start": 107.8826,
            "bin_end": 115.9054,
            "count": 1
           },
           {
            "bin_start": 115.9054,
            "bin_end": 123.9282,
            "count": 0
           },
           {
            "bin_start": 123.9282,
            "bin_end": 131.95100000000002,
            "count": 0
           },
           {
            "bin_start": 131.95100000000002,
            "bin_end": 139.9738,
            "count": 0
           },
           {
            "bin_start": 139.9738,
            "bin_end": 147.9966,
            "count": 0
           },
           {
            "bin_start": 147.9966,
            "bin_end": 156.01940000000002,
            "count": 1
           },
           {
            "bin_start": 156.01940000000002,
            "bin_end": 164.0422,
            "count": 1
           },
           {
            "bin_start": 164.0422,
            "bin_end": 172.065,
            "count": 1
           }
          ]
         }
        },
        {
         "name": "duration_ms",
         "dtype": "int64",
         "stats": {
          "unique_count": 5,
          "nan_count": 0,
          "min": "144244",
          "max": "205463",
          "histogram": [
           {
            "bin_start": 144244,
            "bin_end": 150365.9,
            "count": 1
           },
           {
            "bin_start": 150365.9,
            "bin_end": 156487.8,
            "count": 0
           },
           {
            "bin_start": 156487.8,
            "bin_end": 162609.7,
            "count": 0
           },
           {
            "bin_start": 162609.7,
            "bin_end": 168731.6,
            "count": 0
           },
           {
            "bin_start": 168731.6,
            "bin_end": 174853.5,
            "count": 0
           },
           {
            "bin_start": 174853.5,
            "bin_end": 180975.4,
            "count": 1
           },
           {
            "bin_start": 180975.4,
            "bin_end": 187097.3,
            "count": 0
           },
           {
            "bin_start": 187097.3,
            "bin_end": 193219.2,
            "count": 2
           },
           {
            "bin_start": 193219.2,
            "bin_end": 199341.1,
            "count": 0
           },
           {
            "bin_start": 199341.1,
            "bin_end": 205463,
            "count": 1
           }
          ]
         }
        },
        {
         "name": "time_signature",
         "dtype": "int64",
         "stats": {
          "unique_count": 2,
          "nan_count": 0,
          "min": "3",
          "max": "4",
          "histogram": [
           {
            "bin_start": 3,
            "bin_end": 3.1,
            "count": 1
           },
           {
            "bin_start": 3.1,
            "bin_end": 3.2,
            "count": 0
           },
           {
            "bin_start": 3.2,
            "bin_end": 3.3,
            "count": 0
           },
           {
            "bin_start": 3.3,
            "bin_end": 3.4,
            "count": 0
           },
           {
            "bin_start": 3.4,
            "bin_end": 3.5,
            "count": 0
           },
           {
            "bin_start": 3.5,
            "bin_end": 3.6,
            "count": 0
           },
           {
            "bin_start": 3.6,
            "bin_end": 3.7,
            "count": 0
           },
           {
            "bin_start": 3.7,
            "bin_end": 3.8,
            "count": 0
           },
           {
            "bin_start": 3.8,
            "bin_end": 3.9,
            "count": 0
           },
           {
            "bin_start": 3.9,
            "bin_end": 4,
            "count": 4
           }
          ]
         }
        },
        {
         "name": "chorus_hit",
         "dtype": "float64",
         "stats": {
          "unique_count": 5,
          "nan_count": 0,
          "min": "24.99199",
          "max": "44.89147",
          "histogram": [
           {
            "bin_start": 24.99199,
            "bin_end": 26.981938,
            "count": 1
           },
           {
            "bin_start": 26.981938,
            "bin_end": 28.971886,
            "count": 0
           },
           {
            "bin_start": 28.971886,
            "bin_end": 30.961834,
            "count": 1
           },
           {
            "bin_start": 30.961834,
            "bin_end": 32.951782,
            "count": 0
           },
           {
            "bin_start": 32.951782,
            "bin_end": 34.94173,
            "count": 1
           },
           {
            "bin_start": 34.94173,
            "bin_end": 36.931678,
            "count": 0
           },
           {
            "bin_start": 36.931678,
            "bin_end": 38.921625999999996,
            "count": 0
           },
           {
            "bin_start": 38.921625999999996,
            "bin_end": 40.911574,
            "count": 0
           },
           {
            "bin_start": 40.911574,
            "bin_end": 42.901522,
            "count": 1
           },
           {
            "bin_start": 42.901522,
            "bin_end": 44.89147,
            "count": 1
           }
          ]
         }
        },
        {
         "name": "sections",
         "dtype": "int64",
         "stats": {
          "unique_count": 4,
          "nan_count": 0,
          "min": "7",
          "max": "10",
          "histogram": [
           {
            "bin_start": 7,
            "bin_end": 7.3,
            "count": 1
           },
           {
            "bin_start": 7.3,
            "bin_end": 7.6,
            "count": 0
           },
           {
            "bin_start": 7.6,
            "bin_end": 7.9,
            "count": 0
           },
           {
            "bin_start": 7.9,
            "bin_end": 8.2,
            "count": 1
           },
           {
            "bin_start": 8.2,
            "bin_end": 8.5,
            "count": 0
           },
           {
            "bin_start": 8.5,
            "bin_end": 8.8,
            "count": 0
           },
           {
            "bin_start": 8.8,
            "bin_end": 9.1,
            "count": 2
           },
           {
            "bin_start": 9.1,
            "bin_end": 9.4,
            "count": 0
           },
           {
            "bin_start": 9.4,
            "bin_end": 9.7,
            "count": 0
           },
           {
            "bin_start": 9.7,
            "bin_end": 10,
            "count": 1
           }
          ]
         }
        },
        {
         "name": "target",
         "dtype": "int64",
         "stats": {
          "unique_count": 2,
          "nan_count": 0,
          "min": "0",
          "max": "1",
          "histogram": [
           {
            "bin_start": 0,
            "bin_end": 0.1,
            "count": 2
           },
           {
            "bin_start": 0.1,
            "bin_end": 0.2,
            "count": 0
           },
           {
            "bin_start": 0.2,
            "bin_end": 0.30000000000000004,
            "count": 0
           },
           {
            "bin_start": 0.30000000000000004,
            "bin_end": 0.4,
            "count": 0
           },
           {
            "bin_start": 0.4,
            "bin_end": 0.5,
            "count": 0
           },
           {
            "bin_start": 0.5,
            "bin_end": 0.6000000000000001,
            "count": 0
           },
           {
            "bin_start": 0.6000000000000001,
            "bin_end": 0.7000000000000001,
            "count": 0
           },
           {
            "bin_start": 0.7000000000000001,
            "bin_end": 0.8,
            "count": 0
           },
           {
            "bin_start": 0.8,
            "bin_end": 0.9,
            "count": 0
           },
           {
            "bin_start": 0.9,
            "bin_end": 1,
            "count": 3
           }
          ]
         }
        },
        {
         "name": "decade",
         "dtype": "int64",
         "stats": {
          "unique_count": 1,
          "nan_count": 0,
          "min": "2010",
          "max": "2010",
          "histogram": [
           {
            "bin_start": 2009.5,
            "bin_end": 2009.6,
            "count": 0
           },
           {
            "bin_start": 2009.6,
            "bin_end": 2009.7,
            "count": 0
           },
           {
            "bin_start": 2009.7,
            "bin_end": 2009.8,
            "count": 0
           },
           {
            "bin_start": 2009.8,
            "bin_end": 2009.9,
            "count": 0
           },
           {
            "bin_start": 2009.9,
            "bin_end": 2010,
            "count": 0
           },
           {
            "bin_start": 2010,
            "bin_end": 2010.1,
            "count": 5
           },
           {
            "bin_start": 2010.1,
            "bin_end": 2010.2,
            "count": 0
           },
           {
            "bin_start": 2010.2,
            "bin_end": 2010.3,
            "count": 0
           },
           {
            "bin_start": 2010.3,
            "bin_end": 2010.4,
            "count": 0
           },
           {
            "bin_start": 2010.4,
            "bin_end": 2010.5,
            "count": 0
           }
          ]
         }
        },
        {
         "name": "_deepnote_index_column",
         "dtype": "int64"
        }
       ],
       "rows_top": [
        {
         "track": "Wild Things",
         "artist": "Alessia Cara",
         "uri": "spotify:track:2ZyuwVvV6Z3XJaXIFbspeE",
         "danceability": 0.741,
         "energy": 0.626,
         "key": 1,
         "loudness": -4.826,
         "mode": 0,
         "speechiness": 0.0886,
         "acousticness": 0.02,
         "instrumentalness": 0,
         "liveness": 0.0828,
         "valence": 0.706,
         "tempo": 108.029,
         "duration_ms": 188493,
         "time_signature": 4,
         "chorus_hit": 41.18681,
         "sections": 10,
         "target": 1,
         "decade": 2010,
         "_deepnote_index_column": 0
        },
        {
         "track": "Surfboard",
         "artist": "Esquivel!",
         "uri": "spotify:track:61APOtq25SCMuK0V5w2Kgp",
         "danceability": 0.447,
         "energy": 0.247,
         "key": 5,
         "loudness": -14.661,
         "mode": 0,
         "speechiness": 0.0346,
         "acousticness": 0.871,
         "instrumentalness": 0.814,
         "liveness": 0.0946,
         "valence": 0.25,
         "tempo": 155.489,
         "duration_ms": 176880,
         "time_signature": 3,
         "chorus_hit": 33.18083,
         "sections": 9,
         "target": 0,
         "decade": 2010,
         "_deepnote_index_column": 1
        },
        {
         "track": "Love Someone",
         "artist": "Lukas Graham",
         "uri": "spotify:track:2JqnpexlO9dmvjUMCaLCLJ",
         "danceability": 0.55,
         "energy": 0.415,
         "key": 9,
         "loudness": -6.557,
         "mode": 0,
         "speechiness": 0.052,
         "acousticness": 0.161,
         "instrumentalness": 0,
         "liveness": 0.108,
         "valence": 0.274,
         "tempo": 172.065,
         "duration_ms": 205463,
         "time_signature": 4,
         "chorus_hit": 44.89147,
         "sections": 9,
         "target": 1,
         "decade": 2010,
         "_deepnote_index_column": 2
        },
        {
         "track": "Music To My Ears (feat. Tory Lanez)",
         "artist": "Keys N Krates",
         "uri": "spotify:track:0cjfLhk8WJ3etPTCseKXtk",
         "danceability": 0.502,
         "energy": 0.648,
         "key": 0,
         "loudness": -5.698,
         "mode": 0,
         "speechiness": 0.0527,
         "acousticness": 0.00513,
         "instrumentalness": 0,
         "liveness": 0.204,
         "valence": 0.291,
         "tempo": 91.837,
         "duration_ms": 193043,
         "time_signature": 4,
         "chorus_hit": 29.52521,
         "sections": 7,
         "target": 0,
         "decade": 2010,
         "_deepnote_index_column": 3
        },
        {
         "track": "Juju On That Beat (TZ Anthem)",
         "artist": "Zay Hilfigerrr & Zayion McCall",
         "uri": "spotify:track:1lItf5ZXJc1by9SbPeljFd",
         "danceability": 0.807,
         "energy": 0.887,
         "key": 1,
         "loudness": -3.892,
         "mode": 1,
         "speechiness": 0.275,
         "acousticness": 0.00381,
         "instrumentalness": 0,
         "liveness": 0.391,
         "valence": 0.78,
         "tempo": 160.517,
         "duration_ms": 144244,
         "time_signature": 4,
         "chorus_hit": 24.99199,
         "sections": 8,
         "target": 1,
         "decade": 2010,
         "_deepnote_index_column": 4
        }
       ],
       "rows_bottom": null
      },
      "text/plain": "                                 track                          artist  \\\n0                          Wild Things                    Alessia Cara   \n1                            Surfboard                       Esquivel!   \n2                         Love Someone                    Lukas Graham   \n3  Music To My Ears (feat. Tory Lanez)                   Keys N Krates   \n4        Juju On That Beat (TZ Anthem)  Zay Hilfigerrr & Zayion McCall   \n\n                                    uri  danceability  energy  key  loudness  \\\n0  spotify:track:2ZyuwVvV6Z3XJaXIFbspeE         0.741   0.626    1    -4.826   \n1  spotify:track:61APOtq25SCMuK0V5w2Kgp         0.447   0.247    5   -14.661   \n2  spotify:track:2JqnpexlO9dmvjUMCaLCLJ         0.550   0.415    9    -6.557   \n3  spotify:track:0cjfLhk8WJ3etPTCseKXtk         0.502   0.648    0    -5.698   \n4  spotify:track:1lItf5ZXJc1by9SbPeljFd         0.807   0.887    1    -3.892   \n\n   mode  speechiness  acousticness  instrumentalness  liveness  valence  \\\n0     0       0.0886       0.02000             0.000    0.0828    0.706   \n1     0       0.0346       0.87100             0.814    0.0946    0.250   \n2     0       0.0520       0.16100             0.000    0.1080    0.274   \n3     0       0.0527       0.00513             0.000    0.2040    0.291   \n4     1       0.2750       0.00381             0.000    0.3910    0.780   \n\n     tempo  duration_ms  time_signature  chorus_hit  sections  target  decade  \n0  108.029       188493               4    41.18681        10       1    2010  \n1  155.489       176880               3    33.18083         9       0    2010  \n2  172.065       205463               4    44.89147         9       1    2010  \n3   91.837       193043               4    29.52521         7       0    2010  \n4  160.517       144244               4    24.99199         8       1    2010  ",
      "text/html": "<div>\n<style scoped>\n    .dataframe tbody tr th:only-of-type {\n        vertical-align: middle;\n    }\n\n    .dataframe tbody tr th {\n        vertical-align: top;\n    }\n\n    .dataframe thead th {\n        text-align: right;\n    }\n</style>\n<table border=\"1\" class=\"dataframe\">\n  <thead>\n    <tr style=\"text-align: right;\">\n      <th></th>\n      <th>track</th>\n      <th>artist</th>\n      <th>uri</th>\n      <th>danceability</th>\n      <th>energy</th>\n      <th>key</th>\n      <th>loudness</th>\n      <th>mode</th>\n      <th>speechiness</th>\n      <th>acousticness</th>\n      <th>instrumentalness</th>\n      <th>liveness</th>\n      <th>valence</th>\n      <th>tempo</th>\n      <th>duration_ms</th>\n      <th>time_signature</th>\n      <th>chorus_hit</th>\n      <th>sections</th>\n      <th>target</th>\n      <th>decade</th>\n    </tr>\n  </thead>\n  <tbody>\n    <tr>\n      <th>0</th>\n      <td>Wild Things</td>\n      <td>Alessia Cara</td>\n      <td>spotify:track:2ZyuwVvV6Z3XJaXIFbspeE</td>\n      <td>0.741</td>\n      <td>0.626</td>\n      <td>1</td>\n      <td>-4.826</td>\n      <td>0</td>\n      <td>0.0886</td>\n      <td>0.02000</td>\n      <td>0.000</td>\n      <td>0.0828</td>\n      <td>0.706</td>\n      <td>108.029</td>\n      <td>188493</td>\n      <td>4</td>\n      <td>41.18681</td>\n      <td>10</td>\n      <td>1</td>\n      <td>2010</td>\n    </tr>\n    <tr>\n      <th>1</th>\n      <td>Surfboard</td>\n      <td>Esquivel!</td>\n      <td>spotify:track:61APOtq25SCMuK0V5w2Kgp</td>\n      <td>0.447</td>\n      <td>0.247</td>\n      <td>5</td>\n      <td>-14.661</td>\n      <td>0</td>\n      <td>0.0346</td>\n      <td>0.87100</td>\n      <td>0.814</td>\n      <td>0.0946</td>\n      <td>0.250</td>\n      <td>155.489</td>\n      <td>176880</td>\n      <td>3</td>\n      <td>33.18083</td>\n      <td>9</td>\n      <td>0</td>\n      <td>2010</td>\n    </tr>\n    <tr>\n      <th>2</th>\n      <td>Love Someone</td>\n      <td>Lukas Graham</td>\n      <td>spotify:track:2JqnpexlO9dmvjUMCaLCLJ</td>\n      <td>0.550</td>\n      <td>0.415</td>\n      <td>9</td>\n      <td>-6.557</td>\n      <td>0</td>\n      <td>0.0520</td>\n      <td>0.16100</td>\n      <td>0.000</td>\n      <td>0.1080</td>\n      <td>0.274</td>\n      <td>172.065</td>\n      <td>205463</td>\n      <td>4</td>\n      <td>44.89147</td>\n      <td>9</td>\n      <td>1</td>\n      <td>2010</td>\n    </tr>\n    <tr>\n      <th>3</th>\n      <td>Music To My Ears (feat. Tory Lanez)</td>\n      <td>Keys N Krates</td>\n      <td>spotify:track:0cjfLhk8WJ3etPTCseKXtk</td>\n      <td>0.502</td>\n      <td>0.648</td>\n      <td>0</td>\n      <td>-5.698</td>\n      <td>0</td>\n      <td>0.0527</td>\n      <td>0.00513</td>\n      <td>0.000</td>\n      <td>0.2040</td>\n      <td>0.291</td>\n      <td>91.837</td>\n      <td>193043</td>\n      <td>4</td>\n      <td>29.52521</td>\n      <td>7</td>\n      <td>0</td>\n      <td>2010</td>\n    </tr>\n    <tr>\n      <th>4</th>\n      <td>Juju On That Beat (TZ Anthem)</td>\n      <td>Zay Hilfigerrr &amp; Zayion McCall</td>\n      <td>spotify:track:1lItf5ZXJc1by9SbPeljFd</td>\n      <td>0.807</td>\n      <td>0.887</td>\n      <td>1</td>\n      <td>-3.892</td>\n      <td>1</td>\n      <td>0.2750</td>\n      <td>0.00381</td>\n      <td>0.000</td>\n      <td>0.3910</td>\n      <td>0.780</td>\n      <td>160.517</td>\n      <td>144244</td>\n      <td>4</td>\n      <td>24.99199</td>\n      <td>8</td>\n      <td>1</td>\n      <td>2010</td>\n    </tr>\n  </tbody>\n</table>\n</div>"
     },
     "metadata": {}
    }
   ]
  },
  {
   "cell_type": "code",
   "source": "#Custom columns that might be used generally. \ndata[\"duration_sec\"] = np.round(data[\"duration_ms\"]*(1/1000))\ndata[\"duration_sec\"]",
   "metadata": {
    "tags": [],
    "cell_id": "00007-7f6f800f-0d03-491f-80a6-9a34ae3c2f6b",
    "deepnote_to_be_reexecuted": false,
    "source_hash": "1dc20b5c",
    "execution_start": 1634684354735,
    "execution_millis": 1,
    "deepnote_cell_type": "code"
   },
   "outputs": [
    {
     "output_type": "execute_result",
     "execution_count": 6,
     "data": {
      "text/plain": "0       188.0\n1       177.0\n2       205.0\n3       193.0\n4       144.0\n        ...  \n8637     26.0\n8638    143.0\n8639    137.0\n8640    159.0\n8641    164.0\nName: duration_sec, Length: 41106, dtype: float64"
     },
     "metadata": {}
    }
   ],
   "execution_count": 6
  },
  {
   "cell_type": "markdown",
   "source": "#### General statistics\nMeans, medians, modes, standard deviations of each column for both unique decades and the overall dataset\n\nNotes:\n* All values are stored in the dataframe named \"general_stats\"",
   "metadata": {
    "tags": [],
    "cell_id": "00007-3e7a6b03-0458-4b35-90f4-1ceb6040f062",
    "deepnote_cell_type": "markdown"
   }
  },
  {
   "cell_type": "code",
   "metadata": {
    "tags": [],
    "cell_id": "00003-ec07bd30-2dc4-4c41-bc93-823b092c3648",
    "deepnote_to_be_reexecuted": false,
    "source_hash": "420c2243",
    "execution_start": 1634684354749,
    "execution_millis": 233,
    "deepnote_cell_type": "code"
   },
   "source": "# General stats (means, medians, standard deviations, etc) for each column (decades and overall)\n# Sharan\ngeneral_stats = pd.DataFrame()\n\n\n# Some code I accidentally wrote that may help get you started. \nloudness_stats = data.groupby('decade')['loudness'].describe().reset_index()\nloudness_stats\n\nenergy_stats = data.groupby('decade')['energy'].describe().reset_index()\nenergy_stats\n\nspeechiness_stats = data.groupby('decade')['speechiness'].describe().reset_index()\nspeechiness_stats\n\ndanceability_stats = data.groupby('decade')['danceability'].describe().reset_index()\ndanceability_stats\n\nvalence_stats = data.groupby('decade')['valence'].describe().reset_index()\nvalence_stats\n\ntempo_stats = data.groupby('decade')['tempo'].describe().reset_index()\ntempo_stats\n\ninstrumentalness_stats = data.groupby('decade')['instrumentalness'].describe().reset_index()\ninstrumentalness_stats\n\nduration_stats = data.groupby('decade')['duration_ms'].describe().reset_index()\nduration_stats\n",
   "execution_count": 7,
   "outputs": [
    {
     "output_type": "execute_result",
     "execution_count": 7,
     "data": {
      "application/vnd.deepnote.dataframe.v2+json": {
       "row_count": 6,
       "column_count": 9,
       "columns": [
        {
         "name": "decade",
         "dtype": "int64",
         "stats": {
          "unique_count": 6,
          "nan_count": 0,
          "min": "1960",
          "max": "2010",
          "histogram": [
           {
            "bin_start": 1960,
            "bin_end": 1965,
            "count": 1
           },
           {
            "bin_start": 1965,
            "bin_end": 1970,
            "count": 0
           },
           {
            "bin_start": 1970,
            "bin_end": 1975,
            "count": 1
           },
           {
            "bin_start": 1975,
            "bin_end": 1980,
            "count": 0
           },
           {
            "bin_start": 1980,
            "bin_end": 1985,
            "count": 1
           },
           {
            "bin_start": 1985,
            "bin_end": 1990,
            "count": 0
           },
           {
            "bin_start": 1990,
            "bin_end": 1995,
            "count": 1
           },
           {
            "bin_start": 1995,
            "bin_end": 2000,
            "count": 0
           },
           {
            "bin_start": 2000,
            "bin_end": 2005,
            "count": 1
           },
           {
            "bin_start": 2005,
            "bin_end": 2010,
            "count": 1
           }
          ]
         }
        },
        {
         "name": "count",
         "dtype": "float64",
         "stats": {
          "unique_count": 6,
          "nan_count": 0,
          "min": "5520.0",
          "max": "8642.0",
          "histogram": [
           {
            "bin_start": 5520,
            "bin_end": 5832.2,
            "count": 1
           },
           {
            "bin_start": 5832.2,
            "bin_end": 6144.4,
            "count": 1
           },
           {
            "bin_start": 6144.4,
            "bin_end": 6456.6,
            "count": 1
           },
           {
            "bin_start": 6456.6,
            "bin_end": 6768.8,
            "count": 0
           },
           {
            "bin_start": 6768.8,
            "bin_end": 7081,
            "count": 1
           },
           {
            "bin_start": 7081,
            "bin_end": 7393.2,
            "count": 0
           },
           {
            "bin_start": 7393.2,
            "bin_end": 7705.4,
            "count": 0
           },
           {
            "bin_start": 7705.4,
            "bin_end": 8017.6,
            "count": 1
           },
           {
            "bin_start": 8017.6,
            "bin_end": 8329.8,
            "count": 0
           },
           {
            "bin_start": 8329.8,
            "bin_end": 8642,
            "count": 1
           }
          ]
         }
        },
        {
         "name": "mean",
         "dtype": "float64",
         "stats": {
          "unique_count": 6,
          "nan_count": 0,
          "min": "183638.34413330248",
          "max": "258170.62823569484",
          "histogram": [
           {
            "bin_start": 183638.34413330248,
            "bin_end": 191091.57254354173,
            "count": 1
           },
           {
            "bin_start": 191091.57254354173,
            "bin_end": 198544.80095378094,
            "count": 0
           },
           {
            "bin_start": 198544.80095378094,
            "bin_end": 205998.02936402019,
            "count": 0
           },
           {
            "bin_start": 205998.02936402019,
            "bin_end": 213451.25777425943,
            "count": 0
           },
           {
            "bin_start": 213451.25777425943,
            "bin_end": 220904.48618449864,
            "count": 0
           },
           {
            "bin_start": 220904.48618449864,
            "bin_end": 228357.7145947379,
            "count": 0
           },
           {
            "bin_start": 228357.7145947379,
            "bin_end": 235810.94300497713,
            "count": 0
           },
           {
            "bin_start": 235810.94300497713,
            "bin_end": 243264.17141521635,
            "count": 2
           },
           {
            "bin_start": 243264.17141521635,
            "bin_end": 250717.3998254556,
            "count": 0
           },
           {
            "bin_start": 250717.3998254556,
            "bin_end": 258170.62823569484,
            "count": 3
           }
          ]
         }
        },
        {
         "name": "std",
         "dtype": "float64",
         "stats": {
          "unique_count": 6,
          "nan_count": 0,
          "min": "85636.98434334341",
          "max": "144973.62885529513",
          "histogram": [
           {
            "bin_start": 85636.98434334341,
            "bin_end": 91570.64879453859,
            "count": 1
           },
           {
            "bin_start": 91570.64879453859,
            "bin_end": 97504.31324573376,
            "count": 0
           },
           {
            "bin_start": 97504.31324573376,
            "bin_end": 103437.97769692892,
            "count": 1
           },
           {
            "bin_start": 103437.97769692892,
            "bin_end": 109371.6421481241,
            "count": 2
           },
           {
            "bin_start": 109371.6421481241,
            "bin_end": 115305.30659931927,
            "count": 0
           },
           {
            "bin_start": 115305.30659931927,
            "bin_end": 121238.97105051445,
            "count": 0
           },
           {
            "bin_start": 121238.97105051445,
            "bin_end": 127172.63550170962,
            "count": 0
           },
           {
            "bin_start": 127172.63550170962,
            "bin_end": 133106.29995290478,
            "count": 0
           },
           {
            "bin_start": 133106.29995290478,
            "bin_end": 139039.96440409997,
            "count": 0
           },
           {
            "bin_start": 139039.96440409997,
            "bin_end": 144973.62885529513,
            "count": 2
           }
          ]
         }
        },
        {
         "name": "min",
         "dtype": "float64",
         "stats": {
          "unique_count": 6,
          "nan_count": 0,
          "min": "15168.0",
          "max": "29853.0",
          "histogram": [
           {
            "bin_start": 15168,
            "bin_end": 16636.5,
            "count": 2
           },
           {
            "bin_start": 16636.5,
            "bin_end": 18105,
            "count": 0
           },
           {
            "bin_start": 18105,
            "bin_end": 19573.5,
            "count": 1
           },
           {
            "bin_start": 19573.5,
            "bin_end": 21042,
            "count": 1
           },
           {
            "bin_start": 21042,
            "bin_end": 22510.5,
            "count": 0
           },
           {
            "bin_start": 22510.5,
            "bin_end": 23979,
            "count": 0
           },
           {
            "bin_start": 23979,
            "bin_end": 25447.5,
            "count": 0
           },
           {
            "bin_start": 25447.5,
            "bin_end": 26916,
            "count": 0
           },
           {
            "bin_start": 26916,
            "bin_end": 28384.5,
            "count": 0
           },
           {
            "bin_start": 28384.5,
            "bin_end": 29853,
            "count": 2
           }
          ]
         }
        },
        {
         "name": "25%",
         "dtype": "float64",
         "stats": {
          "unique_count": 6,
          "nan_count": 0,
          "min": "141070.25",
          "max": "206813.0",
          "histogram": [
           {
            "bin_start": 141070.25,
            "bin_end": 147644.525,
            "count": 1
           },
           {
            "bin_start": 147644.525,
            "bin_end": 154218.8,
            "count": 0
           },
           {
            "bin_start": 154218.8,
            "bin_end": 160793.075,
            "count": 0
           },
           {
            "bin_start": 160793.075,
            "bin_end": 167367.35,
            "count": 0
           },
           {
            "bin_start": 167367.35,
            "bin_end": 173941.625,
            "count": 1
           },
           {
            "bin_start": 173941.625,
            "bin_end": 180515.9,
            "count": 0
           },
           {
            "bin_start": 180515.9,
            "bin_end": 187090.175,
            "count": 0
           },
           {
            "bin_start": 187090.175,
            "bin_end": 193664.45,
            "count": 1
           },
           {
            "bin_start": 193664.45,
            "bin_end": 200238.725,
            "count": 0
           },
           {
            "bin_start": 200238.725,
            "bin_end": 206813,
            "count": 3
           }
          ]
         }
        },
        {
         "name": "50%",
         "dtype": "float64",
         "stats": {
          "unique_count": 6,
          "nan_count": 0,
          "min": "162746.5",
          "max": "246720.0",
          "histogram": [
           {
            "bin_start": 162746.5,
            "bin_end": 171143.85,
            "count": 1
           },
           {
            "bin_start": 171143.85,
            "bin_end": 179541.2,
            "count": 0
           },
           {
            "bin_start": 179541.2,
            "bin_end": 187938.55,
            "count": 0
           },
           {
            "bin_start": 187938.55,
            "bin_end": 196335.9,
            "count": 0
           },
           {
            "bin_start": 196335.9,
            "bin_end": 204733.25,
            "count": 0
           },
           {
            "bin_start": 204733.25,
            "bin_end": 213130.6,
            "count": 1
           },
           {
            "bin_start": 213130.6,
            "bin_end": 221527.95,
            "count": 1
           },
           {
            "bin_start": 221527.95,
            "bin_end": 229925.3,
            "count": 0
           },
           {
            "bin_start": 229925.3,
            "bin_end": 238322.65000000002,
            "count": 1
           },
           {
            "bin_start": 238322.65000000002,
            "bin_end": 246720,
            "count": 2
           }
          ]
         }
        },
        {
         "name": "75%",
         "dtype": "float64",
         "stats": {
          "unique_count": 6,
          "nan_count": 0,
          "min": "193230.0",
          "max": "289907.0",
          "histogram": [
           {
            "bin_start": 193230,
            "bin_end": 202897.7,
            "count": 1
           },
           {
            "bin_start": 202897.7,
            "bin_end": 212565.4,
            "count": 0
           },
           {
            "bin_start": 212565.4,
            "bin_end": 222233.1,
            "count": 0
           },
           {
            "bin_start": 222233.1,
            "bin_end": 231900.8,
            "count": 0
           },
           {
            "bin_start": 231900.8,
            "bin_end": 241568.5,
            "count": 0
           },
           {
            "bin_start": 241568.5,
            "bin_end": 251236.2,
            "count": 0
           },
           {
            "bin_start": 251236.2,
            "bin_end": 260903.90000000002,
            "count": 1
           },
           {
            "bin_start": 260903.90000000002,
            "bin_end": 270571.6,
            "count": 1
           },
           {
            "bin_start": 270571.6,
            "bin_end": 280239.3,
            "count": 1
           },
           {
            "bin_start": 280239.3,
            "bin_end": 289907,
            "count": 2
           }
          ]
         }
        },
        {
         "name": "max",
         "dtype": "float64",
         "stats": {
          "unique_count": 6,
          "nan_count": 0,
          "min": "1711800.0",
          "max": "4170227.0",
          "histogram": [
           {
            "bin_start": 1711800,
            "bin_end": 1957642.7,
            "count": 2
           },
           {
            "bin_start": 1957642.7,
            "bin_end": 2203485.4,
            "count": 0
           },
           {
            "bin_start": 2203485.4,
            "bin_end": 2449328.1,
            "count": 1
           },
           {
            "bin_start": 2449328.1,
            "bin_end": 2695170.8,
            "count": 1
           },
           {
            "bin_start": 2695170.8,
            "bin_end": 2941013.5,
            "count": 0
           },
           {
            "bin_start": 2941013.5,
            "bin_end": 3186856.2,
            "count": 0
           },
           {
            "bin_start": 3186856.2,
            "bin_end": 3432698.9000000004,
            "count": 1
           },
           {
            "bin_start": 3432698.9000000004,
            "bin_end": 3678541.6,
            "count": 0
           },
           {
            "bin_start": 3678541.6,
            "bin_end": 3924384.3000000003,
            "count": 0
           },
           {
            "bin_start": 3924384.3000000003,
            "bin_end": 4170227,
            "count": 1
           }
          ]
         }
        },
        {
         "name": "_deepnote_index_column",
         "dtype": "int64"
        }
       ],
       "rows_top": [
        {
         "decade": 1960,
         "count": 8642,
         "mean": 183638.34413330248,
         "std": 100574.38537594074,
         "min": 15168,
         "25%": 141070.25,
         "50%": 162746.5,
         "75%": 193230,
         "max": 2516987,
         "_deepnote_index_column": 0
        },
        {
         "decade": 1970,
         "count": 7766,
         "mean": 239933.11640484162,
         "std": 144973.62885529513,
         "min": 20493,
         "25%": 173220,
         "50%": 210813.5,
         "75%": 264973.25,
         "max": 3391040,
         "_deepnote_index_column": 1
        },
        {
         "decade": 1980,
         "count": 6908,
         "mean": 254756.4103937464,
         "std": 107321.3479283254,
         "min": 29514,
         "25%": 204546.75,
         "50%": 241860,
         "75%": 287016.75,
         "max": 2223827,
         "_deepnote_index_column": 2
        },
        {
         "decade": 1990,
         "count": 5520,
         "mean": 256210.99402173914,
         "std": 103439.75582521484,
         "min": 19533,
         "25%": 202753.25,
         "50%": 246720,
         "75%": 289907,
         "max": 1711800,
         "_deepnote_index_column": 3
        },
        {
         "decade": 2000,
         "count": 5872,
         "mean": 258170.62823569484,
         "std": 139534.12120801018,
         "min": 15920,
         "25%": 206813,
         "50%": 238006.5,
         "75%": 279160,
         "max": 4170227,
         "_deepnote_index_column": 4
        },
        {
         "decade": 2010,
         "count": 6398,
         "mean": 236704.2103782432,
         "std": 85636.98434334341,
         "min": 29853,
         "25%": 193206.75,
         "50%": 221246.5,
         "75%": 259316.5,
         "max": 1734201,
         "_deepnote_index_column": 5
        }
       ],
       "rows_bottom": null
      },
      "text/plain": "   decade   count           mean            std      min        25%       50%  \\\n0    1960  8642.0  183638.344133  100574.385376  15168.0  141070.25  162746.5   \n1    1970  7766.0  239933.116405  144973.628855  20493.0  173220.00  210813.5   \n2    1980  6908.0  254756.410394  107321.347928  29514.0  204546.75  241860.0   \n3    1990  5520.0  256210.994022  103439.755825  19533.0  202753.25  246720.0   \n4    2000  5872.0  258170.628236  139534.121208  15920.0  206813.00  238006.5   \n5    2010  6398.0  236704.210378   85636.984343  29853.0  193206.75  221246.5   \n\n         75%        max  \n0  193230.00  2516987.0  \n1  264973.25  3391040.0  \n2  287016.75  2223827.0  \n3  289907.00  1711800.0  \n4  279160.00  4170227.0  \n5  259316.50  1734201.0  ",
      "text/html": "<div>\n<style scoped>\n    .dataframe tbody tr th:only-of-type {\n        vertical-align: middle;\n    }\n\n    .dataframe tbody tr th {\n        vertical-align: top;\n    }\n\n    .dataframe thead th {\n        text-align: right;\n    }\n</style>\n<table border=\"1\" class=\"dataframe\">\n  <thead>\n    <tr style=\"text-align: right;\">\n      <th></th>\n      <th>decade</th>\n      <th>count</th>\n      <th>mean</th>\n      <th>std</th>\n      <th>min</th>\n      <th>25%</th>\n      <th>50%</th>\n      <th>75%</th>\n      <th>max</th>\n    </tr>\n  </thead>\n  <tbody>\n    <tr>\n      <th>0</th>\n      <td>1960</td>\n      <td>8642.0</td>\n      <td>183638.344133</td>\n      <td>100574.385376</td>\n      <td>15168.0</td>\n      <td>141070.25</td>\n      <td>162746.5</td>\n      <td>193230.00</td>\n      <td>2516987.0</td>\n    </tr>\n    <tr>\n      <th>1</th>\n      <td>1970</td>\n      <td>7766.0</td>\n      <td>239933.116405</td>\n      <td>144973.628855</td>\n      <td>20493.0</td>\n      <td>173220.00</td>\n      <td>210813.5</td>\n      <td>264973.25</td>\n      <td>3391040.0</td>\n    </tr>\n    <tr>\n      <th>2</th>\n      <td>1980</td>\n      <td>6908.0</td>\n      <td>254756.410394</td>\n      <td>107321.347928</td>\n      <td>29514.0</td>\n      <td>204546.75</td>\n      <td>241860.0</td>\n      <td>287016.75</td>\n      <td>2223827.0</td>\n    </tr>\n    <tr>\n      <th>3</th>\n      <td>1990</td>\n      <td>5520.0</td>\n      <td>256210.994022</td>\n      <td>103439.755825</td>\n      <td>19533.0</td>\n      <td>202753.25</td>\n      <td>246720.0</td>\n      <td>289907.00</td>\n      <td>1711800.0</td>\n    </tr>\n    <tr>\n      <th>4</th>\n      <td>2000</td>\n      <td>5872.0</td>\n      <td>258170.628236</td>\n      <td>139534.121208</td>\n      <td>15920.0</td>\n      <td>206813.00</td>\n      <td>238006.5</td>\n      <td>279160.00</td>\n      <td>4170227.0</td>\n    </tr>\n    <tr>\n      <th>5</th>\n      <td>2010</td>\n      <td>6398.0</td>\n      <td>236704.210378</td>\n      <td>85636.984343</td>\n      <td>29853.0</td>\n      <td>193206.75</td>\n      <td>221246.5</td>\n      <td>259316.50</td>\n      <td>1734201.0</td>\n    </tr>\n  </tbody>\n</table>\n</div>"
     },
     "metadata": {}
    }
   ]
  },
  {
   "cell_type": "code",
   "metadata": {
    "tags": [],
    "cell_id": "00004-df540f10-de88-459d-850f-35d471ae55bc",
    "deepnote_to_be_reexecuted": false,
    "source_hash": "a2bb7666",
    "execution_start": 1634684354985,
    "execution_millis": 1826140,
    "deepnote_cell_type": "code"
   },
   "source": "# Add plots with data from basic analysis of data (decades and overall)\n# Delaney",
   "execution_count": 8,
   "outputs": []
  },
  {
   "cell_type": "markdown",
   "source": "#### Decade by decade statistical analysis\nAnalysis of relationships between each column and 'hits' vs 'flops' for each decade\n\nNotes:\n* Results are stored in dataframe named \"decade_by_decade\"",
   "metadata": {
    "tags": [],
    "cell_id": "00010-5199f66c-65ea-4f0b-9e24-1c8c0a8c29bc",
    "deepnote_cell_type": "markdown"
   }
  },
  {
   "cell_type": "code",
   "metadata": {
    "tags": [],
    "cell_id": "00004-c081f2e0-16b8-42ac-bab6-6905b91f7f75",
    "deepnote_to_be_reexecuted": false,
    "source_hash": "94b5e405",
    "execution_start": 1634684354993,
    "execution_millis": 3,
    "deepnote_cell_type": "code"
   },
   "source": "# Decade by decade stat analysis (relationships between each decade and each column)\n# Cameron\ndecade_by_decade = pd.DataFrame()",
   "execution_count": 9,
   "outputs": []
  },
  {
   "cell_type": "code",
   "metadata": {
    "tags": [],
    "cell_id": "00008-d0686068-ca35-43c7-ba0e-9716ebdd5c5d",
    "deepnote_to_be_reexecuted": false,
    "source_hash": "ecf877d5",
    "execution_start": 1634684355003,
    "execution_millis": 1826110,
    "deepnote_cell_type": "code"
   },
   "source": "# Add plots with data from decade by decade stat analysis\n# Cameron",
   "execution_count": 10,
   "outputs": []
  },
  {
   "cell_type": "markdown",
   "source": "#### Cumulative statistical analysis\nAnalysis of relationships between each column and 'hits' vs 'flops' for all decades overall\n\nNotes:\n* Results are stored in dataframe named \"overall_stats\"",
   "metadata": {
    "tags": [],
    "cell_id": "00013-8e1004fc-0b05-4909-ae0d-c65e947062bb",
    "deepnote_cell_type": "markdown"
   }
  },
  {
   "cell_type": "markdown",
   "source": "#### Overall stat analysis (relationships between cumulative decades and each column) - data\n##### Joey Scarpa\n",
   "metadata": {
    "tags": [],
    "cell_id": "00015-78e595cf-5501-478d-a8cd-d9eb6a7c3311",
    "deepnote_cell_type": "markdown"
   }
  },
  {
   "cell_type": "code",
   "metadata": {
    "tags": [],
    "cell_id": "00005-5c61ce3a-1fd1-4bf9-832c-187ac5aac657",
    "deepnote_to_be_reexecuted": false,
    "source_hash": "be34b0d0",
    "execution_start": 1634684355013,
    "execution_millis": 104,
    "is_code_hidden": false,
    "is_output_hidden": true,
    "deepnote_cell_type": "code"
   },
   "source": "# Target proportion versus duration in seconds. \nbin_max = data[\"duration_sec\"].max()\nprint(bin_max)\ni = 1\nbin_arr = []\nwhile i * 10 < bin_max+10:\n    bin_arr.append(i*10)\n    i+=1\nprint(bin_arr)\nbins = pd.cut(data['duration_sec'], bin_arr )\ntarget_prop_by_duration = data.groupby(bins)['target'].agg([\"mean\", \"count\"]).reset_index().dropna()\n#target_prop_by_duration\n\ntarget_prop_by_duration_sliced = target_prop_by_duration[:82]\ntarget_prop_by_duration_sliced.insert(0, 'ds_int', range(1, 1+ len(target_prop_by_duration_sliced)))\ntarget_prop_by_duration_sliced[\"ds_int\"] = target_prop_by_duration_sliced[\"ds_int\"] *10\ntarget_prop_by_duration_sliced",
   "execution_count": 11,
   "outputs": [
    {
     "name": "stdout",
     "text": "4170.0\n[10, 20, 30, 40, 50, 60, 70, 80, 90, 100, 110, 120, 130, 140, 150, 160, 170, 180, 190, 200, 210, 220, 230, 240, 250, 260, 270, 280, 290, 300, 310, 320, 330, 340, 350, 360, 370, 380, 390, 400, 410, 420, 430, 440, 450, 460, 470, 480, 490, 500, 510, 520, 530, 540, 550, 560, 570, 580, 590, 600, 610, 620, 630, 640, 650, 660, 670, 680, 690, 700, 710, 720, 730, 740, 750, 760, 770, 780, 790, 800, 810, 820, 830, 840, 850, 860, 870, 880, 890, 900, 910, 920, 930, 940, 950, 960, 970, 980, 990, 1000, 1010, 1020, 1030, 1040, 1050, 1060, 1070, 1080, 1090, 1100, 1110, 1120, 1130, 1140, 1150, 1160, 1170, 1180, 1190, 1200, 1210, 1220, 1230, 1240, 1250, 1260, 1270, 1280, 1290, 1300, 1310, 1320, 1330, 1340, 1350, 1360, 1370, 1380, 1390, 1400, 1410, 1420, 1430, 1440, 1450, 1460, 1470, 1480, 1490, 1500, 1510, 1520, 1530, 1540, 1550, 1560, 1570, 1580, 1590, 1600, 1610, 1620, 1630, 1640, 1650, 1660, 1670, 1680, 1690, 1700, 1710, 1720, 1730, 1740, 1750, 1760, 1770, 1780, 1790, 1800, 1810, 1820, 1830, 1840, 1850, 1860, 1870, 1880, 1890, 1900, 1910, 1920, 1930, 1940, 1950, 1960, 1970, 1980, 1990, 2000, 2010, 2020, 2030, 2040, 2050, 2060, 2070, 2080, 2090, 2100, 2110, 2120, 2130, 2140, 2150, 2160, 2170, 2180, 2190, 2200, 2210, 2220, 2230, 2240, 2250, 2260, 2270, 2280, 2290, 2300, 2310, 2320, 2330, 2340, 2350, 2360, 2370, 2380, 2390, 2400, 2410, 2420, 2430, 2440, 2450, 2460, 2470, 2480, 2490, 2500, 2510, 2520, 2530, 2540, 2550, 2560, 2570, 2580, 2590, 2600, 2610, 2620, 2630, 2640, 2650, 2660, 2670, 2680, 2690, 2700, 2710, 2720, 2730, 2740, 2750, 2760, 2770, 2780, 2790, 2800, 2810, 2820, 2830, 2840, 2850, 2860, 2870, 2880, 2890, 2900, 2910, 2920, 2930, 2940, 2950, 2960, 2970, 2980, 2990, 3000, 3010, 3020, 3030, 3040, 3050, 3060, 3070, 3080, 3090, 3100, 3110, 3120, 3130, 3140, 3150, 3160, 3170, 3180, 3190, 3200, 3210, 3220, 3230, 3240, 3250, 3260, 3270, 3280, 3290, 3300, 3310, 3320, 3330, 3340, 3350, 3360, 3370, 3380, 3390, 3400, 3410, 3420, 3430, 3440, 3450, 3460, 3470, 3480, 3490, 3500, 3510, 3520, 3530, 3540, 3550, 3560, 3570, 3580, 3590, 3600, 3610, 3620, 3630, 3640, 3650, 3660, 3670, 3680, 3690, 3700, 3710, 3720, 3730, 3740, 3750, 3760, 3770, 3780, 3790, 3800, 3810, 3820, 3830, 3840, 3850, 3860, 3870, 3880, 3890, 3900, 3910, 3920, 3930, 3940, 3950, 3960, 3970, 3980, 3990, 4000, 4010, 4020, 4030, 4040, 4050, 4060, 4070, 4080, 4090, 4100, 4110, 4120, 4130, 4140, 4150, 4160, 4170]\n/shared-libs/python3.7/py-core/lib/python3.7/site-packages/ipykernel_launcher.py:16: SettingWithCopyWarning: \nA value is trying to be set on a copy of a slice from a DataFrame.\nTry using .loc[row_indexer,col_indexer] = value instead\n\nSee the caveats in the documentation: https://pandas.pydata.org/pandas-docs/stable/user_guide/indexing.html#returning-a-view-versus-a-copy\n  app.launch_new_instance()\n",
     "output_type": "stream"
    },
    {
     "output_type": "execute_result",
     "execution_count": 11,
     "data": {
      "application/vnd.deepnote.dataframe.v2+json": {
       "row_count": 82,
       "column_count": 4,
       "columns": [
        {
         "name": "ds_int",
         "dtype": "int64",
         "stats": {
          "unique_count": 82,
          "nan_count": 0,
          "min": "10",
          "max": "820",
          "histogram": [
           {
            "bin_start": 10,
            "bin_end": 91,
            "count": 9
           },
           {
            "bin_start": 91,
            "bin_end": 172,
            "count": 8
           },
           {
            "bin_start": 172,
            "bin_end": 253,
            "count": 8
           },
           {
            "bin_start": 253,
            "bin_end": 334,
            "count": 8
           },
           {
            "bin_start": 334,
            "bin_end": 415,
            "count": 8
           },
           {
            "bin_start": 415,
            "bin_end": 496,
            "count": 8
           },
           {
            "bin_start": 496,
            "bin_end": 577,
            "count": 8
           },
           {
            "bin_start": 577,
            "bin_end": 658,
            "count": 8
           },
           {
            "bin_start": 658,
            "bin_end": 739,
            "count": 8
           },
           {
            "bin_start": 739,
            "bin_end": 820,
            "count": 9
           }
          ]
         }
        },
        {
         "name": "duration_sec",
         "dtype": "category",
         "stats": {
          "unique_count": 82,
          "nan_count": 0,
          "categories": [
           {
            "name": "(10, 20]",
            "count": 1
           },
           {
            "name": "(20, 30]",
            "count": 1
           },
           {
            "name": "80 others",
            "count": 80
           }
          ]
         }
        },
        {
         "name": "mean",
         "dtype": "float64",
         "stats": {
          "unique_count": 65,
          "nan_count": 0,
          "min": "0.0",
          "max": "0.6476480836236934",
          "histogram": [
           {
            "bin_start": 0,
            "bin_end": 0.06476480836236934,
            "count": 25
           },
           {
            "bin_start": 0.06476480836236934,
            "bin_end": 0.12952961672473867,
            "count": 11
           },
           {
            "bin_start": 0.12952961672473867,
            "bin_end": 0.194294425087108,
            "count": 9
           },
           {
            "bin_start": 0.194294425087108,
            "bin_end": 0.25905923344947734,
            "count": 6
           },
           {
            "bin_start": 0.25905923344947734,
            "bin_end": 0.32382404181184665,
            "count": 7
           },
           {
            "bin_start": 0.32382404181184665,
            "bin_end": 0.388588850174216,
            "count": 2
           },
           {
            "bin_start": 0.388588850174216,
            "bin_end": 0.4533536585365854,
            "count": 4
           },
           {
            "bin_start": 0.4533536585365854,
            "bin_end": 0.5181184668989547,
            "count": 4
           },
           {
            "bin_start": 0.5181184668989547,
            "bin_end": 0.582883275261324,
            "count": 7
           },
           {
            "bin_start": 0.582883275261324,
            "bin_end": 0.6476480836236934,
            "count": 7
           }
          ]
         }
        },
        {
         "name": "count",
         "dtype": "int64",
         "stats": {
          "unique_count": 70,
          "nan_count": 0,
          "min": "3",
          "max": "2607",
          "histogram": [
           {
            "bin_start": 3,
            "bin_end": 263.4,
            "count": 54
           },
           {
            "bin_start": 263.4,
            "bin_end": 523.8,
            "count": 6
           },
           {
            "bin_start": 523.8,
            "bin_end": 784.1999999999999,
            "count": 4
           },
           {
            "bin_start": 784.1999999999999,
            "bin_end": 1044.6,
            "count": 2
           },
           {
            "bin_start": 1044.6,
            "bin_end": 1305,
            "count": 2
           },
           {
            "bin_start": 1305,
            "bin_end": 1565.3999999999999,
            "count": 2
           },
           {
            "bin_start": 1565.3999999999999,
            "bin_end": 1825.7999999999997,
            "count": 1
           },
           {
            "bin_start": 1825.7999999999997,
            "bin_end": 2086.2,
            "count": 4
           },
           {
            "bin_start": 2086.2,
            "bin_end": 2346.6,
            "count": 4
           },
           {
            "bin_start": 2346.6,
            "bin_end": 2607,
            "count": 3
           }
          ]
         }
        },
        {
         "name": "_deepnote_index_column",
         "dtype": "int64"
        }
       ],
       "rows_top": [
        {
         "ds_int": 10,
         "duration_sec": "(10, 20]",
         "mean": 0,
         "count": 5,
         "_deepnote_index_column": 0
        },
        {
         "ds_int": 20,
         "duration_sec": "(20, 30]",
         "mean": 0,
         "count": 30,
         "_deepnote_index_column": 1
        },
        {
         "ds_int": 30,
         "duration_sec": "(30, 40]",
         "mean": 0,
         "count": 63,
         "_deepnote_index_column": 2
        },
        {
         "ds_int": 40,
         "duration_sec": "(40, 50]",
         "mean": 0.0125,
         "count": 80,
         "_deepnote_index_column": 3
        },
        {
         "ds_int": 50,
         "duration_sec": "(50, 60]",
         "mean": 0.008849557522123894,
         "count": 113,
         "_deepnote_index_column": 4
        },
        {
         "ds_int": 60,
         "duration_sec": "(60, 70]",
         "mean": 0.006493506493506494,
         "count": 154,
         "_deepnote_index_column": 5
        },
        {
         "ds_int": 70,
         "duration_sec": "(70, 80]",
         "mean": 0.025510204081632654,
         "count": 196,
         "_deepnote_index_column": 6
        },
        {
         "ds_int": 80,
         "duration_sec": "(80, 90]",
         "mean": 0.02702702702702703,
         "count": 222,
         "_deepnote_index_column": 7
        },
        {
         "ds_int": 90,
         "duration_sec": "(90, 100]",
         "mean": 0.05319148936170213,
         "count": 282,
         "_deepnote_index_column": 8
        },
        {
         "ds_int": 100,
         "duration_sec": "(100, 110]",
         "mean": 0.1111111111111111,
         "count": 360,
         "_deepnote_index_column": 9
        },
        {
         "ds_int": 110,
         "duration_sec": "(110, 120]",
         "mean": 0.29120879120879123,
         "count": 546,
         "_deepnote_index_column": 10
        },
        {
         "ds_int": 120,
         "duration_sec": "(120, 130]",
         "mean": 0.40408626560726446,
         "count": 881,
         "_deepnote_index_column": 11
        },
        {
         "ds_int": 130,
         "duration_sec": "(130, 140]",
         "mean": 0.44086886564762673,
         "count": 1243,
         "_deepnote_index_column": 12
        },
        {
         "ds_int": 140,
         "duration_sec": "(140, 150]",
         "mean": 0.4842689697717458,
         "count": 1621,
         "_deepnote_index_column": 13
        },
        {
         "ds_int": 150,
         "duration_sec": "(150, 160]",
         "mean": 0.49949031600407745,
         "count": 1962,
         "_deepnote_index_column": 14
        },
        {
         "ds_int": 160,
         "duration_sec": "(160, 170]",
         "mean": 0.5,
         "count": 2032,
         "_deepnote_index_column": 15
        },
        {
         "ds_int": 170,
         "duration_sec": "(170, 180]",
         "mean": 0.5206847360912982,
         "count": 2103,
         "_deepnote_index_column": 16
        },
        {
         "ds_int": 180,
         "duration_sec": "(180, 190]",
         "mean": 0.5194264569842738,
         "count": 2162,
         "_deepnote_index_column": 17
        },
        {
         "ds_int": 190,
         "duration_sec": "(190, 200]",
         "mean": 0.5502283105022832,
         "count": 2190,
         "_deepnote_index_column": 18
        },
        {
         "ds_int": 200,
         "duration_sec": "(200, 210]",
         "mean": 0.583616298811545,
         "count": 2356,
         "_deepnote_index_column": 19
        },
        {
         "ds_int": 210,
         "duration_sec": "(210, 220]",
         "mean": 0.6033755274261603,
         "count": 2607,
         "_deepnote_index_column": 20
        },
        {
         "ds_int": 220,
         "duration_sec": "(220, 230]",
         "mean": 0.619381443298969,
         "count": 2425,
         "_deepnote_index_column": 21
        },
        {
         "ds_int": 230,
         "duration_sec": "(230, 240]",
         "mean": 0.6476480836236934,
         "count": 2296,
         "_deepnote_index_column": 22
        },
        {
         "ds_int": 240,
         "duration_sec": "(240, 250]",
         "mean": 0.6264478764478765,
         "count": 2072,
         "_deepnote_index_column": 23
        },
        {
         "ds_int": 250,
         "duration_sec": "(250, 260]",
         "mean": 0.603476371537208,
         "count": 1841,
         "_deepnote_index_column": 24
        },
        {
         "ds_int": 260,
         "duration_sec": "(260, 270]",
         "mean": 0.5863213811420983,
         "count": 1506,
         "_deepnote_index_column": 25
        },
        {
         "ds_int": 270,
         "duration_sec": "(270, 280]",
         "mean": 0.5763993948562783,
         "count": 1322,
         "_deepnote_index_column": 26
        },
        {
         "ds_int": 280,
         "duration_sec": "(280, 290]",
         "mean": 0.5499139414802066,
         "count": 1162,
         "_deepnote_index_column": 27
        },
        {
         "ds_int": 290,
         "duration_sec": "(290, 300]",
         "mean": 0.5455497382198953,
         "count": 955,
         "_deepnote_index_column": 28
        },
        {
         "ds_int": 300,
         "duration_sec": "(300, 310]",
         "mean": 0.5227568270481144,
         "count": 769,
         "_deepnote_index_column": 29
        },
        {
         "ds_int": 310,
         "duration_sec": "(310, 320]",
         "mean": 0.4896449704142012,
         "count": 676,
         "_deepnote_index_column": 30
        },
        {
         "ds_int": 320,
         "duration_sec": "(320, 330]",
         "mean": 0.4211469534050179,
         "count": 558,
         "_deepnote_index_column": 31
        },
        {
         "ds_int": 330,
         "duration_sec": "(330, 340]",
         "mean": 0.415506958250497,
         "count": 503,
         "_deepnote_index_column": 32
        },
        {
         "ds_int": 340,
         "duration_sec": "(340, 350]",
         "mean": 0.351288056206089,
         "count": 427,
         "_deepnote_index_column": 33
        },
        {
         "ds_int": 350,
         "duration_sec": "(350, 360]",
         "mean": 0.3560830860534125,
         "count": 337,
         "_deepnote_index_column": 34
        },
        {
         "ds_int": 360,
         "duration_sec": "(360, 370]",
         "mean": 0.2962962962962963,
         "count": 270,
         "_deepnote_index_column": 35
        },
        {
         "ds_int": 370,
         "duration_sec": "(370, 380]",
         "mean": 0.3172690763052209,
         "count": 249,
         "_deepnote_index_column": 36
        },
        {
         "ds_int": 380,
         "duration_sec": "(380, 390]",
         "mean": 0.30042918454935624,
         "count": 233,
         "_deepnote_index_column": 37
        },
        {
         "ds_int": 390,
         "duration_sec": "(390, 400]",
         "mean": 0.27102803738317754,
         "count": 214,
         "_deepnote_index_column": 38
        },
        {
         "ds_int": 400,
         "duration_sec": "(400, 410]",
         "mean": 0.24736842105263157,
         "count": 190,
         "_deepnote_index_column": 39
        },
        {
         "ds_int": 410,
         "duration_sec": "(410, 420]",
         "mean": 0.17857142857142858,
         "count": 168,
         "_deepnote_index_column": 40
        },
        {
         "ds_int": 420,
         "duration_sec": "(420, 430]",
         "mean": 0.1875,
         "count": 160,
         "_deepnote_index_column": 41
        },
        {
         "ds_int": 430,
         "duration_sec": "(430, 440]",
         "mean": 0.27692307692307694,
         "count": 130,
         "_deepnote_index_column": 42
        },
        {
         "ds_int": 440,
         "duration_sec": "(440, 450]",
         "mean": 0.17647058823529413,
         "count": 136,
         "_deepnote_index_column": 43
        },
        {
         "ds_int": 450,
         "duration_sec": "(450, 460]",
         "mean": 0.2903225806451613,
         "count": 93,
         "_deepnote_index_column": 44
        },
        {
         "ds_int": 460,
         "duration_sec": "(460, 470]",
         "mean": 0.16666666666666666,
         "count": 96,
         "_deepnote_index_column": 45
        },
        {
         "ds_int": 470,
         "duration_sec": "(470, 480]",
         "mean": 0.16176470588235295,
         "count": 68,
         "_deepnote_index_column": 46
        },
        {
         "ds_int": 480,
         "duration_sec": "(480, 490]",
         "mean": 0.17073170731707318,
         "count": 82,
         "_deepnote_index_column": 47
        },
        {
         "ds_int": 490,
         "duration_sec": "(490, 500]",
         "mean": 0.17142857142857143,
         "count": 70,
         "_deepnote_index_column": 48
        },
        {
         "ds_int": 500,
         "duration_sec": "(500, 510]",
         "mean": 0.22916666666666666,
         "count": 48,
         "_deepnote_index_column": 49
        },
        {
         "ds_int": 510,
         "duration_sec": "(510, 520]",
         "mean": 0.14285714285714285,
         "count": 42,
         "_deepnote_index_column": 50
        },
        {
         "ds_int": 520,
         "duration_sec": "(520, 530]",
         "mean": 0.2,
         "count": 50,
         "_deepnote_index_column": 51
        },
        {
         "ds_int": 530,
         "duration_sec": "(530, 540]",
         "mean": 0.1956521739130435,
         "count": 46,
         "_deepnote_index_column": 52
        },
        {
         "ds_int": 540,
         "duration_sec": "(540, 550]",
         "mean": 0.09523809523809523,
         "count": 42,
         "_deepnote_index_column": 53
        },
        {
         "ds_int": 550,
         "duration_sec": "(550, 560]",
         "mean": 0.15625,
         "count": 32,
         "_deepnote_index_column": 54
        },
        {
         "ds_int": 560,
         "duration_sec": "(560, 570]",
         "mean": 0.1,
         "count": 30,
         "_deepnote_index_column": 55
        },
        {
         "ds_int": 570,
         "duration_sec": "(570, 580]",
         "mean": 0.045454545454545456,
         "count": 22,
         "_deepnote_index_column": 56
        },
        {
         "ds_int": 580,
         "duration_sec": "(580, 590]",
         "mean": 0.10526315789473684,
         "count": 38,
         "_deepnote_index_column": 57
        },
        {
         "ds_int": 590,
         "duration_sec": "(590, 600]",
         "mean": 0.1111111111111111,
         "count": 36,
         "_deepnote_index_column": 58
        },
        {
         "ds_int": 600,
         "duration_sec": "(600, 610]",
         "mean": 0,
         "count": 25,
         "_deepnote_index_column": 59
        },
        {
         "ds_int": 610,
         "duration_sec": "(610, 620]",
         "mean": 0.12903225806451613,
         "count": 31,
         "_deepnote_index_column": 60
        },
        {
         "ds_int": 620,
         "duration_sec": "(620, 630]",
         "mean": 0.07692307692307693,
         "count": 26,
         "_deepnote_index_column": 61
        },
        {
         "ds_int": 630,
         "duration_sec": "(630, 640]",
         "mean": 0.043478260869565216,
         "count": 23,
         "_deepnote_index_column": 62
        },
        {
         "ds_int": 640,
         "duration_sec": "(640, 650]",
         "mean": 0.09523809523809523,
         "count": 21,
         "_deepnote_index_column": 63
        },
        {
         "ds_int": 650,
         "duration_sec": "(650, 660]",
         "mean": 0.058823529411764705,
         "count": 17,
         "_deepnote_index_column": 64
        },
        {
         "ds_int": 660,
         "duration_sec": "(660, 670]",
         "mean": 0.23529411764705882,
         "count": 17,
         "_deepnote_index_column": 65
        },
        {
         "ds_int": 670,
         "duration_sec": "(670, 680]",
         "mean": 0.2222222222222222,
         "count": 9,
         "_deepnote_index_column": 66
        },
        {
         "ds_int": 680,
         "duration_sec": "(680, 690]",
         "mean": 0.09090909090909091,
         "count": 11,
         "_deepnote_index_column": 67
        },
        {
         "ds_int": 690,
         "duration_sec": "(690, 700]",
         "mean": 0,
         "count": 12,
         "_deepnote_index_column": 68
        },
        {
         "ds_int": 700,
         "duration_sec": "(700, 710]",
         "mean": 0,
         "count": 22,
         "_deepnote_index_column": 69
        },
        {
         "ds_int": 710,
         "duration_sec": "(710, 720]",
         "mean": 0,
         "count": 5,
         "_deepnote_index_column": 70
        },
        {
         "ds_int": 720,
         "duration_sec": "(720, 730]",
         "mean": 0,
         "count": 13,
         "_deepnote_index_column": 71
        },
        {
         "ds_int": 730,
         "duration_sec": "(730, 740]",
         "mean": 0.09090909090909091,
         "count": 11,
         "_deepnote_index_column": 72
        },
        {
         "ds_int": 740,
         "duration_sec": "(740, 750]",
         "mean": 0.0625,
         "count": 16,
         "_deepnote_index_column": 73
        },
        {
         "ds_int": 750,
         "duration_sec": "(750, 760]",
         "mean": 0,
         "count": 7,
         "_deepnote_index_column": 74
        },
        {
         "ds_int": 760,
         "duration_sec": "(760, 770]",
         "mean": 0,
         "count": 9,
         "_deepnote_index_column": 75
        },
        {
         "ds_int": 770,
         "duration_sec": "(770, 780]",
         "mean": 0,
         "count": 3,
         "_deepnote_index_column": 76
        },
        {
         "ds_int": 780,
         "duration_sec": "(780, 790]",
         "mean": 0,
         "count": 7,
         "_deepnote_index_column": 77
        },
        {
         "ds_int": 790,
         "duration_sec": "(790, 800]",
         "mean": 0,
         "count": 5,
         "_deepnote_index_column": 78
        },
        {
         "ds_int": 800,
         "duration_sec": "(800, 810]",
         "mean": 0,
         "count": 3,
         "_deepnote_index_column": 79
        },
        {
         "ds_int": 810,
         "duration_sec": "(810, 820]",
         "mean": 0,
         "count": 7,
         "_deepnote_index_column": 80
        },
        {
         "ds_int": 820,
         "duration_sec": "(820, 830]",
         "mean": 0.08333333333333333,
         "count": 12,
         "_deepnote_index_column": 81
        }
       ],
       "rows_bottom": null
      },
      "text/plain": "    ds_int duration_sec      mean  count\n0       10     (10, 20]  0.000000      5\n1       20     (20, 30]  0.000000     30\n2       30     (30, 40]  0.000000     63\n3       40     (40, 50]  0.012500     80\n4       50     (50, 60]  0.008850    113\n..     ...          ...       ...    ...\n77     780   (780, 790]  0.000000      7\n78     790   (790, 800]  0.000000      5\n79     800   (800, 810]  0.000000      3\n80     810   (810, 820]  0.000000      7\n81     820   (820, 830]  0.083333     12\n\n[82 rows x 4 columns]",
      "text/html": "<div>\n<style scoped>\n    .dataframe tbody tr th:only-of-type {\n        vertical-align: middle;\n    }\n\n    .dataframe tbody tr th {\n        vertical-align: top;\n    }\n\n    .dataframe thead th {\n        text-align: right;\n    }\n</style>\n<table border=\"1\" class=\"dataframe\">\n  <thead>\n    <tr style=\"text-align: right;\">\n      <th></th>\n      <th>ds_int</th>\n      <th>duration_sec</th>\n      <th>mean</th>\n      <th>count</th>\n    </tr>\n  </thead>\n  <tbody>\n    <tr>\n      <th>0</th>\n      <td>10</td>\n      <td>(10, 20]</td>\n      <td>0.000000</td>\n      <td>5</td>\n    </tr>\n    <tr>\n      <th>1</th>\n      <td>20</td>\n      <td>(20, 30]</td>\n      <td>0.000000</td>\n      <td>30</td>\n    </tr>\n    <tr>\n      <th>2</th>\n      <td>30</td>\n      <td>(30, 40]</td>\n      <td>0.000000</td>\n      <td>63</td>\n    </tr>\n    <tr>\n      <th>3</th>\n      <td>40</td>\n      <td>(40, 50]</td>\n      <td>0.012500</td>\n      <td>80</td>\n    </tr>\n    <tr>\n      <th>4</th>\n      <td>50</td>\n      <td>(50, 60]</td>\n      <td>0.008850</td>\n      <td>113</td>\n    </tr>\n    <tr>\n      <th>...</th>\n      <td>...</td>\n      <td>...</td>\n      <td>...</td>\n      <td>...</td>\n    </tr>\n    <tr>\n      <th>77</th>\n      <td>780</td>\n      <td>(780, 790]</td>\n      <td>0.000000</td>\n      <td>7</td>\n    </tr>\n    <tr>\n      <th>78</th>\n      <td>790</td>\n      <td>(790, 800]</td>\n      <td>0.000000</td>\n      <td>5</td>\n    </tr>\n    <tr>\n      <th>79</th>\n      <td>800</td>\n      <td>(800, 810]</td>\n      <td>0.000000</td>\n      <td>3</td>\n    </tr>\n    <tr>\n      <th>80</th>\n      <td>810</td>\n      <td>(810, 820]</td>\n      <td>0.000000</td>\n      <td>7</td>\n    </tr>\n    <tr>\n      <th>81</th>\n      <td>820</td>\n      <td>(820, 830]</td>\n      <td>0.083333</td>\n      <td>12</td>\n    </tr>\n  </tbody>\n</table>\n<p>82 rows × 4 columns</p>\n</div>"
     },
     "metadata": {}
    }
   ]
  },
  {
   "cell_type": "code",
   "metadata": {
    "tags": [],
    "cell_id": "00017-0f84fb60-5276-4ad7-a25f-3e70a5a9e28c",
    "deepnote_to_be_reexecuted": false,
    "source_hash": "8f8a69e2",
    "is_code_hidden": false,
    "is_output_hidden": false,
    "allow_embed": false,
    "execution_start": 1634685181760,
    "execution_millis": 84,
    "deepnote_cell_type": "code"
   },
   "source": "i = 0\nbin_arr_energy = []\nwhile i <= 100:\n    bin_arr_energy.append(i/100)\n    i+=1\nprint(bin_arr_energy)\nbins_energy = pd.cut(data['energy'], bin_arr_energy)\ntarget_prop_by_energy = data.groupby(bins_energy)['target'].agg([\"mean\", \"count\"]).reset_index().dropna()\n#target_prop_by_energy = target_prop_by_energy.loc[target_prop_by_energy['count'] > 10]\ntarget_prop_by_energy.insert(0, 'en_int', range(0, 100))\ntarget_prop_by_energy[\"en_int\"] = target_prop_by_energy[\"en_int\"] / 100\ntarget_prop_by_energy\n\n",
   "execution_count": 23,
   "outputs": [
    {
     "name": "stdout",
     "text": "[0.0, 0.01, 0.02, 0.03, 0.04, 0.05, 0.06, 0.07, 0.08, 0.09, 0.1, 0.11, 0.12, 0.13, 0.14, 0.15, 0.16, 0.17, 0.18, 0.19, 0.2, 0.21, 0.22, 0.23, 0.24, 0.25, 0.26, 0.27, 0.28, 0.29, 0.3, 0.31, 0.32, 0.33, 0.34, 0.35, 0.36, 0.37, 0.38, 0.39, 0.4, 0.41, 0.42, 0.43, 0.44, 0.45, 0.46, 0.47, 0.48, 0.49, 0.5, 0.51, 0.52, 0.53, 0.54, 0.55, 0.56, 0.57, 0.58, 0.59, 0.6, 0.61, 0.62, 0.63, 0.64, 0.65, 0.66, 0.67, 0.68, 0.69, 0.7, 0.71, 0.72, 0.73, 0.74, 0.75, 0.76, 0.77, 0.78, 0.79, 0.8, 0.81, 0.82, 0.83, 0.84, 0.85, 0.86, 0.87, 0.88, 0.89, 0.9, 0.91, 0.92, 0.93, 0.94, 0.95, 0.96, 0.97, 0.98, 0.99, 1.0]\n",
     "output_type": "stream"
    },
    {
     "output_type": "execute_result",
     "execution_count": 23,
     "data": {
      "application/vnd.deepnote.dataframe.v2+json": {
       "row_count": 100,
       "column_count": 4,
       "columns": [
        {
         "name": "en_int",
         "dtype": "float64",
         "stats": {
          "unique_count": 100,
          "nan_count": 0,
          "min": "0.0",
          "max": "0.99",
          "histogram": [
           {
            "bin_start": 0,
            "bin_end": 0.099,
            "count": 10
           },
           {
            "bin_start": 0.099,
            "bin_end": 0.198,
            "count": 10
           },
           {
            "bin_start": 0.198,
            "bin_end": 0.29700000000000004,
            "count": 10
           },
           {
            "bin_start": 0.29700000000000004,
            "bin_end": 0.396,
            "count": 10
           },
           {
            "bin_start": 0.396,
            "bin_end": 0.495,
            "count": 10
           },
           {
            "bin_start": 0.495,
            "bin_end": 0.5940000000000001,
            "count": 10
           },
           {
            "bin_start": 0.5940000000000001,
            "bin_end": 0.6930000000000001,
            "count": 10
           },
           {
            "bin_start": 0.6930000000000001,
            "bin_end": 0.792,
            "count": 10
           },
           {
            "bin_start": 0.792,
            "bin_end": 0.891,
            "count": 10
           },
           {
            "bin_start": 0.891,
            "bin_end": 0.99,
            "count": 10
           }
          ]
         }
        },
        {
         "name": "energy",
         "dtype": "category",
         "stats": {
          "unique_count": 100,
          "nan_count": 0,
          "categories": [
           {
            "name": "(0.0, 0.01]",
            "count": 1
           },
           {
            "name": "(0.01, 0.02]",
            "count": 1
           },
           {
            "name": "98 others",
            "count": 98
           }
          ]
         }
        },
        {
         "name": "mean",
         "dtype": "float64",
         "stats": {
          "unique_count": 100,
          "nan_count": 0,
          "min": "0.0",
          "max": "0.7",
          "histogram": [
           {
            "bin_start": 0,
            "bin_end": 0.06999999999999999,
            "count": 8
           },
           {
            "bin_start": 0.06999999999999999,
            "bin_end": 0.13999999999999999,
            "count": 7
           },
           {
            "bin_start": 0.13999999999999999,
            "bin_end": 0.20999999999999996,
            "count": 5
           },
           {
            "bin_start": 0.20999999999999996,
            "bin_end": 0.27999999999999997,
            "count": 8
           },
           {
            "bin_start": 0.27999999999999997,
            "bin_end": 0.35,
            "count": 4
           },
           {
            "bin_start": 0.35,
            "bin_end": 0.41999999999999993,
            "count": 7
           },
           {
            "bin_start": 0.41999999999999993,
            "bin_end": 0.48999999999999994,
            "count": 10
           },
           {
            "bin_start": 0.48999999999999994,
            "bin_end": 0.5599999999999999,
            "count": 8
           },
           {
            "bin_start": 0.5599999999999999,
            "bin_end": 0.6299999999999999,
            "count": 25
           },
           {
            "bin_start": 0.6299999999999999,
            "bin_end": 0.7,
            "count": 18
           }
          ]
         }
        },
        {
         "name": "count",
         "dtype": "int64",
         "stats": {
          "unique_count": 88,
          "nan_count": 0,
          "min": "126",
          "max": "658",
          "histogram": [
           {
            "bin_start": 126,
            "bin_end": 179.2,
            "count": 9
           },
           {
            "bin_start": 179.2,
            "bin_end": 232.4,
            "count": 9
           },
           {
            "bin_start": 232.4,
            "bin_end": 285.6,
            "count": 7
           },
           {
            "bin_start": 285.6,
            "bin_end": 338.8,
            "count": 5
           },
           {
            "bin_start": 338.8,
            "bin_end": 392,
            "count": 6
           },
           {
            "bin_start": 392,
            "bin_end": 445.20000000000005,
            "count": 11
           },
           {
            "bin_start": 445.20000000000005,
            "bin_end": 498.40000000000003,
            "count": 14
           },
           {
            "bin_start": 498.40000000000003,
            "bin_end": 551.6,
            "count": 26
           },
           {
            "bin_start": 551.6,
            "bin_end": 604.8,
            "count": 11
           },
           {
            "bin_start": 604.8,
            "bin_end": 658,
            "count": 2
           }
          ]
         }
        },
        {
         "name": "_deepnote_index_column",
         "dtype": "int64"
        }
       ],
       "rows_top": [
        {
         "en_int": 0,
         "energy": "(0.0, 0.01]",
         "mean": 0,
         "count": 202,
         "_deepnote_index_column": 0
        },
        {
         "en_int": 0.01,
         "energy": "(0.01, 0.02]",
         "mean": 0.007936507936507936,
         "count": 126,
         "_deepnote_index_column": 1
        },
        {
         "en_int": 0.02,
         "energy": "(0.02, 0.03]",
         "mean": 0.06748466257668712,
         "count": 163,
         "_deepnote_index_column": 2
        },
        {
         "en_int": 0.03,
         "energy": "(0.03, 0.04]",
         "mean": 0.02531645569620253,
         "count": 158,
         "_deepnote_index_column": 3
        },
        {
         "en_int": 0.04,
         "energy": "(0.04, 0.05]",
         "mean": 0.03409090909090909,
         "count": 176,
         "_deepnote_index_column": 4
        },
        {
         "en_int": 0.05,
         "energy": "(0.05, 0.06]",
         "mean": 0.025477707006369428,
         "count": 157,
         "_deepnote_index_column": 5
        },
        {
         "en_int": 0.06,
         "energy": "(0.06, 0.07]",
         "mean": 0.0784313725490196,
         "count": 153,
         "_deepnote_index_column": 6
        },
        {
         "en_int": 0.07,
         "energy": "(0.07, 0.08]",
         "mean": 0.06395348837209303,
         "count": 172,
         "_deepnote_index_column": 7
        },
        {
         "en_int": 0.08,
         "energy": "(0.08, 0.09]",
         "mean": 0.07333333333333333,
         "count": 150,
         "_deepnote_index_column": 8
        },
        {
         "en_int": 0.09,
         "energy": "(0.09, 0.1]",
         "mean": 0.0821256038647343,
         "count": 207,
         "_deepnote_index_column": 9
        },
        {
         "en_int": 0.1,
         "energy": "(0.1, 0.11]",
         "mean": 0.05421686746987952,
         "count": 166,
         "_deepnote_index_column": 10
        },
        {
         "en_int": 0.11,
         "energy": "(0.11, 0.12]",
         "mean": 0.09947643979057591,
         "count": 191,
         "_deepnote_index_column": 11
        },
        {
         "en_int": 0.12,
         "energy": "(0.12, 0.13]",
         "mean": 0.1308411214953271,
         "count": 214,
         "_deepnote_index_column": 12
        },
        {
         "en_int": 0.13,
         "energy": "(0.13, 0.14]",
         "mean": 0.15023474178403756,
         "count": 213,
         "_deepnote_index_column": 13
        },
        {
         "en_int": 0.14,
         "energy": "(0.14, 0.15]",
         "mean": 0.16230366492146597,
         "count": 191,
         "_deepnote_index_column": 14
        },
        {
         "en_int": 0.15,
         "energy": "(0.15, 0.16]",
         "mean": 0.16666666666666666,
         "count": 204,
         "_deepnote_index_column": 15
        },
        {
         "en_int": 0.16,
         "energy": "(0.16, 0.17]",
         "mean": 0.21428571428571427,
         "count": 182,
         "_deepnote_index_column": 16
        },
        {
         "en_int": 0.17,
         "energy": "(0.17, 0.18]",
         "mean": 0.1728395061728395,
         "count": 243,
         "_deepnote_index_column": 17
        },
        {
         "en_int": 0.18,
         "energy": "(0.18, 0.19]",
         "mean": 0.23553719008264462,
         "count": 242,
         "_deepnote_index_column": 18
        },
        {
         "en_int": 0.19,
         "energy": "(0.19, 0.2]",
         "mean": 0.21030042918454936,
         "count": 233,
         "_deepnote_index_column": 19
        },
        {
         "en_int": 0.2,
         "energy": "(0.2, 0.21]",
         "mean": 0.2599118942731278,
         "count": 227,
         "_deepnote_index_column": 20
        },
        {
         "en_int": 0.21,
         "energy": "(0.21, 0.22]",
         "mean": 0.25793650793650796,
         "count": 252,
         "_deepnote_index_column": 21
        },
        {
         "en_int": 0.22,
         "energy": "(0.22, 0.23]",
         "mean": 0.25925925925925924,
         "count": 270,
         "_deepnote_index_column": 22
        },
        {
         "en_int": 0.23,
         "energy": "(0.23, 0.24]",
         "mean": 0.27715355805243447,
         "count": 267,
         "_deepnote_index_column": 23
        },
        {
         "en_int": 0.24,
         "energy": "(0.24, 0.25]",
         "mean": 0.2964426877470356,
         "count": 253,
         "_deepnote_index_column": 24
        },
        {
         "en_int": 0.25,
         "energy": "(0.25, 0.26]",
         "mean": 0.35294117647058826,
         "count": 289,
         "_deepnote_index_column": 25
        },
        {
         "en_int": 0.26,
         "energy": "(0.26, 0.27]",
         "mean": 0.2826086956521739,
         "count": 322,
         "_deepnote_index_column": 26
        },
        {
         "en_int": 0.27,
         "energy": "(0.27, 0.28]",
         "mean": 0.3890675241157556,
         "count": 311,
         "_deepnote_index_column": 27
        },
        {
         "en_int": 0.28,
         "energy": "(0.28, 0.29]",
         "mean": 0.3782051282051282,
         "count": 312,
         "_deepnote_index_column": 28
        },
        {
         "en_int": 0.29,
         "energy": "(0.29, 0.3]",
         "mean": 0.3688760806916426,
         "count": 347,
         "_deepnote_index_column": 29
        },
        {
         "en_int": 0.3,
         "energy": "(0.3, 0.31]",
         "mean": 0.42058823529411765,
         "count": 340,
         "_deepnote_index_column": 30
        },
        {
         "en_int": 0.31,
         "energy": "(0.31, 0.32]",
         "mean": 0.39617486338797814,
         "count": 366,
         "_deepnote_index_column": 31
        },
        {
         "en_int": 0.32,
         "energy": "(0.32, 0.33]",
         "mean": 0.3994708994708995,
         "count": 378,
         "_deepnote_index_column": 32
        },
        {
         "en_int": 0.33,
         "energy": "(0.33, 0.34]",
         "mean": 0.4320388349514563,
         "count": 412,
         "_deepnote_index_column": 33
        },
        {
         "en_int": 0.34,
         "energy": "(0.34, 0.35]",
         "mean": 0.4420485175202156,
         "count": 371,
         "_deepnote_index_column": 34
        },
        {
         "en_int": 0.35,
         "energy": "(0.35, 0.36]",
         "mean": 0.47592067988668557,
         "count": 353,
         "_deepnote_index_column": 35
        },
        {
         "en_int": 0.36,
         "energy": "(0.36, 0.37]",
         "mean": 0.510250569476082,
         "count": 439,
         "_deepnote_index_column": 36
        },
        {
         "en_int": 0.37,
         "energy": "(0.37, 0.38]",
         "mean": 0.4872448979591837,
         "count": 392,
         "_deepnote_index_column": 37
        },
        {
         "en_int": 0.38,
         "energy": "(0.38, 0.39]",
         "mean": 0.4630541871921182,
         "count": 406,
         "_deepnote_index_column": 38
        },
        {
         "en_int": 0.39,
         "energy": "(0.39, 0.4]",
         "mean": 0.4788732394366197,
         "count": 426,
         "_deepnote_index_column": 39
        },
        {
         "en_int": 0.4,
         "energy": "(0.4, 0.41]",
         "mean": 0.4830508474576271,
         "count": 472,
         "_deepnote_index_column": 40
        },
        {
         "en_int": 0.41,
         "energy": "(0.41, 0.42]",
         "mean": 0.5373831775700935,
         "count": 428,
         "_deepnote_index_column": 41
        },
        {
         "en_int": 0.42,
         "energy": "(0.42, 0.43]",
         "mean": 0.5138248847926268,
         "count": 434,
         "_deepnote_index_column": 42
        },
        {
         "en_int": 0.43,
         "energy": "(0.43, 0.44]",
         "mean": 0.5741127348643006,
         "count": 479,
         "_deepnote_index_column": 43
        },
        {
         "en_int": 0.44,
         "energy": "(0.44, 0.45]",
         "mean": 0.5463709677419355,
         "count": 496,
         "_deepnote_index_column": 44
        },
        {
         "en_int": 0.45,
         "energy": "(0.45, 0.46]",
         "mean": 0.5594541910331384,
         "count": 513,
         "_deepnote_index_column": 45
        },
        {
         "en_int": 0.46,
         "energy": "(0.46, 0.47]",
         "mean": 0.5164609053497943,
         "count": 486,
         "_deepnote_index_column": 46
        },
        {
         "en_int": 0.47,
         "energy": "(0.47, 0.48]",
         "mean": 0.5728952772073922,
         "count": 487,
         "_deepnote_index_column": 47
        },
        {
         "en_int": 0.48,
         "energy": "(0.48, 0.49]",
         "mean": 0.5341365461847389,
         "count": 498,
         "_deepnote_index_column": 48
        },
        {
         "en_int": 0.49,
         "energy": "(0.49, 0.5]",
         "mean": 0.581981981981982,
         "count": 555,
         "_deepnote_index_column": 49
        },
        {
         "en_int": 0.5,
         "energy": "(0.5, 0.51]",
         "mean": 0.5739910313901345,
         "count": 446,
         "_deepnote_index_column": 50
        },
        {
         "en_int": 0.51,
         "energy": "(0.51, 0.52]",
         "mean": 0.6072106261859582,
         "count": 527,
         "_deepnote_index_column": 51
        },
        {
         "en_int": 0.52,
         "energy": "(0.52, 0.53]",
         "mean": 0.593065693430657,
         "count": 548,
         "_deepnote_index_column": 52
        },
        {
         "en_int": 0.53,
         "energy": "(0.53, 0.54]",
         "mean": 0.6380597014925373,
         "count": 536,
         "_deepnote_index_column": 53
        },
        {
         "en_int": 0.54,
         "energy": "(0.54, 0.55]",
         "mean": 0.6110056925996205,
         "count": 527,
         "_deepnote_index_column": 54
        },
        {
         "en_int": 0.55,
         "energy": "(0.55, 0.56]",
         "mean": 0.5992063492063492,
         "count": 504,
         "_deepnote_index_column": 55
        },
        {
         "en_int": 0.56,
         "energy": "(0.56, 0.57]",
         "mean": 0.6045627376425855,
         "count": 526,
         "_deepnote_index_column": 56
        },
        {
         "en_int": 0.57,
         "energy": "(0.57, 0.58]",
         "mean": 0.6123893805309735,
         "count": 565,
         "_deepnote_index_column": 57
        },
        {
         "en_int": 0.58,
         "energy": "(0.58, 0.59]",
         "mean": 0.6120857699805068,
         "count": 513,
         "_deepnote_index_column": 58
        },
        {
         "en_int": 0.59,
         "energy": "(0.59, 0.6]",
         "mean": 0.6277227722772277,
         "count": 505,
         "_deepnote_index_column": 59
        },
        {
         "en_int": 0.6,
         "energy": "(0.6, 0.61]",
         "mean": 0.6097087378640776,
         "count": 515,
         "_deepnote_index_column": 60
        },
        {
         "en_int": 0.61,
         "energy": "(0.61, 0.62]",
         "mean": 0.6016427104722792,
         "count": 487,
         "_deepnote_index_column": 61
        },
        {
         "en_int": 0.62,
         "energy": "(0.62, 0.63]",
         "mean": 0.676271186440678,
         "count": 590,
         "_deepnote_index_column": 62
        },
        {
         "en_int": 0.63,
         "energy": "(0.63, 0.64]",
         "mean": 0.629126213592233,
         "count": 515,
         "_deepnote_index_column": 63
        },
        {
         "en_int": 0.64,
         "energy": "(0.64, 0.65]",
         "mean": 0.6556521739130434,
         "count": 575,
         "_deepnote_index_column": 64
        },
        {
         "en_int": 0.65,
         "energy": "(0.65, 0.66]",
         "mean": 0.6258992805755396,
         "count": 556,
         "_deepnote_index_column": 65
        },
        {
         "en_int": 0.66,
         "energy": "(0.66, 0.67]",
         "mean": 0.6730769230769231,
         "count": 572,
         "_deepnote_index_column": 66
        },
        {
         "en_int": 0.67,
         "energy": "(0.67, 0.68]",
         "mean": 0.6541095890410958,
         "count": 584,
         "_deepnote_index_column": 67
        },
        {
         "en_int": 0.68,
         "energy": "(0.68, 0.69]",
         "mean": 0.6204379562043796,
         "count": 548,
         "_deepnote_index_column": 68
        },
        {
         "en_int": 0.69,
         "energy": "(0.69, 0.7]",
         "mean": 0.6363636363636364,
         "count": 627,
         "_deepnote_index_column": 69
        },
        {
         "en_int": 0.7,
         "energy": "(0.7, 0.71]",
         "mean": 0.6863117870722434,
         "count": 526,
         "_deepnote_index_column": 70
        },
        {
         "en_int": 0.71,
         "energy": "(0.71, 0.72]",
         "mean": 0.6626712328767124,
         "count": 584,
         "_deepnote_index_column": 71
        },
        {
         "en_int": 0.72,
         "energy": "(0.72, 0.73]",
         "mean": 0.6428571428571429,
         "count": 658,
         "_deepnote_index_column": 72
        },
        {
         "en_int": 0.73,
         "energy": "(0.73, 0.74]",
         "mean": 0.6629001883239172,
         "count": 531,
         "_deepnote_index_column": 73
        },
        {
         "en_int": 0.74,
         "energy": "(0.74, 0.75]",
         "mean": 0.6357267950963222,
         "count": 571,
         "_deepnote_index_column": 74
        },
        {
         "en_int": 0.75,
         "energy": "(0.75, 0.76]",
         "mean": 0.6338582677165354,
         "count": 508,
         "_deepnote_index_column": 75
        },
        {
         "en_int": 0.76,
         "energy": "(0.76, 0.77]",
         "mean": 0.6553784860557769,
         "count": 502,
         "_deepnote_index_column": 76
        },
        {
         "en_int": 0.77,
         "energy": "(0.77, 0.78]",
         "mean": 0.6417004048582996,
         "count": 494,
         "_deepnote_index_column": 77
        },
        {
         "en_int": 0.78,
         "energy": "(0.78, 0.79]",
         "mean": 0.7,
         "count": 530,
         "_deepnote_index_column": 78
        },
        {
         "en_int": 0.79,
         "energy": "(0.79, 0.8]",
         "mean": 0.6555772994129159,
         "count": 511,
         "_deepnote_index_column": 79
        },
        {
         "en_int": 0.8,
         "energy": "(0.8, 0.81]",
         "mean": 0.6971326164874552,
         "count": 558,
         "_deepnote_index_column": 80
        },
        {
         "en_int": 0.81,
         "energy": "(0.81, 0.82]",
         "mean": 0.6495049504950495,
         "count": 505,
         "_deepnote_index_column": 81
        },
        {
         "en_int": 0.82,
         "energy": "(0.82, 0.83]",
         "mean": 0.6139705882352942,
         "count": 544,
         "_deepnote_index_column": 82
        },
        {
         "en_int": 0.83,
         "energy": "(0.83, 0.84]",
         "mean": 0.605683836589698,
         "count": 563,
         "_deepnote_index_column": 83
        },
        {
         "en_int": 0.84,
         "energy": "(0.84, 0.85]",
         "mean": 0.5928270042194093,
         "count": 474,
         "_deepnote_index_column": 84
        },
        {
         "en_int": 0.85,
         "energy": "(0.85, 0.86]",
         "mean": 0.5958762886597938,
         "count": 485,
         "_deepnote_index_column": 85
        },
        {
         "en_int": 0.86,
         "energy": "(0.86, 0.87]",
         "mean": 0.5808823529411765,
         "count": 544,
         "_deepnote_index_column": 86
        },
        {
         "en_int": 0.87,
         "energy": "(0.87, 0.88]",
         "mean": 0.5779467680608364,
         "count": 526,
         "_deepnote_index_column": 87
        },
        {
         "en_int": 0.88,
         "energy": "(0.88, 0.89]",
         "mean": 0.5677290836653387,
         "count": 502,
         "_deepnote_index_column": 88
        },
        {
         "en_int": 0.89,
         "energy": "(0.89, 0.9]",
         "mean": 0.5793991416309013,
         "count": 466,
         "_deepnote_index_column": 89
        },
        {
         "en_int": 0.9,
         "energy": "(0.9, 0.91]",
         "mean": 0.5085106382978724,
         "count": 470,
         "_deepnote_index_column": 90
        },
        {
         "en_int": 0.91,
         "energy": "(0.91, 0.92]",
         "mean": 0.48023715415019763,
         "count": 506,
         "_deepnote_index_column": 91
        },
        {
         "en_int": 0.92,
         "energy": "(0.92, 0.93]",
         "mean": 0.42207792207792205,
         "count": 462,
         "_deepnote_index_column": 92
        },
        {
         "en_int": 0.93,
         "energy": "(0.93, 0.94]",
         "mean": 0.3901098901098901,
         "count": 546,
         "_deepnote_index_column": 93
        },
        {
         "en_int": 0.94,
         "energy": "(0.94, 0.95]",
         "mean": 0.30694980694980695,
         "count": 518,
         "_deepnote_index_column": 94
        },
        {
         "en_int": 0.95,
         "energy": "(0.95, 0.96]",
         "mean": 0.3211009174311927,
         "count": 436,
         "_deepnote_index_column": 95
        },
        {
         "en_int": 0.96,
         "energy": "(0.96, 0.97]",
         "mean": 0.2079207920792079,
         "count": 404,
         "_deepnote_index_column": 96
        },
        {
         "en_int": 0.97,
         "energy": "(0.97, 0.98]",
         "mean": 0.21065989847715735,
         "count": 394,
         "_deepnote_index_column": 97
        },
        {
         "en_int": 0.98,
         "energy": "(0.98, 0.99]",
         "mean": 0.11358024691358025,
         "count": 405,
         "_deepnote_index_column": 98
        },
        {
         "en_int": 0.99,
         "energy": "(0.99, 1.0]",
         "mean": 0.07508532423208192,
         "count": 293,
         "_deepnote_index_column": 99
        }
       ],
       "rows_bottom": null
      },
      "text/plain": "    en_int        energy      mean  count\n0     0.00   (0.0, 0.01]  0.000000    202\n1     0.01  (0.01, 0.02]  0.007937    126\n2     0.02  (0.02, 0.03]  0.067485    163\n3     0.03  (0.03, 0.04]  0.025316    158\n4     0.04  (0.04, 0.05]  0.034091    176\n..     ...           ...       ...    ...\n95    0.95  (0.95, 0.96]  0.321101    436\n96    0.96  (0.96, 0.97]  0.207921    404\n97    0.97  (0.97, 0.98]  0.210660    394\n98    0.98  (0.98, 0.99]  0.113580    405\n99    0.99   (0.99, 1.0]  0.075085    293\n\n[100 rows x 4 columns]",
      "text/html": "<div>\n<style scoped>\n    .dataframe tbody tr th:only-of-type {\n        vertical-align: middle;\n    }\n\n    .dataframe tbody tr th {\n        vertical-align: top;\n    }\n\n    .dataframe thead th {\n        text-align: right;\n    }\n</style>\n<table border=\"1\" class=\"dataframe\">\n  <thead>\n    <tr style=\"text-align: right;\">\n      <th></th>\n      <th>en_int</th>\n      <th>energy</th>\n      <th>mean</th>\n      <th>count</th>\n    </tr>\n  </thead>\n  <tbody>\n    <tr>\n      <th>0</th>\n      <td>0.00</td>\n      <td>(0.0, 0.01]</td>\n      <td>0.000000</td>\n      <td>202</td>\n    </tr>\n    <tr>\n      <th>1</th>\n      <td>0.01</td>\n      <td>(0.01, 0.02]</td>\n      <td>0.007937</td>\n      <td>126</td>\n    </tr>\n    <tr>\n      <th>2</th>\n      <td>0.02</td>\n      <td>(0.02, 0.03]</td>\n      <td>0.067485</td>\n      <td>163</td>\n    </tr>\n    <tr>\n      <th>3</th>\n      <td>0.03</td>\n      <td>(0.03, 0.04]</td>\n      <td>0.025316</td>\n      <td>158</td>\n    </tr>\n    <tr>\n      <th>4</th>\n      <td>0.04</td>\n      <td>(0.04, 0.05]</td>\n      <td>0.034091</td>\n      <td>176</td>\n    </tr>\n    <tr>\n      <th>...</th>\n      <td>...</td>\n      <td>...</td>\n      <td>...</td>\n      <td>...</td>\n    </tr>\n    <tr>\n      <th>95</th>\n      <td>0.95</td>\n      <td>(0.95, 0.96]</td>\n      <td>0.321101</td>\n      <td>436</td>\n    </tr>\n    <tr>\n      <th>96</th>\n      <td>0.96</td>\n      <td>(0.96, 0.97]</td>\n      <td>0.207921</td>\n      <td>404</td>\n    </tr>\n    <tr>\n      <th>97</th>\n      <td>0.97</td>\n      <td>(0.97, 0.98]</td>\n      <td>0.210660</td>\n      <td>394</td>\n    </tr>\n    <tr>\n      <th>98</th>\n      <td>0.98</td>\n      <td>(0.98, 0.99]</td>\n      <td>0.113580</td>\n      <td>405</td>\n    </tr>\n    <tr>\n      <th>99</th>\n      <td>0.99</td>\n      <td>(0.99, 1.0]</td>\n      <td>0.075085</td>\n      <td>293</td>\n    </tr>\n  </tbody>\n</table>\n<p>100 rows × 4 columns</p>\n</div>"
     },
     "metadata": {}
    }
   ]
  },
  {
   "cell_type": "code",
   "source": "",
   "metadata": {
    "tags": [],
    "cell_id": "00017-3a801971-ac6b-45f2-827b-cfcc1e4d59b0",
    "deepnote_to_be_reexecuted": false,
    "source_hash": "b623e53d",
    "execution_start": 1634684355125,
    "execution_millis": 2,
    "deepnote_cell_type": "code"
   },
   "outputs": [],
   "execution_count": 12
  },
  {
   "cell_type": "markdown",
   "source": "#### Add plots with data from overall stat analysis - data\n##### Joey Scarpa\n",
   "metadata": {
    "tags": [],
    "cell_id": "00016-b67a8eea-ae62-4ba5-8aab-74adb3d9e300",
    "deepnote_cell_type": "markdown"
   }
  },
  {
   "cell_type": "code",
   "metadata": {
    "tags": [],
    "cell_id": "00010-caa72ac2-5bdb-4e66-aa39-911fffe296af",
    "deepnote_to_be_reexecuted": false,
    "source_hash": "5ced5140",
    "execution_start": 1634684355132,
    "execution_millis": 2404,
    "deepnote_cell_type": "code"
   },
   "source": "# Proportion of hits versus duration in seconds represented as a bar chart. \nsns.catplot(x = \"ds_int\", y = \"mean\", kind = \"bar\", data = target_prop_by_duration_sliced)\n#pd.crosstab(data['decade'],data['target']).plot.bar(stacked = True)\n",
   "execution_count": 13,
   "outputs": [
    {
     "output_type": "execute_result",
     "execution_count": 13,
     "data": {
      "text/plain": "<seaborn.axisgrid.FacetGrid at 0x7fafed4cc950>"
     },
     "metadata": {}
    },
    {
     "data": {
      "text/plain": "<Figure size 360x360 with 1 Axes>",
      "image/png": "[encoded data removed]"
     },
     "metadata": {
      "needs_background": "light",
      "image/png": {
       "width": 352,
       "height": 352
      }
     },
     "output_type": "display_data"
    }
   ]
  },
  {
   "cell_type": "code",
   "source": "# Energy vs hits\nsns.catplot(x = \"en_int\", y = \"mean\", kind = \"bar\", data = target_prop_by_energy)\n",
   "metadata": {
    "tags": [],
    "cell_id": "00021-890a479a-9633-4328-b6ba-6f44cdd37fa4",
    "deepnote_to_be_reexecuted": false,
    "source_hash": "110f737",
    "execution_start": 1634685240362,
    "execution_millis": 2972,
    "deepnote_cell_type": "code"
   },
   "outputs": [
    {
     "output_type": "execute_result",
     "execution_count": 24,
     "data": {
      "text/plain": "<seaborn.axisgrid.FacetGrid at 0x7fafdb5d6090>"
     },
     "metadata": {}
    },
    {
     "data": {
      "text/plain": "<Figure size 360x360 with 1 Axes>",
      "image/png": "[encoded data removed]"
     },
     "metadata": {
      "needs_background": "light",
      "image/png": {
       "width": 352,
       "height": 352
      }
     },
     "output_type": "display_data"
    }
   ],
   "execution_count": 24
  },
  {
   "cell_type": "markdown",
   "source": "To do",
   "metadata": {
    "tags": [],
    "cell_id": "00016-c1c309b5-97f7-411c-8fa3-8ad9894718a1",
    "deepnote_cell_type": "markdown"
   }
  },
  {
   "cell_type": "code",
   "metadata": {
    "tags": [],
    "cell_id": "00006-04dc1178-3f10-47e7-9731-b7a651ca2e4e",
    "deepnote_to_be_reexecuted": false,
    "source_hash": "92f0540f",
    "execution_start": 1634684357540,
    "execution_millis": 5,
    "deepnote_cell_type": "code"
   },
   "source": "# Hypothesis tests for changes across decades\n# Brainstorm - Tackle on the 24th October",
   "execution_count": 14,
   "outputs": []
  },
  {
   "cell_type": "code",
   "metadata": {
    "tags": [],
    "cell_id": "00008-276ff05d-f941-4067-8a17-879572ff1c17",
    "deepnote_to_be_reexecuted": false,
    "source_hash": "95527b5",
    "execution_start": 1634684357551,
    "execution_millis": 4,
    "deepnote_cell_type": "code"
   },
   "source": "# Linear regression of trends in factors making a hit across each decade (maybe one per column?)\n# Brainstorm - Tackle on the 24th October",
   "execution_count": 15,
   "outputs": []
  },
  {
   "cell_type": "markdown",
   "source": "<a style='text-decoration:none;line-height:16px;display:flex;color:#5B5B62;padding:10px;justify-content:end;' href='https://deepnote.com?utm_source=created-in-deepnote-cell&projectId=162d76af-48a2-4f75-9aef-34643a48aa39' target=\"_blank\">\n<img alt='Created in deepnote.com' style='display:inline;max-height:16px;margin:0px;margin-right:7.5px;' src='data:image/svg+xml;base64,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' > </img>\nCreated in <span style='font-weight:600;margin-left:4px;'>Deepnote</span></a>",
   "metadata": {
    "tags": [],
    "created_in_deepnote_cell": true,
    "deepnote_cell_type": "markdown"
   }
  }
 ],
 "nbformat": 4,
 "nbformat_minor": 2,
 "metadata": {
  "orig_nbformat": 2,
  "deepnote": {
   "is_reactive": false
  },
  "deepnote_notebook_id": "ef748dcb-dea6-4ba1-a78b-7af474d189bd",
  "deepnote_execution_queue": []
 }
}